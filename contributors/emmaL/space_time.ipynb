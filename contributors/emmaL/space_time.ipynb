{
 "cells": [
  {
   "cell_type": "markdown",
   "id": "d35e5845-915d-45db-bcad-135d90929f75",
   "metadata": {
    "tags": [],
    "user_expressions": []
   },
   "source": [
    "# Install"
   ]
  },
  {
   "cell_type": "code",
   "execution_count": 2,
   "id": "d059ee3d-6309-4844-a383-55c322099bf8",
   "metadata": {
    "tags": []
   },
   "outputs": [],
   "source": [
    "%load_ext autoreload\n",
    "%autoreload 2"
   ]
  },
  {
   "cell_type": "code",
   "execution_count": null,
   "id": "a89d8724-e2a6-4162-8453-21e46d9d549a",
   "metadata": {
    "tags": []
   },
   "outputs": [],
   "source": [
    "# %pip install git+https://github.com/friedrichknuth/gtsa.git"
   ]
  },
  {
   "cell_type": "code",
   "execution_count": null,
   "id": "a9fb5f64-0ca4-499d-afa7-115eb8b2784d",
   "metadata": {
    "tags": []
   },
   "outputs": [],
   "source": [
    "# need to rerun everytime restart\n",
    "! pip install tools"
   ]
  },
  {
   "cell_type": "code",
   "execution_count": null,
   "id": "bd534a21-8da8-4816-b994-50740aee501b",
   "metadata": {
    "tags": []
   },
   "outputs": [],
   "source": [
    "# ! pip install"
   ]
  },
  {
   "cell_type": "code",
   "execution_count": 67,
   "id": "6ea49195-b788-4325-a5b1-c4c5aa424858",
   "metadata": {
    "tags": []
   },
   "outputs": [],
   "source": [
    "# !pip install -q condacolab"
   ]
  },
  {
   "cell_type": "code",
   "execution_count": null,
   "id": "229ec176-c6b3-4ebb-aee2-2c0cb1867338",
   "metadata": {
    "tags": []
   },
   "outputs": [],
   "source": [
    "conda install mamba -n base -c conda-forge"
   ]
  },
  {
   "cell_type": "code",
   "execution_count": 1,
   "id": "12548ce2-381c-4d36-a019-aad29a01a247",
   "metadata": {
    "tags": []
   },
   "outputs": [
    {
     "name": "stdout",
     "output_type": "stream",
     "text": [
      "fatal: destination path 'gtsa' already exists and is not an empty directory.\n"
     ]
    }
   ],
   "source": [
    "! git clone https://github.com/friedrichknuth/gtsa.git"
   ]
  },
  {
   "cell_type": "code",
   "execution_count": 7,
   "id": "9dca9a1c-6846-4ed8-9085-f0a953d32248",
   "metadata": {
    "tags": []
   },
   "outputs": [
    {
     "name": "stdout",
     "output_type": "stream",
     "text": [
      "/home/jovyan/geosmart_hackweek/space_time\n"
     ]
    }
   ],
   "source": [
    "! pwd"
   ]
  },
  {
   "cell_type": "code",
   "execution_count": null,
   "id": "ee06b6be-d66e-4899-a448-28c4e34fb707",
   "metadata": {
    "tags": []
   },
   "outputs": [],
   "source": [
    "# takes about 4 min, need to rerun everytime restart\n",
    "%cd ./gtsa\n",
    "! mamba env create -f environment.yml\n",
    "! conda activate gtsa\n",
    "! pip install -e ."
   ]
  },
  {
   "cell_type": "markdown",
   "id": "930f7f36-9453-4185-aa8c-ea4717e1b1f9",
   "metadata": {
    "user_expressions": []
   },
   "source": [
    "# Import data"
   ]
  },
  {
   "cell_type": "code",
   "execution_count": 3,
   "id": "2db1c9a5-2f5a-499e-aeb9-ea4c54f0e8ba",
   "metadata": {
    "tags": []
   },
   "outputs": [],
   "source": [
    "import xarray as xr\n",
    "import tools\n",
    "import pandas as pd\n",
    "import numpy as np\n",
    "import gtsa\n",
    "import matplotlib.pyplot as plt"
   ]
  },
  {
   "cell_type": "code",
   "execution_count": 3,
   "id": "84ad49a8-42ce-4610-856a-e1a6d5654bb0",
   "metadata": {
    "tags": []
   },
   "outputs": [],
   "source": [
    "baker_url = 's3://petrichor/geosmart/baker.zarr/'\n",
    "scg_url = 's3://petrichor/geosmart/scg.zarr/'\n",
    "\n",
    "baker_ds = xr.open_dataset(baker_url, chunks='auto', engine='zarr', storage_options={\"anon\": True}, decode_times=False)\n",
    "scg_ds = xr.open_dataset(scg_url, chunks='auto', engine='zarr', storage_options={\"anon\": True}, decode_times=False)\n",
    "\n",
    "units, reference_date = baker_ds.time.attrs['units'].split('since')\n",
    "baker_ds['time'] = pd.date_range(start=reference_date, periods=baker_ds.sizes['time'], freq='MS')"
   ]
  },
  {
   "cell_type": "code",
   "execution_count": 5,
   "id": "d776db69-8150-423e-a108-ed0e44484f8f",
   "metadata": {
    "tags": []
   },
   "outputs": [
    {
     "data": {
      "text/html": [
       "<div><svg style=\"position: absolute; width: 0; height: 0; overflow: hidden\">\n",
       "<defs>\n",
       "<symbol id=\"icon-database\" viewBox=\"0 0 32 32\">\n",
       "<path d=\"M16 0c-8.837 0-16 2.239-16 5v4c0 2.761 7.163 5 16 5s16-2.239 16-5v-4c0-2.761-7.163-5-16-5z\"></path>\n",
       "<path d=\"M16 17c-8.837 0-16-2.239-16-5v6c0 2.761 7.163 5 16 5s16-2.239 16-5v-6c0 2.761-7.163 5-16 5z\"></path>\n",
       "<path d=\"M16 26c-8.837 0-16-2.239-16-5v6c0 2.761 7.163 5 16 5s16-2.239 16-5v-6c0 2.761-7.163 5-16 5z\"></path>\n",
       "</symbol>\n",
       "<symbol id=\"icon-file-text2\" viewBox=\"0 0 32 32\">\n",
       "<path d=\"M28.681 7.159c-0.694-0.947-1.662-2.053-2.724-3.116s-2.169-2.030-3.116-2.724c-1.612-1.182-2.393-1.319-2.841-1.319h-15.5c-1.378 0-2.5 1.121-2.5 2.5v27c0 1.378 1.122 2.5 2.5 2.5h23c1.378 0 2.5-1.122 2.5-2.5v-19.5c0-0.448-0.137-1.23-1.319-2.841zM24.543 5.457c0.959 0.959 1.712 1.825 2.268 2.543h-4.811v-4.811c0.718 0.556 1.584 1.309 2.543 2.268zM28 29.5c0 0.271-0.229 0.5-0.5 0.5h-23c-0.271 0-0.5-0.229-0.5-0.5v-27c0-0.271 0.229-0.5 0.5-0.5 0 0 15.499-0 15.5 0v7c0 0.552 0.448 1 1 1h7v19.5z\"></path>\n",
       "<path d=\"M23 26h-14c-0.552 0-1-0.448-1-1s0.448-1 1-1h14c0.552 0 1 0.448 1 1s-0.448 1-1 1z\"></path>\n",
       "<path d=\"M23 22h-14c-0.552 0-1-0.448-1-1s0.448-1 1-1h14c0.552 0 1 0.448 1 1s-0.448 1-1 1z\"></path>\n",
       "<path d=\"M23 18h-14c-0.552 0-1-0.448-1-1s0.448-1 1-1h14c0.552 0 1 0.448 1 1s-0.448 1-1 1z\"></path>\n",
       "</symbol>\n",
       "</defs>\n",
       "</svg>\n",
       "<style>/* CSS stylesheet for displaying xarray objects in jupyterlab.\n",
       " *\n",
       " */\n",
       "\n",
       ":root {\n",
       "  --xr-font-color0: var(--jp-content-font-color0, rgba(0, 0, 0, 1));\n",
       "  --xr-font-color2: var(--jp-content-font-color2, rgba(0, 0, 0, 0.54));\n",
       "  --xr-font-color3: var(--jp-content-font-color3, rgba(0, 0, 0, 0.38));\n",
       "  --xr-border-color: var(--jp-border-color2, #e0e0e0);\n",
       "  --xr-disabled-color: var(--jp-layout-color3, #bdbdbd);\n",
       "  --xr-background-color: var(--jp-layout-color0, white);\n",
       "  --xr-background-color-row-even: var(--jp-layout-color1, white);\n",
       "  --xr-background-color-row-odd: var(--jp-layout-color2, #eeeeee);\n",
       "}\n",
       "\n",
       "html[theme=dark],\n",
       "body[data-theme=dark],\n",
       "body.vscode-dark {\n",
       "  --xr-font-color0: rgba(255, 255, 255, 1);\n",
       "  --xr-font-color2: rgba(255, 255, 255, 0.54);\n",
       "  --xr-font-color3: rgba(255, 255, 255, 0.38);\n",
       "  --xr-border-color: #1F1F1F;\n",
       "  --xr-disabled-color: #515151;\n",
       "  --xr-background-color: #111111;\n",
       "  --xr-background-color-row-even: #111111;\n",
       "  --xr-background-color-row-odd: #313131;\n",
       "}\n",
       "\n",
       ".xr-wrap {\n",
       "  display: block !important;\n",
       "  min-width: 300px;\n",
       "  max-width: 700px;\n",
       "}\n",
       "\n",
       ".xr-text-repr-fallback {\n",
       "  /* fallback to plain text repr when CSS is not injected (untrusted notebook) */\n",
       "  display: none;\n",
       "}\n",
       "\n",
       ".xr-header {\n",
       "  padding-top: 6px;\n",
       "  padding-bottom: 6px;\n",
       "  margin-bottom: 4px;\n",
       "  border-bottom: solid 1px var(--xr-border-color);\n",
       "}\n",
       "\n",
       ".xr-header > div,\n",
       ".xr-header > ul {\n",
       "  display: inline;\n",
       "  margin-top: 0;\n",
       "  margin-bottom: 0;\n",
       "}\n",
       "\n",
       ".xr-obj-type,\n",
       ".xr-array-name {\n",
       "  margin-left: 2px;\n",
       "  margin-right: 10px;\n",
       "}\n",
       "\n",
       ".xr-obj-type {\n",
       "  color: var(--xr-font-color2);\n",
       "}\n",
       "\n",
       ".xr-sections {\n",
       "  padding-left: 0 !important;\n",
       "  display: grid;\n",
       "  grid-template-columns: 150px auto auto 1fr 20px 20px;\n",
       "}\n",
       "\n",
       ".xr-section-item {\n",
       "  display: contents;\n",
       "}\n",
       "\n",
       ".xr-section-item input {\n",
       "  display: none;\n",
       "}\n",
       "\n",
       ".xr-section-item input + label {\n",
       "  color: var(--xr-disabled-color);\n",
       "}\n",
       "\n",
       ".xr-section-item input:enabled + label {\n",
       "  cursor: pointer;\n",
       "  color: var(--xr-font-color2);\n",
       "}\n",
       "\n",
       ".xr-section-item input:enabled + label:hover {\n",
       "  color: var(--xr-font-color0);\n",
       "}\n",
       "\n",
       ".xr-section-summary {\n",
       "  grid-column: 1;\n",
       "  color: var(--xr-font-color2);\n",
       "  font-weight: 500;\n",
       "}\n",
       "\n",
       ".xr-section-summary > span {\n",
       "  display: inline-block;\n",
       "  padding-left: 0.5em;\n",
       "}\n",
       "\n",
       ".xr-section-summary-in:disabled + label {\n",
       "  color: var(--xr-font-color2);\n",
       "}\n",
       "\n",
       ".xr-section-summary-in + label:before {\n",
       "  display: inline-block;\n",
       "  content: '►';\n",
       "  font-size: 11px;\n",
       "  width: 15px;\n",
       "  text-align: center;\n",
       "}\n",
       "\n",
       ".xr-section-summary-in:disabled + label:before {\n",
       "  color: var(--xr-disabled-color);\n",
       "}\n",
       "\n",
       ".xr-section-summary-in:checked + label:before {\n",
       "  content: '▼';\n",
       "}\n",
       "\n",
       ".xr-section-summary-in:checked + label > span {\n",
       "  display: none;\n",
       "}\n",
       "\n",
       ".xr-section-summary,\n",
       ".xr-section-inline-details {\n",
       "  padding-top: 4px;\n",
       "  padding-bottom: 4px;\n",
       "}\n",
       "\n",
       ".xr-section-inline-details {\n",
       "  grid-column: 2 / -1;\n",
       "}\n",
       "\n",
       ".xr-section-details {\n",
       "  display: none;\n",
       "  grid-column: 1 / -1;\n",
       "  margin-bottom: 5px;\n",
       "}\n",
       "\n",
       ".xr-section-summary-in:checked ~ .xr-section-details {\n",
       "  display: contents;\n",
       "}\n",
       "\n",
       ".xr-array-wrap {\n",
       "  grid-column: 1 / -1;\n",
       "  display: grid;\n",
       "  grid-template-columns: 20px auto;\n",
       "}\n",
       "\n",
       ".xr-array-wrap > label {\n",
       "  grid-column: 1;\n",
       "  vertical-align: top;\n",
       "}\n",
       "\n",
       ".xr-preview {\n",
       "  color: var(--xr-font-color3);\n",
       "}\n",
       "\n",
       ".xr-array-preview,\n",
       ".xr-array-data {\n",
       "  padding: 0 5px !important;\n",
       "  grid-column: 2;\n",
       "}\n",
       "\n",
       ".xr-array-data,\n",
       ".xr-array-in:checked ~ .xr-array-preview {\n",
       "  display: none;\n",
       "}\n",
       "\n",
       ".xr-array-in:checked ~ .xr-array-data,\n",
       ".xr-array-preview {\n",
       "  display: inline-block;\n",
       "}\n",
       "\n",
       ".xr-dim-list {\n",
       "  display: inline-block !important;\n",
       "  list-style: none;\n",
       "  padding: 0 !important;\n",
       "  margin: 0;\n",
       "}\n",
       "\n",
       ".xr-dim-list li {\n",
       "  display: inline-block;\n",
       "  padding: 0;\n",
       "  margin: 0;\n",
       "}\n",
       "\n",
       ".xr-dim-list:before {\n",
       "  content: '(';\n",
       "}\n",
       "\n",
       ".xr-dim-list:after {\n",
       "  content: ')';\n",
       "}\n",
       "\n",
       ".xr-dim-list li:not(:last-child):after {\n",
       "  content: ',';\n",
       "  padding-right: 5px;\n",
       "}\n",
       "\n",
       ".xr-has-index {\n",
       "  font-weight: bold;\n",
       "}\n",
       "\n",
       ".xr-var-list,\n",
       ".xr-var-item {\n",
       "  display: contents;\n",
       "}\n",
       "\n",
       ".xr-var-item > div,\n",
       ".xr-var-item label,\n",
       ".xr-var-item > .xr-var-name span {\n",
       "  background-color: var(--xr-background-color-row-even);\n",
       "  margin-bottom: 0;\n",
       "}\n",
       "\n",
       ".xr-var-item > .xr-var-name:hover span {\n",
       "  padding-right: 5px;\n",
       "}\n",
       "\n",
       ".xr-var-list > li:nth-child(odd) > div,\n",
       ".xr-var-list > li:nth-child(odd) > label,\n",
       ".xr-var-list > li:nth-child(odd) > .xr-var-name span {\n",
       "  background-color: var(--xr-background-color-row-odd);\n",
       "}\n",
       "\n",
       ".xr-var-name {\n",
       "  grid-column: 1;\n",
       "}\n",
       "\n",
       ".xr-var-dims {\n",
       "  grid-column: 2;\n",
       "}\n",
       "\n",
       ".xr-var-dtype {\n",
       "  grid-column: 3;\n",
       "  text-align: right;\n",
       "  color: var(--xr-font-color2);\n",
       "}\n",
       "\n",
       ".xr-var-preview {\n",
       "  grid-column: 4;\n",
       "}\n",
       "\n",
       ".xr-index-preview {\n",
       "  grid-column: 2 / 5;\n",
       "  color: var(--xr-font-color2);\n",
       "}\n",
       "\n",
       ".xr-var-name,\n",
       ".xr-var-dims,\n",
       ".xr-var-dtype,\n",
       ".xr-preview,\n",
       ".xr-attrs dt {\n",
       "  white-space: nowrap;\n",
       "  overflow: hidden;\n",
       "  text-overflow: ellipsis;\n",
       "  padding-right: 10px;\n",
       "}\n",
       "\n",
       ".xr-var-name:hover,\n",
       ".xr-var-dims:hover,\n",
       ".xr-var-dtype:hover,\n",
       ".xr-attrs dt:hover {\n",
       "  overflow: visible;\n",
       "  width: auto;\n",
       "  z-index: 1;\n",
       "}\n",
       "\n",
       ".xr-var-attrs,\n",
       ".xr-var-data,\n",
       ".xr-index-data {\n",
       "  display: none;\n",
       "  background-color: var(--xr-background-color) !important;\n",
       "  padding-bottom: 5px !important;\n",
       "}\n",
       "\n",
       ".xr-var-attrs-in:checked ~ .xr-var-attrs,\n",
       ".xr-var-data-in:checked ~ .xr-var-data,\n",
       ".xr-index-data-in:checked ~ .xr-index-data {\n",
       "  display: block;\n",
       "}\n",
       "\n",
       ".xr-var-data > table {\n",
       "  float: right;\n",
       "}\n",
       "\n",
       ".xr-var-name span,\n",
       ".xr-var-data,\n",
       ".xr-index-name div,\n",
       ".xr-index-data,\n",
       ".xr-attrs {\n",
       "  padding-left: 25px !important;\n",
       "}\n",
       "\n",
       ".xr-attrs,\n",
       ".xr-var-attrs,\n",
       ".xr-var-data,\n",
       ".xr-index-data {\n",
       "  grid-column: 1 / -1;\n",
       "}\n",
       "\n",
       "dl.xr-attrs {\n",
       "  padding: 0;\n",
       "  margin: 0;\n",
       "  display: grid;\n",
       "  grid-template-columns: 125px auto;\n",
       "}\n",
       "\n",
       ".xr-attrs dt,\n",
       ".xr-attrs dd {\n",
       "  padding: 0;\n",
       "  margin: 0;\n",
       "  float: left;\n",
       "  padding-right: 10px;\n",
       "  width: auto;\n",
       "}\n",
       "\n",
       ".xr-attrs dt {\n",
       "  font-weight: normal;\n",
       "  grid-column: 1;\n",
       "}\n",
       "\n",
       ".xr-attrs dt:hover span {\n",
       "  display: inline-block;\n",
       "  background: var(--xr-background-color);\n",
       "  padding-right: 10px;\n",
       "}\n",
       "\n",
       ".xr-attrs dd {\n",
       "  grid-column: 2;\n",
       "  white-space: pre-wrap;\n",
       "  word-break: break-all;\n",
       "}\n",
       "\n",
       ".xr-icon-database,\n",
       ".xr-icon-file-text2,\n",
       ".xr-no-icon {\n",
       "  display: inline-block;\n",
       "  vertical-align: middle;\n",
       "  width: 1em;\n",
       "  height: 1.5em !important;\n",
       "  stroke-width: 0;\n",
       "  stroke: currentColor;\n",
       "  fill: currentColor;\n",
       "}\n",
       "</style><pre class='xr-text-repr-fallback'>&lt;xarray.DataArray &#x27;band1&#x27; (time: 55, y: 12089, x: 11383)&gt;\n",
       "dask.array&lt;open_dataset-band1, shape=(55, 12089, 11383), dtype=float32, chunksize=(55, 712, 670), chunktype=numpy.ndarray&gt;\n",
       "Coordinates:\n",
       "  * time     (time) datetime64[ns] 1947-10-01 1947-11-01 ... 1952-04-01\n",
       "  * x        (x) float64 5.809e+05 5.809e+05 5.809e+05 ... 5.923e+05 5.923e+05\n",
       "  * y        (y) float64 5.409e+06 5.409e+06 5.409e+06 ... 5.397e+06 5.397e+06\n",
       "Attributes:\n",
       "    AREA_OR_POINT:  Area\n",
       "    grid_mapping:   spatial_ref</pre><div class='xr-wrap' style='display:none'><div class='xr-header'><div class='xr-obj-type'>xarray.DataArray</div><div class='xr-array-name'>'band1'</div><ul class='xr-dim-list'><li><span class='xr-has-index'>time</span>: 55</li><li><span class='xr-has-index'>y</span>: 12089</li><li><span class='xr-has-index'>x</span>: 11383</li></ul></div><ul class='xr-sections'><li class='xr-section-item'><div class='xr-array-wrap'><input id='section-d7d1809d-b90b-4c35-8e38-b234f363d954' class='xr-array-in' type='checkbox' checked><label for='section-d7d1809d-b90b-4c35-8e38-b234f363d954' title='Show/hide data repr'><svg class='icon xr-icon-database'><use xlink:href='#icon-database'></use></svg></label><div class='xr-array-preview xr-preview'><span>dask.array&lt;chunksize=(55, 712, 670), meta=np.ndarray&gt;</span></div><div class='xr-array-data'><table>\n",
       "    <tr>\n",
       "        <td>\n",
       "            <table style=\"border-collapse: collapse;\">\n",
       "                <thead>\n",
       "                    <tr>\n",
       "                        <td> </td>\n",
       "                        <th> Array </th>\n",
       "                        <th> Chunk </th>\n",
       "                    </tr>\n",
       "                </thead>\n",
       "                <tbody>\n",
       "                    \n",
       "                    <tr>\n",
       "                        <th> Bytes </th>\n",
       "                        <td> 28.19 GiB </td>\n",
       "                        <td> 100.09 MiB </td>\n",
       "                    </tr>\n",
       "                    \n",
       "                    <tr>\n",
       "                        <th> Shape </th>\n",
       "                        <td> (55, 12089, 11383) </td>\n",
       "                        <td> (55, 712, 670) </td>\n",
       "                    </tr>\n",
       "                    <tr>\n",
       "                        <th> Dask graph </th>\n",
       "                        <td colspan=\"2\"> 289 chunks in 2 graph layers </td>\n",
       "                    </tr>\n",
       "                    <tr>\n",
       "                        <th> Data type </th>\n",
       "                        <td colspan=\"2\"> float32 numpy.ndarray </td>\n",
       "                    </tr>\n",
       "                </tbody>\n",
       "            </table>\n",
       "        </td>\n",
       "        <td>\n",
       "        <svg width=\"187\" height=\"184\" style=\"stroke:rgb(0,0,0);stroke-width:1\" >\n",
       "\n",
       "  <!-- Horizontal lines -->\n",
       "  <line x1=\"10\" y1=\"0\" x2=\"24\" y2=\"14\" style=\"stroke-width:2\" />\n",
       "  <line x1=\"10\" y1=\"7\" x2=\"24\" y2=\"22\" />\n",
       "  <line x1=\"10\" y1=\"14\" x2=\"24\" y2=\"29\" />\n",
       "  <line x1=\"10\" y1=\"21\" x2=\"24\" y2=\"36\" />\n",
       "  <line x1=\"10\" y1=\"28\" x2=\"24\" y2=\"43\" />\n",
       "  <line x1=\"10\" y1=\"35\" x2=\"24\" y2=\"50\" />\n",
       "  <line x1=\"10\" y1=\"42\" x2=\"24\" y2=\"57\" />\n",
       "  <line x1=\"10\" y1=\"49\" x2=\"24\" y2=\"64\" />\n",
       "  <line x1=\"10\" y1=\"56\" x2=\"24\" y2=\"71\" />\n",
       "  <line x1=\"10\" y1=\"63\" x2=\"24\" y2=\"78\" />\n",
       "  <line x1=\"10\" y1=\"70\" x2=\"24\" y2=\"85\" />\n",
       "  <line x1=\"10\" y1=\"77\" x2=\"24\" y2=\"92\" />\n",
       "  <line x1=\"10\" y1=\"84\" x2=\"24\" y2=\"99\" />\n",
       "  <line x1=\"10\" y1=\"91\" x2=\"24\" y2=\"106\" />\n",
       "  <line x1=\"10\" y1=\"98\" x2=\"24\" y2=\"113\" />\n",
       "  <line x1=\"10\" y1=\"106\" x2=\"24\" y2=\"120\" />\n",
       "  <line x1=\"10\" y1=\"113\" x2=\"24\" y2=\"128\" />\n",
       "  <line x1=\"10\" y1=\"120\" x2=\"24\" y2=\"134\" style=\"stroke-width:2\" />\n",
       "\n",
       "  <!-- Vertical lines -->\n",
       "  <line x1=\"10\" y1=\"0\" x2=\"10\" y2=\"120\" style=\"stroke-width:2\" />\n",
       "  <line x1=\"24\" y1=\"14\" x2=\"24\" y2=\"134\" style=\"stroke-width:2\" />\n",
       "\n",
       "  <!-- Colored Rectangle -->\n",
       "  <polygon points=\"10.0,0.0 24.9485979497544,14.9485979497544 24.9485979497544,134.9485979497544 10.0,120.0\" style=\"fill:#ECB172A0;stroke-width:0\"/>\n",
       "\n",
       "  <!-- Horizontal lines -->\n",
       "  <line x1=\"10\" y1=\"0\" x2=\"122\" y2=\"0\" style=\"stroke-width:2\" />\n",
       "  <line x1=\"24\" y1=\"14\" x2=\"137\" y2=\"14\" style=\"stroke-width:2\" />\n",
       "\n",
       "  <!-- Vertical lines -->\n",
       "  <line x1=\"10\" y1=\"0\" x2=\"24\" y2=\"14\" style=\"stroke-width:2\" />\n",
       "  <line x1=\"16\" y1=\"0\" x2=\"31\" y2=\"14\" />\n",
       "  <line x1=\"23\" y1=\"0\" x2=\"38\" y2=\"14\" />\n",
       "  <line x1=\"29\" y1=\"0\" x2=\"44\" y2=\"14\" />\n",
       "  <line x1=\"36\" y1=\"0\" x2=\"51\" y2=\"14\" />\n",
       "  <line x1=\"43\" y1=\"0\" x2=\"58\" y2=\"14\" />\n",
       "  <line x1=\"49\" y1=\"0\" x2=\"64\" y2=\"14\" />\n",
       "  <line x1=\"56\" y1=\"0\" x2=\"71\" y2=\"14\" />\n",
       "  <line x1=\"63\" y1=\"0\" x2=\"78\" y2=\"14\" />\n",
       "  <line x1=\"69\" y1=\"0\" x2=\"84\" y2=\"14\" />\n",
       "  <line x1=\"76\" y1=\"0\" x2=\"91\" y2=\"14\" />\n",
       "  <line x1=\"83\" y1=\"0\" x2=\"98\" y2=\"14\" />\n",
       "  <line x1=\"89\" y1=\"0\" x2=\"104\" y2=\"14\" />\n",
       "  <line x1=\"96\" y1=\"0\" x2=\"111\" y2=\"14\" />\n",
       "  <line x1=\"103\" y1=\"0\" x2=\"118\" y2=\"14\" />\n",
       "  <line x1=\"109\" y1=\"0\" x2=\"124\" y2=\"14\" />\n",
       "  <line x1=\"116\" y1=\"0\" x2=\"131\" y2=\"14\" />\n",
       "  <line x1=\"122\" y1=\"0\" x2=\"137\" y2=\"14\" style=\"stroke-width:2\" />\n",
       "\n",
       "  <!-- Colored Rectangle -->\n",
       "  <polygon points=\"10.0,0.0 122.99197617668955,0.0 137.94057412644395,14.9485979497544 24.9485979497544,14.9485979497544\" style=\"fill:#ECB172A0;stroke-width:0\"/>\n",
       "\n",
       "  <!-- Horizontal lines -->\n",
       "  <line x1=\"24\" y1=\"14\" x2=\"137\" y2=\"14\" style=\"stroke-width:2\" />\n",
       "  <line x1=\"24\" y1=\"22\" x2=\"137\" y2=\"22\" />\n",
       "  <line x1=\"24\" y1=\"29\" x2=\"137\" y2=\"29\" />\n",
       "  <line x1=\"24\" y1=\"36\" x2=\"137\" y2=\"36\" />\n",
       "  <line x1=\"24\" y1=\"43\" x2=\"137\" y2=\"43\" />\n",
       "  <line x1=\"24\" y1=\"50\" x2=\"137\" y2=\"50\" />\n",
       "  <line x1=\"24\" y1=\"57\" x2=\"137\" y2=\"57\" />\n",
       "  <line x1=\"24\" y1=\"64\" x2=\"137\" y2=\"64\" />\n",
       "  <line x1=\"24\" y1=\"71\" x2=\"137\" y2=\"71\" />\n",
       "  <line x1=\"24\" y1=\"78\" x2=\"137\" y2=\"78\" />\n",
       "  <line x1=\"24\" y1=\"85\" x2=\"137\" y2=\"85\" />\n",
       "  <line x1=\"24\" y1=\"92\" x2=\"137\" y2=\"92\" />\n",
       "  <line x1=\"24\" y1=\"99\" x2=\"137\" y2=\"99\" />\n",
       "  <line x1=\"24\" y1=\"106\" x2=\"137\" y2=\"106\" />\n",
       "  <line x1=\"24\" y1=\"113\" x2=\"137\" y2=\"113\" />\n",
       "  <line x1=\"24\" y1=\"120\" x2=\"137\" y2=\"120\" />\n",
       "  <line x1=\"24\" y1=\"128\" x2=\"137\" y2=\"128\" />\n",
       "  <line x1=\"24\" y1=\"134\" x2=\"137\" y2=\"134\" style=\"stroke-width:2\" />\n",
       "\n",
       "  <!-- Vertical lines -->\n",
       "  <line x1=\"24\" y1=\"14\" x2=\"24\" y2=\"134\" style=\"stroke-width:2\" />\n",
       "  <line x1=\"31\" y1=\"14\" x2=\"31\" y2=\"134\" />\n",
       "  <line x1=\"38\" y1=\"14\" x2=\"38\" y2=\"134\" />\n",
       "  <line x1=\"44\" y1=\"14\" x2=\"44\" y2=\"134\" />\n",
       "  <line x1=\"51\" y1=\"14\" x2=\"51\" y2=\"134\" />\n",
       "  <line x1=\"58\" y1=\"14\" x2=\"58\" y2=\"134\" />\n",
       "  <line x1=\"64\" y1=\"14\" x2=\"64\" y2=\"134\" />\n",
       "  <line x1=\"71\" y1=\"14\" x2=\"71\" y2=\"134\" />\n",
       "  <line x1=\"78\" y1=\"14\" x2=\"78\" y2=\"134\" />\n",
       "  <line x1=\"84\" y1=\"14\" x2=\"84\" y2=\"134\" />\n",
       "  <line x1=\"91\" y1=\"14\" x2=\"91\" y2=\"134\" />\n",
       "  <line x1=\"98\" y1=\"14\" x2=\"98\" y2=\"134\" />\n",
       "  <line x1=\"104\" y1=\"14\" x2=\"104\" y2=\"134\" />\n",
       "  <line x1=\"111\" y1=\"14\" x2=\"111\" y2=\"134\" />\n",
       "  <line x1=\"118\" y1=\"14\" x2=\"118\" y2=\"134\" />\n",
       "  <line x1=\"124\" y1=\"14\" x2=\"124\" y2=\"134\" />\n",
       "  <line x1=\"131\" y1=\"14\" x2=\"131\" y2=\"134\" />\n",
       "  <line x1=\"137\" y1=\"14\" x2=\"137\" y2=\"134\" style=\"stroke-width:2\" />\n",
       "\n",
       "  <!-- Colored Rectangle -->\n",
       "  <polygon points=\"24.9485979497544,14.9485979497544 137.94057412644395,14.9485979497544 137.94057412644395,134.9485979497544 24.9485979497544,134.9485979497544\" style=\"fill:#ECB172A0;stroke-width:0\"/>\n",
       "\n",
       "  <!-- Text -->\n",
       "  <text x=\"81.444586\" y=\"154.948598\" font-size=\"1.0rem\" font-weight=\"100\" text-anchor=\"middle\" >11383</text>\n",
       "  <text x=\"157.940574\" y=\"74.948598\" font-size=\"1.0rem\" font-weight=\"100\" text-anchor=\"middle\" transform=\"rotate(-90,157.940574,74.948598)\">12089</text>\n",
       "  <text x=\"7.474299\" y=\"147.474299\" font-size=\"1.0rem\" font-weight=\"100\" text-anchor=\"middle\" transform=\"rotate(45,7.474299,147.474299)\">55</text>\n",
       "</svg>\n",
       "        </td>\n",
       "    </tr>\n",
       "</table></div></div></li><li class='xr-section-item'><input id='section-19ce778d-e162-4e96-966b-ffd24961b31a' class='xr-section-summary-in' type='checkbox'  checked><label for='section-19ce778d-e162-4e96-966b-ffd24961b31a' class='xr-section-summary' >Coordinates: <span>(3)</span></label><div class='xr-section-inline-details'></div><div class='xr-section-details'><ul class='xr-var-list'><li class='xr-var-item'><div class='xr-var-name'><span class='xr-has-index'>time</span></div><div class='xr-var-dims'>(time)</div><div class='xr-var-dtype'>datetime64[ns]</div><div class='xr-var-preview xr-preview'>1947-10-01 ... 1952-04-01</div><input id='attrs-92bb7b8e-7030-42cc-b1f8-824b2e7dd6fb' class='xr-var-attrs-in' type='checkbox' disabled><label for='attrs-92bb7b8e-7030-42cc-b1f8-824b2e7dd6fb' title='Show/Hide attributes'><svg class='icon xr-icon-file-text2'><use xlink:href='#icon-file-text2'></use></svg></label><input id='data-6bad5f5f-5f07-4a57-9da1-fb9582fae951' class='xr-var-data-in' type='checkbox'><label for='data-6bad5f5f-5f07-4a57-9da1-fb9582fae951' title='Show/Hide data repr'><svg class='icon xr-icon-database'><use xlink:href='#icon-database'></use></svg></label><div class='xr-var-attrs'><dl class='xr-attrs'></dl></div><div class='xr-var-data'><pre>array([&#x27;1947-10-01T00:00:00.000000000&#x27;, &#x27;1947-11-01T00:00:00.000000000&#x27;,\n",
       "       &#x27;1947-12-01T00:00:00.000000000&#x27;, &#x27;1948-01-01T00:00:00.000000000&#x27;,\n",
       "       &#x27;1948-02-01T00:00:00.000000000&#x27;, &#x27;1948-03-01T00:00:00.000000000&#x27;,\n",
       "       &#x27;1948-04-01T00:00:00.000000000&#x27;, &#x27;1948-05-01T00:00:00.000000000&#x27;,\n",
       "       &#x27;1948-06-01T00:00:00.000000000&#x27;, &#x27;1948-07-01T00:00:00.000000000&#x27;,\n",
       "       &#x27;1948-08-01T00:00:00.000000000&#x27;, &#x27;1948-09-01T00:00:00.000000000&#x27;,\n",
       "       &#x27;1948-10-01T00:00:00.000000000&#x27;, &#x27;1948-11-01T00:00:00.000000000&#x27;,\n",
       "       &#x27;1948-12-01T00:00:00.000000000&#x27;, &#x27;1949-01-01T00:00:00.000000000&#x27;,\n",
       "       &#x27;1949-02-01T00:00:00.000000000&#x27;, &#x27;1949-03-01T00:00:00.000000000&#x27;,\n",
       "       &#x27;1949-04-01T00:00:00.000000000&#x27;, &#x27;1949-05-01T00:00:00.000000000&#x27;,\n",
       "       &#x27;1949-06-01T00:00:00.000000000&#x27;, &#x27;1949-07-01T00:00:00.000000000&#x27;,\n",
       "       &#x27;1949-08-01T00:00:00.000000000&#x27;, &#x27;1949-09-01T00:00:00.000000000&#x27;,\n",
       "       &#x27;1949-10-01T00:00:00.000000000&#x27;, &#x27;1949-11-01T00:00:00.000000000&#x27;,\n",
       "       &#x27;1949-12-01T00:00:00.000000000&#x27;, &#x27;1950-01-01T00:00:00.000000000&#x27;,\n",
       "       &#x27;1950-02-01T00:00:00.000000000&#x27;, &#x27;1950-03-01T00:00:00.000000000&#x27;,\n",
       "       &#x27;1950-04-01T00:00:00.000000000&#x27;, &#x27;1950-05-01T00:00:00.000000000&#x27;,\n",
       "       &#x27;1950-06-01T00:00:00.000000000&#x27;, &#x27;1950-07-01T00:00:00.000000000&#x27;,\n",
       "       &#x27;1950-08-01T00:00:00.000000000&#x27;, &#x27;1950-09-01T00:00:00.000000000&#x27;,\n",
       "       &#x27;1950-10-01T00:00:00.000000000&#x27;, &#x27;1950-11-01T00:00:00.000000000&#x27;,\n",
       "       &#x27;1950-12-01T00:00:00.000000000&#x27;, &#x27;1951-01-01T00:00:00.000000000&#x27;,\n",
       "       &#x27;1951-02-01T00:00:00.000000000&#x27;, &#x27;1951-03-01T00:00:00.000000000&#x27;,\n",
       "       &#x27;1951-04-01T00:00:00.000000000&#x27;, &#x27;1951-05-01T00:00:00.000000000&#x27;,\n",
       "       &#x27;1951-06-01T00:00:00.000000000&#x27;, &#x27;1951-07-01T00:00:00.000000000&#x27;,\n",
       "       &#x27;1951-08-01T00:00:00.000000000&#x27;, &#x27;1951-09-01T00:00:00.000000000&#x27;,\n",
       "       &#x27;1951-10-01T00:00:00.000000000&#x27;, &#x27;1951-11-01T00:00:00.000000000&#x27;,\n",
       "       &#x27;1951-12-01T00:00:00.000000000&#x27;, &#x27;1952-01-01T00:00:00.000000000&#x27;,\n",
       "       &#x27;1952-02-01T00:00:00.000000000&#x27;, &#x27;1952-03-01T00:00:00.000000000&#x27;,\n",
       "       &#x27;1952-04-01T00:00:00.000000000&#x27;], dtype=&#x27;datetime64[ns]&#x27;)</pre></div></li><li class='xr-var-item'><div class='xr-var-name'><span class='xr-has-index'>x</span></div><div class='xr-var-dims'>(x)</div><div class='xr-var-dtype'>float64</div><div class='xr-var-preview xr-preview'>5.809e+05 5.809e+05 ... 5.923e+05</div><input id='attrs-306ac07e-1d8f-425e-90af-be93c15b96fc' class='xr-var-attrs-in' type='checkbox' ><label for='attrs-306ac07e-1d8f-425e-90af-be93c15b96fc' title='Show/Hide attributes'><svg class='icon xr-icon-file-text2'><use xlink:href='#icon-file-text2'></use></svg></label><input id='data-b3d89483-cf64-469b-b6c3-b2131c41171c' class='xr-var-data-in' type='checkbox'><label for='data-b3d89483-cf64-469b-b6c3-b2131c41171c' title='Show/Hide data repr'><svg class='icon xr-icon-database'><use xlink:href='#icon-database'></use></svg></label><div class='xr-var-attrs'><dl class='xr-attrs'><dt><span>axis :</span></dt><dd>X</dd><dt><span>long_name :</span></dt><dd>x coordinate of projection</dd><dt><span>standard_name :</span></dt><dd>projection_x_coordinate</dd><dt><span>units :</span></dt><dd>metre</dd></dl></div><div class='xr-var-data'><pre>array([580947.438712, 580948.438712, 580949.438712, ..., 592327.438712,\n",
       "       592328.438712, 592329.438712])</pre></div></li><li class='xr-var-item'><div class='xr-var-name'><span class='xr-has-index'>y</span></div><div class='xr-var-dims'>(y)</div><div class='xr-var-dtype'>float64</div><div class='xr-var-preview xr-preview'>5.409e+06 5.409e+06 ... 5.397e+06</div><input id='attrs-de455aa6-cc80-4741-bb36-8beecb689d9c' class='xr-var-attrs-in' type='checkbox' ><label for='attrs-de455aa6-cc80-4741-bb36-8beecb689d9c' title='Show/Hide attributes'><svg class='icon xr-icon-file-text2'><use xlink:href='#icon-file-text2'></use></svg></label><input id='data-8de68deb-4976-4cf8-a478-f6a05b8d6711' class='xr-var-data-in' type='checkbox'><label for='data-8de68deb-4976-4cf8-a478-f6a05b8d6711' title='Show/Hide data repr'><svg class='icon xr-icon-database'><use xlink:href='#icon-database'></use></svg></label><div class='xr-var-attrs'><dl class='xr-attrs'><dt><span>axis :</span></dt><dd>Y</dd><dt><span>long_name :</span></dt><dd>y coordinate of projection</dd><dt><span>standard_name :</span></dt><dd>projection_y_coordinate</dd><dt><span>units :</span></dt><dd>metre</dd></dl></div><div class='xr-var-data'><pre>array([5409448.566349, 5409447.566349, 5409446.566349, ..., 5397362.566349,\n",
       "       5397361.566349, 5397360.566349])</pre></div></li></ul></div></li><li class='xr-section-item'><input id='section-3b21a8bd-a582-4151-9717-bb39ff6a9865' class='xr-section-summary-in' type='checkbox'  ><label for='section-3b21a8bd-a582-4151-9717-bb39ff6a9865' class='xr-section-summary' >Indexes: <span>(3)</span></label><div class='xr-section-inline-details'></div><div class='xr-section-details'><ul class='xr-var-list'><li class='xr-var-item'><div class='xr-index-name'><div>time</div></div><div class='xr-index-preview'>PandasIndex</div><div></div><input id='index-10c911c1-fda9-4bf2-9cd9-a32bf08e4718' class='xr-index-data-in' type='checkbox'/><label for='index-10c911c1-fda9-4bf2-9cd9-a32bf08e4718' title='Show/Hide index repr'><svg class='icon xr-icon-database'><use xlink:href='#icon-database'></use></svg></label><div class='xr-index-data'><pre>PandasIndex(DatetimeIndex([&#x27;1947-10-01&#x27;, &#x27;1947-11-01&#x27;, &#x27;1947-12-01&#x27;, &#x27;1948-01-01&#x27;,\n",
       "               &#x27;1948-02-01&#x27;, &#x27;1948-03-01&#x27;, &#x27;1948-04-01&#x27;, &#x27;1948-05-01&#x27;,\n",
       "               &#x27;1948-06-01&#x27;, &#x27;1948-07-01&#x27;, &#x27;1948-08-01&#x27;, &#x27;1948-09-01&#x27;,\n",
       "               &#x27;1948-10-01&#x27;, &#x27;1948-11-01&#x27;, &#x27;1948-12-01&#x27;, &#x27;1949-01-01&#x27;,\n",
       "               &#x27;1949-02-01&#x27;, &#x27;1949-03-01&#x27;, &#x27;1949-04-01&#x27;, &#x27;1949-05-01&#x27;,\n",
       "               &#x27;1949-06-01&#x27;, &#x27;1949-07-01&#x27;, &#x27;1949-08-01&#x27;, &#x27;1949-09-01&#x27;,\n",
       "               &#x27;1949-10-01&#x27;, &#x27;1949-11-01&#x27;, &#x27;1949-12-01&#x27;, &#x27;1950-01-01&#x27;,\n",
       "               &#x27;1950-02-01&#x27;, &#x27;1950-03-01&#x27;, &#x27;1950-04-01&#x27;, &#x27;1950-05-01&#x27;,\n",
       "               &#x27;1950-06-01&#x27;, &#x27;1950-07-01&#x27;, &#x27;1950-08-01&#x27;, &#x27;1950-09-01&#x27;,\n",
       "               &#x27;1950-10-01&#x27;, &#x27;1950-11-01&#x27;, &#x27;1950-12-01&#x27;, &#x27;1951-01-01&#x27;,\n",
       "               &#x27;1951-02-01&#x27;, &#x27;1951-03-01&#x27;, &#x27;1951-04-01&#x27;, &#x27;1951-05-01&#x27;,\n",
       "               &#x27;1951-06-01&#x27;, &#x27;1951-07-01&#x27;, &#x27;1951-08-01&#x27;, &#x27;1951-09-01&#x27;,\n",
       "               &#x27;1951-10-01&#x27;, &#x27;1951-11-01&#x27;, &#x27;1951-12-01&#x27;, &#x27;1952-01-01&#x27;,\n",
       "               &#x27;1952-02-01&#x27;, &#x27;1952-03-01&#x27;, &#x27;1952-04-01&#x27;],\n",
       "              dtype=&#x27;datetime64[ns]&#x27;, name=&#x27;time&#x27;, freq=&#x27;MS&#x27;))</pre></div></li><li class='xr-var-item'><div class='xr-index-name'><div>x</div></div><div class='xr-index-preview'>PandasIndex</div><div></div><input id='index-070d61b5-0d4f-43f5-9996-654036034751' class='xr-index-data-in' type='checkbox'/><label for='index-070d61b5-0d4f-43f5-9996-654036034751' title='Show/Hide index repr'><svg class='icon xr-icon-database'><use xlink:href='#icon-database'></use></svg></label><div class='xr-index-data'><pre>PandasIndex(Float64Index([580947.4387119232, 580948.4387119232, 580949.4387119232,\n",
       "              580950.4387119232, 580951.4387119232, 580952.4387119232,\n",
       "              580953.4387119232, 580954.4387119232, 580955.4387119232,\n",
       "              580956.4387119232,\n",
       "              ...\n",
       "              592320.4387119232, 592321.4387119232, 592322.4387119232,\n",
       "              592323.4387119232, 592324.4387119232, 592325.4387119232,\n",
       "              592326.4387119232, 592327.4387119232, 592328.4387119232,\n",
       "              592329.4387119232],\n",
       "             dtype=&#x27;float64&#x27;, name=&#x27;x&#x27;, length=11383))</pre></div></li><li class='xr-var-item'><div class='xr-index-name'><div>y</div></div><div class='xr-index-preview'>PandasIndex</div><div></div><input id='index-df434ec7-8c55-482c-a40f-51e5a2b2262b' class='xr-index-data-in' type='checkbox'/><label for='index-df434ec7-8c55-482c-a40f-51e5a2b2262b' title='Show/Hide index repr'><svg class='icon xr-icon-database'><use xlink:href='#icon-database'></use></svg></label><div class='xr-index-data'><pre>PandasIndex(Float64Index([5409448.566348841, 5409447.566348841, 5409446.566348841,\n",
       "              5409445.566348841, 5409444.566348841, 5409443.566348841,\n",
       "              5409442.566348841, 5409441.566348841, 5409440.566348841,\n",
       "              5409439.566348841,\n",
       "              ...\n",
       "              5397369.566348841, 5397368.566348841, 5397367.566348841,\n",
       "              5397366.566348841, 5397365.566348841, 5397364.566348841,\n",
       "              5397363.566348841, 5397362.566348841, 5397361.566348841,\n",
       "              5397360.566348841],\n",
       "             dtype=&#x27;float64&#x27;, name=&#x27;y&#x27;, length=12089))</pre></div></li></ul></div></li><li class='xr-section-item'><input id='section-b16c5ec5-eb1b-4ddc-93e7-b8e77d05794a' class='xr-section-summary-in' type='checkbox'  checked><label for='section-b16c5ec5-eb1b-4ddc-93e7-b8e77d05794a' class='xr-section-summary' >Attributes: <span>(2)</span></label><div class='xr-section-inline-details'></div><div class='xr-section-details'><dl class='xr-attrs'><dt><span>AREA_OR_POINT :</span></dt><dd>Area</dd><dt><span>grid_mapping :</span></dt><dd>spatial_ref</dd></dl></div></li></ul></div></div>"
      ],
      "text/plain": [
       "<xarray.DataArray 'band1' (time: 55, y: 12089, x: 11383)>\n",
       "dask.array<open_dataset-band1, shape=(55, 12089, 11383), dtype=float32, chunksize=(55, 712, 670), chunktype=numpy.ndarray>\n",
       "Coordinates:\n",
       "  * time     (time) datetime64[ns] 1947-10-01 1947-11-01 ... 1952-04-01\n",
       "  * x        (x) float64 5.809e+05 5.809e+05 5.809e+05 ... 5.923e+05 5.923e+05\n",
       "  * y        (y) float64 5.409e+06 5.409e+06 5.409e+06 ... 5.397e+06 5.397e+06\n",
       "Attributes:\n",
       "    AREA_OR_POINT:  Area\n",
       "    grid_mapping:   spatial_ref"
      ]
     },
     "execution_count": 5,
     "metadata": {},
     "output_type": "execute_result"
    }
   ],
   "source": [
    "baker_ds.chunk(\"auto\", balance=True)['band1']"
   ]
  },
  {
   "cell_type": "markdown",
   "id": "d0bfae57-e9e7-4ea3-b030-7aff1d124be1",
   "metadata": {
    "user_expressions": []
   },
   "source": [
    "## Downscale or subset data set"
   ]
  },
  {
   "cell_type": "code",
   "execution_count": 19,
   "id": "3749e7f6-8602-41fc-a6f7-db61ba2ac538",
   "metadata": {
    "tags": []
   },
   "outputs": [],
   "source": [
    "# small_baker_ds = baker_ds\n",
    "# small_baker_ds=small_baker_ds.coarsen(x=150,y=150,time=5,boundary='trim').mean()"
   ]
  },
  {
   "cell_type": "code",
   "execution_count": 4,
   "id": "526c0209-3be1-44a7-bdda-0f059d0dc92f",
   "metadata": {
    "tags": []
   },
   "outputs": [
    {
     "name": "stdout",
     "output_type": "stream",
     "text": [
      "Dataset center: 586638.4387119232, 5403404.566348841\n",
      "Test column size: 200.0 by 200.0 in spatial coordinate units.\n",
      "No CRS defined.\n",
      "Using xarray slicing to select data along spatial coordinate axes.\n"
     ]
    },
    {
     "name": "stderr",
     "output_type": "stream",
     "text": [
      "/home/jovyan/geosmart_hackweek/space_time/gtsa/gtsa/geospatial.py:78: FutureWarning: Unlike other reduction functions (e.g. `skew`, `kurtosis`), the default behavior of `mode` typically preserves the axis it acts along. In SciPy 1.11.0, this behavior will change: the default value of `keepdims` will become False, the `axis` over which the statistic is taken will be eliminated, and the value None will no longer be accepted. Set `keepdims` to True or False to avoid this warning.\n",
      "  xmode = np.abs(scipy.stats.mode(ds[\"y\"].diff(\"y\"))[0])\n",
      "/home/jovyan/geosmart_hackweek/space_time/gtsa/gtsa/geospatial.py:79: FutureWarning: Unlike other reduction functions (e.g. `skew`, `kurtosis`), the default behavior of `mode` typically preserves the axis it acts along. In SciPy 1.11.0, this behavior will change: the default value of `keepdims` will become False, the `axis` over which the statistic is taken will be eliminated, and the value None will no longer be accepted. Set `keepdims` to True or False to avoid this warning.\n",
      "  ymode = np.abs(scipy.stats.mode(ds[\"y\"].diff(\"y\"))[0])\n"
     ]
    }
   ],
   "source": [
    "# if it says gtsa.geospatial not found, just restart and try again\n",
    "small_baker_ds = gtsa.geospatial.extract_dataset_center_window(baker_ds, size = 200)"
   ]
  },
  {
   "cell_type": "code",
   "execution_count": 7,
   "id": "e2e83135-3e27-4c8d-907f-3433b321af76",
   "metadata": {
    "tags": []
   },
   "outputs": [
    {
     "data": {
      "text/html": [
       "<div><svg style=\"position: absolute; width: 0; height: 0; overflow: hidden\">\n",
       "<defs>\n",
       "<symbol id=\"icon-database\" viewBox=\"0 0 32 32\">\n",
       "<path d=\"M16 0c-8.837 0-16 2.239-16 5v4c0 2.761 7.163 5 16 5s16-2.239 16-5v-4c0-2.761-7.163-5-16-5z\"></path>\n",
       "<path d=\"M16 17c-8.837 0-16-2.239-16-5v6c0 2.761 7.163 5 16 5s16-2.239 16-5v-6c0 2.761-7.163 5-16 5z\"></path>\n",
       "<path d=\"M16 26c-8.837 0-16-2.239-16-5v6c0 2.761 7.163 5 16 5s16-2.239 16-5v-6c0 2.761-7.163 5-16 5z\"></path>\n",
       "</symbol>\n",
       "<symbol id=\"icon-file-text2\" viewBox=\"0 0 32 32\">\n",
       "<path d=\"M28.681 7.159c-0.694-0.947-1.662-2.053-2.724-3.116s-2.169-2.030-3.116-2.724c-1.612-1.182-2.393-1.319-2.841-1.319h-15.5c-1.378 0-2.5 1.121-2.5 2.5v27c0 1.378 1.122 2.5 2.5 2.5h23c1.378 0 2.5-1.122 2.5-2.5v-19.5c0-0.448-0.137-1.23-1.319-2.841zM24.543 5.457c0.959 0.959 1.712 1.825 2.268 2.543h-4.811v-4.811c0.718 0.556 1.584 1.309 2.543 2.268zM28 29.5c0 0.271-0.229 0.5-0.5 0.5h-23c-0.271 0-0.5-0.229-0.5-0.5v-27c0-0.271 0.229-0.5 0.5-0.5 0 0 15.499-0 15.5 0v7c0 0.552 0.448 1 1 1h7v19.5z\"></path>\n",
       "<path d=\"M23 26h-14c-0.552 0-1-0.448-1-1s0.448-1 1-1h14c0.552 0 1 0.448 1 1s-0.448 1-1 1z\"></path>\n",
       "<path d=\"M23 22h-14c-0.552 0-1-0.448-1-1s0.448-1 1-1h14c0.552 0 1 0.448 1 1s-0.448 1-1 1z\"></path>\n",
       "<path d=\"M23 18h-14c-0.552 0-1-0.448-1-1s0.448-1 1-1h14c0.552 0 1 0.448 1 1s-0.448 1-1 1z\"></path>\n",
       "</symbol>\n",
       "</defs>\n",
       "</svg>\n",
       "<style>/* CSS stylesheet for displaying xarray objects in jupyterlab.\n",
       " *\n",
       " */\n",
       "\n",
       ":root {\n",
       "  --xr-font-color0: var(--jp-content-font-color0, rgba(0, 0, 0, 1));\n",
       "  --xr-font-color2: var(--jp-content-font-color2, rgba(0, 0, 0, 0.54));\n",
       "  --xr-font-color3: var(--jp-content-font-color3, rgba(0, 0, 0, 0.38));\n",
       "  --xr-border-color: var(--jp-border-color2, #e0e0e0);\n",
       "  --xr-disabled-color: var(--jp-layout-color3, #bdbdbd);\n",
       "  --xr-background-color: var(--jp-layout-color0, white);\n",
       "  --xr-background-color-row-even: var(--jp-layout-color1, white);\n",
       "  --xr-background-color-row-odd: var(--jp-layout-color2, #eeeeee);\n",
       "}\n",
       "\n",
       "html[theme=dark],\n",
       "body[data-theme=dark],\n",
       "body.vscode-dark {\n",
       "  --xr-font-color0: rgba(255, 255, 255, 1);\n",
       "  --xr-font-color2: rgba(255, 255, 255, 0.54);\n",
       "  --xr-font-color3: rgba(255, 255, 255, 0.38);\n",
       "  --xr-border-color: #1F1F1F;\n",
       "  --xr-disabled-color: #515151;\n",
       "  --xr-background-color: #111111;\n",
       "  --xr-background-color-row-even: #111111;\n",
       "  --xr-background-color-row-odd: #313131;\n",
       "}\n",
       "\n",
       ".xr-wrap {\n",
       "  display: block !important;\n",
       "  min-width: 300px;\n",
       "  max-width: 700px;\n",
       "}\n",
       "\n",
       ".xr-text-repr-fallback {\n",
       "  /* fallback to plain text repr when CSS is not injected (untrusted notebook) */\n",
       "  display: none;\n",
       "}\n",
       "\n",
       ".xr-header {\n",
       "  padding-top: 6px;\n",
       "  padding-bottom: 6px;\n",
       "  margin-bottom: 4px;\n",
       "  border-bottom: solid 1px var(--xr-border-color);\n",
       "}\n",
       "\n",
       ".xr-header > div,\n",
       ".xr-header > ul {\n",
       "  display: inline;\n",
       "  margin-top: 0;\n",
       "  margin-bottom: 0;\n",
       "}\n",
       "\n",
       ".xr-obj-type,\n",
       ".xr-array-name {\n",
       "  margin-left: 2px;\n",
       "  margin-right: 10px;\n",
       "}\n",
       "\n",
       ".xr-obj-type {\n",
       "  color: var(--xr-font-color2);\n",
       "}\n",
       "\n",
       ".xr-sections {\n",
       "  padding-left: 0 !important;\n",
       "  display: grid;\n",
       "  grid-template-columns: 150px auto auto 1fr 20px 20px;\n",
       "}\n",
       "\n",
       ".xr-section-item {\n",
       "  display: contents;\n",
       "}\n",
       "\n",
       ".xr-section-item input {\n",
       "  display: none;\n",
       "}\n",
       "\n",
       ".xr-section-item input + label {\n",
       "  color: var(--xr-disabled-color);\n",
       "}\n",
       "\n",
       ".xr-section-item input:enabled + label {\n",
       "  cursor: pointer;\n",
       "  color: var(--xr-font-color2);\n",
       "}\n",
       "\n",
       ".xr-section-item input:enabled + label:hover {\n",
       "  color: var(--xr-font-color0);\n",
       "}\n",
       "\n",
       ".xr-section-summary {\n",
       "  grid-column: 1;\n",
       "  color: var(--xr-font-color2);\n",
       "  font-weight: 500;\n",
       "}\n",
       "\n",
       ".xr-section-summary > span {\n",
       "  display: inline-block;\n",
       "  padding-left: 0.5em;\n",
       "}\n",
       "\n",
       ".xr-section-summary-in:disabled + label {\n",
       "  color: var(--xr-font-color2);\n",
       "}\n",
       "\n",
       ".xr-section-summary-in + label:before {\n",
       "  display: inline-block;\n",
       "  content: '►';\n",
       "  font-size: 11px;\n",
       "  width: 15px;\n",
       "  text-align: center;\n",
       "}\n",
       "\n",
       ".xr-section-summary-in:disabled + label:before {\n",
       "  color: var(--xr-disabled-color);\n",
       "}\n",
       "\n",
       ".xr-section-summary-in:checked + label:before {\n",
       "  content: '▼';\n",
       "}\n",
       "\n",
       ".xr-section-summary-in:checked + label > span {\n",
       "  display: none;\n",
       "}\n",
       "\n",
       ".xr-section-summary,\n",
       ".xr-section-inline-details {\n",
       "  padding-top: 4px;\n",
       "  padding-bottom: 4px;\n",
       "}\n",
       "\n",
       ".xr-section-inline-details {\n",
       "  grid-column: 2 / -1;\n",
       "}\n",
       "\n",
       ".xr-section-details {\n",
       "  display: none;\n",
       "  grid-column: 1 / -1;\n",
       "  margin-bottom: 5px;\n",
       "}\n",
       "\n",
       ".xr-section-summary-in:checked ~ .xr-section-details {\n",
       "  display: contents;\n",
       "}\n",
       "\n",
       ".xr-array-wrap {\n",
       "  grid-column: 1 / -1;\n",
       "  display: grid;\n",
       "  grid-template-columns: 20px auto;\n",
       "}\n",
       "\n",
       ".xr-array-wrap > label {\n",
       "  grid-column: 1;\n",
       "  vertical-align: top;\n",
       "}\n",
       "\n",
       ".xr-preview {\n",
       "  color: var(--xr-font-color3);\n",
       "}\n",
       "\n",
       ".xr-array-preview,\n",
       ".xr-array-data {\n",
       "  padding: 0 5px !important;\n",
       "  grid-column: 2;\n",
       "}\n",
       "\n",
       ".xr-array-data,\n",
       ".xr-array-in:checked ~ .xr-array-preview {\n",
       "  display: none;\n",
       "}\n",
       "\n",
       ".xr-array-in:checked ~ .xr-array-data,\n",
       ".xr-array-preview {\n",
       "  display: inline-block;\n",
       "}\n",
       "\n",
       ".xr-dim-list {\n",
       "  display: inline-block !important;\n",
       "  list-style: none;\n",
       "  padding: 0 !important;\n",
       "  margin: 0;\n",
       "}\n",
       "\n",
       ".xr-dim-list li {\n",
       "  display: inline-block;\n",
       "  padding: 0;\n",
       "  margin: 0;\n",
       "}\n",
       "\n",
       ".xr-dim-list:before {\n",
       "  content: '(';\n",
       "}\n",
       "\n",
       ".xr-dim-list:after {\n",
       "  content: ')';\n",
       "}\n",
       "\n",
       ".xr-dim-list li:not(:last-child):after {\n",
       "  content: ',';\n",
       "  padding-right: 5px;\n",
       "}\n",
       "\n",
       ".xr-has-index {\n",
       "  font-weight: bold;\n",
       "}\n",
       "\n",
       ".xr-var-list,\n",
       ".xr-var-item {\n",
       "  display: contents;\n",
       "}\n",
       "\n",
       ".xr-var-item > div,\n",
       ".xr-var-item label,\n",
       ".xr-var-item > .xr-var-name span {\n",
       "  background-color: var(--xr-background-color-row-even);\n",
       "  margin-bottom: 0;\n",
       "}\n",
       "\n",
       ".xr-var-item > .xr-var-name:hover span {\n",
       "  padding-right: 5px;\n",
       "}\n",
       "\n",
       ".xr-var-list > li:nth-child(odd) > div,\n",
       ".xr-var-list > li:nth-child(odd) > label,\n",
       ".xr-var-list > li:nth-child(odd) > .xr-var-name span {\n",
       "  background-color: var(--xr-background-color-row-odd);\n",
       "}\n",
       "\n",
       ".xr-var-name {\n",
       "  grid-column: 1;\n",
       "}\n",
       "\n",
       ".xr-var-dims {\n",
       "  grid-column: 2;\n",
       "}\n",
       "\n",
       ".xr-var-dtype {\n",
       "  grid-column: 3;\n",
       "  text-align: right;\n",
       "  color: var(--xr-font-color2);\n",
       "}\n",
       "\n",
       ".xr-var-preview {\n",
       "  grid-column: 4;\n",
       "}\n",
       "\n",
       ".xr-index-preview {\n",
       "  grid-column: 2 / 5;\n",
       "  color: var(--xr-font-color2);\n",
       "}\n",
       "\n",
       ".xr-var-name,\n",
       ".xr-var-dims,\n",
       ".xr-var-dtype,\n",
       ".xr-preview,\n",
       ".xr-attrs dt {\n",
       "  white-space: nowrap;\n",
       "  overflow: hidden;\n",
       "  text-overflow: ellipsis;\n",
       "  padding-right: 10px;\n",
       "}\n",
       "\n",
       ".xr-var-name:hover,\n",
       ".xr-var-dims:hover,\n",
       ".xr-var-dtype:hover,\n",
       ".xr-attrs dt:hover {\n",
       "  overflow: visible;\n",
       "  width: auto;\n",
       "  z-index: 1;\n",
       "}\n",
       "\n",
       ".xr-var-attrs,\n",
       ".xr-var-data,\n",
       ".xr-index-data {\n",
       "  display: none;\n",
       "  background-color: var(--xr-background-color) !important;\n",
       "  padding-bottom: 5px !important;\n",
       "}\n",
       "\n",
       ".xr-var-attrs-in:checked ~ .xr-var-attrs,\n",
       ".xr-var-data-in:checked ~ .xr-var-data,\n",
       ".xr-index-data-in:checked ~ .xr-index-data {\n",
       "  display: block;\n",
       "}\n",
       "\n",
       ".xr-var-data > table {\n",
       "  float: right;\n",
       "}\n",
       "\n",
       ".xr-var-name span,\n",
       ".xr-var-data,\n",
       ".xr-index-name div,\n",
       ".xr-index-data,\n",
       ".xr-attrs {\n",
       "  padding-left: 25px !important;\n",
       "}\n",
       "\n",
       ".xr-attrs,\n",
       ".xr-var-attrs,\n",
       ".xr-var-data,\n",
       ".xr-index-data {\n",
       "  grid-column: 1 / -1;\n",
       "}\n",
       "\n",
       "dl.xr-attrs {\n",
       "  padding: 0;\n",
       "  margin: 0;\n",
       "  display: grid;\n",
       "  grid-template-columns: 125px auto;\n",
       "}\n",
       "\n",
       ".xr-attrs dt,\n",
       ".xr-attrs dd {\n",
       "  padding: 0;\n",
       "  margin: 0;\n",
       "  float: left;\n",
       "  padding-right: 10px;\n",
       "  width: auto;\n",
       "}\n",
       "\n",
       ".xr-attrs dt {\n",
       "  font-weight: normal;\n",
       "  grid-column: 1;\n",
       "}\n",
       "\n",
       ".xr-attrs dt:hover span {\n",
       "  display: inline-block;\n",
       "  background: var(--xr-background-color);\n",
       "  padding-right: 10px;\n",
       "}\n",
       "\n",
       ".xr-attrs dd {\n",
       "  grid-column: 2;\n",
       "  white-space: pre-wrap;\n",
       "  word-break: break-all;\n",
       "}\n",
       "\n",
       ".xr-icon-database,\n",
       ".xr-icon-file-text2,\n",
       ".xr-no-icon {\n",
       "  display: inline-block;\n",
       "  vertical-align: middle;\n",
       "  width: 1em;\n",
       "  height: 1.5em !important;\n",
       "  stroke-width: 0;\n",
       "  stroke: currentColor;\n",
       "  fill: currentColor;\n",
       "}\n",
       "</style><pre class='xr-text-repr-fallback'>&lt;xarray.Dataset&gt;\n",
       "Dimensions:      (time: 55, y: 201, x: 201)\n",
       "Coordinates:\n",
       "  * time         (time) datetime64[ns] 1947-10-01 1947-11-01 ... 1952-04-01\n",
       "  * x            (x) float64 5.865e+05 5.865e+05 ... 5.867e+05 5.867e+05\n",
       "  * y            (y) float64 5.404e+06 5.404e+06 ... 5.403e+06 5.403e+06\n",
       "Data variables:\n",
       "    band1        (time, y, x) float32 dask.array&lt;chunksize=(55, 201, 201), meta=np.ndarray&gt;\n",
       "    spatial_ref  int64 ...\n",
       "Attributes:\n",
       "    AREA_OR_POINT:  Area\n",
       "    add_offset:     0.0\n",
       "    crs:            PROJCS[&quot;WGS 84 / UTM zone 10N&quot;,GEOGCS[&quot;WGS 84&quot;,DATUM[&quot;WGS...\n",
       "    scale_factor:   1.0</pre><div class='xr-wrap' style='display:none'><div class='xr-header'><div class='xr-obj-type'>xarray.Dataset</div></div><ul class='xr-sections'><li class='xr-section-item'><input id='section-c6853214-c101-498e-9ade-0775750431d2' class='xr-section-summary-in' type='checkbox' disabled ><label for='section-c6853214-c101-498e-9ade-0775750431d2' class='xr-section-summary'  title='Expand/collapse section'>Dimensions:</label><div class='xr-section-inline-details'><ul class='xr-dim-list'><li><span class='xr-has-index'>time</span>: 55</li><li><span class='xr-has-index'>y</span>: 201</li><li><span class='xr-has-index'>x</span>: 201</li></ul></div><div class='xr-section-details'></div></li><li class='xr-section-item'><input id='section-cf4607e2-34f1-469f-ab27-0c4d53fd300a' class='xr-section-summary-in' type='checkbox'  checked><label for='section-cf4607e2-34f1-469f-ab27-0c4d53fd300a' class='xr-section-summary' >Coordinates: <span>(3)</span></label><div class='xr-section-inline-details'></div><div class='xr-section-details'><ul class='xr-var-list'><li class='xr-var-item'><div class='xr-var-name'><span class='xr-has-index'>time</span></div><div class='xr-var-dims'>(time)</div><div class='xr-var-dtype'>datetime64[ns]</div><div class='xr-var-preview xr-preview'>1947-10-01 ... 1952-04-01</div><input id='attrs-4cf1c5b5-bb30-427f-a796-1277dc8e0b2b' class='xr-var-attrs-in' type='checkbox' disabled><label for='attrs-4cf1c5b5-bb30-427f-a796-1277dc8e0b2b' title='Show/Hide attributes'><svg class='icon xr-icon-file-text2'><use xlink:href='#icon-file-text2'></use></svg></label><input id='data-56c67086-595b-4ed2-b265-db235b4b3083' class='xr-var-data-in' type='checkbox'><label for='data-56c67086-595b-4ed2-b265-db235b4b3083' title='Show/Hide data repr'><svg class='icon xr-icon-database'><use xlink:href='#icon-database'></use></svg></label><div class='xr-var-attrs'><dl class='xr-attrs'></dl></div><div class='xr-var-data'><pre>array([&#x27;1947-10-01T00:00:00.000000000&#x27;, &#x27;1947-11-01T00:00:00.000000000&#x27;,\n",
       "       &#x27;1947-12-01T00:00:00.000000000&#x27;, &#x27;1948-01-01T00:00:00.000000000&#x27;,\n",
       "       &#x27;1948-02-01T00:00:00.000000000&#x27;, &#x27;1948-03-01T00:00:00.000000000&#x27;,\n",
       "       &#x27;1948-04-01T00:00:00.000000000&#x27;, &#x27;1948-05-01T00:00:00.000000000&#x27;,\n",
       "       &#x27;1948-06-01T00:00:00.000000000&#x27;, &#x27;1948-07-01T00:00:00.000000000&#x27;,\n",
       "       &#x27;1948-08-01T00:00:00.000000000&#x27;, &#x27;1948-09-01T00:00:00.000000000&#x27;,\n",
       "       &#x27;1948-10-01T00:00:00.000000000&#x27;, &#x27;1948-11-01T00:00:00.000000000&#x27;,\n",
       "       &#x27;1948-12-01T00:00:00.000000000&#x27;, &#x27;1949-01-01T00:00:00.000000000&#x27;,\n",
       "       &#x27;1949-02-01T00:00:00.000000000&#x27;, &#x27;1949-03-01T00:00:00.000000000&#x27;,\n",
       "       &#x27;1949-04-01T00:00:00.000000000&#x27;, &#x27;1949-05-01T00:00:00.000000000&#x27;,\n",
       "       &#x27;1949-06-01T00:00:00.000000000&#x27;, &#x27;1949-07-01T00:00:00.000000000&#x27;,\n",
       "       &#x27;1949-08-01T00:00:00.000000000&#x27;, &#x27;1949-09-01T00:00:00.000000000&#x27;,\n",
       "       &#x27;1949-10-01T00:00:00.000000000&#x27;, &#x27;1949-11-01T00:00:00.000000000&#x27;,\n",
       "       &#x27;1949-12-01T00:00:00.000000000&#x27;, &#x27;1950-01-01T00:00:00.000000000&#x27;,\n",
       "       &#x27;1950-02-01T00:00:00.000000000&#x27;, &#x27;1950-03-01T00:00:00.000000000&#x27;,\n",
       "       &#x27;1950-04-01T00:00:00.000000000&#x27;, &#x27;1950-05-01T00:00:00.000000000&#x27;,\n",
       "       &#x27;1950-06-01T00:00:00.000000000&#x27;, &#x27;1950-07-01T00:00:00.000000000&#x27;,\n",
       "       &#x27;1950-08-01T00:00:00.000000000&#x27;, &#x27;1950-09-01T00:00:00.000000000&#x27;,\n",
       "       &#x27;1950-10-01T00:00:00.000000000&#x27;, &#x27;1950-11-01T00:00:00.000000000&#x27;,\n",
       "       &#x27;1950-12-01T00:00:00.000000000&#x27;, &#x27;1951-01-01T00:00:00.000000000&#x27;,\n",
       "       &#x27;1951-02-01T00:00:00.000000000&#x27;, &#x27;1951-03-01T00:00:00.000000000&#x27;,\n",
       "       &#x27;1951-04-01T00:00:00.000000000&#x27;, &#x27;1951-05-01T00:00:00.000000000&#x27;,\n",
       "       &#x27;1951-06-01T00:00:00.000000000&#x27;, &#x27;1951-07-01T00:00:00.000000000&#x27;,\n",
       "       &#x27;1951-08-01T00:00:00.000000000&#x27;, &#x27;1951-09-01T00:00:00.000000000&#x27;,\n",
       "       &#x27;1951-10-01T00:00:00.000000000&#x27;, &#x27;1951-11-01T00:00:00.000000000&#x27;,\n",
       "       &#x27;1951-12-01T00:00:00.000000000&#x27;, &#x27;1952-01-01T00:00:00.000000000&#x27;,\n",
       "       &#x27;1952-02-01T00:00:00.000000000&#x27;, &#x27;1952-03-01T00:00:00.000000000&#x27;,\n",
       "       &#x27;1952-04-01T00:00:00.000000000&#x27;], dtype=&#x27;datetime64[ns]&#x27;)</pre></div></li><li class='xr-var-item'><div class='xr-var-name'><span class='xr-has-index'>x</span></div><div class='xr-var-dims'>(x)</div><div class='xr-var-dtype'>float64</div><div class='xr-var-preview xr-preview'>5.865e+05 5.865e+05 ... 5.867e+05</div><input id='attrs-182465aa-88f4-48b3-a0e1-07077e5de856' class='xr-var-attrs-in' type='checkbox' ><label for='attrs-182465aa-88f4-48b3-a0e1-07077e5de856' title='Show/Hide attributes'><svg class='icon xr-icon-file-text2'><use xlink:href='#icon-file-text2'></use></svg></label><input id='data-f44a4845-05f5-444c-9773-992c054e2e64' class='xr-var-data-in' type='checkbox'><label for='data-f44a4845-05f5-444c-9773-992c054e2e64' title='Show/Hide data repr'><svg class='icon xr-icon-database'><use xlink:href='#icon-database'></use></svg></label><div class='xr-var-attrs'><dl class='xr-attrs'><dt><span>axis :</span></dt><dd>X</dd><dt><span>long_name :</span></dt><dd>x coordinate of projection</dd><dt><span>standard_name :</span></dt><dd>projection_x_coordinate</dd><dt><span>units :</span></dt><dd>metre</dd></dl></div><div class='xr-var-data'><pre>array([586538.438712, 586539.438712, 586540.438712, ..., 586736.438712,\n",
       "       586737.438712, 586738.438712])</pre></div></li><li class='xr-var-item'><div class='xr-var-name'><span class='xr-has-index'>y</span></div><div class='xr-var-dims'>(y)</div><div class='xr-var-dtype'>float64</div><div class='xr-var-preview xr-preview'>5.404e+06 5.404e+06 ... 5.403e+06</div><input id='attrs-47b6f0e9-dcc8-4a3c-9bbf-dd18dd7db22c' class='xr-var-attrs-in' type='checkbox' ><label for='attrs-47b6f0e9-dcc8-4a3c-9bbf-dd18dd7db22c' title='Show/Hide attributes'><svg class='icon xr-icon-file-text2'><use xlink:href='#icon-file-text2'></use></svg></label><input id='data-1f32037c-7b03-44b5-9cd8-ed678b5b3fc4' class='xr-var-data-in' type='checkbox'><label for='data-1f32037c-7b03-44b5-9cd8-ed678b5b3fc4' title='Show/Hide data repr'><svg class='icon xr-icon-database'><use xlink:href='#icon-database'></use></svg></label><div class='xr-var-attrs'><dl class='xr-attrs'><dt><span>axis :</span></dt><dd>Y</dd><dt><span>long_name :</span></dt><dd>y coordinate of projection</dd><dt><span>standard_name :</span></dt><dd>projection_y_coordinate</dd><dt><span>units :</span></dt><dd>metre</dd></dl></div><div class='xr-var-data'><pre>array([5403504.566349, 5403503.566349, 5403502.566349, ..., 5403306.566349,\n",
       "       5403305.566349, 5403304.566349])</pre></div></li></ul></div></li><li class='xr-section-item'><input id='section-e2caf886-a996-4d5c-b016-3666402b1330' class='xr-section-summary-in' type='checkbox'  checked><label for='section-e2caf886-a996-4d5c-b016-3666402b1330' class='xr-section-summary' >Data variables: <span>(2)</span></label><div class='xr-section-inline-details'></div><div class='xr-section-details'><ul class='xr-var-list'><li class='xr-var-item'><div class='xr-var-name'><span>band1</span></div><div class='xr-var-dims'>(time, y, x)</div><div class='xr-var-dtype'>float32</div><div class='xr-var-preview xr-preview'>dask.array&lt;chunksize=(55, 201, 201), meta=np.ndarray&gt;</div><input id='attrs-c9ff7bc4-b6e9-4114-8131-eaa5e9a5d2ad' class='xr-var-attrs-in' type='checkbox' ><label for='attrs-c9ff7bc4-b6e9-4114-8131-eaa5e9a5d2ad' title='Show/Hide attributes'><svg class='icon xr-icon-file-text2'><use xlink:href='#icon-file-text2'></use></svg></label><input id='data-a5bde584-ffb3-484d-8ad7-cb6fef0edbd0' class='xr-var-data-in' type='checkbox'><label for='data-a5bde584-ffb3-484d-8ad7-cb6fef0edbd0' title='Show/Hide data repr'><svg class='icon xr-icon-database'><use xlink:href='#icon-database'></use></svg></label><div class='xr-var-attrs'><dl class='xr-attrs'><dt><span>AREA_OR_POINT :</span></dt><dd>Area</dd><dt><span>grid_mapping :</span></dt><dd>spatial_ref</dd></dl></div><div class='xr-var-data'><table>\n",
       "    <tr>\n",
       "        <td>\n",
       "            <table style=\"border-collapse: collapse;\">\n",
       "                <thead>\n",
       "                    <tr>\n",
       "                        <td> </td>\n",
       "                        <th> Array </th>\n",
       "                        <th> Chunk </th>\n",
       "                    </tr>\n",
       "                </thead>\n",
       "                <tbody>\n",
       "                    \n",
       "                    <tr>\n",
       "                        <th> Bytes </th>\n",
       "                        <td> 8.48 MiB </td>\n",
       "                        <td> 8.48 MiB </td>\n",
       "                    </tr>\n",
       "                    \n",
       "                    <tr>\n",
       "                        <th> Shape </th>\n",
       "                        <td> (55, 201, 201) </td>\n",
       "                        <td> (55, 201, 201) </td>\n",
       "                    </tr>\n",
       "                    <tr>\n",
       "                        <th> Dask graph </th>\n",
       "                        <td colspan=\"2\"> 1 chunks in 3 graph layers </td>\n",
       "                    </tr>\n",
       "                    <tr>\n",
       "                        <th> Data type </th>\n",
       "                        <td colspan=\"2\"> float32 numpy.ndarray </td>\n",
       "                    </tr>\n",
       "                </tbody>\n",
       "            </table>\n",
       "        </td>\n",
       "        <td>\n",
       "        <svg width=\"205\" height=\"195\" style=\"stroke:rgb(0,0,0);stroke-width:1\" >\n",
       "\n",
       "  <!-- Horizontal lines -->\n",
       "  <line x1=\"10\" y1=\"0\" x2=\"35\" y2=\"25\" style=\"stroke-width:2\" />\n",
       "  <line x1=\"10\" y1=\"120\" x2=\"35\" y2=\"145\" style=\"stroke-width:2\" />\n",
       "\n",
       "  <!-- Vertical lines -->\n",
       "  <line x1=\"10\" y1=\"0\" x2=\"10\" y2=\"120\" style=\"stroke-width:2\" />\n",
       "  <line x1=\"35\" y1=\"25\" x2=\"35\" y2=\"145\" style=\"stroke-width:2\" />\n",
       "\n",
       "  <!-- Colored Rectangle -->\n",
       "  <polygon points=\"10.0,0.0 35.428111789677246,25.428111789677246 35.428111789677246,145.42811178967725 10.0,120.0\" style=\"fill:#ECB172A0;stroke-width:0\"/>\n",
       "\n",
       "  <!-- Horizontal lines -->\n",
       "  <line x1=\"10\" y1=\"0\" x2=\"130\" y2=\"0\" style=\"stroke-width:2\" />\n",
       "  <line x1=\"35\" y1=\"25\" x2=\"155\" y2=\"25\" style=\"stroke-width:2\" />\n",
       "\n",
       "  <!-- Vertical lines -->\n",
       "  <line x1=\"10\" y1=\"0\" x2=\"35\" y2=\"25\" style=\"stroke-width:2\" />\n",
       "  <line x1=\"130\" y1=\"0\" x2=\"155\" y2=\"25\" style=\"stroke-width:2\" />\n",
       "\n",
       "  <!-- Colored Rectangle -->\n",
       "  <polygon points=\"10.0,0.0 130.0,0.0 155.42811178967725,25.428111789677246 35.428111789677246,25.428111789677246\" style=\"fill:#ECB172A0;stroke-width:0\"/>\n",
       "\n",
       "  <!-- Horizontal lines -->\n",
       "  <line x1=\"35\" y1=\"25\" x2=\"155\" y2=\"25\" style=\"stroke-width:2\" />\n",
       "  <line x1=\"35\" y1=\"145\" x2=\"155\" y2=\"145\" style=\"stroke-width:2\" />\n",
       "\n",
       "  <!-- Vertical lines -->\n",
       "  <line x1=\"35\" y1=\"25\" x2=\"35\" y2=\"145\" style=\"stroke-width:2\" />\n",
       "  <line x1=\"155\" y1=\"25\" x2=\"155\" y2=\"145\" style=\"stroke-width:2\" />\n",
       "\n",
       "  <!-- Colored Rectangle -->\n",
       "  <polygon points=\"35.428111789677246,25.428111789677246 155.42811178967725,25.428111789677246 155.42811178967725,145.42811178967725 35.428111789677246,145.42811178967725\" style=\"fill:#ECB172A0;stroke-width:0\"/>\n",
       "\n",
       "  <!-- Text -->\n",
       "  <text x=\"95.428112\" y=\"165.428112\" font-size=\"1.0rem\" font-weight=\"100\" text-anchor=\"middle\" >201</text>\n",
       "  <text x=\"175.428112\" y=\"85.428112\" font-size=\"1.0rem\" font-weight=\"100\" text-anchor=\"middle\" transform=\"rotate(-90,175.428112,85.428112)\">201</text>\n",
       "  <text x=\"12.714056\" y=\"152.714056\" font-size=\"1.0rem\" font-weight=\"100\" text-anchor=\"middle\" transform=\"rotate(45,12.714056,152.714056)\">55</text>\n",
       "</svg>\n",
       "        </td>\n",
       "    </tr>\n",
       "</table></div></li><li class='xr-var-item'><div class='xr-var-name'><span>spatial_ref</span></div><div class='xr-var-dims'>()</div><div class='xr-var-dtype'>int64</div><div class='xr-var-preview xr-preview'>...</div><input id='attrs-37ccfc58-8246-4495-bfb7-69cc793565ea' class='xr-var-attrs-in' type='checkbox' ><label for='attrs-37ccfc58-8246-4495-bfb7-69cc793565ea' title='Show/Hide attributes'><svg class='icon xr-icon-file-text2'><use xlink:href='#icon-file-text2'></use></svg></label><input id='data-3b9f6070-1598-45d0-80c7-fcadcaf074af' class='xr-var-data-in' type='checkbox'><label for='data-3b9f6070-1598-45d0-80c7-fcadcaf074af' title='Show/Hide data repr'><svg class='icon xr-icon-database'><use xlink:href='#icon-database'></use></svg></label><div class='xr-var-attrs'><dl class='xr-attrs'><dt><span>crs_wkt :</span></dt><dd>PROJCS[&quot;WGS 84 / UTM zone 10N&quot;,GEOGCS[&quot;WGS 84&quot;,DATUM[&quot;WGS_1984&quot;,SPHEROID[&quot;WGS 84&quot;,6378137,298.257223563,AUTHORITY[&quot;EPSG&quot;,&quot;7030&quot;]],AUTHORITY[&quot;EPSG&quot;,&quot;6326&quot;]],PRIMEM[&quot;Greenwich&quot;,0,AUTHORITY[&quot;EPSG&quot;,&quot;8901&quot;]],UNIT[&quot;degree&quot;,0.0174532925199433,AUTHORITY[&quot;EPSG&quot;,&quot;9122&quot;]],AUTHORITY[&quot;EPSG&quot;,&quot;4326&quot;]],PROJECTION[&quot;Transverse_Mercator&quot;],PARAMETER[&quot;latitude_of_origin&quot;,0],PARAMETER[&quot;central_meridian&quot;,-123],PARAMETER[&quot;scale_factor&quot;,0.9996],PARAMETER[&quot;false_easting&quot;,500000],PARAMETER[&quot;false_northing&quot;,0],UNIT[&quot;metre&quot;,1,AUTHORITY[&quot;EPSG&quot;,&quot;9001&quot;]],AXIS[&quot;Easting&quot;,EAST],AXIS[&quot;Northing&quot;,NORTH],AUTHORITY[&quot;EPSG&quot;,&quot;32610&quot;]]</dd><dt><span>false_easting :</span></dt><dd>500000.0</dd><dt><span>false_northing :</span></dt><dd>0.0</dd><dt><span>geographic_crs_name :</span></dt><dd>WGS 84</dd><dt><span>grid_mapping_name :</span></dt><dd>transverse_mercator</dd><dt><span>horizontal_datum_name :</span></dt><dd>World Geodetic System 1984</dd><dt><span>inverse_flattening :</span></dt><dd>298.257223563</dd><dt><span>latitude_of_projection_origin :</span></dt><dd>0.0</dd><dt><span>longitude_of_central_meridian :</span></dt><dd>-123.0</dd><dt><span>longitude_of_prime_meridian :</span></dt><dd>0.0</dd><dt><span>prime_meridian_name :</span></dt><dd>Greenwich</dd><dt><span>projected_crs_name :</span></dt><dd>WGS 84 / UTM zone 10N</dd><dt><span>reference_ellipsoid_name :</span></dt><dd>WGS 84</dd><dt><span>scale_factor_at_central_meridian :</span></dt><dd>0.9996</dd><dt><span>semi_major_axis :</span></dt><dd>6378137.0</dd><dt><span>semi_minor_axis :</span></dt><dd>6356752.314245179</dd><dt><span>spatial_ref :</span></dt><dd>PROJCS[&quot;WGS 84 / UTM zone 10N&quot;,GEOGCS[&quot;WGS 84&quot;,DATUM[&quot;WGS_1984&quot;,SPHEROID[&quot;WGS 84&quot;,6378137,298.257223563,AUTHORITY[&quot;EPSG&quot;,&quot;7030&quot;]],AUTHORITY[&quot;EPSG&quot;,&quot;6326&quot;]],PRIMEM[&quot;Greenwich&quot;,0,AUTHORITY[&quot;EPSG&quot;,&quot;8901&quot;]],UNIT[&quot;degree&quot;,0.0174532925199433,AUTHORITY[&quot;EPSG&quot;,&quot;9122&quot;]],AUTHORITY[&quot;EPSG&quot;,&quot;4326&quot;]],PROJECTION[&quot;Transverse_Mercator&quot;],PARAMETER[&quot;latitude_of_origin&quot;,0],PARAMETER[&quot;central_meridian&quot;,-123],PARAMETER[&quot;scale_factor&quot;,0.9996],PARAMETER[&quot;false_easting&quot;,500000],PARAMETER[&quot;false_northing&quot;,0],UNIT[&quot;metre&quot;,1,AUTHORITY[&quot;EPSG&quot;,&quot;9001&quot;]],AXIS[&quot;Easting&quot;,EAST],AXIS[&quot;Northing&quot;,NORTH],AUTHORITY[&quot;EPSG&quot;,&quot;32610&quot;]]</dd></dl></div><div class='xr-var-data'><pre>[1 values with dtype=int64]</pre></div></li></ul></div></li><li class='xr-section-item'><input id='section-0dbf23e3-4625-48c5-949f-58d590656630' class='xr-section-summary-in' type='checkbox'  ><label for='section-0dbf23e3-4625-48c5-949f-58d590656630' class='xr-section-summary' >Indexes: <span>(3)</span></label><div class='xr-section-inline-details'></div><div class='xr-section-details'><ul class='xr-var-list'><li class='xr-var-item'><div class='xr-index-name'><div>time</div></div><div class='xr-index-preview'>PandasIndex</div><div></div><input id='index-02c7d906-590c-454a-b5cc-3fce34daae0e' class='xr-index-data-in' type='checkbox'/><label for='index-02c7d906-590c-454a-b5cc-3fce34daae0e' title='Show/Hide index repr'><svg class='icon xr-icon-database'><use xlink:href='#icon-database'></use></svg></label><div class='xr-index-data'><pre>PandasIndex(DatetimeIndex([&#x27;1947-10-01&#x27;, &#x27;1947-11-01&#x27;, &#x27;1947-12-01&#x27;, &#x27;1948-01-01&#x27;,\n",
       "               &#x27;1948-02-01&#x27;, &#x27;1948-03-01&#x27;, &#x27;1948-04-01&#x27;, &#x27;1948-05-01&#x27;,\n",
       "               &#x27;1948-06-01&#x27;, &#x27;1948-07-01&#x27;, &#x27;1948-08-01&#x27;, &#x27;1948-09-01&#x27;,\n",
       "               &#x27;1948-10-01&#x27;, &#x27;1948-11-01&#x27;, &#x27;1948-12-01&#x27;, &#x27;1949-01-01&#x27;,\n",
       "               &#x27;1949-02-01&#x27;, &#x27;1949-03-01&#x27;, &#x27;1949-04-01&#x27;, &#x27;1949-05-01&#x27;,\n",
       "               &#x27;1949-06-01&#x27;, &#x27;1949-07-01&#x27;, &#x27;1949-08-01&#x27;, &#x27;1949-09-01&#x27;,\n",
       "               &#x27;1949-10-01&#x27;, &#x27;1949-11-01&#x27;, &#x27;1949-12-01&#x27;, &#x27;1950-01-01&#x27;,\n",
       "               &#x27;1950-02-01&#x27;, &#x27;1950-03-01&#x27;, &#x27;1950-04-01&#x27;, &#x27;1950-05-01&#x27;,\n",
       "               &#x27;1950-06-01&#x27;, &#x27;1950-07-01&#x27;, &#x27;1950-08-01&#x27;, &#x27;1950-09-01&#x27;,\n",
       "               &#x27;1950-10-01&#x27;, &#x27;1950-11-01&#x27;, &#x27;1950-12-01&#x27;, &#x27;1951-01-01&#x27;,\n",
       "               &#x27;1951-02-01&#x27;, &#x27;1951-03-01&#x27;, &#x27;1951-04-01&#x27;, &#x27;1951-05-01&#x27;,\n",
       "               &#x27;1951-06-01&#x27;, &#x27;1951-07-01&#x27;, &#x27;1951-08-01&#x27;, &#x27;1951-09-01&#x27;,\n",
       "               &#x27;1951-10-01&#x27;, &#x27;1951-11-01&#x27;, &#x27;1951-12-01&#x27;, &#x27;1952-01-01&#x27;,\n",
       "               &#x27;1952-02-01&#x27;, &#x27;1952-03-01&#x27;, &#x27;1952-04-01&#x27;],\n",
       "              dtype=&#x27;datetime64[ns]&#x27;, name=&#x27;time&#x27;, freq=&#x27;MS&#x27;))</pre></div></li><li class='xr-var-item'><div class='xr-index-name'><div>x</div></div><div class='xr-index-preview'>PandasIndex</div><div></div><input id='index-6e0bfe92-2efc-4ec0-8e2c-8c135425f149' class='xr-index-data-in' type='checkbox'/><label for='index-6e0bfe92-2efc-4ec0-8e2c-8c135425f149' title='Show/Hide index repr'><svg class='icon xr-icon-database'><use xlink:href='#icon-database'></use></svg></label><div class='xr-index-data'><pre>PandasIndex(Float64Index([586538.4387119232, 586539.4387119232, 586540.4387119232,\n",
       "              586541.4387119232, 586542.4387119232, 586543.4387119232,\n",
       "              586544.4387119232, 586545.4387119232, 586546.4387119232,\n",
       "              586547.4387119232,\n",
       "              ...\n",
       "              586729.4387119232, 586730.4387119232, 586731.4387119232,\n",
       "              586732.4387119232, 586733.4387119232, 586734.4387119232,\n",
       "              586735.4387119232, 586736.4387119232, 586737.4387119232,\n",
       "              586738.4387119232],\n",
       "             dtype=&#x27;float64&#x27;, name=&#x27;x&#x27;, length=201))</pre></div></li><li class='xr-var-item'><div class='xr-index-name'><div>y</div></div><div class='xr-index-preview'>PandasIndex</div><div></div><input id='index-81447fa6-fa23-4e73-9473-11bec2fbda01' class='xr-index-data-in' type='checkbox'/><label for='index-81447fa6-fa23-4e73-9473-11bec2fbda01' title='Show/Hide index repr'><svg class='icon xr-icon-database'><use xlink:href='#icon-database'></use></svg></label><div class='xr-index-data'><pre>PandasIndex(Float64Index([5403504.566348841, 5403503.566348841, 5403502.566348841,\n",
       "              5403501.566348841, 5403500.566348841, 5403499.566348841,\n",
       "              5403498.566348841, 5403497.566348841, 5403496.566348841,\n",
       "              5403495.566348841,\n",
       "              ...\n",
       "              5403313.566348841, 5403312.566348841, 5403311.566348841,\n",
       "              5403310.566348841, 5403309.566348841, 5403308.566348841,\n",
       "              5403307.566348841, 5403306.566348841, 5403305.566348841,\n",
       "              5403304.566348841],\n",
       "             dtype=&#x27;float64&#x27;, name=&#x27;y&#x27;, length=201))</pre></div></li></ul></div></li><li class='xr-section-item'><input id='section-b1eb7b31-ef3f-44cc-87fd-a212f3ceeb53' class='xr-section-summary-in' type='checkbox'  checked><label for='section-b1eb7b31-ef3f-44cc-87fd-a212f3ceeb53' class='xr-section-summary' >Attributes: <span>(4)</span></label><div class='xr-section-inline-details'></div><div class='xr-section-details'><dl class='xr-attrs'><dt><span>AREA_OR_POINT :</span></dt><dd>Area</dd><dt><span>add_offset :</span></dt><dd>0.0</dd><dt><span>crs :</span></dt><dd>PROJCS[&quot;WGS 84 / UTM zone 10N&quot;,GEOGCS[&quot;WGS 84&quot;,DATUM[&quot;WGS_1984&quot;,SPHEROID[&quot;WGS 84&quot;,6378137,298.257223563,AUTHORITY[&quot;EPSG&quot;,&quot;7030&quot;]],AUTHORITY[&quot;EPSG&quot;,&quot;6326&quot;]],PRIMEM[&quot;Greenwich&quot;,0,AUTHORITY[&quot;EPSG&quot;,&quot;8901&quot;]],UNIT[&quot;degree&quot;,0.0174532925199433,AUTHORITY[&quot;EPSG&quot;,&quot;9122&quot;]],AUTHORITY[&quot;EPSG&quot;,&quot;4326&quot;]],PROJECTION[&quot;Transverse_Mercator&quot;],PARAMETER[&quot;latitude_of_origin&quot;,0],PARAMETER[&quot;central_meridian&quot;,-123],PARAMETER[&quot;scale_factor&quot;,0.9996],PARAMETER[&quot;false_easting&quot;,500000],PARAMETER[&quot;false_northing&quot;,0],UNIT[&quot;metre&quot;,1,AUTHORITY[&quot;EPSG&quot;,&quot;9001&quot;]],AXIS[&quot;Easting&quot;,EAST],AXIS[&quot;Northing&quot;,NORTH],AUTHORITY[&quot;EPSG&quot;,&quot;32610&quot;]]</dd><dt><span>scale_factor :</span></dt><dd>1.0</dd></dl></div></li></ul></div></div>"
      ],
      "text/plain": [
       "<xarray.Dataset>\n",
       "Dimensions:      (time: 55, y: 201, x: 201)\n",
       "Coordinates:\n",
       "  * time         (time) datetime64[ns] 1947-10-01 1947-11-01 ... 1952-04-01\n",
       "  * x            (x) float64 5.865e+05 5.865e+05 ... 5.867e+05 5.867e+05\n",
       "  * y            (y) float64 5.404e+06 5.404e+06 ... 5.403e+06 5.403e+06\n",
       "Data variables:\n",
       "    band1        (time, y, x) float32 dask.array<chunksize=(55, 201, 201), meta=np.ndarray>\n",
       "    spatial_ref  int64 ...\n",
       "Attributes:\n",
       "    AREA_OR_POINT:  Area\n",
       "    add_offset:     0.0\n",
       "    crs:            PROJCS[\"WGS 84 / UTM zone 10N\",GEOGCS[\"WGS 84\",DATUM[\"WGS...\n",
       "    scale_factor:   1.0"
      ]
     },
     "execution_count": 7,
     "metadata": {},
     "output_type": "execute_result"
    }
   ],
   "source": [
    "small_baker_ds"
   ]
  },
  {
   "cell_type": "markdown",
   "id": "de3df0d2-cc44-41f7-ae94-ce22a4b03787",
   "metadata": {
    "user_expressions": []
   },
   "source": [
    "# Reproduce temporal GP in gsta"
   ]
  },
  {
   "cell_type": "markdown",
   "id": "a3790053-92c4-47bc-870e-568c0218dcdc",
   "metadata": {
    "user_expressions": []
   },
   "source": [
    "## Start Dask dashboard"
   ]
  },
  {
   "cell_type": "code",
   "execution_count": null,
   "id": "46b1859c-ae73-485f-a8c0-4a374df1214e",
   "metadata": {
    "tags": []
   },
   "outputs": [],
   "source": []
  },
  {
   "cell_type": "code",
   "execution_count": null,
   "id": "9eef0c10-369f-4cfd-9eac-ea611a6d1703",
   "metadata": {
    "tags": []
   },
   "outputs": [],
   "source": [
    "from dask.distributed import Client\n",
    "\n",
    "client = Client(\"tcp://127.0.0.1:42061\")\n",
    "client"
   ]
  },
  {
   "cell_type": "code",
   "execution_count": null,
   "id": "549b40e0-e1f9-45ae-a0d4-5601545d661a",
   "metadata": {
    "tags": []
   },
   "outputs": [],
   "source": []
  },
  {
   "cell_type": "markdown",
   "id": "bdb143ff-643c-49ed-8c90-7dabebc85f8d",
   "metadata": {
    "tags": [],
    "user_expressions": []
   },
   "source": [
    "## Generate time and space to predict"
   ]
  },
  {
   "cell_type": "code",
   "execution_count": 15,
   "id": "66505299-0e07-4dfd-92e5-3645982a21d6",
   "metadata": {
    "tags": []
   },
   "outputs": [
    {
     "ename": "NameError",
     "evalue": "name 'small_baker_ds' is not defined",
     "output_type": "error",
     "traceback": [
      "\u001b[0;31m---------------------------------------------------------------------------\u001b[0m",
      "\u001b[0;31mNameError\u001b[0m                                 Traceback (most recent call last)",
      "Cell \u001b[0;32mIn [15], line 5\u001b[0m\n\u001b[1;32m      1\u001b[0m \u001b[38;5;28;01mimport\u001b[39;00m \u001b[38;5;21;01mnumpy\u001b[39;00m \u001b[38;5;28;01mas\u001b[39;00m \u001b[38;5;21;01mnp\u001b[39;00m\n\u001b[1;32m      3\u001b[0m \u001b[38;5;66;03m# create a time series to make predictions on as decimal year floats\u001b[39;00m\n\u001b[1;32m      4\u001b[0m \u001b[38;5;66;03m# It is the same year just in a float data type??\u001b[39;00m\n\u001b[0;32m----> 5\u001b[0m start \u001b[38;5;241m=\u001b[39m \u001b[43msmall_baker_ds\u001b[49m[\u001b[38;5;124m'\u001b[39m\u001b[38;5;124mtime\u001b[39m\u001b[38;5;124m'\u001b[39m]\u001b[38;5;241m.\u001b[39mdt\u001b[38;5;241m.\u001b[39mstrftime(\u001b[38;5;124m'\u001b[39m\u001b[38;5;124m%\u001b[39m\u001b[38;5;124mY-\u001b[39m\u001b[38;5;124m%\u001b[39m\u001b[38;5;124mm-\u001b[39m\u001b[38;5;132;01m%d\u001b[39;00m\u001b[38;5;124m'\u001b[39m)\u001b[38;5;241m.\u001b[39mvalues[\u001b[38;5;241m0\u001b[39m]\n\u001b[1;32m      6\u001b[0m end \u001b[38;5;241m=\u001b[39m small_baker_ds[\u001b[38;5;124m'\u001b[39m\u001b[38;5;124mtime\u001b[39m\u001b[38;5;124m'\u001b[39m]\u001b[38;5;241m.\u001b[39mdt\u001b[38;5;241m.\u001b[39mstrftime(\u001b[38;5;124m'\u001b[39m\u001b[38;5;124m%\u001b[39m\u001b[38;5;124mY-\u001b[39m\u001b[38;5;124m%\u001b[39m\u001b[38;5;124mm-\u001b[39m\u001b[38;5;132;01m%d\u001b[39;00m\u001b[38;5;124m'\u001b[39m)\u001b[38;5;241m.\u001b[39mvalues[\u001b[38;5;241m-\u001b[39m\u001b[38;5;241m1\u001b[39m]\n\u001b[1;32m      7\u001b[0m prediction_time_series \u001b[38;5;241m=\u001b[39m gtsa\u001b[38;5;241m.\u001b[39mtemporal\u001b[38;5;241m.\u001b[39mcreate_prediction_timeseries(start_date \u001b[38;5;241m=\u001b[39m start,\n\u001b[1;32m      8\u001b[0m                                                                     end_date \u001b[38;5;241m=\u001b[39m end,\n\u001b[1;32m      9\u001b[0m                                                                     dt \u001b[38;5;241m=\u001b[39m\u001b[38;5;124m'\u001b[39m\u001b[38;5;124mY\u001b[39m\u001b[38;5;124m'\u001b[39m)\n",
      "\u001b[0;31mNameError\u001b[0m: name 'small_baker_ds' is not defined"
     ]
    }
   ],
   "source": [
    "import numpy as np\n",
    "\n",
    "# create a time series to make predictions on as decimal year floats\n",
    "# It is the same year just in a float data type??\n",
    "start = small_baker_ds['time'].dt.strftime('%Y-%m-%d').values[0]\n",
    "end = small_baker_ds['time'].dt.strftime('%Y-%m-%d').values[-1]\n",
    "prediction_time_series = gtsa.temporal.create_prediction_timeseries(start_date = start,\n",
    "                                                                    end_date = end,\n",
    "                                                                    dt ='Y')\n",
    "\n",
    "# prepare time values as decimal year floats\n",
    "times = [pd.to_datetime(j) for j in small_baker_ds['band1'].time.values]\n",
    "decyear_times = [gtsa.utils.date_time_to_decyear(i) for i in times] \n",
    "decyear_times = np.array(decyear_times)\n",
    "\n",
    "small_baker_ds_train = small_baker_ds\n",
    "small_baker_ds_train['time'] = decyear_times"
   ]
  },
  {
   "cell_type": "code",
   "execution_count": 8,
   "id": "9d1de6df-78cd-4f3b-83e8-6d60206d549b",
   "metadata": {
    "tags": []
   },
   "outputs": [],
   "source": [
    "xmin = small_baker_ds['band1'].x.values.min()\n",
    "xmax = small_baker_ds['band1'].x.values.max()\n",
    "ymin = small_baker_ds['band1'].y.values.min()\n",
    "ymax = small_baker_ds['band1'].y.values.max()\n",
    "nx,ny = len(small_baker_ds['band1'].x.values),len(small_baker_ds['band1'].y.values)\n",
    "\n",
    "prediction_x,prediction_y = gtsa.temporal.EL_create_prediction_space(xmin,xmax,ymin,ymax,\n",
    "                                                                     int(1.5*nx),int(1.5*ny))\n",
    "prediction_X,prediction_Y = np.meshgrid(prediction_x,prediction_y)\n",
    "prediction_xy = np.array([prediction_x,prediction_y]).T"
   ]
  },
  {
   "cell_type": "markdown",
   "id": "4446dc34-a2c8-4fb7-b51c-07dd719536ea",
   "metadata": {
    "user_expressions": []
   },
   "source": [
    "## Linear Reg"
   ]
  },
  {
   "cell_type": "code",
   "execution_count": 55,
   "id": "ab7f189d-eb6b-456d-ab80-855120b05227",
   "metadata": {
    "tags": []
   },
   "outputs": [],
   "source": [
    "def custom_linreg(x,y, threshold = 2):\n",
    "    mask = np.isfinite(y) # create mask for np.nan values\n",
    "    if len(y[mask]) < threshold: # return np.nan if less than threshold\n",
    "        return np.nan\n",
    "    return np.polyfit(x[mask], y[mask], 1)[0]"
   ]
  },
  {
   "cell_type": "code",
   "execution_count": 56,
   "id": "ccd881e4-6843-4f71-8665-18dcaed6c93f",
   "metadata": {
    "tags": []
   },
   "outputs": [
    {
     "name": "stdout",
     "output_type": "stream",
     "text": [
      "<xarray.Dataset>\n",
      "Dimensions:      (time: 55, y: 101, x: 101)\n",
      "Coordinates:\n",
      "  * time         (time) float64 1.948e+03 1.948e+03 ... 1.952e+03 1.952e+03\n",
      "  * x            (x) float64 5.866e+05 5.866e+05 ... 5.867e+05 5.867e+05\n",
      "  * y            (y) float64 5.403e+06 5.403e+06 ... 5.403e+06 5.403e+06\n",
      "Data variables:\n",
      "    band1        (time, y, x) float32 dask.array<chunksize=(55, 101, 101), meta=np.ndarray>\n",
      "    spatial_ref  int64 ...\n",
      "Attributes:\n",
      "    AREA_OR_POINT:  Area\n",
      "    add_offset:     0.0\n",
      "    crs:            PROJCS[\"WGS 84 / UTM zone 10N\",GEOGCS[\"WGS 84\",DATUM[\"WGS...\n",
      "    scale_factor:   1.0\n"
     ]
    }
   ],
   "source": [
    "print(small_baker_ds_train)"
   ]
  },
  {
   "cell_type": "code",
   "execution_count": 57,
   "id": "bd30fea3-8c1e-4354-a516-2930ef1929b2",
   "metadata": {
    "tags": []
   },
   "outputs": [],
   "source": [
    "result = xr.apply_ufunc(\n",
    "        custom_linreg, decyear_times , small_baker_ds_train['band1'],\n",
    "        input_core_dims=[['time'], ['time']],\n",
    "        vectorize=True, \n",
    "        dask='parallelized',\n",
    "        output_dtypes=[float],\n",
    "        )"
   ]
  },
  {
   "cell_type": "code",
   "execution_count": 58,
   "id": "fed654aa-19f9-49a2-9f4c-5f1a86b3b8e8",
   "metadata": {
    "tags": []
   },
   "outputs": [],
   "source": [
    "custom_slope = result.compute()"
   ]
  },
  {
   "cell_type": "code",
   "execution_count": 33,
   "id": "fc3a7dd4-eaff-4e52-90cd-609dc32fc69e",
   "metadata": {
    "tags": []
   },
   "outputs": [
    {
     "data": {
      "text/plain": [
       "<matplotlib.collections.QuadMesh at 0x7fddd94029e0>"
      ]
     },
     "execution_count": 33,
     "metadata": {},
     "output_type": "execute_result"
    },
    {
     "data": {
      "image/png": "[encoded data removed]",
      "text/plain": [
       "<Figure size 640x480 with 2 Axes>"
      ]
     },
     "metadata": {},
     "output_type": "display_data"
    }
   ],
   "source": [
    "custom_slope.plot()"
   ]
  },
  {
   "cell_type": "markdown",
   "id": "c66f56f8-6af6-40d1-be24-06e44f1abace",
   "metadata": {
    "tags": [],
    "user_expressions": []
   },
   "source": [
    "## Temporal GP"
   ]
  },
  {
   "cell_type": "code",
   "execution_count": 9,
   "id": "99bc58a4-4ae1-4c78-8525-24158ca7caf2",
   "metadata": {
    "tags": []
   },
   "outputs": [],
   "source": [
    "from sklearn.gaussian_process import GaussianProcessRegressor\n",
    "from sklearn.gaussian_process.kernels import (\n",
    "    RBF,\n",
    "    ConstantKernel,\n",
    "    ExpSineSquared,\n",
    "    PairwiseKernel,\n",
    "    RationalQuadratic,\n",
    "    WhiteKernel,\n",
    "    Matern,\n",
    ")"
   ]
  },
  {
   "cell_type": "code",
   "execution_count": 8,
   "id": "25f977a7-c08f-4708-aac1-67b3612ea4e6",
   "metadata": {
    "tags": []
   },
   "outputs": [],
   "source": [
    "k1 = 30.0 * Matern(length_scale=10.0, nu=1.5)\n",
    "k2 = ConstantKernel(30) * ExpSineSquared(length_scale=1, periodicity=30)\n",
    "k3 = ConstantKernel(30) * ExpSineSquared(length_scale=1, periodicity=1)\n",
    "\n",
    "kernel = k1+k2+k3"
   ]
  },
  {
   "cell_type": "code",
   "execution_count": null,
   "id": "7ac8e86c-cffa-4728-8384-aa3ecf959d6d",
   "metadata": {
    "tags": []
   },
   "outputs": [],
   "source": [
    "ds_result = gtsa.temporal.dask_apply_GPR(small_baker_ds_train['band1'],\n",
    "                                         'time', \n",
    "                                         kwargs={'times':small_baker_ds['band1'].time.values,\n",
    "                                                 'kernel': kernel,\n",
    "                                                 'prediction_time_series' : prediction_time_series}\n",
    "                                        ).compute()"
   ]
  },
  {
   "cell_type": "code",
   "execution_count": 27,
   "id": "86b4aa5c-6bfc-4331-a865-e34e61232478",
   "metadata": {
    "tags": []
   },
   "outputs": [
    {
     "data": {
      "text/plain": [
       "array([1947.99657769, 1948.99726776, 1949.99657769, 1950.99657769,\n",
       "       1951.99657769])"
      ]
     },
     "execution_count": 27,
     "metadata": {},
     "output_type": "execute_result"
    }
   ],
   "source": [
    "prediction_time_series"
   ]
  },
  {
   "cell_type": "markdown",
   "id": "84066c06-e75d-4dd8-95ea-b69afc5bb127",
   "metadata": {
    "tags": [],
    "user_expressions": []
   },
   "source": [
    "# Implementation of space GP (under dev)"
   ]
  },
  {
   "cell_type": "markdown",
   "id": "8086db07-9c5e-4e2f-af58-4ef5f8d01b27",
   "metadata": {
    "tags": [],
    "user_expressions": []
   },
   "source": [
    "## Generate synthetic data"
   ]
  },
  {
   "cell_type": "code",
   "execution_count": 3,
   "id": "3ed5d035-d149-45cc-9339-954c06550d65",
   "metadata": {
    "tags": []
   },
   "outputs": [],
   "source": [
    "import numpy as np\n",
    "size_z = 10\n",
    "size_y = 10\n",
    "size_x = 10"
   ]
  },
  {
   "cell_type": "code",
   "execution_count": 4,
   "id": "9dfbbc11-9de5-469a-8b1c-201dc392e4a6",
   "metadata": {
    "tags": []
   },
   "outputs": [],
   "source": [
    "def gaussian_2d(x, y, x0, y0, sigma_x, sigma_y, noise):\n",
    "    z = np.exp(-((x - x0) ** 2 / (2 * sigma_x ** 2) + (y - y0) ** 2 / (2 * sigma_y ** 2)))\n",
    "    return z + np.random.normal(size=z.shape) * noise"
   ]
  },
  {
   "cell_type": "code",
   "execution_count": 5,
   "id": "3f3b1979-47c8-4fcd-8f74-094d913c5fe3",
   "metadata": {
    "tags": []
   },
   "outputs": [],
   "source": [
    "def make_test_dataset(size_z, size_y, size_x, x0, y0, sigma_x, sigma_y, noise):\n",
    "    x = np.linspace(-3, 3, size_x)\n",
    "    y = np.linspace(-3, 3, size_y)\n",
    "\n",
    "    X,Y = np.meshgrid(x, y)\n",
    "\n",
    "    z = np.zeros((size_z,size_y,size_x))\n",
    "\n",
    "    # Factor to vary maxima of Gaussian\n",
    "    z_range = np.linspace(-5, 5, size_z)\n",
    "    \n",
    "    for i in range(size_z):\n",
    "        z[i] = gaussian_2d(x, y, x0, y0, sigma_x, sigma_y, noise) * np.exp(-(z_range[i] ** 2) / 2)\n",
    "    \n",
    "    # manually add some nans\n",
    "    z[0,1],z[0,2],z[0,3]=np.nan,np.nan,np.nan\n",
    "    return x, y, z"
   ]
  },
  {
   "cell_type": "code",
   "execution_count": 6,
   "id": "8a41ee6d-e650-46c3-9b62-309cdf616617",
   "metadata": {
    "tags": []
   },
   "outputs": [],
   "source": [
    "# Generate the dimensions and vectors, z will be our 'DEMs'\n",
    "x, y, z = make_test_dataset(size_z, size_y, size_x, 0, 0, 1, 1, 0.05)\n",
    "xy = np.array([x,y]).T\n",
    "X,Y = np.meshgrid(x,y)"
   ]
  },
  {
   "cell_type": "code",
   "execution_count": 7,
   "id": "39be4a68-1d95-4a14-8f7f-d1f767d8cb29",
   "metadata": {
    "tags": []
   },
   "outputs": [
    {
     "name": "stdout",
     "output_type": "stream",
     "text": [
      "size of x  (10,) , type of x  <class 'numpy.ndarray'>\n",
      "size of y  (10,) , type of y  <class 'numpy.ndarray'>\n",
      "size of z  (10, 10, 10) , type of z  <class 'numpy.ndarray'>\n"
     ]
    }
   ],
   "source": [
    "print(\"size of x \", x.shape, \", type of x \",type(x))\n",
    "print(\"size of y \", y.shape, \", type of y \",type(y))\n",
    "print(\"size of z \", z.shape, \", type of z \",type(z))"
   ]
  },
  {
   "cell_type": "markdown",
   "id": "839d9f48-f18a-4dce-8b09-4f98d830c3b7",
   "metadata": {
    "tags": [],
    "user_expressions": []
   },
   "source": [
    "## Generate space to predict"
   ]
  },
  {
   "cell_type": "code",
   "execution_count": 8,
   "id": "30cfad80-4ca5-4150-ac6f-3aeafa64af77",
   "metadata": {
    "tags": []
   },
   "outputs": [
    {
     "name": "stdout",
     "output_type": "stream",
     "text": [
      "size of x predict  (20,)\n",
      "size of y predict  (20,)\n",
      "size of xy predict  (20, 2)\n"
     ]
    }
   ],
   "source": [
    "xmin = x.min()\n",
    "xmax = x.max()\n",
    "ymin = y.min()\n",
    "ymax = y.max()\n",
    "nx,ny = len(x),len(y)\n",
    "nx_predict,ny_predict = 2*len(x),2*len(y)\n",
    "\n",
    "prediction_x,prediction_y = gtsa.temporal.EL_create_prediction_space(xmin,xmax,ymin,ymax,\n",
    "                                                                     nx_predict,ny_predict)\n",
    "prediction_X,prediction_Y = np.meshgrid(prediction_x,prediction_y)\n",
    "prediction_xy = np.array([prediction_x,prediction_y]).T\n",
    "print(\"size of x predict \", prediction_x.shape)\n",
    "print(\"size of y predict \", prediction_y.shape)\n",
    "print(\"size of xy predict \", prediction_xy.shape)"
   ]
  },
  {
   "cell_type": "markdown",
   "id": "4205416c-52ee-4eac-8db0-034145cb6b7f",
   "metadata": {
    "tags": [],
    "user_expressions": []
   },
   "source": [
    "## Select kenerl"
   ]
  },
  {
   "cell_type": "code",
   "execution_count": 9,
   "id": "7373d816-e752-4758-8b5b-06b6e53fbb3f",
   "metadata": {
    "tags": []
   },
   "outputs": [],
   "source": [
    "from sklearn.gaussian_process import GaussianProcessRegressor\n",
    "from sklearn.gaussian_process.kernels import (\n",
    "    RBF,\n",
    "    ConstantKernel,\n",
    "    ExpSineSquared,\n",
    "    PairwiseKernel,\n",
    "    RationalQuadratic,\n",
    "    WhiteKernel,\n",
    "    Matern,\n",
    ")"
   ]
  },
  {
   "cell_type": "code",
   "execution_count": 16,
   "id": "b74c22e0-195f-4e01-81fa-9837257e7558",
   "metadata": {
    "tags": []
   },
   "outputs": [],
   "source": [
    "# may need to param tuning\n",
    "\n",
    "from sklearn.gaussian_process.kernels import RBF, ConstantKernel as C\n",
    "# kernel = C(1.0, (1e-3, 1e3)) * RBF([5,5], (1e-2, 1e2))\n",
    "k1 = 1.0 * Matern(length_scale=0.5, nu=1.0)\n",
    "# k2 = ConstantKernel(1) * ExpSineSquared(length_scale=10, periodicity=30)\n",
    "# k3 = ConstantKernel(1) * ExpSineSquared(length_scale=10, periodicity=30)\n",
    "\n",
    "kernel = k1#+k2+k3"
   ]
  },
  {
   "cell_type": "markdown",
   "id": "b383e203-a3dd-44b8-8102-731110bc3393",
   "metadata": {
    "tags": [],
    "user_expressions": []
   },
   "source": [
    "## Tidy up input data"
   ]
  },
  {
   "cell_type": "code",
   "execution_count": 11,
   "id": "6b319e5f-e0e6-4be1-aed2-5fadbc8969a7",
   "metadata": {
    "tags": []
   },
   "outputs": [
    {
     "name": "stdout",
     "output_type": "stream",
     "text": [
      "shape of input x  (97,)\n",
      "shape of input y  (97,)\n",
      "shape of input xz  (97, 2)\n",
      "shape of input z  (97,)\n"
     ]
    }
   ],
   "source": [
    "# currently only testing one slice in time\n",
    "z_array = z[:,:,0]\n",
    "mask = np.isfinite(z_array)\n",
    "X,Y = np.meshgrid(x,y)\n",
    "z_array = z_array[mask] \n",
    "x_array = X[mask]    \n",
    "y_array = Y[mask]\n",
    "xy_array = np.array([y_array,x_array]).T\n",
    "print(\"shape of input x \", x_array.shape)\n",
    "print(\"shape of input y \", y_array.shape)\n",
    "print(\"shape of input xz \", xy_array.shape)\n",
    "print(\"shape of input z \", z_array.shape)"
   ]
  },
  {
   "cell_type": "markdown",
   "id": "00f341ad-a748-42d8-b986-5ead5e6696fc",
   "metadata": {
    "tags": [],
    "user_expressions": []
   },
   "source": [
    "## Run spatial GP in gtsa"
   ]
  },
  {
   "cell_type": "code",
   "execution_count": 17,
   "id": "ff00cb53-37bb-4e83-8b3e-16a4c459321c",
   "metadata": {
    "tags": []
   },
   "outputs": [
    {
     "name": "stdout",
     "output_type": "stream",
     "text": [
      "1**2 * Matern(length_scale=0.5, nu=1)\n",
      "(97,)\n"
     ]
    }
   ],
   "source": [
    "# test EL_GPR_model\n",
    "model = gtsa.temporal.EL_GPR_model(xy_array,z_array,kernel,alpha=50)"
   ]
  },
  {
   "cell_type": "code",
   "execution_count": 18,
   "id": "03849e7f-2571-4ccd-b0a9-237866753a7f",
   "metadata": {
    "tags": []
   },
   "outputs": [
    {
     "name": "stdout",
     "output_type": "stream",
     "text": [
      "shape of input xy_predict  (400, 2)\n",
      "shape of input x_predict  (20,)\n",
      "shape of mean_predict  (400,)\n",
      "shape of std_prediction  (400,)\n"
     ]
    }
   ],
   "source": [
    "from itertools import product\n",
    "xy_predict = np.array(list(product(prediction_x,prediction_y)))\n",
    "print(\"shape of input xy_predict \", xy_predict.shape)\n",
    "print(\"shape of input x_predict \", prediction_x.shape)\n",
    "mean_prediction, std_prediction = gtsa.temporal.EL_GPR_predict(model, xy_predict)\n",
    "print(\"shape of mean_predict \", mean_prediction.shape)\n",
    "print(\"shape of std_prediction \", std_prediction.shape)"
   ]
  },
  {
   "cell_type": "markdown",
   "id": "4e912327-9a7e-4252-8aa0-41ce26ff42ac",
   "metadata": {
    "tags": [],
    "user_expressions": []
   },
   "source": [
    "## Visualization of output slice"
   ]
  },
  {
   "cell_type": "code",
   "execution_count": 19,
   "id": "a72d7b41-4933-4c1e-97c2-2a5c27d05c91",
   "metadata": {
    "tags": []
   },
   "outputs": [
    {
     "name": "stdout",
     "output_type": "stream",
     "text": [
      "(20, 20)\n"
     ]
    }
   ],
   "source": [
    "mean_prediction=mean_prediction.reshape(nx_predict,ny_predict)\n",
    "std_prediction=std_prediction.reshape(nx_predict,ny_predict)\n",
    "print(mean_prediction.shape)"
   ]
  },
  {
   "cell_type": "code",
   "execution_count": 20,
   "id": "5acd4617-ad63-45b8-a6b1-d4b463dcb3b1",
   "metadata": {
    "tags": []
   },
   "outputs": [
    {
     "data": {
      "image/png": "[encoded data removed]",
      "text/plain": [
       "<Figure size 1000x500 with 4 Axes>"
      ]
     },
     "metadata": {},
     "output_type": "display_data"
    }
   ],
   "source": [
    "from mpl_toolkits.mplot3d import Axes3D\n",
    "import numpy as np\n",
    "from matplotlib import cm\n",
    "\n",
    "# create the figure\n",
    "fig = plt.figure(figsize=(10,5))\n",
    "\n",
    "# show the 3D rotated projection\n",
    "ax2 = fig.add_subplot(121)\n",
    "cset = plt.contourf(X,Y, z[:,:,0], cmap='viridis')\n",
    "plt.colorbar()\n",
    "ax2 = fig.add_subplot(122)\n",
    "cset = plt.contourf(prediction_X,prediction_Y, mean_prediction, cmap='viridis')\n",
    "plt.colorbar()\n",
    "\n",
    "plt.show()"
   ]
  },
  {
   "cell_type": "markdown",
   "id": "e87f98db-765b-4517-ae82-df802f500c46",
   "metadata": {
    "tags": [],
    "user_expressions": []
   },
   "source": [
    "# Try Baker's data on spatial GP in gtsa"
   ]
  },
  {
   "cell_type": "markdown",
   "id": "a4fbb255-80dc-469d-9b1e-fc6a074bb9a0",
   "metadata": {
    "tags": [],
    "user_expressions": []
   },
   "source": [
    "## Subset data"
   ]
  },
  {
   "cell_type": "code",
   "execution_count": 4,
   "id": "11b6b4a1-d644-41ed-adb3-383ff7ea59ac",
   "metadata": {
    "tags": []
   },
   "outputs": [],
   "source": [
    "baker_url = 's3://petrichor/geosmart/baker.zarr/'\n",
    "scg_url = 's3://petrichor/geosmart/scg.zarr/'\n",
    "\n",
    "baker_ds = xr.open_dataset(baker_url, chunks='auto', engine='zarr', storage_options={\"anon\": True}, decode_times=False)\n",
    "scg_ds = xr.open_dataset(scg_url, chunks='auto', engine='zarr', storage_options={\"anon\": True}, decode_times=False)\n",
    "\n",
    "units, reference_date = baker_ds.time.attrs['units'].split('since')\n",
    "baker_ds['time'] = pd.date_range(start=reference_date, periods=baker_ds.sizes['time'], freq='MS')"
   ]
  },
  {
   "cell_type": "code",
   "execution_count": 5,
   "id": "df09064d-0e50-4e3d-8e08-c526405a5489",
   "metadata": {
    "tags": []
   },
   "outputs": [
    {
     "name": "stdout",
     "output_type": "stream",
     "text": [
      "Dataset center: 586638.4387119232, 5403404.566348841\n",
      "Test column size: 50.0 by 50.0 in spatial coordinate units.\n",
      "No CRS defined.\n",
      "Using xarray slicing to select data along spatial coordinate axes.\n"
     ]
    },
    {
     "name": "stderr",
     "output_type": "stream",
     "text": [
      "/home/jovyan/geosmart_hackweek/space_time/gtsa/gtsa/geospatial.py:78: FutureWarning: Unlike other reduction functions (e.g. `skew`, `kurtosis`), the default behavior of `mode` typically preserves the axis it acts along. In SciPy 1.11.0, this behavior will change: the default value of `keepdims` will become False, the `axis` over which the statistic is taken will be eliminated, and the value None will no longer be accepted. Set `keepdims` to True or False to avoid this warning.\n",
      "  xmode = np.abs(scipy.stats.mode(ds[\"y\"].diff(\"y\"))[0])\n",
      "/home/jovyan/geosmart_hackweek/space_time/gtsa/gtsa/geospatial.py:79: FutureWarning: Unlike other reduction functions (e.g. `skew`, `kurtosis`), the default behavior of `mode` typically preserves the axis it acts along. In SciPy 1.11.0, this behavior will change: the default value of `keepdims` will become False, the `axis` over which the statistic is taken will be eliminated, and the value None will no longer be accepted. Set `keepdims` to True or False to avoid this warning.\n",
      "  ymode = np.abs(scipy.stats.mode(ds[\"y\"].diff(\"y\"))[0])\n"
     ]
    }
   ],
   "source": [
    "# if it says gtsa.geospatial not found, just restart and try again\n",
    "subset_size = 50\n",
    "small_baker_ds = gtsa.geospatial.extract_dataset_center_window(baker_ds, size = subset_size)"
   ]
  },
  {
   "cell_type": "markdown",
   "id": "5179ffe4-e401-4aec-8fa5-e8f81b8abe51",
   "metadata": {
    "tags": [],
    "user_expressions": []
   },
   "source": [
    "## Generate new space to predict"
   ]
  },
  {
   "cell_type": "code",
   "execution_count": 6,
   "id": "17cc2d17-dfa9-4c7b-973e-c8dd6ae2226e",
   "metadata": {
    "tags": []
   },
   "outputs": [],
   "source": [
    "xmin = small_baker_ds['band1'].x.values.min()\n",
    "xmax = small_baker_ds['band1'].x.values.max()\n",
    "ymin = small_baker_ds['band1'].y.values.min()\n",
    "ymax = small_baker_ds['band1'].y.values.max()\n",
    "nx,ny = len(small_baker_ds['band1'].x.values),len(small_baker_ds['band1'].y.values)\n",
    "nx_predict,ny_predict = 2*(nx),2*(ny)\n",
    "\n",
    "prediction_x,prediction_y = gtsa.temporal.EL_create_prediction_space(xmin,xmax,ymin,ymax,\n",
    "                                                                     nx_predict,ny_predict)\n",
    "prediction_X,prediction_Y = np.meshgrid(prediction_x,prediction_y)\n",
    "prediction_xy = np.array([prediction_y,prediction_x]).T"
   ]
  },
  {
   "cell_type": "code",
   "execution_count": 7,
   "id": "19f8bdba-fabe-432a-bb03-c0f9928cd815",
   "metadata": {
    "tags": []
   },
   "outputs": [
    {
     "data": {
      "text/plain": [
       "(55, 51, 51)"
      ]
     },
     "execution_count": 7,
     "metadata": {},
     "output_type": "execute_result"
    }
   ],
   "source": [
    "small_baker_ds['band1'].values.shape"
   ]
  },
  {
   "cell_type": "markdown",
   "id": "c82d4f24-fed8-4274-a0f4-2d772d9fc76d",
   "metadata": {
    "tags": [],
    "user_expressions": []
   },
   "source": [
    "## Select Kernel"
   ]
  },
  {
   "cell_type": "code",
   "execution_count": 8,
   "id": "262e935b-f864-4ba3-bbb5-0f26c4f4cc2a",
   "metadata": {
    "tags": []
   },
   "outputs": [],
   "source": [
    "from sklearn.gaussian_process import GaussianProcessRegressor\n",
    "from sklearn.gaussian_process.kernels import (\n",
    "    RBF,\n",
    "    ConstantKernel,\n",
    "    ExpSineSquared,\n",
    "    PairwiseKernel,\n",
    "    RationalQuadratic,\n",
    "    WhiteKernel,\n",
    "    Matern,\n",
    ")"
   ]
  },
  {
   "cell_type": "code",
   "execution_count": 48,
   "id": "87ea35c6-d6e8-43bc-8c40-cbde6fd0c932",
   "metadata": {
    "tags": []
   },
   "outputs": [],
   "source": [
    "# may need to param tuning\n",
    "\n",
    "from sklearn.gaussian_process.kernels import RBF, ConstantKernel as C\n",
    "# kernel = C(1.0, (1e-3, 1e3)) * Matern(length_scale=1e-3, nu=1.0)\n",
    "length_scale_param=1.9\n",
    "length_scale_bounds_param=(1e-05, 100000.0)\n",
    "nu_param=2.5\n",
    "matern=Matern(length_scale=length_scale_param,\n",
    "              length_scale_bounds=length_scale_bounds_param,nu=nu_param)\n",
    "kernel = matern + WhiteKernel()\n",
    "\n",
    "# kernel = k1\n",
    "# kernel = k1+k2+k3"
   ]
  },
  {
   "cell_type": "markdown",
   "id": "9a51102f-9d28-4c7e-a84f-1aa4bf713972",
   "metadata": {
    "tags": [],
    "user_expressions": []
   },
   "source": [
    "## Tidy up input data"
   ]
  },
  {
   "cell_type": "code",
   "execution_count": 10,
   "id": "0559918e-2e58-45a0-a6b4-5fab75ea533d",
   "metadata": {
    "tags": []
   },
   "outputs": [
    {
     "name": "stdout",
     "output_type": "stream",
     "text": [
      "(55, 51, 51)\n",
      "(51,)\n",
      "(51,)\n"
     ]
    }
   ],
   "source": [
    "print(small_baker_ds['band1'].values.shape)\n",
    "print(small_baker_ds['band1'].x.values.shape)\n",
    "print(small_baker_ds['band1'].y.values.shape)"
   ]
  },
  {
   "cell_type": "code",
   "execution_count": 11,
   "id": "ab43701d-6c2d-4c3d-91b5-ab00bf06ef38",
   "metadata": {
    "tags": []
   },
   "outputs": [
    {
     "name": "stdout",
     "output_type": "stream",
     "text": [
      "shape of input x  (2601,)\n",
      "shape of input y  (2601,)\n",
      "shape of input xz  (2601, 2)\n",
      "shape of input z  (2601,)\n"
     ]
    }
   ],
   "source": [
    "# currently only testing one slice in time\n",
    "z_array_nomask = small_baker_ds['band1'].values[50,:,:]\n",
    "X,Y = np.meshgrid(small_baker_ds['band1'].x.values,small_baker_ds['band1'].y.values)\n",
    "\n",
    "mask = np.isfinite(z_array_nomask)\n",
    "# print(z_array_nomask)\n",
    "z_array = z_array_nomask[mask] \n",
    "x_array = X[mask]    \n",
    "y_array = Y[mask]\n",
    "xy_array = np.array([y_array,x_array]).T\n",
    "print(\"shape of input x \", x_array.shape)\n",
    "print(\"shape of input y \", y_array.shape)\n",
    "print(\"shape of input xz \", xy_array.shape)\n",
    "print(\"shape of input z \", z_array.shape)"
   ]
  },
  {
   "cell_type": "markdown",
   "id": "c8fabf41-7ad1-4a8e-a921-27108f43e465",
   "metadata": {
    "tags": [],
    "user_expressions": []
   },
   "source": [
    "## Run spatial GP in gtsa"
   ]
  },
  {
   "cell_type": "code",
   "execution_count": 27,
   "id": "9cf65a16-fd80-4516-852b-63c383a1ac4a",
   "metadata": {
    "tags": []
   },
   "outputs": [
    {
     "name": "stdout",
     "output_type": "stream",
     "text": [
      "3231.3748\n"
     ]
    }
   ],
   "source": [
    "print(z_array.min())"
   ]
  },
  {
   "cell_type": "code",
   "execution_count": 49,
   "id": "a35134c3-9b31-4e1d-b1bf-1cb97711d421",
   "metadata": {
    "tags": []
   },
   "outputs": [
    {
     "name": "stdout",
     "output_type": "stream",
     "text": [
      "Matern(length_scale=1.9, nu=2.5) + WhiteKernel(noise_level=1)\n",
      "(2601,)\n"
     ]
    }
   ],
   "source": [
    "# test EL_GPR_model\n",
    "model = gtsa.temporal.EL_GPR_model(xy_array,z_array,kernel,alpha=5)"
   ]
  },
  {
   "cell_type": "code",
   "execution_count": 50,
   "id": "b7e83a36-b933-49e5-8d5c-8a83c652146d",
   "metadata": {
    "tags": []
   },
   "outputs": [
    {
     "name": "stdout",
     "output_type": "stream",
     "text": [
      "shape of input xy_predict  (10404, 2)\n",
      "shape of input x_predict  (102,)\n",
      "shape of mean_predict  (10404,)\n",
      "shape of std_prediction  (10404,)\n"
     ]
    }
   ],
   "source": [
    "from itertools import product\n",
    "xy_predict = np.array(list(product(prediction_x,prediction_y)))\n",
    "print(\"shape of input xy_predict \", xy_predict.shape)\n",
    "print(\"shape of input x_predict \", prediction_x.shape)\n",
    "mean_prediction, std_prediction = gtsa.temporal.EL_GPR_predict(model, xy_predict)\n",
    "print(\"shape of mean_predict \", mean_prediction.shape)\n",
    "print(\"shape of std_prediction \", std_prediction.shape)"
   ]
  },
  {
   "cell_type": "markdown",
   "id": "1b31b2af-9547-40a1-8c14-878fff3336c9",
   "metadata": {
    "tags": [],
    "user_expressions": []
   },
   "source": [
    "## Visualization of output slice"
   ]
  },
  {
   "cell_type": "code",
   "execution_count": 51,
   "id": "e7b8c5e0-a8f4-448f-88cc-06e1c76bce14",
   "metadata": {
    "tags": []
   },
   "outputs": [
    {
     "name": "stdout",
     "output_type": "stream",
     "text": [
      "[[3244.92724609 3244.92724609 3244.92724609 ... 3244.92724609\n",
      "  3244.92724609 3244.92724609]\n",
      " [3244.92724609 3244.92724609 3244.92724609 ... 3244.92724609\n",
      "  3244.92724609 3244.92724609]\n",
      " [3244.92724609 3244.92724609 3244.92724609 ... 3244.92724609\n",
      "  3244.92724609 3244.92724609]\n",
      " ...\n",
      " [3244.92724609 3244.92724609 3244.92724609 ... 3244.92724609\n",
      "  3244.92724609 3244.92724609]\n",
      " [3244.92724609 3244.92724609 3244.92724609 ... 3244.92724609\n",
      "  3244.92724609 3244.92724609]\n",
      " [3244.92724609 3244.92724609 3244.92724609 ... 3244.92724609\n",
      "  3244.92724609 3244.92724609]]\n"
     ]
    }
   ],
   "source": [
    "mean_prediction=mean_prediction.reshape(nx_predict,ny_predict)\n",
    "std_prediction=std_prediction.reshape(nx_predict,ny_predict)\n",
    "print(mean_prediction)"
   ]
  },
  {
   "cell_type": "code",
   "execution_count": 15,
   "id": "803b6d04-70ee-4a8f-9eb1-825b341716ad",
   "metadata": {
    "tags": []
   },
   "outputs": [
    {
     "data": {
      "image/png": "[encoded data removed]",
      "text/plain": [
       "<Figure size 1000x500 with 4 Axes>"
      ]
     },
     "metadata": {},
     "output_type": "display_data"
    }
   ],
   "source": [
    "from mpl_toolkits.mplot3d import Axes3D\n",
    "import numpy as np\n",
    "from matplotlib import cm\n",
    "\n",
    "# create the figure\n",
    "fig = plt.figure(figsize=(10,5))\n",
    "\n",
    "# show the 3D rotated projection\n",
    "ax2 = fig.add_subplot(121)\n",
    "cset = plt.contourf(X,Y, z_array_nomask, cmap='viridis')\n",
    "plt.colorbar()\n",
    "ax2 = fig.add_subplot(122)\n",
    "cset = plt.contourf(prediction_X,prediction_Y, mean_prediction, cmap='viridis')\n",
    "plt.colorbar()\n",
    "\n",
    "plt.show()"
   ]
  },
  {
   "cell_type": "markdown",
   "id": "65bb1ef0-2b2d-4547-bc63-04b98ff9aaf6",
   "metadata": {
    "tags": [],
    "user_expressions": []
   },
   "source": [
    "# Ignore below"
   ]
  },
  {
   "cell_type": "code",
   "execution_count": 11,
   "id": "6a5def6e-75b8-4974-9e88-0f29a23c3bfe",
   "metadata": {
    "tags": []
   },
   "outputs": [
    {
     "name": "stderr",
     "output_type": "stream",
     "text": [
      "/home/jovyan/geosmart_hackweek/space_time/gtsa/gtsa/temporal.py:193: FutureWarning: ``output_sizes`` should be given in the ``dask_gufunc_kwargs`` parameter. It will be removed as direct parameter in a future version.\n",
      "  results = xr.apply_ufunc(\n"
     ]
    },
    {
     "ename": "KilledWorker",
     "evalue": "Attempted to run task ('vectorize_EL_dask_GPR-cd8cb23de5827c5d4240fb012a6a4c9e', 0) on 3 different workers, but all those workers died while running it. The last worker that attempt to run the task was tcp://127.0.0.1:40417. Inspecting worker logs is often a good next step to diagnose what went wrong. For more information see https://distributed.dask.org/en/stable/killed.html.",
     "output_type": "error",
     "traceback": [
      "\u001b[0;31m---------------------------------------------------------------------------\u001b[0m",
      "\u001b[0;31mKilledWorker\u001b[0m                              Traceback (most recent call last)",
      "Cell \u001b[0;32mIn [11], line 9\u001b[0m\n\u001b[1;32m      1\u001b[0m ds_result \u001b[38;5;241m=\u001b[39m \u001b[43mgtsa\u001b[49m\u001b[38;5;241;43m.\u001b[39;49m\u001b[43mtemporal\u001b[49m\u001b[38;5;241;43m.\u001b[39;49m\u001b[43mEL_dask_apply_GPR\u001b[49m\u001b[43m(\u001b[49m\u001b[43msmall_baker_ds_train\u001b[49m\u001b[43m[\u001b[49m\u001b[38;5;124;43m'\u001b[39;49m\u001b[38;5;124;43mband1\u001b[39;49m\u001b[38;5;124;43m'\u001b[39;49m\u001b[43m]\u001b[49m\u001b[43m,\u001b[49m\n\u001b[1;32m      2\u001b[0m \u001b[43m                                         \u001b[49m\u001b[43m[\u001b[49m\u001b[43m[\u001b[49m\u001b[38;5;124;43m'\u001b[39;49m\u001b[38;5;124;43my\u001b[39;49m\u001b[38;5;124;43m'\u001b[39;49m\u001b[43m,\u001b[49m\u001b[38;5;124;43m'\u001b[39;49m\u001b[38;5;124;43mx\u001b[39;49m\u001b[38;5;124;43m'\u001b[39;49m\u001b[43m]\u001b[49m\u001b[43m]\u001b[49m\u001b[43m,\u001b[49m\u001b[43m \u001b[49m\n\u001b[1;32m      3\u001b[0m \u001b[43m                                         \u001b[49m\u001b[43mkwargs\u001b[49m\u001b[38;5;241;43m=\u001b[39;49m\u001b[43m{\u001b[49m\u001b[38;5;124;43m'\u001b[39;49m\u001b[38;5;124;43mx\u001b[39;49m\u001b[38;5;124;43m'\u001b[39;49m\u001b[43m:\u001b[49m\u001b[43msmall_baker_ds\u001b[49m\u001b[43m[\u001b[49m\u001b[38;5;124;43m'\u001b[39;49m\u001b[38;5;124;43mband1\u001b[39;49m\u001b[38;5;124;43m'\u001b[39;49m\u001b[43m]\u001b[49m\u001b[38;5;241;43m.\u001b[39;49m\u001b[43mx\u001b[49m\u001b[38;5;241;43m.\u001b[39;49m\u001b[43mvalues\u001b[49m\u001b[43m,\u001b[49m\n\u001b[1;32m      4\u001b[0m \u001b[43m                                                 \u001b[49m\u001b[38;5;124;43m'\u001b[39;49m\u001b[38;5;124;43my\u001b[39;49m\u001b[38;5;124;43m'\u001b[39;49m\u001b[43m:\u001b[49m\u001b[43msmall_baker_ds\u001b[49m\u001b[43m[\u001b[49m\u001b[38;5;124;43m'\u001b[39;49m\u001b[38;5;124;43mband1\u001b[39;49m\u001b[38;5;124;43m'\u001b[39;49m\u001b[43m]\u001b[49m\u001b[38;5;241;43m.\u001b[39;49m\u001b[43my\u001b[49m\u001b[38;5;241;43m.\u001b[39;49m\u001b[43mvalues\u001b[49m\u001b[43m,\u001b[49m\n\u001b[1;32m      5\u001b[0m \u001b[43m                                                 \u001b[49m\u001b[38;5;124;43m'\u001b[39;49m\u001b[38;5;124;43mkernel\u001b[39;49m\u001b[38;5;124;43m'\u001b[39;49m\u001b[43m:\u001b[49m\u001b[43m \u001b[49m\u001b[43mkernel\u001b[49m\u001b[43m,\u001b[49m\n\u001b[1;32m      6\u001b[0m \u001b[43m                                                 \u001b[49m\u001b[38;5;124;43m'\u001b[39;49m\u001b[38;5;124;43mprediction_x\u001b[39;49m\u001b[38;5;124;43m'\u001b[39;49m\u001b[43m \u001b[49m\u001b[43m:\u001b[49m\u001b[43m \u001b[49m\u001b[43mprediction_X\u001b[49m\u001b[43m,\u001b[49m\n\u001b[1;32m      7\u001b[0m \u001b[43m                                                 \u001b[49m\u001b[38;5;124;43m'\u001b[39;49m\u001b[38;5;124;43mprediction_y\u001b[39;49m\u001b[38;5;124;43m'\u001b[39;49m\u001b[43m \u001b[49m\u001b[43m:\u001b[49m\u001b[43m \u001b[49m\u001b[43mprediction_Y\u001b[49m\u001b[43m,\u001b[49m\n\u001b[1;32m      8\u001b[0m \u001b[43m                                                 \u001b[49m\u001b[38;5;124;43m'\u001b[39;49m\u001b[38;5;124;43mprediction_xy\u001b[39;49m\u001b[38;5;124;43m'\u001b[39;49m\u001b[43m \u001b[49m\u001b[43m:\u001b[49m\u001b[43m \u001b[49m\u001b[43mprediction_xy\u001b[49m\u001b[43m}\u001b[49m\n\u001b[0;32m----> 9\u001b[0m \u001b[43m                                        \u001b[49m\u001b[43m)\u001b[49m\u001b[38;5;241;43m.\u001b[39;49m\u001b[43mcompute\u001b[49m\u001b[43m(\u001b[49m\u001b[43m)\u001b[49m\n",
      "File \u001b[0;32m/srv/conda/envs/notebook/lib/python3.10/site-packages/xarray/core/dataset.py:1013\u001b[0m, in \u001b[0;36mDataset.compute\u001b[0;34m(self, **kwargs)\u001b[0m\n\u001b[1;32m    994\u001b[0m \u001b[38;5;250m\u001b[39m\u001b[38;5;124;03m\"\"\"Manually trigger loading and/or computation of this dataset's data\u001b[39;00m\n\u001b[1;32m    995\u001b[0m \u001b[38;5;124;03mfrom disk or a remote source into memory and return a new dataset.\u001b[39;00m\n\u001b[1;32m    996\u001b[0m \u001b[38;5;124;03mUnlike load, the original dataset is left unaltered.\u001b[39;00m\n\u001b[0;32m   (...)\u001b[0m\n\u001b[1;32m   1010\u001b[0m \u001b[38;5;124;03mdask.compute\u001b[39;00m\n\u001b[1;32m   1011\u001b[0m \u001b[38;5;124;03m\"\"\"\u001b[39;00m\n\u001b[1;32m   1012\u001b[0m new \u001b[38;5;241m=\u001b[39m \u001b[38;5;28mself\u001b[39m\u001b[38;5;241m.\u001b[39mcopy(deep\u001b[38;5;241m=\u001b[39m\u001b[38;5;28;01mFalse\u001b[39;00m)\n\u001b[0;32m-> 1013\u001b[0m \u001b[38;5;28;01mreturn\u001b[39;00m \u001b[43mnew\u001b[49m\u001b[38;5;241;43m.\u001b[39;49m\u001b[43mload\u001b[49m\u001b[43m(\u001b[49m\u001b[38;5;241;43m*\u001b[39;49m\u001b[38;5;241;43m*\u001b[39;49m\u001b[43mkwargs\u001b[49m\u001b[43m)\u001b[49m\n",
      "File \u001b[0;32m/srv/conda/envs/notebook/lib/python3.10/site-packages/xarray/core/dataset.py:847\u001b[0m, in \u001b[0;36mDataset.load\u001b[0;34m(self, **kwargs)\u001b[0m\n\u001b[1;32m    844\u001b[0m chunkmanager \u001b[38;5;241m=\u001b[39m get_chunked_array_type(\u001b[38;5;241m*\u001b[39mlazy_data\u001b[38;5;241m.\u001b[39mvalues())\n\u001b[1;32m    846\u001b[0m \u001b[38;5;66;03m# evaluate all the chunked arrays simultaneously\u001b[39;00m\n\u001b[0;32m--> 847\u001b[0m evaluated_data \u001b[38;5;241m=\u001b[39m \u001b[43mchunkmanager\u001b[49m\u001b[38;5;241;43m.\u001b[39;49m\u001b[43mcompute\u001b[49m\u001b[43m(\u001b[49m\u001b[38;5;241;43m*\u001b[39;49m\u001b[43mlazy_data\u001b[49m\u001b[38;5;241;43m.\u001b[39;49m\u001b[43mvalues\u001b[49m\u001b[43m(\u001b[49m\u001b[43m)\u001b[49m\u001b[43m,\u001b[49m\u001b[43m \u001b[49m\u001b[38;5;241;43m*\u001b[39;49m\u001b[38;5;241;43m*\u001b[39;49m\u001b[43mkwargs\u001b[49m\u001b[43m)\u001b[49m\n\u001b[1;32m    849\u001b[0m \u001b[38;5;28;01mfor\u001b[39;00m k, data \u001b[38;5;129;01min\u001b[39;00m \u001b[38;5;28mzip\u001b[39m(lazy_data, evaluated_data):\n\u001b[1;32m    850\u001b[0m     \u001b[38;5;28mself\u001b[39m\u001b[38;5;241m.\u001b[39mvariables[k]\u001b[38;5;241m.\u001b[39mdata \u001b[38;5;241m=\u001b[39m data\n",
      "File \u001b[0;32m/srv/conda/envs/notebook/lib/python3.10/site-packages/xarray/core/daskmanager.py:70\u001b[0m, in \u001b[0;36mDaskManager.compute\u001b[0;34m(self, *data, **kwargs)\u001b[0m\n\u001b[1;32m     67\u001b[0m \u001b[38;5;28;01mdef\u001b[39;00m \u001b[38;5;21mcompute\u001b[39m(\u001b[38;5;28mself\u001b[39m, \u001b[38;5;241m*\u001b[39mdata: DaskArray, \u001b[38;5;241m*\u001b[39m\u001b[38;5;241m*\u001b[39mkwargs) \u001b[38;5;241m-\u001b[39m\u001b[38;5;241m>\u001b[39m \u001b[38;5;28mtuple\u001b[39m[np\u001b[38;5;241m.\u001b[39mndarray, \u001b[38;5;241m.\u001b[39m\u001b[38;5;241m.\u001b[39m\u001b[38;5;241m.\u001b[39m]:\n\u001b[1;32m     68\u001b[0m     \u001b[38;5;28;01mfrom\u001b[39;00m \u001b[38;5;21;01mdask\u001b[39;00m\u001b[38;5;21;01m.\u001b[39;00m\u001b[38;5;21;01marray\u001b[39;00m \u001b[38;5;28;01mimport\u001b[39;00m compute\n\u001b[0;32m---> 70\u001b[0m     \u001b[38;5;28;01mreturn\u001b[39;00m \u001b[43mcompute\u001b[49m\u001b[43m(\u001b[49m\u001b[38;5;241;43m*\u001b[39;49m\u001b[43mdata\u001b[49m\u001b[43m,\u001b[49m\u001b[43m \u001b[49m\u001b[38;5;241;43m*\u001b[39;49m\u001b[38;5;241;43m*\u001b[39;49m\u001b[43mkwargs\u001b[49m\u001b[43m)\u001b[49m\n",
      "File \u001b[0;32m/srv/conda/envs/notebook/lib/python3.10/site-packages/dask/base.py:600\u001b[0m, in \u001b[0;36mcompute\u001b[0;34m(traverse, optimize_graph, scheduler, get, *args, **kwargs)\u001b[0m\n\u001b[1;32m    597\u001b[0m     keys\u001b[38;5;241m.\u001b[39mappend(x\u001b[38;5;241m.\u001b[39m__dask_keys__())\n\u001b[1;32m    598\u001b[0m     postcomputes\u001b[38;5;241m.\u001b[39mappend(x\u001b[38;5;241m.\u001b[39m__dask_postcompute__())\n\u001b[0;32m--> 600\u001b[0m results \u001b[38;5;241m=\u001b[39m \u001b[43mschedule\u001b[49m\u001b[43m(\u001b[49m\u001b[43mdsk\u001b[49m\u001b[43m,\u001b[49m\u001b[43m \u001b[49m\u001b[43mkeys\u001b[49m\u001b[43m,\u001b[49m\u001b[43m \u001b[49m\u001b[38;5;241;43m*\u001b[39;49m\u001b[38;5;241;43m*\u001b[39;49m\u001b[43mkwargs\u001b[49m\u001b[43m)\u001b[49m\n\u001b[1;32m    601\u001b[0m \u001b[38;5;28;01mreturn\u001b[39;00m repack([f(r, \u001b[38;5;241m*\u001b[39ma) \u001b[38;5;28;01mfor\u001b[39;00m r, (f, a) \u001b[38;5;129;01min\u001b[39;00m \u001b[38;5;28mzip\u001b[39m(results, postcomputes)])\n",
      "File \u001b[0;32m/srv/conda/envs/notebook/lib/python3.10/site-packages/distributed/client.py:3122\u001b[0m, in \u001b[0;36mClient.get\u001b[0;34m(self, dsk, keys, workers, allow_other_workers, resources, sync, asynchronous, direct, retries, priority, fifo_timeout, actors, **kwargs)\u001b[0m\n\u001b[1;32m   3120\u001b[0m         should_rejoin \u001b[38;5;241m=\u001b[39m \u001b[38;5;28;01mFalse\u001b[39;00m\n\u001b[1;32m   3121\u001b[0m \u001b[38;5;28;01mtry\u001b[39;00m:\n\u001b[0;32m-> 3122\u001b[0m     results \u001b[38;5;241m=\u001b[39m \u001b[38;5;28;43mself\u001b[39;49m\u001b[38;5;241;43m.\u001b[39;49m\u001b[43mgather\u001b[49m\u001b[43m(\u001b[49m\u001b[43mpacked\u001b[49m\u001b[43m,\u001b[49m\u001b[43m \u001b[49m\u001b[43masynchronous\u001b[49m\u001b[38;5;241;43m=\u001b[39;49m\u001b[43masynchronous\u001b[49m\u001b[43m,\u001b[49m\u001b[43m \u001b[49m\u001b[43mdirect\u001b[49m\u001b[38;5;241;43m=\u001b[39;49m\u001b[43mdirect\u001b[49m\u001b[43m)\u001b[49m\n\u001b[1;32m   3123\u001b[0m \u001b[38;5;28;01mfinally\u001b[39;00m:\n\u001b[1;32m   3124\u001b[0m     \u001b[38;5;28;01mfor\u001b[39;00m f \u001b[38;5;129;01min\u001b[39;00m futures\u001b[38;5;241m.\u001b[39mvalues():\n",
      "File \u001b[0;32m/srv/conda/envs/notebook/lib/python3.10/site-packages/distributed/client.py:2291\u001b[0m, in \u001b[0;36mClient.gather\u001b[0;34m(self, futures, errors, direct, asynchronous)\u001b[0m\n\u001b[1;32m   2289\u001b[0m \u001b[38;5;28;01melse\u001b[39;00m:\n\u001b[1;32m   2290\u001b[0m     local_worker \u001b[38;5;241m=\u001b[39m \u001b[38;5;28;01mNone\u001b[39;00m\n\u001b[0;32m-> 2291\u001b[0m \u001b[38;5;28;01mreturn\u001b[39;00m \u001b[38;5;28;43mself\u001b[39;49m\u001b[38;5;241;43m.\u001b[39;49m\u001b[43msync\u001b[49m\u001b[43m(\u001b[49m\n\u001b[1;32m   2292\u001b[0m \u001b[43m    \u001b[49m\u001b[38;5;28;43mself\u001b[39;49m\u001b[38;5;241;43m.\u001b[39;49m\u001b[43m_gather\u001b[49m\u001b[43m,\u001b[49m\n\u001b[1;32m   2293\u001b[0m \u001b[43m    \u001b[49m\u001b[43mfutures\u001b[49m\u001b[43m,\u001b[49m\n\u001b[1;32m   2294\u001b[0m \u001b[43m    \u001b[49m\u001b[43merrors\u001b[49m\u001b[38;5;241;43m=\u001b[39;49m\u001b[43merrors\u001b[49m\u001b[43m,\u001b[49m\n\u001b[1;32m   2295\u001b[0m \u001b[43m    \u001b[49m\u001b[43mdirect\u001b[49m\u001b[38;5;241;43m=\u001b[39;49m\u001b[43mdirect\u001b[49m\u001b[43m,\u001b[49m\n\u001b[1;32m   2296\u001b[0m \u001b[43m    \u001b[49m\u001b[43mlocal_worker\u001b[49m\u001b[38;5;241;43m=\u001b[39;49m\u001b[43mlocal_worker\u001b[49m\u001b[43m,\u001b[49m\n\u001b[1;32m   2297\u001b[0m \u001b[43m    \u001b[49m\u001b[43masynchronous\u001b[49m\u001b[38;5;241;43m=\u001b[39;49m\u001b[43masynchronous\u001b[49m\u001b[43m,\u001b[49m\n\u001b[1;32m   2298\u001b[0m \u001b[43m\u001b[49m\u001b[43m)\u001b[49m\n",
      "File \u001b[0;32m/srv/conda/envs/notebook/lib/python3.10/site-packages/distributed/utils.py:339\u001b[0m, in \u001b[0;36mSyncMethodMixin.sync\u001b[0;34m(self, func, asynchronous, callback_timeout, *args, **kwargs)\u001b[0m\n\u001b[1;32m    337\u001b[0m     \u001b[38;5;28;01mreturn\u001b[39;00m future\n\u001b[1;32m    338\u001b[0m \u001b[38;5;28;01melse\u001b[39;00m:\n\u001b[0;32m--> 339\u001b[0m     \u001b[38;5;28;01mreturn\u001b[39;00m \u001b[43msync\u001b[49m\u001b[43m(\u001b[49m\n\u001b[1;32m    340\u001b[0m \u001b[43m        \u001b[49m\u001b[38;5;28;43mself\u001b[39;49m\u001b[38;5;241;43m.\u001b[39;49m\u001b[43mloop\u001b[49m\u001b[43m,\u001b[49m\u001b[43m \u001b[49m\u001b[43mfunc\u001b[49m\u001b[43m,\u001b[49m\u001b[43m \u001b[49m\u001b[38;5;241;43m*\u001b[39;49m\u001b[43margs\u001b[49m\u001b[43m,\u001b[49m\u001b[43m \u001b[49m\u001b[43mcallback_timeout\u001b[49m\u001b[38;5;241;43m=\u001b[39;49m\u001b[43mcallback_timeout\u001b[49m\u001b[43m,\u001b[49m\u001b[43m \u001b[49m\u001b[38;5;241;43m*\u001b[39;49m\u001b[38;5;241;43m*\u001b[39;49m\u001b[43mkwargs\u001b[49m\n\u001b[1;32m    341\u001b[0m \u001b[43m    \u001b[49m\u001b[43m)\u001b[49m\n",
      "File \u001b[0;32m/srv/conda/envs/notebook/lib/python3.10/site-packages/distributed/utils.py:406\u001b[0m, in \u001b[0;36msync\u001b[0;34m(loop, func, callback_timeout, *args, **kwargs)\u001b[0m\n\u001b[1;32m    404\u001b[0m \u001b[38;5;28;01mif\u001b[39;00m error:\n\u001b[1;32m    405\u001b[0m     typ, exc, tb \u001b[38;5;241m=\u001b[39m error\n\u001b[0;32m--> 406\u001b[0m     \u001b[38;5;28;01mraise\u001b[39;00m exc\u001b[38;5;241m.\u001b[39mwith_traceback(tb)\n\u001b[1;32m    407\u001b[0m \u001b[38;5;28;01melse\u001b[39;00m:\n\u001b[1;32m    408\u001b[0m     \u001b[38;5;28;01mreturn\u001b[39;00m result\n",
      "File \u001b[0;32m/srv/conda/envs/notebook/lib/python3.10/site-packages/distributed/utils.py:379\u001b[0m, in \u001b[0;36msync.<locals>.f\u001b[0;34m()\u001b[0m\n\u001b[1;32m    377\u001b[0m         future \u001b[38;5;241m=\u001b[39m asyncio\u001b[38;5;241m.\u001b[39mwait_for(future, callback_timeout)\n\u001b[1;32m    378\u001b[0m     future \u001b[38;5;241m=\u001b[39m asyncio\u001b[38;5;241m.\u001b[39mensure_future(future)\n\u001b[0;32m--> 379\u001b[0m     result \u001b[38;5;241m=\u001b[39m \u001b[38;5;28;01myield\u001b[39;00m future\n\u001b[1;32m    380\u001b[0m \u001b[38;5;28;01mexcept\u001b[39;00m \u001b[38;5;167;01mException\u001b[39;00m:\n\u001b[1;32m    381\u001b[0m     error \u001b[38;5;241m=\u001b[39m sys\u001b[38;5;241m.\u001b[39mexc_info()\n",
      "File \u001b[0;32m/srv/conda/envs/notebook/lib/python3.10/site-packages/tornado/gen.py:762\u001b[0m, in \u001b[0;36mRunner.run\u001b[0;34m(self)\u001b[0m\n\u001b[1;32m    759\u001b[0m exc_info \u001b[38;5;241m=\u001b[39m \u001b[38;5;28;01mNone\u001b[39;00m\n\u001b[1;32m    761\u001b[0m \u001b[38;5;28;01mtry\u001b[39;00m:\n\u001b[0;32m--> 762\u001b[0m     value \u001b[38;5;241m=\u001b[39m \u001b[43mfuture\u001b[49m\u001b[38;5;241;43m.\u001b[39;49m\u001b[43mresult\u001b[49m\u001b[43m(\u001b[49m\u001b[43m)\u001b[49m\n\u001b[1;32m    763\u001b[0m \u001b[38;5;28;01mexcept\u001b[39;00m \u001b[38;5;167;01mException\u001b[39;00m:\n\u001b[1;32m    764\u001b[0m     exc_info \u001b[38;5;241m=\u001b[39m sys\u001b[38;5;241m.\u001b[39mexc_info()\n",
      "File \u001b[0;32m/srv/conda/envs/notebook/lib/python3.10/site-packages/distributed/client.py:2154\u001b[0m, in \u001b[0;36mClient._gather\u001b[0;34m(self, futures, errors, direct, local_worker)\u001b[0m\n\u001b[1;32m   2152\u001b[0m         exc \u001b[38;5;241m=\u001b[39m CancelledError(key)\n\u001b[1;32m   2153\u001b[0m     \u001b[38;5;28;01melse\u001b[39;00m:\n\u001b[0;32m-> 2154\u001b[0m         \u001b[38;5;28;01mraise\u001b[39;00m exception\u001b[38;5;241m.\u001b[39mwith_traceback(traceback)\n\u001b[1;32m   2155\u001b[0m     \u001b[38;5;28;01mraise\u001b[39;00m exc\n\u001b[1;32m   2156\u001b[0m \u001b[38;5;28;01mif\u001b[39;00m errors \u001b[38;5;241m==\u001b[39m \u001b[38;5;124m\"\u001b[39m\u001b[38;5;124mskip\u001b[39m\u001b[38;5;124m\"\u001b[39m:\n",
      "\u001b[0;31mKilledWorker\u001b[0m: Attempted to run task ('vectorize_EL_dask_GPR-cd8cb23de5827c5d4240fb012a6a4c9e', 0) on 3 different workers, but all those workers died while running it. The last worker that attempt to run the task was tcp://127.0.0.1:40417. Inspecting worker logs is often a good next step to diagnose what went wrong. For more information see https://distributed.dask.org/en/stable/killed.html."
     ]
    }
   ],
   "source": [
    "ds_result = gtsa.temporal.EL_dask_apply_GPR(small_baker_ds_train['band1'],\n",
    "                                         [['y','x']], \n",
    "                                         kwargs={'x':small_baker_ds['band1'].x.values,\n",
    "                                                 'y':small_baker_ds['band1'].y.values,\n",
    "                                                 'kernel': kernel,\n",
    "                                                 'prediction_x' : prediction_X,\n",
    "                                                 'prediction_y' : prediction_Y,\n",
    "                                                 'prediction_xy' : prediction_xy}\n",
    "                                        ).compute()"
   ]
  },
  {
   "cell_type": "code",
   "execution_count": 23,
   "id": "2bb185f5-f10b-44bd-a229-b2f29c2daf86",
   "metadata": {
    "tags": []
   },
   "outputs": [
    {
     "name": "stdout",
     "output_type": "stream",
     "text": [
      "(101, 101, 55)\n",
      "(101, 101, 55)\n"
     ]
    }
   ],
   "source": [
    "print((small_baker_ds_train['band1'].shape))\n",
    "small_baker_ds_train['band1']=small_baker_ds_train['band1'].transpose(\"x\",\"y\",\"time\")\n",
    "print((small_baker_ds_train['band1'].shape))"
   ]
  },
  {
   "cell_type": "code",
   "execution_count": 65,
   "id": "cda3846d-6318-4c3f-b6e9-d3bafb900e29",
   "metadata": {
    "tags": []
   },
   "outputs": [
    {
     "data": {
      "image/png": "[encoded data removed]",
      "text/plain": [
       "<Figure size 640x480 with 2 Axes>"
      ]
     },
     "metadata": {},
     "output_type": "display_data"
    }
   ],
   "source": [
    "ds_result['mean_prediction'].isel(time=1).plot();"
   ]
  },
  {
   "cell_type": "markdown",
   "id": "78a38b0a-76e3-4677-ad0b-3427f637dc9a",
   "metadata": {
    "tags": [],
    "user_expressions": []
   },
   "source": [
    "# Visualization of 3D data"
   ]
  },
  {
   "cell_type": "code",
   "execution_count": 258,
   "id": "76680ab8-7b15-457e-a9f4-22224de0ab59",
   "metadata": {
    "tags": []
   },
   "outputs": [],
   "source": [
    "data = small_baker_ds_train['band1'].to_numpy()\n",
    "size_data = data.shape\n",
    "data_toplot = np.zeros((size_data[1],size_data[2],size_data[0]))\n",
    "for i in range(size_data[0]):\n",
    "    data_toplot[:,:,i]=data[i,:,:]\n",
    "# data_toplot=data_toplot.reshape(size_data[1],size_data[2],size_data[0])\n",
    "data_toplot.shape\n",
    "mask = ~np.isnan(data_toplot)"
   ]
  },
  {
   "cell_type": "code",
   "execution_count": 23,
   "id": "990a490c-cb8a-414b-97d3-727193c6b6ef",
   "metadata": {
    "tags": []
   },
   "outputs": [
    {
     "data": {
      "text/plain": [
       "array([1947.74743326, 1947.83230664, 1947.91444216, 1948.        ,\n",
       "       1948.08469945, 1948.16393443, 1948.24863388, 1948.33060109,\n",
       "       1948.41530055, 1948.49726776, 1948.58196721, 1948.66666667,\n",
       "       1948.74863388, 1948.83333333, 1948.91530055, 1949.        ,\n",
       "       1949.08487337, 1949.1615332 , 1949.24640657, 1949.32854209,\n",
       "       1949.41341547, 1949.49555099, 1949.58042437, 1949.66529774,\n",
       "       1949.74743326, 1949.83230664, 1949.91444216, 1950.        ,\n",
       "       1950.08487337, 1950.1615332 , 1950.24640657, 1950.32854209,\n",
       "       1950.41341547, 1950.49555099, 1950.58042437, 1950.66529774,\n",
       "       1950.74743326, 1950.83230664, 1950.91444216, 1951.        ,\n",
       "       1951.08487337, 1951.1615332 , 1951.24640657, 1951.32854209,\n",
       "       1951.41341547, 1951.49555099, 1951.58042437, 1951.66529774,\n",
       "       1951.74743326, 1951.83230664, 1951.91444216, 1952.        ,\n",
       "       1952.08469945, 1952.16393443, 1952.24863388])"
      ]
     },
     "execution_count": 23,
     "metadata": {},
     "output_type": "execute_result"
    }
   ],
   "source": [
    "time = small_baker_ds_train['band1'].time.values"
   ]
  },
  {
   "cell_type": "code",
   "execution_count": 259,
   "id": "b8f64320-24a9-45c4-a5b3-380564ca6355",
   "metadata": {
    "tags": []
   },
   "outputs": [
    {
     "data": {
      "text/plain": [
       "(101, 101, 55)"
      ]
     },
     "execution_count": 259,
     "metadata": {},
     "output_type": "execute_result"
    }
   ],
   "source": [
    "x = small_baker_ds_train['band1'].x.values\n",
    "y = small_baker_ds_train['band1'].y.values\n",
    "X,Y,Z = np.meshgrid(x,y,time)\n",
    "# data_toplot[data_toplot == inf | data_toplot==-inf] = np.nan\n",
    "# data_toplot = data_toplot[~np.isnan(data_toplot)]\n",
    "data_toplot[np.isnan(data_toplot)] = data_toplot[mask].mean()\n",
    "data_toplot.shape"
   ]
  },
  {
   "cell_type": "code",
   "execution_count": 260,
   "id": "c58397d6-af67-4a73-853e-1afdd3fdac78",
   "metadata": {
    "tags": []
   },
   "outputs": [
    {
     "data": {
      "text/plain": [
       "3239.604851049702"
      ]
     },
     "execution_count": 260,
     "metadata": {},
     "output_type": "execute_result"
    }
   ],
   "source": [
    "X,Y,Z = np.meshgrid(x,y,time)\n",
    "np.unique(np.isnan(Z))\n",
    "data_toplot.mean()"
   ]
  },
  {
   "cell_type": "code",
   "execution_count": 264,
   "id": "cfb5643e-9cf1-42a3-affb-02c100b362c9",
   "metadata": {
    "tags": []
   },
   "outputs": [
    {
     "data": {
      "image/png": "[encoded data removed]",
      "text/plain": [
       "<Figure size 500x400 with 2 Axes>"
      ]
     },
     "metadata": {},
     "output_type": "display_data"
    }
   ],
   "source": [
    "kw = {\n",
    "    'vmin': data_toplot.min(),\n",
    "    'vmax': data_toplot.max(),\n",
    "    'levels': np.linspace(data_toplot.min(), data_toplot.max(), 10),\n",
    "}\n",
    "\n",
    "fig = plt.figure(figsize=(5, 4))\n",
    "ax = fig.add_subplot(111, projection='3d')\n",
    "_ = ax.contourf(\n",
    "    X[:, :, -1], Y[:, :, -1], data_toplot[:, :, -1],zdir='z',offset=Z.max())\n",
    "_ = ax.contourf(\n",
    "    X[0, :, :],data_toplot[0, :, :],Z[0, :, :], zdir='y',offset=Y.min())\n",
    "C = ax.contourf(\n",
    "    data_toplot[:, -1, :], Y[:, -1, :], Z[:, -1, :],zdir='x',offset=X.max())\n",
    "ax.set(\n",
    "    xlabel='X [m]',\n",
    "    ylabel='Y [m]',\n",
    "    zlabel='Z [year]',\n",
    "    # zticks=[0, -150, -300, -450],\n",
    ")\n",
    "ax.set(xlim=[xmin, xmax], ylim=[ymin, ymax], zlim=[zmin, zmax])\n",
    "fig.colorbar(C, ax=ax, fraction=0.02, pad=0.1, label='Elevation [m]')\n",
    "ax.view_init(40, -30, 0)\n",
    "ax.set_box_aspect(None, zoom=0.9)\n",
    "plt.show()"
   ]
  },
  {
   "cell_type": "code",
   "execution_count": 227,
   "id": "8371c97f-d71a-4e87-bc05-7b10589c17d7",
   "metadata": {
    "tags": []
   },
   "outputs": [
    {
     "data": {
      "image/png": "[encoded data removed]",
      "text/plain": [
       "<Figure size 500x400 with 1 Axes>"
      ]
     },
     "metadata": {},
     "output_type": "display_data"
    }
   ],
   "source": [
    "import matplotlib.pyplot as plt\n",
    "\n",
    "kw = {\n",
    "    'vmin': data_toplot.min(),\n",
    "    'vmax': data_toplot.max(),\n",
    "    'levels': np.linspace(data_toplot.min(), data_toplot.max(), 10),\n",
    "}\n",
    "\n",
    "# Create a figure with 3D ax\n",
    "fig = plt.figure(figsize=(5, 4))\n",
    "ax = fig.add_subplot(111, projection='3d')\n",
    "\n",
    "# Plot contour surfaces\n",
    "_ = ax.contourf(\n",
    "    X[:, :, -1], Y[:, :, -1], data_toplot[:, :, -1],zdir='z',offset=1952\n",
    ")\n",
    "_ = ax.contourf(\n",
    "    X[0, :, :],data_toplot[0, :, :],Z[0, :, :], zdir='y',offset=360)\n",
    "# C = ax.contourf(\n",
    "#     data_toplot[:, -1, :], Y[:, -1, :], Z[:, -1, :],\n",
    "#     zdir='y', offset=X.max(), **kw\n",
    "# )\n",
    "# --\n",
    "\n",
    "\n",
    "# Set limits of the plot from coord limits\n",
    "# xmin, xmax = X.min(), X.max()\n",
    "# ymin, ymax = Y.min(), Y.max()\n",
    "# zmin, zmax = Z.min(), Z.max()\n",
    "# ax.set(xlim=[xmin, xmax], ylim=[ymin, ymax], zlim=[zmin, zmax])\n",
    "\n",
    "# Plot edges\n",
    "# edges_kw = dict(color='0.4', linewidth=1, zorder=1e3)\n",
    "# ax.plot([xmax, xmax], [ymin, ymax], 0, **edges_kw)\n",
    "# ax.plot([xmin, xmax], [ymin, ymin], 0, **edges_kw)\n",
    "# ax.plot([xmax, xmax], [ymin, ymin], [zmin, zmax], **edges_kw)\n",
    "\n",
    "# Set labels and zticks\n",
    "ax.set(\n",
    "    xlabel='X [m]',\n",
    "    ylabel='Y [m]',\n",
    "    zlabel='Z [year]',\n",
    "    # zticks=[0, -150, -300, -450],\n",
    ")\n",
    "\n",
    "# Set zoom and angle view\n",
    "ax.view_init(40, -30, 0)\n",
    "ax.set_box_aspect(None, zoom=0.9)\n",
    "\n",
    "# Colorbar\n",
    "# fig.colorbar(C, ax=ax, fraction=0.02, pad=0.1, label='Name [units]')\n",
    "\n",
    "# Show Figure\n",
    "plt.show()"
   ]
  },
  {
   "cell_type": "code",
   "execution_count": null,
   "id": "418bef6d-d94d-45c9-aa6c-3c0937f195dd",
   "metadata": {},
   "outputs": [],
   "source": []
  }
 ],
 "metadata": {
  "kernelspec": {
   "display_name": "Python 3 (ipykernel)",
   "language": "python",
   "name": "python3"
  },
  "language_info": {
   "codemirror_mode": {
    "name": "ipython",
    "version": 3
   },
   "file_extension": ".py",
   "mimetype": "text/x-python",
   "name": "python",
   "nbconvert_exporter": "python",
   "pygments_lexer": "ipython3",
   "version": "3.10.12"
  }
 },
 "nbformat": 4,
 "nbformat_minor": 5
}
