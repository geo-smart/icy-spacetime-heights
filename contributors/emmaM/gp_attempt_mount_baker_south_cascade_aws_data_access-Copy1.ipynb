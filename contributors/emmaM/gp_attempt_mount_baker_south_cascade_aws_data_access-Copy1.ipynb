{
 "cells": [
  {
   "cell_type": "markdown",
   "id": "17651927-5772-40c2-a708-a465a34f4ca7",
   "metadata": {
    "user_expressions": []
   },
   "source": [
    "# Trying to implement spatio-temporal GP on south cascade glacier elevation data"
   ]
  },
  {
   "cell_type": "markdown",
   "id": "48fe4bf8-15a6-4307-95d3-8a14228dfb7d",
   "metadata": {
    "user_expressions": []
   },
   "source": [
    "## Installs"
   ]
  },
  {
   "cell_type": "code",
   "execution_count": 1,
   "id": "bf9e86ae-8703-47d4-b8ee-4089ed1addbf",
   "metadata": {
    "tags": []
   },
   "outputs": [
    {
     "name": "stdout",
     "output_type": "stream",
     "text": [
      "Requirement already satisfied: gpytorch in /srv/conda/envs/notebook/lib/python3.10/site-packages (1.11)\n",
      "Requirement already satisfied: scikit-learn in /srv/conda/envs/notebook/lib/python3.10/site-packages (from gpytorch) (1.1.3)\n",
      "Requirement already satisfied: linear-operator>=0.5.0 in /srv/conda/envs/notebook/lib/python3.10/site-packages (from gpytorch) (0.5.2)\n",
      "Requirement already satisfied: torch>=1.11 in /srv/conda/envs/notebook/lib/python3.10/site-packages (from linear-operator>=0.5.0->gpytorch) (2.1.0)\n",
      "Requirement already satisfied: jaxtyping>=0.2.9 in /srv/conda/envs/notebook/lib/python3.10/site-packages (from linear-operator>=0.5.0->gpytorch) (0.2.23)\n",
      "Requirement already satisfied: scipy in /srv/conda/envs/notebook/lib/python3.10/site-packages (from linear-operator>=0.5.0->gpytorch) (1.9.3)\n",
      "Requirement already satisfied: typeguard~=2.13.3 in /srv/conda/envs/notebook/lib/python3.10/site-packages (from linear-operator>=0.5.0->gpytorch) (2.13.3)\n",
      "Requirement already satisfied: threadpoolctl>=2.0.0 in /srv/conda/envs/notebook/lib/python3.10/site-packages (from scikit-learn->gpytorch) (3.2.0)\n",
      "Requirement already satisfied: joblib>=1.0.0 in /srv/conda/envs/notebook/lib/python3.10/site-packages (from scikit-learn->gpytorch) (1.3.2)\n",
      "Requirement already satisfied: numpy>=1.17.3 in /srv/conda/envs/notebook/lib/python3.10/site-packages (from scikit-learn->gpytorch) (1.23.5)\n",
      "Requirement already satisfied: typing-extensions>=3.7.4.1 in /srv/conda/envs/notebook/lib/python3.10/site-packages (from jaxtyping>=0.2.9->linear-operator>=0.5.0->gpytorch) (4.8.0)\n",
      "Requirement already satisfied: nvidia-nvtx-cu12==12.1.105 in /srv/conda/envs/notebook/lib/python3.10/site-packages (from torch>=1.11->linear-operator>=0.5.0->gpytorch) (12.1.105)\n",
      "Requirement already satisfied: jinja2 in /srv/conda/envs/notebook/lib/python3.10/site-packages (from torch>=1.11->linear-operator>=0.5.0->gpytorch) (3.1.2)\n",
      "Requirement already satisfied: nvidia-cudnn-cu12==8.9.2.26 in /srv/conda/envs/notebook/lib/python3.10/site-packages (from torch>=1.11->linear-operator>=0.5.0->gpytorch) (8.9.2.26)\n",
      "Requirement already satisfied: nvidia-cusolver-cu12==11.4.5.107 in /srv/conda/envs/notebook/lib/python3.10/site-packages (from torch>=1.11->linear-operator>=0.5.0->gpytorch) (11.4.5.107)\n",
      "Requirement already satisfied: nvidia-cuda-nvrtc-cu12==12.1.105 in /srv/conda/envs/notebook/lib/python3.10/site-packages (from torch>=1.11->linear-operator>=0.5.0->gpytorch) (12.1.105)\n",
      "Requirement already satisfied: triton==2.1.0 in /srv/conda/envs/notebook/lib/python3.10/site-packages (from torch>=1.11->linear-operator>=0.5.0->gpytorch) (2.1.0)\n",
      "Requirement already satisfied: nvidia-cublas-cu12==12.1.3.1 in /srv/conda/envs/notebook/lib/python3.10/site-packages (from torch>=1.11->linear-operator>=0.5.0->gpytorch) (12.1.3.1)\n",
      "Requirement already satisfied: sympy in /srv/conda/envs/notebook/lib/python3.10/site-packages (from torch>=1.11->linear-operator>=0.5.0->gpytorch) (1.11.1)\n",
      "Requirement already satisfied: networkx in /srv/conda/envs/notebook/lib/python3.10/site-packages (from torch>=1.11->linear-operator>=0.5.0->gpytorch) (2.8.8)\n",
      "Requirement already satisfied: nvidia-cuda-runtime-cu12==12.1.105 in /srv/conda/envs/notebook/lib/python3.10/site-packages (from torch>=1.11->linear-operator>=0.5.0->gpytorch) (12.1.105)\n",
      "Requirement already satisfied: nvidia-curand-cu12==10.3.2.106 in /srv/conda/envs/notebook/lib/python3.10/site-packages (from torch>=1.11->linear-operator>=0.5.0->gpytorch) (10.3.2.106)\n",
      "Requirement already satisfied: fsspec in /srv/conda/envs/notebook/lib/python3.10/site-packages (from torch>=1.11->linear-operator>=0.5.0->gpytorch) (2023.6.0)\n",
      "Requirement already satisfied: nvidia-cusparse-cu12==12.1.0.106 in /srv/conda/envs/notebook/lib/python3.10/site-packages (from torch>=1.11->linear-operator>=0.5.0->gpytorch) (12.1.0.106)\n",
      "Requirement already satisfied: filelock in /srv/conda/envs/notebook/lib/python3.10/site-packages (from torch>=1.11->linear-operator>=0.5.0->gpytorch) (3.12.4)\n",
      "Requirement already satisfied: nvidia-cufft-cu12==11.0.2.54 in /srv/conda/envs/notebook/lib/python3.10/site-packages (from torch>=1.11->linear-operator>=0.5.0->gpytorch) (11.0.2.54)\n",
      "Requirement already satisfied: nvidia-nccl-cu12==2.18.1 in /srv/conda/envs/notebook/lib/python3.10/site-packages (from torch>=1.11->linear-operator>=0.5.0->gpytorch) (2.18.1)\n",
      "Requirement already satisfied: nvidia-cuda-cupti-cu12==12.1.105 in /srv/conda/envs/notebook/lib/python3.10/site-packages (from torch>=1.11->linear-operator>=0.5.0->gpytorch) (12.1.105)\n",
      "Requirement already satisfied: nvidia-nvjitlink-cu12 in /srv/conda/envs/notebook/lib/python3.10/site-packages (from nvidia-cusolver-cu12==11.4.5.107->torch>=1.11->linear-operator>=0.5.0->gpytorch) (12.3.52)\n",
      "Requirement already satisfied: MarkupSafe>=2.0 in /srv/conda/envs/notebook/lib/python3.10/site-packages (from jinja2->torch>=1.11->linear-operator>=0.5.0->gpytorch) (2.1.3)\n",
      "Requirement already satisfied: mpmath>=0.19 in /srv/conda/envs/notebook/lib/python3.10/site-packages (from sympy->torch>=1.11->linear-operator>=0.5.0->gpytorch) (1.3.0)\n",
      "Note: you may need to restart the kernel to use updated packages.\n",
      "Requirement already satisfied: xarray in /srv/conda/envs/notebook/lib/python3.10/site-packages (2023.10.1)\n",
      "Requirement already satisfied: pandas>=1.4 in /srv/conda/envs/notebook/lib/python3.10/site-packages (from xarray) (1.5.1)\n",
      "Requirement already satisfied: numpy>=1.22 in /srv/conda/envs/notebook/lib/python3.10/site-packages (from xarray) (1.23.5)\n",
      "Requirement already satisfied: packaging>=21.3 in /srv/conda/envs/notebook/lib/python3.10/site-packages (from xarray) (23.2)\n",
      "Requirement already satisfied: python-dateutil>=2.8.1 in /srv/conda/envs/notebook/lib/python3.10/site-packages (from pandas>=1.4->xarray) (2.8.2)\n",
      "Requirement already satisfied: pytz>=2020.1 in /srv/conda/envs/notebook/lib/python3.10/site-packages (from pandas>=1.4->xarray) (2023.3.post1)\n",
      "Requirement already satisfied: six>=1.5 in /srv/conda/envs/notebook/lib/python3.10/site-packages (from python-dateutil>=2.8.1->pandas>=1.4->xarray) (1.16.0)\n",
      "Note: you may need to restart the kernel to use updated packages.\n",
      "Requirement already satisfied: torch in /srv/conda/envs/notebook/lib/python3.10/site-packages (2.1.0)\n",
      "Requirement already satisfied: filelock in /srv/conda/envs/notebook/lib/python3.10/site-packages (from torch) (3.12.4)\n",
      "Requirement already satisfied: nvidia-nvtx-cu12==12.1.105 in /srv/conda/envs/notebook/lib/python3.10/site-packages (from torch) (12.1.105)\n",
      "Requirement already satisfied: networkx in /srv/conda/envs/notebook/lib/python3.10/site-packages (from torch) (2.8.8)\n",
      "Requirement already satisfied: nvidia-cublas-cu12==12.1.3.1 in /srv/conda/envs/notebook/lib/python3.10/site-packages (from torch) (12.1.3.1)\n",
      "Requirement already satisfied: nvidia-cuda-runtime-cu12==12.1.105 in /srv/conda/envs/notebook/lib/python3.10/site-packages (from torch) (12.1.105)\n",
      "Requirement already satisfied: nvidia-cusolver-cu12==11.4.5.107 in /srv/conda/envs/notebook/lib/python3.10/site-packages (from torch) (11.4.5.107)\n",
      "Requirement already satisfied: nvidia-cusparse-cu12==12.1.0.106 in /srv/conda/envs/notebook/lib/python3.10/site-packages (from torch) (12.1.0.106)\n",
      "Requirement already satisfied: typing-extensions in /srv/conda/envs/notebook/lib/python3.10/site-packages (from torch) (4.8.0)\n",
      "Requirement already satisfied: nvidia-cufft-cu12==11.0.2.54 in /srv/conda/envs/notebook/lib/python3.10/site-packages (from torch) (11.0.2.54)\n",
      "Requirement already satisfied: nvidia-curand-cu12==10.3.2.106 in /srv/conda/envs/notebook/lib/python3.10/site-packages (from torch) (10.3.2.106)\n",
      "Requirement already satisfied: nvidia-cudnn-cu12==8.9.2.26 in /srv/conda/envs/notebook/lib/python3.10/site-packages (from torch) (8.9.2.26)\n",
      "Requirement already satisfied: nvidia-cuda-nvrtc-cu12==12.1.105 in /srv/conda/envs/notebook/lib/python3.10/site-packages (from torch) (12.1.105)\n",
      "Requirement already satisfied: nvidia-cuda-cupti-cu12==12.1.105 in /srv/conda/envs/notebook/lib/python3.10/site-packages (from torch) (12.1.105)\n",
      "Requirement already satisfied: fsspec in /srv/conda/envs/notebook/lib/python3.10/site-packages (from torch) (2023.6.0)\n",
      "Requirement already satisfied: triton==2.1.0 in /srv/conda/envs/notebook/lib/python3.10/site-packages (from torch) (2.1.0)\n",
      "Requirement already satisfied: sympy in /srv/conda/envs/notebook/lib/python3.10/site-packages (from torch) (1.11.1)\n",
      "Requirement already satisfied: jinja2 in /srv/conda/envs/notebook/lib/python3.10/site-packages (from torch) (3.1.2)\n",
      "Requirement already satisfied: nvidia-nccl-cu12==2.18.1 in /srv/conda/envs/notebook/lib/python3.10/site-packages (from torch) (2.18.1)\n",
      "Requirement already satisfied: nvidia-nvjitlink-cu12 in /srv/conda/envs/notebook/lib/python3.10/site-packages (from nvidia-cusolver-cu12==11.4.5.107->torch) (12.3.52)\n",
      "Requirement already satisfied: MarkupSafe>=2.0 in /srv/conda/envs/notebook/lib/python3.10/site-packages (from jinja2->torch) (2.1.3)\n",
      "Requirement already satisfied: mpmath>=0.19 in /srv/conda/envs/notebook/lib/python3.10/site-packages (from sympy->torch) (1.3.0)\n",
      "Note: you may need to restart the kernel to use updated packages.\n",
      "Requirement already satisfied: matplotlib in /srv/conda/envs/notebook/lib/python3.10/site-packages (3.8.0)\n",
      "Requirement already satisfied: python-dateutil>=2.7 in /srv/conda/envs/notebook/lib/python3.10/site-packages (from matplotlib) (2.8.2)\n",
      "Requirement already satisfied: contourpy>=1.0.1 in /srv/conda/envs/notebook/lib/python3.10/site-packages (from matplotlib) (1.1.1)\n",
      "Requirement already satisfied: cycler>=0.10 in /srv/conda/envs/notebook/lib/python3.10/site-packages (from matplotlib) (0.12.1)\n",
      "Requirement already satisfied: pillow>=6.2.0 in /srv/conda/envs/notebook/lib/python3.10/site-packages (from matplotlib) (9.5.0)\n",
      "Requirement already satisfied: packaging>=20.0 in /srv/conda/envs/notebook/lib/python3.10/site-packages (from matplotlib) (23.2)\n",
      "Requirement already satisfied: fonttools>=4.22.0 in /srv/conda/envs/notebook/lib/python3.10/site-packages (from matplotlib) (4.43.1)\n",
      "Requirement already satisfied: numpy<2,>=1.21 in /srv/conda/envs/notebook/lib/python3.10/site-packages (from matplotlib) (1.23.5)\n",
      "Requirement already satisfied: kiwisolver>=1.0.1 in /srv/conda/envs/notebook/lib/python3.10/site-packages (from matplotlib) (1.4.5)\n",
      "Requirement already satisfied: pyparsing>=2.3.1 in /srv/conda/envs/notebook/lib/python3.10/site-packages (from matplotlib) (3.1.1)\n",
      "Requirement already satisfied: six>=1.5 in /srv/conda/envs/notebook/lib/python3.10/site-packages (from python-dateutil>=2.7->matplotlib) (1.16.0)\n",
      "Note: you may need to restart the kernel to use updated packages.\n",
      "\u001b[31mERROR: Could not find a version that satisfies the requirement urllib (from versions: none)\u001b[0m\u001b[31m\n",
      "\u001b[0m\u001b[31mERROR: No matching distribution found for urllib\u001b[0m\u001b[31m\n",
      "\u001b[0mNote: you may need to restart the kernel to use updated packages.\n",
      "Requirement already satisfied: xbatcher in /srv/conda/envs/notebook/lib/python3.10/site-packages (0.3.0)\n",
      "Requirement already satisfied: dask in /srv/conda/envs/notebook/lib/python3.10/site-packages (from xbatcher) (2022.11.0)\n",
      "Requirement already satisfied: numpy in /srv/conda/envs/notebook/lib/python3.10/site-packages (from xbatcher) (1.23.5)\n",
      "Requirement already satisfied: xarray in /srv/conda/envs/notebook/lib/python3.10/site-packages (from xbatcher) (2023.10.1)\n",
      "Requirement already satisfied: toolz>=0.8.2 in /srv/conda/envs/notebook/lib/python3.10/site-packages (from dask->xbatcher) (0.12.0)\n",
      "Requirement already satisfied: cloudpickle>=1.1.1 in /srv/conda/envs/notebook/lib/python3.10/site-packages (from dask->xbatcher) (3.0.0)\n",
      "Requirement already satisfied: fsspec>=0.6.0 in /srv/conda/envs/notebook/lib/python3.10/site-packages (from dask->xbatcher) (2023.6.0)\n",
      "Requirement already satisfied: pyyaml>=5.3.1 in /srv/conda/envs/notebook/lib/python3.10/site-packages (from dask->xbatcher) (5.4.1)\n",
      "Requirement already satisfied: partd>=0.3.10 in /srv/conda/envs/notebook/lib/python3.10/site-packages (from dask->xbatcher) (1.4.1)\n",
      "Requirement already satisfied: packaging>=20.0 in /srv/conda/envs/notebook/lib/python3.10/site-packages (from dask->xbatcher) (23.2)\n",
      "Requirement already satisfied: click>=7.0 in /srv/conda/envs/notebook/lib/python3.10/site-packages (from dask->xbatcher) (8.1.7)\n",
      "Requirement already satisfied: pandas>=1.4 in /srv/conda/envs/notebook/lib/python3.10/site-packages (from xarray->xbatcher) (1.5.1)\n",
      "Requirement already satisfied: python-dateutil>=2.8.1 in /srv/conda/envs/notebook/lib/python3.10/site-packages (from pandas>=1.4->xarray->xbatcher) (2.8.2)\n",
      "Requirement already satisfied: pytz>=2020.1 in /srv/conda/envs/notebook/lib/python3.10/site-packages (from pandas>=1.4->xarray->xbatcher) (2023.3.post1)\n",
      "Requirement already satisfied: locket in /srv/conda/envs/notebook/lib/python3.10/site-packages (from partd>=0.3.10->dask->xbatcher) (1.0.0)\n",
      "Requirement already satisfied: six>=1.5 in /srv/conda/envs/notebook/lib/python3.10/site-packages (from python-dateutil>=2.8.1->pandas>=1.4->xarray->xbatcher) (1.16.0)\n",
      "Note: you may need to restart the kernel to use updated packages.\n",
      "Requirement already satisfied: dask in /srv/conda/envs/notebook/lib/python3.10/site-packages (2022.11.0)\n",
      "Requirement already satisfied: fsspec>=0.6.0 in /srv/conda/envs/notebook/lib/python3.10/site-packages (from dask) (2023.6.0)\n",
      "Requirement already satisfied: packaging>=20.0 in /srv/conda/envs/notebook/lib/python3.10/site-packages (from dask) (23.2)\n",
      "Requirement already satisfied: click>=7.0 in /srv/conda/envs/notebook/lib/python3.10/site-packages (from dask) (8.1.7)\n",
      "Requirement already satisfied: partd>=0.3.10 in /srv/conda/envs/notebook/lib/python3.10/site-packages (from dask) (1.4.1)\n",
      "Requirement already satisfied: cloudpickle>=1.1.1 in /srv/conda/envs/notebook/lib/python3.10/site-packages (from dask) (3.0.0)\n",
      "Requirement already satisfied: toolz>=0.8.2 in /srv/conda/envs/notebook/lib/python3.10/site-packages (from dask) (0.12.0)\n",
      "Requirement already satisfied: pyyaml>=5.3.1 in /srv/conda/envs/notebook/lib/python3.10/site-packages (from dask) (5.4.1)\n",
      "Requirement already satisfied: locket in /srv/conda/envs/notebook/lib/python3.10/site-packages (from partd>=0.3.10->dask) (1.0.0)\n",
      "Note: you may need to restart the kernel to use updated packages.\n",
      "Requirement already satisfied: tqdm in /srv/conda/envs/notebook/lib/python3.10/site-packages (4.64.1)\n",
      "Note: you may need to restart the kernel to use updated packages.\n",
      "Collecting git+https://github.com/friedrichknuth/gtsa.git\n",
      "  Cloning https://github.com/friedrichknuth/gtsa.git to /tmp/pip-req-build-1pifst9a\n",
      "  Running command git clone --filter=blob:none --quiet https://github.com/friedrichknuth/gtsa.git /tmp/pip-req-build-1pifst9a\n",
      "  Resolved https://github.com/friedrichknuth/gtsa.git to commit d8ee444da75b072f50668d6639fe4c5d66c89f8a\n",
      "  Preparing metadata (setup.py) ... \u001b[?25ldone\n",
      "\u001b[?25hNote: you may need to restart the kernel to use updated packages.\n"
     ]
    }
   ],
   "source": [
    "%pip install gpytorch\n",
    "%pip install xarray\n",
    "%pip install torch\n",
    "%pip install matplotlib\n",
    "%pip install urllib\n",
    "%pip install xbatcher\n",
    "%pip install dask\n",
    "%pip install tqdm\n",
    "%pip install git+https://github.com/friedrichknuth/gtsa.git \n"
   ]
  },
  {
   "cell_type": "markdown",
   "id": "59bc0622-1826-41eb-b6ea-d69c594ba97e",
   "metadata": {
    "user_expressions": []
   },
   "source": [
    "## Imports"
   ]
  },
  {
   "cell_type": "code",
   "execution_count": 2,
   "id": "2734933e",
   "metadata": {
    "tags": []
   },
   "outputs": [],
   "source": [
    "%load_ext autoreload\n",
    "%autoreload 2"
   ]
  },
  {
   "cell_type": "code",
   "execution_count": 3,
   "id": "0d69d5ae",
   "metadata": {
    "tags": []
   },
   "outputs": [],
   "source": [
    "\n",
    "import torch\n",
    "import gpytorch\n",
    "from matplotlib import pyplot as plt\n",
    "import urllib.request\n",
    "import os\n",
    "import pandas as pd\n",
    "import numpy as np\n",
    "import xarray as xr\n",
    "import xbatcher\n",
    "from dask.distributed import Client, LocalCluster\n",
    "import psutil\n",
    "import logging\n",
    "import tools\n",
    "import gtsa\n",
    "\n",
    "%matplotlib inline\n",
    "\n",
    "# the autoreload magic command above makes changes to dev functions put in tools.py \n",
    "# immmidiately available in the notebook without restarting the kernel.\n",
    "\n",
    "# relevant functions put in tools.py can be transferred to a common or upstream library \n",
    "# later on during the hackweek."
   ]
  },
  {
   "cell_type": "code",
   "execution_count": 5,
   "id": "50ea0339-9be0-4657-8670-97f14e990ced",
   "metadata": {
    "tags": []
   },
   "outputs": [
    {
     "name": "stderr",
     "output_type": "stream",
     "text": [
      "/srv/conda/envs/notebook/lib/python3.10/site-packages/distributed/node.py:183: UserWarning: Port 8787 is already in use.\n",
      "Perhaps you already have a cluster running?\n",
      "Hosting the HTTP server on port 42127 instead\n",
      "  warnings.warn(\n"
     ]
    },
    {
     "data": {
      "text/html": [
       "<div>\n",
       "    <div style=\"width: 24px; height: 24px; background-color: #e1e1e1; border: 3px solid #9D9D9D; border-radius: 5px; position: absolute;\"> </div>\n",
       "    <div style=\"margin-left: 48px;\">\n",
       "        <h3 style=\"margin-bottom: 0px;\">Client</h3>\n",
       "        <p style=\"color: #9D9D9D; margin-bottom: 0px;\">Client-a1f0cb69-746b-11ee-8296-9a38ba3f805f</p>\n",
       "        <table style=\"width: 100%; text-align: left;\">\n",
       "\n",
       "        <tr>\n",
       "        \n",
       "            <td style=\"text-align: left;\"><strong>Connection method:</strong> Cluster object</td>\n",
       "            <td style=\"text-align: left;\"><strong>Cluster type:</strong> distributed.LocalCluster</td>\n",
       "        \n",
       "        </tr>\n",
       "\n",
       "        \n",
       "            <tr>\n",
       "                <td style=\"text-align: left;\">\n",
       "                    <strong>Dashboard: </strong> <a href=\"/user/e-marshall/proxy/42127/status\" target=\"_blank\">/user/e-marshall/proxy/42127/status</a>\n",
       "                </td>\n",
       "                <td style=\"text-align: left;\"></td>\n",
       "            </tr>\n",
       "        \n",
       "\n",
       "        </table>\n",
       "\n",
       "        \n",
       "            <button style=\"margin-bottom: 12px;\" data-commandlinker-command=\"dask:populate-and-launch-layout\" data-commandlinker-args='{\"url\": \"/user/e-marshall/proxy/42127/status\" }'>\n",
       "                Launch dashboard in JupyterLab\n",
       "            </button>\n",
       "        \n",
       "\n",
       "        \n",
       "            <details>\n",
       "            <summary style=\"margin-bottom: 20px;\"><h3 style=\"display: inline;\">Cluster Info</h3></summary>\n",
       "            <div class=\"jp-RenderedHTMLCommon jp-RenderedHTML jp-mod-trusted jp-OutputArea-output\">\n",
       "    <div style=\"width: 24px; height: 24px; background-color: #e1e1e1; border: 3px solid #9D9D9D; border-radius: 5px; position: absolute;\">\n",
       "    </div>\n",
       "    <div style=\"margin-left: 48px;\">\n",
       "        <h3 style=\"margin-bottom: 0px; margin-top: 0px;\">LocalCluster</h3>\n",
       "        <p style=\"color: #9D9D9D; margin-bottom: 0px;\">8ba10c00</p>\n",
       "        <table style=\"width: 100%; text-align: left;\">\n",
       "            <tr>\n",
       "                <td style=\"text-align: left;\">\n",
       "                    <strong>Dashboard:</strong> <a href=\"/user/e-marshall/proxy/42127/status\" target=\"_blank\">/user/e-marshall/proxy/42127/status</a>\n",
       "                </td>\n",
       "                <td style=\"text-align: left;\">\n",
       "                    <strong>Workers:</strong> 3\n",
       "                </td>\n",
       "            </tr>\n",
       "            <tr>\n",
       "                <td style=\"text-align: left;\">\n",
       "                    <strong>Total threads:</strong> 3\n",
       "                </td>\n",
       "                <td style=\"text-align: left;\">\n",
       "                    <strong>Total memory:</strong> 30.90 GiB\n",
       "                </td>\n",
       "            </tr>\n",
       "            \n",
       "            <tr>\n",
       "    <td style=\"text-align: left;\"><strong>Status:</strong> running</td>\n",
       "    <td style=\"text-align: left;\"><strong>Using processes:</strong> True</td>\n",
       "</tr>\n",
       "\n",
       "            \n",
       "        </table>\n",
       "\n",
       "        <details>\n",
       "            <summary style=\"margin-bottom: 20px;\">\n",
       "                <h3 style=\"display: inline;\">Scheduler Info</h3>\n",
       "            </summary>\n",
       "\n",
       "            <div style=\"\">\n",
       "    <div>\n",
       "        <div style=\"width: 24px; height: 24px; background-color: #FFF7E5; border: 3px solid #FF6132; border-radius: 5px; position: absolute;\"> </div>\n",
       "        <div style=\"margin-left: 48px;\">\n",
       "            <h3 style=\"margin-bottom: 0px;\">Scheduler</h3>\n",
       "            <p style=\"color: #9D9D9D; margin-bottom: 0px;\">Scheduler-bf61f55d-5621-4480-9578-828e288ae2d9</p>\n",
       "            <table style=\"width: 100%; text-align: left;\">\n",
       "                <tr>\n",
       "                    <td style=\"text-align: left;\">\n",
       "                        <strong>Comm:</strong> tcp://127.0.0.1:45597\n",
       "                    </td>\n",
       "                    <td style=\"text-align: left;\">\n",
       "                        <strong>Workers:</strong> 3\n",
       "                    </td>\n",
       "                </tr>\n",
       "                <tr>\n",
       "                    <td style=\"text-align: left;\">\n",
       "                        <strong>Dashboard:</strong> <a href=\"/user/e-marshall/proxy/42127/status\" target=\"_blank\">/user/e-marshall/proxy/42127/status</a>\n",
       "                    </td>\n",
       "                    <td style=\"text-align: left;\">\n",
       "                        <strong>Total threads:</strong> 3\n",
       "                    </td>\n",
       "                </tr>\n",
       "                <tr>\n",
       "                    <td style=\"text-align: left;\">\n",
       "                        <strong>Started:</strong> Just now\n",
       "                    </td>\n",
       "                    <td style=\"text-align: left;\">\n",
       "                        <strong>Total memory:</strong> 30.90 GiB\n",
       "                    </td>\n",
       "                </tr>\n",
       "            </table>\n",
       "        </div>\n",
       "    </div>\n",
       "\n",
       "    <details style=\"margin-left: 48px;\">\n",
       "        <summary style=\"margin-bottom: 20px;\">\n",
       "            <h3 style=\"display: inline;\">Workers</h3>\n",
       "        </summary>\n",
       "\n",
       "        \n",
       "        <div style=\"margin-bottom: 20px;\">\n",
       "            <div style=\"width: 24px; height: 24px; background-color: #DBF5FF; border: 3px solid #4CC9FF; border-radius: 5px; position: absolute;\"> </div>\n",
       "            <div style=\"margin-left: 48px;\">\n",
       "            <details>\n",
       "                <summary>\n",
       "                    <h4 style=\"margin-bottom: 0px; display: inline;\">Worker: 0</h4>\n",
       "                </summary>\n",
       "                <table style=\"width: 100%; text-align: left;\">\n",
       "                    <tr>\n",
       "                        <td style=\"text-align: left;\">\n",
       "                            <strong>Comm: </strong> tcp://127.0.0.1:32883\n",
       "                        </td>\n",
       "                        <td style=\"text-align: left;\">\n",
       "                            <strong>Total threads: </strong> 1\n",
       "                        </td>\n",
       "                    </tr>\n",
       "                    <tr>\n",
       "                        <td style=\"text-align: left;\">\n",
       "                            <strong>Dashboard: </strong> <a href=\"/user/e-marshall/proxy/42935/status\" target=\"_blank\">/user/e-marshall/proxy/42935/status</a>\n",
       "                        </td>\n",
       "                        <td style=\"text-align: left;\">\n",
       "                            <strong>Memory: </strong> 10.30 GiB\n",
       "                        </td>\n",
       "                    </tr>\n",
       "                    <tr>\n",
       "                        <td style=\"text-align: left;\">\n",
       "                            <strong>Nanny: </strong> tcp://127.0.0.1:38311\n",
       "                        </td>\n",
       "                        <td style=\"text-align: left;\"></td>\n",
       "                    </tr>\n",
       "                    <tr>\n",
       "                        <td colspan=\"2\" style=\"text-align: left;\">\n",
       "                            <strong>Local directory: </strong> /tmp/dask-worker-space/worker-6ophggem\n",
       "                        </td>\n",
       "                    </tr>\n",
       "\n",
       "                    \n",
       "\n",
       "                    \n",
       "\n",
       "                </table>\n",
       "            </details>\n",
       "            </div>\n",
       "        </div>\n",
       "        \n",
       "        <div style=\"margin-bottom: 20px;\">\n",
       "            <div style=\"width: 24px; height: 24px; background-color: #DBF5FF; border: 3px solid #4CC9FF; border-radius: 5px; position: absolute;\"> </div>\n",
       "            <div style=\"margin-left: 48px;\">\n",
       "            <details>\n",
       "                <summary>\n",
       "                    <h4 style=\"margin-bottom: 0px; display: inline;\">Worker: 1</h4>\n",
       "                </summary>\n",
       "                <table style=\"width: 100%; text-align: left;\">\n",
       "                    <tr>\n",
       "                        <td style=\"text-align: left;\">\n",
       "                            <strong>Comm: </strong> tcp://127.0.0.1:34221\n",
       "                        </td>\n",
       "                        <td style=\"text-align: left;\">\n",
       "                            <strong>Total threads: </strong> 1\n",
       "                        </td>\n",
       "                    </tr>\n",
       "                    <tr>\n",
       "                        <td style=\"text-align: left;\">\n",
       "                            <strong>Dashboard: </strong> <a href=\"/user/e-marshall/proxy/45213/status\" target=\"_blank\">/user/e-marshall/proxy/45213/status</a>\n",
       "                        </td>\n",
       "                        <td style=\"text-align: left;\">\n",
       "                            <strong>Memory: </strong> 10.30 GiB\n",
       "                        </td>\n",
       "                    </tr>\n",
       "                    <tr>\n",
       "                        <td style=\"text-align: left;\">\n",
       "                            <strong>Nanny: </strong> tcp://127.0.0.1:38709\n",
       "                        </td>\n",
       "                        <td style=\"text-align: left;\"></td>\n",
       "                    </tr>\n",
       "                    <tr>\n",
       "                        <td colspan=\"2\" style=\"text-align: left;\">\n",
       "                            <strong>Local directory: </strong> /tmp/dask-worker-space/worker-u4m3yvru\n",
       "                        </td>\n",
       "                    </tr>\n",
       "\n",
       "                    \n",
       "\n",
       "                    \n",
       "\n",
       "                </table>\n",
       "            </details>\n",
       "            </div>\n",
       "        </div>\n",
       "        \n",
       "        <div style=\"margin-bottom: 20px;\">\n",
       "            <div style=\"width: 24px; height: 24px; background-color: #DBF5FF; border: 3px solid #4CC9FF; border-radius: 5px; position: absolute;\"> </div>\n",
       "            <div style=\"margin-left: 48px;\">\n",
       "            <details>\n",
       "                <summary>\n",
       "                    <h4 style=\"margin-bottom: 0px; display: inline;\">Worker: 2</h4>\n",
       "                </summary>\n",
       "                <table style=\"width: 100%; text-align: left;\">\n",
       "                    <tr>\n",
       "                        <td style=\"text-align: left;\">\n",
       "                            <strong>Comm: </strong> tcp://127.0.0.1:39059\n",
       "                        </td>\n",
       "                        <td style=\"text-align: left;\">\n",
       "                            <strong>Total threads: </strong> 1\n",
       "                        </td>\n",
       "                    </tr>\n",
       "                    <tr>\n",
       "                        <td style=\"text-align: left;\">\n",
       "                            <strong>Dashboard: </strong> <a href=\"/user/e-marshall/proxy/41121/status\" target=\"_blank\">/user/e-marshall/proxy/41121/status</a>\n",
       "                        </td>\n",
       "                        <td style=\"text-align: left;\">\n",
       "                            <strong>Memory: </strong> 10.30 GiB\n",
       "                        </td>\n",
       "                    </tr>\n",
       "                    <tr>\n",
       "                        <td style=\"text-align: left;\">\n",
       "                            <strong>Nanny: </strong> tcp://127.0.0.1:44633\n",
       "                        </td>\n",
       "                        <td style=\"text-align: left;\"></td>\n",
       "                    </tr>\n",
       "                    <tr>\n",
       "                        <td colspan=\"2\" style=\"text-align: left;\">\n",
       "                            <strong>Local directory: </strong> /tmp/dask-worker-space/worker-0udiog6e\n",
       "                        </td>\n",
       "                    </tr>\n",
       "\n",
       "                    \n",
       "\n",
       "                    \n",
       "\n",
       "                </table>\n",
       "            </details>\n",
       "            </div>\n",
       "        </div>\n",
       "        \n",
       "\n",
       "    </details>\n",
       "</div>\n",
       "\n",
       "        </details>\n",
       "    </div>\n",
       "</div>\n",
       "            </details>\n",
       "        \n",
       "\n",
       "    </div>\n",
       "</div>"
      ],
      "text/plain": [
       "<Client: 'tcp://127.0.0.1:45597' processes=3 threads=3, memory=30.90 GiB>"
      ]
     },
     "execution_count": 5,
     "metadata": {},
     "output_type": "execute_result"
    }
   ],
   "source": [
    "cluster = LocalCluster(\n",
    "    n_workers = psutil.cpu_count(logical=True)-1,\n",
    "    silence_logs = logging.ERROR,\n",
    "    threads_per_worker = 1,\n",
    ")\n",
    "client = Client(cluster)\n",
    "client"
   ]
  },
  {
   "cell_type": "code",
   "execution_count": 6,
   "id": "bb54c5b5",
   "metadata": {
    "tags": []
   },
   "outputs": [],
   "source": [
    "baker_url = 's3://petrichor/geosmart/baker.zarr/'\n",
    "scg_url = 's3://petrichor/geosmart/scg.zarr/'"
   ]
  },
  {
   "cell_type": "code",
   "execution_count": 7,
   "id": "dc7614b5",
   "metadata": {
    "tags": []
   },
   "outputs": [],
   "source": [
    "#baker_ds = xr.open_dataset(baker_url, chunks='auto', engine='zarr', storage_options={\"anon\": True})\n",
    "scg_ds = xr.open_dataset(scg_url, chunks='auto', engine='zarr', storage_options={\"anon\": True})"
   ]
  },
  {
   "cell_type": "markdown",
   "id": "3566669c",
   "metadata": {
    "tags": [],
    "user_expressions": []
   },
   "source": [
    "### Dataset overview"
   ]
  },
  {
   "cell_type": "code",
   "execution_count": 8,
   "id": "9aa122e7-9437-4e96-8141-fc48b76cfd53",
   "metadata": {
    "tags": []
   },
   "outputs": [
    {
     "name": "stdout",
     "output_type": "stream",
     "text": [
      "Dataset center: 643993.428, 5358023.985\n",
      "Test column size: 200.0 by 200.0 in spatial coordinate units.\n",
      "No CRS defined.\n",
      "Using xarray slicing to select data along spatial coordinate axes.\n"
     ]
    },
    {
     "name": "stderr",
     "output_type": "stream",
     "text": [
      "/srv/conda/envs/notebook/lib/python3.10/site-packages/gtsa/geospatial.py:78: FutureWarning: Unlike other reduction functions (e.g. `skew`, `kurtosis`), the default behavior of `mode` typically preserves the axis it acts along. In SciPy 1.11.0, this behavior will change: the default value of `keepdims` will become False, the `axis` over which the statistic is taken will be eliminated, and the value None will no longer be accepted. Set `keepdims` to True or False to avoid this warning.\n",
      "  xmode = np.abs(scipy.stats.mode(ds[\"y\"].diff(\"y\"))[0])\n",
      "/srv/conda/envs/notebook/lib/python3.10/site-packages/gtsa/geospatial.py:79: FutureWarning: Unlike other reduction functions (e.g. `skew`, `kurtosis`), the default behavior of `mode` typically preserves the axis it acts along. In SciPy 1.11.0, this behavior will change: the default value of `keepdims` will become False, the `axis` over which the statistic is taken will be eliminated, and the value None will no longer be accepted. Set `keepdims` to True or False to avoid this warning.\n",
      "  ymode = np.abs(scipy.stats.mode(ds[\"y\"].diff(\"y\"))[0])\n"
     ]
    }
   ],
   "source": [
    "scg_sub = gtsa.geospatial.extract_dataset_center_window(scg_ds, size=100)"
   ]
  },
  {
   "cell_type": "code",
   "execution_count": 9,
   "id": "75c11b20-f84f-4c84-81b9-8a08cdda09b6",
   "metadata": {
    "tags": []
   },
   "outputs": [
    {
     "data": {
      "text/html": [
       "<div><svg style=\"position: absolute; width: 0; height: 0; overflow: hidden\">\n",
       "<defs>\n",
       "<symbol id=\"icon-database\" viewBox=\"0 0 32 32\">\n",
       "<path d=\"M16 0c-8.837 0-16 2.239-16 5v4c0 2.761 7.163 5 16 5s16-2.239 16-5v-4c0-2.761-7.163-5-16-5z\"></path>\n",
       "<path d=\"M16 17c-8.837 0-16-2.239-16-5v6c0 2.761 7.163 5 16 5s16-2.239 16-5v-6c0 2.761-7.163 5-16 5z\"></path>\n",
       "<path d=\"M16 26c-8.837 0-16-2.239-16-5v6c0 2.761 7.163 5 16 5s16-2.239 16-5v-6c0 2.761-7.163 5-16 5z\"></path>\n",
       "</symbol>\n",
       "<symbol id=\"icon-file-text2\" viewBox=\"0 0 32 32\">\n",
       "<path d=\"M28.681 7.159c-0.694-0.947-1.662-2.053-2.724-3.116s-2.169-2.030-3.116-2.724c-1.612-1.182-2.393-1.319-2.841-1.319h-15.5c-1.378 0-2.5 1.121-2.5 2.5v27c0 1.378 1.122 2.5 2.5 2.5h23c1.378 0 2.5-1.122 2.5-2.5v-19.5c0-0.448-0.137-1.23-1.319-2.841zM24.543 5.457c0.959 0.959 1.712 1.825 2.268 2.543h-4.811v-4.811c0.718 0.556 1.584 1.309 2.543 2.268zM28 29.5c0 0.271-0.229 0.5-0.5 0.5h-23c-0.271 0-0.5-0.229-0.5-0.5v-27c0-0.271 0.229-0.5 0.5-0.5 0 0 15.499-0 15.5 0v7c0 0.552 0.448 1 1 1h7v19.5z\"></path>\n",
       "<path d=\"M23 26h-14c-0.552 0-1-0.448-1-1s0.448-1 1-1h14c0.552 0 1 0.448 1 1s-0.448 1-1 1z\"></path>\n",
       "<path d=\"M23 22h-14c-0.552 0-1-0.448-1-1s0.448-1 1-1h14c0.552 0 1 0.448 1 1s-0.448 1-1 1z\"></path>\n",
       "<path d=\"M23 18h-14c-0.552 0-1-0.448-1-1s0.448-1 1-1h14c0.552 0 1 0.448 1 1s-0.448 1-1 1z\"></path>\n",
       "</symbol>\n",
       "</defs>\n",
       "</svg>\n",
       "<style>/* CSS stylesheet for displaying xarray objects in jupyterlab.\n",
       " *\n",
       " */\n",
       "\n",
       ":root {\n",
       "  --xr-font-color0: var(--jp-content-font-color0, rgba(0, 0, 0, 1));\n",
       "  --xr-font-color2: var(--jp-content-font-color2, rgba(0, 0, 0, 0.54));\n",
       "  --xr-font-color3: var(--jp-content-font-color3, rgba(0, 0, 0, 0.38));\n",
       "  --xr-border-color: var(--jp-border-color2, #e0e0e0);\n",
       "  --xr-disabled-color: var(--jp-layout-color3, #bdbdbd);\n",
       "  --xr-background-color: var(--jp-layout-color0, white);\n",
       "  --xr-background-color-row-even: var(--jp-layout-color1, white);\n",
       "  --xr-background-color-row-odd: var(--jp-layout-color2, #eeeeee);\n",
       "}\n",
       "\n",
       "html[theme=dark],\n",
       "body[data-theme=dark],\n",
       "body.vscode-dark {\n",
       "  --xr-font-color0: rgba(255, 255, 255, 1);\n",
       "  --xr-font-color2: rgba(255, 255, 255, 0.54);\n",
       "  --xr-font-color3: rgba(255, 255, 255, 0.38);\n",
       "  --xr-border-color: #1F1F1F;\n",
       "  --xr-disabled-color: #515151;\n",
       "  --xr-background-color: #111111;\n",
       "  --xr-background-color-row-even: #111111;\n",
       "  --xr-background-color-row-odd: #313131;\n",
       "}\n",
       "\n",
       ".xr-wrap {\n",
       "  display: block !important;\n",
       "  min-width: 300px;\n",
       "  max-width: 700px;\n",
       "}\n",
       "\n",
       ".xr-text-repr-fallback {\n",
       "  /* fallback to plain text repr when CSS is not injected (untrusted notebook) */\n",
       "  display: none;\n",
       "}\n",
       "\n",
       ".xr-header {\n",
       "  padding-top: 6px;\n",
       "  padding-bottom: 6px;\n",
       "  margin-bottom: 4px;\n",
       "  border-bottom: solid 1px var(--xr-border-color);\n",
       "}\n",
       "\n",
       ".xr-header > div,\n",
       ".xr-header > ul {\n",
       "  display: inline;\n",
       "  margin-top: 0;\n",
       "  margin-bottom: 0;\n",
       "}\n",
       "\n",
       ".xr-obj-type,\n",
       ".xr-array-name {\n",
       "  margin-left: 2px;\n",
       "  margin-right: 10px;\n",
       "}\n",
       "\n",
       ".xr-obj-type {\n",
       "  color: var(--xr-font-color2);\n",
       "}\n",
       "\n",
       ".xr-sections {\n",
       "  padding-left: 0 !important;\n",
       "  display: grid;\n",
       "  grid-template-columns: 150px auto auto 1fr 20px 20px;\n",
       "}\n",
       "\n",
       ".xr-section-item {\n",
       "  display: contents;\n",
       "}\n",
       "\n",
       ".xr-section-item input {\n",
       "  display: none;\n",
       "}\n",
       "\n",
       ".xr-section-item input + label {\n",
       "  color: var(--xr-disabled-color);\n",
       "}\n",
       "\n",
       ".xr-section-item input:enabled + label {\n",
       "  cursor: pointer;\n",
       "  color: var(--xr-font-color2);\n",
       "}\n",
       "\n",
       ".xr-section-item input:enabled + label:hover {\n",
       "  color: var(--xr-font-color0);\n",
       "}\n",
       "\n",
       ".xr-section-summary {\n",
       "  grid-column: 1;\n",
       "  color: var(--xr-font-color2);\n",
       "  font-weight: 500;\n",
       "}\n",
       "\n",
       ".xr-section-summary > span {\n",
       "  display: inline-block;\n",
       "  padding-left: 0.5em;\n",
       "}\n",
       "\n",
       ".xr-section-summary-in:disabled + label {\n",
       "  color: var(--xr-font-color2);\n",
       "}\n",
       "\n",
       ".xr-section-summary-in + label:before {\n",
       "  display: inline-block;\n",
       "  content: '►';\n",
       "  font-size: 11px;\n",
       "  width: 15px;\n",
       "  text-align: center;\n",
       "}\n",
       "\n",
       ".xr-section-summary-in:disabled + label:before {\n",
       "  color: var(--xr-disabled-color);\n",
       "}\n",
       "\n",
       ".xr-section-summary-in:checked + label:before {\n",
       "  content: '▼';\n",
       "}\n",
       "\n",
       ".xr-section-summary-in:checked + label > span {\n",
       "  display: none;\n",
       "}\n",
       "\n",
       ".xr-section-summary,\n",
       ".xr-section-inline-details {\n",
       "  padding-top: 4px;\n",
       "  padding-bottom: 4px;\n",
       "}\n",
       "\n",
       ".xr-section-inline-details {\n",
       "  grid-column: 2 / -1;\n",
       "}\n",
       "\n",
       ".xr-section-details {\n",
       "  display: none;\n",
       "  grid-column: 1 / -1;\n",
       "  margin-bottom: 5px;\n",
       "}\n",
       "\n",
       ".xr-section-summary-in:checked ~ .xr-section-details {\n",
       "  display: contents;\n",
       "}\n",
       "\n",
       ".xr-array-wrap {\n",
       "  grid-column: 1 / -1;\n",
       "  display: grid;\n",
       "  grid-template-columns: 20px auto;\n",
       "}\n",
       "\n",
       ".xr-array-wrap > label {\n",
       "  grid-column: 1;\n",
       "  vertical-align: top;\n",
       "}\n",
       "\n",
       ".xr-preview {\n",
       "  color: var(--xr-font-color3);\n",
       "}\n",
       "\n",
       ".xr-array-preview,\n",
       ".xr-array-data {\n",
       "  padding: 0 5px !important;\n",
       "  grid-column: 2;\n",
       "}\n",
       "\n",
       ".xr-array-data,\n",
       ".xr-array-in:checked ~ .xr-array-preview {\n",
       "  display: none;\n",
       "}\n",
       "\n",
       ".xr-array-in:checked ~ .xr-array-data,\n",
       ".xr-array-preview {\n",
       "  display: inline-block;\n",
       "}\n",
       "\n",
       ".xr-dim-list {\n",
       "  display: inline-block !important;\n",
       "  list-style: none;\n",
       "  padding: 0 !important;\n",
       "  margin: 0;\n",
       "}\n",
       "\n",
       ".xr-dim-list li {\n",
       "  display: inline-block;\n",
       "  padding: 0;\n",
       "  margin: 0;\n",
       "}\n",
       "\n",
       ".xr-dim-list:before {\n",
       "  content: '(';\n",
       "}\n",
       "\n",
       ".xr-dim-list:after {\n",
       "  content: ')';\n",
       "}\n",
       "\n",
       ".xr-dim-list li:not(:last-child):after {\n",
       "  content: ',';\n",
       "  padding-right: 5px;\n",
       "}\n",
       "\n",
       ".xr-has-index {\n",
       "  font-weight: bold;\n",
       "}\n",
       "\n",
       ".xr-var-list,\n",
       ".xr-var-item {\n",
       "  display: contents;\n",
       "}\n",
       "\n",
       ".xr-var-item > div,\n",
       ".xr-var-item label,\n",
       ".xr-var-item > .xr-var-name span {\n",
       "  background-color: var(--xr-background-color-row-even);\n",
       "  margin-bottom: 0;\n",
       "}\n",
       "\n",
       ".xr-var-item > .xr-var-name:hover span {\n",
       "  padding-right: 5px;\n",
       "}\n",
       "\n",
       ".xr-var-list > li:nth-child(odd) > div,\n",
       ".xr-var-list > li:nth-child(odd) > label,\n",
       ".xr-var-list > li:nth-child(odd) > .xr-var-name span {\n",
       "  background-color: var(--xr-background-color-row-odd);\n",
       "}\n",
       "\n",
       ".xr-var-name {\n",
       "  grid-column: 1;\n",
       "}\n",
       "\n",
       ".xr-var-dims {\n",
       "  grid-column: 2;\n",
       "}\n",
       "\n",
       ".xr-var-dtype {\n",
       "  grid-column: 3;\n",
       "  text-align: right;\n",
       "  color: var(--xr-font-color2);\n",
       "}\n",
       "\n",
       ".xr-var-preview {\n",
       "  grid-column: 4;\n",
       "}\n",
       "\n",
       ".xr-index-preview {\n",
       "  grid-column: 2 / 5;\n",
       "  color: var(--xr-font-color2);\n",
       "}\n",
       "\n",
       ".xr-var-name,\n",
       ".xr-var-dims,\n",
       ".xr-var-dtype,\n",
       ".xr-preview,\n",
       ".xr-attrs dt {\n",
       "  white-space: nowrap;\n",
       "  overflow: hidden;\n",
       "  text-overflow: ellipsis;\n",
       "  padding-right: 10px;\n",
       "}\n",
       "\n",
       ".xr-var-name:hover,\n",
       ".xr-var-dims:hover,\n",
       ".xr-var-dtype:hover,\n",
       ".xr-attrs dt:hover {\n",
       "  overflow: visible;\n",
       "  width: auto;\n",
       "  z-index: 1;\n",
       "}\n",
       "\n",
       ".xr-var-attrs,\n",
       ".xr-var-data,\n",
       ".xr-index-data {\n",
       "  display: none;\n",
       "  background-color: var(--xr-background-color) !important;\n",
       "  padding-bottom: 5px !important;\n",
       "}\n",
       "\n",
       ".xr-var-attrs-in:checked ~ .xr-var-attrs,\n",
       ".xr-var-data-in:checked ~ .xr-var-data,\n",
       ".xr-index-data-in:checked ~ .xr-index-data {\n",
       "  display: block;\n",
       "}\n",
       "\n",
       ".xr-var-data > table {\n",
       "  float: right;\n",
       "}\n",
       "\n",
       ".xr-var-name span,\n",
       ".xr-var-data,\n",
       ".xr-index-name div,\n",
       ".xr-index-data,\n",
       ".xr-attrs {\n",
       "  padding-left: 25px !important;\n",
       "}\n",
       "\n",
       ".xr-attrs,\n",
       ".xr-var-attrs,\n",
       ".xr-var-data,\n",
       ".xr-index-data {\n",
       "  grid-column: 1 / -1;\n",
       "}\n",
       "\n",
       "dl.xr-attrs {\n",
       "  padding: 0;\n",
       "  margin: 0;\n",
       "  display: grid;\n",
       "  grid-template-columns: 125px auto;\n",
       "}\n",
       "\n",
       ".xr-attrs dt,\n",
       ".xr-attrs dd {\n",
       "  padding: 0;\n",
       "  margin: 0;\n",
       "  float: left;\n",
       "  padding-right: 10px;\n",
       "  width: auto;\n",
       "}\n",
       "\n",
       ".xr-attrs dt {\n",
       "  font-weight: normal;\n",
       "  grid-column: 1;\n",
       "}\n",
       "\n",
       ".xr-attrs dt:hover span {\n",
       "  display: inline-block;\n",
       "  background: var(--xr-background-color);\n",
       "  padding-right: 10px;\n",
       "}\n",
       "\n",
       ".xr-attrs dd {\n",
       "  grid-column: 2;\n",
       "  white-space: pre-wrap;\n",
       "  word-break: break-all;\n",
       "}\n",
       "\n",
       ".xr-icon-database,\n",
       ".xr-icon-file-text2,\n",
       ".xr-no-icon {\n",
       "  display: inline-block;\n",
       "  vertical-align: middle;\n",
       "  width: 1em;\n",
       "  height: 1.5em !important;\n",
       "  stroke-width: 0;\n",
       "  stroke: currentColor;\n",
       "  fill: currentColor;\n",
       "}\n",
       "</style><pre class='xr-text-repr-fallback'>&lt;xarray.Dataset&gt;\n",
       "Dimensions:      (time: 71, y: 101, x: 101)\n",
       "Coordinates:\n",
       "  * time         (time) datetime64[ns] 1958-08-13 1967-09-21 ... 2021-08-13\n",
       "  * x            (x) float64 6.439e+05 6.439e+05 ... 6.441e+05 6.441e+05\n",
       "  * y            (y) float64 5.358e+06 5.358e+06 ... 5.358e+06 5.358e+06\n",
       "Data variables:\n",
       "    band1        (time, y, x) float32 dask.array&lt;chunksize=(71, 51, 51), meta=np.ndarray&gt;\n",
       "    spatial_ref  int64 ...\n",
       "Attributes:\n",
       "    AREA_OR_POINT:      Area\n",
       "    TIFFTAG_ARTIST:     U.S. Geological Survey Benchmark Glacier Program\n",
       "    TIFFTAG_COPYRIGHT:  Public Domain\n",
       "    add_offset:         0.0\n",
       "    crs:                PROJCS[&quot;WGS 84 / UTM zone 10N&quot;,GEOGCS[&quot;WGS 84&quot;,DATUM[...\n",
       "    scale_factor:       1.0</pre><div class='xr-wrap' style='display:none'><div class='xr-header'><div class='xr-obj-type'>xarray.Dataset</div></div><ul class='xr-sections'><li class='xr-section-item'><input id='section-a66f1759-fd88-4544-b53d-1c1ba66beb7d' class='xr-section-summary-in' type='checkbox' disabled ><label for='section-a66f1759-fd88-4544-b53d-1c1ba66beb7d' class='xr-section-summary'  title='Expand/collapse section'>Dimensions:</label><div class='xr-section-inline-details'><ul class='xr-dim-list'><li><span class='xr-has-index'>time</span>: 71</li><li><span class='xr-has-index'>y</span>: 101</li><li><span class='xr-has-index'>x</span>: 101</li></ul></div><div class='xr-section-details'></div></li><li class='xr-section-item'><input id='section-e548a8f1-bf77-468d-8336-e718c2ccf7d4' class='xr-section-summary-in' type='checkbox'  checked><label for='section-e548a8f1-bf77-468d-8336-e718c2ccf7d4' class='xr-section-summary' >Coordinates: <span>(3)</span></label><div class='xr-section-inline-details'></div><div class='xr-section-details'><ul class='xr-var-list'><li class='xr-var-item'><div class='xr-var-name'><span class='xr-has-index'>time</span></div><div class='xr-var-dims'>(time)</div><div class='xr-var-dtype'>datetime64[ns]</div><div class='xr-var-preview xr-preview'>1958-08-13 ... 2021-08-13</div><input id='attrs-8ee422b3-f889-4409-a92e-d4f2298c5d8d' class='xr-var-attrs-in' type='checkbox' disabled><label for='attrs-8ee422b3-f889-4409-a92e-d4f2298c5d8d' title='Show/Hide attributes'><svg class='icon xr-icon-file-text2'><use xlink:href='#icon-file-text2'></use></svg></label><input id='data-fba3157e-800e-4374-94e6-a94caaf9b1b0' class='xr-var-data-in' type='checkbox'><label for='data-fba3157e-800e-4374-94e6-a94caaf9b1b0' title='Show/Hide data repr'><svg class='icon xr-icon-database'><use xlink:href='#icon-database'></use></svg></label><div class='xr-var-attrs'><dl class='xr-attrs'></dl></div><div class='xr-var-data'><pre>array([&#x27;1958-08-13T00:00:00.000000000&#x27;, &#x27;1967-09-21T00:00:00.000000000&#x27;,\n",
       "       &#x27;1970-09-29T00:00:00.000000000&#x27;, &#x27;1974-08-10T00:00:00.000000000&#x27;,\n",
       "       &#x27;1977-10-03T00:00:00.000000000&#x27;, &#x27;1979-08-20T00:00:00.000000000&#x27;,\n",
       "       &#x27;1979-10-06T00:00:00.000000000&#x27;, &#x27;1984-08-14T00:00:00.000000000&#x27;,\n",
       "       &#x27;1986-09-05T00:00:00.000000000&#x27;, &#x27;1987-08-21T00:00:00.000000000&#x27;,\n",
       "       &#x27;1990-09-05T00:00:00.000000000&#x27;, &#x27;1991-09-09T00:00:00.000000000&#x27;,\n",
       "       &#x27;1992-07-28T00:00:00.000000000&#x27;, &#x27;1992-09-15T00:00:00.000000000&#x27;,\n",
       "       &#x27;1992-09-18T00:00:00.000000000&#x27;, &#x27;1992-10-06T00:00:00.000000000&#x27;,\n",
       "       &#x27;1994-09-06T00:00:00.000000000&#x27;, &#x27;1996-09-10T00:00:00.000000000&#x27;,\n",
       "       &#x27;1997-09-23T00:00:00.000000000&#x27;, &#x27;2001-09-20T00:00:00.000000000&#x27;,\n",
       "       &#x27;2004-09-26T00:00:00.000000000&#x27;, &#x27;2008-10-01T00:00:00.000000000&#x27;,\n",
       "       &#x27;2009-06-01T00:00:00.000000000&#x27;, &#x27;2012-07-05T00:00:00.000000000&#x27;,\n",
       "       &#x27;2012-09-06T00:00:00.000000000&#x27;, &#x27;2013-06-16T00:00:00.000000000&#x27;,\n",
       "       &#x27;2014-05-11T00:00:00.000000000&#x27;, &#x27;2014-08-24T00:00:00.000000000&#x27;,\n",
       "       &#x27;2014-09-06T00:00:00.000000000&#x27;, &#x27;2015-05-01T00:00:00.000000000&#x27;,\n",
       "       &#x27;2015-05-04T00:00:00.000000000&#x27;, &#x27;2015-06-06T00:00:00.000000000&#x27;,\n",
       "       &#x27;2015-08-17T00:00:00.000000000&#x27;, &#x27;2015-10-14T00:00:00.000000000&#x27;,\n",
       "       &#x27;2015-12-01T00:00:00.000000000&#x27;, &#x27;2016-01-06T00:00:00.000000000&#x27;,\n",
       "       &#x27;2016-01-09T00:00:00.000000000&#x27;, &#x27;2016-03-18T00:00:00.000000000&#x27;,\n",
       "       &#x27;2016-04-06T00:00:00.000000000&#x27;, &#x27;2016-04-08T00:00:00.000000000&#x27;,\n",
       "       &#x27;2016-04-19T00:00:00.000000000&#x27;, &#x27;2016-05-08T00:00:00.000000000&#x27;,\n",
       "       &#x27;2016-05-12T00:00:00.000000000&#x27;, &#x27;2016-06-19T00:00:00.000000000&#x27;,\n",
       "       &#x27;2016-06-22T00:00:00.000000000&#x27;, &#x27;2016-07-28T00:00:00.000000000&#x27;,\n",
       "       &#x27;2016-08-29T00:00:00.000000000&#x27;, &#x27;2016-09-27T00:00:00.000000000&#x27;,\n",
       "       &#x27;2016-10-22T00:00:00.000000000&#x27;, &#x27;2017-04-03T00:00:00.000000000&#x27;,\n",
       "       &#x27;2017-05-22T00:00:00.000000000&#x27;, &#x27;2017-06-22T00:00:00.000000000&#x27;,\n",
       "       &#x27;2017-07-18T00:00:00.000000000&#x27;, &#x27;2017-08-20T00:00:00.000000000&#x27;,\n",
       "       &#x27;2017-09-28T00:00:00.000000000&#x27;, &#x27;2018-03-11T00:00:00.000000000&#x27;,\n",
       "       &#x27;2018-04-24T00:00:00.000000000&#x27;, &#x27;2018-05-25T00:00:00.000000000&#x27;,\n",
       "       &#x27;2018-05-27T00:00:00.000000000&#x27;, &#x27;2018-07-19T00:00:00.000000000&#x27;,\n",
       "       &#x27;2018-08-17T00:00:00.000000000&#x27;, &#x27;2018-09-17T00:00:00.000000000&#x27;,\n",
       "       &#x27;2019-05-05T00:00:00.000000000&#x27;, &#x27;2019-07-25T00:00:00.000000000&#x27;,\n",
       "       &#x27;2019-08-08T00:00:00.000000000&#x27;, &#x27;2019-08-22T00:00:00.000000000&#x27;,\n",
       "       &#x27;2019-10-10T00:00:00.000000000&#x27;, &#x27;2020-04-09T00:00:00.000000000&#x27;,\n",
       "       &#x27;2020-07-13T00:00:00.000000000&#x27;, &#x27;2020-12-06T00:00:00.000000000&#x27;,\n",
       "       &#x27;2021-08-13T00:00:00.000000000&#x27;], dtype=&#x27;datetime64[ns]&#x27;)</pre></div></li><li class='xr-var-item'><div class='xr-var-name'><span class='xr-has-index'>x</span></div><div class='xr-var-dims'>(x)</div><div class='xr-var-dtype'>float64</div><div class='xr-var-preview xr-preview'>6.439e+05 6.439e+05 ... 6.441e+05</div><input id='attrs-39d4c103-935a-4b02-af6f-ab5bfbb80f67' class='xr-var-attrs-in' type='checkbox' ><label for='attrs-39d4c103-935a-4b02-af6f-ab5bfbb80f67' title='Show/Hide attributes'><svg class='icon xr-icon-file-text2'><use xlink:href='#icon-file-text2'></use></svg></label><input id='data-aa609b9b-6fef-4ee9-a757-6263a4b437a3' class='xr-var-data-in' type='checkbox'><label for='data-aa609b9b-6fef-4ee9-a757-6263a4b437a3' title='Show/Hide data repr'><svg class='icon xr-icon-database'><use xlink:href='#icon-database'></use></svg></label><div class='xr-var-attrs'><dl class='xr-attrs'><dt><span>axis :</span></dt><dd>X</dd><dt><span>long_name :</span></dt><dd>x coordinate of projection</dd><dt><span>standard_name :</span></dt><dd>projection_x_coordinate</dd><dt><span>units :</span></dt><dd>metre</dd></dl></div><div class='xr-var-data'><pre>array([643893.428, 643895.428, 643897.428, 643899.428, 643901.428, 643903.428,\n",
       "       643905.428, 643907.428, 643909.428, 643911.428, 643913.428, 643915.428,\n",
       "       643917.428, 643919.428, 643921.428, 643923.428, 643925.428, 643927.428,\n",
       "       643929.428, 643931.428, 643933.428, 643935.428, 643937.428, 643939.428,\n",
       "       643941.428, 643943.428, 643945.428, 643947.428, 643949.428, 643951.428,\n",
       "       643953.428, 643955.428, 643957.428, 643959.428, 643961.428, 643963.428,\n",
       "       643965.428, 643967.428, 643969.428, 643971.428, 643973.428, 643975.428,\n",
       "       643977.428, 643979.428, 643981.428, 643983.428, 643985.428, 643987.428,\n",
       "       643989.428, 643991.428, 643993.428, 643995.428, 643997.428, 643999.428,\n",
       "       644001.428, 644003.428, 644005.428, 644007.428, 644009.428, 644011.428,\n",
       "       644013.428, 644015.428, 644017.428, 644019.428, 644021.428, 644023.428,\n",
       "       644025.428, 644027.428, 644029.428, 644031.428, 644033.428, 644035.428,\n",
       "       644037.428, 644039.428, 644041.428, 644043.428, 644045.428, 644047.428,\n",
       "       644049.428, 644051.428, 644053.428, 644055.428, 644057.428, 644059.428,\n",
       "       644061.428, 644063.428, 644065.428, 644067.428, 644069.428, 644071.428,\n",
       "       644073.428, 644075.428, 644077.428, 644079.428, 644081.428, 644083.428,\n",
       "       644085.428, 644087.428, 644089.428, 644091.428, 644093.428])</pre></div></li><li class='xr-var-item'><div class='xr-var-name'><span class='xr-has-index'>y</span></div><div class='xr-var-dims'>(y)</div><div class='xr-var-dtype'>float64</div><div class='xr-var-preview xr-preview'>5.358e+06 5.358e+06 ... 5.358e+06</div><input id='attrs-9dd60187-bcb4-4de3-9902-12cd0a2e77ae' class='xr-var-attrs-in' type='checkbox' ><label for='attrs-9dd60187-bcb4-4de3-9902-12cd0a2e77ae' title='Show/Hide attributes'><svg class='icon xr-icon-file-text2'><use xlink:href='#icon-file-text2'></use></svg></label><input id='data-f4956bea-a843-4a0a-91a3-e4cf7df647d7' class='xr-var-data-in' type='checkbox'><label for='data-f4956bea-a843-4a0a-91a3-e4cf7df647d7' title='Show/Hide data repr'><svg class='icon xr-icon-database'><use xlink:href='#icon-database'></use></svg></label><div class='xr-var-attrs'><dl class='xr-attrs'><dt><span>axis :</span></dt><dd>Y</dd><dt><span>long_name :</span></dt><dd>y coordinate of projection</dd><dt><span>standard_name :</span></dt><dd>projection_y_coordinate</dd><dt><span>units :</span></dt><dd>metre</dd></dl></div><div class='xr-var-data'><pre>array([5358123.985, 5358121.985, 5358119.985, 5358117.985, 5358115.985,\n",
       "       5358113.985, 5358111.985, 5358109.985, 5358107.985, 5358105.985,\n",
       "       5358103.985, 5358101.985, 5358099.985, 5358097.985, 5358095.985,\n",
       "       5358093.985, 5358091.985, 5358089.985, 5358087.985, 5358085.985,\n",
       "       5358083.985, 5358081.985, 5358079.985, 5358077.985, 5358075.985,\n",
       "       5358073.985, 5358071.985, 5358069.985, 5358067.985, 5358065.985,\n",
       "       5358063.985, 5358061.985, 5358059.985, 5358057.985, 5358055.985,\n",
       "       5358053.985, 5358051.985, 5358049.985, 5358047.985, 5358045.985,\n",
       "       5358043.985, 5358041.985, 5358039.985, 5358037.985, 5358035.985,\n",
       "       5358033.985, 5358031.985, 5358029.985, 5358027.985, 5358025.985,\n",
       "       5358023.985, 5358021.985, 5358019.985, 5358017.985, 5358015.985,\n",
       "       5358013.985, 5358011.985, 5358009.985, 5358007.985, 5358005.985,\n",
       "       5358003.985, 5358001.985, 5357999.985, 5357997.985, 5357995.985,\n",
       "       5357993.985, 5357991.985, 5357989.985, 5357987.985, 5357985.985,\n",
       "       5357983.985, 5357981.985, 5357979.985, 5357977.985, 5357975.985,\n",
       "       5357973.985, 5357971.985, 5357969.985, 5357967.985, 5357965.985,\n",
       "       5357963.985, 5357961.985, 5357959.985, 5357957.985, 5357955.985,\n",
       "       5357953.985, 5357951.985, 5357949.985, 5357947.985, 5357945.985,\n",
       "       5357943.985, 5357941.985, 5357939.985, 5357937.985, 5357935.985,\n",
       "       5357933.985, 5357931.985, 5357929.985, 5357927.985, 5357925.985,\n",
       "       5357923.985])</pre></div></li></ul></div></li><li class='xr-section-item'><input id='section-e7adced7-6497-4d31-aaff-fc5068685057' class='xr-section-summary-in' type='checkbox'  checked><label for='section-e7adced7-6497-4d31-aaff-fc5068685057' class='xr-section-summary' >Data variables: <span>(2)</span></label><div class='xr-section-inline-details'></div><div class='xr-section-details'><ul class='xr-var-list'><li class='xr-var-item'><div class='xr-var-name'><span>band1</span></div><div class='xr-var-dims'>(time, y, x)</div><div class='xr-var-dtype'>float32</div><div class='xr-var-preview xr-preview'>dask.array&lt;chunksize=(71, 51, 51), meta=np.ndarray&gt;</div><input id='attrs-cd4a19c6-0eea-43b7-aa20-c2593d0c8d9b' class='xr-var-attrs-in' type='checkbox' ><label for='attrs-cd4a19c6-0eea-43b7-aa20-c2593d0c8d9b' title='Show/Hide attributes'><svg class='icon xr-icon-file-text2'><use xlink:href='#icon-file-text2'></use></svg></label><input id='data-9e3fef2f-cf97-49ad-82a3-3e3136204959' class='xr-var-data-in' type='checkbox'><label for='data-9e3fef2f-cf97-49ad-82a3-3e3136204959' title='Show/Hide data repr'><svg class='icon xr-icon-database'><use xlink:href='#icon-database'></use></svg></label><div class='xr-var-attrs'><dl class='xr-attrs'><dt><span>AREA_OR_POINT :</span></dt><dd>Area</dd><dt><span>TIFFTAG_ARTIST :</span></dt><dd>U.S. Geological Survey Benchmark Glacier Program</dd><dt><span>TIFFTAG_COPYRIGHT :</span></dt><dd>Public Domain</dd><dt><span>grid_mapping :</span></dt><dd>spatial_ref</dd></dl></div><div class='xr-var-data'><table>\n",
       "    <tr>\n",
       "        <td>\n",
       "            <table style=\"border-collapse: collapse;\">\n",
       "                <thead>\n",
       "                    <tr>\n",
       "                        <td> </td>\n",
       "                        <th> Array </th>\n",
       "                        <th> Chunk </th>\n",
       "                    </tr>\n",
       "                </thead>\n",
       "                <tbody>\n",
       "                    \n",
       "                    <tr>\n",
       "                        <th> Bytes </th>\n",
       "                        <td> 2.76 MiB </td>\n",
       "                        <td> 721.37 kiB </td>\n",
       "                    </tr>\n",
       "                    \n",
       "                    <tr>\n",
       "                        <th> Shape </th>\n",
       "                        <td> (71, 101, 101) </td>\n",
       "                        <td> (71, 51, 51) </td>\n",
       "                    </tr>\n",
       "                    <tr>\n",
       "                        <th> Dask graph </th>\n",
       "                        <td colspan=\"2\"> 4 chunks in 3 graph layers </td>\n",
       "                    </tr>\n",
       "                    <tr>\n",
       "                        <th> Data type </th>\n",
       "                        <td colspan=\"2\"> float32 numpy.ndarray </td>\n",
       "                    </tr>\n",
       "                </tbody>\n",
       "            </table>\n",
       "        </td>\n",
       "        <td>\n",
       "        <svg width=\"229\" height=\"219\" style=\"stroke:rgb(0,0,0);stroke-width:1\" >\n",
       "\n",
       "  <!-- Horizontal lines -->\n",
       "  <line x1=\"10\" y1=\"0\" x2=\"59\" y2=\"49\" style=\"stroke-width:2\" />\n",
       "  <line x1=\"10\" y1=\"60\" x2=\"59\" y2=\"110\" />\n",
       "  <line x1=\"10\" y1=\"120\" x2=\"59\" y2=\"169\" style=\"stroke-width:2\" />\n",
       "\n",
       "  <!-- Vertical lines -->\n",
       "  <line x1=\"10\" y1=\"0\" x2=\"10\" y2=\"120\" style=\"stroke-width:2\" />\n",
       "  <line x1=\"59\" y1=\"49\" x2=\"59\" y2=\"169\" style=\"stroke-width:2\" />\n",
       "\n",
       "  <!-- Colored Rectangle -->\n",
       "  <polygon points=\"10.0,0.0 59.62143273150844,49.62143273150844 59.62143273150844,169.62143273150843 10.0,120.0\" style=\"fill:#ECB172A0;stroke-width:0\"/>\n",
       "\n",
       "  <!-- Horizontal lines -->\n",
       "  <line x1=\"10\" y1=\"0\" x2=\"130\" y2=\"0\" style=\"stroke-width:2\" />\n",
       "  <line x1=\"59\" y1=\"49\" x2=\"179\" y2=\"49\" style=\"stroke-width:2\" />\n",
       "\n",
       "  <!-- Vertical lines -->\n",
       "  <line x1=\"10\" y1=\"0\" x2=\"59\" y2=\"49\" style=\"stroke-width:2\" />\n",
       "  <line x1=\"70\" y1=\"0\" x2=\"120\" y2=\"49\" />\n",
       "  <line x1=\"130\" y1=\"0\" x2=\"179\" y2=\"49\" style=\"stroke-width:2\" />\n",
       "\n",
       "  <!-- Colored Rectangle -->\n",
       "  <polygon points=\"10.0,0.0 130.0,0.0 179.62143273150843,49.62143273150844 59.62143273150844,49.62143273150844\" style=\"fill:#ECB172A0;stroke-width:0\"/>\n",
       "\n",
       "  <!-- Horizontal lines -->\n",
       "  <line x1=\"59\" y1=\"49\" x2=\"179\" y2=\"49\" style=\"stroke-width:2\" />\n",
       "  <line x1=\"59\" y1=\"110\" x2=\"179\" y2=\"110\" />\n",
       "  <line x1=\"59\" y1=\"169\" x2=\"179\" y2=\"169\" style=\"stroke-width:2\" />\n",
       "\n",
       "  <!-- Vertical lines -->\n",
       "  <line x1=\"59\" y1=\"49\" x2=\"59\" y2=\"169\" style=\"stroke-width:2\" />\n",
       "  <line x1=\"120\" y1=\"49\" x2=\"120\" y2=\"169\" />\n",
       "  <line x1=\"179\" y1=\"49\" x2=\"179\" y2=\"169\" style=\"stroke-width:2\" />\n",
       "\n",
       "  <!-- Colored Rectangle -->\n",
       "  <polygon points=\"59.62143273150844,49.62143273150844 179.62143273150843,49.62143273150844 179.62143273150843,169.62143273150843 59.62143273150844,169.62143273150843\" style=\"fill:#ECB172A0;stroke-width:0\"/>\n",
       "\n",
       "  <!-- Text -->\n",
       "  <text x=\"119.621433\" y=\"189.621433\" font-size=\"1.0rem\" font-weight=\"100\" text-anchor=\"middle\" >101</text>\n",
       "  <text x=\"199.621433\" y=\"109.621433\" font-size=\"1.0rem\" font-weight=\"100\" text-anchor=\"middle\" transform=\"rotate(-90,199.621433,109.621433)\">101</text>\n",
       "  <text x=\"24.810716\" y=\"164.810716\" font-size=\"1.0rem\" font-weight=\"100\" text-anchor=\"middle\" transform=\"rotate(45,24.810716,164.810716)\">71</text>\n",
       "</svg>\n",
       "        </td>\n",
       "    </tr>\n",
       "</table></div></li><li class='xr-var-item'><div class='xr-var-name'><span>spatial_ref</span></div><div class='xr-var-dims'>()</div><div class='xr-var-dtype'>int64</div><div class='xr-var-preview xr-preview'>...</div><input id='attrs-76000816-d28c-4113-8331-010d732573a5' class='xr-var-attrs-in' type='checkbox' ><label for='attrs-76000816-d28c-4113-8331-010d732573a5' title='Show/Hide attributes'><svg class='icon xr-icon-file-text2'><use xlink:href='#icon-file-text2'></use></svg></label><input id='data-7ca4a57f-05e4-4f1d-94bb-ddb9d289cf07' class='xr-var-data-in' type='checkbox'><label for='data-7ca4a57f-05e4-4f1d-94bb-ddb9d289cf07' title='Show/Hide data repr'><svg class='icon xr-icon-database'><use xlink:href='#icon-database'></use></svg></label><div class='xr-var-attrs'><dl class='xr-attrs'><dt><span>crs_wkt :</span></dt><dd>PROJCS[&quot;WGS 84 / UTM zone 10N&quot;,GEOGCS[&quot;WGS 84&quot;,DATUM[&quot;WGS_1984&quot;,SPHEROID[&quot;WGS 84&quot;,6378137,298.257223563,AUTHORITY[&quot;EPSG&quot;,&quot;7030&quot;]],AUTHORITY[&quot;EPSG&quot;,&quot;6326&quot;]],PRIMEM[&quot;Greenwich&quot;,0,AUTHORITY[&quot;EPSG&quot;,&quot;8901&quot;]],UNIT[&quot;degree&quot;,0.0174532925199433,AUTHORITY[&quot;EPSG&quot;,&quot;9122&quot;]],AUTHORITY[&quot;EPSG&quot;,&quot;4326&quot;]],PROJECTION[&quot;Transverse_Mercator&quot;],PARAMETER[&quot;latitude_of_origin&quot;,0],PARAMETER[&quot;central_meridian&quot;,-123],PARAMETER[&quot;scale_factor&quot;,0.9996],PARAMETER[&quot;false_easting&quot;,500000],PARAMETER[&quot;false_northing&quot;,0],UNIT[&quot;metre&quot;,1,AUTHORITY[&quot;EPSG&quot;,&quot;9001&quot;]],AXIS[&quot;Easting&quot;,EAST],AXIS[&quot;Northing&quot;,NORTH],AUTHORITY[&quot;EPSG&quot;,&quot;32610&quot;]]</dd><dt><span>false_easting :</span></dt><dd>500000.0</dd><dt><span>false_northing :</span></dt><dd>0.0</dd><dt><span>geographic_crs_name :</span></dt><dd>WGS 84</dd><dt><span>grid_mapping_name :</span></dt><dd>transverse_mercator</dd><dt><span>horizontal_datum_name :</span></dt><dd>World Geodetic System 1984</dd><dt><span>inverse_flattening :</span></dt><dd>298.257223563</dd><dt><span>latitude_of_projection_origin :</span></dt><dd>0.0</dd><dt><span>longitude_of_central_meridian :</span></dt><dd>-123.0</dd><dt><span>longitude_of_prime_meridian :</span></dt><dd>0.0</dd><dt><span>prime_meridian_name :</span></dt><dd>Greenwich</dd><dt><span>projected_crs_name :</span></dt><dd>WGS 84 / UTM zone 10N</dd><dt><span>reference_ellipsoid_name :</span></dt><dd>WGS 84</dd><dt><span>scale_factor_at_central_meridian :</span></dt><dd>0.9996</dd><dt><span>semi_major_axis :</span></dt><dd>6378137.0</dd><dt><span>semi_minor_axis :</span></dt><dd>6356752.314245179</dd><dt><span>spatial_ref :</span></dt><dd>PROJCS[&quot;WGS 84 / UTM zone 10N&quot;,GEOGCS[&quot;WGS 84&quot;,DATUM[&quot;WGS_1984&quot;,SPHEROID[&quot;WGS 84&quot;,6378137,298.257223563,AUTHORITY[&quot;EPSG&quot;,&quot;7030&quot;]],AUTHORITY[&quot;EPSG&quot;,&quot;6326&quot;]],PRIMEM[&quot;Greenwich&quot;,0,AUTHORITY[&quot;EPSG&quot;,&quot;8901&quot;]],UNIT[&quot;degree&quot;,0.0174532925199433,AUTHORITY[&quot;EPSG&quot;,&quot;9122&quot;]],AUTHORITY[&quot;EPSG&quot;,&quot;4326&quot;]],PROJECTION[&quot;Transverse_Mercator&quot;],PARAMETER[&quot;latitude_of_origin&quot;,0],PARAMETER[&quot;central_meridian&quot;,-123],PARAMETER[&quot;scale_factor&quot;,0.9996],PARAMETER[&quot;false_easting&quot;,500000],PARAMETER[&quot;false_northing&quot;,0],UNIT[&quot;metre&quot;,1,AUTHORITY[&quot;EPSG&quot;,&quot;9001&quot;]],AXIS[&quot;Easting&quot;,EAST],AXIS[&quot;Northing&quot;,NORTH],AUTHORITY[&quot;EPSG&quot;,&quot;32610&quot;]]</dd></dl></div><div class='xr-var-data'><pre>[1 values with dtype=int64]</pre></div></li></ul></div></li><li class='xr-section-item'><input id='section-c9936e18-d85b-4097-b7f8-ed2d8a038f9f' class='xr-section-summary-in' type='checkbox'  ><label for='section-c9936e18-d85b-4097-b7f8-ed2d8a038f9f' class='xr-section-summary' >Indexes: <span>(3)</span></label><div class='xr-section-inline-details'></div><div class='xr-section-details'><ul class='xr-var-list'><li class='xr-var-item'><div class='xr-index-name'><div>time</div></div><div class='xr-index-preview'>PandasIndex</div><div></div><input id='index-9f57002e-537f-4542-99cd-b954edd9e366' class='xr-index-data-in' type='checkbox'/><label for='index-9f57002e-537f-4542-99cd-b954edd9e366' title='Show/Hide index repr'><svg class='icon xr-icon-database'><use xlink:href='#icon-database'></use></svg></label><div class='xr-index-data'><pre>PandasIndex(DatetimeIndex([&#x27;1958-08-13&#x27;, &#x27;1967-09-21&#x27;, &#x27;1970-09-29&#x27;, &#x27;1974-08-10&#x27;,\n",
       "               &#x27;1977-10-03&#x27;, &#x27;1979-08-20&#x27;, &#x27;1979-10-06&#x27;, &#x27;1984-08-14&#x27;,\n",
       "               &#x27;1986-09-05&#x27;, &#x27;1987-08-21&#x27;, &#x27;1990-09-05&#x27;, &#x27;1991-09-09&#x27;,\n",
       "               &#x27;1992-07-28&#x27;, &#x27;1992-09-15&#x27;, &#x27;1992-09-18&#x27;, &#x27;1992-10-06&#x27;,\n",
       "               &#x27;1994-09-06&#x27;, &#x27;1996-09-10&#x27;, &#x27;1997-09-23&#x27;, &#x27;2001-09-20&#x27;,\n",
       "               &#x27;2004-09-26&#x27;, &#x27;2008-10-01&#x27;, &#x27;2009-06-01&#x27;, &#x27;2012-07-05&#x27;,\n",
       "               &#x27;2012-09-06&#x27;, &#x27;2013-06-16&#x27;, &#x27;2014-05-11&#x27;, &#x27;2014-08-24&#x27;,\n",
       "               &#x27;2014-09-06&#x27;, &#x27;2015-05-01&#x27;, &#x27;2015-05-04&#x27;, &#x27;2015-06-06&#x27;,\n",
       "               &#x27;2015-08-17&#x27;, &#x27;2015-10-14&#x27;, &#x27;2015-12-01&#x27;, &#x27;2016-01-06&#x27;,\n",
       "               &#x27;2016-01-09&#x27;, &#x27;2016-03-18&#x27;, &#x27;2016-04-06&#x27;, &#x27;2016-04-08&#x27;,\n",
       "               &#x27;2016-04-19&#x27;, &#x27;2016-05-08&#x27;, &#x27;2016-05-12&#x27;, &#x27;2016-06-19&#x27;,\n",
       "               &#x27;2016-06-22&#x27;, &#x27;2016-07-28&#x27;, &#x27;2016-08-29&#x27;, &#x27;2016-09-27&#x27;,\n",
       "               &#x27;2016-10-22&#x27;, &#x27;2017-04-03&#x27;, &#x27;2017-05-22&#x27;, &#x27;2017-06-22&#x27;,\n",
       "               &#x27;2017-07-18&#x27;, &#x27;2017-08-20&#x27;, &#x27;2017-09-28&#x27;, &#x27;2018-03-11&#x27;,\n",
       "               &#x27;2018-04-24&#x27;, &#x27;2018-05-25&#x27;, &#x27;2018-05-27&#x27;, &#x27;2018-07-19&#x27;,\n",
       "               &#x27;2018-08-17&#x27;, &#x27;2018-09-17&#x27;, &#x27;2019-05-05&#x27;, &#x27;2019-07-25&#x27;,\n",
       "               &#x27;2019-08-08&#x27;, &#x27;2019-08-22&#x27;, &#x27;2019-10-10&#x27;, &#x27;2020-04-09&#x27;,\n",
       "               &#x27;2020-07-13&#x27;, &#x27;2020-12-06&#x27;, &#x27;2021-08-13&#x27;],\n",
       "              dtype=&#x27;datetime64[ns]&#x27;, name=&#x27;time&#x27;, freq=None))</pre></div></li><li class='xr-var-item'><div class='xr-index-name'><div>x</div></div><div class='xr-index-preview'>PandasIndex</div><div></div><input id='index-23c3c260-7814-4948-ab04-1ba772652f18' class='xr-index-data-in' type='checkbox'/><label for='index-23c3c260-7814-4948-ab04-1ba772652f18' title='Show/Hide index repr'><svg class='icon xr-icon-database'><use xlink:href='#icon-database'></use></svg></label><div class='xr-index-data'><pre>PandasIndex(Float64Index([643893.428, 643895.428, 643897.428, 643899.428, 643901.428,\n",
       "              643903.428, 643905.428, 643907.428, 643909.428, 643911.428,\n",
       "              ...\n",
       "              644075.428, 644077.428, 644079.428, 644081.428, 644083.428,\n",
       "              644085.428, 644087.428, 644089.428, 644091.428, 644093.428],\n",
       "             dtype=&#x27;float64&#x27;, name=&#x27;x&#x27;, length=101))</pre></div></li><li class='xr-var-item'><div class='xr-index-name'><div>y</div></div><div class='xr-index-preview'>PandasIndex</div><div></div><input id='index-1631f8f7-75e4-47c6-bc9e-fedfe2460103' class='xr-index-data-in' type='checkbox'/><label for='index-1631f8f7-75e4-47c6-bc9e-fedfe2460103' title='Show/Hide index repr'><svg class='icon xr-icon-database'><use xlink:href='#icon-database'></use></svg></label><div class='xr-index-data'><pre>PandasIndex(Float64Index([5358123.985, 5358121.985, 5358119.985, 5358117.985, 5358115.985,\n",
       "              5358113.985, 5358111.985, 5358109.985, 5358107.985, 5358105.985,\n",
       "              ...\n",
       "              5357941.985, 5357939.985, 5357937.985, 5357935.985, 5357933.985,\n",
       "              5357931.985, 5357929.985, 5357927.985, 5357925.985, 5357923.985],\n",
       "             dtype=&#x27;float64&#x27;, name=&#x27;y&#x27;, length=101))</pre></div></li></ul></div></li><li class='xr-section-item'><input id='section-4fbbc39c-339f-4bb6-8bf8-1a0aeeece95d' class='xr-section-summary-in' type='checkbox'  checked><label for='section-4fbbc39c-339f-4bb6-8bf8-1a0aeeece95d' class='xr-section-summary' >Attributes: <span>(6)</span></label><div class='xr-section-inline-details'></div><div class='xr-section-details'><dl class='xr-attrs'><dt><span>AREA_OR_POINT :</span></dt><dd>Area</dd><dt><span>TIFFTAG_ARTIST :</span></dt><dd>U.S. Geological Survey Benchmark Glacier Program</dd><dt><span>TIFFTAG_COPYRIGHT :</span></dt><dd>Public Domain</dd><dt><span>add_offset :</span></dt><dd>0.0</dd><dt><span>crs :</span></dt><dd>PROJCS[&quot;WGS 84 / UTM zone 10N&quot;,GEOGCS[&quot;WGS 84&quot;,DATUM[&quot;WGS_1984&quot;,SPHEROID[&quot;WGS 84&quot;,6378137,298.257223563,AUTHORITY[&quot;EPSG&quot;,&quot;7030&quot;]],AUTHORITY[&quot;EPSG&quot;,&quot;6326&quot;]],PRIMEM[&quot;Greenwich&quot;,0,AUTHORITY[&quot;EPSG&quot;,&quot;8901&quot;]],UNIT[&quot;degree&quot;,0.0174532925199433,AUTHORITY[&quot;EPSG&quot;,&quot;9122&quot;]],AUTHORITY[&quot;EPSG&quot;,&quot;4326&quot;]],PROJECTION[&quot;Transverse_Mercator&quot;],PARAMETER[&quot;latitude_of_origin&quot;,0],PARAMETER[&quot;central_meridian&quot;,-123],PARAMETER[&quot;scale_factor&quot;,0.9996],PARAMETER[&quot;false_easting&quot;,500000],PARAMETER[&quot;false_northing&quot;,0],UNIT[&quot;metre&quot;,1,AUTHORITY[&quot;EPSG&quot;,&quot;9001&quot;]],AXIS[&quot;Easting&quot;,EAST],AXIS[&quot;Northing&quot;,NORTH],AUTHORITY[&quot;EPSG&quot;,&quot;32610&quot;]]</dd><dt><span>scale_factor :</span></dt><dd>1.0</dd></dl></div></li></ul></div></div>"
      ],
      "text/plain": [
       "<xarray.Dataset>\n",
       "Dimensions:      (time: 71, y: 101, x: 101)\n",
       "Coordinates:\n",
       "  * time         (time) datetime64[ns] 1958-08-13 1967-09-21 ... 2021-08-13\n",
       "  * x            (x) float64 6.439e+05 6.439e+05 ... 6.441e+05 6.441e+05\n",
       "  * y            (y) float64 5.358e+06 5.358e+06 ... 5.358e+06 5.358e+06\n",
       "Data variables:\n",
       "    band1        (time, y, x) float32 dask.array<chunksize=(71, 51, 51), meta=np.ndarray>\n",
       "    spatial_ref  int64 ...\n",
       "Attributes:\n",
       "    AREA_OR_POINT:      Area\n",
       "    TIFFTAG_ARTIST:     U.S. Geological Survey Benchmark Glacier Program\n",
       "    TIFFTAG_COPYRIGHT:  Public Domain\n",
       "    add_offset:         0.0\n",
       "    crs:                PROJCS[\"WGS 84 / UTM zone 10N\",GEOGCS[\"WGS 84\",DATUM[...\n",
       "    scale_factor:       1.0"
      ]
     },
     "execution_count": 9,
     "metadata": {},
     "output_type": "execute_result"
    }
   ],
   "source": [
    "scg_sub"
   ]
  },
  {
   "cell_type": "code",
   "execution_count": 10,
   "id": "bf15cf0a",
   "metadata": {
    "tags": []
   },
   "outputs": [
    {
     "data": {
      "text/plain": [
       "2.899276"
      ]
     },
     "execution_count": 10,
     "metadata": {},
     "output_type": "execute_result"
    }
   ],
   "source": [
    "scg_sub.nbytes/1e6"
   ]
  },
  {
   "cell_type": "markdown",
   "id": "1fd032a5",
   "metadata": {
    "tags": [],
    "user_expressions": []
   },
   "source": [
    "### Plot bounds on interactive map"
   ]
  },
  {
   "cell_type": "code",
   "execution_count": 11,
   "id": "24d940cf",
   "metadata": {
    "tags": []
   },
   "outputs": [
    {
     "data": {
      "text/html": [
       "<div style=\"width:100%;\"><div style=\"position:relative;width:100%;height:0;padding-bottom:60%;\"><span style=\"color:#565656\">Make this Notebook Trusted to load map: File -> Trust Notebook</span><iframe srcdoc=\"&lt;!DOCTYPE html&gt;\n",
       "&lt;html&gt;\n",
       "&lt;head&gt;\n",
       "    \n",
       "    &lt;meta http-equiv=&quot;content-type&quot; content=&quot;text/html; charset=UTF-8&quot; /&gt;\n",
       "    \n",
       "        &lt;script&gt;\n",
       "            L_NO_TOUCH = false;\n",
       "            L_DISABLE_3D = false;\n",
       "        &lt;/script&gt;\n",
       "    \n",
       "    &lt;style&gt;html, body {width: 100%;height: 100%;margin: 0;padding: 0;}&lt;/style&gt;\n",
       "    &lt;style&gt;#map {position:absolute;top:0;bottom:0;right:0;left:0;}&lt;/style&gt;\n",
       "    &lt;script src=&quot;https://cdn.jsdelivr.net/npm/leaflet@1.9.3/dist/leaflet.js&quot;&gt;&lt;/script&gt;\n",
       "    &lt;script src=&quot;https://code.jquery.com/jquery-1.12.4.min.js&quot;&gt;&lt;/script&gt;\n",
       "    &lt;script src=&quot;https://cdn.jsdelivr.net/npm/bootstrap@5.2.2/dist/js/bootstrap.bundle.min.js&quot;&gt;&lt;/script&gt;\n",
       "    &lt;script src=&quot;https://cdnjs.cloudflare.com/ajax/libs/Leaflet.awesome-markers/2.0.2/leaflet.awesome-markers.js&quot;&gt;&lt;/script&gt;\n",
       "    &lt;link rel=&quot;stylesheet&quot; href=&quot;https://cdn.jsdelivr.net/npm/leaflet@1.9.3/dist/leaflet.css&quot;/&gt;\n",
       "    &lt;link rel=&quot;stylesheet&quot; href=&quot;https://cdn.jsdelivr.net/npm/bootstrap@5.2.2/dist/css/bootstrap.min.css&quot;/&gt;\n",
       "    &lt;link rel=&quot;stylesheet&quot; href=&quot;https://netdna.bootstrapcdn.com/bootstrap/3.0.0/css/bootstrap.min.css&quot;/&gt;\n",
       "    &lt;link rel=&quot;stylesheet&quot; href=&quot;https://cdn.jsdelivr.net/npm/@fortawesome/fontawesome-free@6.2.0/css/all.min.css&quot;/&gt;\n",
       "    &lt;link rel=&quot;stylesheet&quot; href=&quot;https://cdnjs.cloudflare.com/ajax/libs/Leaflet.awesome-markers/2.0.2/leaflet.awesome-markers.css&quot;/&gt;\n",
       "    &lt;link rel=&quot;stylesheet&quot; href=&quot;https://cdn.jsdelivr.net/gh/python-visualization/folium/folium/templates/leaflet.awesome.rotate.min.css&quot;/&gt;\n",
       "    \n",
       "            &lt;meta name=&quot;viewport&quot; content=&quot;width=device-width,\n",
       "                initial-scale=1.0, maximum-scale=1.0, user-scalable=no&quot; /&gt;\n",
       "            &lt;style&gt;\n",
       "                #map_b9d989c29f92e1dbec4614faaf270c6f {\n",
       "                    position: relative;\n",
       "                    width: 100.0%;\n",
       "                    height: 100.0%;\n",
       "                    left: 0.0%;\n",
       "                    top: 0.0%;\n",
       "                }\n",
       "                .leaflet-container { font-size: 1rem; }\n",
       "            &lt;/style&gt;\n",
       "        \n",
       "    \n",
       "                    &lt;style&gt;\n",
       "                        .foliumtooltip {\n",
       "                            \n",
       "                        }\n",
       "                       .foliumtooltip table{\n",
       "                            margin: auto;\n",
       "                        }\n",
       "                        .foliumtooltip tr{\n",
       "                            text-align: left;\n",
       "                        }\n",
       "                        .foliumtooltip th{\n",
       "                            padding: 2px; padding-right: 8px;\n",
       "                        }\n",
       "                    &lt;/style&gt;\n",
       "            \n",
       "&lt;/head&gt;\n",
       "&lt;body&gt;\n",
       "    \n",
       "    \n",
       "            &lt;div class=&quot;folium-map&quot; id=&quot;map_b9d989c29f92e1dbec4614faaf270c6f&quot; &gt;&lt;/div&gt;\n",
       "        \n",
       "&lt;/body&gt;\n",
       "&lt;script&gt;\n",
       "    \n",
       "    \n",
       "            var map_b9d989c29f92e1dbec4614faaf270c6f = L.map(\n",
       "                &quot;map_b9d989c29f92e1dbec4614faaf270c6f&quot;,\n",
       "                {\n",
       "                    center: [48.35895833401284, -121.0561106634112],\n",
       "                    crs: L.CRS.EPSG3857,\n",
       "                    zoom: 10,\n",
       "                    zoomControl: true,\n",
       "                    preferCanvas: false,\n",
       "                }\n",
       "            );\n",
       "            L.control.scale().addTo(map_b9d989c29f92e1dbec4614faaf270c6f);\n",
       "\n",
       "            \n",
       "\n",
       "        \n",
       "    \n",
       "            var tile_layer_b8a5ebb135fcda58bc2a4f139d762751 = L.tileLayer(\n",
       "                &quot;https://mt1.google.com/vt/lyrs=s\\u0026x={x}\\u0026y={y}\\u0026z={z}&quot;,\n",
       "                {&quot;attribution&quot;: &quot;Google&quot;, &quot;detectRetina&quot;: false, &quot;maxNativeZoom&quot;: 18, &quot;maxZoom&quot;: 18, &quot;minZoom&quot;: 0, &quot;noWrap&quot;: false, &quot;opacity&quot;: 1, &quot;subdomains&quot;: &quot;abc&quot;, &quot;tms&quot;: false}\n",
       "            ).addTo(map_b9d989c29f92e1dbec4614faaf270c6f);\n",
       "        \n",
       "    \n",
       "            map_b9d989c29f92e1dbec4614faaf270c6f.fitBounds(\n",
       "                [[48.3580271644315, -121.05750789527684], [48.35988950359418, -121.05471343154557]],\n",
       "                {}\n",
       "            );\n",
       "        \n",
       "    \n",
       "        function geo_json_79d17df657d4743651c6b9ea93e8b904_styler(feature) {\n",
       "            switch(feature.id) {\n",
       "                default:\n",
       "                    return {&quot;fillOpacity&quot;: 0.5, &quot;weight&quot;: 2};\n",
       "            }\n",
       "        }\n",
       "        function geo_json_79d17df657d4743651c6b9ea93e8b904_highlighter(feature) {\n",
       "            switch(feature.id) {\n",
       "                default:\n",
       "                    return {&quot;fillOpacity&quot;: 0.75};\n",
       "            }\n",
       "        }\n",
       "        function geo_json_79d17df657d4743651c6b9ea93e8b904_pointToLayer(feature, latlng) {\n",
       "            var opts = {&quot;bubblingMouseEvents&quot;: true, &quot;color&quot;: &quot;#3388ff&quot;, &quot;dashArray&quot;: null, &quot;dashOffset&quot;: null, &quot;fill&quot;: true, &quot;fillColor&quot;: &quot;#3388ff&quot;, &quot;fillOpacity&quot;: 0.2, &quot;fillRule&quot;: &quot;evenodd&quot;, &quot;lineCap&quot;: &quot;round&quot;, &quot;lineJoin&quot;: &quot;round&quot;, &quot;opacity&quot;: 1.0, &quot;radius&quot;: 2, &quot;stroke&quot;: true, &quot;weight&quot;: 3};\n",
       "            \n",
       "            let style = geo_json_79d17df657d4743651c6b9ea93e8b904_styler(feature)\n",
       "            Object.assign(opts, style)\n",
       "            \n",
       "            return new L.CircleMarker(latlng, opts)\n",
       "        }\n",
       "\n",
       "        function geo_json_79d17df657d4743651c6b9ea93e8b904_onEachFeature(feature, layer) {\n",
       "            layer.on({\n",
       "                mouseout: function(e) {\n",
       "                    if(typeof e.target.setStyle === &quot;function&quot;){\n",
       "                        geo_json_79d17df657d4743651c6b9ea93e8b904.resetStyle(e.target);\n",
       "                    }\n",
       "                },\n",
       "                mouseover: function(e) {\n",
       "                    if(typeof e.target.setStyle === &quot;function&quot;){\n",
       "                        const highlightStyle = geo_json_79d17df657d4743651c6b9ea93e8b904_highlighter(e.target.feature)\n",
       "                        e.target.setStyle(highlightStyle);\n",
       "                    }\n",
       "                },\n",
       "            });\n",
       "        };\n",
       "        var geo_json_79d17df657d4743651c6b9ea93e8b904 = L.geoJson(null, {\n",
       "                onEachFeature: geo_json_79d17df657d4743651c6b9ea93e8b904_onEachFeature,\n",
       "            \n",
       "                style: geo_json_79d17df657d4743651c6b9ea93e8b904_styler,\n",
       "                pointToLayer: geo_json_79d17df657d4743651c6b9ea93e8b904_pointToLayer\n",
       "        });\n",
       "\n",
       "        function geo_json_79d17df657d4743651c6b9ea93e8b904_add (data) {\n",
       "            geo_json_79d17df657d4743651c6b9ea93e8b904\n",
       "                .addData(data)\n",
       "                .addTo(map_b9d989c29f92e1dbec4614faaf270c6f);\n",
       "        }\n",
       "            geo_json_79d17df657d4743651c6b9ea93e8b904_add({&quot;bbox&quot;: [-121.05750789527684, 48.3580271644315, -121.05471343154557, 48.35988950359418], &quot;features&quot;: [{&quot;bbox&quot;: [-121.05750789527684, 48.3580271644315, -121.05471343154557, 48.35988950359418], &quot;geometry&quot;: {&quot;coordinates&quot;: [[[-121.0574388171805, 48.35988950359418], [-121.05471343154557, 48.35984343356255], [-121.05478260640864, 48.3580271644315], [-121.05750789527684, 48.35807323154169], [-121.0574388171805, 48.35988950359418]]], &quot;type&quot;: &quot;Polygon&quot;}, &quot;id&quot;: &quot;0&quot;, &quot;properties&quot;: {}, &quot;type&quot;: &quot;Feature&quot;}], &quot;type&quot;: &quot;FeatureCollection&quot;});\n",
       "\n",
       "        \n",
       "    \n",
       "    geo_json_79d17df657d4743651c6b9ea93e8b904.bindTooltip(\n",
       "    function(layer){\n",
       "    let div = L.DomUtil.create(&#x27;div&#x27;);\n",
       "    \n",
       "    return div\n",
       "    }\n",
       "    ,{&quot;className&quot;: &quot;foliumtooltip&quot;, &quot;sticky&quot;: true});\n",
       "                     \n",
       "&lt;/script&gt;\n",
       "&lt;/html&gt;\" style=\"position:absolute;width:100%;height:100%;left:0;top:0;border:none !important;\" allowfullscreen webkitallowfullscreen mozallowfullscreen></iframe></div></div>"
      ],
      "text/plain": [
       "<folium.folium.Map at 0x7fe4bea5ec80>"
      ]
     },
     "execution_count": 11,
     "metadata": {},
     "output_type": "execute_result"
    }
   ],
   "source": [
    "#baker_gdf = tools.bounds2polygon(*baker_ds.rio.bounds(),baker_ds.rio.crs)\n",
    "#baker_gdf.explore(tiles=\"https://mt1.google.com/vt/lyrs=s&x={x}&y={y}&z={z}\",\n",
    "#               attr='Google')\n",
    "\n",
    "scg_gdf = tools.bounds2polygon(*scg_sub.rio.bounds(),scg_sub.rio.crs)\n",
    "scg_gdf.explore(tiles=\"https://mt1.google.com/vt/lyrs=s&x={x}&y={y}&z={z}\",\n",
    "                attr='Google')"
   ]
  },
  {
   "cell_type": "code",
   "execution_count": 14,
   "id": "91fcafc4-d61e-4201-870b-32ef712c5c62",
   "metadata": {
    "tags": []
   },
   "outputs": [
    {
     "data": {
      "image/png": "[encoded data removed]",
      "text/plain": [
       "<Figure size 640x480 with 2 Axes>"
      ]
     },
     "metadata": {},
     "output_type": "display_data"
    }
   ],
   "source": [
    "scg_sub.mean(dim='time').band1.plot();"
   ]
  },
  {
   "cell_type": "code",
   "execution_count": 29,
   "id": "15cb7b76-492c-496d-85dc-15c14a3cf8de",
   "metadata": {
    "tags": []
   },
   "outputs": [],
   "source": [
    "#tools.plot_percent_area_coverage(baker_ds, 'mount baker \\n percent DEM area coverage')"
   ]
  },
  {
   "cell_type": "code",
   "execution_count": 14,
   "id": "475c6b4c-f8ee-4a3e-a5e9-17905db7a702",
   "metadata": {
    "tags": []
   },
   "outputs": [],
   "source": [
    "#tools.plot_percent_area_coverage(scg_ds, title = 'south cascade glacier -- percent DEM area coverage')"
   ]
  },
  {
   "cell_type": "markdown",
   "id": "7305c9da-f82a-42f6-b975-be44ca430fcd",
   "metadata": {
    "tags": []
   },
   "source": [
    "## Prepare subset of data to try GP "
   ]
  },
  {
   "cell_type": "code",
   "execution_count": null,
   "id": "11692fbf-35d4-4689-b421-cf4a3afc6f4f",
   "metadata": {},
   "outputs": [],
   "source": []
  },
  {
   "cell_type": "code",
   "execution_count": 15,
   "id": "c53f5b05-be89-4972-8304-4aba7dba38ca",
   "metadata": {
    "tags": []
   },
   "outputs": [],
   "source": [
    "def swap_time_dim(ds):\n",
    "    ds['time_numeric'] = ds.time.dt.year + ds.time.dt.dayofyear / 365\n",
    "    ds = ds.swap_dims({'time':'time_numeric'})\n",
    "    return ds\n",
    "\n",
    "def prep_data_to_tensor(ds):\n",
    "    \n",
    "    #ds = swap_time_dim(ds)\n",
    "\n",
    "    \n",
    "    x = ds.coords['x'].data\n",
    "    y = ds.coords['y'].data\n",
    "    t = ds.coords['time_numeric'].data\n",
    "    z = ds.band1.data\n",
    "    \n",
    "    xv, yv,tv = torch.meshgrid(torch.from_numpy(x),\n",
    "                        torch.from_numpy(y),\n",
    "                        torch.from_numpy(t), indexing = 'ij')\n",
    "    zv = torch.from_numpy(z)\n",
    "    \n",
    "    train_x = torch.cat(( #concatenates given seq of tensors in a given dim\n",
    "    xv.contiguous().view(xv.numel(), 1), #returns contiguous in mem array, view rehsapes and numel returns # elements -- so this is like np reshape to 1xlen\n",
    "    yv.contiguous().view(yv.numel(), 1),\n",
    "    tv.contiguous().view(tv.numel(), 1)),\n",
    "    dim=1 #dim to pass to cat\n",
    "    )\n",
    "    train_y = zv\n",
    "    \n",
    "    return (train_x, train_y)"
   ]
  },
  {
   "cell_type": "markdown",
   "id": "28724879-e69e-4c67-ab27-f76e6f11764e",
   "metadata": {
    "jp-MarkdownHeadingCollapsed": true,
    "tags": [],
    "user_expressions": []
   },
   "source": [
    "## Select points on map"
   ]
  },
  {
   "cell_type": "code",
   "execution_count": 19,
   "id": "80e0df19-8c64-4658-b9e7-4ac013103ef2",
   "metadata": {},
   "outputs": [
    {
     "data": {
      "text/html": [
       "<div style=\"width:100%;\"><div style=\"position:relative;width:100%;height:0;padding-bottom:60%;\"><span style=\"color:#565656\">Make this Notebook Trusted to load map: File -> Trust Notebook</span><iframe srcdoc=\"&lt;!DOCTYPE html&gt;\n",
       "&lt;html&gt;\n",
       "&lt;head&gt;\n",
       "    \n",
       "    &lt;meta http-equiv=&quot;content-type&quot; content=&quot;text/html; charset=UTF-8&quot; /&gt;\n",
       "    \n",
       "        &lt;script&gt;\n",
       "            L_NO_TOUCH = false;\n",
       "            L_DISABLE_3D = false;\n",
       "        &lt;/script&gt;\n",
       "    \n",
       "    &lt;style&gt;html, body {width: 100%;height: 100%;margin: 0;padding: 0;}&lt;/style&gt;\n",
       "    &lt;style&gt;#map {position:absolute;top:0;bottom:0;right:0;left:0;}&lt;/style&gt;\n",
       "    &lt;script src=&quot;https://cdn.jsdelivr.net/npm/leaflet@1.9.3/dist/leaflet.js&quot;&gt;&lt;/script&gt;\n",
       "    &lt;script src=&quot;https://code.jquery.com/jquery-1.12.4.min.js&quot;&gt;&lt;/script&gt;\n",
       "    &lt;script src=&quot;https://cdn.jsdelivr.net/npm/bootstrap@5.2.2/dist/js/bootstrap.bundle.min.js&quot;&gt;&lt;/script&gt;\n",
       "    &lt;script src=&quot;https://cdnjs.cloudflare.com/ajax/libs/Leaflet.awesome-markers/2.0.2/leaflet.awesome-markers.js&quot;&gt;&lt;/script&gt;\n",
       "    &lt;link rel=&quot;stylesheet&quot; href=&quot;https://cdn.jsdelivr.net/npm/leaflet@1.9.3/dist/leaflet.css&quot;/&gt;\n",
       "    &lt;link rel=&quot;stylesheet&quot; href=&quot;https://cdn.jsdelivr.net/npm/bootstrap@5.2.2/dist/css/bootstrap.min.css&quot;/&gt;\n",
       "    &lt;link rel=&quot;stylesheet&quot; href=&quot;https://netdna.bootstrapcdn.com/bootstrap/3.0.0/css/bootstrap.min.css&quot;/&gt;\n",
       "    &lt;link rel=&quot;stylesheet&quot; href=&quot;https://cdn.jsdelivr.net/npm/@fortawesome/fontawesome-free@6.2.0/css/all.min.css&quot;/&gt;\n",
       "    &lt;link rel=&quot;stylesheet&quot; href=&quot;https://cdnjs.cloudflare.com/ajax/libs/Leaflet.awesome-markers/2.0.2/leaflet.awesome-markers.css&quot;/&gt;\n",
       "    &lt;link rel=&quot;stylesheet&quot; href=&quot;https://cdn.jsdelivr.net/gh/python-visualization/folium/folium/templates/leaflet.awesome.rotate.min.css&quot;/&gt;\n",
       "    \n",
       "            &lt;meta name=&quot;viewport&quot; content=&quot;width=device-width,\n",
       "                initial-scale=1.0, maximum-scale=1.0, user-scalable=no&quot; /&gt;\n",
       "            &lt;style&gt;\n",
       "                #map_d5734d9b8f505ca20d1dec4826189368 {\n",
       "                    position: relative;\n",
       "                    width: 100.0%;\n",
       "                    height: 100.0%;\n",
       "                    left: 0.0%;\n",
       "                    top: 0.0%;\n",
       "                }\n",
       "                .leaflet-container { font-size: 1rem; }\n",
       "            &lt;/style&gt;\n",
       "        \n",
       "    \n",
       "                    &lt;style&gt;\n",
       "                        .foliumtooltip {\n",
       "                            \n",
       "                        }\n",
       "                       .foliumtooltip table{\n",
       "                            margin: auto;\n",
       "                        }\n",
       "                        .foliumtooltip tr{\n",
       "                            text-align: left;\n",
       "                        }\n",
       "                        .foliumtooltip th{\n",
       "                            padding: 2px; padding-right: 8px;\n",
       "                        }\n",
       "                    &lt;/style&gt;\n",
       "            \n",
       "    &lt;script src=&quot;https://cdnjs.cloudflare.com/ajax/libs/leaflet.draw/1.0.2/leaflet.draw.js&quot;&gt;&lt;/script&gt;\n",
       "    &lt;link rel=&quot;stylesheet&quot; href=&quot;https://cdnjs.cloudflare.com/ajax/libs/leaflet.draw/1.0.2/leaflet.draw.css&quot;/&gt;\n",
       "    \n",
       "            &lt;style&gt;\n",
       "                #export {\n",
       "                    position: absolute;\n",
       "                    top: 5px;\n",
       "                    right: 10px;\n",
       "                    z-index: 999;\n",
       "                    background: white;\n",
       "                    color: black;\n",
       "                    padding: 6px;\n",
       "                    border-radius: 4px;\n",
       "                    font-family: &#x27;Helvetica Neue&#x27;;\n",
       "                    cursor: pointer;\n",
       "                    font-size: 12px;\n",
       "                    text-decoration: none;\n",
       "                    top: 90px;\n",
       "                }\n",
       "            &lt;/style&gt;\n",
       "        \n",
       "    &lt;script src=&quot;https://cdnjs.cloudflare.com/ajax/libs/leaflet-minimap/3.6.1/Control.MiniMap.js&quot;&gt;&lt;/script&gt;\n",
       "    &lt;link rel=&quot;stylesheet&quot; href=&quot;https://cdnjs.cloudflare.com/ajax/libs/leaflet-minimap/3.6.1/Control.MiniMap.css&quot;/&gt;\n",
       "&lt;/head&gt;\n",
       "&lt;body&gt;\n",
       "    \n",
       "    \n",
       "            &lt;div class=&quot;folium-map&quot; id=&quot;map_d5734d9b8f505ca20d1dec4826189368&quot; &gt;&lt;/div&gt;\n",
       "        \n",
       "    &lt;a href=&#x27;#&#x27; id=&#x27;export&#x27;&gt;Export&lt;/a&gt;\n",
       "&lt;/body&gt;\n",
       "&lt;script&gt;\n",
       "    \n",
       "    \n",
       "            var map_d5734d9b8f505ca20d1dec4826189368 = L.map(\n",
       "                &quot;map_d5734d9b8f505ca20d1dec4826189368&quot;,\n",
       "                {\n",
       "                    center: [48.777582237585335, -121.82063147004595],\n",
       "                    crs: L.CRS.EPSG3857,\n",
       "                    zoom: 10,\n",
       "                    zoomControl: true,\n",
       "                    preferCanvas: false,\n",
       "                }\n",
       "            );\n",
       "            L.control.scale().addTo(map_d5734d9b8f505ca20d1dec4826189368);\n",
       "\n",
       "            \n",
       "\n",
       "        \n",
       "    \n",
       "            map_d5734d9b8f505ca20d1dec4826189368.fitBounds(\n",
       "                [[48.7224251160156, -121.89935824861857], [48.83273935915507, -121.74190469147335]],\n",
       "                {}\n",
       "            );\n",
       "        \n",
       "    \n",
       "        function geo_json_03feee26dc1e51eff50619ed6f154c4b_styler(feature) {\n",
       "            switch(feature.id) {\n",
       "                default:\n",
       "                    return {&quot;fillOpacity&quot;: 0, &quot;weight&quot;: 2};\n",
       "            }\n",
       "        }\n",
       "        function geo_json_03feee26dc1e51eff50619ed6f154c4b_highlighter(feature) {\n",
       "            switch(feature.id) {\n",
       "                default:\n",
       "                    return {&quot;fillOpacity&quot;: 0.75};\n",
       "            }\n",
       "        }\n",
       "        function geo_json_03feee26dc1e51eff50619ed6f154c4b_pointToLayer(feature, latlng) {\n",
       "            var opts = {&quot;bubblingMouseEvents&quot;: true, &quot;color&quot;: &quot;#3388ff&quot;, &quot;dashArray&quot;: null, &quot;dashOffset&quot;: null, &quot;fill&quot;: true, &quot;fillColor&quot;: &quot;#3388ff&quot;, &quot;fillOpacity&quot;: 0.2, &quot;fillRule&quot;: &quot;evenodd&quot;, &quot;lineCap&quot;: &quot;round&quot;, &quot;lineJoin&quot;: &quot;round&quot;, &quot;opacity&quot;: 1.0, &quot;radius&quot;: 2, &quot;stroke&quot;: true, &quot;weight&quot;: 3};\n",
       "            \n",
       "            let style = geo_json_03feee26dc1e51eff50619ed6f154c4b_styler(feature)\n",
       "            Object.assign(opts, style)\n",
       "            \n",
       "            return new L.CircleMarker(latlng, opts)\n",
       "        }\n",
       "\n",
       "        function geo_json_03feee26dc1e51eff50619ed6f154c4b_onEachFeature(feature, layer) {\n",
       "            layer.on({\n",
       "                mouseout: function(e) {\n",
       "                    if(typeof e.target.setStyle === &quot;function&quot;){\n",
       "                        geo_json_03feee26dc1e51eff50619ed6f154c4b.resetStyle(e.target);\n",
       "                    }\n",
       "                },\n",
       "                mouseover: function(e) {\n",
       "                    if(typeof e.target.setStyle === &quot;function&quot;){\n",
       "                        const highlightStyle = geo_json_03feee26dc1e51eff50619ed6f154c4b_highlighter(e.target.feature)\n",
       "                        e.target.setStyle(highlightStyle);\n",
       "                    }\n",
       "                },\n",
       "            });\n",
       "        };\n",
       "        var geo_json_03feee26dc1e51eff50619ed6f154c4b = L.geoJson(null, {\n",
       "                onEachFeature: geo_json_03feee26dc1e51eff50619ed6f154c4b_onEachFeature,\n",
       "            \n",
       "                style: geo_json_03feee26dc1e51eff50619ed6f154c4b_styler,\n",
       "                pointToLayer: geo_json_03feee26dc1e51eff50619ed6f154c4b_pointToLayer\n",
       "        });\n",
       "\n",
       "        function geo_json_03feee26dc1e51eff50619ed6f154c4b_add (data) {\n",
       "            geo_json_03feee26dc1e51eff50619ed6f154c4b\n",
       "                .addData(data)\n",
       "                .addTo(map_d5734d9b8f505ca20d1dec4826189368);\n",
       "        }\n",
       "            geo_json_03feee26dc1e51eff50619ed6f154c4b_add({&quot;bbox&quot;: [-121.89935824861857, 48.7224251160156, -121.74190469147335, 48.83273935915507], &quot;features&quot;: [{&quot;bbox&quot;: [-121.89935824861857, 48.7224251160156, -121.74190469147335, 48.83273935915507], &quot;geometry&quot;: {&quot;coordinates&quot;: [[[-121.89697822647858, 48.83273935915507], [-121.74190469147335, 48.83115116275219], [-121.74461911907494, 48.7224251160156], [-121.89935824861857, 48.724007283476524], [-121.89697822647858, 48.83273935915507]]], &quot;type&quot;: &quot;Polygon&quot;}, &quot;id&quot;: &quot;0&quot;, &quot;properties&quot;: {}, &quot;type&quot;: &quot;Feature&quot;}], &quot;type&quot;: &quot;FeatureCollection&quot;});\n",
       "\n",
       "        \n",
       "    \n",
       "    geo_json_03feee26dc1e51eff50619ed6f154c4b.bindTooltip(\n",
       "    function(layer){\n",
       "    let div = L.DomUtil.create(&#x27;div&#x27;);\n",
       "    \n",
       "    return div\n",
       "    }\n",
       "    ,{&quot;className&quot;: &quot;foliumtooltip&quot;, &quot;sticky&quot;: true});\n",
       "                     \n",
       "    \n",
       "            var tile_layer_95ee37ae32f6467b11f9251124dc8e89 = L.tileLayer(\n",
       "                &quot;https://mt1.google.com/vt/lyrs=s\\u0026x={x}\\u0026y={y}\\u0026z={z}&quot;,\n",
       "                {&quot;attribution&quot;: &quot;Google&quot;, &quot;detectRetina&quot;: false, &quot;maxNativeZoom&quot;: 18, &quot;maxZoom&quot;: 18, &quot;minZoom&quot;: 0, &quot;noWrap&quot;: false, &quot;opacity&quot;: 0.8, &quot;subdomains&quot;: &quot;abc&quot;, &quot;tms&quot;: false}\n",
       "            ).addTo(map_d5734d9b8f505ca20d1dec4826189368);\n",
       "        \n",
       "    \n",
       "            var options = {\n",
       "              position: &quot;topleft&quot;,\n",
       "              draw: {},\n",
       "              edit: {},\n",
       "            }\n",
       "            // FeatureGroup is to store editable layers.\n",
       "            var drawnItems = new L.featureGroup().addTo(\n",
       "                map_d5734d9b8f505ca20d1dec4826189368\n",
       "            );\n",
       "            options.edit.featureGroup = drawnItems;\n",
       "            var draw_control_83e3370560d0fc85f21ab03120161185 = new L.Control.Draw(\n",
       "                options\n",
       "            ).addTo( map_d5734d9b8f505ca20d1dec4826189368 );\n",
       "            map_d5734d9b8f505ca20d1dec4826189368.on(L.Draw.Event.CREATED, function(e) {\n",
       "                var layer = e.layer,\n",
       "                    type = e.layerType;\n",
       "                var coords = JSON.stringify(layer.toGeoJSON());\n",
       "                layer.on(&#x27;click&#x27;, function() {\n",
       "                    alert(coords);\n",
       "                    console.log(coords);\n",
       "                });\n",
       "                drawnItems.addLayer(layer);\n",
       "             });\n",
       "            map_d5734d9b8f505ca20d1dec4826189368.on(&#x27;draw:created&#x27;, function(e) {\n",
       "                drawnItems.addLayer(e.layer);\n",
       "            });\n",
       "            \n",
       "            document.getElementById(&#x27;export&#x27;).onclick = function(e) {\n",
       "                var data = drawnItems.toGeoJSON();\n",
       "                var convertedData = &#x27;text/json;charset=utf-8,&#x27;\n",
       "                    + encodeURIComponent(JSON.stringify(data));\n",
       "                document.getElementById(&#x27;export&#x27;).setAttribute(\n",
       "                    &#x27;href&#x27;, &#x27;data:&#x27; + convertedData\n",
       "                );\n",
       "                document.getElementById(&#x27;export&#x27;).setAttribute(\n",
       "                    &#x27;download&#x27;, &quot;baker_points.geojson&quot;\n",
       "                );\n",
       "            }\n",
       "            \n",
       "        \n",
       "    \n",
       "            var layer_control_5822bba42ed2f6b7cac56707c388c0b7 = {\n",
       "                base_layers : {\n",
       "                    &quot;Google basemap&quot; : tile_layer_95ee37ae32f6467b11f9251124dc8e89,\n",
       "                },\n",
       "                overlays :  {\n",
       "                    &quot;polygon&quot; : geo_json_03feee26dc1e51eff50619ed6f154c4b,\n",
       "                },\n",
       "            };\n",
       "            L.control.layers(\n",
       "                layer_control_5822bba42ed2f6b7cac56707c388c0b7.base_layers,\n",
       "                layer_control_5822bba42ed2f6b7cac56707c388c0b7.overlays,\n",
       "                {&quot;autoZIndex&quot;: true, &quot;collapsed&quot;: true, &quot;position&quot;: &quot;topright&quot;}\n",
       "            ).addTo(map_d5734d9b8f505ca20d1dec4826189368);\n",
       "        \n",
       "    \n",
       "            var tile_layer_d88cb182fa195053832820a348f8991a = L.tileLayer(\n",
       "                &quot;https://{s}.tile.openstreetmap.org/{z}/{x}/{y}.png&quot;,\n",
       "                {&quot;attribution&quot;: &quot;Data by \\u0026copy; \\u003ca target=\\&quot;_blank\\&quot; href=\\&quot;http://openstreetmap.org\\&quot;\\u003eOpenStreetMap\\u003c/a\\u003e, under \\u003ca target=\\&quot;_blank\\&quot; href=\\&quot;http://www.openstreetmap.org/copyright\\&quot;\\u003eODbL\\u003c/a\\u003e.&quot;, &quot;detectRetina&quot;: false, &quot;maxNativeZoom&quot;: 18, &quot;maxZoom&quot;: 18, &quot;minZoom&quot;: 0, &quot;noWrap&quot;: false, &quot;opacity&quot;: 1, &quot;subdomains&quot;: &quot;abc&quot;, &quot;tms&quot;: false}\n",
       "            );\n",
       "            var mini_map_0c7fa01ab699fbf99310e02f3c1ef7e5 = new L.Control.MiniMap(\n",
       "                tile_layer_d88cb182fa195053832820a348f8991a,\n",
       "                {&quot;autoToggleDisplay&quot;: false, &quot;centerFixed&quot;: false, &quot;collapsedHeight&quot;: 25, &quot;collapsedWidth&quot;: 25, &quot;height&quot;: 150, &quot;minimized&quot;: false, &quot;position&quot;: &quot;bottomleft&quot;, &quot;toggleDisplay&quot;: false, &quot;width&quot;: 150, &quot;zoomAnimation&quot;: false, &quot;zoomLevelOffset&quot;: -5}\n",
       "            );\n",
       "            map_d5734d9b8f505ca20d1dec4826189368.addControl(mini_map_0c7fa01ab699fbf99310e02f3c1ef7e5);\n",
       "        \n",
       "&lt;/script&gt;\n",
       "&lt;/html&gt;\" style=\"position:absolute;width:100%;height:100%;left:0;top:0;border:none !important;\" allowfullscreen webkitallowfullscreen mozallowfullscreen></iframe></div></div>"
      ],
      "text/plain": [
       "<folium.folium.Map at 0x7f41dce23790>"
      ]
     },
     "execution_count": 19,
     "metadata": {},
     "output_type": "execute_result"
    }
   ],
   "source": [
    "tools.select_points_on_map(baker_gdf,\n",
    "                           output_file_name = 'baker_points.geojson')\n"
   ]
  },
  {
   "cell_type": "code",
   "execution_count": 7,
   "id": "9d7263a9-d607-4885-b3c0-127163378574",
   "metadata": {},
   "outputs": [],
   "source": [
    "import geopandas as gpd\n",
    "baker_points_gdf = gpd.read_file('baker_points.geojson')"
   ]
  },
  {
   "cell_type": "code",
   "execution_count": 8,
   "id": "0eb0f761-9077-4535-b62b-8589d3698cd7",
   "metadata": {},
   "outputs": [],
   "source": [
    "points = tools.extract_linestring_coords(baker_points_gdf.to_crs(baker_ds.rio.crs)['geometry'][0])\n",
    "count_da = baker_ds['band1'].count(axis=0).compute()\n"
   ]
  },
  {
   "cell_type": "code",
   "execution_count": 13,
   "id": "d60b7e20-5491-4894-b304-73af9be9010c",
   "metadata": {},
   "outputs": [
    {
     "data": {
      "text/plain": [
       "1.100872696"
      ]
     },
     "execution_count": 13,
     "metadata": {},
     "output_type": "execute_result"
    }
   ],
   "source": [
    "#size in gb\n",
    "count_da.nbytes/1e9"
   ]
  },
  {
   "cell_type": "code",
   "execution_count": 15,
   "id": "3ce4f24b-1353-44b0-ad47-153235e13055",
   "metadata": {},
   "outputs": [],
   "source": [
    "count_da_sub = count_da.isel(x = slice(3000,9000), y=slice(3000,9000))"
   ]
  },
  {
   "cell_type": "code",
   "execution_count": 16,
   "id": "22eba78d-1bdd-44e3-9eb9-e214cfd5eb60",
   "metadata": {},
   "outputs": [
    {
     "data": {
      "text/plain": [
       "0.288"
      ]
     },
     "execution_count": 16,
     "metadata": {},
     "output_type": "execute_result"
    }
   ],
   "source": [
    "count_da_sub.nbytes/1e9"
   ]
  },
  {
   "cell_type": "code",
   "execution_count": 17,
   "id": "42aaec25-283d-4011-a2a2-518913746f06",
   "metadata": {},
   "outputs": [],
   "source": [
    "std_da = baker_ds['band1'].count(axis=0).compute()"
   ]
  },
  {
   "cell_type": "code",
   "execution_count": 18,
   "id": "0fad6443-9e85-4884-9ee1-0f3f253e8cf9",
   "metadata": {},
   "outputs": [],
   "source": [
    "std_da_sub = std_da.isel(x=slice(3000,9000), y=slice(3000,9000))"
   ]
  },
  {
   "cell_type": "code",
   "execution_count": null,
   "id": "c8488a78-8a2a-4a84-8d41-ade177ee574f",
   "metadata": {},
   "outputs": [],
   "source": [
    "tools.xr_plot_count_std_glacier(count_da_sub,\n",
    "                                std_da_sub,\n",
    "                                points=points,\n",
    "                                points_cmap = 'cool',\n",
    "                                alpha = 0.8,\n",
    "                                count_vmax=len(scg_ds.time));"
   ]
  },
  {
   "cell_type": "markdown",
   "id": "ca170e8a-e446-451b-891e-fda48b9b7748",
   "metadata": {
    "user_expressions": []
   },
   "source": [
    "## GP prep"
   ]
  },
  {
   "cell_type": "code",
   "execution_count": 16,
   "id": "c86b2477-08f4-461c-96de-c6c5e5330a43",
   "metadata": {
    "tags": []
   },
   "outputs": [],
   "source": [
    "scg_sub = swap_time_dim(scg_sub)"
   ]
  },
  {
   "cell_type": "code",
   "execution_count": 18,
   "id": "33187088-081a-416d-a51c-6a743807a734",
   "metadata": {
    "tags": []
   },
   "outputs": [
    {
     "data": {
      "text/plain": [
       "36"
      ]
     },
     "execution_count": 18,
     "metadata": {},
     "output_type": "execute_result"
    }
   ],
   "source": [
    "int(np.ceil(len(scg_sub.time_numeric)/2))"
   ]
  },
  {
   "cell_type": "code",
   "execution_count": 19,
   "id": "122c1300-124e-4921-83c2-e2eef0817ffb",
   "metadata": {
    "tags": []
   },
   "outputs": [],
   "source": [
    "def format_chunks(ds):\n",
    "    \n",
    "    bgen = iter(xbatcher.BatchGenerator(ds, {'x':50,\n",
    "                                             'y':50, \n",
    "                                             'time_numeric':int(np.ceil(len(ds.time_numeric)/2))},\n",
    "                                            input_overlap={'time_numeric':9}\n",
    "                                       ))\n",
    "    chunk = next(bgen)\n",
    "    return chunk\n",
    "                "
   ]
  },
  {
   "cell_type": "code",
   "execution_count": 20,
   "id": "78f9520b-6403-45d7-b0f2-62028883fdef",
   "metadata": {
    "tags": []
   },
   "outputs": [],
   "source": [
    "scg_chunk = format_chunks(scg_sub)"
   ]
  },
  {
   "cell_type": "code",
   "execution_count": 21,
   "id": "ea44afcc-5c38-4b12-90a1-4c2a5d688be2",
   "metadata": {
    "tags": []
   },
   "outputs": [
    {
     "data": {
      "text/html": [
       "<div><svg style=\"position: absolute; width: 0; height: 0; overflow: hidden\">\n",
       "<defs>\n",
       "<symbol id=\"icon-database\" viewBox=\"0 0 32 32\">\n",
       "<path d=\"M16 0c-8.837 0-16 2.239-16 5v4c0 2.761 7.163 5 16 5s16-2.239 16-5v-4c0-2.761-7.163-5-16-5z\"></path>\n",
       "<path d=\"M16 17c-8.837 0-16-2.239-16-5v6c0 2.761 7.163 5 16 5s16-2.239 16-5v-6c0 2.761-7.163 5-16 5z\"></path>\n",
       "<path d=\"M16 26c-8.837 0-16-2.239-16-5v6c0 2.761 7.163 5 16 5s16-2.239 16-5v-6c0 2.761-7.163 5-16 5z\"></path>\n",
       "</symbol>\n",
       "<symbol id=\"icon-file-text2\" viewBox=\"0 0 32 32\">\n",
       "<path d=\"M28.681 7.159c-0.694-0.947-1.662-2.053-2.724-3.116s-2.169-2.030-3.116-2.724c-1.612-1.182-2.393-1.319-2.841-1.319h-15.5c-1.378 0-2.5 1.121-2.5 2.5v27c0 1.378 1.122 2.5 2.5 2.5h23c1.378 0 2.5-1.122 2.5-2.5v-19.5c0-0.448-0.137-1.23-1.319-2.841zM24.543 5.457c0.959 0.959 1.712 1.825 2.268 2.543h-4.811v-4.811c0.718 0.556 1.584 1.309 2.543 2.268zM28 29.5c0 0.271-0.229 0.5-0.5 0.5h-23c-0.271 0-0.5-0.229-0.5-0.5v-27c0-0.271 0.229-0.5 0.5-0.5 0 0 15.499-0 15.5 0v7c0 0.552 0.448 1 1 1h7v19.5z\"></path>\n",
       "<path d=\"M23 26h-14c-0.552 0-1-0.448-1-1s0.448-1 1-1h14c0.552 0 1 0.448 1 1s-0.448 1-1 1z\"></path>\n",
       "<path d=\"M23 22h-14c-0.552 0-1-0.448-1-1s0.448-1 1-1h14c0.552 0 1 0.448 1 1s-0.448 1-1 1z\"></path>\n",
       "<path d=\"M23 18h-14c-0.552 0-1-0.448-1-1s0.448-1 1-1h14c0.552 0 1 0.448 1 1s-0.448 1-1 1z\"></path>\n",
       "</symbol>\n",
       "</defs>\n",
       "</svg>\n",
       "<style>/* CSS stylesheet for displaying xarray objects in jupyterlab.\n",
       " *\n",
       " */\n",
       "\n",
       ":root {\n",
       "  --xr-font-color0: var(--jp-content-font-color0, rgba(0, 0, 0, 1));\n",
       "  --xr-font-color2: var(--jp-content-font-color2, rgba(0, 0, 0, 0.54));\n",
       "  --xr-font-color3: var(--jp-content-font-color3, rgba(0, 0, 0, 0.38));\n",
       "  --xr-border-color: var(--jp-border-color2, #e0e0e0);\n",
       "  --xr-disabled-color: var(--jp-layout-color3, #bdbdbd);\n",
       "  --xr-background-color: var(--jp-layout-color0, white);\n",
       "  --xr-background-color-row-even: var(--jp-layout-color1, white);\n",
       "  --xr-background-color-row-odd: var(--jp-layout-color2, #eeeeee);\n",
       "}\n",
       "\n",
       "html[theme=dark],\n",
       "body[data-theme=dark],\n",
       "body.vscode-dark {\n",
       "  --xr-font-color0: rgba(255, 255, 255, 1);\n",
       "  --xr-font-color2: rgba(255, 255, 255, 0.54);\n",
       "  --xr-font-color3: rgba(255, 255, 255, 0.38);\n",
       "  --xr-border-color: #1F1F1F;\n",
       "  --xr-disabled-color: #515151;\n",
       "  --xr-background-color: #111111;\n",
       "  --xr-background-color-row-even: #111111;\n",
       "  --xr-background-color-row-odd: #313131;\n",
       "}\n",
       "\n",
       ".xr-wrap {\n",
       "  display: block !important;\n",
       "  min-width: 300px;\n",
       "  max-width: 700px;\n",
       "}\n",
       "\n",
       ".xr-text-repr-fallback {\n",
       "  /* fallback to plain text repr when CSS is not injected (untrusted notebook) */\n",
       "  display: none;\n",
       "}\n",
       "\n",
       ".xr-header {\n",
       "  padding-top: 6px;\n",
       "  padding-bottom: 6px;\n",
       "  margin-bottom: 4px;\n",
       "  border-bottom: solid 1px var(--xr-border-color);\n",
       "}\n",
       "\n",
       ".xr-header > div,\n",
       ".xr-header > ul {\n",
       "  display: inline;\n",
       "  margin-top: 0;\n",
       "  margin-bottom: 0;\n",
       "}\n",
       "\n",
       ".xr-obj-type,\n",
       ".xr-array-name {\n",
       "  margin-left: 2px;\n",
       "  margin-right: 10px;\n",
       "}\n",
       "\n",
       ".xr-obj-type {\n",
       "  color: var(--xr-font-color2);\n",
       "}\n",
       "\n",
       ".xr-sections {\n",
       "  padding-left: 0 !important;\n",
       "  display: grid;\n",
       "  grid-template-columns: 150px auto auto 1fr 20px 20px;\n",
       "}\n",
       "\n",
       ".xr-section-item {\n",
       "  display: contents;\n",
       "}\n",
       "\n",
       ".xr-section-item input {\n",
       "  display: none;\n",
       "}\n",
       "\n",
       ".xr-section-item input + label {\n",
       "  color: var(--xr-disabled-color);\n",
       "}\n",
       "\n",
       ".xr-section-item input:enabled + label {\n",
       "  cursor: pointer;\n",
       "  color: var(--xr-font-color2);\n",
       "}\n",
       "\n",
       ".xr-section-item input:enabled + label:hover {\n",
       "  color: var(--xr-font-color0);\n",
       "}\n",
       "\n",
       ".xr-section-summary {\n",
       "  grid-column: 1;\n",
       "  color: var(--xr-font-color2);\n",
       "  font-weight: 500;\n",
       "}\n",
       "\n",
       ".xr-section-summary > span {\n",
       "  display: inline-block;\n",
       "  padding-left: 0.5em;\n",
       "}\n",
       "\n",
       ".xr-section-summary-in:disabled + label {\n",
       "  color: var(--xr-font-color2);\n",
       "}\n",
       "\n",
       ".xr-section-summary-in + label:before {\n",
       "  display: inline-block;\n",
       "  content: '►';\n",
       "  font-size: 11px;\n",
       "  width: 15px;\n",
       "  text-align: center;\n",
       "}\n",
       "\n",
       ".xr-section-summary-in:disabled + label:before {\n",
       "  color: var(--xr-disabled-color);\n",
       "}\n",
       "\n",
       ".xr-section-summary-in:checked + label:before {\n",
       "  content: '▼';\n",
       "}\n",
       "\n",
       ".xr-section-summary-in:checked + label > span {\n",
       "  display: none;\n",
       "}\n",
       "\n",
       ".xr-section-summary,\n",
       ".xr-section-inline-details {\n",
       "  padding-top: 4px;\n",
       "  padding-bottom: 4px;\n",
       "}\n",
       "\n",
       ".xr-section-inline-details {\n",
       "  grid-column: 2 / -1;\n",
       "}\n",
       "\n",
       ".xr-section-details {\n",
       "  display: none;\n",
       "  grid-column: 1 / -1;\n",
       "  margin-bottom: 5px;\n",
       "}\n",
       "\n",
       ".xr-section-summary-in:checked ~ .xr-section-details {\n",
       "  display: contents;\n",
       "}\n",
       "\n",
       ".xr-array-wrap {\n",
       "  grid-column: 1 / -1;\n",
       "  display: grid;\n",
       "  grid-template-columns: 20px auto;\n",
       "}\n",
       "\n",
       ".xr-array-wrap > label {\n",
       "  grid-column: 1;\n",
       "  vertical-align: top;\n",
       "}\n",
       "\n",
       ".xr-preview {\n",
       "  color: var(--xr-font-color3);\n",
       "}\n",
       "\n",
       ".xr-array-preview,\n",
       ".xr-array-data {\n",
       "  padding: 0 5px !important;\n",
       "  grid-column: 2;\n",
       "}\n",
       "\n",
       ".xr-array-data,\n",
       ".xr-array-in:checked ~ .xr-array-preview {\n",
       "  display: none;\n",
       "}\n",
       "\n",
       ".xr-array-in:checked ~ .xr-array-data,\n",
       ".xr-array-preview {\n",
       "  display: inline-block;\n",
       "}\n",
       "\n",
       ".xr-dim-list {\n",
       "  display: inline-block !important;\n",
       "  list-style: none;\n",
       "  padding: 0 !important;\n",
       "  margin: 0;\n",
       "}\n",
       "\n",
       ".xr-dim-list li {\n",
       "  display: inline-block;\n",
       "  padding: 0;\n",
       "  margin: 0;\n",
       "}\n",
       "\n",
       ".xr-dim-list:before {\n",
       "  content: '(';\n",
       "}\n",
       "\n",
       ".xr-dim-list:after {\n",
       "  content: ')';\n",
       "}\n",
       "\n",
       ".xr-dim-list li:not(:last-child):after {\n",
       "  content: ',';\n",
       "  padding-right: 5px;\n",
       "}\n",
       "\n",
       ".xr-has-index {\n",
       "  font-weight: bold;\n",
       "}\n",
       "\n",
       ".xr-var-list,\n",
       ".xr-var-item {\n",
       "  display: contents;\n",
       "}\n",
       "\n",
       ".xr-var-item > div,\n",
       ".xr-var-item label,\n",
       ".xr-var-item > .xr-var-name span {\n",
       "  background-color: var(--xr-background-color-row-even);\n",
       "  margin-bottom: 0;\n",
       "}\n",
       "\n",
       ".xr-var-item > .xr-var-name:hover span {\n",
       "  padding-right: 5px;\n",
       "}\n",
       "\n",
       ".xr-var-list > li:nth-child(odd) > div,\n",
       ".xr-var-list > li:nth-child(odd) > label,\n",
       ".xr-var-list > li:nth-child(odd) > .xr-var-name span {\n",
       "  background-color: var(--xr-background-color-row-odd);\n",
       "}\n",
       "\n",
       ".xr-var-name {\n",
       "  grid-column: 1;\n",
       "}\n",
       "\n",
       ".xr-var-dims {\n",
       "  grid-column: 2;\n",
       "}\n",
       "\n",
       ".xr-var-dtype {\n",
       "  grid-column: 3;\n",
       "  text-align: right;\n",
       "  color: var(--xr-font-color2);\n",
       "}\n",
       "\n",
       ".xr-var-preview {\n",
       "  grid-column: 4;\n",
       "}\n",
       "\n",
       ".xr-index-preview {\n",
       "  grid-column: 2 / 5;\n",
       "  color: var(--xr-font-color2);\n",
       "}\n",
       "\n",
       ".xr-var-name,\n",
       ".xr-var-dims,\n",
       ".xr-var-dtype,\n",
       ".xr-preview,\n",
       ".xr-attrs dt {\n",
       "  white-space: nowrap;\n",
       "  overflow: hidden;\n",
       "  text-overflow: ellipsis;\n",
       "  padding-right: 10px;\n",
       "}\n",
       "\n",
       ".xr-var-name:hover,\n",
       ".xr-var-dims:hover,\n",
       ".xr-var-dtype:hover,\n",
       ".xr-attrs dt:hover {\n",
       "  overflow: visible;\n",
       "  width: auto;\n",
       "  z-index: 1;\n",
       "}\n",
       "\n",
       ".xr-var-attrs,\n",
       ".xr-var-data,\n",
       ".xr-index-data {\n",
       "  display: none;\n",
       "  background-color: var(--xr-background-color) !important;\n",
       "  padding-bottom: 5px !important;\n",
       "}\n",
       "\n",
       ".xr-var-attrs-in:checked ~ .xr-var-attrs,\n",
       ".xr-var-data-in:checked ~ .xr-var-data,\n",
       ".xr-index-data-in:checked ~ .xr-index-data {\n",
       "  display: block;\n",
       "}\n",
       "\n",
       ".xr-var-data > table {\n",
       "  float: right;\n",
       "}\n",
       "\n",
       ".xr-var-name span,\n",
       ".xr-var-data,\n",
       ".xr-index-name div,\n",
       ".xr-index-data,\n",
       ".xr-attrs {\n",
       "  padding-left: 25px !important;\n",
       "}\n",
       "\n",
       ".xr-attrs,\n",
       ".xr-var-attrs,\n",
       ".xr-var-data,\n",
       ".xr-index-data {\n",
       "  grid-column: 1 / -1;\n",
       "}\n",
       "\n",
       "dl.xr-attrs {\n",
       "  padding: 0;\n",
       "  margin: 0;\n",
       "  display: grid;\n",
       "  grid-template-columns: 125px auto;\n",
       "}\n",
       "\n",
       ".xr-attrs dt,\n",
       ".xr-attrs dd {\n",
       "  padding: 0;\n",
       "  margin: 0;\n",
       "  float: left;\n",
       "  padding-right: 10px;\n",
       "  width: auto;\n",
       "}\n",
       "\n",
       ".xr-attrs dt {\n",
       "  font-weight: normal;\n",
       "  grid-column: 1;\n",
       "}\n",
       "\n",
       ".xr-attrs dt:hover span {\n",
       "  display: inline-block;\n",
       "  background: var(--xr-background-color);\n",
       "  padding-right: 10px;\n",
       "}\n",
       "\n",
       ".xr-attrs dd {\n",
       "  grid-column: 2;\n",
       "  white-space: pre-wrap;\n",
       "  word-break: break-all;\n",
       "}\n",
       "\n",
       ".xr-icon-database,\n",
       ".xr-icon-file-text2,\n",
       ".xr-no-icon {\n",
       "  display: inline-block;\n",
       "  vertical-align: middle;\n",
       "  width: 1em;\n",
       "  height: 1.5em !important;\n",
       "  stroke-width: 0;\n",
       "  stroke: currentColor;\n",
       "  fill: currentColor;\n",
       "}\n",
       "</style><pre class='xr-text-repr-fallback'>&lt;xarray.Dataset&gt;\n",
       "Dimensions:       (time_numeric: 36, y: 50, x: 50)\n",
       "Coordinates:\n",
       "    time          (time_numeric) datetime64[ns] 1958-08-13 ... 2016-01-06\n",
       "  * x             (x) float64 6.439e+05 6.439e+05 ... 6.44e+05 6.44e+05\n",
       "  * y             (y) float64 5.358e+06 5.358e+06 ... 5.358e+06 5.358e+06\n",
       "  * time_numeric  (time_numeric) float64 1.959e+03 1.968e+03 ... 2.016e+03\n",
       "Data variables:\n",
       "    band1         (time_numeric, y, x) float32 1.856e+03 1.856e+03 ... 1.793e+03\n",
       "    spatial_ref   int64 0\n",
       "Attributes:\n",
       "    AREA_OR_POINT:      Area\n",
       "    TIFFTAG_ARTIST:     U.S. Geological Survey Benchmark Glacier Program\n",
       "    TIFFTAG_COPYRIGHT:  Public Domain\n",
       "    add_offset:         0.0\n",
       "    crs:                PROJCS[&quot;WGS 84 / UTM zone 10N&quot;,GEOGCS[&quot;WGS 84&quot;,DATUM[...\n",
       "    scale_factor:       1.0</pre><div class='xr-wrap' style='display:none'><div class='xr-header'><div class='xr-obj-type'>xarray.Dataset</div></div><ul class='xr-sections'><li class='xr-section-item'><input id='section-8dbfa0f2-ec3d-45ae-b5e4-86190b45c888' class='xr-section-summary-in' type='checkbox' disabled ><label for='section-8dbfa0f2-ec3d-45ae-b5e4-86190b45c888' class='xr-section-summary'  title='Expand/collapse section'>Dimensions:</label><div class='xr-section-inline-details'><ul class='xr-dim-list'><li><span class='xr-has-index'>time_numeric</span>: 36</li><li><span class='xr-has-index'>y</span>: 50</li><li><span class='xr-has-index'>x</span>: 50</li></ul></div><div class='xr-section-details'></div></li><li class='xr-section-item'><input id='section-000bff52-71b2-4e26-9a40-4d963781aeb6' class='xr-section-summary-in' type='checkbox'  checked><label for='section-000bff52-71b2-4e26-9a40-4d963781aeb6' class='xr-section-summary' >Coordinates: <span>(4)</span></label><div class='xr-section-inline-details'></div><div class='xr-section-details'><ul class='xr-var-list'><li class='xr-var-item'><div class='xr-var-name'><span>time</span></div><div class='xr-var-dims'>(time_numeric)</div><div class='xr-var-dtype'>datetime64[ns]</div><div class='xr-var-preview xr-preview'>1958-08-13 ... 2016-01-06</div><input id='attrs-a9ceaaba-d933-4fee-a8a1-48177e98ceaf' class='xr-var-attrs-in' type='checkbox' disabled><label for='attrs-a9ceaaba-d933-4fee-a8a1-48177e98ceaf' title='Show/Hide attributes'><svg class='icon xr-icon-file-text2'><use xlink:href='#icon-file-text2'></use></svg></label><input id='data-0b2415a9-15e5-40ef-a7eb-a5ee4d344ce7' class='xr-var-data-in' type='checkbox'><label for='data-0b2415a9-15e5-40ef-a7eb-a5ee4d344ce7' title='Show/Hide data repr'><svg class='icon xr-icon-database'><use xlink:href='#icon-database'></use></svg></label><div class='xr-var-attrs'><dl class='xr-attrs'></dl></div><div class='xr-var-data'><pre>array([&#x27;1958-08-13T00:00:00.000000000&#x27;, &#x27;1967-09-21T00:00:00.000000000&#x27;,\n",
       "       &#x27;1970-09-29T00:00:00.000000000&#x27;, &#x27;1974-08-10T00:00:00.000000000&#x27;,\n",
       "       &#x27;1977-10-03T00:00:00.000000000&#x27;, &#x27;1979-08-20T00:00:00.000000000&#x27;,\n",
       "       &#x27;1979-10-06T00:00:00.000000000&#x27;, &#x27;1984-08-14T00:00:00.000000000&#x27;,\n",
       "       &#x27;1986-09-05T00:00:00.000000000&#x27;, &#x27;1987-08-21T00:00:00.000000000&#x27;,\n",
       "       &#x27;1990-09-05T00:00:00.000000000&#x27;, &#x27;1991-09-09T00:00:00.000000000&#x27;,\n",
       "       &#x27;1992-07-28T00:00:00.000000000&#x27;, &#x27;1992-09-15T00:00:00.000000000&#x27;,\n",
       "       &#x27;1992-09-18T00:00:00.000000000&#x27;, &#x27;1992-10-06T00:00:00.000000000&#x27;,\n",
       "       &#x27;1994-09-06T00:00:00.000000000&#x27;, &#x27;1996-09-10T00:00:00.000000000&#x27;,\n",
       "       &#x27;1997-09-23T00:00:00.000000000&#x27;, &#x27;2001-09-20T00:00:00.000000000&#x27;,\n",
       "       &#x27;2004-09-26T00:00:00.000000000&#x27;, &#x27;2008-10-01T00:00:00.000000000&#x27;,\n",
       "       &#x27;2009-06-01T00:00:00.000000000&#x27;, &#x27;2012-07-05T00:00:00.000000000&#x27;,\n",
       "       &#x27;2012-09-06T00:00:00.000000000&#x27;, &#x27;2013-06-16T00:00:00.000000000&#x27;,\n",
       "       &#x27;2014-05-11T00:00:00.000000000&#x27;, &#x27;2014-08-24T00:00:00.000000000&#x27;,\n",
       "       &#x27;2014-09-06T00:00:00.000000000&#x27;, &#x27;2015-05-01T00:00:00.000000000&#x27;,\n",
       "       &#x27;2015-05-04T00:00:00.000000000&#x27;, &#x27;2015-06-06T00:00:00.000000000&#x27;,\n",
       "       &#x27;2015-08-17T00:00:00.000000000&#x27;, &#x27;2015-10-14T00:00:00.000000000&#x27;,\n",
       "       &#x27;2015-12-01T00:00:00.000000000&#x27;, &#x27;2016-01-06T00:00:00.000000000&#x27;],\n",
       "      dtype=&#x27;datetime64[ns]&#x27;)</pre></div></li><li class='xr-var-item'><div class='xr-var-name'><span class='xr-has-index'>x</span></div><div class='xr-var-dims'>(x)</div><div class='xr-var-dtype'>float64</div><div class='xr-var-preview xr-preview'>6.439e+05 6.439e+05 ... 6.44e+05</div><input id='attrs-fe4db7bd-a324-40d2-b841-803029e9e972' class='xr-var-attrs-in' type='checkbox' ><label for='attrs-fe4db7bd-a324-40d2-b841-803029e9e972' title='Show/Hide attributes'><svg class='icon xr-icon-file-text2'><use xlink:href='#icon-file-text2'></use></svg></label><input id='data-9ba30e86-4d0e-4ebd-bb95-d0f2a8636b95' class='xr-var-data-in' type='checkbox'><label for='data-9ba30e86-4d0e-4ebd-bb95-d0f2a8636b95' title='Show/Hide data repr'><svg class='icon xr-icon-database'><use xlink:href='#icon-database'></use></svg></label><div class='xr-var-attrs'><dl class='xr-attrs'><dt><span>axis :</span></dt><dd>X</dd><dt><span>long_name :</span></dt><dd>x coordinate of projection</dd><dt><span>standard_name :</span></dt><dd>projection_x_coordinate</dd><dt><span>units :</span></dt><dd>metre</dd></dl></div><div class='xr-var-data'><pre>array([643893.428, 643895.428, 643897.428, 643899.428, 643901.428, 643903.428,\n",
       "       643905.428, 643907.428, 643909.428, 643911.428, 643913.428, 643915.428,\n",
       "       643917.428, 643919.428, 643921.428, 643923.428, 643925.428, 643927.428,\n",
       "       643929.428, 643931.428, 643933.428, 643935.428, 643937.428, 643939.428,\n",
       "       643941.428, 643943.428, 643945.428, 643947.428, 643949.428, 643951.428,\n",
       "       643953.428, 643955.428, 643957.428, 643959.428, 643961.428, 643963.428,\n",
       "       643965.428, 643967.428, 643969.428, 643971.428, 643973.428, 643975.428,\n",
       "       643977.428, 643979.428, 643981.428, 643983.428, 643985.428, 643987.428,\n",
       "       643989.428, 643991.428])</pre></div></li><li class='xr-var-item'><div class='xr-var-name'><span class='xr-has-index'>y</span></div><div class='xr-var-dims'>(y)</div><div class='xr-var-dtype'>float64</div><div class='xr-var-preview xr-preview'>5.358e+06 5.358e+06 ... 5.358e+06</div><input id='attrs-0ead06fc-3edf-4480-abce-daa7a6266ecd' class='xr-var-attrs-in' type='checkbox' ><label for='attrs-0ead06fc-3edf-4480-abce-daa7a6266ecd' title='Show/Hide attributes'><svg class='icon xr-icon-file-text2'><use xlink:href='#icon-file-text2'></use></svg></label><input id='data-0445bba3-34a2-4c48-a7ac-26a20689a336' class='xr-var-data-in' type='checkbox'><label for='data-0445bba3-34a2-4c48-a7ac-26a20689a336' title='Show/Hide data repr'><svg class='icon xr-icon-database'><use xlink:href='#icon-database'></use></svg></label><div class='xr-var-attrs'><dl class='xr-attrs'><dt><span>axis :</span></dt><dd>Y</dd><dt><span>long_name :</span></dt><dd>y coordinate of projection</dd><dt><span>standard_name :</span></dt><dd>projection_y_coordinate</dd><dt><span>units :</span></dt><dd>metre</dd></dl></div><div class='xr-var-data'><pre>array([5358123.985, 5358121.985, 5358119.985, 5358117.985, 5358115.985,\n",
       "       5358113.985, 5358111.985, 5358109.985, 5358107.985, 5358105.985,\n",
       "       5358103.985, 5358101.985, 5358099.985, 5358097.985, 5358095.985,\n",
       "       5358093.985, 5358091.985, 5358089.985, 5358087.985, 5358085.985,\n",
       "       5358083.985, 5358081.985, 5358079.985, 5358077.985, 5358075.985,\n",
       "       5358073.985, 5358071.985, 5358069.985, 5358067.985, 5358065.985,\n",
       "       5358063.985, 5358061.985, 5358059.985, 5358057.985, 5358055.985,\n",
       "       5358053.985, 5358051.985, 5358049.985, 5358047.985, 5358045.985,\n",
       "       5358043.985, 5358041.985, 5358039.985, 5358037.985, 5358035.985,\n",
       "       5358033.985, 5358031.985, 5358029.985, 5358027.985, 5358025.985])</pre></div></li><li class='xr-var-item'><div class='xr-var-name'><span class='xr-has-index'>time_numeric</span></div><div class='xr-var-dims'>(time_numeric)</div><div class='xr-var-dtype'>float64</div><div class='xr-var-preview xr-preview'>1.959e+03 1.968e+03 ... 2.016e+03</div><input id='attrs-cbca5b5b-ea1d-42c7-997f-671e1de78fa2' class='xr-var-attrs-in' type='checkbox' disabled><label for='attrs-cbca5b5b-ea1d-42c7-997f-671e1de78fa2' title='Show/Hide attributes'><svg class='icon xr-icon-file-text2'><use xlink:href='#icon-file-text2'></use></svg></label><input id='data-c12d42ae-bb7a-448a-bd26-27a53b9bd5f8' class='xr-var-data-in' type='checkbox'><label for='data-c12d42ae-bb7a-448a-bd26-27a53b9bd5f8' title='Show/Hide data repr'><svg class='icon xr-icon-database'><use xlink:href='#icon-database'></use></svg></label><div class='xr-var-attrs'><dl class='xr-attrs'></dl></div><div class='xr-var-data'><pre>array([1958.616438, 1967.723288, 1970.745205, 1974.608219, 1977.756164,\n",
       "       1979.635616, 1979.764384, 1984.621918, 1986.679452, 1987.638356,\n",
       "       1990.679452, 1991.690411, 1992.575342, 1992.709589, 1992.717808,\n",
       "       1992.767123, 1994.682192, 1996.69589 , 1997.728767, 2001.720548,\n",
       "       2004.739726, 2008.753425, 2009.416438, 2012.512329, 2012.684932,\n",
       "       2013.457534, 2014.358904, 2014.646575, 2014.682192, 2015.331507,\n",
       "       2015.339726, 2015.430137, 2015.627397, 2015.786301, 2015.917808,\n",
       "       2016.016438])</pre></div></li></ul></div></li><li class='xr-section-item'><input id='section-4f859eab-c085-4a0f-b0ae-a9a3cbbc6a50' class='xr-section-summary-in' type='checkbox'  checked><label for='section-4f859eab-c085-4a0f-b0ae-a9a3cbbc6a50' class='xr-section-summary' >Data variables: <span>(2)</span></label><div class='xr-section-inline-details'></div><div class='xr-section-details'><ul class='xr-var-list'><li class='xr-var-item'><div class='xr-var-name'><span>band1</span></div><div class='xr-var-dims'>(time_numeric, y, x)</div><div class='xr-var-dtype'>float32</div><div class='xr-var-preview xr-preview'>1.856e+03 1.856e+03 ... 1.793e+03</div><input id='attrs-c83df77b-7c92-48e7-beaa-6d1542d13134' class='xr-var-attrs-in' type='checkbox' ><label for='attrs-c83df77b-7c92-48e7-beaa-6d1542d13134' title='Show/Hide attributes'><svg class='icon xr-icon-file-text2'><use xlink:href='#icon-file-text2'></use></svg></label><input id='data-2d8863dc-819a-47e5-a08d-0feb61ab54d2' class='xr-var-data-in' type='checkbox'><label for='data-2d8863dc-819a-47e5-a08d-0feb61ab54d2' title='Show/Hide data repr'><svg class='icon xr-icon-database'><use xlink:href='#icon-database'></use></svg></label><div class='xr-var-attrs'><dl class='xr-attrs'><dt><span>AREA_OR_POINT :</span></dt><dd>Area</dd><dt><span>TIFFTAG_ARTIST :</span></dt><dd>U.S. Geological Survey Benchmark Glacier Program</dd><dt><span>TIFFTAG_COPYRIGHT :</span></dt><dd>Public Domain</dd><dt><span>grid_mapping :</span></dt><dd>spatial_ref</dd></dl></div><div class='xr-var-data'><pre>array([[[1855.7008, 1856.3785, 1857.0563, ..., 1850.2476, 1849.7433,\n",
       "         1849.2224],\n",
       "        [1854.591 , 1855.4655, 1856.3401, ..., 1850.2489, 1849.7107,\n",
       "         1849.189 ],\n",
       "        [1853.1263, 1853.996 , 1854.8656, ..., 1850.2618, 1849.7179,\n",
       "         1849.182 ],\n",
       "        ...,\n",
       "        [1852.5856, 1852.5399, 1852.4943, ..., 1854.2085, 1854.0325,\n",
       "         1853.7634],\n",
       "        [1852.7018, 1852.6476, 1852.5933, ..., 1854.113 , 1853.886 ,\n",
       "         1853.521 ],\n",
       "        [1852.818 , 1852.7551, 1852.6924, ..., 1854.0175, 1853.7394,\n",
       "         1853.2786]],\n",
       "\n",
       "       [[1848.2153, 1848.3108, 1848.2299, ..., 1846.0775, 1846.0311,\n",
       "         1846.0714],\n",
       "        [1848.2655, 1848.3251, 1848.3936, ..., 1846.1279, 1846.1346,\n",
       "         1846.163 ],\n",
       "        [1848.3815, 1848.4141, 1848.3628, ..., 1846.1034, 1846.0797,\n",
       "         1846.1465],\n",
       "...\n",
       "        [1799.9308, 1799.8208, 1799.7241, ...,       nan,       nan,\n",
       "               nan],\n",
       "        [1800.0095, 1799.8965, 1799.7988, ...,       nan,       nan,\n",
       "               nan],\n",
       "        [1800.1105, 1799.995 , 1799.8962, ...,       nan,       nan,\n",
       "               nan]],\n",
       "\n",
       "       [[1796.3629, 1796.294 , 1796.2185, ..., 1792.358 , 1792.232 ,\n",
       "         1792.0884],\n",
       "        [1796.4347, 1796.3693, 1796.2988, ..., 1792.4612, 1792.3379,\n",
       "         1792.1965],\n",
       "        [1796.5223, 1796.4607, 1796.3959, ..., 1792.5453, 1792.4246,\n",
       "         1792.2863],\n",
       "        ...,\n",
       "        [1799.8622, 1799.7203, 1799.5828, ..., 1792.9209, 1792.7076,\n",
       "         1792.515 ],\n",
       "        [1799.8989, 1799.757 , 1799.6212, ..., 1793.0029, 1792.7882,\n",
       "         1792.5951],\n",
       "        [1799.9308, 1799.7874, 1799.6521, ..., 1793.0804, 1792.866 ,\n",
       "         1792.6736]]], dtype=float32)</pre></div></li><li class='xr-var-item'><div class='xr-var-name'><span>spatial_ref</span></div><div class='xr-var-dims'>()</div><div class='xr-var-dtype'>int64</div><div class='xr-var-preview xr-preview'>0</div><input id='attrs-e1bb0823-4d0c-4b7e-8902-e27edf7b93b8' class='xr-var-attrs-in' type='checkbox' ><label for='attrs-e1bb0823-4d0c-4b7e-8902-e27edf7b93b8' title='Show/Hide attributes'><svg class='icon xr-icon-file-text2'><use xlink:href='#icon-file-text2'></use></svg></label><input id='data-e4161290-9ebe-4f53-bf85-f35eee936894' class='xr-var-data-in' type='checkbox'><label for='data-e4161290-9ebe-4f53-bf85-f35eee936894' title='Show/Hide data repr'><svg class='icon xr-icon-database'><use xlink:href='#icon-database'></use></svg></label><div class='xr-var-attrs'><dl class='xr-attrs'><dt><span>crs_wkt :</span></dt><dd>PROJCS[&quot;WGS 84 / UTM zone 10N&quot;,GEOGCS[&quot;WGS 84&quot;,DATUM[&quot;WGS_1984&quot;,SPHEROID[&quot;WGS 84&quot;,6378137,298.257223563,AUTHORITY[&quot;EPSG&quot;,&quot;7030&quot;]],AUTHORITY[&quot;EPSG&quot;,&quot;6326&quot;]],PRIMEM[&quot;Greenwich&quot;,0,AUTHORITY[&quot;EPSG&quot;,&quot;8901&quot;]],UNIT[&quot;degree&quot;,0.0174532925199433,AUTHORITY[&quot;EPSG&quot;,&quot;9122&quot;]],AUTHORITY[&quot;EPSG&quot;,&quot;4326&quot;]],PROJECTION[&quot;Transverse_Mercator&quot;],PARAMETER[&quot;latitude_of_origin&quot;,0],PARAMETER[&quot;central_meridian&quot;,-123],PARAMETER[&quot;scale_factor&quot;,0.9996],PARAMETER[&quot;false_easting&quot;,500000],PARAMETER[&quot;false_northing&quot;,0],UNIT[&quot;metre&quot;,1,AUTHORITY[&quot;EPSG&quot;,&quot;9001&quot;]],AXIS[&quot;Easting&quot;,EAST],AXIS[&quot;Northing&quot;,NORTH],AUTHORITY[&quot;EPSG&quot;,&quot;32610&quot;]]</dd><dt><span>false_easting :</span></dt><dd>500000.0</dd><dt><span>false_northing :</span></dt><dd>0.0</dd><dt><span>geographic_crs_name :</span></dt><dd>WGS 84</dd><dt><span>grid_mapping_name :</span></dt><dd>transverse_mercator</dd><dt><span>horizontal_datum_name :</span></dt><dd>World Geodetic System 1984</dd><dt><span>inverse_flattening :</span></dt><dd>298.257223563</dd><dt><span>latitude_of_projection_origin :</span></dt><dd>0.0</dd><dt><span>longitude_of_central_meridian :</span></dt><dd>-123.0</dd><dt><span>longitude_of_prime_meridian :</span></dt><dd>0.0</dd><dt><span>prime_meridian_name :</span></dt><dd>Greenwich</dd><dt><span>projected_crs_name :</span></dt><dd>WGS 84 / UTM zone 10N</dd><dt><span>reference_ellipsoid_name :</span></dt><dd>WGS 84</dd><dt><span>scale_factor_at_central_meridian :</span></dt><dd>0.9996</dd><dt><span>semi_major_axis :</span></dt><dd>6378137.0</dd><dt><span>semi_minor_axis :</span></dt><dd>6356752.314245179</dd><dt><span>spatial_ref :</span></dt><dd>PROJCS[&quot;WGS 84 / UTM zone 10N&quot;,GEOGCS[&quot;WGS 84&quot;,DATUM[&quot;WGS_1984&quot;,SPHEROID[&quot;WGS 84&quot;,6378137,298.257223563,AUTHORITY[&quot;EPSG&quot;,&quot;7030&quot;]],AUTHORITY[&quot;EPSG&quot;,&quot;6326&quot;]],PRIMEM[&quot;Greenwich&quot;,0,AUTHORITY[&quot;EPSG&quot;,&quot;8901&quot;]],UNIT[&quot;degree&quot;,0.0174532925199433,AUTHORITY[&quot;EPSG&quot;,&quot;9122&quot;]],AUTHORITY[&quot;EPSG&quot;,&quot;4326&quot;]],PROJECTION[&quot;Transverse_Mercator&quot;],PARAMETER[&quot;latitude_of_origin&quot;,0],PARAMETER[&quot;central_meridian&quot;,-123],PARAMETER[&quot;scale_factor&quot;,0.9996],PARAMETER[&quot;false_easting&quot;,500000],PARAMETER[&quot;false_northing&quot;,0],UNIT[&quot;metre&quot;,1,AUTHORITY[&quot;EPSG&quot;,&quot;9001&quot;]],AXIS[&quot;Easting&quot;,EAST],AXIS[&quot;Northing&quot;,NORTH],AUTHORITY[&quot;EPSG&quot;,&quot;32610&quot;]]</dd></dl></div><div class='xr-var-data'><pre>array(0)</pre></div></li></ul></div></li><li class='xr-section-item'><input id='section-9c27849e-8533-4901-b493-082ded6f9c28' class='xr-section-summary-in' type='checkbox'  ><label for='section-9c27849e-8533-4901-b493-082ded6f9c28' class='xr-section-summary' >Indexes: <span>(3)</span></label><div class='xr-section-inline-details'></div><div class='xr-section-details'><ul class='xr-var-list'><li class='xr-var-item'><div class='xr-index-name'><div>x</div></div><div class='xr-index-preview'>PandasIndex</div><div></div><input id='index-95d3e5e7-cf12-42ce-af20-c3995eb0afa0' class='xr-index-data-in' type='checkbox'/><label for='index-95d3e5e7-cf12-42ce-af20-c3995eb0afa0' title='Show/Hide index repr'><svg class='icon xr-icon-database'><use xlink:href='#icon-database'></use></svg></label><div class='xr-index-data'><pre>PandasIndex(Float64Index([643893.428, 643895.428, 643897.428, 643899.428, 643901.428,\n",
       "              643903.428, 643905.428, 643907.428, 643909.428, 643911.428,\n",
       "              643913.428, 643915.428, 643917.428, 643919.428, 643921.428,\n",
       "              643923.428, 643925.428, 643927.428, 643929.428, 643931.428,\n",
       "              643933.428, 643935.428, 643937.428, 643939.428, 643941.428,\n",
       "              643943.428, 643945.428, 643947.428, 643949.428, 643951.428,\n",
       "              643953.428, 643955.428, 643957.428, 643959.428, 643961.428,\n",
       "              643963.428, 643965.428, 643967.428, 643969.428, 643971.428,\n",
       "              643973.428, 643975.428, 643977.428, 643979.428, 643981.428,\n",
       "              643983.428, 643985.428, 643987.428, 643989.428, 643991.428],\n",
       "             dtype=&#x27;float64&#x27;, name=&#x27;x&#x27;))</pre></div></li><li class='xr-var-item'><div class='xr-index-name'><div>y</div></div><div class='xr-index-preview'>PandasIndex</div><div></div><input id='index-55d50e19-a7e2-4630-be11-f78c180080b9' class='xr-index-data-in' type='checkbox'/><label for='index-55d50e19-a7e2-4630-be11-f78c180080b9' title='Show/Hide index repr'><svg class='icon xr-icon-database'><use xlink:href='#icon-database'></use></svg></label><div class='xr-index-data'><pre>PandasIndex(Float64Index([5358123.985, 5358121.985, 5358119.985, 5358117.985, 5358115.985,\n",
       "              5358113.985, 5358111.985, 5358109.985, 5358107.985, 5358105.985,\n",
       "              5358103.985, 5358101.985, 5358099.985, 5358097.985, 5358095.985,\n",
       "              5358093.985, 5358091.985, 5358089.985, 5358087.985, 5358085.985,\n",
       "              5358083.985, 5358081.985, 5358079.985, 5358077.985, 5358075.985,\n",
       "              5358073.985, 5358071.985, 5358069.985, 5358067.985, 5358065.985,\n",
       "              5358063.985, 5358061.985, 5358059.985, 5358057.985, 5358055.985,\n",
       "              5358053.985, 5358051.985, 5358049.985, 5358047.985, 5358045.985,\n",
       "              5358043.985, 5358041.985, 5358039.985, 5358037.985, 5358035.985,\n",
       "              5358033.985, 5358031.985, 5358029.985, 5358027.985, 5358025.985],\n",
       "             dtype=&#x27;float64&#x27;, name=&#x27;y&#x27;))</pre></div></li><li class='xr-var-item'><div class='xr-index-name'><div>time_numeric</div></div><div class='xr-index-preview'>PandasIndex</div><div></div><input id='index-8e4e40ca-4d92-4678-8b72-f821320744dd' class='xr-index-data-in' type='checkbox'/><label for='index-8e4e40ca-4d92-4678-8b72-f821320744dd' title='Show/Hide index repr'><svg class='icon xr-icon-database'><use xlink:href='#icon-database'></use></svg></label><div class='xr-index-data'><pre>PandasIndex(Float64Index([1958.6164383561643, 1967.7232876712328, 1970.7452054794521,\n",
       "              1974.6082191780822, 1977.7561643835616, 1979.6356164383562,\n",
       "              1979.7643835616439, 1984.6219178082192, 1986.6794520547944,\n",
       "              1987.6383561643836, 1990.6794520547944,  1991.690410958904,\n",
       "              1992.5753424657535, 1992.7095890410958,  1992.717808219178,\n",
       "              1992.7671232876712,  1994.682191780822,  1996.695890410959,\n",
       "              1997.7287671232878, 2001.7205479452055, 2004.7397260273972,\n",
       "              2008.7534246575342, 2009.4164383561645, 2012.5123287671233,\n",
       "              2012.6849315068494, 2013.4575342465753,  2014.358904109589,\n",
       "              2014.6465753424657,  2014.682191780822,  2015.331506849315,\n",
       "              2015.3397260273973, 2015.4301369863015,  2015.627397260274,\n",
       "               2015.786301369863, 2015.9178082191781, 2016.0164383561644],\n",
       "             dtype=&#x27;float64&#x27;, name=&#x27;time_numeric&#x27;))</pre></div></li></ul></div></li><li class='xr-section-item'><input id='section-24492731-5994-4120-8a87-e5cedc0ea53b' class='xr-section-summary-in' type='checkbox'  checked><label for='section-24492731-5994-4120-8a87-e5cedc0ea53b' class='xr-section-summary' >Attributes: <span>(6)</span></label><div class='xr-section-inline-details'></div><div class='xr-section-details'><dl class='xr-attrs'><dt><span>AREA_OR_POINT :</span></dt><dd>Area</dd><dt><span>TIFFTAG_ARTIST :</span></dt><dd>U.S. Geological Survey Benchmark Glacier Program</dd><dt><span>TIFFTAG_COPYRIGHT :</span></dt><dd>Public Domain</dd><dt><span>add_offset :</span></dt><dd>0.0</dd><dt><span>crs :</span></dt><dd>PROJCS[&quot;WGS 84 / UTM zone 10N&quot;,GEOGCS[&quot;WGS 84&quot;,DATUM[&quot;WGS_1984&quot;,SPHEROID[&quot;WGS 84&quot;,6378137,298.257223563,AUTHORITY[&quot;EPSG&quot;,&quot;7030&quot;]],AUTHORITY[&quot;EPSG&quot;,&quot;6326&quot;]],PRIMEM[&quot;Greenwich&quot;,0,AUTHORITY[&quot;EPSG&quot;,&quot;8901&quot;]],UNIT[&quot;degree&quot;,0.0174532925199433,AUTHORITY[&quot;EPSG&quot;,&quot;9122&quot;]],AUTHORITY[&quot;EPSG&quot;,&quot;4326&quot;]],PROJECTION[&quot;Transverse_Mercator&quot;],PARAMETER[&quot;latitude_of_origin&quot;,0],PARAMETER[&quot;central_meridian&quot;,-123],PARAMETER[&quot;scale_factor&quot;,0.9996],PARAMETER[&quot;false_easting&quot;,500000],PARAMETER[&quot;false_northing&quot;,0],UNIT[&quot;metre&quot;,1,AUTHORITY[&quot;EPSG&quot;,&quot;9001&quot;]],AXIS[&quot;Easting&quot;,EAST],AXIS[&quot;Northing&quot;,NORTH],AUTHORITY[&quot;EPSG&quot;,&quot;32610&quot;]]</dd><dt><span>scale_factor :</span></dt><dd>1.0</dd></dl></div></li></ul></div></div>"
      ],
      "text/plain": [
       "<xarray.Dataset>\n",
       "Dimensions:       (time_numeric: 36, y: 50, x: 50)\n",
       "Coordinates:\n",
       "    time          (time_numeric) datetime64[ns] 1958-08-13 ... 2016-01-06\n",
       "  * x             (x) float64 6.439e+05 6.439e+05 ... 6.44e+05 6.44e+05\n",
       "  * y             (y) float64 5.358e+06 5.358e+06 ... 5.358e+06 5.358e+06\n",
       "  * time_numeric  (time_numeric) float64 1.959e+03 1.968e+03 ... 2.016e+03\n",
       "Data variables:\n",
       "    band1         (time_numeric, y, x) float32 1.856e+03 1.856e+03 ... 1.793e+03\n",
       "    spatial_ref   int64 0\n",
       "Attributes:\n",
       "    AREA_OR_POINT:      Area\n",
       "    TIFFTAG_ARTIST:     U.S. Geological Survey Benchmark Glacier Program\n",
       "    TIFFTAG_COPYRIGHT:  Public Domain\n",
       "    add_offset:         0.0\n",
       "    crs:                PROJCS[\"WGS 84 / UTM zone 10N\",GEOGCS[\"WGS 84\",DATUM[...\n",
       "    scale_factor:       1.0"
      ]
     },
     "execution_count": 21,
     "metadata": {},
     "output_type": "execute_result"
    }
   ],
   "source": [
    "scg_chunk"
   ]
  },
  {
   "cell_type": "markdown",
   "id": "21f6f72f-6cd6-442f-a7da-56a8af2cdf20",
   "metadata": {
    "user_expressions": []
   },
   "source": [
    "Taking the third chunk because it was the first one with more than one time step of coverage"
   ]
  },
  {
   "cell_type": "code",
   "execution_count": 35,
   "id": "b0de79fe-c443-49ef-8884-1a42e55adcb6",
   "metadata": {
    "tags": []
   },
   "outputs": [
    {
     "data": {
      "image/png": "[encoded data removed]",
      "text/plain": [
       "<Figure size 1000x200 with 1 Axes>"
      ]
     },
     "metadata": {},
     "output_type": "display_data"
    }
   ],
   "source": [
    "tools.plot_percent_area_coverage(scg_chunk, title = ' xbatcher chunk coverage w/ overlaps')\n"
   ]
  },
  {
   "cell_type": "code",
   "execution_count": 19,
   "id": "afe77695-c372-495e-bf0d-22466ad32463",
   "metadata": {
    "tags": []
   },
   "outputs": [],
   "source": [
    "#format and generate test data (following george's code)\n",
    "#train_x_chunk, train_y_chunk = prep_data_to_tensor(bgen[2])"
   ]
  },
  {
   "cell_type": "code",
   "execution_count": 22,
   "id": "122ab902-dfcc-4a19-b8b7-260394b29012",
   "metadata": {
    "tags": []
   },
   "outputs": [],
   "source": [
    "data_chunk1 = scg_chunk.to_dataframe().dropna().reset_index().rename({'band1':'z'},axis=1).drop(['spatial_ref','time'],axis=1)"
   ]
  },
  {
   "cell_type": "code",
   "execution_count": 23,
   "id": "f4295193-de53-45ca-b597-c4f9a160a261",
   "metadata": {
    "tags": []
   },
   "outputs": [
    {
     "data": {
      "text/html": [
       "<div>\n",
       "<style scoped>\n",
       "    .dataframe tbody tr th:only-of-type {\n",
       "        vertical-align: middle;\n",
       "    }\n",
       "\n",
       "    .dataframe tbody tr th {\n",
       "        vertical-align: top;\n",
       "    }\n",
       "\n",
       "    .dataframe thead th {\n",
       "        text-align: right;\n",
       "    }\n",
       "</style>\n",
       "<table border=\"1\" class=\"dataframe\">\n",
       "  <thead>\n",
       "    <tr style=\"text-align: right;\">\n",
       "      <th></th>\n",
       "      <th>time_numeric</th>\n",
       "      <th>y</th>\n",
       "      <th>x</th>\n",
       "      <th>z</th>\n",
       "    </tr>\n",
       "  </thead>\n",
       "  <tbody>\n",
       "    <tr>\n",
       "      <th>0</th>\n",
       "      <td>1958.616438</td>\n",
       "      <td>5358123.985</td>\n",
       "      <td>643893.428</td>\n",
       "      <td>1855.700806</td>\n",
       "    </tr>\n",
       "    <tr>\n",
       "      <th>1</th>\n",
       "      <td>1958.616438</td>\n",
       "      <td>5358123.985</td>\n",
       "      <td>643895.428</td>\n",
       "      <td>1856.378540</td>\n",
       "    </tr>\n",
       "    <tr>\n",
       "      <th>2</th>\n",
       "      <td>1958.616438</td>\n",
       "      <td>5358123.985</td>\n",
       "      <td>643897.428</td>\n",
       "      <td>1857.056274</td>\n",
       "    </tr>\n",
       "    <tr>\n",
       "      <th>3</th>\n",
       "      <td>1958.616438</td>\n",
       "      <td>5358123.985</td>\n",
       "      <td>643899.428</td>\n",
       "      <td>1857.734009</td>\n",
       "    </tr>\n",
       "    <tr>\n",
       "      <th>4</th>\n",
       "      <td>1958.616438</td>\n",
       "      <td>5358123.985</td>\n",
       "      <td>643901.428</td>\n",
       "      <td>1857.882690</td>\n",
       "    </tr>\n",
       "    <tr>\n",
       "      <th>...</th>\n",
       "      <td>...</td>\n",
       "      <td>...</td>\n",
       "      <td>...</td>\n",
       "      <td>...</td>\n",
       "    </tr>\n",
       "    <tr>\n",
       "      <th>82083</th>\n",
       "      <td>2016.016438</td>\n",
       "      <td>5358025.985</td>\n",
       "      <td>643983.428</td>\n",
       "      <td>1793.536865</td>\n",
       "    </tr>\n",
       "    <tr>\n",
       "      <th>82084</th>\n",
       "      <td>2016.016438</td>\n",
       "      <td>5358025.985</td>\n",
       "      <td>643985.428</td>\n",
       "      <td>1793.307739</td>\n",
       "    </tr>\n",
       "    <tr>\n",
       "      <th>82085</th>\n",
       "      <td>2016.016438</td>\n",
       "      <td>5358025.985</td>\n",
       "      <td>643987.428</td>\n",
       "      <td>1793.080444</td>\n",
       "    </tr>\n",
       "    <tr>\n",
       "      <th>82086</th>\n",
       "      <td>2016.016438</td>\n",
       "      <td>5358025.985</td>\n",
       "      <td>643989.428</td>\n",
       "      <td>1792.865967</td>\n",
       "    </tr>\n",
       "    <tr>\n",
       "      <th>82087</th>\n",
       "      <td>2016.016438</td>\n",
       "      <td>5358025.985</td>\n",
       "      <td>643991.428</td>\n",
       "      <td>1792.673584</td>\n",
       "    </tr>\n",
       "  </tbody>\n",
       "</table>\n",
       "<p>82088 rows × 4 columns</p>\n",
       "</div>"
      ],
      "text/plain": [
       "       time_numeric            y           x            z\n",
       "0       1958.616438  5358123.985  643893.428  1855.700806\n",
       "1       1958.616438  5358123.985  643895.428  1856.378540\n",
       "2       1958.616438  5358123.985  643897.428  1857.056274\n",
       "3       1958.616438  5358123.985  643899.428  1857.734009\n",
       "4       1958.616438  5358123.985  643901.428  1857.882690\n",
       "...             ...          ...         ...          ...\n",
       "82083   2016.016438  5358025.985  643983.428  1793.536865\n",
       "82084   2016.016438  5358025.985  643985.428  1793.307739\n",
       "82085   2016.016438  5358025.985  643987.428  1793.080444\n",
       "82086   2016.016438  5358025.985  643989.428  1792.865967\n",
       "82087   2016.016438  5358025.985  643991.428  1792.673584\n",
       "\n",
       "[82088 rows x 4 columns]"
      ]
     },
     "execution_count": 23,
     "metadata": {},
     "output_type": "execute_result"
    }
   ],
   "source": [
    "data_chunk1"
   ]
  },
  {
   "cell_type": "markdown",
   "id": "57490a65-e64b-4919-a985-53ef8a370548",
   "metadata": {
    "user_expressions": []
   },
   "source": [
    "## keenans example"
   ]
  },
  {
   "cell_type": "code",
   "execution_count": 24,
   "id": "06def81e-859d-4577-a2f5-3ac3f09bff60",
   "metadata": {
    "tags": []
   },
   "outputs": [],
   "source": [
    "def gaussian_2d(x,y,x0,y0,sigma_x, sigma_y, noise):\n",
    "    z = torch.exp(-((x - x0) ** 2 / (2 * sigma_x ** 2) + (y - y0) ** 2 / (2 * sigma_y ** 2)))\n",
    "    return z + torch.normal(size=tuple(z.shape), mean=0.0, std=noise)\n",
    "\n",
    "def make_test_dataset(size, bounds, x0, y0, sigma_x, sigma_y, noise):\n",
    "    x = np.linspace(bounds[0], bounds[1], size)\n",
    "    y = np.linspace(bounds[0], bounds[1], size)\n",
    "    \n",
    "    grid = torch.from_numpy(np.stack([x,y], axis=-1))\n",
    "    xy = gpytorch.utils.grid.create_data_from_grid(grid)\n",
    "    \n",
    "    z = gaussian_2d(xy[:,0], xy[:, 1], x0,y0,sigma_x, sigma_y, noise)\n",
    "    return grid.double(), xy.double(), z.double()\n"
   ]
  },
  {
   "cell_type": "code",
   "execution_count": 28,
   "id": "998e398c-42b8-4d2b-8a41-02d7d0f1a516",
   "metadata": {
    "tags": []
   },
   "outputs": [],
   "source": [
    "size  = 100\n",
    "bounds = (-3,3)\n",
    "x = np.linspace(bounds[0], bounds[1], size)\n",
    "y = np.linspace(bounds[0], bounds[1], size)\n",
    "\n",
    "grid = torch.from_numpy(np.stack([x,y], axis=-1))\n",
    "xy = gpytorch.utils.grid.create_data_from_grid(grid)\n",
    "z = gaussian_2d(xy[:,0], xy[:, 1], 0,0,1, 1, 0.5)"
   ]
  },
  {
   "cell_type": "code",
   "execution_count": 32,
   "id": "86d31c9f-82ac-42b7-b265-5b5812d54973",
   "metadata": {
    "tags": []
   },
   "outputs": [
    {
     "name": "stdout",
     "output_type": "stream",
     "text": [
      "torch.Size([10000, 2])\n",
      "torch.Size([10000])\n"
     ]
    }
   ],
   "source": [
    "print(xy.shape)\n",
    "print(z.shape)"
   ]
  },
  {
   "cell_type": "code",
   "execution_count": 100,
   "id": "df93ef8c-0843-4ec5-9b20-ea77346d39af",
   "metadata": {
    "tags": []
   },
   "outputs": [],
   "source": [
    "scg_x = scg_chunk.x.data\n",
    "scg_y = scg_chunk.y.data\n",
    "scg_z = scg_chunk.band1.mean(dim='time_numeric').data."
   ]
  },
  {
   "cell_type": "code",
   "execution_count": null,
   "id": "d970bb35-359b-4b77-9d20-f62e8a8dee13",
   "metadata": {},
   "outputs": [],
   "source": [
    "files = [1,2,3,4,5,6,7,8,9,10]\n",
    "training = files[:int(len(files)*0.8)] #[1, 2, 3, 4, 5, 6, 7, 8]\n",
    "validation = files[-int(len(files)*0.1):] #[10]\n",
    "testing = files[-int(len(files)*0.1):] #[10]\n"
   ]
  },
  {
   "cell_type": "code",
   "execution_count": 124,
   "id": "ceda5b31-a5f1-4636-98a7-16c45a372363",
   "metadata": {
    "tags": []
   },
   "outputs": [
    {
     "data": {
      "text/plain": [
       "2500"
      ]
     },
     "execution_count": 124,
     "metadata": {},
     "output_type": "execute_result"
    }
   ],
   "source": [
    "len(scg_xy)"
   ]
  },
  {
   "cell_type": "code",
   "execution_count": 101,
   "id": "f663a608-1515-4591-973b-6176e415f9f9",
   "metadata": {
    "tags": []
   },
   "outputs": [],
   "source": [
    "scg_grid = torch.from_numpy(np.stack([scg_x, scg_y], axis=-1))\n",
    "scg_xy = gpytorch.utils.grid.create_data_from_grid(scg_grid)\n",
    "scg_z = torch.from_numpy(scg_z.ravel())"
   ]
  },
  {
   "cell_type": "code",
   "execution_count": 104,
   "id": "e979d13f-d81e-455e-8a24-10f6bd4e239b",
   "metadata": {
    "tags": []
   },
   "outputs": [
    {
     "data": {
      "text/plain": [
       "torch.Size([2500, 2])"
      ]
     },
     "execution_count": 104,
     "metadata": {},
     "output_type": "execute_result"
    }
   ],
   "source": [
    "scg_xy.shape"
   ]
  },
  {
   "cell_type": "code",
   "execution_count": 102,
   "id": "7423c2b1-c3f6-488a-b982-be0a5a80d659",
   "metadata": {
    "tags": []
   },
   "outputs": [
    {
     "data": {
      "text/plain": [
       "torch.Size([2500])"
      ]
     },
     "execution_count": 102,
     "metadata": {},
     "output_type": "execute_result"
    }
   ],
   "source": [
    "scg_z.shape"
   ]
  },
  {
   "cell_type": "code",
   "execution_count": 89,
   "id": "33878a31-115f-459a-9678-dcfe95cdcf77",
   "metadata": {
    "tags": []
   },
   "outputs": [],
   "source": [
    "scg_xy[:,0].shape\n",
    "scg_z = torch.from_numpy(scg_z)"
   ]
  },
  {
   "cell_type": "code",
   "execution_count": 138,
   "id": "716fe4f3-1da9-456f-a5fb-ee4855a084ad",
   "metadata": {
    "tags": []
   },
   "outputs": [],
   "source": [
    "train_scg_xy = torch.from_numpy(scg_xy.numpy()[:int(len(scg_xy)*0.8)])\n",
    "train_scg_z = torch.from_numpy(scg_z.numpy()[:int(len(scg_z)*0.8)])"
   ]
  },
  {
   "cell_type": "code",
   "execution_count": 137,
   "id": "1cda148f-49b2-479b-911c-e8e9048716ae",
   "metadata": {
    "tags": []
   },
   "outputs": [],
   "source": [
    "test_scg_xy = torch.from_numpy(scg_xy.numpy()[-int(len(scg_xy)*0.2):])\n",
    "test_scg_z = torch.from_numpy(scg_z.numpy()[-int(len(scg_z)*0.2):])\n"
   ]
  },
  {
   "cell_type": "code",
   "execution_count": 60,
   "id": "546ebdf2-3bb3-40f2-8619-fa0d2180fd33",
   "metadata": {
    "tags": []
   },
   "outputs": [
    {
     "data": {
      "image/png": "[encoded data removed]",
      "text/plain": [
       "<Figure size 640x480 with 1 Axes>"
      ]
     },
     "metadata": {},
     "output_type": "display_data"
    }
   ],
   "source": [
    "size=50\n",
    "#grid, xy,z = make_test_dataset(size, (-3,3), 0,0,1,1,0.05)\n",
    "                            \n",
    "                            \n",
    "shape = (size, size)\n",
    "fig, ax = plt.subplots(subplot_kw = {'projection':'3d'})\n",
    "\n",
    "surf = ax.plot_surface(\n",
    "    scg_xy[:, 0].numpy().reshape(shape),\n",
    "    scg_xy[:, 1].numpy().reshape(shape),\n",
    "    scg_z, cmap='cividis',\n",
    "    linewidth=0, antialiased=False)\n",
    "plt.show()\n"
   ]
  },
  {
   "cell_type": "code",
   "execution_count": 105,
   "id": "afa9b236-af06-4fcb-968c-6d273d6c0e8b",
   "metadata": {
    "tags": []
   },
   "outputs": [],
   "source": [
    "import time as time\n",
    "from tqdm import tqdm\n",
    "\n",
    "# Gpytorch versions\n",
    "class ExactGPModel(gpytorch.models.ExactGP):\n",
    "    def __init__(self, train_x, train_y, likelihood):\n",
    "        super(ExactGPModel, self).__init__(train_x, train_y, likelihood)\n",
    "        self.mean_module = gpytorch.means.ConstantMean()\n",
    "        self.covar_module = gpytorch.kernels.ScaleKernel(gpytorch.kernels.MaternKernel())\n",
    "\n",
    "    def forward(self, x):\n",
    "        mean_x = self.mean_module(x)\n",
    "        covar_x = self.covar_module(x)\n",
    "        return gpytorch.distributions.MultivariateNormal(mean_x, covar_x)\n",
    "\n",
    "class ExactGPModelGrid(gpytorch.models.ExactGP):\n",
    "    def __init__(self, grid, train_x, train_y, likelihood):\n",
    "        super(ExactGPModelGrid, self).__init__(train_x, train_y, likelihood)\n",
    "        num_dims = train_x.size(-1)\n",
    "        self.mean_module = gpytorch.means.ConstantMean()\n",
    "        self.covar_module = gpytorch.kernels.GridKernel(gpytorch.kernels.MaternKernel(), grid=grid)\n",
    "\n",
    "    def forward(self, x):\n",
    "        mean_x = self.mean_module(x)\n",
    "        covar_x = self.covar_module(x)\n",
    "        return gpytorch.distributions.MultivariateNormal(mean_x, covar_x)\n",
    "\n",
    "def train_gpytorch_model(xy_tensor, z_tensor, use_structure=False, use_gpu=False, n_iter=10, grid=None):\n",
    "    likelihood = gpytorch.likelihoods.GaussianLikelihood()\n",
    "\n",
    "    if use_structure:\n",
    "        model = ExactGPModelGrid(grid, xy_tensor, z_tensor, likelihood)\n",
    "    else:\n",
    "        model = ExactGPModel(xy_tensor, z_tensor, likelihood)\n",
    "\n",
    "    # Transition to train mode\n",
    "    model.train()\n",
    "    likelihood.train()\n",
    "\n",
    "    # Set up optimizter and log-likelihood\n",
    "    optimizer = torch.optim.LBFGS(model.parameters(), lr=0.1)\n",
    "    mll = gpytorch.mlls.ExactMarginalLogLikelihood(likelihood, model)\n",
    "\n",
    "    t0 = time.time()\n",
    "    for _ in tqdm(range(n_iter)):\n",
    "        # Zero gradients from previous iteration\n",
    "        optimizer.zero_grad()\n",
    "        # Output from model\n",
    "        output = model(xy_tensor)\n",
    "        # Calc loss and backprop gradients\n",
    "        loss = -mll(output, z_tensor)\n",
    "        loss.backward()\n",
    "    tf = time.time()\n",
    "    elapsed = tf - t0\n",
    "\n",
    "    return model, likelihood, elapsed"
   ]
  },
  {
   "cell_type": "code",
   "execution_count": 106,
   "id": "a7f402da-b539-4788-8bee-7d4bcbbdd697",
   "metadata": {
    "tags": []
   },
   "outputs": [
    {
     "name": "stdout",
     "output_type": "stream",
     "text": [
      "<class 'torch.Tensor'>\n",
      "<class 'torch.Tensor'>\n"
     ]
    }
   ],
   "source": [
    "print(type(scg_xy))\n",
    "print(type(scg_z))"
   ]
  },
  {
   "cell_type": "code",
   "execution_count": 147,
   "id": "d4204e61-2f8c-4c66-a930-b1b6ee93fbf7",
   "metadata": {
    "tags": []
   },
   "outputs": [
    {
     "name": "stderr",
     "output_type": "stream",
     "text": [
      "100%|██████████| 10/10 [00:01<00:00,  5.22it/s]\n"
     ]
    }
   ],
   "source": [
    "model1 = train_gpytorch_model(train_scg_xy, train_scg_z)"
   ]
  },
  {
   "cell_type": "code",
   "execution_count": 148,
   "id": "5056d302-b946-4ea2-ad56-cddda9a46f53",
   "metadata": {
    "tags": []
   },
   "outputs": [
    {
     "name": "stderr",
     "output_type": "stream",
     "text": [
      "100%|██████████| 10/10 [00:01<00:00,  5.96it/s]\n"
     ]
    }
   ],
   "source": [
    "model2, likelihood2, time2 = train_gpytorch_model(train_scg_xy, train_scg_z, use_structure=True, grid=grid)"
   ]
  },
  {
   "cell_type": "code",
   "execution_count": 149,
   "id": "b67de909-37a6-4e7e-840f-db5f336c2033",
   "metadata": {
    "tags": []
   },
   "outputs": [
    {
     "data": {
      "text/plain": [
       "GaussianLikelihood(\n",
       "  (noise_covar): HomoskedasticNoise(\n",
       "    (raw_noise_constraint): GreaterThan(1.000E-04)\n",
       "  )\n",
       ")"
      ]
     },
     "execution_count": 149,
     "metadata": {},
     "output_type": "execute_result"
    }
   ],
   "source": [
    "model2.eval()\n",
    "likelihood2.eval()"
   ]
  },
  {
   "cell_type": "code",
   "execution_count": 150,
   "id": "8097f789-479b-48c0-a5f9-fbff8b96d7d0",
   "metadata": {
    "tags": [],
    "user_expressions": []
   },
   "outputs": [
    {
     "data": {
      "text/plain": [
       "GridKernel(\n",
       "  (base_kernel): MaternKernel(\n",
       "    (raw_lengthscale_constraint): Positive()\n",
       "  )\n",
       ")"
      ]
     },
     "execution_count": 150,
     "metadata": {},
     "output_type": "execute_result"
    }
   ],
   "source": [
    "model2.covar_module"
   ]
  },
  {
   "cell_type": "code",
   "execution_count": 119,
   "id": "54b969bc-6d02-41ab-b054-d9064f0eadf0",
   "metadata": {
    "tags": []
   },
   "outputs": [
    {
     "data": {
      "text/plain": [
       "torch.Size([2500, 2])"
      ]
     },
     "execution_count": 119,
     "metadata": {},
     "output_type": "execute_result"
    }
   ],
   "source": [
    "scg_xy"
   ]
  },
  {
   "cell_type": "code",
   "execution_count": 114,
   "id": "7fab9e58-03c6-47b3-a6f5-4e1e402190de",
   "metadata": {
    "tags": []
   },
   "outputs": [
    {
     "ename": "RuntimeError",
     "evalue": "Sizes of tensors must match except in dimension 0. Expected size 2 but got size 1 for tensor number 1 in the list.",
     "output_type": "error",
     "traceback": [
      "\u001b[0;31m---------------------------------------------------------------------------\u001b[0m",
      "\u001b[0;31mRuntimeError\u001b[0m                              Traceback (most recent call last)",
      "Cell \u001b[0;32mIn [114], line 5\u001b[0m\n\u001b[1;32m      3\u001b[0m \u001b[38;5;28;01mwith\u001b[39;00m torch\u001b[38;5;241m.\u001b[39mno_grad(), gpytorch\u001b[38;5;241m.\u001b[39msettings\u001b[38;5;241m.\u001b[39mfast_pred_var():\n\u001b[1;32m      4\u001b[0m     test_x \u001b[38;5;241m=\u001b[39m torch\u001b[38;5;241m.\u001b[39mlinspace(\u001b[38;5;241m0\u001b[39m, \u001b[38;5;241m1\u001b[39m, \u001b[38;5;241m51\u001b[39m)\n\u001b[0;32m----> 5\u001b[0m     observed_pred \u001b[38;5;241m=\u001b[39m likelihood2(\u001b[43mmodel2\u001b[49m\u001b[43m(\u001b[49m\u001b[43mtest_x\u001b[49m\u001b[43m)\u001b[49m)\n",
      "File \u001b[0;32m/srv/conda/envs/notebook/lib/python3.10/site-packages/gpytorch/models/exact_gp.py:313\u001b[0m, in \u001b[0;36mExactGP.__call__\u001b[0;34m(self, *args, **kwargs)\u001b[0m\n\u001b[1;32m    311\u001b[0m         train_input \u001b[38;5;241m=\u001b[39m train_input\u001b[38;5;241m.\u001b[39mexpand(\u001b[38;5;241m*\u001b[39mbatch_shape, \u001b[38;5;241m*\u001b[39mtrain_input\u001b[38;5;241m.\u001b[39mshape[\u001b[38;5;241m-\u001b[39m\u001b[38;5;241m2\u001b[39m:])\n\u001b[1;32m    312\u001b[0m         \u001b[38;5;28minput\u001b[39m \u001b[38;5;241m=\u001b[39m \u001b[38;5;28minput\u001b[39m\u001b[38;5;241m.\u001b[39mexpand(\u001b[38;5;241m*\u001b[39mbatch_shape, \u001b[38;5;241m*\u001b[39m\u001b[38;5;28minput\u001b[39m\u001b[38;5;241m.\u001b[39mshape[\u001b[38;5;241m-\u001b[39m\u001b[38;5;241m2\u001b[39m:])\n\u001b[0;32m--> 313\u001b[0m     full_inputs\u001b[38;5;241m.\u001b[39mappend(\u001b[43mtorch\u001b[49m\u001b[38;5;241;43m.\u001b[39;49m\u001b[43mcat\u001b[49m\u001b[43m(\u001b[49m\u001b[43m[\u001b[49m\u001b[43mtrain_input\u001b[49m\u001b[43m,\u001b[49m\u001b[43m \u001b[49m\u001b[38;5;28;43minput\u001b[39;49m\u001b[43m]\u001b[49m\u001b[43m,\u001b[49m\u001b[43m \u001b[49m\u001b[43mdim\u001b[49m\u001b[38;5;241;43m=\u001b[39;49m\u001b[38;5;241;43m-\u001b[39;49m\u001b[38;5;241;43m2\u001b[39;49m\u001b[43m)\u001b[49m)\n\u001b[1;32m    315\u001b[0m \u001b[38;5;66;03m# Get the joint distribution for training/test data\u001b[39;00m\n\u001b[1;32m    316\u001b[0m full_output \u001b[38;5;241m=\u001b[39m \u001b[38;5;28msuper\u001b[39m(ExactGP, \u001b[38;5;28mself\u001b[39m)\u001b[38;5;241m.\u001b[39m\u001b[38;5;21m__call__\u001b[39m(\u001b[38;5;241m*\u001b[39mfull_inputs, \u001b[38;5;241m*\u001b[39m\u001b[38;5;241m*\u001b[39mkwargs)\n",
      "\u001b[0;31mRuntimeError\u001b[0m: Sizes of tensors must match except in dimension 0. Expected size 2 but got size 1 for tensor number 1 in the list."
     ]
    }
   ],
   "source": [
    "# Test points are regularly spaced along [0,1]\n",
    "# Make predictions by feeding model through likelihood\n",
    "with torch.no_grad(), gpytorch.settings.fast_pred_var():\n",
    "    test_x = torch.linspace(0, 1, 51)\n",
    "    observed_pred = likelihood2(model2(test_x))"
   ]
  },
  {
   "cell_type": "code",
   "execution_count": null,
   "id": "9745e560-7e4a-4809-9eb2-2a1704b214c0",
   "metadata": {},
   "outputs": [],
   "source": []
  },
  {
   "cell_type": "markdown",
   "id": "b64aa749-ef7c-4b86-ba46-f45d7c408448",
   "metadata": {
    "user_expressions": []
   },
   "source": [
    "## gp example on gh"
   ]
  },
  {
   "cell_type": "code",
   "execution_count": 39,
   "id": "7915a656-6f18-482a-b51b-db29acbef935",
   "metadata": {
    "tags": []
   },
   "outputs": [],
   "source": [
    "x_train = torch.tensor(data_chunk1['x'].values)\n",
    "y_train = torch.tensor(data_chunk1['y'].values)\n",
    "t_train = torch.tensor(data_chunk1['time_numeric'].values)\n",
    "z_train = torch.tensor(data_chunk1['z'].values)"
   ]
  },
  {
   "cell_type": "code",
   "execution_count": 40,
   "id": "53e40ace-317b-42be-b5b9-85775775cba7",
   "metadata": {
    "tags": []
   },
   "outputs": [],
   "source": [
    "#code from ekin\n",
    "# Partition full data into train and test sets. Do k fold cross validation on train set\n",
    "# Use the first 80% of the data as the train set\n",
    "def loadData(full_data, train_frac=0.8):\n",
    "    train_data = full_data.iloc[:int(train_frac * full_data.shape[0])]\n",
    "    test_data = full_data.iloc[int(train_frac * full_data.shape[0]):]\n",
    "\n",
    "    # Train time\n",
    "    train_time = torch.tensor(train_data['time_numeric'].values)\n",
    "    train_x = torch.tensor(train_data['x'].values)\n",
    "    train_y = torch.tensor(train_data['y'].values)\n",
    "    train_elev = torch.tensor(train_data['z'].values)\n",
    "\n",
    "    # Test time\n",
    "    test_time = torch.tensor(test_data['time_numeric'].values)\n",
    "    test_x = torch.tensor(test_data['x'].values)\n",
    "    test_y = torch.tensor(test_data['y'].values)\n",
    "    test_elev = torch.tensor(test_data['z'].values)\n",
    "\n",
    "    # Stack train_time, train_x, train_y\n",
    "    stacked_train = torch.stack([train_time, train_x, train_y], dim=1)\n",
    "\n",
    "    # Stack test_time, test_x, test_y\n",
    "    stacked_test = torch.stack([test_time, test_x, test_y], dim=1)\n",
    "\n",
    "    # Cast as double\n",
    "    stacked_train = stacked_train.double()\n",
    "    train_elev = train_elev.double()\n",
    "    stacked_test = stacked_test.double()\n",
    "    test_elev = test_elev.double()\n",
    "\n",
    "    return stacked_train, train_elev, stacked_test, test_elev\n",
    "\n",
    "stacked_train, train_elev, stacked_test, test_elev = loadData(data_chunk1)"
   ]
  },
  {
   "cell_type": "code",
   "execution_count": 41,
   "id": "cf5e5dcb-e1fd-4831-8a84-abc0c29b7a1f",
   "metadata": {
    "tags": []
   },
   "outputs": [
    {
     "name": "stdout",
     "output_type": "stream",
     "text": [
      "torch.Size([65670, 3])\n",
      "torch.Size([65670])\n",
      "torch.Size([16418, 3])\n",
      "torch.Size([16418])\n"
     ]
    }
   ],
   "source": [
    "print(stacked_train.shape)\n",
    "print(train_elev.shape)\n",
    "print(stacked_test.shape)\n",
    "print(test_elev.shape)"
   ]
  },
  {
   "cell_type": "code",
   "execution_count": 42,
   "id": "d7a0d7af-b5bb-4491-b777-e81c1208fa00",
   "metadata": {
    "tags": []
   },
   "outputs": [],
   "source": [
    "import gpytorch\n",
    "import torch\n",
    "import numpy as np\n",
    "import matplotlib.pyplot as plt\n",
    "from sklearn.neighbors import NearestNeighbors\n",
    "from mpl_toolkits.mplot3d import Axes3D\n",
    "\n",
    "# Timing and math\n",
    "import time\n",
    "import math\n",
    "import os\n",
    "import psutil\n",
    "import gc\n",
    "process = psutil.Process(os.getpid())"
   ]
  },
  {
   "cell_type": "code",
   "execution_count": 51,
   "id": "abdc8afb-d8d2-4bef-b55a-260a380ff38d",
   "metadata": {
    "tags": []
   },
   "outputs": [],
   "source": [
    "## Define the Model\n",
    "class BatchedGP(gpytorch.models.ExactGP):\n",
    "    def __init__(self, train_x, train_y, likelihood, shape):\n",
    "        super(BatchedGP, self).__init__(train_x, train_y, likelihood)\n",
    "        self.mean_module = gpytorch.means.ConstantMean(batch_shape=torch.Size([shape]))\n",
    "        self.covar_module = gpytorch.kernels.ScaleKernel(\n",
    "            gpytorch.kernels.MaternKernel(batch_shape=torch.Size([shape])),\n",
    "            batch_shape=torch.Size([shape])\n",
    "        )\n",
    "\n",
    "    def forward(self, x):\n",
    "        mean_x = self.mean_module(x)\n",
    "        covar_x = self.covar_module(x)\n",
    "        return gpytorch.distributions.MultivariateNormal(mean_x, covar_x)"
   ]
  },
  {
   "cell_type": "code",
   "execution_count": 52,
   "id": "07fa51a8-ba29-4f5d-9ade-d17b60210e8b",
   "metadata": {
    "tags": []
   },
   "outputs": [],
   "source": [
    "def train_gp_batched_scalar(Zs, Ys, use_cuda=False, epochs=10, lr=0.1):\n",
    "    \"\"\"Computes a Gaussian Process object using GPyTorch. Each outcome is\n",
    "    modeled as a single scalar outcome.\n",
    "    \"\"\"\n",
    "    # Preprocess batch data\n",
    "    B, N, XD = Zs.shape  # B is batch dimension, N is points dimension, and XD is feature dimension\n",
    "    YD = Ys.shape[-1]  # YD is target dimension\n",
    "    \n",
    "    # Convert features to tensor, and tile according to output targets\n",
    "    train_x = torch.tensor(Zs)\n",
    "    train_x = train_x.repeat((YD, 1, 1))\n",
    "    \n",
    "    # Convert targets to tensor, and reshape from (B, N, YD) --> (B * YD, N)\n",
    "    train_y = torch.tensor(Ys)\n",
    "    train_y = train_y.view(B * YD, N)\n",
    "\n",
    "    # initialize likelihood and model - batch over output dimensions and batches\n",
    "    likelihood = gpytorch.likelihoods.GaussianLikelihood(batch_shape=torch.Size([B * YD]))\n",
    "    model = BatchedGP(train_x, train_y, likelihood, B * YD)\n",
    "\n",
    "    # Find optimal model hyperparameters\n",
    "    model.train()\n",
    "    likelihood.train()\n",
    "\n",
    "    # Use the adam optimizer\n",
    "    optimizer = torch.optim.Adam(model.parameters(), lr=lr)\n",
    "\n",
    "    # \"Loss\" for GPs - the marginal log likelihood\n",
    "    mll = gpytorch.mlls.ExactMarginalLogLikelihood(likelihood, model)\n",
    "    \n",
    "    # If using GPU\n",
    "    if use_cuda:\n",
    "        model = model.cuda()\n",
    "        likelihood = likelihood.cuda()\n",
    "        train_x = train_x.cuda()\n",
    "        train_y = train_y.cuda()\n",
    "        mll = mll.cuda()\n",
    "    \n",
    "    # Define training helper function\n",
    "    def epoch_train():\n",
    "        optimizer.zero_grad()  # Zero gradients\n",
    "        output = model(train_x)  # Compute noise-free output\n",
    "        loss = -mll(output, train_y).sum()  # Compute batched loss\n",
    "        loss.backward()  # Compute gradients with backpropagation\n",
    "        optimizer.step()  # Update weights with gradients\n",
    "        optimizer.zero_grad()  # Zero gradients\n",
    "        gc.collect()  # Used to ensure there is no memory leak\n",
    "    \n",
    "    # Run training\n",
    "    for i in range(epochs):\n",
    "        epoch_train()\n",
    "\n",
    "    torch.cuda.empty_cache()\n",
    "    return model, likelihood"
   ]
  },
  {
   "cell_type": "markdown",
   "id": "672c4349-8066-4978-9ba2-042914356d8e",
   "metadata": {
    "tags": [],
    "user_expressions": []
   },
   "source": [
    "## run training\n",
    "with our model, likelihood and training routine defined, ready to train"
   ]
  },
  {
   "cell_type": "code",
   "execution_count": 60,
   "id": "c66b039f-7e0d-4e74-9411-2bb49cf9d33f",
   "metadata": {
    "tags": []
   },
   "outputs": [
    {
     "data": {
      "text/plain": [
       "(256, 25, 1)"
      ]
     },
     "execution_count": 60,
     "metadata": {},
     "output_type": "execute_result"
    }
   ],
   "source": [
    "train_y_np.shape"
   ]
  },
  {
   "cell_type": "code",
   "execution_count": 53,
   "id": "6dfa5a68-3ca0-4c88-bd44-5d06a471fabd",
   "metadata": {
    "tags": []
   },
   "outputs": [],
   "source": [
    "# Set parameters\n",
    "B = 256  # Batch dimension\n",
    "N = 25   # Number of points\n",
    "XD = 2   # Dimension of features\n",
    "YD = 1   # Dimension of targets\n",
    "EPOCHS = 50\n",
    "USE_CUDA = torch.cuda.is_available()\n",
    "\n",
    "# Create training data and labels\n",
    "train_x_np = np.random.normal(loc=0, scale=1, size=(B, N, XD))  # Create as np array\n",
    "train_y_np = np.random.normal(loc=0, scale=1, size=(B, N, YD))  # Create as np array\n",
    "train_x = torch.tensor(train_x_np).float()  # Can use .double() for 64-bit fp precision\n",
    "train_y = torch.tensor(train_y_np).float()  # Can use .double() for 64-bit fp precision\n",
    "\n",
    "# Time GPyTorch training\n",
    "model, likelihood = train_gp_batched_scalar(train_x_np, train_y_np,\n",
    "                        use_cuda=USE_CUDA, epochs=EPOCHS, lr=0.1)\n",
    "\n",
    "# Calling .eval() places the model and likelihood in \"posterior\" mode\n",
    "model.eval()\n",
    "likelihood.eval()\n",
    "\n",
    "# Define mll\n",
    "mll = gpytorch.mlls.ExactMarginalLogLikelihood(likelihood, model)"
   ]
  },
  {
   "cell_type": "code",
   "execution_count": 84,
   "id": "c9837710-9ade-4dda-9eba-740aff674193",
   "metadata": {
    "tags": []
   },
   "outputs": [
    {
     "data": {
      "text/plain": [
       "BatchedGP(\n",
       "  (likelihood): GaussianLikelihood(\n",
       "    (noise_covar): HomoskedasticNoise(\n",
       "      (raw_noise_constraint): GreaterThan(1.000E-04)\n",
       "    )\n",
       "  )\n",
       "  (mean_module): ConstantMean()\n",
       "  (covar_module): ScaleKernel(\n",
       "    (base_kernel): MaternKernel(\n",
       "      (raw_lengthscale_constraint): Positive()\n",
       "    )\n",
       "    (raw_outputscale_constraint): Positive()\n",
       "  )\n",
       ")"
      ]
     },
     "execution_count": 84,
     "metadata": {},
     "output_type": "execute_result"
    }
   ],
   "source": [
    "model"
   ]
  },
  {
   "cell_type": "code",
   "execution_count": 85,
   "id": "572c0f43-9d32-4b7d-921c-e05e68e75613",
   "metadata": {
    "tags": []
   },
   "outputs": [
    {
     "data": {
      "text/plain": [
       "GaussianLikelihood(\n",
       "  (noise_covar): HomoskedasticNoise(\n",
       "    (raw_noise_constraint): GreaterThan(1.000E-04)\n",
       "  )\n",
       ")"
      ]
     },
     "execution_count": 85,
     "metadata": {},
     "output_type": "execute_result"
    }
   ],
   "source": [
    "likelihood"
   ]
  },
  {
   "cell_type": "code",
   "execution_count": 86,
   "id": "75ae3d50-4fa7-42ae-a45b-3553ff6922d3",
   "metadata": {
    "tags": []
   },
   "outputs": [
    {
     "data": {
      "text/plain": [
       "ExactMarginalLogLikelihood(\n",
       "  (likelihood): GaussianLikelihood(\n",
       "    (noise_covar): HomoskedasticNoise(\n",
       "      (raw_noise_constraint): GreaterThan(1.000E-04)\n",
       "    )\n",
       "  )\n",
       "  (model): BatchedGP(\n",
       "    (likelihood): GaussianLikelihood(\n",
       "      (noise_covar): HomoskedasticNoise(\n",
       "        (raw_noise_constraint): GreaterThan(1.000E-04)\n",
       "      )\n",
       "    )\n",
       "    (mean_module): ConstantMean()\n",
       "    (covar_module): ScaleKernel(\n",
       "      (base_kernel): MaternKernel(\n",
       "        (raw_lengthscale_constraint): Positive()\n",
       "      )\n",
       "      (raw_outputscale_constraint): Positive()\n",
       "    )\n",
       "  )\n",
       ")"
      ]
     },
     "execution_count": 86,
     "metadata": {},
     "output_type": "execute_result"
    }
   ],
   "source": [
    "mll"
   ]
  },
  {
   "cell_type": "code",
   "execution_count": 76,
   "id": "91c32d5a-9830-49c9-94d9-d2a7b7a00ce1",
   "metadata": {
    "tags": []
   },
   "outputs": [],
   "source": [
    "train_x_np_0 = np.squeeze(train_x_np[:,:,0:1])\n",
    "train_x_np_1 = np.squeeze(train_x_np[:,:,1:2])"
   ]
  },
  {
   "cell_type": "code",
   "execution_count": 79,
   "id": "7568ae3f-7c57-4fee-b7d6-561995721f66",
   "metadata": {
    "tags": []
   },
   "outputs": [
    {
     "data": {
      "text/plain": [
       "(256, 25)"
      ]
     },
     "execution_count": 79,
     "metadata": {},
     "output_type": "execute_result"
    }
   ],
   "source": [
    "train_x_np_1.shape"
   ]
  },
  {
   "cell_type": "code",
   "execution_count": 82,
   "id": "d6f1b4b9-25be-4dc9-b94d-7e089c2c6d60",
   "metadata": {
    "tags": []
   },
   "outputs": [
    {
     "data": {
      "text/plain": [
       "<mpl_toolkits.mplot3d.art3d.Poly3DCollection at 0x7fa5ea795c90>"
      ]
     },
     "execution_count": 82,
     "metadata": {},
     "output_type": "execute_result"
    }
   ],
   "source": [
    "ha.plot_surface(train_x_np_0, train_x_np_1, np.squeeze(train_y_np))"
   ]
  },
  {
   "cell_type": "code",
   "execution_count": 83,
   "id": "65f48bef-d38e-4b60-ba95-f07253435f3e",
   "metadata": {
    "tags": []
   },
   "outputs": [
    {
     "data": {
      "text/plain": [
       "<mpl_toolkits.mplot3d.art3d.Poly3DCollection at 0x7fa5d6e18ee0>"
      ]
     },
     "execution_count": 83,
     "metadata": {},
     "output_type": "execute_result"
    },
    {
     "data": {
      "image/png": "[encoded data removed]",
      "text/plain": [
       "<Figure size 640x480 with 1 Axes>"
      ]
     },
     "metadata": {},
     "output_type": "display_data"
    }
   ],
   "source": [
    "from mpl_toolkits.mplot3d import Axes3D\n",
    "\n",
    "hf = plt.figure()\n",
    "ha = hf.add_subplot(111, projection='3d')\n",
    "\n",
    "ha.plot_surface(train_x_np_0, train_x_np_1, np.squeeze(train_y_np))"
   ]
  },
  {
   "cell_type": "code",
   "execution_count": null,
   "id": "6eeccf90-5f10-45e9-b245-ab969bf07e41",
   "metadata": {},
   "outputs": [],
   "source": []
  },
  {
   "cell_type": "code",
   "execution_count": null,
   "id": "16993026-be27-403d-bfc2-682bf09754b1",
   "metadata": {},
   "outputs": [],
   "source": []
  },
  {
   "cell_type": "code",
   "execution_count": null,
   "id": "19be4a43-2cf3-4bae-aa9e-711416f0bd5a",
   "metadata": {},
   "outputs": [],
   "source": []
  },
  {
   "cell_type": "code",
   "execution_count": null,
   "id": "48e1f03d-cec7-48e5-b2e2-539c656e549d",
   "metadata": {},
   "outputs": [],
   "source": []
  },
  {
   "cell_type": "code",
   "execution_count": 17,
   "id": "77ee53f0-a340-4498-a41d-093c4dd7025f",
   "metadata": {
    "tags": []
   },
   "outputs": [],
   "source": [
    "#setup model\n",
    "class GPModelWithDerivatives(gpytorch.models.ExactGP):\n",
    "    def __init__(self, train_x, train_y, likelihood):\n",
    "        super(GPModelWithDerivatives, self).__init__(train_x, train_y, likelihood)\n",
    "        self.mean_module = gpytorch.means.ConstantMeanGrad()\n",
    "        self.base_kernel = gpytorch.kernels.RBFKernelGrad(ard_num_dims=3) # this will use same kernel on each dim\n",
    "        self.covar_module = gpytorch.kernels.ScaleKernel(self.base_kernel)\n",
    "        \n",
    "    def forward(self, x):\n",
    "        mean_x = self.mean_module(x)\n",
    "        covar_x = self.covar_module(x)\n",
    "        return gpytorch.distributions.MultitaskMultivariateNormal(mean_x, covar_x)\n",
    "    \n",
    "likelihood = gpytorch.likelihoods.MultitaskGaussianLikelihood(num_tasks=4) #value + x,y,t derivative ? \n",
    "\n",
    "\n",
    "model = GPModelWithDerivatives(train_x_chunk, train_y_chunk, likelihood)"
   ]
  },
  {
   "cell_type": "code",
   "execution_count": 18,
   "id": "e45b4704-8661-4c06-8c0f-a7bef3487945",
   "metadata": {
    "tags": []
   },
   "outputs": [
    {
     "data": {
      "text/plain": [
       "GPModelWithDerivatives(\n",
       "  (likelihood): MultitaskGaussianLikelihood(\n",
       "    (raw_task_noises_constraint): GreaterThan(1.000E-04)\n",
       "    (raw_noise_constraint): GreaterThan(1.000E-04)\n",
       "  )\n",
       "  (mean_module): ConstantMeanGrad()\n",
       "  (base_kernel): RBFKernelGrad(\n",
       "    (raw_lengthscale_constraint): Positive()\n",
       "  )\n",
       "  (covar_module): ScaleKernel(\n",
       "    (base_kernel): RBFKernelGrad(\n",
       "      (raw_lengthscale_constraint): Positive()\n",
       "    )\n",
       "    (raw_outputscale_constraint): Positive()\n",
       "  )\n",
       ")"
      ]
     },
     "execution_count": 18,
     "metadata": {},
     "output_type": "execute_result"
    }
   ],
   "source": [
    "smoke_test = ('CI' in os.environ)\n",
    "training_iter = 2 if smoke_test else 50\n",
    "\n",
    "#optimize hyperparamters\n",
    "model.train()"
   ]
  },
  {
   "cell_type": "code",
   "execution_count": 19,
   "id": "d744278b-155c-465a-84f6-1a365583acc8",
   "metadata": {
    "tags": []
   },
   "outputs": [
    {
     "data": {
      "text/plain": [
       "MultitaskGaussianLikelihood(\n",
       "  (raw_task_noises_constraint): GreaterThan(1.000E-04)\n",
       "  (raw_noise_constraint): GreaterThan(1.000E-04)\n",
       ")"
      ]
     },
     "execution_count": 19,
     "metadata": {},
     "output_type": "execute_result"
    }
   ],
   "source": [
    "likelihood.train()"
   ]
  },
  {
   "cell_type": "code",
   "execution_count": 20,
   "id": "27679fa3-4a09-43bb-8e45-d60090e7654f",
   "metadata": {
    "tags": []
   },
   "outputs": [],
   "source": [
    "#optimizer\n",
    "optimizer = torch.optim.Adam(model.parameters(), lr=0.05) \n",
    "mll = gpytorch.mlls.ExactMarginalLogLikelihood(likelihood, model)"
   ]
  },
  {
   "cell_type": "code",
   "execution_count": null,
   "id": "76235b36-34af-4af6-9656-836a4350b559",
   "metadata": {
    "tags": []
   },
   "outputs": [],
   "source": [
    "for i in range(training_iter):\n",
    "    optimizer.zero_grad()\n",
    "    output = model(train_x_chunk)\n",
    "    loss = -mll(output, train_y_chunk)\n",
    "    loss.backward()\n",
    "    print(\"Iter %d/%d - Loss: %.3f   lengthscales: %.3f, %.3f, %.3f  noise: %.3f\" % (\n",
    "        i + 1, training_iter, loss.item(),\n",
    "        model.covar_module.base_kernel.lengthscale.squeeze()[0],\n",
    "        model.covar_module.base_kernel.lengthscale.squeeze()[1],\n",
    "        model.covar_module.base_kernel.lengthscale.squeeze()[2],\n",
    "        model.likelihood.noise.item()\n",
    "    ))\n",
    "    optimizer.step()"
   ]
  },
  {
   "cell_type": "code",
   "execution_count": null,
   "id": "da31b25f-0a3a-43af-a626-411fa759d427",
   "metadata": {},
   "outputs": [],
   "source": []
  },
  {
   "cell_type": "code",
   "execution_count": null,
   "id": "5fd17103-9a4e-48ca-a45d-2254031a62ea",
   "metadata": {},
   "outputs": [],
   "source": []
  },
  {
   "cell_type": "code",
   "execution_count": null,
   "id": "e7c378c7-f53e-468d-b6c5-b105d2f69260",
   "metadata": {},
   "outputs": [],
   "source": []
  },
  {
   "cell_type": "code",
   "execution_count": null,
   "id": "8d6504aa-1316-4c93-8286-a97ef65d51bf",
   "metadata": {},
   "outputs": [],
   "source": []
  },
  {
   "cell_type": "code",
   "execution_count": null,
   "id": "21a9472d-29b5-4130-ae0a-7f579c822494",
   "metadata": {},
   "outputs": [],
   "source": []
  },
  {
   "cell_type": "code",
   "execution_count": null,
   "id": "1afe3ac9-8d07-435b-844b-90d9c6c72f44",
   "metadata": {},
   "outputs": [],
   "source": []
  },
  {
   "cell_type": "code",
   "execution_count": 6,
   "id": "d360ccc3-9b30-4e26-ad8c-dfd385c7c230",
   "metadata": {
    "tags": []
   },
   "outputs": [],
   "source": [
    "baker_ds_sub = baker_ds.isel(y=slice(4500,6500), x=slice(6000,9000))"
   ]
  },
  {
   "cell_type": "code",
   "execution_count": 7,
   "id": "78df0f98-7b21-4401-bc9b-9fd594454e0a",
   "metadata": {
    "tags": []
   },
   "outputs": [],
   "source": [
    "baker_sub_gdf = tools.bounds2polygon(*baker_ds_sub.rio.bounds(),baker_ds_sub.rio.crs)\n"
   ]
  },
  {
   "cell_type": "code",
   "execution_count": 8,
   "id": "e188330c-fc44-4892-9e45-b71f1e42a174",
   "metadata": {
    "scrolled": true,
    "tags": []
   },
   "outputs": [
    {
     "data": {
      "text/html": [
       "<div style=\"width:100%;\"><div style=\"position:relative;width:100%;height:0;padding-bottom:60%;\"><span style=\"color:#565656\">Make this Notebook Trusted to load map: File -> Trust Notebook</span><iframe srcdoc=\"&lt;!DOCTYPE html&gt;\n",
       "&lt;html&gt;\n",
       "&lt;head&gt;\n",
       "    \n",
       "    &lt;meta http-equiv=&quot;content-type&quot; content=&quot;text/html; charset=UTF-8&quot; /&gt;\n",
       "    \n",
       "        &lt;script&gt;\n",
       "            L_NO_TOUCH = false;\n",
       "            L_DISABLE_3D = false;\n",
       "        &lt;/script&gt;\n",
       "    \n",
       "    &lt;style&gt;html, body {width: 100%;height: 100%;margin: 0;padding: 0;}&lt;/style&gt;\n",
       "    &lt;style&gt;#map {position:absolute;top:0;bottom:0;right:0;left:0;}&lt;/style&gt;\n",
       "    &lt;script src=&quot;https://cdn.jsdelivr.net/npm/leaflet@1.9.3/dist/leaflet.js&quot;&gt;&lt;/script&gt;\n",
       "    &lt;script src=&quot;https://code.jquery.com/jquery-1.12.4.min.js&quot;&gt;&lt;/script&gt;\n",
       "    &lt;script src=&quot;https://cdn.jsdelivr.net/npm/bootstrap@5.2.2/dist/js/bootstrap.bundle.min.js&quot;&gt;&lt;/script&gt;\n",
       "    &lt;script src=&quot;https://cdnjs.cloudflare.com/ajax/libs/Leaflet.awesome-markers/2.0.2/leaflet.awesome-markers.js&quot;&gt;&lt;/script&gt;\n",
       "    &lt;link rel=&quot;stylesheet&quot; href=&quot;https://cdn.jsdelivr.net/npm/leaflet@1.9.3/dist/leaflet.css&quot;/&gt;\n",
       "    &lt;link rel=&quot;stylesheet&quot; href=&quot;https://cdn.jsdelivr.net/npm/bootstrap@5.2.2/dist/css/bootstrap.min.css&quot;/&gt;\n",
       "    &lt;link rel=&quot;stylesheet&quot; href=&quot;https://netdna.bootstrapcdn.com/bootstrap/3.0.0/css/bootstrap.min.css&quot;/&gt;\n",
       "    &lt;link rel=&quot;stylesheet&quot; href=&quot;https://cdn.jsdelivr.net/npm/@fortawesome/fontawesome-free@6.2.0/css/all.min.css&quot;/&gt;\n",
       "    &lt;link rel=&quot;stylesheet&quot; href=&quot;https://cdnjs.cloudflare.com/ajax/libs/Leaflet.awesome-markers/2.0.2/leaflet.awesome-markers.css&quot;/&gt;\n",
       "    &lt;link rel=&quot;stylesheet&quot; href=&quot;https://cdn.jsdelivr.net/gh/python-visualization/folium/folium/templates/leaflet.awesome.rotate.min.css&quot;/&gt;\n",
       "    \n",
       "            &lt;meta name=&quot;viewport&quot; content=&quot;width=device-width,\n",
       "                initial-scale=1.0, maximum-scale=1.0, user-scalable=no&quot; /&gt;\n",
       "            &lt;style&gt;\n",
       "                #map_4246bb9b7f4383163afcd832580f5b87 {\n",
       "                    position: relative;\n",
       "                    width: 100.0%;\n",
       "                    height: 100.0%;\n",
       "                    left: 0.0%;\n",
       "                    top: 0.0%;\n",
       "                }\n",
       "                .leaflet-container { font-size: 1rem; }\n",
       "            &lt;/style&gt;\n",
       "        \n",
       "    \n",
       "                    &lt;style&gt;\n",
       "                        .foliumtooltip {\n",
       "                            \n",
       "                        }\n",
       "                       .foliumtooltip table{\n",
       "                            margin: auto;\n",
       "                        }\n",
       "                        .foliumtooltip tr{\n",
       "                            text-align: left;\n",
       "                        }\n",
       "                        .foliumtooltip th{\n",
       "                            padding: 2px; padding-right: 8px;\n",
       "                        }\n",
       "                    &lt;/style&gt;\n",
       "            \n",
       "&lt;/head&gt;\n",
       "&lt;body&gt;\n",
       "    \n",
       "    \n",
       "            &lt;div class=&quot;folium-map&quot; id=&quot;map_4246bb9b7f4383163afcd832580f5b87&quot; &gt;&lt;/div&gt;\n",
       "        \n",
       "&lt;/body&gt;\n",
       "&lt;script&gt;\n",
       "    \n",
       "    \n",
       "            var map_4246bb9b7f4383163afcd832580f5b87 = L.map(\n",
       "                &quot;map_4246bb9b7f4383163afcd832580f5b87&quot;,\n",
       "                {\n",
       "                    center: [48.78224801435989, -121.79598367344495],\n",
       "                    crs: L.CRS.EPSG3857,\n",
       "                    zoom: 10,\n",
       "                    zoomControl: true,\n",
       "                    preferCanvas: false,\n",
       "                }\n",
       "            );\n",
       "            L.control.scale().addTo(map_4246bb9b7f4383163afcd832580f5b87);\n",
       "\n",
       "            \n",
       "\n",
       "        \n",
       "    \n",
       "            var tile_layer_2c9a06ec44071b18eaa732666a46d663 = L.tileLayer(\n",
       "                &quot;https://{s}.tile.openstreetmap.org/{z}/{x}/{y}.png&quot;,\n",
       "                {&quot;attribution&quot;: &quot;Data by \\u0026copy; \\u003ca target=\\&quot;_blank\\&quot; href=\\&quot;http://openstreetmap.org\\&quot;\\u003eOpenStreetMap\\u003c/a\\u003e, under \\u003ca target=\\&quot;_blank\\&quot; href=\\&quot;http://www.openstreetmap.org/copyright\\&quot;\\u003eODbL\\u003c/a\\u003e.&quot;, &quot;detectRetina&quot;: false, &quot;maxNativeZoom&quot;: 18, &quot;maxZoom&quot;: 18, &quot;minZoom&quot;: 0, &quot;noWrap&quot;: false, &quot;opacity&quot;: 1, &quot;subdomains&quot;: &quot;abc&quot;, &quot;tms&quot;: false}\n",
       "            ).addTo(map_4246bb9b7f4383163afcd832580f5b87);\n",
       "        \n",
       "    \n",
       "            map_4246bb9b7f4383163afcd832580f5b87.fitBounds(\n",
       "                [[48.773040763323074, -121.81661336132495], [48.7914552653967, -121.77535398556495]],\n",
       "                {}\n",
       "            );\n",
       "        \n",
       "    \n",
       "        function geo_json_96ea6b3279495098225596915f63cdb9_styler(feature) {\n",
       "            switch(feature.id) {\n",
       "                default:\n",
       "                    return {&quot;fillOpacity&quot;: 0.5, &quot;weight&quot;: 2};\n",
       "            }\n",
       "        }\n",
       "        function geo_json_96ea6b3279495098225596915f63cdb9_highlighter(feature) {\n",
       "            switch(feature.id) {\n",
       "                default:\n",
       "                    return {&quot;fillOpacity&quot;: 0.75};\n",
       "            }\n",
       "        }\n",
       "        function geo_json_96ea6b3279495098225596915f63cdb9_pointToLayer(feature, latlng) {\n",
       "            var opts = {&quot;bubblingMouseEvents&quot;: true, &quot;color&quot;: &quot;#3388ff&quot;, &quot;dashArray&quot;: null, &quot;dashOffset&quot;: null, &quot;fill&quot;: true, &quot;fillColor&quot;: &quot;#3388ff&quot;, &quot;fillOpacity&quot;: 0.2, &quot;fillRule&quot;: &quot;evenodd&quot;, &quot;lineCap&quot;: &quot;round&quot;, &quot;lineJoin&quot;: &quot;round&quot;, &quot;opacity&quot;: 1.0, &quot;radius&quot;: 2, &quot;stroke&quot;: true, &quot;weight&quot;: 3};\n",
       "            \n",
       "            let style = geo_json_96ea6b3279495098225596915f63cdb9_styler(feature)\n",
       "            Object.assign(opts, style)\n",
       "            \n",
       "            return new L.CircleMarker(latlng, opts)\n",
       "        }\n",
       "\n",
       "        function geo_json_96ea6b3279495098225596915f63cdb9_onEachFeature(feature, layer) {\n",
       "            layer.on({\n",
       "                mouseout: function(e) {\n",
       "                    if(typeof e.target.setStyle === &quot;function&quot;){\n",
       "                        geo_json_96ea6b3279495098225596915f63cdb9.resetStyle(e.target);\n",
       "                    }\n",
       "                },\n",
       "                mouseover: function(e) {\n",
       "                    if(typeof e.target.setStyle === &quot;function&quot;){\n",
       "                        const highlightStyle = geo_json_96ea6b3279495098225596915f63cdb9_highlighter(e.target.feature)\n",
       "                        e.target.setStyle(highlightStyle);\n",
       "                    }\n",
       "                },\n",
       "            });\n",
       "        };\n",
       "        var geo_json_96ea6b3279495098225596915f63cdb9 = L.geoJson(null, {\n",
       "                onEachFeature: geo_json_96ea6b3279495098225596915f63cdb9_onEachFeature,\n",
       "            \n",
       "                style: geo_json_96ea6b3279495098225596915f63cdb9_styler,\n",
       "                pointToLayer: geo_json_96ea6b3279495098225596915f63cdb9_pointToLayer\n",
       "        });\n",
       "\n",
       "        function geo_json_96ea6b3279495098225596915f63cdb9_add (data) {\n",
       "            geo_json_96ea6b3279495098225596915f63cdb9\n",
       "                .addData(data)\n",
       "                .addTo(map_4246bb9b7f4383163afcd832580f5b87);\n",
       "        }\n",
       "            geo_json_96ea6b3279495098225596915f63cdb9_add({&quot;bbox&quot;: [-121.81661336132495, 48.773040763323074, -121.77535398556495, 48.7914552653967], &quot;features&quot;: [{&quot;bbox&quot;: [-121.81661336132495, 48.773040763323074, -121.77535398556495, 48.7914552653967], &quot;geometry&quot;: {&quot;coordinates&quot;: [[[-121.81619033462084, 48.7914552653967], [-121.77535398556495, 48.79102856656116], [-121.77579159613656, 48.773040763323074], [-121.81661336132495, 48.77346719375255], [-121.81619033462084, 48.7914552653967]]], &quot;type&quot;: &quot;Polygon&quot;}, &quot;id&quot;: &quot;0&quot;, &quot;properties&quot;: {}, &quot;type&quot;: &quot;Feature&quot;}], &quot;type&quot;: &quot;FeatureCollection&quot;});\n",
       "\n",
       "        \n",
       "    \n",
       "    geo_json_96ea6b3279495098225596915f63cdb9.bindTooltip(\n",
       "    function(layer){\n",
       "    let div = L.DomUtil.create(&#x27;div&#x27;);\n",
       "    \n",
       "    return div\n",
       "    }\n",
       "    ,{&quot;className&quot;: &quot;foliumtooltip&quot;, &quot;sticky&quot;: true});\n",
       "                     \n",
       "&lt;/script&gt;\n",
       "&lt;/html&gt;\" style=\"position:absolute;width:100%;height:100%;left:0;top:0;border:none !important;\" allowfullscreen webkitallowfullscreen mozallowfullscreen></iframe></div></div>"
      ],
      "text/plain": [
       "<folium.folium.Map at 0x7f2e6280d630>"
      ]
     },
     "execution_count": 8,
     "metadata": {},
     "output_type": "execute_result"
    }
   ],
   "source": [
    "baker_sub_gdf.explore()"
   ]
  },
  {
   "cell_type": "code",
   "execution_count": 9,
   "id": "6c84ad54-f4e9-4fb2-8437-a03b6498a182",
   "metadata": {
    "tags": []
   },
   "outputs": [],
   "source": [
    "#df['mid_date_numeric'] = df.index.year + df.index.day_of_year / 365\n",
    "def swap_time_dim(ds):\n",
    "    ds['time_numeric'] = ds.time.dt.year + ds.time.dt.dayofyear / 365\n",
    "    ds = ds.swap_dims({'time':'time_numeric'})\n",
    "    return ds\n",
    "#baker_ds_sub['date_numeric'] = baker_ds_sub.time.dt.year + baker_ds_sub.time.dt.dayofyear / 365"
   ]
  },
  {
   "cell_type": "code",
   "execution_count": 10,
   "id": "b1a4e7b0-5c9d-44f3-976b-215ed046e195",
   "metadata": {
    "tags": []
   },
   "outputs": [
    {
     "name": "stderr",
     "output_type": "stream",
     "text": [
      "/srv/conda/envs/notebook/lib/python3.10/site-packages/xarray/core/accessor_dt.py:72: FutureWarning: Index.ravel returning ndarray is deprecated; in a future version this will return a view on self.\n",
      "  values_as_series = pd.Series(values.ravel(), copy=False)\n"
     ]
    }
   ],
   "source": [
    "def swap_time_dim(ds):\n",
    "    ds['time_numeric'] = ds.time.dt.year + ds.time.dt.dayofyear / 365\n",
    "    ds = ds.swap_dims({'time':'time_numeric'})\n",
    "    return ds\n",
    "baker_ds_sub = swap_time_dim(baker_ds_sub)"
   ]
  },
  {
   "cell_type": "code",
   "execution_count": 11,
   "id": "93b82a92-0e77-4c8d-b89a-34ba5857bdf9",
   "metadata": {
    "tags": []
   },
   "outputs": [
    {
     "data": {
      "text/html": [
       "<div><svg style=\"position: absolute; width: 0; height: 0; overflow: hidden\">\n",
       "<defs>\n",
       "<symbol id=\"icon-database\" viewBox=\"0 0 32 32\">\n",
       "<path d=\"M16 0c-8.837 0-16 2.239-16 5v4c0 2.761 7.163 5 16 5s16-2.239 16-5v-4c0-2.761-7.163-5-16-5z\"></path>\n",
       "<path d=\"M16 17c-8.837 0-16-2.239-16-5v6c0 2.761 7.163 5 16 5s16-2.239 16-5v-6c0 2.761-7.163 5-16 5z\"></path>\n",
       "<path d=\"M16 26c-8.837 0-16-2.239-16-5v6c0 2.761 7.163 5 16 5s16-2.239 16-5v-6c0 2.761-7.163 5-16 5z\"></path>\n",
       "</symbol>\n",
       "<symbol id=\"icon-file-text2\" viewBox=\"0 0 32 32\">\n",
       "<path d=\"M28.681 7.159c-0.694-0.947-1.662-2.053-2.724-3.116s-2.169-2.030-3.116-2.724c-1.612-1.182-2.393-1.319-2.841-1.319h-15.5c-1.378 0-2.5 1.121-2.5 2.5v27c0 1.378 1.122 2.5 2.5 2.5h23c1.378 0 2.5-1.122 2.5-2.5v-19.5c0-0.448-0.137-1.23-1.319-2.841zM24.543 5.457c0.959 0.959 1.712 1.825 2.268 2.543h-4.811v-4.811c0.718 0.556 1.584 1.309 2.543 2.268zM28 29.5c0 0.271-0.229 0.5-0.5 0.5h-23c-0.271 0-0.5-0.229-0.5-0.5v-27c0-0.271 0.229-0.5 0.5-0.5 0 0 15.499-0 15.5 0v7c0 0.552 0.448 1 1 1h7v19.5z\"></path>\n",
       "<path d=\"M23 26h-14c-0.552 0-1-0.448-1-1s0.448-1 1-1h14c0.552 0 1 0.448 1 1s-0.448 1-1 1z\"></path>\n",
       "<path d=\"M23 22h-14c-0.552 0-1-0.448-1-1s0.448-1 1-1h14c0.552 0 1 0.448 1 1s-0.448 1-1 1z\"></path>\n",
       "<path d=\"M23 18h-14c-0.552 0-1-0.448-1-1s0.448-1 1-1h14c0.552 0 1 0.448 1 1s-0.448 1-1 1z\"></path>\n",
       "</symbol>\n",
       "</defs>\n",
       "</svg>\n",
       "<style>/* CSS stylesheet for displaying xarray objects in jupyterlab.\n",
       " *\n",
       " */\n",
       "\n",
       ":root {\n",
       "  --xr-font-color0: var(--jp-content-font-color0, rgba(0, 0, 0, 1));\n",
       "  --xr-font-color2: var(--jp-content-font-color2, rgba(0, 0, 0, 0.54));\n",
       "  --xr-font-color3: var(--jp-content-font-color3, rgba(0, 0, 0, 0.38));\n",
       "  --xr-border-color: var(--jp-border-color2, #e0e0e0);\n",
       "  --xr-disabled-color: var(--jp-layout-color3, #bdbdbd);\n",
       "  --xr-background-color: var(--jp-layout-color0, white);\n",
       "  --xr-background-color-row-even: var(--jp-layout-color1, white);\n",
       "  --xr-background-color-row-odd: var(--jp-layout-color2, #eeeeee);\n",
       "}\n",
       "\n",
       "html[theme=dark],\n",
       "body[data-theme=dark],\n",
       "body.vscode-dark {\n",
       "  --xr-font-color0: rgba(255, 255, 255, 1);\n",
       "  --xr-font-color2: rgba(255, 255, 255, 0.54);\n",
       "  --xr-font-color3: rgba(255, 255, 255, 0.38);\n",
       "  --xr-border-color: #1F1F1F;\n",
       "  --xr-disabled-color: #515151;\n",
       "  --xr-background-color: #111111;\n",
       "  --xr-background-color-row-even: #111111;\n",
       "  --xr-background-color-row-odd: #313131;\n",
       "}\n",
       "\n",
       ".xr-wrap {\n",
       "  display: block !important;\n",
       "  min-width: 300px;\n",
       "  max-width: 700px;\n",
       "}\n",
       "\n",
       ".xr-text-repr-fallback {\n",
       "  /* fallback to plain text repr when CSS is not injected (untrusted notebook) */\n",
       "  display: none;\n",
       "}\n",
       "\n",
       ".xr-header {\n",
       "  padding-top: 6px;\n",
       "  padding-bottom: 6px;\n",
       "  margin-bottom: 4px;\n",
       "  border-bottom: solid 1px var(--xr-border-color);\n",
       "}\n",
       "\n",
       ".xr-header > div,\n",
       ".xr-header > ul {\n",
       "  display: inline;\n",
       "  margin-top: 0;\n",
       "  margin-bottom: 0;\n",
       "}\n",
       "\n",
       ".xr-obj-type,\n",
       ".xr-array-name {\n",
       "  margin-left: 2px;\n",
       "  margin-right: 10px;\n",
       "}\n",
       "\n",
       ".xr-obj-type {\n",
       "  color: var(--xr-font-color2);\n",
       "}\n",
       "\n",
       ".xr-sections {\n",
       "  padding-left: 0 !important;\n",
       "  display: grid;\n",
       "  grid-template-columns: 150px auto auto 1fr 20px 20px;\n",
       "}\n",
       "\n",
       ".xr-section-item {\n",
       "  display: contents;\n",
       "}\n",
       "\n",
       ".xr-section-item input {\n",
       "  display: none;\n",
       "}\n",
       "\n",
       ".xr-section-item input + label {\n",
       "  color: var(--xr-disabled-color);\n",
       "}\n",
       "\n",
       ".xr-section-item input:enabled + label {\n",
       "  cursor: pointer;\n",
       "  color: var(--xr-font-color2);\n",
       "}\n",
       "\n",
       ".xr-section-item input:enabled + label:hover {\n",
       "  color: var(--xr-font-color0);\n",
       "}\n",
       "\n",
       ".xr-section-summary {\n",
       "  grid-column: 1;\n",
       "  color: var(--xr-font-color2);\n",
       "  font-weight: 500;\n",
       "}\n",
       "\n",
       ".xr-section-summary > span {\n",
       "  display: inline-block;\n",
       "  padding-left: 0.5em;\n",
       "}\n",
       "\n",
       ".xr-section-summary-in:disabled + label {\n",
       "  color: var(--xr-font-color2);\n",
       "}\n",
       "\n",
       ".xr-section-summary-in + label:before {\n",
       "  display: inline-block;\n",
       "  content: '►';\n",
       "  font-size: 11px;\n",
       "  width: 15px;\n",
       "  text-align: center;\n",
       "}\n",
       "\n",
       ".xr-section-summary-in:disabled + label:before {\n",
       "  color: var(--xr-disabled-color);\n",
       "}\n",
       "\n",
       ".xr-section-summary-in:checked + label:before {\n",
       "  content: '▼';\n",
       "}\n",
       "\n",
       ".xr-section-summary-in:checked + label > span {\n",
       "  display: none;\n",
       "}\n",
       "\n",
       ".xr-section-summary,\n",
       ".xr-section-inline-details {\n",
       "  padding-top: 4px;\n",
       "  padding-bottom: 4px;\n",
       "}\n",
       "\n",
       ".xr-section-inline-details {\n",
       "  grid-column: 2 / -1;\n",
       "}\n",
       "\n",
       ".xr-section-details {\n",
       "  display: none;\n",
       "  grid-column: 1 / -1;\n",
       "  margin-bottom: 5px;\n",
       "}\n",
       "\n",
       ".xr-section-summary-in:checked ~ .xr-section-details {\n",
       "  display: contents;\n",
       "}\n",
       "\n",
       ".xr-array-wrap {\n",
       "  grid-column: 1 / -1;\n",
       "  display: grid;\n",
       "  grid-template-columns: 20px auto;\n",
       "}\n",
       "\n",
       ".xr-array-wrap > label {\n",
       "  grid-column: 1;\n",
       "  vertical-align: top;\n",
       "}\n",
       "\n",
       ".xr-preview {\n",
       "  color: var(--xr-font-color3);\n",
       "}\n",
       "\n",
       ".xr-array-preview,\n",
       ".xr-array-data {\n",
       "  padding: 0 5px !important;\n",
       "  grid-column: 2;\n",
       "}\n",
       "\n",
       ".xr-array-data,\n",
       ".xr-array-in:checked ~ .xr-array-preview {\n",
       "  display: none;\n",
       "}\n",
       "\n",
       ".xr-array-in:checked ~ .xr-array-data,\n",
       ".xr-array-preview {\n",
       "  display: inline-block;\n",
       "}\n",
       "\n",
       ".xr-dim-list {\n",
       "  display: inline-block !important;\n",
       "  list-style: none;\n",
       "  padding: 0 !important;\n",
       "  margin: 0;\n",
       "}\n",
       "\n",
       ".xr-dim-list li {\n",
       "  display: inline-block;\n",
       "  padding: 0;\n",
       "  margin: 0;\n",
       "}\n",
       "\n",
       ".xr-dim-list:before {\n",
       "  content: '(';\n",
       "}\n",
       "\n",
       ".xr-dim-list:after {\n",
       "  content: ')';\n",
       "}\n",
       "\n",
       ".xr-dim-list li:not(:last-child):after {\n",
       "  content: ',';\n",
       "  padding-right: 5px;\n",
       "}\n",
       "\n",
       ".xr-has-index {\n",
       "  font-weight: bold;\n",
       "}\n",
       "\n",
       ".xr-var-list,\n",
       ".xr-var-item {\n",
       "  display: contents;\n",
       "}\n",
       "\n",
       ".xr-var-item > div,\n",
       ".xr-var-item label,\n",
       ".xr-var-item > .xr-var-name span {\n",
       "  background-color: var(--xr-background-color-row-even);\n",
       "  margin-bottom: 0;\n",
       "}\n",
       "\n",
       ".xr-var-item > .xr-var-name:hover span {\n",
       "  padding-right: 5px;\n",
       "}\n",
       "\n",
       ".xr-var-list > li:nth-child(odd) > div,\n",
       ".xr-var-list > li:nth-child(odd) > label,\n",
       ".xr-var-list > li:nth-child(odd) > .xr-var-name span {\n",
       "  background-color: var(--xr-background-color-row-odd);\n",
       "}\n",
       "\n",
       ".xr-var-name {\n",
       "  grid-column: 1;\n",
       "}\n",
       "\n",
       ".xr-var-dims {\n",
       "  grid-column: 2;\n",
       "}\n",
       "\n",
       ".xr-var-dtype {\n",
       "  grid-column: 3;\n",
       "  text-align: right;\n",
       "  color: var(--xr-font-color2);\n",
       "}\n",
       "\n",
       ".xr-var-preview {\n",
       "  grid-column: 4;\n",
       "}\n",
       "\n",
       ".xr-index-preview {\n",
       "  grid-column: 2 / 5;\n",
       "  color: var(--xr-font-color2);\n",
       "}\n",
       "\n",
       ".xr-var-name,\n",
       ".xr-var-dims,\n",
       ".xr-var-dtype,\n",
       ".xr-preview,\n",
       ".xr-attrs dt {\n",
       "  white-space: nowrap;\n",
       "  overflow: hidden;\n",
       "  text-overflow: ellipsis;\n",
       "  padding-right: 10px;\n",
       "}\n",
       "\n",
       ".xr-var-name:hover,\n",
       ".xr-var-dims:hover,\n",
       ".xr-var-dtype:hover,\n",
       ".xr-attrs dt:hover {\n",
       "  overflow: visible;\n",
       "  width: auto;\n",
       "  z-index: 1;\n",
       "}\n",
       "\n",
       ".xr-var-attrs,\n",
       ".xr-var-data,\n",
       ".xr-index-data {\n",
       "  display: none;\n",
       "  background-color: var(--xr-background-color) !important;\n",
       "  padding-bottom: 5px !important;\n",
       "}\n",
       "\n",
       ".xr-var-attrs-in:checked ~ .xr-var-attrs,\n",
       ".xr-var-data-in:checked ~ .xr-var-data,\n",
       ".xr-index-data-in:checked ~ .xr-index-data {\n",
       "  display: block;\n",
       "}\n",
       "\n",
       ".xr-var-data > table {\n",
       "  float: right;\n",
       "}\n",
       "\n",
       ".xr-var-name span,\n",
       ".xr-var-data,\n",
       ".xr-index-name div,\n",
       ".xr-index-data,\n",
       ".xr-attrs {\n",
       "  padding-left: 25px !important;\n",
       "}\n",
       "\n",
       ".xr-attrs,\n",
       ".xr-var-attrs,\n",
       ".xr-var-data,\n",
       ".xr-index-data {\n",
       "  grid-column: 1 / -1;\n",
       "}\n",
       "\n",
       "dl.xr-attrs {\n",
       "  padding: 0;\n",
       "  margin: 0;\n",
       "  display: grid;\n",
       "  grid-template-columns: 125px auto;\n",
       "}\n",
       "\n",
       ".xr-attrs dt,\n",
       ".xr-attrs dd {\n",
       "  padding: 0;\n",
       "  margin: 0;\n",
       "  float: left;\n",
       "  padding-right: 10px;\n",
       "  width: auto;\n",
       "}\n",
       "\n",
       ".xr-attrs dt {\n",
       "  font-weight: normal;\n",
       "  grid-column: 1;\n",
       "}\n",
       "\n",
       ".xr-attrs dt:hover span {\n",
       "  display: inline-block;\n",
       "  background: var(--xr-background-color);\n",
       "  padding-right: 10px;\n",
       "}\n",
       "\n",
       ".xr-attrs dd {\n",
       "  grid-column: 2;\n",
       "  white-space: pre-wrap;\n",
       "  word-break: break-all;\n",
       "}\n",
       "\n",
       ".xr-icon-database,\n",
       ".xr-icon-file-text2,\n",
       ".xr-no-icon {\n",
       "  display: inline-block;\n",
       "  vertical-align: middle;\n",
       "  width: 1em;\n",
       "  height: 1.5em !important;\n",
       "  stroke-width: 0;\n",
       "  stroke: currentColor;\n",
       "  fill: currentColor;\n",
       "}\n",
       "</style><pre class='xr-text-repr-fallback'>&lt;xarray.Dataset&gt;\n",
       "Dimensions:       (time_numeric: 55, y: 2000, x: 3000)\n",
       "Coordinates:\n",
       "    time          (time_numeric) datetime64[ns] 1947-09-14 ... 2020-12-12\n",
       "  * x             (x) float64 5.869e+05 5.869e+05 ... 5.899e+05 5.899e+05\n",
       "  * y             (y) float64 5.405e+06 5.405e+06 ... 5.403e+06 5.403e+06\n",
       "  * time_numeric  (time_numeric) float64 1.948e+03 1.951e+03 ... 2.021e+03\n",
       "Data variables:\n",
       "    band1         (time_numeric, y, x) float32 dask.array&lt;chunksize=(55, 484, 30), meta=np.ndarray&gt;\n",
       "    spatial_ref   int64 ...\n",
       "Attributes:\n",
       "    AREA_OR_POINT:  Area\n",
       "    add_offset:     0.0\n",
       "    crs:            PROJCS[&quot;WGS 84 / UTM zone 10N&quot;,GEOGCS[&quot;WGS 84&quot;,DATUM[&quot;WGS...\n",
       "    scale_factor:   1.0</pre><div class='xr-wrap' style='display:none'><div class='xr-header'><div class='xr-obj-type'>xarray.Dataset</div></div><ul class='xr-sections'><li class='xr-section-item'><input id='section-c2e35747-4204-47d8-803a-77645239a20c' class='xr-section-summary-in' type='checkbox' disabled ><label for='section-c2e35747-4204-47d8-803a-77645239a20c' class='xr-section-summary'  title='Expand/collapse section'>Dimensions:</label><div class='xr-section-inline-details'><ul class='xr-dim-list'><li><span class='xr-has-index'>time_numeric</span>: 55</li><li><span class='xr-has-index'>y</span>: 2000</li><li><span class='xr-has-index'>x</span>: 3000</li></ul></div><div class='xr-section-details'></div></li><li class='xr-section-item'><input id='section-2ce30811-0547-4fb0-b80f-7530e2961002' class='xr-section-summary-in' type='checkbox'  checked><label for='section-2ce30811-0547-4fb0-b80f-7530e2961002' class='xr-section-summary' >Coordinates: <span>(4)</span></label><div class='xr-section-inline-details'></div><div class='xr-section-details'><ul class='xr-var-list'><li class='xr-var-item'><div class='xr-var-name'><span>time</span></div><div class='xr-var-dims'>(time_numeric)</div><div class='xr-var-dtype'>datetime64[ns]</div><div class='xr-var-preview xr-preview'>1947-09-14 ... 2020-12-12</div><input id='attrs-76a25a6a-e93b-4ac3-bcbd-ba5eff363473' class='xr-var-attrs-in' type='checkbox' disabled><label for='attrs-76a25a6a-e93b-4ac3-bcbd-ba5eff363473' title='Show/Hide attributes'><svg class='icon xr-icon-file-text2'><use xlink:href='#icon-file-text2'></use></svg></label><input id='data-e4798504-c3f4-43f9-97ac-8ce84e2cf70c' class='xr-var-data-in' type='checkbox'><label for='data-e4798504-c3f4-43f9-97ac-8ce84e2cf70c' title='Show/Hide data repr'><svg class='icon xr-icon-database'><use xlink:href='#icon-database'></use></svg></label><div class='xr-var-attrs'><dl class='xr-attrs'></dl></div><div class='xr-var-data'><pre>array([&#x27;1947-09-14T00:00:00.000000000&#x27;, &#x27;1950-09-02T00:00:00.000000000&#x27;,\n",
       "       &#x27;1970-09-09T00:00:00.000000000&#x27;, &#x27;1970-09-29T00:00:00.000000000&#x27;,\n",
       "       &#x27;1974-08-10T00:00:00.000000000&#x27;, &#x27;1977-09-27T00:00:00.000000000&#x27;,\n",
       "       &#x27;1979-10-06T00:00:00.000000000&#x27;, &#x27;1987-08-21T00:00:00.000000000&#x27;,\n",
       "       &#x27;1990-09-05T00:00:00.000000000&#x27;, &#x27;1991-09-09T00:00:00.000000000&#x27;,\n",
       "       &#x27;1992-09-15T00:00:00.000000000&#x27;, &#x27;1992-09-18T00:00:00.000000000&#x27;,\n",
       "       &#x27;2013-09-11T00:00:00.000000000&#x27;, &#x27;2013-09-13T00:00:00.000000000&#x27;,\n",
       "       &#x27;2014-05-14T00:00:00.000000000&#x27;, &#x27;2014-08-23T00:00:00.000000000&#x27;,\n",
       "       &#x27;2014-11-01T00:00:00.000000000&#x27;, &#x27;2014-11-07T00:00:00.000000000&#x27;,\n",
       "       &#x27;2014-11-11T00:00:00.000000000&#x27;, &#x27;2015-04-17T00:00:00.000000000&#x27;,\n",
       "       &#x27;2015-08-27T00:00:00.000000000&#x27;, &#x27;2015-09-11T00:00:00.000000000&#x27;,\n",
       "       &#x27;2015-09-28T00:00:00.000000000&#x27;, &#x27;2015-09-30T00:00:00.000000000&#x27;,\n",
       "       &#x27;2015-12-16T00:00:00.000000000&#x27;, &#x27;2016-01-19T00:00:00.000000000&#x27;,\n",
       "       &#x27;2016-03-05T00:00:00.000000000&#x27;, &#x27;2016-04-01T00:00:00.000000000&#x27;,\n",
       "       &#x27;2016-06-04T00:00:00.000000000&#x27;, &#x27;2016-07-28T00:00:00.000000000&#x27;,\n",
       "       &#x27;2016-08-01T00:00:00.000000000&#x27;, &#x27;2016-09-09T00:00:00.000000000&#x27;,\n",
       "       &#x27;2016-10-11T00:00:00.000000000&#x27;, &#x27;2017-04-09T00:00:00.000000000&#x27;,\n",
       "       &#x27;2017-08-20T00:00:00.000000000&#x27;, &#x27;2017-09-02T00:00:00.000000000&#x27;,\n",
       "       &#x27;2018-01-03T00:00:00.000000000&#x27;, &#x27;2018-03-07T00:00:00.000000000&#x27;,\n",
       "       &#x27;2018-04-23T00:00:00.000000000&#x27;, &#x27;2018-07-08T00:00:00.000000000&#x27;,\n",
       "       &#x27;2018-07-23T00:00:00.000000000&#x27;, &#x27;2018-07-24T00:00:00.000000000&#x27;,\n",
       "       &#x27;2018-07-27T00:00:00.000000000&#x27;, &#x27;2018-07-30T00:00:00.000000000&#x27;,\n",
       "       &#x27;2018-08-17T00:00:00.000000000&#x27;, &#x27;2018-09-27T00:00:00.000000000&#x27;,\n",
       "       &#x27;2019-05-08T00:00:00.000000000&#x27;, &#x27;2019-06-16T00:00:00.000000000&#x27;,\n",
       "       &#x27;2019-07-20T00:00:00.000000000&#x27;, &#x27;2019-08-03T00:00:00.000000000&#x27;,\n",
       "       &#x27;2019-10-11T00:00:00.000000000&#x27;, &#x27;2020-04-13T00:00:00.000000000&#x27;,\n",
       "       &#x27;2020-06-22T00:00:00.000000000&#x27;, &#x27;2020-09-05T00:00:00.000000000&#x27;,\n",
       "       &#x27;2020-12-12T00:00:00.000000000&#x27;], dtype=&#x27;datetime64[ns]&#x27;)</pre></div></li><li class='xr-var-item'><div class='xr-var-name'><span class='xr-has-index'>x</span></div><div class='xr-var-dims'>(x)</div><div class='xr-var-dtype'>float64</div><div class='xr-var-preview xr-preview'>5.869e+05 5.869e+05 ... 5.899e+05</div><input id='attrs-91f8a884-a900-41a7-8a37-c12c4c5f63d5' class='xr-var-attrs-in' type='checkbox' ><label for='attrs-91f8a884-a900-41a7-8a37-c12c4c5f63d5' title='Show/Hide attributes'><svg class='icon xr-icon-file-text2'><use xlink:href='#icon-file-text2'></use></svg></label><input id='data-a09249f3-d33e-4b35-a967-7429fe0d72d3' class='xr-var-data-in' type='checkbox'><label for='data-a09249f3-d33e-4b35-a967-7429fe0d72d3' title='Show/Hide data repr'><svg class='icon xr-icon-database'><use xlink:href='#icon-database'></use></svg></label><div class='xr-var-attrs'><dl class='xr-attrs'><dt><span>axis :</span></dt><dd>X</dd><dt><span>long_name :</span></dt><dd>x coordinate of projection</dd><dt><span>standard_name :</span></dt><dd>projection_x_coordinate</dd><dt><span>units :</span></dt><dd>metre</dd></dl></div><div class='xr-var-data'><pre>array([586947.438712, 586948.438712, 586949.438712, ..., 589944.438712,\n",
       "       589945.438712, 589946.438712])</pre></div></li><li class='xr-var-item'><div class='xr-var-name'><span class='xr-has-index'>y</span></div><div class='xr-var-dims'>(y)</div><div class='xr-var-dtype'>float64</div><div class='xr-var-preview xr-preview'>5.405e+06 5.405e+06 ... 5.403e+06</div><input id='attrs-3a9e24bd-189d-4d81-b416-eff6b42d9661' class='xr-var-attrs-in' type='checkbox' ><label for='attrs-3a9e24bd-189d-4d81-b416-eff6b42d9661' title='Show/Hide attributes'><svg class='icon xr-icon-file-text2'><use xlink:href='#icon-file-text2'></use></svg></label><input id='data-9e58e7ab-97cb-4738-a6ea-c25c421748c8' class='xr-var-data-in' type='checkbox'><label for='data-9e58e7ab-97cb-4738-a6ea-c25c421748c8' title='Show/Hide data repr'><svg class='icon xr-icon-database'><use xlink:href='#icon-database'></use></svg></label><div class='xr-var-attrs'><dl class='xr-attrs'><dt><span>axis :</span></dt><dd>Y</dd><dt><span>long_name :</span></dt><dd>y coordinate of projection</dd><dt><span>standard_name :</span></dt><dd>projection_y_coordinate</dd><dt><span>units :</span></dt><dd>metre</dd></dl></div><div class='xr-var-data'><pre>array([5404948.566349, 5404947.566349, 5404946.566349, ..., 5402951.566349,\n",
       "       5402950.566349, 5402949.566349])</pre></div></li><li class='xr-var-item'><div class='xr-var-name'><span class='xr-has-index'>time_numeric</span></div><div class='xr-var-dims'>(time_numeric)</div><div class='xr-var-dtype'>float64</div><div class='xr-var-preview xr-preview'>1.948e+03 1.951e+03 ... 2.021e+03</div><input id='attrs-a0f66f1b-96ec-4580-849c-d880abb88ad1' class='xr-var-attrs-in' type='checkbox' disabled><label for='attrs-a0f66f1b-96ec-4580-849c-d880abb88ad1' title='Show/Hide attributes'><svg class='icon xr-icon-file-text2'><use xlink:href='#icon-file-text2'></use></svg></label><input id='data-788b7730-a706-4e55-9804-be0e102f83b7' class='xr-var-data-in' type='checkbox'><label for='data-788b7730-a706-4e55-9804-be0e102f83b7' title='Show/Hide data repr'><svg class='icon xr-icon-database'><use xlink:href='#icon-database'></use></svg></label><div class='xr-var-attrs'><dl class='xr-attrs'></dl></div><div class='xr-var-data'><pre>array([1947.70411 , 1950.671233, 1970.690411, 1970.745205, 1974.608219,\n",
       "       1977.739726, 1979.764384, 1987.638356, 1990.679452, 1991.690411,\n",
       "       1992.709589, 1992.717808, 2013.69589 , 2013.70137 , 2014.367123,\n",
       "       2014.643836, 2014.835616, 2014.852055, 2014.863014, 2015.293151,\n",
       "       2015.654795, 2015.69589 , 2015.742466, 2015.747945, 2015.958904,\n",
       "       2016.052055, 2016.178082, 2016.252055, 2016.427397, 2016.575342,\n",
       "       2016.586301, 2016.693151, 2016.780822, 2017.271233, 2017.635616,\n",
       "       2017.671233, 2018.008219, 2018.180822, 2018.309589, 2018.517808,\n",
       "       2018.558904, 2018.561644, 2018.569863, 2018.578082, 2018.627397,\n",
       "       2018.739726, 2019.350685, 2019.457534, 2019.550685, 2019.589041,\n",
       "       2019.778082, 2020.284932, 2020.476712, 2020.682192, 2020.950685])</pre></div></li></ul></div></li><li class='xr-section-item'><input id='section-b978379d-08a2-4cc4-99ed-b4eb76132c7d' class='xr-section-summary-in' type='checkbox'  checked><label for='section-b978379d-08a2-4cc4-99ed-b4eb76132c7d' class='xr-section-summary' >Data variables: <span>(2)</span></label><div class='xr-section-inline-details'></div><div class='xr-section-details'><ul class='xr-var-list'><li class='xr-var-item'><div class='xr-var-name'><span>band1</span></div><div class='xr-var-dims'>(time_numeric, y, x)</div><div class='xr-var-dtype'>float32</div><div class='xr-var-preview xr-preview'>dask.array&lt;chunksize=(55, 484, 30), meta=np.ndarray&gt;</div><input id='attrs-996e17d3-2793-49c9-851c-6dc1a7674670' class='xr-var-attrs-in' type='checkbox' ><label for='attrs-996e17d3-2793-49c9-851c-6dc1a7674670' title='Show/Hide attributes'><svg class='icon xr-icon-file-text2'><use xlink:href='#icon-file-text2'></use></svg></label><input id='data-d54d1072-0ef8-48b6-8cf7-7dc9a6a1613f' class='xr-var-data-in' type='checkbox'><label for='data-d54d1072-0ef8-48b6-8cf7-7dc9a6a1613f' title='Show/Hide data repr'><svg class='icon xr-icon-database'><use xlink:href='#icon-database'></use></svg></label><div class='xr-var-attrs'><dl class='xr-attrs'><dt><span>AREA_OR_POINT :</span></dt><dd>Area</dd><dt><span>grid_mapping :</span></dt><dd>spatial_ref</dd></dl></div><div class='xr-var-data'><table>\n",
       "    <tr>\n",
       "        <td>\n",
       "            <table style=\"border-collapse: collapse;\">\n",
       "                <thead>\n",
       "                    <tr>\n",
       "                        <td> </td>\n",
       "                        <th> Array </th>\n",
       "                        <th> Chunk </th>\n",
       "                    </tr>\n",
       "                </thead>\n",
       "                <tbody>\n",
       "                    \n",
       "                    <tr>\n",
       "                        <th> Bytes </th>\n",
       "                        <td> 1.23 GiB </td>\n",
       "                        <td> 100.09 MiB </td>\n",
       "                    </tr>\n",
       "                    \n",
       "                    <tr>\n",
       "                        <th> Shape </th>\n",
       "                        <td> (55, 2000, 3000) </td>\n",
       "                        <td> (55, 712, 670) </td>\n",
       "                    </tr>\n",
       "                    <tr>\n",
       "                        <th> Dask graph </th>\n",
       "                        <td colspan=\"2\"> 24 chunks in 3 graph layers </td>\n",
       "                    </tr>\n",
       "                    <tr>\n",
       "                        <th> Data type </th>\n",
       "                        <td colspan=\"2\"> float32 numpy.ndarray </td>\n",
       "                    </tr>\n",
       "                </tbody>\n",
       "            </table>\n",
       "        </td>\n",
       "        <td>\n",
       "        <svg width=\"196\" height=\"146\" style=\"stroke:rgb(0,0,0);stroke-width:1\" >\n",
       "\n",
       "  <!-- Horizontal lines -->\n",
       "  <line x1=\"10\" y1=\"0\" x2=\"26\" y2=\"16\" style=\"stroke-width:2\" />\n",
       "  <line x1=\"10\" y1=\"19\" x2=\"26\" y2=\"36\" />\n",
       "  <line x1=\"10\" y1=\"47\" x2=\"26\" y2=\"64\" />\n",
       "  <line x1=\"10\" y1=\"76\" x2=\"26\" y2=\"93\" />\n",
       "  <line x1=\"10\" y1=\"80\" x2=\"26\" y2=\"96\" style=\"stroke-width:2\" />\n",
       "\n",
       "  <!-- Vertical lines -->\n",
       "  <line x1=\"10\" y1=\"0\" x2=\"10\" y2=\"80\" style=\"stroke-width:2\" />\n",
       "  <line x1=\"26\" y1=\"16\" x2=\"26\" y2=\"96\" style=\"stroke-width:2\" />\n",
       "\n",
       "  <!-- Colored Rectangle -->\n",
       "  <polygon points=\"10.0,0.0 26.791218091831137,16.791218091831137 26.791218091831137,96.79121809183114 10.0,80.0\" style=\"fill:#ECB172A0;stroke-width:0\"/>\n",
       "\n",
       "  <!-- Horizontal lines -->\n",
       "  <line x1=\"10\" y1=\"0\" x2=\"130\" y2=\"0\" style=\"stroke-width:2\" />\n",
       "  <line x1=\"26\" y1=\"16\" x2=\"146\" y2=\"16\" style=\"stroke-width:2\" />\n",
       "\n",
       "  <!-- Vertical lines -->\n",
       "  <line x1=\"10\" y1=\"0\" x2=\"26\" y2=\"16\" style=\"stroke-width:2\" />\n",
       "  <line x1=\"11\" y1=\"0\" x2=\"27\" y2=\"16\" />\n",
       "  <line x1=\"38\" y1=\"0\" x2=\"54\" y2=\"16\" />\n",
       "  <line x1=\"64\" y1=\"0\" x2=\"81\" y2=\"16\" />\n",
       "  <line x1=\"91\" y1=\"0\" x2=\"108\" y2=\"16\" />\n",
       "  <line x1=\"118\" y1=\"0\" x2=\"135\" y2=\"16\" />\n",
       "  <line x1=\"130\" y1=\"0\" x2=\"146\" y2=\"16\" style=\"stroke-width:2\" />\n",
       "\n",
       "  <!-- Colored Rectangle -->\n",
       "  <polygon points=\"10.0,0.0 130.0,0.0 146.79121809183113,16.791218091831137 26.791218091831137,16.791218091831137\" style=\"fill:#ECB172A0;stroke-width:0\"/>\n",
       "\n",
       "  <!-- Horizontal lines -->\n",
       "  <line x1=\"26\" y1=\"16\" x2=\"146\" y2=\"16\" style=\"stroke-width:2\" />\n",
       "  <line x1=\"26\" y1=\"36\" x2=\"146\" y2=\"36\" />\n",
       "  <line x1=\"26\" y1=\"64\" x2=\"146\" y2=\"64\" />\n",
       "  <line x1=\"26\" y1=\"93\" x2=\"146\" y2=\"93\" />\n",
       "  <line x1=\"26\" y1=\"96\" x2=\"146\" y2=\"96\" style=\"stroke-width:2\" />\n",
       "\n",
       "  <!-- Vertical lines -->\n",
       "  <line x1=\"26\" y1=\"16\" x2=\"26\" y2=\"96\" style=\"stroke-width:2\" />\n",
       "  <line x1=\"27\" y1=\"16\" x2=\"27\" y2=\"96\" />\n",
       "  <line x1=\"54\" y1=\"16\" x2=\"54\" y2=\"96\" />\n",
       "  <line x1=\"81\" y1=\"16\" x2=\"81\" y2=\"96\" />\n",
       "  <line x1=\"108\" y1=\"16\" x2=\"108\" y2=\"96\" />\n",
       "  <line x1=\"135\" y1=\"16\" x2=\"135\" y2=\"96\" />\n",
       "  <line x1=\"146\" y1=\"16\" x2=\"146\" y2=\"96\" style=\"stroke-width:2\" />\n",
       "\n",
       "  <!-- Colored Rectangle -->\n",
       "  <polygon points=\"26.791218091831137,16.791218091831137 146.79121809183113,16.791218091831137 146.79121809183113,96.79121809183114 26.791218091831137,96.79121809183114\" style=\"fill:#ECB172A0;stroke-width:0\"/>\n",
       "\n",
       "  <!-- Text -->\n",
       "  <text x=\"86.791218\" y=\"116.791218\" font-size=\"1.0rem\" font-weight=\"100\" text-anchor=\"middle\" >3000</text>\n",
       "  <text x=\"166.791218\" y=\"56.791218\" font-size=\"1.0rem\" font-weight=\"100\" text-anchor=\"middle\" transform=\"rotate(-90,166.791218,56.791218)\">2000</text>\n",
       "  <text x=\"8.395609\" y=\"108.395609\" font-size=\"1.0rem\" font-weight=\"100\" text-anchor=\"middle\" transform=\"rotate(45,8.395609,108.395609)\">55</text>\n",
       "</svg>\n",
       "        </td>\n",
       "    </tr>\n",
       "</table></div></li><li class='xr-var-item'><div class='xr-var-name'><span>spatial_ref</span></div><div class='xr-var-dims'>()</div><div class='xr-var-dtype'>int64</div><div class='xr-var-preview xr-preview'>...</div><input id='attrs-ff8d4efb-bfd7-4904-86b1-9b4c7f2b0f62' class='xr-var-attrs-in' type='checkbox' ><label for='attrs-ff8d4efb-bfd7-4904-86b1-9b4c7f2b0f62' title='Show/Hide attributes'><svg class='icon xr-icon-file-text2'><use xlink:href='#icon-file-text2'></use></svg></label><input id='data-5a5533d5-a9a6-4cd6-9364-824c53a8fd42' class='xr-var-data-in' type='checkbox'><label for='data-5a5533d5-a9a6-4cd6-9364-824c53a8fd42' title='Show/Hide data repr'><svg class='icon xr-icon-database'><use xlink:href='#icon-database'></use></svg></label><div class='xr-var-attrs'><dl class='xr-attrs'><dt><span>crs_wkt :</span></dt><dd>PROJCS[&quot;WGS 84 / UTM zone 10N&quot;,GEOGCS[&quot;WGS 84&quot;,DATUM[&quot;WGS_1984&quot;,SPHEROID[&quot;WGS 84&quot;,6378137,298.257223563,AUTHORITY[&quot;EPSG&quot;,&quot;7030&quot;]],AUTHORITY[&quot;EPSG&quot;,&quot;6326&quot;]],PRIMEM[&quot;Greenwich&quot;,0,AUTHORITY[&quot;EPSG&quot;,&quot;8901&quot;]],UNIT[&quot;degree&quot;,0.0174532925199433,AUTHORITY[&quot;EPSG&quot;,&quot;9122&quot;]],AUTHORITY[&quot;EPSG&quot;,&quot;4326&quot;]],PROJECTION[&quot;Transverse_Mercator&quot;],PARAMETER[&quot;latitude_of_origin&quot;,0],PARAMETER[&quot;central_meridian&quot;,-123],PARAMETER[&quot;scale_factor&quot;,0.9996],PARAMETER[&quot;false_easting&quot;,500000],PARAMETER[&quot;false_northing&quot;,0],UNIT[&quot;metre&quot;,1,AUTHORITY[&quot;EPSG&quot;,&quot;9001&quot;]],AXIS[&quot;Easting&quot;,EAST],AXIS[&quot;Northing&quot;,NORTH],AUTHORITY[&quot;EPSG&quot;,&quot;32610&quot;]]</dd><dt><span>false_easting :</span></dt><dd>500000.0</dd><dt><span>false_northing :</span></dt><dd>0.0</dd><dt><span>geographic_crs_name :</span></dt><dd>WGS 84</dd><dt><span>grid_mapping_name :</span></dt><dd>transverse_mercator</dd><dt><span>horizontal_datum_name :</span></dt><dd>World Geodetic System 1984</dd><dt><span>inverse_flattening :</span></dt><dd>298.257223563</dd><dt><span>latitude_of_projection_origin :</span></dt><dd>0.0</dd><dt><span>longitude_of_central_meridian :</span></dt><dd>-123.0</dd><dt><span>longitude_of_prime_meridian :</span></dt><dd>0.0</dd><dt><span>prime_meridian_name :</span></dt><dd>Greenwich</dd><dt><span>projected_crs_name :</span></dt><dd>WGS 84 / UTM zone 10N</dd><dt><span>reference_ellipsoid_name :</span></dt><dd>WGS 84</dd><dt><span>scale_factor_at_central_meridian :</span></dt><dd>0.9996</dd><dt><span>semi_major_axis :</span></dt><dd>6378137.0</dd><dt><span>semi_minor_axis :</span></dt><dd>6356752.314245179</dd><dt><span>spatial_ref :</span></dt><dd>PROJCS[&quot;WGS 84 / UTM zone 10N&quot;,GEOGCS[&quot;WGS 84&quot;,DATUM[&quot;WGS_1984&quot;,SPHEROID[&quot;WGS 84&quot;,6378137,298.257223563,AUTHORITY[&quot;EPSG&quot;,&quot;7030&quot;]],AUTHORITY[&quot;EPSG&quot;,&quot;6326&quot;]],PRIMEM[&quot;Greenwich&quot;,0,AUTHORITY[&quot;EPSG&quot;,&quot;8901&quot;]],UNIT[&quot;degree&quot;,0.0174532925199433,AUTHORITY[&quot;EPSG&quot;,&quot;9122&quot;]],AUTHORITY[&quot;EPSG&quot;,&quot;4326&quot;]],PROJECTION[&quot;Transverse_Mercator&quot;],PARAMETER[&quot;latitude_of_origin&quot;,0],PARAMETER[&quot;central_meridian&quot;,-123],PARAMETER[&quot;scale_factor&quot;,0.9996],PARAMETER[&quot;false_easting&quot;,500000],PARAMETER[&quot;false_northing&quot;,0],UNIT[&quot;metre&quot;,1,AUTHORITY[&quot;EPSG&quot;,&quot;9001&quot;]],AXIS[&quot;Easting&quot;,EAST],AXIS[&quot;Northing&quot;,NORTH],AUTHORITY[&quot;EPSG&quot;,&quot;32610&quot;]]</dd></dl></div><div class='xr-var-data'><pre>[1 values with dtype=int64]</pre></div></li></ul></div></li><li class='xr-section-item'><input id='section-472834f8-38eb-4dab-ba73-c8db6886af85' class='xr-section-summary-in' type='checkbox'  ><label for='section-472834f8-38eb-4dab-ba73-c8db6886af85' class='xr-section-summary' >Indexes: <span>(3)</span></label><div class='xr-section-inline-details'></div><div class='xr-section-details'><ul class='xr-var-list'><li class='xr-var-item'><div class='xr-index-name'><div>x</div></div><div class='xr-index-preview'>PandasIndex</div><div></div><input id='index-25744028-2786-4e3f-8aaf-d9aec9de3e4b' class='xr-index-data-in' type='checkbox'/><label for='index-25744028-2786-4e3f-8aaf-d9aec9de3e4b' title='Show/Hide index repr'><svg class='icon xr-icon-database'><use xlink:href='#icon-database'></use></svg></label><div class='xr-index-data'><pre>PandasIndex(Float64Index([586947.4387119232, 586948.4387119232, 586949.4387119232,\n",
       "              586950.4387119232, 586951.4387119232, 586952.4387119232,\n",
       "              586953.4387119232, 586954.4387119232, 586955.4387119232,\n",
       "              586956.4387119232,\n",
       "              ...\n",
       "              589937.4387119232, 589938.4387119232, 589939.4387119232,\n",
       "              589940.4387119232, 589941.4387119232, 589942.4387119232,\n",
       "              589943.4387119232, 589944.4387119232, 589945.4387119232,\n",
       "              589946.4387119232],\n",
       "             dtype=&#x27;float64&#x27;, name=&#x27;x&#x27;, length=3000))</pre></div></li><li class='xr-var-item'><div class='xr-index-name'><div>y</div></div><div class='xr-index-preview'>PandasIndex</div><div></div><input id='index-efe25373-9400-4ea3-9146-75e3bce5407e' class='xr-index-data-in' type='checkbox'/><label for='index-efe25373-9400-4ea3-9146-75e3bce5407e' title='Show/Hide index repr'><svg class='icon xr-icon-database'><use xlink:href='#icon-database'></use></svg></label><div class='xr-index-data'><pre>PandasIndex(Float64Index([5404948.566348841, 5404947.566348841, 5404946.566348841,\n",
       "              5404945.566348841, 5404944.566348841, 5404943.566348841,\n",
       "              5404942.566348841, 5404941.566348841, 5404940.566348841,\n",
       "              5404939.566348841,\n",
       "              ...\n",
       "              5402958.566348841, 5402957.566348841, 5402956.566348841,\n",
       "              5402955.566348841, 5402954.566348841, 5402953.566348841,\n",
       "              5402952.566348841, 5402951.566348841, 5402950.566348841,\n",
       "              5402949.566348841],\n",
       "             dtype=&#x27;float64&#x27;, name=&#x27;y&#x27;, length=2000))</pre></div></li><li class='xr-var-item'><div class='xr-index-name'><div>time_numeric</div></div><div class='xr-index-preview'>PandasIndex</div><div></div><input id='index-ca1229b6-7d25-4740-a0eb-4fda9688ece9' class='xr-index-data-in' type='checkbox'/><label for='index-ca1229b6-7d25-4740-a0eb-4fda9688ece9' title='Show/Hide index repr'><svg class='icon xr-icon-database'><use xlink:href='#icon-database'></use></svg></label><div class='xr-index-data'><pre>PandasIndex(Float64Index([ 1947.704109589041, 1950.6712328767123,  1970.690410958904,\n",
       "              1970.7452054794521, 1974.6082191780822, 1977.7397260273972,\n",
       "              1979.7643835616439, 1987.6383561643836, 1990.6794520547944,\n",
       "               1991.690410958904, 1992.7095890410958,  1992.717808219178,\n",
       "               2013.695890410959, 2013.7013698630137, 2014.3671232876711,\n",
       "              2014.6438356164383,  2014.835616438356, 2014.8520547945207,\n",
       "                2014.86301369863, 2015.2931506849316,  2015.654794520548,\n",
       "               2015.695890410959, 2015.7424657534248, 2015.7479452054795,\n",
       "               2015.958904109589, 2016.0520547945205, 2016.1780821917807,\n",
       "              2016.2520547945205,  2016.427397260274, 2016.5753424657535,\n",
       "              2016.5863013698631, 2016.6931506849314, 2016.7808219178082,\n",
       "              2017.2712328767122, 2017.6356164383562, 2017.6712328767123,\n",
       "              2018.0082191780823, 2018.1808219178083,  2018.309589041096,\n",
       "               2018.517808219178,  2018.558904109589, 2018.5616438356165,\n",
       "              2018.5698630136985, 2018.5780821917808,  2018.627397260274,\n",
       "              2018.7397260273972, 2019.3506849315067, 2019.4575342465753,\n",
       "              2019.5506849315068, 2019.5890410958905, 2019.7780821917809,\n",
       "              2020.2849315068493, 2020.4767123287672,  2020.682191780822,\n",
       "              2020.9506849315069],\n",
       "             dtype=&#x27;float64&#x27;, name=&#x27;time_numeric&#x27;))</pre></div></li></ul></div></li><li class='xr-section-item'><input id='section-f1afc803-b400-4ee4-b51c-fb3f18a29383' class='xr-section-summary-in' type='checkbox'  checked><label for='section-f1afc803-b400-4ee4-b51c-fb3f18a29383' class='xr-section-summary' >Attributes: <span>(4)</span></label><div class='xr-section-inline-details'></div><div class='xr-section-details'><dl class='xr-attrs'><dt><span>AREA_OR_POINT :</span></dt><dd>Area</dd><dt><span>add_offset :</span></dt><dd>0.0</dd><dt><span>crs :</span></dt><dd>PROJCS[&quot;WGS 84 / UTM zone 10N&quot;,GEOGCS[&quot;WGS 84&quot;,DATUM[&quot;WGS_1984&quot;,SPHEROID[&quot;WGS 84&quot;,6378137,298.257223563,AUTHORITY[&quot;EPSG&quot;,&quot;7030&quot;]],AUTHORITY[&quot;EPSG&quot;,&quot;6326&quot;]],PRIMEM[&quot;Greenwich&quot;,0,AUTHORITY[&quot;EPSG&quot;,&quot;8901&quot;]],UNIT[&quot;degree&quot;,0.0174532925199433,AUTHORITY[&quot;EPSG&quot;,&quot;9122&quot;]],AUTHORITY[&quot;EPSG&quot;,&quot;4326&quot;]],PROJECTION[&quot;Transverse_Mercator&quot;],PARAMETER[&quot;latitude_of_origin&quot;,0],PARAMETER[&quot;central_meridian&quot;,-123],PARAMETER[&quot;scale_factor&quot;,0.9996],PARAMETER[&quot;false_easting&quot;,500000],PARAMETER[&quot;false_northing&quot;,0],UNIT[&quot;metre&quot;,1,AUTHORITY[&quot;EPSG&quot;,&quot;9001&quot;]],AXIS[&quot;Easting&quot;,EAST],AXIS[&quot;Northing&quot;,NORTH],AUTHORITY[&quot;EPSG&quot;,&quot;32610&quot;]]</dd><dt><span>scale_factor :</span></dt><dd>1.0</dd></dl></div></li></ul></div></div>"
      ],
      "text/plain": [
       "<xarray.Dataset>\n",
       "Dimensions:       (time_numeric: 55, y: 2000, x: 3000)\n",
       "Coordinates:\n",
       "    time          (time_numeric) datetime64[ns] 1947-09-14 ... 2020-12-12\n",
       "  * x             (x) float64 5.869e+05 5.869e+05 ... 5.899e+05 5.899e+05\n",
       "  * y             (y) float64 5.405e+06 5.405e+06 ... 5.403e+06 5.403e+06\n",
       "  * time_numeric  (time_numeric) float64 1.948e+03 1.951e+03 ... 2.021e+03\n",
       "Data variables:\n",
       "    band1         (time_numeric, y, x) float32 dask.array<chunksize=(55, 484, 30), meta=np.ndarray>\n",
       "    spatial_ref   int64 ...\n",
       "Attributes:\n",
       "    AREA_OR_POINT:  Area\n",
       "    add_offset:     0.0\n",
       "    crs:            PROJCS[\"WGS 84 / UTM zone 10N\",GEOGCS[\"WGS 84\",DATUM[\"WGS...\n",
       "    scale_factor:   1.0"
      ]
     },
     "execution_count": 11,
     "metadata": {},
     "output_type": "execute_result"
    }
   ],
   "source": [
    "baker_ds_sub"
   ]
  },
  {
   "cell_type": "code",
   "execution_count": 50,
   "id": "cc23d88b-030d-4616-9100-a37996414467",
   "metadata": {
    "tags": []
   },
   "outputs": [],
   "source": [
    "def prep_data_to_tensor(ds):\n",
    "    \n",
    "    x = ds.coords['x'].data\n",
    "    y = ds.coords['y'].data\n",
    "    t = ds.coords['time_numeric'].data\n",
    "    z = ds.band1.data.compute()\n",
    "    \n",
    "    xv, yv,tv = torch.meshgrid(torch.from_numpy(x),\n",
    "                        torch.from_numpy(y),\n",
    "                        torch.from_numpy(t), indexing = 'ij')\n",
    "    zv = torch.from_numpy(z)\n",
    "    \n",
    "    train_x = torch.cat(( #concatenates given seq of tensors in a given dim\n",
    "    xv.contiguous().view(xv.numel(), 1), #returns contiguous in mem array, view rehsapes and numel returns # elements -- so this is like np reshape to 1xlen\n",
    "    yv.contiguous().view(yv.numel(), 1),\n",
    "    tv.contiguous().view(tv.numel(), 1)),\n",
    "    dim=1 #dim to pass to cat\n",
    "    )\n",
    "    train_y = zv\n",
    "    \n",
    "    return (train_x, train_y)\n",
    "    #return({'x':x, 'y':y, 'time':t,'z':z})"
   ]
  },
  {
   "cell_type": "code",
   "execution_count": 12,
   "id": "39a0d341-1845-4c82-9586-2aa734f52707",
   "metadata": {
    "tags": []
   },
   "outputs": [],
   "source": [
    "x = baker_ds_sub.coords['x'].data\n",
    "y = baker_ds_sub.coords['y'].data\n",
    "t = baker_ds_sub.coords['time_numeric'].data"
   ]
  },
  {
   "cell_type": "code",
   "execution_count": 13,
   "id": "b37c1569-db2c-45a9-a238-4e1d794137ef",
   "metadata": {
    "tags": []
   },
   "outputs": [],
   "source": [
    "z = baker_ds_sub.band1.data.compute()"
   ]
  },
  {
   "cell_type": "code",
   "execution_count": 40,
   "id": "f3aea8e6-38eb-4ddf-9811-a99fbbbd7e2d",
   "metadata": {
    "tags": []
   },
   "outputs": [
    {
     "data": {
      "text/plain": [
       "330000000"
      ]
     },
     "execution_count": 40,
     "metadata": {},
     "output_type": "execute_result"
    }
   ],
   "source": [
    "2000*3000*55"
   ]
  },
  {
   "cell_type": "code",
   "execution_count": 14,
   "id": "727477d3-be9e-4904-b297-ac2df9dada0d",
   "metadata": {
    "tags": []
   },
   "outputs": [],
   "source": [
    "xv, yv,tv = torch.meshgrid(torch.from_numpy(x),\n",
    "                        torch.from_numpy(y),\n",
    "                        torch.from_numpy(t), indexing = 'ij')"
   ]
  },
  {
   "cell_type": "code",
   "execution_count": 15,
   "id": "f7f7a6bc-0b04-48a3-9d78-adfc54c736bc",
   "metadata": {
    "tags": []
   },
   "outputs": [],
   "source": [
    "zv = torch.from_numpy(z)"
   ]
  },
  {
   "cell_type": "code",
   "execution_count": 16,
   "id": "ce285e5e-d96c-4477-8078-826bfd54a9c5",
   "metadata": {
    "tags": []
   },
   "outputs": [
    {
     "data": {
      "text/plain": [
       "torch.Size([55, 2000, 3000])"
      ]
     },
     "execution_count": 16,
     "metadata": {},
     "output_type": "execute_result"
    }
   ],
   "source": [
    "zv.shape"
   ]
  },
  {
   "cell_type": "code",
   "execution_count": 17,
   "id": "6058963f-08e6-44d0-9009-9cd651bd34f6",
   "metadata": {
    "tags": []
   },
   "outputs": [
    {
     "data": {
      "text/plain": [
       "torch.Size([3000, 2000, 55])"
      ]
     },
     "execution_count": 17,
     "metadata": {},
     "output_type": "execute_result"
    }
   ],
   "source": [
    "xv.shape\n",
    "yv.shape\n",
    "tv.shape"
   ]
  },
  {
   "cell_type": "code",
   "execution_count": 18,
   "id": "a6786a78-6c08-41e3-80ca-65952feec112",
   "metadata": {
    "tags": []
   },
   "outputs": [],
   "source": [
    "train_x = torch.cat(( #concatenates given seq of tensors in a given dim\n",
    "    xv.contiguous().view(xv.numel(), 1), #returns contiguous in mem array, view rehsapes and numel returns # elements -- so this is like np reshape to 1xlen\n",
    "    yv.contiguous().view(yv.numel(), 1),\n",
    "    tv.contiguous().view(tv.numel(), 1)),\n",
    "    dim=1 #dim to pass to cat\n",
    ")"
   ]
  },
  {
   "cell_type": "code",
   "execution_count": 21,
   "id": "7c393c12-cc46-4120-bbde-bb357f6b4c43",
   "metadata": {
    "tags": []
   },
   "outputs": [
    {
     "data": {
      "text/plain": [
       "torch.Tensor"
      ]
     },
     "execution_count": 21,
     "metadata": {},
     "output_type": "execute_result"
    }
   ],
   "source": [
    "type(train_x)"
   ]
  },
  {
   "cell_type": "code",
   "execution_count": 23,
   "id": "3d1e2a15-ef95-427b-b54d-53ab8e0f0ffb",
   "metadata": {
    "tags": []
   },
   "outputs": [
    {
     "data": {
      "text/plain": [
       "torch.Tensor"
      ]
     },
     "execution_count": 23,
     "metadata": {},
     "output_type": "execute_result"
    }
   ],
   "source": [
    "type(zv)"
   ]
  },
  {
   "cell_type": "code",
   "execution_count": 24,
   "id": "c2a4204b-7216-4271-94b3-393fe749e76c",
   "metadata": {
    "tags": []
   },
   "outputs": [],
   "source": [
    "train_y = zv"
   ]
  },
  {
   "cell_type": "code",
   "execution_count": 32,
   "id": "aa49060a-c0fe-4362-bcec-5ac86c731735",
   "metadata": {
    "tags": []
   },
   "outputs": [
    {
     "data": {
      "text/plain": [
       "torch.Size([330000000, 2])"
      ]
     },
     "execution_count": 32,
     "metadata": {},
     "output_type": "execute_result"
    }
   ],
   "source": [
    "train_x.shape"
   ]
  },
  {
   "cell_type": "code",
   "execution_count": 33,
   "id": "e80427ce-f8c7-4515-a732-feabccfdd049",
   "metadata": {
    "tags": []
   },
   "outputs": [],
   "source": [
    "#setup model\n",
    "class GPModelWithDerivatives(gpytorch.models.ExactGP):\n",
    "    def __init__(self, train_x, train_y, likelihood):\n",
    "        super(GPModelWithDerivatives, self).__init__(train_x, train_y, likelihood)\n",
    "        self.mean_module = gpytorch.means.ConstantMeanGrad()\n",
    "        self.base_kernel = gpytorch.kernels.RBFKernelGrad(ard_num_dims=3) # this will use same kernel on each dim\n",
    "        self.covar_module = gpytorch.kernels.ScaleKernel(self.base_kernel)\n",
    "        \n",
    "    def forward(self, x):\n",
    "        mean_x = self.mean_module(x)\n",
    "        covar_x = self.covar_module(x)\n",
    "        return gpytorch.distributions.MultitaskMultivariateNormal(mean_x, covar_x)\n",
    "    \n",
    "likelihood = gpytorch.likelihoods.MultitaskGaussianLikelihood(num_tasks=4) #value + x,y,t derivative ? \n",
    "model = GPModelWithDerivatives(train_x, train_y, likelihood)"
   ]
  },
  {
   "cell_type": "code",
   "execution_count": 34,
   "id": "6b09a986-7ca2-4d77-ac79-858dfe069cf4",
   "metadata": {
    "tags": []
   },
   "outputs": [
    {
     "data": {
      "text/plain": [
       "GPModelWithDerivatives(\n",
       "  (likelihood): MultitaskGaussianLikelihood(\n",
       "    (raw_task_noises_constraint): GreaterThan(1.000E-04)\n",
       "    (raw_noise_constraint): GreaterThan(1.000E-04)\n",
       "  )\n",
       "  (mean_module): ConstantMeanGrad()\n",
       "  (base_kernel): RBFKernelGrad(\n",
       "    (raw_lengthscale_constraint): Positive()\n",
       "  )\n",
       "  (covar_module): ScaleKernel(\n",
       "    (base_kernel): RBFKernelGrad(\n",
       "      (raw_lengthscale_constraint): Positive()\n",
       "    )\n",
       "    (raw_outputscale_constraint): Positive()\n",
       "  )\n",
       ")"
      ]
     },
     "execution_count": 34,
     "metadata": {},
     "output_type": "execute_result"
    }
   ],
   "source": [
    "import os\n",
    "\n",
    "smoke_test = ('CI' in os.environ)\n",
    "training_iter = 2 if smoke_test else 50\n",
    "\n",
    "#optimize hyperparamters\n",
    "model.train()"
   ]
  },
  {
   "cell_type": "code",
   "execution_count": 35,
   "id": "3f787b65-2a0a-4892-8408-19a295de1d51",
   "metadata": {
    "tags": []
   },
   "outputs": [
    {
     "data": {
      "text/plain": [
       "MultitaskGaussianLikelihood(\n",
       "  (raw_task_noises_constraint): GreaterThan(1.000E-04)\n",
       "  (raw_noise_constraint): GreaterThan(1.000E-04)\n",
       ")"
      ]
     },
     "execution_count": 35,
     "metadata": {},
     "output_type": "execute_result"
    }
   ],
   "source": [
    "likelihood.train()"
   ]
  },
  {
   "cell_type": "code",
   "execution_count": 36,
   "id": "dba9f914-f4ae-4924-8e1c-fe8f2d4aa0e1",
   "metadata": {
    "tags": []
   },
   "outputs": [],
   "source": [
    "#optimizer\n",
    "optimizer = torch.optim.Adam(model.parameters(), lr=0.05) "
   ]
  },
  {
   "cell_type": "code",
   "execution_count": 37,
   "id": "5821c353-d856-40d4-b642-16e177cbbf9b",
   "metadata": {
    "tags": []
   },
   "outputs": [],
   "source": [
    "#optimizer\n",
    "optimizer = torch.optim.Adam(model.parameters(), lr=0.05) \n",
    "mll = gpytorch.mlls.ExactMarginalLogLikelihood(likelihood, model)"
   ]
  },
  {
   "cell_type": "code",
   "execution_count": 38,
   "id": "49ba7069-d24b-429e-8e3e-408f5d9abe21",
   "metadata": {
    "tags": []
   },
   "outputs": [
    {
     "ename": "RuntimeError",
     "evalue": "Storage size calculation overflowed with sizes=[1320000000, 1320000000]",
     "output_type": "error",
     "traceback": [
      "\u001b[0;31m---------------------------------------------------------------------------\u001b[0m",
      "\u001b[0;31mRuntimeError\u001b[0m                              Traceback (most recent call last)",
      "Cell \u001b[0;32mIn [38], line 4\u001b[0m\n\u001b[1;32m      2\u001b[0m optimizer\u001b[38;5;241m.\u001b[39mzero_grad()\n\u001b[1;32m      3\u001b[0m output \u001b[38;5;241m=\u001b[39m model(train_x)\n\u001b[0;32m----> 4\u001b[0m loss \u001b[38;5;241m=\u001b[39m \u001b[38;5;241m-\u001b[39m\u001b[43mmll\u001b[49m\u001b[43m(\u001b[49m\u001b[43moutput\u001b[49m\u001b[43m,\u001b[49m\u001b[43m \u001b[49m\u001b[43mtrain_y\u001b[49m\u001b[43m)\u001b[49m\n\u001b[1;32m      5\u001b[0m loss\u001b[38;5;241m.\u001b[39mbackward()\n\u001b[1;32m      6\u001b[0m \u001b[38;5;28mprint\u001b[39m(\u001b[38;5;124m\"\u001b[39m\u001b[38;5;124mIter \u001b[39m\u001b[38;5;132;01m%d\u001b[39;00m\u001b[38;5;124m/\u001b[39m\u001b[38;5;132;01m%d\u001b[39;00m\u001b[38;5;124m - Loss: \u001b[39m\u001b[38;5;132;01m%.3f\u001b[39;00m\u001b[38;5;124m   lengthscales: \u001b[39m\u001b[38;5;132;01m%.3f\u001b[39;00m\u001b[38;5;124m, \u001b[39m\u001b[38;5;132;01m%.3f\u001b[39;00m\u001b[38;5;124m, \u001b[39m\u001b[38;5;132;01m%.3f\u001b[39;00m\u001b[38;5;124m  noise: \u001b[39m\u001b[38;5;132;01m%.3f\u001b[39;00m\u001b[38;5;124m\"\u001b[39m \u001b[38;5;241m%\u001b[39m (\n\u001b[1;32m      7\u001b[0m     i \u001b[38;5;241m+\u001b[39m \u001b[38;5;241m1\u001b[39m, training_iter, loss\u001b[38;5;241m.\u001b[39mitem(),\n\u001b[1;32m      8\u001b[0m     model\u001b[38;5;241m.\u001b[39mcovar_module\u001b[38;5;241m.\u001b[39mbase_kernel\u001b[38;5;241m.\u001b[39mlengthscale\u001b[38;5;241m.\u001b[39msqueeze()[\u001b[38;5;241m0\u001b[39m],\n\u001b[0;32m   (...)\u001b[0m\n\u001b[1;32m     11\u001b[0m     model\u001b[38;5;241m.\u001b[39mlikelihood\u001b[38;5;241m.\u001b[39mnoise\u001b[38;5;241m.\u001b[39mitem()\n\u001b[1;32m     12\u001b[0m ))\n",
      "File \u001b[0;32m/srv/conda/envs/notebook/lib/python3.10/site-packages/gpytorch/module.py:31\u001b[0m, in \u001b[0;36mModule.__call__\u001b[0;34m(self, *inputs, **kwargs)\u001b[0m\n\u001b[1;32m     30\u001b[0m \u001b[38;5;28;01mdef\u001b[39;00m \u001b[38;5;21m__call__\u001b[39m(\u001b[38;5;28mself\u001b[39m, \u001b[38;5;241m*\u001b[39minputs, \u001b[38;5;241m*\u001b[39m\u001b[38;5;241m*\u001b[39mkwargs) \u001b[38;5;241m-\u001b[39m\u001b[38;5;241m>\u001b[39m Union[Tensor, Distribution, LinearOperator]:\n\u001b[0;32m---> 31\u001b[0m     outputs \u001b[38;5;241m=\u001b[39m \u001b[38;5;28;43mself\u001b[39;49m\u001b[38;5;241;43m.\u001b[39;49m\u001b[43mforward\u001b[49m\u001b[43m(\u001b[49m\u001b[38;5;241;43m*\u001b[39;49m\u001b[43minputs\u001b[49m\u001b[43m,\u001b[49m\u001b[43m \u001b[49m\u001b[38;5;241;43m*\u001b[39;49m\u001b[38;5;241;43m*\u001b[39;49m\u001b[43mkwargs\u001b[49m\u001b[43m)\u001b[49m\n\u001b[1;32m     32\u001b[0m     \u001b[38;5;28;01mif\u001b[39;00m \u001b[38;5;28misinstance\u001b[39m(outputs, \u001b[38;5;28mlist\u001b[39m):\n\u001b[1;32m     33\u001b[0m         \u001b[38;5;28;01mreturn\u001b[39;00m [_validate_module_outputs(output) \u001b[38;5;28;01mfor\u001b[39;00m output \u001b[38;5;129;01min\u001b[39;00m outputs]\n",
      "File \u001b[0;32m/srv/conda/envs/notebook/lib/python3.10/site-packages/gpytorch/mlls/exact_marginal_log_likelihood.py:63\u001b[0m, in \u001b[0;36mExactMarginalLogLikelihood.forward\u001b[0;34m(self, function_dist, target, *params)\u001b[0m\n\u001b[1;32m     60\u001b[0m     \u001b[38;5;28;01mraise\u001b[39;00m \u001b[38;5;167;01mRuntimeError\u001b[39;00m(\u001b[38;5;124m\"\u001b[39m\u001b[38;5;124mExactMarginalLogLikelihood can only operate on Gaussian random variables\u001b[39m\u001b[38;5;124m\"\u001b[39m)\n\u001b[1;32m     62\u001b[0m \u001b[38;5;66;03m# Get the log prob of the marginal distribution\u001b[39;00m\n\u001b[0;32m---> 63\u001b[0m output \u001b[38;5;241m=\u001b[39m \u001b[38;5;28;43mself\u001b[39;49m\u001b[38;5;241;43m.\u001b[39;49m\u001b[43mlikelihood\u001b[49m\u001b[43m(\u001b[49m\u001b[43mfunction_dist\u001b[49m\u001b[43m,\u001b[49m\u001b[43m \u001b[49m\u001b[38;5;241;43m*\u001b[39;49m\u001b[43mparams\u001b[49m\u001b[43m)\u001b[49m\n\u001b[1;32m     64\u001b[0m res \u001b[38;5;241m=\u001b[39m output\u001b[38;5;241m.\u001b[39mlog_prob(target)\n\u001b[1;32m     65\u001b[0m res \u001b[38;5;241m=\u001b[39m \u001b[38;5;28mself\u001b[39m\u001b[38;5;241m.\u001b[39m_add_other_terms(res, params)\n",
      "File \u001b[0;32m/srv/conda/envs/notebook/lib/python3.10/site-packages/gpytorch/likelihoods/likelihood.py:76\u001b[0m, in \u001b[0;36m_Likelihood.__call__\u001b[0;34m(self, input, *args, **kwargs)\u001b[0m\n\u001b[1;32m     74\u001b[0m \u001b[38;5;66;03m# Marginal\u001b[39;00m\n\u001b[1;32m     75\u001b[0m \u001b[38;5;28;01melif\u001b[39;00m \u001b[38;5;28misinstance\u001b[39m(\u001b[38;5;28minput\u001b[39m, MultivariateNormal):\n\u001b[0;32m---> 76\u001b[0m     \u001b[38;5;28;01mreturn\u001b[39;00m \u001b[38;5;28;43mself\u001b[39;49m\u001b[38;5;241;43m.\u001b[39;49m\u001b[43mmarginal\u001b[49m\u001b[43m(\u001b[49m\u001b[38;5;28;43minput\u001b[39;49m\u001b[43m,\u001b[49m\u001b[43m \u001b[49m\u001b[38;5;241;43m*\u001b[39;49m\u001b[43margs\u001b[49m\u001b[43m,\u001b[49m\u001b[43m \u001b[49m\u001b[38;5;241;43m*\u001b[39;49m\u001b[38;5;241;43m*\u001b[39;49m\u001b[43mkwargs\u001b[49m\u001b[43m)\u001b[49m\n\u001b[1;32m     77\u001b[0m \u001b[38;5;66;03m# Error\u001b[39;00m\n\u001b[1;32m     78\u001b[0m \u001b[38;5;28;01melse\u001b[39;00m:\n\u001b[1;32m     79\u001b[0m     \u001b[38;5;28;01mraise\u001b[39;00m \u001b[38;5;167;01mRuntimeError\u001b[39;00m(\n\u001b[1;32m     80\u001b[0m         \u001b[38;5;124m\"\u001b[39m\u001b[38;5;124mLikelihoods expects a MultivariateNormal input to make marginal predictions, or a \u001b[39m\u001b[38;5;124m\"\u001b[39m\n\u001b[1;32m     81\u001b[0m         \u001b[38;5;124m\"\u001b[39m\u001b[38;5;124mtorch.Tensor for conditional predictions. Got a \u001b[39m\u001b[38;5;132;01m{}\u001b[39;00m\u001b[38;5;124m\"\u001b[39m\u001b[38;5;241m.\u001b[39mformat(\u001b[38;5;28minput\u001b[39m\u001b[38;5;241m.\u001b[39m\u001b[38;5;18m__class__\u001b[39m\u001b[38;5;241m.\u001b[39m\u001b[38;5;18m__name__\u001b[39m)\n\u001b[1;32m     82\u001b[0m     )\n",
      "File \u001b[0;32m/srv/conda/envs/notebook/lib/python3.10/site-packages/gpytorch/likelihoods/multitask_gaussian_likelihood.py:299\u001b[0m, in \u001b[0;36mMultitaskGaussianLikelihood.marginal\u001b[0;34m(self, function_dist, *args, **kwargs)\u001b[0m\n\u001b[1;32m    293\u001b[0m \u001b[38;5;28;01mdef\u001b[39;00m \u001b[38;5;21mmarginal\u001b[39m(\n\u001b[1;32m    294\u001b[0m     \u001b[38;5;28mself\u001b[39m, function_dist: MultitaskMultivariateNormal, \u001b[38;5;241m*\u001b[39margs: Any, \u001b[38;5;241m*\u001b[39m\u001b[38;5;241m*\u001b[39mkwargs: Any\n\u001b[1;32m    295\u001b[0m ) \u001b[38;5;241m-\u001b[39m\u001b[38;5;241m>\u001b[39m MultitaskMultivariateNormal:\n\u001b[1;32m    296\u001b[0m \u001b[38;5;250m    \u001b[39m\u001b[38;5;124mr\u001b[39m\u001b[38;5;124;03m\"\"\"\u001b[39;00m\n\u001b[1;32m    297\u001b[0m \u001b[38;5;124;03m    :return: Analytic marginal :math:`p(\\mathbf y)`.\u001b[39;00m\n\u001b[1;32m    298\u001b[0m \u001b[38;5;124;03m    \"\"\"\u001b[39;00m\n\u001b[0;32m--> 299\u001b[0m     \u001b[38;5;28;01mreturn\u001b[39;00m \u001b[38;5;28;43msuper\u001b[39;49m\u001b[43m(\u001b[49m\u001b[43m)\u001b[49m\u001b[38;5;241;43m.\u001b[39;49m\u001b[43mmarginal\u001b[49m\u001b[43m(\u001b[49m\u001b[43mfunction_dist\u001b[49m\u001b[43m,\u001b[49m\u001b[43m \u001b[49m\u001b[38;5;241;43m*\u001b[39;49m\u001b[43margs\u001b[49m\u001b[43m,\u001b[49m\u001b[43m \u001b[49m\u001b[38;5;241;43m*\u001b[39;49m\u001b[38;5;241;43m*\u001b[39;49m\u001b[43mkwargs\u001b[49m\u001b[43m)\u001b[49m\n",
      "File \u001b[0;32m/srv/conda/envs/notebook/lib/python3.10/site-packages/gpytorch/likelihoods/multitask_gaussian_likelihood.py:107\u001b[0m, in \u001b[0;36m_MultitaskGaussianLikelihoodBase.marginal\u001b[0;34m(self, function_dist, *params, **kwargs)\u001b[0m\n\u001b[1;32m    105\u001b[0m \u001b[38;5;66;03m# ensure that sumKroneckerLT is actually called\u001b[39;00m\n\u001b[1;32m    106\u001b[0m \u001b[38;5;28;01mif\u001b[39;00m \u001b[38;5;28misinstance\u001b[39m(covar, LazyEvaluatedKernelTensor):\n\u001b[0;32m--> 107\u001b[0m     covar \u001b[38;5;241m=\u001b[39m \u001b[43mcovar\u001b[49m\u001b[38;5;241;43m.\u001b[39;49m\u001b[43mevaluate_kernel\u001b[49m\u001b[43m(\u001b[49m\u001b[43m)\u001b[49m\n\u001b[1;32m    109\u001b[0m covar_kron_lt \u001b[38;5;241m=\u001b[39m \u001b[38;5;28mself\u001b[39m\u001b[38;5;241m.\u001b[39m_shaped_noise_covar(\n\u001b[1;32m    110\u001b[0m     mean\u001b[38;5;241m.\u001b[39mshape, add_noise\u001b[38;5;241m=\u001b[39m\u001b[38;5;28mself\u001b[39m\u001b[38;5;241m.\u001b[39mhas_global_noise, interleaved\u001b[38;5;241m=\u001b[39mfunction_dist\u001b[38;5;241m.\u001b[39m_interleaved\n\u001b[1;32m    111\u001b[0m )\n\u001b[1;32m    112\u001b[0m covar \u001b[38;5;241m=\u001b[39m covar \u001b[38;5;241m+\u001b[39m covar_kron_lt\n",
      "File \u001b[0;32m/srv/conda/envs/notebook/lib/python3.10/site-packages/gpytorch/utils/memoize.py:59\u001b[0m, in \u001b[0;36m_cached.<locals>.g\u001b[0;34m(self, *args, **kwargs)\u001b[0m\n\u001b[1;32m     57\u001b[0m kwargs_pkl \u001b[38;5;241m=\u001b[39m pickle\u001b[38;5;241m.\u001b[39mdumps(kwargs)\n\u001b[1;32m     58\u001b[0m \u001b[38;5;28;01mif\u001b[39;00m \u001b[38;5;129;01mnot\u001b[39;00m _is_in_cache(\u001b[38;5;28mself\u001b[39m, cache_name, \u001b[38;5;241m*\u001b[39margs, kwargs_pkl\u001b[38;5;241m=\u001b[39mkwargs_pkl):\n\u001b[0;32m---> 59\u001b[0m     \u001b[38;5;28;01mreturn\u001b[39;00m _add_to_cache(\u001b[38;5;28mself\u001b[39m, cache_name, \u001b[43mmethod\u001b[49m\u001b[43m(\u001b[49m\u001b[38;5;28;43mself\u001b[39;49m\u001b[43m,\u001b[49m\u001b[43m \u001b[49m\u001b[38;5;241;43m*\u001b[39;49m\u001b[43margs\u001b[49m\u001b[43m,\u001b[49m\u001b[43m \u001b[49m\u001b[38;5;241;43m*\u001b[39;49m\u001b[38;5;241;43m*\u001b[39;49m\u001b[43mkwargs\u001b[49m\u001b[43m)\u001b[49m, \u001b[38;5;241m*\u001b[39margs, kwargs_pkl\u001b[38;5;241m=\u001b[39mkwargs_pkl)\n\u001b[1;32m     60\u001b[0m \u001b[38;5;28;01mreturn\u001b[39;00m _get_from_cache(\u001b[38;5;28mself\u001b[39m, cache_name, \u001b[38;5;241m*\u001b[39margs, kwargs_pkl\u001b[38;5;241m=\u001b[39mkwargs_pkl)\n",
      "File \u001b[0;32m/srv/conda/envs/notebook/lib/python3.10/site-packages/gpytorch/lazy/lazy_evaluated_kernel_tensor.py:25\u001b[0m, in \u001b[0;36mrecall_grad_state.<locals>.wrapped\u001b[0;34m(self, *args, **kwargs)\u001b[0m\n\u001b[1;32m     22\u001b[0m \u001b[38;5;129m@functools\u001b[39m\u001b[38;5;241m.\u001b[39mwraps(method)\n\u001b[1;32m     23\u001b[0m \u001b[38;5;28;01mdef\u001b[39;00m \u001b[38;5;21mwrapped\u001b[39m(\u001b[38;5;28mself\u001b[39m, \u001b[38;5;241m*\u001b[39margs, \u001b[38;5;241m*\u001b[39m\u001b[38;5;241m*\u001b[39mkwargs):\n\u001b[1;32m     24\u001b[0m     \u001b[38;5;28;01mwith\u001b[39;00m torch\u001b[38;5;241m.\u001b[39mset_grad_enabled(\u001b[38;5;28mself\u001b[39m\u001b[38;5;241m.\u001b[39m_is_grad_enabled):\n\u001b[0;32m---> 25\u001b[0m         output \u001b[38;5;241m=\u001b[39m \u001b[43mmethod\u001b[49m\u001b[43m(\u001b[49m\u001b[38;5;28;43mself\u001b[39;49m\u001b[43m,\u001b[49m\u001b[43m \u001b[49m\u001b[38;5;241;43m*\u001b[39;49m\u001b[43margs\u001b[49m\u001b[43m,\u001b[49m\u001b[43m \u001b[49m\u001b[38;5;241;43m*\u001b[39;49m\u001b[38;5;241;43m*\u001b[39;49m\u001b[43mkwargs\u001b[49m\u001b[43m)\u001b[49m\n\u001b[1;32m     26\u001b[0m     \u001b[38;5;28;01mreturn\u001b[39;00m output\n",
      "File \u001b[0;32m/srv/conda/envs/notebook/lib/python3.10/site-packages/gpytorch/lazy/lazy_evaluated_kernel_tensor.py:355\u001b[0m, in \u001b[0;36mLazyEvaluatedKernelTensor.evaluate_kernel\u001b[0;34m(self)\u001b[0m\n\u001b[1;32m    353\u001b[0m     temp_active_dims \u001b[38;5;241m=\u001b[39m \u001b[38;5;28mself\u001b[39m\u001b[38;5;241m.\u001b[39mkernel\u001b[38;5;241m.\u001b[39mactive_dims\n\u001b[1;32m    354\u001b[0m     \u001b[38;5;28mself\u001b[39m\u001b[38;5;241m.\u001b[39mkernel\u001b[38;5;241m.\u001b[39mactive_dims \u001b[38;5;241m=\u001b[39m \u001b[38;5;28;01mNone\u001b[39;00m\n\u001b[0;32m--> 355\u001b[0m     res \u001b[38;5;241m=\u001b[39m \u001b[38;5;28;43mself\u001b[39;49m\u001b[38;5;241;43m.\u001b[39;49m\u001b[43mkernel\u001b[49m\u001b[43m(\u001b[49m\n\u001b[1;32m    356\u001b[0m \u001b[43m        \u001b[49m\u001b[43mx1\u001b[49m\u001b[43m,\u001b[49m\n\u001b[1;32m    357\u001b[0m \u001b[43m        \u001b[49m\u001b[43mx2\u001b[49m\u001b[43m,\u001b[49m\n\u001b[1;32m    358\u001b[0m \u001b[43m        \u001b[49m\u001b[43mdiag\u001b[49m\u001b[38;5;241;43m=\u001b[39;49m\u001b[38;5;28;43;01mFalse\u001b[39;49;00m\u001b[43m,\u001b[49m\n\u001b[1;32m    359\u001b[0m \u001b[43m        \u001b[49m\u001b[43mlast_dim_is_batch\u001b[49m\u001b[38;5;241;43m=\u001b[39;49m\u001b[38;5;28;43mself\u001b[39;49m\u001b[38;5;241;43m.\u001b[39;49m\u001b[43mlast_dim_is_batch\u001b[49m\u001b[43m,\u001b[49m\n\u001b[1;32m    360\u001b[0m \u001b[43m        \u001b[49m\u001b[38;5;241;43m*\u001b[39;49m\u001b[38;5;241;43m*\u001b[39;49m\u001b[38;5;28;43mself\u001b[39;49m\u001b[38;5;241;43m.\u001b[39;49m\u001b[43mparams\u001b[49m\u001b[43m,\u001b[49m\n\u001b[1;32m    361\u001b[0m \u001b[43m    \u001b[49m\u001b[43m)\u001b[49m\n\u001b[1;32m    362\u001b[0m     \u001b[38;5;28mself\u001b[39m\u001b[38;5;241m.\u001b[39mkernel\u001b[38;5;241m.\u001b[39mactive_dims \u001b[38;5;241m=\u001b[39m temp_active_dims\n\u001b[1;32m    364\u001b[0m \u001b[38;5;66;03m# Check the size of the output\u001b[39;00m\n",
      "File \u001b[0;32m/srv/conda/envs/notebook/lib/python3.10/site-packages/gpytorch/kernels/kernel.py:530\u001b[0m, in \u001b[0;36mKernel.__call__\u001b[0;34m(self, x1, x2, diag, last_dim_is_batch, **params)\u001b[0m\n\u001b[1;32m    527\u001b[0m     res \u001b[38;5;241m=\u001b[39m LazyEvaluatedKernelTensor(x1_, x2_, kernel\u001b[38;5;241m=\u001b[39m\u001b[38;5;28mself\u001b[39m, last_dim_is_batch\u001b[38;5;241m=\u001b[39mlast_dim_is_batch, \u001b[38;5;241m*\u001b[39m\u001b[38;5;241m*\u001b[39mparams)\n\u001b[1;32m    528\u001b[0m \u001b[38;5;28;01melse\u001b[39;00m:\n\u001b[1;32m    529\u001b[0m     res \u001b[38;5;241m=\u001b[39m to_linear_operator(\n\u001b[0;32m--> 530\u001b[0m         \u001b[38;5;28;43msuper\u001b[39;49m\u001b[43m(\u001b[49m\u001b[43mKernel\u001b[49m\u001b[43m,\u001b[49m\u001b[43m \u001b[49m\u001b[38;5;28;43mself\u001b[39;49m\u001b[43m)\u001b[49m\u001b[38;5;241;43m.\u001b[39;49m\u001b[38;5;21;43m__call__\u001b[39;49m\u001b[43m(\u001b[49m\u001b[43mx1_\u001b[49m\u001b[43m,\u001b[49m\u001b[43m \u001b[49m\u001b[43mx2_\u001b[49m\u001b[43m,\u001b[49m\u001b[43m \u001b[49m\u001b[43mlast_dim_is_batch\u001b[49m\u001b[38;5;241;43m=\u001b[39;49m\u001b[43mlast_dim_is_batch\u001b[49m\u001b[43m,\u001b[49m\u001b[43m \u001b[49m\u001b[38;5;241;43m*\u001b[39;49m\u001b[38;5;241;43m*\u001b[39;49m\u001b[43mparams\u001b[49m\u001b[43m)\u001b[49m\n\u001b[1;32m    531\u001b[0m     )\n\u001b[1;32m    532\u001b[0m \u001b[38;5;28;01mreturn\u001b[39;00m res\n",
      "File \u001b[0;32m/srv/conda/envs/notebook/lib/python3.10/site-packages/gpytorch/module.py:31\u001b[0m, in \u001b[0;36mModule.__call__\u001b[0;34m(self, *inputs, **kwargs)\u001b[0m\n\u001b[1;32m     30\u001b[0m \u001b[38;5;28;01mdef\u001b[39;00m \u001b[38;5;21m__call__\u001b[39m(\u001b[38;5;28mself\u001b[39m, \u001b[38;5;241m*\u001b[39minputs, \u001b[38;5;241m*\u001b[39m\u001b[38;5;241m*\u001b[39mkwargs) \u001b[38;5;241m-\u001b[39m\u001b[38;5;241m>\u001b[39m Union[Tensor, Distribution, LinearOperator]:\n\u001b[0;32m---> 31\u001b[0m     outputs \u001b[38;5;241m=\u001b[39m \u001b[38;5;28;43mself\u001b[39;49m\u001b[38;5;241;43m.\u001b[39;49m\u001b[43mforward\u001b[49m\u001b[43m(\u001b[49m\u001b[38;5;241;43m*\u001b[39;49m\u001b[43minputs\u001b[49m\u001b[43m,\u001b[49m\u001b[43m \u001b[49m\u001b[38;5;241;43m*\u001b[39;49m\u001b[38;5;241;43m*\u001b[39;49m\u001b[43mkwargs\u001b[49m\u001b[43m)\u001b[49m\n\u001b[1;32m     32\u001b[0m     \u001b[38;5;28;01mif\u001b[39;00m \u001b[38;5;28misinstance\u001b[39m(outputs, \u001b[38;5;28mlist\u001b[39m):\n\u001b[1;32m     33\u001b[0m         \u001b[38;5;28;01mreturn\u001b[39;00m [_validate_module_outputs(output) \u001b[38;5;28;01mfor\u001b[39;00m output \u001b[38;5;129;01min\u001b[39;00m outputs]\n",
      "File \u001b[0;32m/srv/conda/envs/notebook/lib/python3.10/site-packages/gpytorch/kernels/scale_kernel.py:109\u001b[0m, in \u001b[0;36mScaleKernel.forward\u001b[0;34m(self, x1, x2, last_dim_is_batch, diag, **params)\u001b[0m\n\u001b[1;32m    108\u001b[0m \u001b[38;5;28;01mdef\u001b[39;00m \u001b[38;5;21mforward\u001b[39m(\u001b[38;5;28mself\u001b[39m, x1, x2, last_dim_is_batch\u001b[38;5;241m=\u001b[39m\u001b[38;5;28;01mFalse\u001b[39;00m, diag\u001b[38;5;241m=\u001b[39m\u001b[38;5;28;01mFalse\u001b[39;00m, \u001b[38;5;241m*\u001b[39m\u001b[38;5;241m*\u001b[39mparams):\n\u001b[0;32m--> 109\u001b[0m     orig_output \u001b[38;5;241m=\u001b[39m \u001b[38;5;28;43mself\u001b[39;49m\u001b[38;5;241;43m.\u001b[39;49m\u001b[43mbase_kernel\u001b[49m\u001b[38;5;241;43m.\u001b[39;49m\u001b[43mforward\u001b[49m\u001b[43m(\u001b[49m\u001b[43mx1\u001b[49m\u001b[43m,\u001b[49m\u001b[43m \u001b[49m\u001b[43mx2\u001b[49m\u001b[43m,\u001b[49m\u001b[43m \u001b[49m\u001b[43mdiag\u001b[49m\u001b[38;5;241;43m=\u001b[39;49m\u001b[43mdiag\u001b[49m\u001b[43m,\u001b[49m\u001b[43m \u001b[49m\u001b[43mlast_dim_is_batch\u001b[49m\u001b[38;5;241;43m=\u001b[39;49m\u001b[43mlast_dim_is_batch\u001b[49m\u001b[43m,\u001b[49m\u001b[43m \u001b[49m\u001b[38;5;241;43m*\u001b[39;49m\u001b[38;5;241;43m*\u001b[39;49m\u001b[43mparams\u001b[49m\u001b[43m)\u001b[49m\n\u001b[1;32m    110\u001b[0m     outputscales \u001b[38;5;241m=\u001b[39m \u001b[38;5;28mself\u001b[39m\u001b[38;5;241m.\u001b[39moutputscale\n\u001b[1;32m    111\u001b[0m     \u001b[38;5;28;01mif\u001b[39;00m last_dim_is_batch:\n",
      "File \u001b[0;32m/srv/conda/envs/notebook/lib/python3.10/site-packages/gpytorch/kernels/rbf_kernel_grad.py:60\u001b[0m, in \u001b[0;36mRBFKernelGrad.forward\u001b[0;34m(self, x1, x2, diag, **params)\u001b[0m\n\u001b[1;32m     57\u001b[0m n1, d \u001b[38;5;241m=\u001b[39m x1\u001b[38;5;241m.\u001b[39mshape[\u001b[38;5;241m-\u001b[39m\u001b[38;5;241m2\u001b[39m:]\n\u001b[1;32m     58\u001b[0m n2 \u001b[38;5;241m=\u001b[39m x2\u001b[38;5;241m.\u001b[39mshape[\u001b[38;5;241m-\u001b[39m\u001b[38;5;241m2\u001b[39m]\n\u001b[0;32m---> 60\u001b[0m K \u001b[38;5;241m=\u001b[39m \u001b[43mtorch\u001b[49m\u001b[38;5;241;43m.\u001b[39;49m\u001b[43mzeros\u001b[49m\u001b[43m(\u001b[49m\u001b[38;5;241;43m*\u001b[39;49m\u001b[43mbatch_shape\u001b[49m\u001b[43m,\u001b[49m\u001b[43m \u001b[49m\u001b[43mn1\u001b[49m\u001b[43m \u001b[49m\u001b[38;5;241;43m*\u001b[39;49m\u001b[43m \u001b[49m\u001b[43m(\u001b[49m\u001b[43md\u001b[49m\u001b[43m \u001b[49m\u001b[38;5;241;43m+\u001b[39;49m\u001b[43m \u001b[49m\u001b[38;5;241;43m1\u001b[39;49m\u001b[43m)\u001b[49m\u001b[43m,\u001b[49m\u001b[43m \u001b[49m\u001b[43mn2\u001b[49m\u001b[43m \u001b[49m\u001b[38;5;241;43m*\u001b[39;49m\u001b[43m \u001b[49m\u001b[43m(\u001b[49m\u001b[43md\u001b[49m\u001b[43m \u001b[49m\u001b[38;5;241;43m+\u001b[39;49m\u001b[43m \u001b[49m\u001b[38;5;241;43m1\u001b[39;49m\u001b[43m)\u001b[49m\u001b[43m,\u001b[49m\u001b[43m \u001b[49m\u001b[43mdevice\u001b[49m\u001b[38;5;241;43m=\u001b[39;49m\u001b[43mx1\u001b[49m\u001b[38;5;241;43m.\u001b[39;49m\u001b[43mdevice\u001b[49m\u001b[43m,\u001b[49m\u001b[43m \u001b[49m\u001b[43mdtype\u001b[49m\u001b[38;5;241;43m=\u001b[39;49m\u001b[43mx1\u001b[49m\u001b[38;5;241;43m.\u001b[39;49m\u001b[43mdtype\u001b[49m\u001b[43m)\u001b[49m\n\u001b[1;32m     62\u001b[0m \u001b[38;5;28;01mif\u001b[39;00m \u001b[38;5;129;01mnot\u001b[39;00m diag:\n\u001b[1;32m     63\u001b[0m     \u001b[38;5;66;03m# Scale the inputs by the lengthscale (for stability)\u001b[39;00m\n\u001b[1;32m     64\u001b[0m     x1_ \u001b[38;5;241m=\u001b[39m x1\u001b[38;5;241m.\u001b[39mdiv(\u001b[38;5;28mself\u001b[39m\u001b[38;5;241m.\u001b[39mlengthscale)\n",
      "\u001b[0;31mRuntimeError\u001b[0m: Storage size calculation overflowed with sizes=[1320000000, 1320000000]"
     ]
    }
   ],
   "source": [
    "for i in range(training_iter):\n",
    "    optimizer.zero_grad()\n",
    "    output = model(train_x)\n",
    "    loss = -mll(output, train_y)\n",
    "    loss.backward()\n",
    "    print(\"Iter %d/%d - Loss: %.3f   lengthscales: %.3f, %.3f, %.3f  noise: %.3f\" % (\n",
    "        i + 1, training_iter, loss.item(),\n",
    "        model.covar_module.base_kernel.lengthscale.squeeze()[0],\n",
    "        model.covar_module.base_kernel.lengthscale.squeeze()[1],\n",
    "        model.covar_module.base_kernel.lengthscale.squeeze()[2],\n",
    "        model.likelihood.noise.item()\n",
    "    ))\n",
    "    optimizer.step()"
   ]
  },
  {
   "cell_type": "code",
   "execution_count": null,
   "id": "0258dba2-4611-4720-b743-45e59233a5e7",
   "metadata": {},
   "outputs": [],
   "source": []
  },
  {
   "cell_type": "markdown",
   "id": "6d0ce5cc-22b6-4585-94f6-919ab6d94f6b",
   "metadata": {},
   "source": [
    "## example in gh issue"
   ]
  },
  {
   "cell_type": "code",
   "execution_count": 6,
   "id": "a1bbb8b1-7273-46d6-80ba-364062ccde79",
   "metadata": {
    "tags": []
   },
   "outputs": [],
   "source": [
    "# data setup example\n",
    "\n",
    "L = [i for i in range(20)]\n",
    "A = [i for i in range(5)]\n",
    "T = [i for i in range(30)]"
   ]
  },
  {
   "cell_type": "code",
   "execution_count": 24,
   "id": "40faf3f6-e0cc-4036-a4c0-7842c05e21b6",
   "metadata": {
    "tags": []
   },
   "outputs": [
    {
     "data": {
      "text/plain": [
       "[0, 1, 2, 3, 4, 5, 6, 7, 8, 9, 10, 11, 12, 13, 14, 15, 16, 17, 18, 19]"
      ]
     },
     "execution_count": 24,
     "metadata": {},
     "output_type": "execute_result"
    }
   ],
   "source": [
    "L"
   ]
  },
  {
   "cell_type": "code",
   "execution_count": 7,
   "id": "b5b6fe4d-b24b-48d9-96d3-18d2b20496c0",
   "metadata": {
    "tags": []
   },
   "outputs": [],
   "source": [
    "def cartesian(*arrays):\n",
    "    mesh = np.meshgrid(*arrays) \n",
    "    dim = len(mesh)\n",
    "    elements = mesh[0].size\n",
    "    flat = np.concatenate(mesh).ravel() #flatten mesh grid\n",
    "    reshape = np.reshape(flat, (dim, elements)).T \n",
    "    return reshape"
   ]
  },
  {
   "cell_type": "code",
   "execution_count": 8,
   "id": "dc30f465-6b0c-4129-a76b-3ace1c6340ca",
   "metadata": {
    "tags": []
   },
   "outputs": [],
   "source": [
    "def cartesian(*arrays):\n",
    "    mesh = np.meshgrid(*arrays) \n",
    "    dim = len(mesh)\n",
    "    elements = mesh[0].size\n",
    "    flat = np.concatenate(mesh).ravel() #flatten mesh grid\n",
    "    reshape = np.reshape(flat, (dim, elements)).T \n",
    "    return reshape\n",
    "def prep_data(name_list, *arrays):\n",
    "    cartprod = cartesian(*arrays)\n",
    "    dout = pd.DataFrame(cartprod)\n",
    "    dout.columns = name_list\n",
    "    return dout"
   ]
  },
  {
   "cell_type": "code",
   "execution_count": 11,
   "id": "ab4f5592-7ab3-4a52-8fee-cfd90455df64",
   "metadata": {
    "tags": []
   },
   "outputs": [],
   "source": [
    "dtt = prep_data(['L','A','T'], L,A,T)"
   ]
  },
  {
   "cell_type": "code",
   "execution_count": 25,
   "id": "34c92e71-7c6f-4425-8967-0173bdfee798",
   "metadata": {
    "tags": []
   },
   "outputs": [
    {
     "data": {
      "text/html": [
       "<div>\n",
       "<style scoped>\n",
       "    .dataframe tbody tr th:only-of-type {\n",
       "        vertical-align: middle;\n",
       "    }\n",
       "\n",
       "    .dataframe tbody tr th {\n",
       "        vertical-align: top;\n",
       "    }\n",
       "\n",
       "    .dataframe thead th {\n",
       "        text-align: right;\n",
       "    }\n",
       "</style>\n",
       "<table border=\"1\" class=\"dataframe\">\n",
       "  <thead>\n",
       "    <tr style=\"text-align: right;\">\n",
       "      <th></th>\n",
       "      <th>L</th>\n",
       "      <th>A</th>\n",
       "      <th>T</th>\n",
       "      <th>x1</th>\n",
       "      <th>x2</th>\n",
       "      <th>y</th>\n",
       "    </tr>\n",
       "  </thead>\n",
       "  <tbody>\n",
       "    <tr>\n",
       "      <th>0</th>\n",
       "      <td>0</td>\n",
       "      <td>0</td>\n",
       "      <td>0</td>\n",
       "      <td>0.912498</td>\n",
       "      <td>0.815313</td>\n",
       "      <td>0.900489</td>\n",
       "    </tr>\n",
       "    <tr>\n",
       "      <th>1</th>\n",
       "      <td>0</td>\n",
       "      <td>0</td>\n",
       "      <td>1</td>\n",
       "      <td>0.019954</td>\n",
       "      <td>0.787148</td>\n",
       "      <td>0.416830</td>\n",
       "    </tr>\n",
       "    <tr>\n",
       "      <th>2</th>\n",
       "      <td>0</td>\n",
       "      <td>0</td>\n",
       "      <td>2</td>\n",
       "      <td>0.848768</td>\n",
       "      <td>0.158743</td>\n",
       "      <td>0.864775</td>\n",
       "    </tr>\n",
       "    <tr>\n",
       "      <th>3</th>\n",
       "      <td>0</td>\n",
       "      <td>0</td>\n",
       "      <td>3</td>\n",
       "      <td>0.714632</td>\n",
       "      <td>0.907067</td>\n",
       "      <td>0.562938</td>\n",
       "    </tr>\n",
       "    <tr>\n",
       "      <th>4</th>\n",
       "      <td>0</td>\n",
       "      <td>0</td>\n",
       "      <td>4</td>\n",
       "      <td>0.427587</td>\n",
       "      <td>0.267526</td>\n",
       "      <td>0.484298</td>\n",
       "    </tr>\n",
       "    <tr>\n",
       "      <th>...</th>\n",
       "      <td>...</td>\n",
       "      <td>...</td>\n",
       "      <td>...</td>\n",
       "      <td>...</td>\n",
       "      <td>...</td>\n",
       "      <td>...</td>\n",
       "    </tr>\n",
       "    <tr>\n",
       "      <th>2995</th>\n",
       "      <td>19</td>\n",
       "      <td>4</td>\n",
       "      <td>25</td>\n",
       "      <td>0.352169</td>\n",
       "      <td>0.420273</td>\n",
       "      <td>0.479850</td>\n",
       "    </tr>\n",
       "    <tr>\n",
       "      <th>2996</th>\n",
       "      <td>19</td>\n",
       "      <td>4</td>\n",
       "      <td>26</td>\n",
       "      <td>0.438640</td>\n",
       "      <td>0.282048</td>\n",
       "      <td>0.283001</td>\n",
       "    </tr>\n",
       "    <tr>\n",
       "      <th>2997</th>\n",
       "      <td>19</td>\n",
       "      <td>4</td>\n",
       "      <td>27</td>\n",
       "      <td>0.712919</td>\n",
       "      <td>0.437210</td>\n",
       "      <td>0.363307</td>\n",
       "    </tr>\n",
       "    <tr>\n",
       "      <th>2998</th>\n",
       "      <td>19</td>\n",
       "      <td>4</td>\n",
       "      <td>28</td>\n",
       "      <td>0.839065</td>\n",
       "      <td>0.659513</td>\n",
       "      <td>0.772225</td>\n",
       "    </tr>\n",
       "    <tr>\n",
       "      <th>2999</th>\n",
       "      <td>19</td>\n",
       "      <td>4</td>\n",
       "      <td>29</td>\n",
       "      <td>0.380232</td>\n",
       "      <td>0.250534</td>\n",
       "      <td>0.213230</td>\n",
       "    </tr>\n",
       "  </tbody>\n",
       "</table>\n",
       "<p>3000 rows × 6 columns</p>\n",
       "</div>"
      ],
      "text/plain": [
       "       L  A   T        x1        x2         y\n",
       "0      0  0   0  0.912498  0.815313  0.900489\n",
       "1      0  0   1  0.019954  0.787148  0.416830\n",
       "2      0  0   2  0.848768  0.158743  0.864775\n",
       "3      0  0   3  0.714632  0.907067  0.562938\n",
       "4      0  0   4  0.427587  0.267526  0.484298\n",
       "...   .. ..  ..       ...       ...       ...\n",
       "2995  19  4  25  0.352169  0.420273  0.479850\n",
       "2996  19  4  26  0.438640  0.282048  0.283001\n",
       "2997  19  4  27  0.712919  0.437210  0.363307\n",
       "2998  19  4  28  0.839065  0.659513  0.772225\n",
       "2999  19  4  29  0.380232  0.250534  0.213230\n",
       "\n",
       "[3000 rows x 6 columns]"
      ]
     },
     "execution_count": 25,
     "metadata": {},
     "output_type": "execute_result"
    }
   ],
   "source": [
    "dtt"
   ]
  },
  {
   "cell_type": "code",
   "execution_count": 12,
   "id": "6b75142e-c592-4266-8399-af924cd9fc9a",
   "metadata": {
    "tags": []
   },
   "outputs": [],
   "source": [
    "#simulate random values\n",
    "beta_x1 = 0.4\n",
    "beta_x2 = 0.3\n",
    "LL_noise = 0.25"
   ]
  },
  {
   "cell_type": "code",
   "execution_count": 13,
   "id": "ae145bdc-f2a0-4d06-87ec-d6e4f853f80a",
   "metadata": {
    "tags": []
   },
   "outputs": [],
   "source": [
    "dtt['x1'] = np.random.uniform(size=dtt.shape[0])\n",
    "dtt['x2'] = np.random.uniform(size=dtt.shape[0])\n",
    "dtt['y'] = beta_x1*dtt['x1'] + beta_x2*dtt['x2'] + np.random.normal(scale=LL_noise, size = dtt.shape[0])"
   ]
  },
  {
   "cell_type": "code",
   "execution_count": 17,
   "id": "683572b6-0bd3-4e84-bc64-de6be7975be3",
   "metadata": {
    "tags": []
   },
   "outputs": [],
   "source": [
    "train_x = torch.from_numpy(dtt[['x1','x2','L','A','T']].values.astype(np.double)).to(torch.float)\n",
    "train_y = torch.from_numpy(dtt[['y']].values[:,0].astype(np.double)).to(torch.float)\n",
    "test_x = torch.from_numpy(dtt[['x1','x2','L','A','T']].values.astype(np.double)).to(torch.float)"
   ]
  },
  {
   "cell_type": "code",
   "execution_count": 19,
   "id": "c710159e-464e-4c9a-8fdc-9df635dccace",
   "metadata": {
    "tags": []
   },
   "outputs": [
    {
     "data": {
      "text/plain": [
       "torch.Size([3000, 5])"
      ]
     },
     "execution_count": 19,
     "metadata": {},
     "output_type": "execute_result"
    }
   ],
   "source": [
    "train_x.shape"
   ]
  },
  {
   "cell_type": "code",
   "execution_count": 21,
   "id": "2254adf5-7e43-4d88-bee7-163da91f9fe0",
   "metadata": {
    "tags": []
   },
   "outputs": [
    {
     "data": {
      "text/plain": [
       "torch.Size([3000])"
      ]
     },
     "execution_count": 21,
     "metadata": {},
     "output_type": "execute_result"
    }
   ],
   "source": [
    "train_y.shape"
   ]
  },
  {
   "cell_type": "code",
   "execution_count": 23,
   "id": "11ca941b-267d-479d-8461-fb741c10c608",
   "metadata": {
    "tags": []
   },
   "outputs": [
    {
     "data": {
      "text/plain": [
       "torch.Size([3000, 5])"
      ]
     },
     "execution_count": 23,
     "metadata": {},
     "output_type": "execute_result"
    }
   ],
   "source": [
    "test_x.shape"
   ]
  },
  {
   "cell_type": "markdown",
   "id": "c81f441d-7b37-468a-b1c1-caa1e8e7cfaa",
   "metadata": {},
   "source": [
    "### setup training data of spatial mean"
   ]
  },
  {
   "cell_type": "code",
   "execution_count": 111,
   "id": "ed9d2260-a3ed-4833-9a21-f0b0a1428cf8",
   "metadata": {},
   "outputs": [],
   "source": [
    "import numpy as np\n",
    "train_z_time_only = torch.from_numpy(z_time_only)\n",
    "train_time = torch.from_numpy(time_int)"
   ]
  },
  {
   "cell_type": "code",
   "execution_count": 112,
   "id": "69bf17ed-6547-47dd-8d61-a7880c177d10",
   "metadata": {},
   "outputs": [
    {
     "data": {
      "text/plain": [
       "torch.Size([29])"
      ]
     },
     "execution_count": 112,
     "metadata": {},
     "output_type": "execute_result"
    }
   ],
   "source": [
    "train_z_time_only.shape"
   ]
  },
  {
   "cell_type": "code",
   "execution_count": 148,
   "id": "faa539c5-53a3-4dfe-89b9-142b21ebfd63",
   "metadata": {},
   "outputs": [
    {
     "data": {
      "text/plain": [
       "[<matplotlib.lines.Line2D at 0x7faab99ac050>]"
      ]
     },
     "execution_count": 148,
     "metadata": {},
     "output_type": "execute_result"
    },
    {
     "data": {
      "image/png": "[encoded data removed]",
      "text/plain": [
       "<Figure size 640x480 with 1 Axes>"
      ]
     },
     "metadata": {},
     "output_type": "display_data"
    }
   ],
   "source": [
    "plt.plot(train_time.numpy(), train_z_time_only.numpy(), 'w*')"
   ]
  },
  {
   "cell_type": "code",
   "execution_count": 154,
   "id": "a97da56a-884d-4971-964c-c25a8837c6f4",
   "metadata": {},
   "outputs": [
    {
     "data": {
      "text/plain": [
       "torch.Size([29, 1000, 1000])"
      ]
     },
     "execution_count": 154,
     "metadata": {},
     "output_type": "execute_result"
    }
   ],
   "source": [
    "train_z_3d.shape"
   ]
  },
  {
   "cell_type": "markdown",
   "id": "cdcc111b-df07-4372-b99a-cbaea7da644f",
   "metadata": {},
   "source": [
    "## Build gp"
   ]
  },
  {
   "cell_type": "code",
   "execution_count": 224,
   "id": "15c28648-b820-4a63-b0a8-b391ba985169",
   "metadata": {},
   "outputs": [],
   "source": [
    "class Kernel(gpytorch.kernels.Kernel):\n",
    "    def __init__(self):\n",
    "        super(Kernel, self).__init__()\n",
    "        self.matern_kernel = gpytorch.kernels.ScaleKernel(gpytorch.kernels.MaternKernel(nu=3/2), num_dims=3, active_dims=[0,1,2])\n",
    "        self.periodic_kernel = gpytorch.kernels.PeriodicKernel(num_dims=3, active_dims=[0])\n",
    "        #self.noise_kernel = gpytorch.kernels.WhiteNoiseKernel()\n",
    "    def forward(self, x1, x2, **params):\n",
    "        #    cov = kernel.forward(X, X).evaluate().detach().numpy()[0, :, :] <--- need to specify dims for each kernel doign something like this\n",
    "        # from https://github.com/cornellius-gp/gpytorch/issues/526               but where forward called on kernel ? \n",
    "        matern_term = self.matern_kernel(x1, x2, **params)\n",
    "        periodic_term = self.periodic_kernel(x1, x2, **params)\n",
    "        return matern_term + periodic_term + WhiteNoiseKernel()"
   ]
  },
  {
   "cell_type": "code",
   "execution_count": 225,
   "id": "5d93c57a-7d77-4d88-af53-58ec7bc5d2cb",
   "metadata": {},
   "outputs": [],
   "source": [
    "test_kernel = Kernel()"
   ]
  },
  {
   "cell_type": "code",
   "execution_count": 226,
   "id": "a7743bb3-65d5-47db-b90a-002eaf0c545d",
   "metadata": {},
   "outputs": [
    {
     "data": {
      "text/plain": [
       "Kernel(\n",
       "  (matern_kernel): ScaleKernel(\n",
       "    (base_kernel): MaternKernel(\n",
       "      (raw_lengthscale_constraint): Positive()\n",
       "    )\n",
       "    (raw_outputscale_constraint): Positive()\n",
       "  )\n",
       "  (periodic_kernel): PeriodicKernel(\n",
       "    (raw_lengthscale_constraint): Positive()\n",
       "    (raw_period_length_constraint): Positive()\n",
       "  )\n",
       ")"
      ]
     },
     "execution_count": 226,
     "metadata": {},
     "output_type": "execute_result"
    }
   ],
   "source": [
    "test_kernel"
   ]
  },
  {
   "cell_type": "code",
   "execution_count": 57,
   "id": "b9d8c027-ee2c-45e3-ba3f-61d3abb6ed75",
   "metadata": {
    "tags": []
   },
   "outputs": [],
   "source": [
    "class Kernel(gpytorch.kernels.Kernel):\n",
    "    def __init__(self):\n",
    "        super(Kernel, self).__init__()\n",
    "        self.matern_kernel = gpytorch.kernels.ScaleKernel(gpytorch.kernels.MaternKernel(nu=3/2), num_dims=3, active_dims=[0,1,2])\n",
    "        self.periodic_kernel = gpytorch.kernels.PeriodicKernel(num_dims=3, active_dims=[0])\n",
    "        #self.noise_kernel = gpytorch.kernels.WhiteNoiseKernel()\n",
    "    def forward(self, x1, x2, **params):\n",
    "        #    cov = kernel.forward(X, X).evaluate().detach().numpy()[0, :, :] <--- need to specify dims for each kernel doign something like this\n",
    "        # from https://github.com/cornellius-gp/gpytorch/issues/526               but where forward called on kernel ? \n",
    "        matern_term = self.matern_kernel(x1, x2, **params)\n",
    "        periodic_term = self.periodic_kernel(x1, x2, **params)\n",
    "        return matern_term + periodic_term + WhiteNoiseKernel()\n",
    "\n",
    "test_kernel = Kernel()\n",
    "\n",
    "class GP(gpytorch.models.ExactGP):\n",
    "    def __init__(self, x_train, y_train, time_train, likelihood):\n",
    "        super(GP, self).__init__(x_train, y_train, likelihood)\n",
    "        self.mean = gpytorch.means.ConstantMean()\n",
    "        self.cov_time = test_kernel#.forward(x,x).evaluate().detach().numpy()[0,:,:]\n",
    "        #then do something like the above for each dim ? \n",
    "        #self.cov.initialize_from_data(x_train, y_train)\n",
    "        \n",
    "    def forward(self, x1, x2):\n",
    "        # Evaluate the mean and kernel function at x\n",
    "        mean_x = self.mean(x)\n",
    "        cov_x = self.cov(x)\n",
    "        # Return the multivariate normal distribution using the evaluated mean and kernel function\n",
    "        return gpytorch.distributions.MultivariateNormal(mean_x, cov_x) \n"
   ]
  },
  {
   "cell_type": "code",
   "execution_count": 58,
   "id": "3e1d60ab-a4fe-4e14-9a45-3b2234691a19",
   "metadata": {
    "tags": []
   },
   "outputs": [],
   "source": [
    "#x_tensor, y_tensor_time_tensor"
   ]
  },
  {
   "cell_type": "code",
   "execution_count": 59,
   "id": "48722e70-fadb-43af-b9ef-416d3bc6fc59",
   "metadata": {
    "tags": []
   },
   "outputs": [
    {
     "ename": "NameError",
     "evalue": "name 'x_tensor' is not defined",
     "output_type": "error",
     "traceback": [
      "\u001b[0;31m---------------------------------------------------------------------------\u001b[0m",
      "\u001b[0;31mNameError\u001b[0m                                 Traceback (most recent call last)",
      "Cell \u001b[0;32mIn [59], line 3\u001b[0m\n\u001b[1;32m      1\u001b[0m likelihood \u001b[38;5;241m=\u001b[39m gpytorch\u001b[38;5;241m.\u001b[39mlikelihoods\u001b[38;5;241m.\u001b[39mGaussianLikelihood()\n\u001b[0;32m----> 3\u001b[0m model \u001b[38;5;241m=\u001b[39m GP(\u001b[43mx_tensor\u001b[49m, y_tensor, time_tensor, likelihood)\n",
      "\u001b[0;31mNameError\u001b[0m: name 'x_tensor' is not defined"
     ]
    }
   ],
   "source": [
    "likelihood = gpytorch.likelihoods.GaussianLikelihood()\n",
    "\n",
    "model = GP(x_tensor, y_tensor, time_tensor, likelihood)"
   ]
  },
  {
   "cell_type": "code",
   "execution_count": 229,
   "id": "414ab9fb-98fd-47bb-a722-0d580820da2c",
   "metadata": {},
   "outputs": [
    {
     "data": {
      "text/plain": [
       "GaussianLikelihood(\n",
       "  (noise_covar): HomoskedasticNoise(\n",
       "    (raw_noise_constraint): GreaterThan(1.000E-04)\n",
       "  )\n",
       ")"
      ]
     },
     "execution_count": 229,
     "metadata": {},
     "output_type": "execute_result"
    }
   ],
   "source": [
    "model.train()\n",
    "likelihood.train()"
   ]
  },
  {
   "cell_type": "code",
   "execution_count": 203,
   "id": "ef8bd13f-d5b9-487c-9392-5dee62269873",
   "metadata": {},
   "outputs": [],
   "source": [
    "optimizer = torch.optim.Adam(model.parameters(), lr=0.1)\n",
    "mll = gpytorch.mlls.ExactMarginalLogLikelihood(likelihood, model)\n"
   ]
  },
  {
   "cell_type": "code",
   "execution_count": 211,
   "id": "7b14613f-d3a7-4109-8ebf-9d33afcfa317",
   "metadata": {},
   "outputs": [
    {
     "data": {
      "text/plain": [
       "ExactMarginalLogLikelihood(\n",
       "  (likelihood): GaussianLikelihood(\n",
       "    (noise_covar): HomoskedasticNoise(\n",
       "      (raw_noise_constraint): GreaterThan(1.000E-04)\n",
       "    )\n",
       "  )\n",
       "  (model): GP(\n",
       "    (likelihood): GaussianLikelihood(\n",
       "      (noise_covar): HomoskedasticNoise(\n",
       "        (raw_noise_constraint): GreaterThan(1.000E-04)\n",
       "      )\n",
       "    )\n",
       "    (mean): ConstantMean()\n",
       "    (cov): Kernel(\n",
       "      (matern_kernel): ScaleKernel(\n",
       "        (base_kernel): MaternKernel(\n",
       "          (raw_lengthscale_constraint): Positive()\n",
       "        )\n",
       "        (raw_outputscale_constraint): Positive()\n",
       "      )\n",
       "      (periodic_kernel): PeriodicKernel(\n",
       "        (raw_lengthscale_constraint): Positive()\n",
       "        (raw_period_length_constraint): Positive()\n",
       "      )\n",
       "    )\n",
       "  )\n",
       ")"
      ]
     },
     "execution_count": 211,
     "metadata": {},
     "output_type": "execute_result"
    }
   ],
   "source": [
    "mll"
   ]
  },
  {
   "cell_type": "code",
   "execution_count": 210,
   "id": "1dce6030-596e-41a2-930d-3c4884a67e3b",
   "metadata": {},
   "outputs": [],
   "source": [
    "n_iter = 50\n",
    "\n",
    "for i in range(n_iter):\n",
    "    # Set the gradients from previous iteration to zero\n",
    "    optimizer.zero_grad()\n",
    "    # Output from model\n",
    "    output = model(train_time)\n",
    "    # Compute loss and backprop gradients\n",
    "    #loss = -mll(output, train_z_time_only) #failing on computing loss step\n",
    "    #loss.backward()\n",
    "    #print('Iter %d/%d - Loss: %.3f' % (i + 1, n_iter, loss.item()))\n",
    "    #optimizer.step()"
   ]
  },
  {
   "cell_type": "code",
   "execution_count": 208,
   "id": "ef261bbd-f3f0-4002-837d-824c908e4ced",
   "metadata": {},
   "outputs": [
    {
     "data": {
      "text/plain": [
       "MultivariateNormal(loc: torch.Size([29]))"
      ]
     },
     "execution_count": 208,
     "metadata": {},
     "output_type": "execute_result"
    }
   ],
   "source": []
  },
  {
   "cell_type": "code",
   "execution_count": 194,
   "id": "f244cbec-6f1e-4223-855f-5eae7dd78fda",
   "metadata": {},
   "outputs": [
    {
     "data": {
      "text/plain": [
       "GP(\n",
       "  (likelihood): GaussianLikelihood(\n",
       "    (noise_covar): HomoskedasticNoise(\n",
       "      (raw_noise_constraint): GreaterThan(1.000E-04)\n",
       "    )\n",
       "  )\n",
       "  (mean): ConstantMean()\n",
       "  (cov): Kernel(\n",
       "    (matern_kernel): ScaleKernel(\n",
       "      (base_kernel): MaternKernel(\n",
       "        (raw_lengthscale_constraint): Positive()\n",
       "      )\n",
       "      (raw_outputscale_constraint): Positive()\n",
       "    )\n",
       "    (periodic_kernel): PeriodicKernel(\n",
       "      (raw_lengthscale_constraint): Positive()\n",
       "      (raw_period_length_constraint): Positive()\n",
       "    )\n",
       "  )\n",
       ")"
      ]
     },
     "execution_count": 194,
     "metadata": {},
     "output_type": "execute_result"
    }
   ],
   "source": [
    "model.eval()"
   ]
  },
  {
   "cell_type": "code",
   "execution_count": 195,
   "id": "13f8b2e2-b3b2-4e5c-bd41-057308fa8d63",
   "metadata": {},
   "outputs": [
    {
     "data": {
      "text/plain": [
       "GaussianLikelihood(\n",
       "  (noise_covar): HomoskedasticNoise(\n",
       "    (raw_noise_constraint): GreaterThan(1.000E-04)\n",
       "  )\n",
       ")"
      ]
     },
     "execution_count": 195,
     "metadata": {},
     "output_type": "execute_result"
    }
   ],
   "source": [
    "likelihood.eval()"
   ]
  },
  {
   "cell_type": "markdown",
   "id": "0a196cfa-68d9-4398-a64e-6d1e7de17bfa",
   "metadata": {},
   "source": [
    "# For testing"
   ]
  },
  {
   "cell_type": "code",
   "execution_count": 196,
   "id": "285ceca6-2e21-46a4-ad80-76230ab6d813",
   "metadata": {},
   "outputs": [
    {
     "ename": "NameError",
     "evalue": "name 'x_test' is not defined",
     "output_type": "error",
     "traceback": [
      "\u001b[0;31m---------------------------------------------------------------------------\u001b[0m",
      "\u001b[0;31mNameError\u001b[0m                                 Traceback (most recent call last)",
      "Cell \u001b[0;32mIn[196], line 3\u001b[0m\n\u001b[1;32m      1\u001b[0m \u001b[38;5;28;01mwith\u001b[39;00m torch\u001b[38;5;241m.\u001b[39mno_grad(), gpytorch\u001b[38;5;241m.\u001b[39msettings\u001b[38;5;241m.\u001b[39mfast_pred_var():\n\u001b[1;32m      2\u001b[0m     \u001b[38;5;66;03m# Obtain the predictive mean and covariance matrix\u001b[39;00m\n\u001b[0;32m----> 3\u001b[0m     f_preds \u001b[38;5;241m=\u001b[39m model(\u001b[43mx_test\u001b[49m)\n\u001b[1;32m      4\u001b[0m     f_mean \u001b[38;5;241m=\u001b[39m f_preds\u001b[38;5;241m.\u001b[39mmean\n\u001b[1;32m      5\u001b[0m     f_cov \u001b[38;5;241m=\u001b[39m f_preds\u001b[38;5;241m.\u001b[39mcovariance_matrix\n",
      "\u001b[0;31mNameError\u001b[0m: name 'x_test' is not defined"
     ]
    }
   ],
   "source": [
    "with torch.no_grad(), gpytorch.settings.fast_pred_var():\n",
    "    # Obtain the predictive mean and covariance matrix\n",
    "    f_preds = model(x_test)\n",
    "    f_mean = f_preds.mean\n",
    "    f_cov = f_preds.covariance_matrix"
   ]
  },
  {
   "cell_type": "markdown",
   "id": "9f13f53a-c552-411e-af12-7fdb11258dca",
   "metadata": {},
   "source": [
    "### setup spatial training data"
   ]
  },
  {
   "cell_type": "code",
   "execution_count": null,
   "id": "39ce223c-626e-406b-beda-e0db8f543f02",
   "metadata": {},
   "outputs": [],
   "source": []
  }
 ],
 "metadata": {
  "kernelspec": {
   "display_name": "Python 3 (ipykernel)",
   "language": "python",
   "name": "python3"
  },
  "language_info": {
   "codemirror_mode": {
    "name": "ipython",
    "version": 3
   },
   "file_extension": ".py",
   "mimetype": "text/x-python",
   "name": "python",
   "nbconvert_exporter": "python",
   "pygments_lexer": "ipython3",
   "version": "3.10.12"
  }
 },
 "nbformat": 4,
 "nbformat_minor": 5
}
