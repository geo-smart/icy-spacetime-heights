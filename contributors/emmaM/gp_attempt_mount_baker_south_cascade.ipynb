{
 "cells": [
  {
   "cell_type": "markdown",
   "id": "17651927-5772-40c2-a708-a465a34f4ca7",
   "metadata": {
    "user_expressions": []
   },
   "source": [
    "# Trying to implement spatio-temporal GP on south cascade glacier elevation data"
   ]
  },
  {
   "cell_type": "markdown",
   "id": "48fe4bf8-15a6-4307-95d3-8a14228dfb7d",
   "metadata": {
    "user_expressions": []
   },
   "source": [
    "## Installs"
   ]
  },
  {
   "cell_type": "code",
   "execution_count": 1,
   "id": "bf9e86ae-8703-47d4-b8ee-4089ed1addbf",
   "metadata": {
    "tags": []
   },
   "outputs": [
    {
     "name": "stdout",
     "output_type": "stream",
     "text": [
      "Collecting gpytorch\n",
      "  Using cached gpytorch-1.11-py3-none-any.whl (266 kB)\n",
      "Requirement already satisfied: scikit-learn in /srv/conda/envs/notebook/lib/python3.10/site-packages (from gpytorch) (1.1.3)\n",
      "Collecting linear-operator>=0.5.0\n",
      "  Using cached linear_operator-0.5.2-py3-none-any.whl (175 kB)\n",
      "Requirement already satisfied: scipy in /srv/conda/envs/notebook/lib/python3.10/site-packages (from linear-operator>=0.5.0->gpytorch) (1.9.3)\n",
      "Collecting torch>=1.11\n",
      "  Using cached torch-2.1.0-cp310-cp310-manylinux1_x86_64.whl (670.2 MB)\n",
      "Collecting typeguard~=2.13.3\n",
      "  Using cached typeguard-2.13.3-py3-none-any.whl (17 kB)\n",
      "Collecting jaxtyping>=0.2.9\n",
      "  Using cached jaxtyping-0.2.23-py3-none-any.whl (29 kB)\n",
      "Requirement already satisfied: threadpoolctl>=2.0.0 in /srv/conda/envs/notebook/lib/python3.10/site-packages (from scikit-learn->gpytorch) (3.2.0)\n",
      "Requirement already satisfied: joblib>=1.0.0 in /srv/conda/envs/notebook/lib/python3.10/site-packages (from scikit-learn->gpytorch) (1.3.2)\n",
      "Requirement already satisfied: numpy>=1.17.3 in /srv/conda/envs/notebook/lib/python3.10/site-packages (from scikit-learn->gpytorch) (1.23.5)\n",
      "Requirement already satisfied: typing-extensions>=3.7.4.1 in /srv/conda/envs/notebook/lib/python3.10/site-packages (from jaxtyping>=0.2.9->linear-operator>=0.5.0->gpytorch) (4.8.0)\n",
      "Collecting nvidia-cuda-runtime-cu12==12.1.105\n",
      "  Using cached nvidia_cuda_runtime_cu12-12.1.105-py3-none-manylinux1_x86_64.whl (823 kB)\n",
      "Collecting nvidia-nccl-cu12==2.18.1\n",
      "  Using cached nvidia_nccl_cu12-2.18.1-py3-none-manylinux1_x86_64.whl (209.8 MB)\n",
      "Collecting triton==2.1.0\n",
      "  Using cached triton-2.1.0-0-cp310-cp310-manylinux2014_x86_64.manylinux_2_17_x86_64.whl (89.2 MB)\n",
      "Requirement already satisfied: sympy in /srv/conda/envs/notebook/lib/python3.10/site-packages (from torch>=1.11->linear-operator>=0.5.0->gpytorch) (1.11.1)\n",
      "Collecting nvidia-cusparse-cu12==12.1.0.106\n",
      "  Using cached nvidia_cusparse_cu12-12.1.0.106-py3-none-manylinux1_x86_64.whl (196.0 MB)\n",
      "Requirement already satisfied: jinja2 in /srv/conda/envs/notebook/lib/python3.10/site-packages (from torch>=1.11->linear-operator>=0.5.0->gpytorch) (3.1.2)\n",
      "Requirement already satisfied: networkx in /srv/conda/envs/notebook/lib/python3.10/site-packages (from torch>=1.11->linear-operator>=0.5.0->gpytorch) (2.8.8)\n",
      "Requirement already satisfied: filelock in /srv/conda/envs/notebook/lib/python3.10/site-packages (from torch>=1.11->linear-operator>=0.5.0->gpytorch) (3.12.4)\n",
      "Collecting nvidia-curand-cu12==10.3.2.106\n",
      "  Using cached nvidia_curand_cu12-10.3.2.106-py3-none-manylinux1_x86_64.whl (56.5 MB)\n",
      "Collecting nvidia-cublas-cu12==12.1.3.1\n",
      "  Using cached nvidia_cublas_cu12-12.1.3.1-py3-none-manylinux1_x86_64.whl (410.6 MB)\n",
      "Collecting nvidia-cusolver-cu12==11.4.5.107\n",
      "  Using cached nvidia_cusolver_cu12-11.4.5.107-py3-none-manylinux1_x86_64.whl (124.2 MB)\n",
      "Requirement already satisfied: fsspec in /srv/conda/envs/notebook/lib/python3.10/site-packages (from torch>=1.11->linear-operator>=0.5.0->gpytorch) (2023.6.0)\n",
      "Collecting nvidia-cudnn-cu12==8.9.2.26\n",
      "  Using cached nvidia_cudnn_cu12-8.9.2.26-py3-none-manylinux1_x86_64.whl (731.7 MB)\n",
      "Collecting nvidia-cuda-nvrtc-cu12==12.1.105\n",
      "  Using cached nvidia_cuda_nvrtc_cu12-12.1.105-py3-none-manylinux1_x86_64.whl (23.7 MB)\n",
      "Collecting nvidia-nvtx-cu12==12.1.105\n",
      "  Using cached nvidia_nvtx_cu12-12.1.105-py3-none-manylinux1_x86_64.whl (99 kB)\n",
      "Collecting nvidia-cuda-cupti-cu12==12.1.105\n",
      "  Using cached nvidia_cuda_cupti_cu12-12.1.105-py3-none-manylinux1_x86_64.whl (14.1 MB)\n",
      "Collecting nvidia-cufft-cu12==11.0.2.54\n",
      "  Using cached nvidia_cufft_cu12-11.0.2.54-py3-none-manylinux1_x86_64.whl (121.6 MB)\n",
      "Collecting nvidia-nvjitlink-cu12\n",
      "  Using cached nvidia_nvjitlink_cu12-12.3.52-py3-none-manylinux1_x86_64.whl (20.5 MB)\n",
      "Requirement already satisfied: MarkupSafe>=2.0 in /srv/conda/envs/notebook/lib/python3.10/site-packages (from jinja2->torch>=1.11->linear-operator>=0.5.0->gpytorch) (2.1.3)\n",
      "Requirement already satisfied: mpmath>=0.19 in /srv/conda/envs/notebook/lib/python3.10/site-packages (from sympy->torch>=1.11->linear-operator>=0.5.0->gpytorch) (1.3.0)\n",
      "Installing collected packages: typeguard, triton, nvidia-nvtx-cu12, nvidia-nvjitlink-cu12, nvidia-nccl-cu12, nvidia-curand-cu12, nvidia-cufft-cu12, nvidia-cuda-runtime-cu12, nvidia-cuda-nvrtc-cu12, nvidia-cuda-cupti-cu12, nvidia-cublas-cu12, nvidia-cusparse-cu12, nvidia-cudnn-cu12, jaxtyping, nvidia-cusolver-cu12, torch, linear-operator, gpytorch\n",
      "Successfully installed gpytorch-1.11 jaxtyping-0.2.23 linear-operator-0.5.2 nvidia-cublas-cu12-12.1.3.1 nvidia-cuda-cupti-cu12-12.1.105 nvidia-cuda-nvrtc-cu12-12.1.105 nvidia-cuda-runtime-cu12-12.1.105 nvidia-cudnn-cu12-8.9.2.26 nvidia-cufft-cu12-11.0.2.54 nvidia-curand-cu12-10.3.2.106 nvidia-cusolver-cu12-11.4.5.107 nvidia-cusparse-cu12-12.1.0.106 nvidia-nccl-cu12-2.18.1 nvidia-nvjitlink-cu12-12.3.52 nvidia-nvtx-cu12-12.1.105 torch-2.1.0 triton-2.1.0 typeguard-2.13.3\n",
      "Note: you may need to restart the kernel to use updated packages.\n",
      "Requirement already satisfied: xarray in /srv/conda/envs/notebook/lib/python3.10/site-packages (2023.10.1)\n",
      "Requirement already satisfied: pandas>=1.4 in /srv/conda/envs/notebook/lib/python3.10/site-packages (from xarray) (1.5.1)\n",
      "Requirement already satisfied: packaging>=21.3 in /srv/conda/envs/notebook/lib/python3.10/site-packages (from xarray) (23.2)\n",
      "Requirement already satisfied: numpy>=1.22 in /srv/conda/envs/notebook/lib/python3.10/site-packages (from xarray) (1.23.5)\n",
      "Requirement already satisfied: python-dateutil>=2.8.1 in /srv/conda/envs/notebook/lib/python3.10/site-packages (from pandas>=1.4->xarray) (2.8.2)\n",
      "Requirement already satisfied: pytz>=2020.1 in /srv/conda/envs/notebook/lib/python3.10/site-packages (from pandas>=1.4->xarray) (2023.3.post1)\n",
      "Requirement already satisfied: six>=1.5 in /srv/conda/envs/notebook/lib/python3.10/site-packages (from python-dateutil>=2.8.1->pandas>=1.4->xarray) (1.16.0)\n",
      "Note: you may need to restart the kernel to use updated packages.\n",
      "Requirement already satisfied: torch in /srv/conda/envs/notebook/lib/python3.10/site-packages (2.1.0)\n",
      "Requirement already satisfied: jinja2 in /srv/conda/envs/notebook/lib/python3.10/site-packages (from torch) (3.1.2)\n",
      "Requirement already satisfied: nvidia-cusolver-cu12==11.4.5.107 in /srv/conda/envs/notebook/lib/python3.10/site-packages (from torch) (11.4.5.107)\n",
      "Requirement already satisfied: nvidia-cufft-cu12==11.0.2.54 in /srv/conda/envs/notebook/lib/python3.10/site-packages (from torch) (11.0.2.54)\n",
      "Requirement already satisfied: nvidia-curand-cu12==10.3.2.106 in /srv/conda/envs/notebook/lib/python3.10/site-packages (from torch) (10.3.2.106)\n",
      "Requirement already satisfied: nvidia-cusparse-cu12==12.1.0.106 in /srv/conda/envs/notebook/lib/python3.10/site-packages (from torch) (12.1.0.106)\n",
      "Requirement already satisfied: triton==2.1.0 in /srv/conda/envs/notebook/lib/python3.10/site-packages (from torch) (2.1.0)\n",
      "Requirement already satisfied: nvidia-nccl-cu12==2.18.1 in /srv/conda/envs/notebook/lib/python3.10/site-packages (from torch) (2.18.1)\n",
      "Requirement already satisfied: fsspec in /srv/conda/envs/notebook/lib/python3.10/site-packages (from torch) (2023.6.0)\n",
      "Requirement already satisfied: nvidia-cudnn-cu12==8.9.2.26 in /srv/conda/envs/notebook/lib/python3.10/site-packages (from torch) (8.9.2.26)\n",
      "Requirement already satisfied: nvidia-cuda-nvrtc-cu12==12.1.105 in /srv/conda/envs/notebook/lib/python3.10/site-packages (from torch) (12.1.105)\n",
      "Requirement already satisfied: nvidia-cuda-cupti-cu12==12.1.105 in /srv/conda/envs/notebook/lib/python3.10/site-packages (from torch) (12.1.105)\n",
      "Requirement already satisfied: nvidia-nvtx-cu12==12.1.105 in /srv/conda/envs/notebook/lib/python3.10/site-packages (from torch) (12.1.105)\n",
      "Requirement already satisfied: sympy in /srv/conda/envs/notebook/lib/python3.10/site-packages (from torch) (1.11.1)\n",
      "Requirement already satisfied: filelock in /srv/conda/envs/notebook/lib/python3.10/site-packages (from torch) (3.12.4)\n",
      "Requirement already satisfied: typing-extensions in /srv/conda/envs/notebook/lib/python3.10/site-packages (from torch) (4.8.0)\n",
      "Requirement already satisfied: nvidia-cublas-cu12==12.1.3.1 in /srv/conda/envs/notebook/lib/python3.10/site-packages (from torch) (12.1.3.1)\n",
      "Requirement already satisfied: networkx in /srv/conda/envs/notebook/lib/python3.10/site-packages (from torch) (2.8.8)\n",
      "Requirement already satisfied: nvidia-cuda-runtime-cu12==12.1.105 in /srv/conda/envs/notebook/lib/python3.10/site-packages (from torch) (12.1.105)\n",
      "Requirement already satisfied: nvidia-nvjitlink-cu12 in /srv/conda/envs/notebook/lib/python3.10/site-packages (from nvidia-cusolver-cu12==11.4.5.107->torch) (12.3.52)\n",
      "Requirement already satisfied: MarkupSafe>=2.0 in /srv/conda/envs/notebook/lib/python3.10/site-packages (from jinja2->torch) (2.1.3)\n",
      "Requirement already satisfied: mpmath>=0.19 in /srv/conda/envs/notebook/lib/python3.10/site-packages (from sympy->torch) (1.3.0)\n",
      "Note: you may need to restart the kernel to use updated packages.\n",
      "Requirement already satisfied: matplotlib in /srv/conda/envs/notebook/lib/python3.10/site-packages (3.8.0)\n",
      "Requirement already satisfied: contourpy>=1.0.1 in /srv/conda/envs/notebook/lib/python3.10/site-packages (from matplotlib) (1.1.1)\n",
      "Requirement already satisfied: packaging>=20.0 in /srv/conda/envs/notebook/lib/python3.10/site-packages (from matplotlib) (23.2)\n",
      "Requirement already satisfied: python-dateutil>=2.7 in /srv/conda/envs/notebook/lib/python3.10/site-packages (from matplotlib) (2.8.2)\n",
      "Requirement already satisfied: pillow>=6.2.0 in /srv/conda/envs/notebook/lib/python3.10/site-packages (from matplotlib) (9.5.0)\n",
      "Requirement already satisfied: numpy<2,>=1.21 in /srv/conda/envs/notebook/lib/python3.10/site-packages (from matplotlib) (1.23.5)\n",
      "Requirement already satisfied: fonttools>=4.22.0 in /srv/conda/envs/notebook/lib/python3.10/site-packages (from matplotlib) (4.43.1)\n",
      "Requirement already satisfied: pyparsing>=2.3.1 in /srv/conda/envs/notebook/lib/python3.10/site-packages (from matplotlib) (3.1.1)\n",
      "Requirement already satisfied: cycler>=0.10 in /srv/conda/envs/notebook/lib/python3.10/site-packages (from matplotlib) (0.12.1)\n",
      "Requirement already satisfied: kiwisolver>=1.0.1 in /srv/conda/envs/notebook/lib/python3.10/site-packages (from matplotlib) (1.4.5)\n",
      "Requirement already satisfied: six>=1.5 in /srv/conda/envs/notebook/lib/python3.10/site-packages (from python-dateutil>=2.7->matplotlib) (1.16.0)\n",
      "Note: you may need to restart the kernel to use updated packages.\n",
      "\u001b[31mERROR: Could not find a version that satisfies the requirement urllib (from versions: none)\u001b[0m\u001b[31m\n",
      "\u001b[0m\u001b[31mERROR: No matching distribution found for urllib\u001b[0m\u001b[31m\n",
      "\u001b[0mNote: you may need to restart the kernel to use updated packages.\n",
      "Collecting xbatcher\n",
      "  Using cached xbatcher-0.3.0-py3-none-any.whl (22 kB)\n",
      "Requirement already satisfied: dask in /srv/conda/envs/notebook/lib/python3.10/site-packages (from xbatcher) (2022.11.0)\n",
      "Requirement already satisfied: xarray in /srv/conda/envs/notebook/lib/python3.10/site-packages (from xbatcher) (2023.10.1)\n",
      "Requirement already satisfied: numpy in /srv/conda/envs/notebook/lib/python3.10/site-packages (from xbatcher) (1.23.5)\n",
      "Requirement already satisfied: packaging>=20.0 in /srv/conda/envs/notebook/lib/python3.10/site-packages (from dask->xbatcher) (23.2)\n",
      "Requirement already satisfied: click>=7.0 in /srv/conda/envs/notebook/lib/python3.10/site-packages (from dask->xbatcher) (8.1.7)\n",
      "Requirement already satisfied: pyyaml>=5.3.1 in /srv/conda/envs/notebook/lib/python3.10/site-packages (from dask->xbatcher) (5.4.1)\n",
      "Requirement already satisfied: cloudpickle>=1.1.1 in /srv/conda/envs/notebook/lib/python3.10/site-packages (from dask->xbatcher) (3.0.0)\n",
      "Requirement already satisfied: toolz>=0.8.2 in /srv/conda/envs/notebook/lib/python3.10/site-packages (from dask->xbatcher) (0.12.0)\n",
      "Requirement already satisfied: partd>=0.3.10 in /srv/conda/envs/notebook/lib/python3.10/site-packages (from dask->xbatcher) (1.4.1)\n",
      "Requirement already satisfied: fsspec>=0.6.0 in /srv/conda/envs/notebook/lib/python3.10/site-packages (from dask->xbatcher) (2023.6.0)\n",
      "Requirement already satisfied: pandas>=1.4 in /srv/conda/envs/notebook/lib/python3.10/site-packages (from xarray->xbatcher) (1.5.1)\n",
      "Requirement already satisfied: python-dateutil>=2.8.1 in /srv/conda/envs/notebook/lib/python3.10/site-packages (from pandas>=1.4->xarray->xbatcher) (2.8.2)\n",
      "Requirement already satisfied: pytz>=2020.1 in /srv/conda/envs/notebook/lib/python3.10/site-packages (from pandas>=1.4->xarray->xbatcher) (2023.3.post1)\n",
      "Requirement already satisfied: locket in /srv/conda/envs/notebook/lib/python3.10/site-packages (from partd>=0.3.10->dask->xbatcher) (1.0.0)\n",
      "Requirement already satisfied: six>=1.5 in /srv/conda/envs/notebook/lib/python3.10/site-packages (from python-dateutil>=2.8.1->pandas>=1.4->xarray->xbatcher) (1.16.0)\n",
      "Installing collected packages: xbatcher\n",
      "Successfully installed xbatcher-0.3.0\n",
      "Note: you may need to restart the kernel to use updated packages.\n",
      "Requirement already satisfied: dask in /srv/conda/envs/notebook/lib/python3.10/site-packages (2022.11.0)\n",
      "Requirement already satisfied: toolz>=0.8.2 in /srv/conda/envs/notebook/lib/python3.10/site-packages (from dask) (0.12.0)\n",
      "Requirement already satisfied: click>=7.0 in /srv/conda/envs/notebook/lib/python3.10/site-packages (from dask) (8.1.7)\n",
      "Requirement already satisfied: pyyaml>=5.3.1 in /srv/conda/envs/notebook/lib/python3.10/site-packages (from dask) (5.4.1)\n",
      "Requirement already satisfied: cloudpickle>=1.1.1 in /srv/conda/envs/notebook/lib/python3.10/site-packages (from dask) (3.0.0)\n",
      "Requirement already satisfied: partd>=0.3.10 in /srv/conda/envs/notebook/lib/python3.10/site-packages (from dask) (1.4.1)\n",
      "Requirement already satisfied: packaging>=20.0 in /srv/conda/envs/notebook/lib/python3.10/site-packages (from dask) (23.2)\n",
      "Requirement already satisfied: fsspec>=0.6.0 in /srv/conda/envs/notebook/lib/python3.10/site-packages (from dask) (2023.6.0)\n",
      "Requirement already satisfied: locket in /srv/conda/envs/notebook/lib/python3.10/site-packages (from partd>=0.3.10->dask) (1.0.0)\n",
      "Note: you may need to restart the kernel to use updated packages.\n",
      "Requirement already satisfied: tqdm in /srv/conda/envs/notebook/lib/python3.10/site-packages (4.64.1)\n",
      "Note: you may need to restart the kernel to use updated packages.\n",
      "Collecting git+https://github.com/friedrichknuth/gtsa.git\n",
      "  Cloning https://github.com/friedrichknuth/gtsa.git to /tmp/pip-req-build-7xsc7m61\n",
      "  Running command git clone --filter=blob:none --quiet https://github.com/friedrichknuth/gtsa.git /tmp/pip-req-build-7xsc7m61\n",
      "  Resolved https://github.com/friedrichknuth/gtsa.git to commit d8ee444da75b072f50668d6639fe4c5d66c89f8a\n",
      "  Preparing metadata (setup.py) ... \u001b[?25ldone\n",
      "\u001b[?25hBuilding wheels for collected packages: gtsa\n",
      "  Building wheel for gtsa (setup.py) ... \u001b[?25ldone\n",
      "\u001b[?25h  Created wheel for gtsa: filename=gtsa-0.1-py3-none-any.whl size=24356 sha256=0d7d4a0a792eef671862c2afb64101acecf0240f6dc5a35464399f64da56382c\n",
      "  Stored in directory: /tmp/pip-ephem-wheel-cache-c5qe9fin/wheels/14/c6/6c/53f76ab9cb16802ab97a05ba3cef5bb36d002858a8ce198a6e\n",
      "Successfully built gtsa\n",
      "Installing collected packages: gtsa\n",
      "Successfully installed gtsa-0.1\n",
      "Note: you may need to restart the kernel to use updated packages.\n"
     ]
    }
   ],
   "source": [
    "%pip install gpytorch\n",
    "%pip install xarray\n",
    "%pip install torch\n",
    "%pip install matplotlib\n",
    "%pip install urllib\n",
    "%pip install xbatcher\n",
    "%pip install dask\n",
    "%pip install tqdm\n",
    "%pip install git+https://github.com/friedrichknuth/gtsa.git \n"
   ]
  },
  {
   "cell_type": "markdown",
   "id": "59bc0622-1826-41eb-b6ea-d69c594ba97e",
   "metadata": {
    "user_expressions": []
   },
   "source": [
    "## Imports"
   ]
  },
  {
   "cell_type": "code",
   "execution_count": 2,
   "id": "2734933e",
   "metadata": {
    "tags": []
   },
   "outputs": [],
   "source": [
    "%load_ext autoreload\n",
    "%autoreload 2"
   ]
  },
  {
   "cell_type": "code",
   "execution_count": 1,
   "id": "0d69d5ae",
   "metadata": {
    "tags": []
   },
   "outputs": [],
   "source": [
    "\n",
    "import torch\n",
    "import gpytorch\n",
    "from matplotlib import pyplot as plt\n",
    "import urllib.request\n",
    "import os\n",
    "import pandas as pd\n",
    "import numpy as np\n",
    "import xarray as xr\n",
    "import xbatcher\n",
    "from dask.distributed import Client, LocalCluster\n",
    "import psutil\n",
    "import logging\n",
    "import tools\n",
    "import gtsa\n",
    "\n",
    "%matplotlib inline\n",
    "\n",
    "# the autoreload magic command above makes changes to dev functions put in tools.py \n",
    "# immmidiately available in the notebook without restarting the kernel.\n",
    "\n",
    "# relevant functions put in tools.py can be transferred to a common or upstream library \n",
    "# later on during the hackweek."
   ]
  },
  {
   "cell_type": "code",
   "execution_count": 2,
   "id": "50ea0339-9be0-4657-8670-97f14e990ced",
   "metadata": {
    "tags": []
   },
   "outputs": [
    {
     "data": {
      "text/html": [
       "<div>\n",
       "    <div style=\"width: 24px; height: 24px; background-color: #e1e1e1; border: 3px solid #9D9D9D; border-radius: 5px; position: absolute;\"> </div>\n",
       "    <div style=\"margin-left: 48px;\">\n",
       "        <h3 style=\"margin-bottom: 0px;\">Client</h3>\n",
       "        <p style=\"color: #9D9D9D; margin-bottom: 0px;\">Client-72d940bc-74cf-11ee-8166-3e054ca8f010</p>\n",
       "        <table style=\"width: 100%; text-align: left;\">\n",
       "\n",
       "        <tr>\n",
       "        \n",
       "            <td style=\"text-align: left;\"><strong>Connection method:</strong> Cluster object</td>\n",
       "            <td style=\"text-align: left;\"><strong>Cluster type:</strong> distributed.LocalCluster</td>\n",
       "        \n",
       "        </tr>\n",
       "\n",
       "        \n",
       "            <tr>\n",
       "                <td style=\"text-align: left;\">\n",
       "                    <strong>Dashboard: </strong> <a href=\"/user/e-marshall/proxy/8787/status\" target=\"_blank\">/user/e-marshall/proxy/8787/status</a>\n",
       "                </td>\n",
       "                <td style=\"text-align: left;\"></td>\n",
       "            </tr>\n",
       "        \n",
       "\n",
       "        </table>\n",
       "\n",
       "        \n",
       "            <button style=\"margin-bottom: 12px;\" data-commandlinker-command=\"dask:populate-and-launch-layout\" data-commandlinker-args='{\"url\": \"/user/e-marshall/proxy/8787/status\" }'>\n",
       "                Launch dashboard in JupyterLab\n",
       "            </button>\n",
       "        \n",
       "\n",
       "        \n",
       "            <details>\n",
       "            <summary style=\"margin-bottom: 20px;\"><h3 style=\"display: inline;\">Cluster Info</h3></summary>\n",
       "            <div class=\"jp-RenderedHTMLCommon jp-RenderedHTML jp-mod-trusted jp-OutputArea-output\">\n",
       "    <div style=\"width: 24px; height: 24px; background-color: #e1e1e1; border: 3px solid #9D9D9D; border-radius: 5px; position: absolute;\">\n",
       "    </div>\n",
       "    <div style=\"margin-left: 48px;\">\n",
       "        <h3 style=\"margin-bottom: 0px; margin-top: 0px;\">LocalCluster</h3>\n",
       "        <p style=\"color: #9D9D9D; margin-bottom: 0px;\">51d86ac6</p>\n",
       "        <table style=\"width: 100%; text-align: left;\">\n",
       "            <tr>\n",
       "                <td style=\"text-align: left;\">\n",
       "                    <strong>Dashboard:</strong> <a href=\"/user/e-marshall/proxy/8787/status\" target=\"_blank\">/user/e-marshall/proxy/8787/status</a>\n",
       "                </td>\n",
       "                <td style=\"text-align: left;\">\n",
       "                    <strong>Workers:</strong> 3\n",
       "                </td>\n",
       "            </tr>\n",
       "            <tr>\n",
       "                <td style=\"text-align: left;\">\n",
       "                    <strong>Total threads:</strong> 3\n",
       "                </td>\n",
       "                <td style=\"text-align: left;\">\n",
       "                    <strong>Total memory:</strong> 30.90 GiB\n",
       "                </td>\n",
       "            </tr>\n",
       "            \n",
       "            <tr>\n",
       "    <td style=\"text-align: left;\"><strong>Status:</strong> running</td>\n",
       "    <td style=\"text-align: left;\"><strong>Using processes:</strong> True</td>\n",
       "</tr>\n",
       "\n",
       "            \n",
       "        </table>\n",
       "\n",
       "        <details>\n",
       "            <summary style=\"margin-bottom: 20px;\">\n",
       "                <h3 style=\"display: inline;\">Scheduler Info</h3>\n",
       "            </summary>\n",
       "\n",
       "            <div style=\"\">\n",
       "    <div>\n",
       "        <div style=\"width: 24px; height: 24px; background-color: #FFF7E5; border: 3px solid #FF6132; border-radius: 5px; position: absolute;\"> </div>\n",
       "        <div style=\"margin-left: 48px;\">\n",
       "            <h3 style=\"margin-bottom: 0px;\">Scheduler</h3>\n",
       "            <p style=\"color: #9D9D9D; margin-bottom: 0px;\">Scheduler-55ce2371-d9cf-4087-b937-26dbe08166c1</p>\n",
       "            <table style=\"width: 100%; text-align: left;\">\n",
       "                <tr>\n",
       "                    <td style=\"text-align: left;\">\n",
       "                        <strong>Comm:</strong> tcp://127.0.0.1:39771\n",
       "                    </td>\n",
       "                    <td style=\"text-align: left;\">\n",
       "                        <strong>Workers:</strong> 3\n",
       "                    </td>\n",
       "                </tr>\n",
       "                <tr>\n",
       "                    <td style=\"text-align: left;\">\n",
       "                        <strong>Dashboard:</strong> <a href=\"/user/e-marshall/proxy/8787/status\" target=\"_blank\">/user/e-marshall/proxy/8787/status</a>\n",
       "                    </td>\n",
       "                    <td style=\"text-align: left;\">\n",
       "                        <strong>Total threads:</strong> 3\n",
       "                    </td>\n",
       "                </tr>\n",
       "                <tr>\n",
       "                    <td style=\"text-align: left;\">\n",
       "                        <strong>Started:</strong> Just now\n",
       "                    </td>\n",
       "                    <td style=\"text-align: left;\">\n",
       "                        <strong>Total memory:</strong> 30.90 GiB\n",
       "                    </td>\n",
       "                </tr>\n",
       "            </table>\n",
       "        </div>\n",
       "    </div>\n",
       "\n",
       "    <details style=\"margin-left: 48px;\">\n",
       "        <summary style=\"margin-bottom: 20px;\">\n",
       "            <h3 style=\"display: inline;\">Workers</h3>\n",
       "        </summary>\n",
       "\n",
       "        \n",
       "        <div style=\"margin-bottom: 20px;\">\n",
       "            <div style=\"width: 24px; height: 24px; background-color: #DBF5FF; border: 3px solid #4CC9FF; border-radius: 5px; position: absolute;\"> </div>\n",
       "            <div style=\"margin-left: 48px;\">\n",
       "            <details>\n",
       "                <summary>\n",
       "                    <h4 style=\"margin-bottom: 0px; display: inline;\">Worker: 0</h4>\n",
       "                </summary>\n",
       "                <table style=\"width: 100%; text-align: left;\">\n",
       "                    <tr>\n",
       "                        <td style=\"text-align: left;\">\n",
       "                            <strong>Comm: </strong> tcp://127.0.0.1:38239\n",
       "                        </td>\n",
       "                        <td style=\"text-align: left;\">\n",
       "                            <strong>Total threads: </strong> 1\n",
       "                        </td>\n",
       "                    </tr>\n",
       "                    <tr>\n",
       "                        <td style=\"text-align: left;\">\n",
       "                            <strong>Dashboard: </strong> <a href=\"/user/e-marshall/proxy/33931/status\" target=\"_blank\">/user/e-marshall/proxy/33931/status</a>\n",
       "                        </td>\n",
       "                        <td style=\"text-align: left;\">\n",
       "                            <strong>Memory: </strong> 10.30 GiB\n",
       "                        </td>\n",
       "                    </tr>\n",
       "                    <tr>\n",
       "                        <td style=\"text-align: left;\">\n",
       "                            <strong>Nanny: </strong> tcp://127.0.0.1:39889\n",
       "                        </td>\n",
       "                        <td style=\"text-align: left;\"></td>\n",
       "                    </tr>\n",
       "                    <tr>\n",
       "                        <td colspan=\"2\" style=\"text-align: left;\">\n",
       "                            <strong>Local directory: </strong> /tmp/dask-worker-space/worker-rvmcdalv\n",
       "                        </td>\n",
       "                    </tr>\n",
       "\n",
       "                    \n",
       "\n",
       "                    \n",
       "\n",
       "                </table>\n",
       "            </details>\n",
       "            </div>\n",
       "        </div>\n",
       "        \n",
       "        <div style=\"margin-bottom: 20px;\">\n",
       "            <div style=\"width: 24px; height: 24px; background-color: #DBF5FF; border: 3px solid #4CC9FF; border-radius: 5px; position: absolute;\"> </div>\n",
       "            <div style=\"margin-left: 48px;\">\n",
       "            <details>\n",
       "                <summary>\n",
       "                    <h4 style=\"margin-bottom: 0px; display: inline;\">Worker: 1</h4>\n",
       "                </summary>\n",
       "                <table style=\"width: 100%; text-align: left;\">\n",
       "                    <tr>\n",
       "                        <td style=\"text-align: left;\">\n",
       "                            <strong>Comm: </strong> tcp://127.0.0.1:41671\n",
       "                        </td>\n",
       "                        <td style=\"text-align: left;\">\n",
       "                            <strong>Total threads: </strong> 1\n",
       "                        </td>\n",
       "                    </tr>\n",
       "                    <tr>\n",
       "                        <td style=\"text-align: left;\">\n",
       "                            <strong>Dashboard: </strong> <a href=\"/user/e-marshall/proxy/44765/status\" target=\"_blank\">/user/e-marshall/proxy/44765/status</a>\n",
       "                        </td>\n",
       "                        <td style=\"text-align: left;\">\n",
       "                            <strong>Memory: </strong> 10.30 GiB\n",
       "                        </td>\n",
       "                    </tr>\n",
       "                    <tr>\n",
       "                        <td style=\"text-align: left;\">\n",
       "                            <strong>Nanny: </strong> tcp://127.0.0.1:38097\n",
       "                        </td>\n",
       "                        <td style=\"text-align: left;\"></td>\n",
       "                    </tr>\n",
       "                    <tr>\n",
       "                        <td colspan=\"2\" style=\"text-align: left;\">\n",
       "                            <strong>Local directory: </strong> /tmp/dask-worker-space/worker-93t2cikg\n",
       "                        </td>\n",
       "                    </tr>\n",
       "\n",
       "                    \n",
       "\n",
       "                    \n",
       "\n",
       "                </table>\n",
       "            </details>\n",
       "            </div>\n",
       "        </div>\n",
       "        \n",
       "        <div style=\"margin-bottom: 20px;\">\n",
       "            <div style=\"width: 24px; height: 24px; background-color: #DBF5FF; border: 3px solid #4CC9FF; border-radius: 5px; position: absolute;\"> </div>\n",
       "            <div style=\"margin-left: 48px;\">\n",
       "            <details>\n",
       "                <summary>\n",
       "                    <h4 style=\"margin-bottom: 0px; display: inline;\">Worker: 2</h4>\n",
       "                </summary>\n",
       "                <table style=\"width: 100%; text-align: left;\">\n",
       "                    <tr>\n",
       "                        <td style=\"text-align: left;\">\n",
       "                            <strong>Comm: </strong> tcp://127.0.0.1:39129\n",
       "                        </td>\n",
       "                        <td style=\"text-align: left;\">\n",
       "                            <strong>Total threads: </strong> 1\n",
       "                        </td>\n",
       "                    </tr>\n",
       "                    <tr>\n",
       "                        <td style=\"text-align: left;\">\n",
       "                            <strong>Dashboard: </strong> <a href=\"/user/e-marshall/proxy/36795/status\" target=\"_blank\">/user/e-marshall/proxy/36795/status</a>\n",
       "                        </td>\n",
       "                        <td style=\"text-align: left;\">\n",
       "                            <strong>Memory: </strong> 10.30 GiB\n",
       "                        </td>\n",
       "                    </tr>\n",
       "                    <tr>\n",
       "                        <td style=\"text-align: left;\">\n",
       "                            <strong>Nanny: </strong> tcp://127.0.0.1:42227\n",
       "                        </td>\n",
       "                        <td style=\"text-align: left;\"></td>\n",
       "                    </tr>\n",
       "                    <tr>\n",
       "                        <td colspan=\"2\" style=\"text-align: left;\">\n",
       "                            <strong>Local directory: </strong> /tmp/dask-worker-space/worker-m18vqr51\n",
       "                        </td>\n",
       "                    </tr>\n",
       "\n",
       "                    \n",
       "\n",
       "                    \n",
       "\n",
       "                </table>\n",
       "            </details>\n",
       "            </div>\n",
       "        </div>\n",
       "        \n",
       "\n",
       "    </details>\n",
       "</div>\n",
       "\n",
       "        </details>\n",
       "    </div>\n",
       "</div>\n",
       "            </details>\n",
       "        \n",
       "\n",
       "    </div>\n",
       "</div>"
      ],
      "text/plain": [
       "<Client: 'tcp://127.0.0.1:39771' processes=3 threads=3, memory=30.90 GiB>"
      ]
     },
     "execution_count": 2,
     "metadata": {},
     "output_type": "execute_result"
    }
   ],
   "source": [
    "cluster = LocalCluster(\n",
    "    n_workers = psutil.cpu_count(logical=True)-1,\n",
    "    silence_logs = logging.ERROR,\n",
    "    threads_per_worker = 1,\n",
    ")\n",
    "client = Client(cluster)\n",
    "client"
   ]
  },
  {
   "cell_type": "code",
   "execution_count": 3,
   "id": "bb54c5b5",
   "metadata": {
    "tags": []
   },
   "outputs": [],
   "source": [
    "baker_url = 's3://petrichor/geosmart/baker.zarr/'\n",
    "scg_url = 's3://petrichor/geosmart/scg.zarr/'"
   ]
  },
  {
   "cell_type": "code",
   "execution_count": 4,
   "id": "dc7614b5",
   "metadata": {
    "tags": []
   },
   "outputs": [],
   "source": [
    "#baker_ds = xr.open_dataset(baker_url, chunks='auto', engine='zarr', storage_options={\"anon\": True})\n",
    "scg_ds = xr.open_dataset(scg_url, chunks='auto', engine='zarr', storage_options={\"anon\": True})"
   ]
  },
  {
   "cell_type": "markdown",
   "id": "3566669c",
   "metadata": {
    "tags": [],
    "user_expressions": []
   },
   "source": [
    "### Dataset overview"
   ]
  },
  {
   "cell_type": "code",
   "execution_count": 5,
   "id": "9aa122e7-9437-4e96-8141-fc48b76cfd53",
   "metadata": {
    "tags": []
   },
   "outputs": [
    {
     "name": "stdout",
     "output_type": "stream",
     "text": [
      "Dataset center: 643993.428, 5358023.985\n",
      "Test column size: 200.0 by 200.0 in spatial coordinate units.\n",
      "No CRS defined.\n",
      "Using xarray slicing to select data along spatial coordinate axes.\n"
     ]
    },
    {
     "name": "stderr",
     "output_type": "stream",
     "text": [
      "/srv/conda/envs/notebook/lib/python3.10/site-packages/gtsa/geospatial.py:78: FutureWarning: Unlike other reduction functions (e.g. `skew`, `kurtosis`), the default behavior of `mode` typically preserves the axis it acts along. In SciPy 1.11.0, this behavior will change: the default value of `keepdims` will become False, the `axis` over which the statistic is taken will be eliminated, and the value None will no longer be accepted. Set `keepdims` to True or False to avoid this warning.\n",
      "  xmode = np.abs(scipy.stats.mode(ds[\"y\"].diff(\"y\"))[0])\n",
      "/srv/conda/envs/notebook/lib/python3.10/site-packages/gtsa/geospatial.py:79: FutureWarning: Unlike other reduction functions (e.g. `skew`, `kurtosis`), the default behavior of `mode` typically preserves the axis it acts along. In SciPy 1.11.0, this behavior will change: the default value of `keepdims` will become False, the `axis` over which the statistic is taken will be eliminated, and the value None will no longer be accepted. Set `keepdims` to True or False to avoid this warning.\n",
      "  ymode = np.abs(scipy.stats.mode(ds[\"y\"].diff(\"y\"))[0])\n"
     ]
    }
   ],
   "source": [
    "#subset south cascade glacier ds\n",
    "scg_sub = gtsa.geospatial.extract_dataset_center_window(scg_ds, size=100)"
   ]
  },
  {
   "cell_type": "code",
   "execution_count": 6,
   "id": "75c11b20-f84f-4c84-81b9-8a08cdda09b6",
   "metadata": {
    "tags": []
   },
   "outputs": [
    {
     "data": {
      "text/html": [
       "<div><svg style=\"position: absolute; width: 0; height: 0; overflow: hidden\">\n",
       "<defs>\n",
       "<symbol id=\"icon-database\" viewBox=\"0 0 32 32\">\n",
       "<path d=\"M16 0c-8.837 0-16 2.239-16 5v4c0 2.761 7.163 5 16 5s16-2.239 16-5v-4c0-2.761-7.163-5-16-5z\"></path>\n",
       "<path d=\"M16 17c-8.837 0-16-2.239-16-5v6c0 2.761 7.163 5 16 5s16-2.239 16-5v-6c0 2.761-7.163 5-16 5z\"></path>\n",
       "<path d=\"M16 26c-8.837 0-16-2.239-16-5v6c0 2.761 7.163 5 16 5s16-2.239 16-5v-6c0 2.761-7.163 5-16 5z\"></path>\n",
       "</symbol>\n",
       "<symbol id=\"icon-file-text2\" viewBox=\"0 0 32 32\">\n",
       "<path d=\"M28.681 7.159c-0.694-0.947-1.662-2.053-2.724-3.116s-2.169-2.030-3.116-2.724c-1.612-1.182-2.393-1.319-2.841-1.319h-15.5c-1.378 0-2.5 1.121-2.5 2.5v27c0 1.378 1.122 2.5 2.5 2.5h23c1.378 0 2.5-1.122 2.5-2.5v-19.5c0-0.448-0.137-1.23-1.319-2.841zM24.543 5.457c0.959 0.959 1.712 1.825 2.268 2.543h-4.811v-4.811c0.718 0.556 1.584 1.309 2.543 2.268zM28 29.5c0 0.271-0.229 0.5-0.5 0.5h-23c-0.271 0-0.5-0.229-0.5-0.5v-27c0-0.271 0.229-0.5 0.5-0.5 0 0 15.499-0 15.5 0v7c0 0.552 0.448 1 1 1h7v19.5z\"></path>\n",
       "<path d=\"M23 26h-14c-0.552 0-1-0.448-1-1s0.448-1 1-1h14c0.552 0 1 0.448 1 1s-0.448 1-1 1z\"></path>\n",
       "<path d=\"M23 22h-14c-0.552 0-1-0.448-1-1s0.448-1 1-1h14c0.552 0 1 0.448 1 1s-0.448 1-1 1z\"></path>\n",
       "<path d=\"M23 18h-14c-0.552 0-1-0.448-1-1s0.448-1 1-1h14c0.552 0 1 0.448 1 1s-0.448 1-1 1z\"></path>\n",
       "</symbol>\n",
       "</defs>\n",
       "</svg>\n",
       "<style>/* CSS stylesheet for displaying xarray objects in jupyterlab.\n",
       " *\n",
       " */\n",
       "\n",
       ":root {\n",
       "  --xr-font-color0: var(--jp-content-font-color0, rgba(0, 0, 0, 1));\n",
       "  --xr-font-color2: var(--jp-content-font-color2, rgba(0, 0, 0, 0.54));\n",
       "  --xr-font-color3: var(--jp-content-font-color3, rgba(0, 0, 0, 0.38));\n",
       "  --xr-border-color: var(--jp-border-color2, #e0e0e0);\n",
       "  --xr-disabled-color: var(--jp-layout-color3, #bdbdbd);\n",
       "  --xr-background-color: var(--jp-layout-color0, white);\n",
       "  --xr-background-color-row-even: var(--jp-layout-color1, white);\n",
       "  --xr-background-color-row-odd: var(--jp-layout-color2, #eeeeee);\n",
       "}\n",
       "\n",
       "html[theme=dark],\n",
       "body[data-theme=dark],\n",
       "body.vscode-dark {\n",
       "  --xr-font-color0: rgba(255, 255, 255, 1);\n",
       "  --xr-font-color2: rgba(255, 255, 255, 0.54);\n",
       "  --xr-font-color3: rgba(255, 255, 255, 0.38);\n",
       "  --xr-border-color: #1F1F1F;\n",
       "  --xr-disabled-color: #515151;\n",
       "  --xr-background-color: #111111;\n",
       "  --xr-background-color-row-even: #111111;\n",
       "  --xr-background-color-row-odd: #313131;\n",
       "}\n",
       "\n",
       ".xr-wrap {\n",
       "  display: block !important;\n",
       "  min-width: 300px;\n",
       "  max-width: 700px;\n",
       "}\n",
       "\n",
       ".xr-text-repr-fallback {\n",
       "  /* fallback to plain text repr when CSS is not injected (untrusted notebook) */\n",
       "  display: none;\n",
       "}\n",
       "\n",
       ".xr-header {\n",
       "  padding-top: 6px;\n",
       "  padding-bottom: 6px;\n",
       "  margin-bottom: 4px;\n",
       "  border-bottom: solid 1px var(--xr-border-color);\n",
       "}\n",
       "\n",
       ".xr-header > div,\n",
       ".xr-header > ul {\n",
       "  display: inline;\n",
       "  margin-top: 0;\n",
       "  margin-bottom: 0;\n",
       "}\n",
       "\n",
       ".xr-obj-type,\n",
       ".xr-array-name {\n",
       "  margin-left: 2px;\n",
       "  margin-right: 10px;\n",
       "}\n",
       "\n",
       ".xr-obj-type {\n",
       "  color: var(--xr-font-color2);\n",
       "}\n",
       "\n",
       ".xr-sections {\n",
       "  padding-left: 0 !important;\n",
       "  display: grid;\n",
       "  grid-template-columns: 150px auto auto 1fr 20px 20px;\n",
       "}\n",
       "\n",
       ".xr-section-item {\n",
       "  display: contents;\n",
       "}\n",
       "\n",
       ".xr-section-item input {\n",
       "  display: none;\n",
       "}\n",
       "\n",
       ".xr-section-item input + label {\n",
       "  color: var(--xr-disabled-color);\n",
       "}\n",
       "\n",
       ".xr-section-item input:enabled + label {\n",
       "  cursor: pointer;\n",
       "  color: var(--xr-font-color2);\n",
       "}\n",
       "\n",
       ".xr-section-item input:enabled + label:hover {\n",
       "  color: var(--xr-font-color0);\n",
       "}\n",
       "\n",
       ".xr-section-summary {\n",
       "  grid-column: 1;\n",
       "  color: var(--xr-font-color2);\n",
       "  font-weight: 500;\n",
       "}\n",
       "\n",
       ".xr-section-summary > span {\n",
       "  display: inline-block;\n",
       "  padding-left: 0.5em;\n",
       "}\n",
       "\n",
       ".xr-section-summary-in:disabled + label {\n",
       "  color: var(--xr-font-color2);\n",
       "}\n",
       "\n",
       ".xr-section-summary-in + label:before {\n",
       "  display: inline-block;\n",
       "  content: '►';\n",
       "  font-size: 11px;\n",
       "  width: 15px;\n",
       "  text-align: center;\n",
       "}\n",
       "\n",
       ".xr-section-summary-in:disabled + label:before {\n",
       "  color: var(--xr-disabled-color);\n",
       "}\n",
       "\n",
       ".xr-section-summary-in:checked + label:before {\n",
       "  content: '▼';\n",
       "}\n",
       "\n",
       ".xr-section-summary-in:checked + label > span {\n",
       "  display: none;\n",
       "}\n",
       "\n",
       ".xr-section-summary,\n",
       ".xr-section-inline-details {\n",
       "  padding-top: 4px;\n",
       "  padding-bottom: 4px;\n",
       "}\n",
       "\n",
       ".xr-section-inline-details {\n",
       "  grid-column: 2 / -1;\n",
       "}\n",
       "\n",
       ".xr-section-details {\n",
       "  display: none;\n",
       "  grid-column: 1 / -1;\n",
       "  margin-bottom: 5px;\n",
       "}\n",
       "\n",
       ".xr-section-summary-in:checked ~ .xr-section-details {\n",
       "  display: contents;\n",
       "}\n",
       "\n",
       ".xr-array-wrap {\n",
       "  grid-column: 1 / -1;\n",
       "  display: grid;\n",
       "  grid-template-columns: 20px auto;\n",
       "}\n",
       "\n",
       ".xr-array-wrap > label {\n",
       "  grid-column: 1;\n",
       "  vertical-align: top;\n",
       "}\n",
       "\n",
       ".xr-preview {\n",
       "  color: var(--xr-font-color3);\n",
       "}\n",
       "\n",
       ".xr-array-preview,\n",
       ".xr-array-data {\n",
       "  padding: 0 5px !important;\n",
       "  grid-column: 2;\n",
       "}\n",
       "\n",
       ".xr-array-data,\n",
       ".xr-array-in:checked ~ .xr-array-preview {\n",
       "  display: none;\n",
       "}\n",
       "\n",
       ".xr-array-in:checked ~ .xr-array-data,\n",
       ".xr-array-preview {\n",
       "  display: inline-block;\n",
       "}\n",
       "\n",
       ".xr-dim-list {\n",
       "  display: inline-block !important;\n",
       "  list-style: none;\n",
       "  padding: 0 !important;\n",
       "  margin: 0;\n",
       "}\n",
       "\n",
       ".xr-dim-list li {\n",
       "  display: inline-block;\n",
       "  padding: 0;\n",
       "  margin: 0;\n",
       "}\n",
       "\n",
       ".xr-dim-list:before {\n",
       "  content: '(';\n",
       "}\n",
       "\n",
       ".xr-dim-list:after {\n",
       "  content: ')';\n",
       "}\n",
       "\n",
       ".xr-dim-list li:not(:last-child):after {\n",
       "  content: ',';\n",
       "  padding-right: 5px;\n",
       "}\n",
       "\n",
       ".xr-has-index {\n",
       "  font-weight: bold;\n",
       "}\n",
       "\n",
       ".xr-var-list,\n",
       ".xr-var-item {\n",
       "  display: contents;\n",
       "}\n",
       "\n",
       ".xr-var-item > div,\n",
       ".xr-var-item label,\n",
       ".xr-var-item > .xr-var-name span {\n",
       "  background-color: var(--xr-background-color-row-even);\n",
       "  margin-bottom: 0;\n",
       "}\n",
       "\n",
       ".xr-var-item > .xr-var-name:hover span {\n",
       "  padding-right: 5px;\n",
       "}\n",
       "\n",
       ".xr-var-list > li:nth-child(odd) > div,\n",
       ".xr-var-list > li:nth-child(odd) > label,\n",
       ".xr-var-list > li:nth-child(odd) > .xr-var-name span {\n",
       "  background-color: var(--xr-background-color-row-odd);\n",
       "}\n",
       "\n",
       ".xr-var-name {\n",
       "  grid-column: 1;\n",
       "}\n",
       "\n",
       ".xr-var-dims {\n",
       "  grid-column: 2;\n",
       "}\n",
       "\n",
       ".xr-var-dtype {\n",
       "  grid-column: 3;\n",
       "  text-align: right;\n",
       "  color: var(--xr-font-color2);\n",
       "}\n",
       "\n",
       ".xr-var-preview {\n",
       "  grid-column: 4;\n",
       "}\n",
       "\n",
       ".xr-index-preview {\n",
       "  grid-column: 2 / 5;\n",
       "  color: var(--xr-font-color2);\n",
       "}\n",
       "\n",
       ".xr-var-name,\n",
       ".xr-var-dims,\n",
       ".xr-var-dtype,\n",
       ".xr-preview,\n",
       ".xr-attrs dt {\n",
       "  white-space: nowrap;\n",
       "  overflow: hidden;\n",
       "  text-overflow: ellipsis;\n",
       "  padding-right: 10px;\n",
       "}\n",
       "\n",
       ".xr-var-name:hover,\n",
       ".xr-var-dims:hover,\n",
       ".xr-var-dtype:hover,\n",
       ".xr-attrs dt:hover {\n",
       "  overflow: visible;\n",
       "  width: auto;\n",
       "  z-index: 1;\n",
       "}\n",
       "\n",
       ".xr-var-attrs,\n",
       ".xr-var-data,\n",
       ".xr-index-data {\n",
       "  display: none;\n",
       "  background-color: var(--xr-background-color) !important;\n",
       "  padding-bottom: 5px !important;\n",
       "}\n",
       "\n",
       ".xr-var-attrs-in:checked ~ .xr-var-attrs,\n",
       ".xr-var-data-in:checked ~ .xr-var-data,\n",
       ".xr-index-data-in:checked ~ .xr-index-data {\n",
       "  display: block;\n",
       "}\n",
       "\n",
       ".xr-var-data > table {\n",
       "  float: right;\n",
       "}\n",
       "\n",
       ".xr-var-name span,\n",
       ".xr-var-data,\n",
       ".xr-index-name div,\n",
       ".xr-index-data,\n",
       ".xr-attrs {\n",
       "  padding-left: 25px !important;\n",
       "}\n",
       "\n",
       ".xr-attrs,\n",
       ".xr-var-attrs,\n",
       ".xr-var-data,\n",
       ".xr-index-data {\n",
       "  grid-column: 1 / -1;\n",
       "}\n",
       "\n",
       "dl.xr-attrs {\n",
       "  padding: 0;\n",
       "  margin: 0;\n",
       "  display: grid;\n",
       "  grid-template-columns: 125px auto;\n",
       "}\n",
       "\n",
       ".xr-attrs dt,\n",
       ".xr-attrs dd {\n",
       "  padding: 0;\n",
       "  margin: 0;\n",
       "  float: left;\n",
       "  padding-right: 10px;\n",
       "  width: auto;\n",
       "}\n",
       "\n",
       ".xr-attrs dt {\n",
       "  font-weight: normal;\n",
       "  grid-column: 1;\n",
       "}\n",
       "\n",
       ".xr-attrs dt:hover span {\n",
       "  display: inline-block;\n",
       "  background: var(--xr-background-color);\n",
       "  padding-right: 10px;\n",
       "}\n",
       "\n",
       ".xr-attrs dd {\n",
       "  grid-column: 2;\n",
       "  white-space: pre-wrap;\n",
       "  word-break: break-all;\n",
       "}\n",
       "\n",
       ".xr-icon-database,\n",
       ".xr-icon-file-text2,\n",
       ".xr-no-icon {\n",
       "  display: inline-block;\n",
       "  vertical-align: middle;\n",
       "  width: 1em;\n",
       "  height: 1.5em !important;\n",
       "  stroke-width: 0;\n",
       "  stroke: currentColor;\n",
       "  fill: currentColor;\n",
       "}\n",
       "</style><pre class='xr-text-repr-fallback'>&lt;xarray.Dataset&gt;\n",
       "Dimensions:      (time: 71, y: 101, x: 101)\n",
       "Coordinates:\n",
       "  * time         (time) datetime64[ns] 1958-08-13 1967-09-21 ... 2021-08-13\n",
       "  * x            (x) float64 6.439e+05 6.439e+05 ... 6.441e+05 6.441e+05\n",
       "  * y            (y) float64 5.358e+06 5.358e+06 ... 5.358e+06 5.358e+06\n",
       "Data variables:\n",
       "    band1        (time, y, x) float32 dask.array&lt;chunksize=(71, 51, 51), meta=np.ndarray&gt;\n",
       "    spatial_ref  int64 ...\n",
       "Attributes:\n",
       "    AREA_OR_POINT:      Area\n",
       "    TIFFTAG_ARTIST:     U.S. Geological Survey Benchmark Glacier Program\n",
       "    TIFFTAG_COPYRIGHT:  Public Domain\n",
       "    add_offset:         0.0\n",
       "    crs:                PROJCS[&quot;WGS 84 / UTM zone 10N&quot;,GEOGCS[&quot;WGS 84&quot;,DATUM[...\n",
       "    scale_factor:       1.0</pre><div class='xr-wrap' style='display:none'><div class='xr-header'><div class='xr-obj-type'>xarray.Dataset</div></div><ul class='xr-sections'><li class='xr-section-item'><input id='section-f7bf9064-7470-457c-8aa2-c9eae95d2099' class='xr-section-summary-in' type='checkbox' disabled ><label for='section-f7bf9064-7470-457c-8aa2-c9eae95d2099' class='xr-section-summary'  title='Expand/collapse section'>Dimensions:</label><div class='xr-section-inline-details'><ul class='xr-dim-list'><li><span class='xr-has-index'>time</span>: 71</li><li><span class='xr-has-index'>y</span>: 101</li><li><span class='xr-has-index'>x</span>: 101</li></ul></div><div class='xr-section-details'></div></li><li class='xr-section-item'><input id='section-37023ce5-dad2-42e9-8404-dee14345fc42' class='xr-section-summary-in' type='checkbox'  checked><label for='section-37023ce5-dad2-42e9-8404-dee14345fc42' class='xr-section-summary' >Coordinates: <span>(3)</span></label><div class='xr-section-inline-details'></div><div class='xr-section-details'><ul class='xr-var-list'><li class='xr-var-item'><div class='xr-var-name'><span class='xr-has-index'>time</span></div><div class='xr-var-dims'>(time)</div><div class='xr-var-dtype'>datetime64[ns]</div><div class='xr-var-preview xr-preview'>1958-08-13 ... 2021-08-13</div><input id='attrs-b2d61909-9d24-4fc7-aaa3-f0620bd4cc50' class='xr-var-attrs-in' type='checkbox' disabled><label for='attrs-b2d61909-9d24-4fc7-aaa3-f0620bd4cc50' title='Show/Hide attributes'><svg class='icon xr-icon-file-text2'><use xlink:href='#icon-file-text2'></use></svg></label><input id='data-b9a67c3a-1173-46b4-822b-b8bb81fdbe7d' class='xr-var-data-in' type='checkbox'><label for='data-b9a67c3a-1173-46b4-822b-b8bb81fdbe7d' title='Show/Hide data repr'><svg class='icon xr-icon-database'><use xlink:href='#icon-database'></use></svg></label><div class='xr-var-attrs'><dl class='xr-attrs'></dl></div><div class='xr-var-data'><pre>array([&#x27;1958-08-13T00:00:00.000000000&#x27;, &#x27;1967-09-21T00:00:00.000000000&#x27;,\n",
       "       &#x27;1970-09-29T00:00:00.000000000&#x27;, &#x27;1974-08-10T00:00:00.000000000&#x27;,\n",
       "       &#x27;1977-10-03T00:00:00.000000000&#x27;, &#x27;1979-08-20T00:00:00.000000000&#x27;,\n",
       "       &#x27;1979-10-06T00:00:00.000000000&#x27;, &#x27;1984-08-14T00:00:00.000000000&#x27;,\n",
       "       &#x27;1986-09-05T00:00:00.000000000&#x27;, &#x27;1987-08-21T00:00:00.000000000&#x27;,\n",
       "       &#x27;1990-09-05T00:00:00.000000000&#x27;, &#x27;1991-09-09T00:00:00.000000000&#x27;,\n",
       "       &#x27;1992-07-28T00:00:00.000000000&#x27;, &#x27;1992-09-15T00:00:00.000000000&#x27;,\n",
       "       &#x27;1992-09-18T00:00:00.000000000&#x27;, &#x27;1992-10-06T00:00:00.000000000&#x27;,\n",
       "       &#x27;1994-09-06T00:00:00.000000000&#x27;, &#x27;1996-09-10T00:00:00.000000000&#x27;,\n",
       "       &#x27;1997-09-23T00:00:00.000000000&#x27;, &#x27;2001-09-20T00:00:00.000000000&#x27;,\n",
       "       &#x27;2004-09-26T00:00:00.000000000&#x27;, &#x27;2008-10-01T00:00:00.000000000&#x27;,\n",
       "       &#x27;2009-06-01T00:00:00.000000000&#x27;, &#x27;2012-07-05T00:00:00.000000000&#x27;,\n",
       "       &#x27;2012-09-06T00:00:00.000000000&#x27;, &#x27;2013-06-16T00:00:00.000000000&#x27;,\n",
       "       &#x27;2014-05-11T00:00:00.000000000&#x27;, &#x27;2014-08-24T00:00:00.000000000&#x27;,\n",
       "       &#x27;2014-09-06T00:00:00.000000000&#x27;, &#x27;2015-05-01T00:00:00.000000000&#x27;,\n",
       "       &#x27;2015-05-04T00:00:00.000000000&#x27;, &#x27;2015-06-06T00:00:00.000000000&#x27;,\n",
       "       &#x27;2015-08-17T00:00:00.000000000&#x27;, &#x27;2015-10-14T00:00:00.000000000&#x27;,\n",
       "       &#x27;2015-12-01T00:00:00.000000000&#x27;, &#x27;2016-01-06T00:00:00.000000000&#x27;,\n",
       "       &#x27;2016-01-09T00:00:00.000000000&#x27;, &#x27;2016-03-18T00:00:00.000000000&#x27;,\n",
       "       &#x27;2016-04-06T00:00:00.000000000&#x27;, &#x27;2016-04-08T00:00:00.000000000&#x27;,\n",
       "       &#x27;2016-04-19T00:00:00.000000000&#x27;, &#x27;2016-05-08T00:00:00.000000000&#x27;,\n",
       "       &#x27;2016-05-12T00:00:00.000000000&#x27;, &#x27;2016-06-19T00:00:00.000000000&#x27;,\n",
       "       &#x27;2016-06-22T00:00:00.000000000&#x27;, &#x27;2016-07-28T00:00:00.000000000&#x27;,\n",
       "       &#x27;2016-08-29T00:00:00.000000000&#x27;, &#x27;2016-09-27T00:00:00.000000000&#x27;,\n",
       "       &#x27;2016-10-22T00:00:00.000000000&#x27;, &#x27;2017-04-03T00:00:00.000000000&#x27;,\n",
       "       &#x27;2017-05-22T00:00:00.000000000&#x27;, &#x27;2017-06-22T00:00:00.000000000&#x27;,\n",
       "       &#x27;2017-07-18T00:00:00.000000000&#x27;, &#x27;2017-08-20T00:00:00.000000000&#x27;,\n",
       "       &#x27;2017-09-28T00:00:00.000000000&#x27;, &#x27;2018-03-11T00:00:00.000000000&#x27;,\n",
       "       &#x27;2018-04-24T00:00:00.000000000&#x27;, &#x27;2018-05-25T00:00:00.000000000&#x27;,\n",
       "       &#x27;2018-05-27T00:00:00.000000000&#x27;, &#x27;2018-07-19T00:00:00.000000000&#x27;,\n",
       "       &#x27;2018-08-17T00:00:00.000000000&#x27;, &#x27;2018-09-17T00:00:00.000000000&#x27;,\n",
       "       &#x27;2019-05-05T00:00:00.000000000&#x27;, &#x27;2019-07-25T00:00:00.000000000&#x27;,\n",
       "       &#x27;2019-08-08T00:00:00.000000000&#x27;, &#x27;2019-08-22T00:00:00.000000000&#x27;,\n",
       "       &#x27;2019-10-10T00:00:00.000000000&#x27;, &#x27;2020-04-09T00:00:00.000000000&#x27;,\n",
       "       &#x27;2020-07-13T00:00:00.000000000&#x27;, &#x27;2020-12-06T00:00:00.000000000&#x27;,\n",
       "       &#x27;2021-08-13T00:00:00.000000000&#x27;], dtype=&#x27;datetime64[ns]&#x27;)</pre></div></li><li class='xr-var-item'><div class='xr-var-name'><span class='xr-has-index'>x</span></div><div class='xr-var-dims'>(x)</div><div class='xr-var-dtype'>float64</div><div class='xr-var-preview xr-preview'>6.439e+05 6.439e+05 ... 6.441e+05</div><input id='attrs-d0dec97c-b29f-4277-bc4f-8c02364a121a' class='xr-var-attrs-in' type='checkbox' ><label for='attrs-d0dec97c-b29f-4277-bc4f-8c02364a121a' title='Show/Hide attributes'><svg class='icon xr-icon-file-text2'><use xlink:href='#icon-file-text2'></use></svg></label><input id='data-782ba10c-9530-4d3e-9c83-4830f2310a84' class='xr-var-data-in' type='checkbox'><label for='data-782ba10c-9530-4d3e-9c83-4830f2310a84' title='Show/Hide data repr'><svg class='icon xr-icon-database'><use xlink:href='#icon-database'></use></svg></label><div class='xr-var-attrs'><dl class='xr-attrs'><dt><span>axis :</span></dt><dd>X</dd><dt><span>long_name :</span></dt><dd>x coordinate of projection</dd><dt><span>standard_name :</span></dt><dd>projection_x_coordinate</dd><dt><span>units :</span></dt><dd>metre</dd></dl></div><div class='xr-var-data'><pre>array([643893.428, 643895.428, 643897.428, 643899.428, 643901.428, 643903.428,\n",
       "       643905.428, 643907.428, 643909.428, 643911.428, 643913.428, 643915.428,\n",
       "       643917.428, 643919.428, 643921.428, 643923.428, 643925.428, 643927.428,\n",
       "       643929.428, 643931.428, 643933.428, 643935.428, 643937.428, 643939.428,\n",
       "       643941.428, 643943.428, 643945.428, 643947.428, 643949.428, 643951.428,\n",
       "       643953.428, 643955.428, 643957.428, 643959.428, 643961.428, 643963.428,\n",
       "       643965.428, 643967.428, 643969.428, 643971.428, 643973.428, 643975.428,\n",
       "       643977.428, 643979.428, 643981.428, 643983.428, 643985.428, 643987.428,\n",
       "       643989.428, 643991.428, 643993.428, 643995.428, 643997.428, 643999.428,\n",
       "       644001.428, 644003.428, 644005.428, 644007.428, 644009.428, 644011.428,\n",
       "       644013.428, 644015.428, 644017.428, 644019.428, 644021.428, 644023.428,\n",
       "       644025.428, 644027.428, 644029.428, 644031.428, 644033.428, 644035.428,\n",
       "       644037.428, 644039.428, 644041.428, 644043.428, 644045.428, 644047.428,\n",
       "       644049.428, 644051.428, 644053.428, 644055.428, 644057.428, 644059.428,\n",
       "       644061.428, 644063.428, 644065.428, 644067.428, 644069.428, 644071.428,\n",
       "       644073.428, 644075.428, 644077.428, 644079.428, 644081.428, 644083.428,\n",
       "       644085.428, 644087.428, 644089.428, 644091.428, 644093.428])</pre></div></li><li class='xr-var-item'><div class='xr-var-name'><span class='xr-has-index'>y</span></div><div class='xr-var-dims'>(y)</div><div class='xr-var-dtype'>float64</div><div class='xr-var-preview xr-preview'>5.358e+06 5.358e+06 ... 5.358e+06</div><input id='attrs-d7316c8a-b85c-4fb5-b45b-938ec34e2ffc' class='xr-var-attrs-in' type='checkbox' ><label for='attrs-d7316c8a-b85c-4fb5-b45b-938ec34e2ffc' title='Show/Hide attributes'><svg class='icon xr-icon-file-text2'><use xlink:href='#icon-file-text2'></use></svg></label><input id='data-25595dc4-4c26-481f-8491-28af8f5276ba' class='xr-var-data-in' type='checkbox'><label for='data-25595dc4-4c26-481f-8491-28af8f5276ba' title='Show/Hide data repr'><svg class='icon xr-icon-database'><use xlink:href='#icon-database'></use></svg></label><div class='xr-var-attrs'><dl class='xr-attrs'><dt><span>axis :</span></dt><dd>Y</dd><dt><span>long_name :</span></dt><dd>y coordinate of projection</dd><dt><span>standard_name :</span></dt><dd>projection_y_coordinate</dd><dt><span>units :</span></dt><dd>metre</dd></dl></div><div class='xr-var-data'><pre>array([5358123.985, 5358121.985, 5358119.985, 5358117.985, 5358115.985,\n",
       "       5358113.985, 5358111.985, 5358109.985, 5358107.985, 5358105.985,\n",
       "       5358103.985, 5358101.985, 5358099.985, 5358097.985, 5358095.985,\n",
       "       5358093.985, 5358091.985, 5358089.985, 5358087.985, 5358085.985,\n",
       "       5358083.985, 5358081.985, 5358079.985, 5358077.985, 5358075.985,\n",
       "       5358073.985, 5358071.985, 5358069.985, 5358067.985, 5358065.985,\n",
       "       5358063.985, 5358061.985, 5358059.985, 5358057.985, 5358055.985,\n",
       "       5358053.985, 5358051.985, 5358049.985, 5358047.985, 5358045.985,\n",
       "       5358043.985, 5358041.985, 5358039.985, 5358037.985, 5358035.985,\n",
       "       5358033.985, 5358031.985, 5358029.985, 5358027.985, 5358025.985,\n",
       "       5358023.985, 5358021.985, 5358019.985, 5358017.985, 5358015.985,\n",
       "       5358013.985, 5358011.985, 5358009.985, 5358007.985, 5358005.985,\n",
       "       5358003.985, 5358001.985, 5357999.985, 5357997.985, 5357995.985,\n",
       "       5357993.985, 5357991.985, 5357989.985, 5357987.985, 5357985.985,\n",
       "       5357983.985, 5357981.985, 5357979.985, 5357977.985, 5357975.985,\n",
       "       5357973.985, 5357971.985, 5357969.985, 5357967.985, 5357965.985,\n",
       "       5357963.985, 5357961.985, 5357959.985, 5357957.985, 5357955.985,\n",
       "       5357953.985, 5357951.985, 5357949.985, 5357947.985, 5357945.985,\n",
       "       5357943.985, 5357941.985, 5357939.985, 5357937.985, 5357935.985,\n",
       "       5357933.985, 5357931.985, 5357929.985, 5357927.985, 5357925.985,\n",
       "       5357923.985])</pre></div></li></ul></div></li><li class='xr-section-item'><input id='section-87960396-1433-4a0f-a09b-22a426467a52' class='xr-section-summary-in' type='checkbox'  checked><label for='section-87960396-1433-4a0f-a09b-22a426467a52' class='xr-section-summary' >Data variables: <span>(2)</span></label><div class='xr-section-inline-details'></div><div class='xr-section-details'><ul class='xr-var-list'><li class='xr-var-item'><div class='xr-var-name'><span>band1</span></div><div class='xr-var-dims'>(time, y, x)</div><div class='xr-var-dtype'>float32</div><div class='xr-var-preview xr-preview'>dask.array&lt;chunksize=(71, 51, 51), meta=np.ndarray&gt;</div><input id='attrs-4d661467-b441-4f55-a3db-e40f467e1da1' class='xr-var-attrs-in' type='checkbox' ><label for='attrs-4d661467-b441-4f55-a3db-e40f467e1da1' title='Show/Hide attributes'><svg class='icon xr-icon-file-text2'><use xlink:href='#icon-file-text2'></use></svg></label><input id='data-ef3d6669-4d30-49ea-8a81-dead221d728d' class='xr-var-data-in' type='checkbox'><label for='data-ef3d6669-4d30-49ea-8a81-dead221d728d' title='Show/Hide data repr'><svg class='icon xr-icon-database'><use xlink:href='#icon-database'></use></svg></label><div class='xr-var-attrs'><dl class='xr-attrs'><dt><span>AREA_OR_POINT :</span></dt><dd>Area</dd><dt><span>TIFFTAG_ARTIST :</span></dt><dd>U.S. Geological Survey Benchmark Glacier Program</dd><dt><span>TIFFTAG_COPYRIGHT :</span></dt><dd>Public Domain</dd><dt><span>grid_mapping :</span></dt><dd>spatial_ref</dd></dl></div><div class='xr-var-data'><table>\n",
       "    <tr>\n",
       "        <td>\n",
       "            <table style=\"border-collapse: collapse;\">\n",
       "                <thead>\n",
       "                    <tr>\n",
       "                        <td> </td>\n",
       "                        <th> Array </th>\n",
       "                        <th> Chunk </th>\n",
       "                    </tr>\n",
       "                </thead>\n",
       "                <tbody>\n",
       "                    \n",
       "                    <tr>\n",
       "                        <th> Bytes </th>\n",
       "                        <td> 2.76 MiB </td>\n",
       "                        <td> 721.37 kiB </td>\n",
       "                    </tr>\n",
       "                    \n",
       "                    <tr>\n",
       "                        <th> Shape </th>\n",
       "                        <td> (71, 101, 101) </td>\n",
       "                        <td> (71, 51, 51) </td>\n",
       "                    </tr>\n",
       "                    <tr>\n",
       "                        <th> Dask graph </th>\n",
       "                        <td colspan=\"2\"> 4 chunks in 3 graph layers </td>\n",
       "                    </tr>\n",
       "                    <tr>\n",
       "                        <th> Data type </th>\n",
       "                        <td colspan=\"2\"> float32 numpy.ndarray </td>\n",
       "                    </tr>\n",
       "                </tbody>\n",
       "            </table>\n",
       "        </td>\n",
       "        <td>\n",
       "        <svg width=\"229\" height=\"219\" style=\"stroke:rgb(0,0,0);stroke-width:1\" >\n",
       "\n",
       "  <!-- Horizontal lines -->\n",
       "  <line x1=\"10\" y1=\"0\" x2=\"59\" y2=\"49\" style=\"stroke-width:2\" />\n",
       "  <line x1=\"10\" y1=\"60\" x2=\"59\" y2=\"110\" />\n",
       "  <line x1=\"10\" y1=\"120\" x2=\"59\" y2=\"169\" style=\"stroke-width:2\" />\n",
       "\n",
       "  <!-- Vertical lines -->\n",
       "  <line x1=\"10\" y1=\"0\" x2=\"10\" y2=\"120\" style=\"stroke-width:2\" />\n",
       "  <line x1=\"59\" y1=\"49\" x2=\"59\" y2=\"169\" style=\"stroke-width:2\" />\n",
       "\n",
       "  <!-- Colored Rectangle -->\n",
       "  <polygon points=\"10.0,0.0 59.62143273150844,49.62143273150844 59.62143273150844,169.62143273150843 10.0,120.0\" style=\"fill:#ECB172A0;stroke-width:0\"/>\n",
       "\n",
       "  <!-- Horizontal lines -->\n",
       "  <line x1=\"10\" y1=\"0\" x2=\"130\" y2=\"0\" style=\"stroke-width:2\" />\n",
       "  <line x1=\"59\" y1=\"49\" x2=\"179\" y2=\"49\" style=\"stroke-width:2\" />\n",
       "\n",
       "  <!-- Vertical lines -->\n",
       "  <line x1=\"10\" y1=\"0\" x2=\"59\" y2=\"49\" style=\"stroke-width:2\" />\n",
       "  <line x1=\"70\" y1=\"0\" x2=\"120\" y2=\"49\" />\n",
       "  <line x1=\"130\" y1=\"0\" x2=\"179\" y2=\"49\" style=\"stroke-width:2\" />\n",
       "\n",
       "  <!-- Colored Rectangle -->\n",
       "  <polygon points=\"10.0,0.0 130.0,0.0 179.62143273150843,49.62143273150844 59.62143273150844,49.62143273150844\" style=\"fill:#ECB172A0;stroke-width:0\"/>\n",
       "\n",
       "  <!-- Horizontal lines -->\n",
       "  <line x1=\"59\" y1=\"49\" x2=\"179\" y2=\"49\" style=\"stroke-width:2\" />\n",
       "  <line x1=\"59\" y1=\"110\" x2=\"179\" y2=\"110\" />\n",
       "  <line x1=\"59\" y1=\"169\" x2=\"179\" y2=\"169\" style=\"stroke-width:2\" />\n",
       "\n",
       "  <!-- Vertical lines -->\n",
       "  <line x1=\"59\" y1=\"49\" x2=\"59\" y2=\"169\" style=\"stroke-width:2\" />\n",
       "  <line x1=\"120\" y1=\"49\" x2=\"120\" y2=\"169\" />\n",
       "  <line x1=\"179\" y1=\"49\" x2=\"179\" y2=\"169\" style=\"stroke-width:2\" />\n",
       "\n",
       "  <!-- Colored Rectangle -->\n",
       "  <polygon points=\"59.62143273150844,49.62143273150844 179.62143273150843,49.62143273150844 179.62143273150843,169.62143273150843 59.62143273150844,169.62143273150843\" style=\"fill:#ECB172A0;stroke-width:0\"/>\n",
       "\n",
       "  <!-- Text -->\n",
       "  <text x=\"119.621433\" y=\"189.621433\" font-size=\"1.0rem\" font-weight=\"100\" text-anchor=\"middle\" >101</text>\n",
       "  <text x=\"199.621433\" y=\"109.621433\" font-size=\"1.0rem\" font-weight=\"100\" text-anchor=\"middle\" transform=\"rotate(-90,199.621433,109.621433)\">101</text>\n",
       "  <text x=\"24.810716\" y=\"164.810716\" font-size=\"1.0rem\" font-weight=\"100\" text-anchor=\"middle\" transform=\"rotate(45,24.810716,164.810716)\">71</text>\n",
       "</svg>\n",
       "        </td>\n",
       "    </tr>\n",
       "</table></div></li><li class='xr-var-item'><div class='xr-var-name'><span>spatial_ref</span></div><div class='xr-var-dims'>()</div><div class='xr-var-dtype'>int64</div><div class='xr-var-preview xr-preview'>...</div><input id='attrs-29d9d298-56ff-4e2a-9d53-8184ca616dc0' class='xr-var-attrs-in' type='checkbox' ><label for='attrs-29d9d298-56ff-4e2a-9d53-8184ca616dc0' title='Show/Hide attributes'><svg class='icon xr-icon-file-text2'><use xlink:href='#icon-file-text2'></use></svg></label><input id='data-1e132d73-40fe-4647-913d-668bfe5465ba' class='xr-var-data-in' type='checkbox'><label for='data-1e132d73-40fe-4647-913d-668bfe5465ba' title='Show/Hide data repr'><svg class='icon xr-icon-database'><use xlink:href='#icon-database'></use></svg></label><div class='xr-var-attrs'><dl class='xr-attrs'><dt><span>crs_wkt :</span></dt><dd>PROJCS[&quot;WGS 84 / UTM zone 10N&quot;,GEOGCS[&quot;WGS 84&quot;,DATUM[&quot;WGS_1984&quot;,SPHEROID[&quot;WGS 84&quot;,6378137,298.257223563,AUTHORITY[&quot;EPSG&quot;,&quot;7030&quot;]],AUTHORITY[&quot;EPSG&quot;,&quot;6326&quot;]],PRIMEM[&quot;Greenwich&quot;,0,AUTHORITY[&quot;EPSG&quot;,&quot;8901&quot;]],UNIT[&quot;degree&quot;,0.0174532925199433,AUTHORITY[&quot;EPSG&quot;,&quot;9122&quot;]],AUTHORITY[&quot;EPSG&quot;,&quot;4326&quot;]],PROJECTION[&quot;Transverse_Mercator&quot;],PARAMETER[&quot;latitude_of_origin&quot;,0],PARAMETER[&quot;central_meridian&quot;,-123],PARAMETER[&quot;scale_factor&quot;,0.9996],PARAMETER[&quot;false_easting&quot;,500000],PARAMETER[&quot;false_northing&quot;,0],UNIT[&quot;metre&quot;,1,AUTHORITY[&quot;EPSG&quot;,&quot;9001&quot;]],AXIS[&quot;Easting&quot;,EAST],AXIS[&quot;Northing&quot;,NORTH],AUTHORITY[&quot;EPSG&quot;,&quot;32610&quot;]]</dd><dt><span>false_easting :</span></dt><dd>500000.0</dd><dt><span>false_northing :</span></dt><dd>0.0</dd><dt><span>geographic_crs_name :</span></dt><dd>WGS 84</dd><dt><span>grid_mapping_name :</span></dt><dd>transverse_mercator</dd><dt><span>horizontal_datum_name :</span></dt><dd>World Geodetic System 1984</dd><dt><span>inverse_flattening :</span></dt><dd>298.257223563</dd><dt><span>latitude_of_projection_origin :</span></dt><dd>0.0</dd><dt><span>longitude_of_central_meridian :</span></dt><dd>-123.0</dd><dt><span>longitude_of_prime_meridian :</span></dt><dd>0.0</dd><dt><span>prime_meridian_name :</span></dt><dd>Greenwich</dd><dt><span>projected_crs_name :</span></dt><dd>WGS 84 / UTM zone 10N</dd><dt><span>reference_ellipsoid_name :</span></dt><dd>WGS 84</dd><dt><span>scale_factor_at_central_meridian :</span></dt><dd>0.9996</dd><dt><span>semi_major_axis :</span></dt><dd>6378137.0</dd><dt><span>semi_minor_axis :</span></dt><dd>6356752.314245179</dd><dt><span>spatial_ref :</span></dt><dd>PROJCS[&quot;WGS 84 / UTM zone 10N&quot;,GEOGCS[&quot;WGS 84&quot;,DATUM[&quot;WGS_1984&quot;,SPHEROID[&quot;WGS 84&quot;,6378137,298.257223563,AUTHORITY[&quot;EPSG&quot;,&quot;7030&quot;]],AUTHORITY[&quot;EPSG&quot;,&quot;6326&quot;]],PRIMEM[&quot;Greenwich&quot;,0,AUTHORITY[&quot;EPSG&quot;,&quot;8901&quot;]],UNIT[&quot;degree&quot;,0.0174532925199433,AUTHORITY[&quot;EPSG&quot;,&quot;9122&quot;]],AUTHORITY[&quot;EPSG&quot;,&quot;4326&quot;]],PROJECTION[&quot;Transverse_Mercator&quot;],PARAMETER[&quot;latitude_of_origin&quot;,0],PARAMETER[&quot;central_meridian&quot;,-123],PARAMETER[&quot;scale_factor&quot;,0.9996],PARAMETER[&quot;false_easting&quot;,500000],PARAMETER[&quot;false_northing&quot;,0],UNIT[&quot;metre&quot;,1,AUTHORITY[&quot;EPSG&quot;,&quot;9001&quot;]],AXIS[&quot;Easting&quot;,EAST],AXIS[&quot;Northing&quot;,NORTH],AUTHORITY[&quot;EPSG&quot;,&quot;32610&quot;]]</dd></dl></div><div class='xr-var-data'><pre>[1 values with dtype=int64]</pre></div></li></ul></div></li><li class='xr-section-item'><input id='section-efa079ba-b9d6-4dd8-be91-8ec7f36b0f30' class='xr-section-summary-in' type='checkbox'  ><label for='section-efa079ba-b9d6-4dd8-be91-8ec7f36b0f30' class='xr-section-summary' >Indexes: <span>(3)</span></label><div class='xr-section-inline-details'></div><div class='xr-section-details'><ul class='xr-var-list'><li class='xr-var-item'><div class='xr-index-name'><div>time</div></div><div class='xr-index-preview'>PandasIndex</div><div></div><input id='index-2e846e44-0f6b-4685-b86c-236c5c8540c7' class='xr-index-data-in' type='checkbox'/><label for='index-2e846e44-0f6b-4685-b86c-236c5c8540c7' title='Show/Hide index repr'><svg class='icon xr-icon-database'><use xlink:href='#icon-database'></use></svg></label><div class='xr-index-data'><pre>PandasIndex(DatetimeIndex([&#x27;1958-08-13&#x27;, &#x27;1967-09-21&#x27;, &#x27;1970-09-29&#x27;, &#x27;1974-08-10&#x27;,\n",
       "               &#x27;1977-10-03&#x27;, &#x27;1979-08-20&#x27;, &#x27;1979-10-06&#x27;, &#x27;1984-08-14&#x27;,\n",
       "               &#x27;1986-09-05&#x27;, &#x27;1987-08-21&#x27;, &#x27;1990-09-05&#x27;, &#x27;1991-09-09&#x27;,\n",
       "               &#x27;1992-07-28&#x27;, &#x27;1992-09-15&#x27;, &#x27;1992-09-18&#x27;, &#x27;1992-10-06&#x27;,\n",
       "               &#x27;1994-09-06&#x27;, &#x27;1996-09-10&#x27;, &#x27;1997-09-23&#x27;, &#x27;2001-09-20&#x27;,\n",
       "               &#x27;2004-09-26&#x27;, &#x27;2008-10-01&#x27;, &#x27;2009-06-01&#x27;, &#x27;2012-07-05&#x27;,\n",
       "               &#x27;2012-09-06&#x27;, &#x27;2013-06-16&#x27;, &#x27;2014-05-11&#x27;, &#x27;2014-08-24&#x27;,\n",
       "               &#x27;2014-09-06&#x27;, &#x27;2015-05-01&#x27;, &#x27;2015-05-04&#x27;, &#x27;2015-06-06&#x27;,\n",
       "               &#x27;2015-08-17&#x27;, &#x27;2015-10-14&#x27;, &#x27;2015-12-01&#x27;, &#x27;2016-01-06&#x27;,\n",
       "               &#x27;2016-01-09&#x27;, &#x27;2016-03-18&#x27;, &#x27;2016-04-06&#x27;, &#x27;2016-04-08&#x27;,\n",
       "               &#x27;2016-04-19&#x27;, &#x27;2016-05-08&#x27;, &#x27;2016-05-12&#x27;, &#x27;2016-06-19&#x27;,\n",
       "               &#x27;2016-06-22&#x27;, &#x27;2016-07-28&#x27;, &#x27;2016-08-29&#x27;, &#x27;2016-09-27&#x27;,\n",
       "               &#x27;2016-10-22&#x27;, &#x27;2017-04-03&#x27;, &#x27;2017-05-22&#x27;, &#x27;2017-06-22&#x27;,\n",
       "               &#x27;2017-07-18&#x27;, &#x27;2017-08-20&#x27;, &#x27;2017-09-28&#x27;, &#x27;2018-03-11&#x27;,\n",
       "               &#x27;2018-04-24&#x27;, &#x27;2018-05-25&#x27;, &#x27;2018-05-27&#x27;, &#x27;2018-07-19&#x27;,\n",
       "               &#x27;2018-08-17&#x27;, &#x27;2018-09-17&#x27;, &#x27;2019-05-05&#x27;, &#x27;2019-07-25&#x27;,\n",
       "               &#x27;2019-08-08&#x27;, &#x27;2019-08-22&#x27;, &#x27;2019-10-10&#x27;, &#x27;2020-04-09&#x27;,\n",
       "               &#x27;2020-07-13&#x27;, &#x27;2020-12-06&#x27;, &#x27;2021-08-13&#x27;],\n",
       "              dtype=&#x27;datetime64[ns]&#x27;, name=&#x27;time&#x27;, freq=None))</pre></div></li><li class='xr-var-item'><div class='xr-index-name'><div>x</div></div><div class='xr-index-preview'>PandasIndex</div><div></div><input id='index-743eb75f-c91e-4542-905e-07ff27a59b4c' class='xr-index-data-in' type='checkbox'/><label for='index-743eb75f-c91e-4542-905e-07ff27a59b4c' title='Show/Hide index repr'><svg class='icon xr-icon-database'><use xlink:href='#icon-database'></use></svg></label><div class='xr-index-data'><pre>PandasIndex(Float64Index([643893.428, 643895.428, 643897.428, 643899.428, 643901.428,\n",
       "              643903.428, 643905.428, 643907.428, 643909.428, 643911.428,\n",
       "              ...\n",
       "              644075.428, 644077.428, 644079.428, 644081.428, 644083.428,\n",
       "              644085.428, 644087.428, 644089.428, 644091.428, 644093.428],\n",
       "             dtype=&#x27;float64&#x27;, name=&#x27;x&#x27;, length=101))</pre></div></li><li class='xr-var-item'><div class='xr-index-name'><div>y</div></div><div class='xr-index-preview'>PandasIndex</div><div></div><input id='index-9961fd94-7683-422f-8765-80d9a1c4d192' class='xr-index-data-in' type='checkbox'/><label for='index-9961fd94-7683-422f-8765-80d9a1c4d192' title='Show/Hide index repr'><svg class='icon xr-icon-database'><use xlink:href='#icon-database'></use></svg></label><div class='xr-index-data'><pre>PandasIndex(Float64Index([5358123.985, 5358121.985, 5358119.985, 5358117.985, 5358115.985,\n",
       "              5358113.985, 5358111.985, 5358109.985, 5358107.985, 5358105.985,\n",
       "              ...\n",
       "              5357941.985, 5357939.985, 5357937.985, 5357935.985, 5357933.985,\n",
       "              5357931.985, 5357929.985, 5357927.985, 5357925.985, 5357923.985],\n",
       "             dtype=&#x27;float64&#x27;, name=&#x27;y&#x27;, length=101))</pre></div></li></ul></div></li><li class='xr-section-item'><input id='section-d7dec664-8869-4d6e-80ef-c0f4991420bf' class='xr-section-summary-in' type='checkbox'  checked><label for='section-d7dec664-8869-4d6e-80ef-c0f4991420bf' class='xr-section-summary' >Attributes: <span>(6)</span></label><div class='xr-section-inline-details'></div><div class='xr-section-details'><dl class='xr-attrs'><dt><span>AREA_OR_POINT :</span></dt><dd>Area</dd><dt><span>TIFFTAG_ARTIST :</span></dt><dd>U.S. Geological Survey Benchmark Glacier Program</dd><dt><span>TIFFTAG_COPYRIGHT :</span></dt><dd>Public Domain</dd><dt><span>add_offset :</span></dt><dd>0.0</dd><dt><span>crs :</span></dt><dd>PROJCS[&quot;WGS 84 / UTM zone 10N&quot;,GEOGCS[&quot;WGS 84&quot;,DATUM[&quot;WGS_1984&quot;,SPHEROID[&quot;WGS 84&quot;,6378137,298.257223563,AUTHORITY[&quot;EPSG&quot;,&quot;7030&quot;]],AUTHORITY[&quot;EPSG&quot;,&quot;6326&quot;]],PRIMEM[&quot;Greenwich&quot;,0,AUTHORITY[&quot;EPSG&quot;,&quot;8901&quot;]],UNIT[&quot;degree&quot;,0.0174532925199433,AUTHORITY[&quot;EPSG&quot;,&quot;9122&quot;]],AUTHORITY[&quot;EPSG&quot;,&quot;4326&quot;]],PROJECTION[&quot;Transverse_Mercator&quot;],PARAMETER[&quot;latitude_of_origin&quot;,0],PARAMETER[&quot;central_meridian&quot;,-123],PARAMETER[&quot;scale_factor&quot;,0.9996],PARAMETER[&quot;false_easting&quot;,500000],PARAMETER[&quot;false_northing&quot;,0],UNIT[&quot;metre&quot;,1,AUTHORITY[&quot;EPSG&quot;,&quot;9001&quot;]],AXIS[&quot;Easting&quot;,EAST],AXIS[&quot;Northing&quot;,NORTH],AUTHORITY[&quot;EPSG&quot;,&quot;32610&quot;]]</dd><dt><span>scale_factor :</span></dt><dd>1.0</dd></dl></div></li></ul></div></div>"
      ],
      "text/plain": [
       "<xarray.Dataset>\n",
       "Dimensions:      (time: 71, y: 101, x: 101)\n",
       "Coordinates:\n",
       "  * time         (time) datetime64[ns] 1958-08-13 1967-09-21 ... 2021-08-13\n",
       "  * x            (x) float64 6.439e+05 6.439e+05 ... 6.441e+05 6.441e+05\n",
       "  * y            (y) float64 5.358e+06 5.358e+06 ... 5.358e+06 5.358e+06\n",
       "Data variables:\n",
       "    band1        (time, y, x) float32 dask.array<chunksize=(71, 51, 51), meta=np.ndarray>\n",
       "    spatial_ref  int64 ...\n",
       "Attributes:\n",
       "    AREA_OR_POINT:      Area\n",
       "    TIFFTAG_ARTIST:     U.S. Geological Survey Benchmark Glacier Program\n",
       "    TIFFTAG_COPYRIGHT:  Public Domain\n",
       "    add_offset:         0.0\n",
       "    crs:                PROJCS[\"WGS 84 / UTM zone 10N\",GEOGCS[\"WGS 84\",DATUM[...\n",
       "    scale_factor:       1.0"
      ]
     },
     "execution_count": 6,
     "metadata": {},
     "output_type": "execute_result"
    }
   ],
   "source": [
    "scg_sub"
   ]
  },
  {
   "cell_type": "code",
   "execution_count": 7,
   "id": "bf15cf0a",
   "metadata": {
    "tags": []
   },
   "outputs": [
    {
     "data": {
      "text/plain": [
       "2.899276"
      ]
     },
     "execution_count": 7,
     "metadata": {},
     "output_type": "execute_result"
    }
   ],
   "source": [
    "scg_sub.nbytes/1e6"
   ]
  },
  {
   "cell_type": "markdown",
   "id": "1fd032a5",
   "metadata": {
    "tags": [],
    "user_expressions": []
   },
   "source": [
    "### Plot bounds on interactive map"
   ]
  },
  {
   "cell_type": "code",
   "execution_count": 8,
   "id": "24d940cf",
   "metadata": {
    "tags": []
   },
   "outputs": [
    {
     "data": {
      "text/html": [
       "<div style=\"width:100%;\"><div style=\"position:relative;width:100%;height:0;padding-bottom:60%;\"><span style=\"color:#565656\">Make this Notebook Trusted to load map: File -> Trust Notebook</span><iframe srcdoc=\"&lt;!DOCTYPE html&gt;\n",
       "&lt;html&gt;\n",
       "&lt;head&gt;\n",
       "    \n",
       "    &lt;meta http-equiv=&quot;content-type&quot; content=&quot;text/html; charset=UTF-8&quot; /&gt;\n",
       "    \n",
       "        &lt;script&gt;\n",
       "            L_NO_TOUCH = false;\n",
       "            L_DISABLE_3D = false;\n",
       "        &lt;/script&gt;\n",
       "    \n",
       "    &lt;style&gt;html, body {width: 100%;height: 100%;margin: 0;padding: 0;}&lt;/style&gt;\n",
       "    &lt;style&gt;#map {position:absolute;top:0;bottom:0;right:0;left:0;}&lt;/style&gt;\n",
       "    &lt;script src=&quot;https://cdn.jsdelivr.net/npm/leaflet@1.9.3/dist/leaflet.js&quot;&gt;&lt;/script&gt;\n",
       "    &lt;script src=&quot;https://code.jquery.com/jquery-1.12.4.min.js&quot;&gt;&lt;/script&gt;\n",
       "    &lt;script src=&quot;https://cdn.jsdelivr.net/npm/bootstrap@5.2.2/dist/js/bootstrap.bundle.min.js&quot;&gt;&lt;/script&gt;\n",
       "    &lt;script src=&quot;https://cdnjs.cloudflare.com/ajax/libs/Leaflet.awesome-markers/2.0.2/leaflet.awesome-markers.js&quot;&gt;&lt;/script&gt;\n",
       "    &lt;link rel=&quot;stylesheet&quot; href=&quot;https://cdn.jsdelivr.net/npm/leaflet@1.9.3/dist/leaflet.css&quot;/&gt;\n",
       "    &lt;link rel=&quot;stylesheet&quot; href=&quot;https://cdn.jsdelivr.net/npm/bootstrap@5.2.2/dist/css/bootstrap.min.css&quot;/&gt;\n",
       "    &lt;link rel=&quot;stylesheet&quot; href=&quot;https://netdna.bootstrapcdn.com/bootstrap/3.0.0/css/bootstrap.min.css&quot;/&gt;\n",
       "    &lt;link rel=&quot;stylesheet&quot; href=&quot;https://cdn.jsdelivr.net/npm/@fortawesome/fontawesome-free@6.2.0/css/all.min.css&quot;/&gt;\n",
       "    &lt;link rel=&quot;stylesheet&quot; href=&quot;https://cdnjs.cloudflare.com/ajax/libs/Leaflet.awesome-markers/2.0.2/leaflet.awesome-markers.css&quot;/&gt;\n",
       "    &lt;link rel=&quot;stylesheet&quot; href=&quot;https://cdn.jsdelivr.net/gh/python-visualization/folium/folium/templates/leaflet.awesome.rotate.min.css&quot;/&gt;\n",
       "    \n",
       "            &lt;meta name=&quot;viewport&quot; content=&quot;width=device-width,\n",
       "                initial-scale=1.0, maximum-scale=1.0, user-scalable=no&quot; /&gt;\n",
       "            &lt;style&gt;\n",
       "                #map_a42592e52c72fc2bae770139f0e9182a {\n",
       "                    position: relative;\n",
       "                    width: 100.0%;\n",
       "                    height: 100.0%;\n",
       "                    left: 0.0%;\n",
       "                    top: 0.0%;\n",
       "                }\n",
       "                .leaflet-container { font-size: 1rem; }\n",
       "            &lt;/style&gt;\n",
       "        \n",
       "    \n",
       "                    &lt;style&gt;\n",
       "                        .foliumtooltip {\n",
       "                            \n",
       "                        }\n",
       "                       .foliumtooltip table{\n",
       "                            margin: auto;\n",
       "                        }\n",
       "                        .foliumtooltip tr{\n",
       "                            text-align: left;\n",
       "                        }\n",
       "                        .foliumtooltip th{\n",
       "                            padding: 2px; padding-right: 8px;\n",
       "                        }\n",
       "                    &lt;/style&gt;\n",
       "            \n",
       "&lt;/head&gt;\n",
       "&lt;body&gt;\n",
       "    \n",
       "    \n",
       "            &lt;div class=&quot;folium-map&quot; id=&quot;map_a42592e52c72fc2bae770139f0e9182a&quot; &gt;&lt;/div&gt;\n",
       "        \n",
       "&lt;/body&gt;\n",
       "&lt;script&gt;\n",
       "    \n",
       "    \n",
       "            var map_a42592e52c72fc2bae770139f0e9182a = L.map(\n",
       "                &quot;map_a42592e52c72fc2bae770139f0e9182a&quot;,\n",
       "                {\n",
       "                    center: [48.35895833401284, -121.0561106634112],\n",
       "                    crs: L.CRS.EPSG3857,\n",
       "                    zoom: 10,\n",
       "                    zoomControl: true,\n",
       "                    preferCanvas: false,\n",
       "                }\n",
       "            );\n",
       "            L.control.scale().addTo(map_a42592e52c72fc2bae770139f0e9182a);\n",
       "\n",
       "            \n",
       "\n",
       "        \n",
       "    \n",
       "            var tile_layer_361727bb0ee705be779e76cf4715ef45 = L.tileLayer(\n",
       "                &quot;https://mt1.google.com/vt/lyrs=s\\u0026x={x}\\u0026y={y}\\u0026z={z}&quot;,\n",
       "                {&quot;attribution&quot;: &quot;Google&quot;, &quot;detectRetina&quot;: false, &quot;maxNativeZoom&quot;: 18, &quot;maxZoom&quot;: 18, &quot;minZoom&quot;: 0, &quot;noWrap&quot;: false, &quot;opacity&quot;: 1, &quot;subdomains&quot;: &quot;abc&quot;, &quot;tms&quot;: false}\n",
       "            ).addTo(map_a42592e52c72fc2bae770139f0e9182a);\n",
       "        \n",
       "    \n",
       "            map_a42592e52c72fc2bae770139f0e9182a.fitBounds(\n",
       "                [[48.3580271644315, -121.05750789527684], [48.35988950359418, -121.05471343154557]],\n",
       "                {}\n",
       "            );\n",
       "        \n",
       "    \n",
       "        function geo_json_94980ad24075a4234b634468c908101b_styler(feature) {\n",
       "            switch(feature.id) {\n",
       "                default:\n",
       "                    return {&quot;fillOpacity&quot;: 0.5, &quot;weight&quot;: 2};\n",
       "            }\n",
       "        }\n",
       "        function geo_json_94980ad24075a4234b634468c908101b_highlighter(feature) {\n",
       "            switch(feature.id) {\n",
       "                default:\n",
       "                    return {&quot;fillOpacity&quot;: 0.75};\n",
       "            }\n",
       "        }\n",
       "        function geo_json_94980ad24075a4234b634468c908101b_pointToLayer(feature, latlng) {\n",
       "            var opts = {&quot;bubblingMouseEvents&quot;: true, &quot;color&quot;: &quot;#3388ff&quot;, &quot;dashArray&quot;: null, &quot;dashOffset&quot;: null, &quot;fill&quot;: true, &quot;fillColor&quot;: &quot;#3388ff&quot;, &quot;fillOpacity&quot;: 0.2, &quot;fillRule&quot;: &quot;evenodd&quot;, &quot;lineCap&quot;: &quot;round&quot;, &quot;lineJoin&quot;: &quot;round&quot;, &quot;opacity&quot;: 1.0, &quot;radius&quot;: 2, &quot;stroke&quot;: true, &quot;weight&quot;: 3};\n",
       "            \n",
       "            let style = geo_json_94980ad24075a4234b634468c908101b_styler(feature)\n",
       "            Object.assign(opts, style)\n",
       "            \n",
       "            return new L.CircleMarker(latlng, opts)\n",
       "        }\n",
       "\n",
       "        function geo_json_94980ad24075a4234b634468c908101b_onEachFeature(feature, layer) {\n",
       "            layer.on({\n",
       "                mouseout: function(e) {\n",
       "                    if(typeof e.target.setStyle === &quot;function&quot;){\n",
       "                        geo_json_94980ad24075a4234b634468c908101b.resetStyle(e.target);\n",
       "                    }\n",
       "                },\n",
       "                mouseover: function(e) {\n",
       "                    if(typeof e.target.setStyle === &quot;function&quot;){\n",
       "                        const highlightStyle = geo_json_94980ad24075a4234b634468c908101b_highlighter(e.target.feature)\n",
       "                        e.target.setStyle(highlightStyle);\n",
       "                    }\n",
       "                },\n",
       "            });\n",
       "        };\n",
       "        var geo_json_94980ad24075a4234b634468c908101b = L.geoJson(null, {\n",
       "                onEachFeature: geo_json_94980ad24075a4234b634468c908101b_onEachFeature,\n",
       "            \n",
       "                style: geo_json_94980ad24075a4234b634468c908101b_styler,\n",
       "                pointToLayer: geo_json_94980ad24075a4234b634468c908101b_pointToLayer\n",
       "        });\n",
       "\n",
       "        function geo_json_94980ad24075a4234b634468c908101b_add (data) {\n",
       "            geo_json_94980ad24075a4234b634468c908101b\n",
       "                .addData(data)\n",
       "                .addTo(map_a42592e52c72fc2bae770139f0e9182a);\n",
       "        }\n",
       "            geo_json_94980ad24075a4234b634468c908101b_add({&quot;bbox&quot;: [-121.05750789527684, 48.3580271644315, -121.05471343154557, 48.35988950359418], &quot;features&quot;: [{&quot;bbox&quot;: [-121.05750789527684, 48.3580271644315, -121.05471343154557, 48.35988950359418], &quot;geometry&quot;: {&quot;coordinates&quot;: [[[-121.0574388171805, 48.35988950359418], [-121.05471343154557, 48.35984343356255], [-121.05478260640864, 48.3580271644315], [-121.05750789527684, 48.35807323154169], [-121.0574388171805, 48.35988950359418]]], &quot;type&quot;: &quot;Polygon&quot;}, &quot;id&quot;: &quot;0&quot;, &quot;properties&quot;: {}, &quot;type&quot;: &quot;Feature&quot;}], &quot;type&quot;: &quot;FeatureCollection&quot;});\n",
       "\n",
       "        \n",
       "    \n",
       "    geo_json_94980ad24075a4234b634468c908101b.bindTooltip(\n",
       "    function(layer){\n",
       "    let div = L.DomUtil.create(&#x27;div&#x27;);\n",
       "    \n",
       "    return div\n",
       "    }\n",
       "    ,{&quot;className&quot;: &quot;foliumtooltip&quot;, &quot;sticky&quot;: true});\n",
       "                     \n",
       "&lt;/script&gt;\n",
       "&lt;/html&gt;\" style=\"position:absolute;width:100%;height:100%;left:0;top:0;border:none !important;\" allowfullscreen webkitallowfullscreen mozallowfullscreen></iframe></div></div>"
      ],
      "text/plain": [
       "<folium.folium.Map at 0x7f2f628b4e20>"
      ]
     },
     "execution_count": 8,
     "metadata": {},
     "output_type": "execute_result"
    }
   ],
   "source": [
    "#baker_gdf = tools.bounds2polygon(*baker_ds.rio.bounds(),baker_ds.rio.crs)\n",
    "#baker_gdf.explore(tiles=\"https://mt1.google.com/vt/lyrs=s&x={x}&y={y}&z={z}\",\n",
    "#               attr='Google')\n",
    "\n",
    "scg_gdf = tools.bounds2polygon(*scg_sub.rio.bounds(),scg_sub.rio.crs)\n",
    "scg_gdf.explore(tiles=\"https://mt1.google.com/vt/lyrs=s&x={x}&y={y}&z={z}\",\n",
    "                attr='Google')"
   ]
  },
  {
   "cell_type": "code",
   "execution_count": 11,
   "id": "91fcafc4-d61e-4201-870b-32ef712c5c62",
   "metadata": {
    "tags": []
   },
   "outputs": [
    {
     "data": {
      "image/png": "[encoded data removed]",
      "text/plain": [
       "<Figure size 640x480 with 2 Axes>"
      ]
     },
     "metadata": {},
     "output_type": "display_data"
    }
   ],
   "source": [
    "scg_sub.mean(dim='time').band1.plot();"
   ]
  },
  {
   "cell_type": "code",
   "execution_count": 29,
   "id": "15cb7b76-492c-496d-85dc-15c14a3cf8de",
   "metadata": {
    "tags": []
   },
   "outputs": [],
   "source": [
    "#tools.plot_percent_area_coverage(baker_ds, 'mount baker \\n percent DEM area coverage')"
   ]
  },
  {
   "cell_type": "code",
   "execution_count": 14,
   "id": "475c6b4c-f8ee-4a3e-a5e9-17905db7a702",
   "metadata": {
    "tags": []
   },
   "outputs": [],
   "source": [
    "#tools.plot_percent_area_coverage(scg_ds, title = 'south cascade glacier -- percent DEM area coverage')"
   ]
  },
  {
   "cell_type": "markdown",
   "id": "7305c9da-f82a-42f6-b975-be44ca430fcd",
   "metadata": {
    "tags": [],
    "user_expressions": []
   },
   "source": [
    "## Prepare subset of data for GP "
   ]
  },
  {
   "cell_type": "code",
   "execution_count": 9,
   "id": "c53f5b05-be89-4972-8304-4aba7dba38ca",
   "metadata": {
    "tags": []
   },
   "outputs": [],
   "source": [
    "def swap_time_dim(ds):\n",
    "    ds['time_numeric'] = ds.time.dt.year + ds.time.dt.dayofyear / 365\n",
    "    ds = ds.swap_dims({'time':'time_numeric'})\n",
    "    return ds\n",
    "\n",
    "def prep_data_to_tensor(ds): #got some of this from gh issue\n",
    "    \n",
    "    #ds = swap_time_dim(ds)\n",
    "\n",
    "    \n",
    "    x = ds.coords['x'].data\n",
    "    y = ds.coords['y'].data\n",
    "    t = ds.coords['time_numeric'].data\n",
    "    z = ds.band1.data.ravel()\n",
    "    \n",
    "    \n",
    "    xv, yv,tv = torch.meshgrid(torch.from_numpy(x),\n",
    "                        torch.from_numpy(y),\n",
    "                        torch.from_numpy(t), indexing = 'ij')\n",
    "    zv = torch.from_numpy(z)\n",
    "    \n",
    "    train_x = torch.cat(( #concatenates given seq of tensors in a given dim\n",
    "    xv.contiguous().view(xv.numel(), 1), #returns contiguous in mem array, view rehsapes and numel returns # elements -- so this is like np reshape to 1xlen\n",
    "    yv.contiguous().view(yv.numel(), 1),\n",
    "    tv.contiguous().view(tv.numel(), 1)),\n",
    "    dim=1 #dim to pass to cat\n",
    "    )\n",
    "    train_y = zv\n",
    "    \n",
    "    return (train_x, train_y)"
   ]
  },
  {
   "cell_type": "code",
   "execution_count": 10,
   "id": "c86b2477-08f4-461c-96de-c6c5e5330a43",
   "metadata": {
    "tags": []
   },
   "outputs": [],
   "source": [
    "scg_sub = swap_time_dim(scg_sub)"
   ]
  },
  {
   "cell_type": "code",
   "execution_count": 11,
   "id": "122c1300-124e-4921-83c2-e2eef0817ffb",
   "metadata": {
    "tags": []
   },
   "outputs": [],
   "source": [
    "#format dataset into chunks -- this fn only returns a single chunk\n",
    "# to grab a different chunk, remove iter call and index bgen like list\n",
    "def format_chunks(ds):\n",
    "    \n",
    "    bgen = iter(xbatcher.BatchGenerator(ds, {'x':50,\n",
    "                                             'y':50, \n",
    "                                             'time_numeric':int(np.ceil(len(ds.time_numeric)/2))},\n",
    "                                            input_overlap={'time_numeric':9}\n",
    "                                       ))\n",
    "    chunk = next(bgen)\n",
    "    return chunk\n",
    "                "
   ]
  },
  {
   "cell_type": "code",
   "execution_count": 12,
   "id": "78f9520b-6403-45d7-b0f2-62028883fdef",
   "metadata": {
    "tags": []
   },
   "outputs": [],
   "source": [
    "scg_chunk = format_chunks(scg_sub)"
   ]
  },
  {
   "cell_type": "code",
   "execution_count": 13,
   "id": "ea44afcc-5c38-4b12-90a1-4c2a5d688be2",
   "metadata": {
    "tags": []
   },
   "outputs": [
    {
     "data": {
      "text/html": [
       "<div><svg style=\"position: absolute; width: 0; height: 0; overflow: hidden\">\n",
       "<defs>\n",
       "<symbol id=\"icon-database\" viewBox=\"0 0 32 32\">\n",
       "<path d=\"M16 0c-8.837 0-16 2.239-16 5v4c0 2.761 7.163 5 16 5s16-2.239 16-5v-4c0-2.761-7.163-5-16-5z\"></path>\n",
       "<path d=\"M16 17c-8.837 0-16-2.239-16-5v6c0 2.761 7.163 5 16 5s16-2.239 16-5v-6c0 2.761-7.163 5-16 5z\"></path>\n",
       "<path d=\"M16 26c-8.837 0-16-2.239-16-5v6c0 2.761 7.163 5 16 5s16-2.239 16-5v-6c0 2.761-7.163 5-16 5z\"></path>\n",
       "</symbol>\n",
       "<symbol id=\"icon-file-text2\" viewBox=\"0 0 32 32\">\n",
       "<path d=\"M28.681 7.159c-0.694-0.947-1.662-2.053-2.724-3.116s-2.169-2.030-3.116-2.724c-1.612-1.182-2.393-1.319-2.841-1.319h-15.5c-1.378 0-2.5 1.121-2.5 2.5v27c0 1.378 1.122 2.5 2.5 2.5h23c1.378 0 2.5-1.122 2.5-2.5v-19.5c0-0.448-0.137-1.23-1.319-2.841zM24.543 5.457c0.959 0.959 1.712 1.825 2.268 2.543h-4.811v-4.811c0.718 0.556 1.584 1.309 2.543 2.268zM28 29.5c0 0.271-0.229 0.5-0.5 0.5h-23c-0.271 0-0.5-0.229-0.5-0.5v-27c0-0.271 0.229-0.5 0.5-0.5 0 0 15.499-0 15.5 0v7c0 0.552 0.448 1 1 1h7v19.5z\"></path>\n",
       "<path d=\"M23 26h-14c-0.552 0-1-0.448-1-1s0.448-1 1-1h14c0.552 0 1 0.448 1 1s-0.448 1-1 1z\"></path>\n",
       "<path d=\"M23 22h-14c-0.552 0-1-0.448-1-1s0.448-1 1-1h14c0.552 0 1 0.448 1 1s-0.448 1-1 1z\"></path>\n",
       "<path d=\"M23 18h-14c-0.552 0-1-0.448-1-1s0.448-1 1-1h14c0.552 0 1 0.448 1 1s-0.448 1-1 1z\"></path>\n",
       "</symbol>\n",
       "</defs>\n",
       "</svg>\n",
       "<style>/* CSS stylesheet for displaying xarray objects in jupyterlab.\n",
       " *\n",
       " */\n",
       "\n",
       ":root {\n",
       "  --xr-font-color0: var(--jp-content-font-color0, rgba(0, 0, 0, 1));\n",
       "  --xr-font-color2: var(--jp-content-font-color2, rgba(0, 0, 0, 0.54));\n",
       "  --xr-font-color3: var(--jp-content-font-color3, rgba(0, 0, 0, 0.38));\n",
       "  --xr-border-color: var(--jp-border-color2, #e0e0e0);\n",
       "  --xr-disabled-color: var(--jp-layout-color3, #bdbdbd);\n",
       "  --xr-background-color: var(--jp-layout-color0, white);\n",
       "  --xr-background-color-row-even: var(--jp-layout-color1, white);\n",
       "  --xr-background-color-row-odd: var(--jp-layout-color2, #eeeeee);\n",
       "}\n",
       "\n",
       "html[theme=dark],\n",
       "body[data-theme=dark],\n",
       "body.vscode-dark {\n",
       "  --xr-font-color0: rgba(255, 255, 255, 1);\n",
       "  --xr-font-color2: rgba(255, 255, 255, 0.54);\n",
       "  --xr-font-color3: rgba(255, 255, 255, 0.38);\n",
       "  --xr-border-color: #1F1F1F;\n",
       "  --xr-disabled-color: #515151;\n",
       "  --xr-background-color: #111111;\n",
       "  --xr-background-color-row-even: #111111;\n",
       "  --xr-background-color-row-odd: #313131;\n",
       "}\n",
       "\n",
       ".xr-wrap {\n",
       "  display: block !important;\n",
       "  min-width: 300px;\n",
       "  max-width: 700px;\n",
       "}\n",
       "\n",
       ".xr-text-repr-fallback {\n",
       "  /* fallback to plain text repr when CSS is not injected (untrusted notebook) */\n",
       "  display: none;\n",
       "}\n",
       "\n",
       ".xr-header {\n",
       "  padding-top: 6px;\n",
       "  padding-bottom: 6px;\n",
       "  margin-bottom: 4px;\n",
       "  border-bottom: solid 1px var(--xr-border-color);\n",
       "}\n",
       "\n",
       ".xr-header > div,\n",
       ".xr-header > ul {\n",
       "  display: inline;\n",
       "  margin-top: 0;\n",
       "  margin-bottom: 0;\n",
       "}\n",
       "\n",
       ".xr-obj-type,\n",
       ".xr-array-name {\n",
       "  margin-left: 2px;\n",
       "  margin-right: 10px;\n",
       "}\n",
       "\n",
       ".xr-obj-type {\n",
       "  color: var(--xr-font-color2);\n",
       "}\n",
       "\n",
       ".xr-sections {\n",
       "  padding-left: 0 !important;\n",
       "  display: grid;\n",
       "  grid-template-columns: 150px auto auto 1fr 20px 20px;\n",
       "}\n",
       "\n",
       ".xr-section-item {\n",
       "  display: contents;\n",
       "}\n",
       "\n",
       ".xr-section-item input {\n",
       "  display: none;\n",
       "}\n",
       "\n",
       ".xr-section-item input + label {\n",
       "  color: var(--xr-disabled-color);\n",
       "}\n",
       "\n",
       ".xr-section-item input:enabled + label {\n",
       "  cursor: pointer;\n",
       "  color: var(--xr-font-color2);\n",
       "}\n",
       "\n",
       ".xr-section-item input:enabled + label:hover {\n",
       "  color: var(--xr-font-color0);\n",
       "}\n",
       "\n",
       ".xr-section-summary {\n",
       "  grid-column: 1;\n",
       "  color: var(--xr-font-color2);\n",
       "  font-weight: 500;\n",
       "}\n",
       "\n",
       ".xr-section-summary > span {\n",
       "  display: inline-block;\n",
       "  padding-left: 0.5em;\n",
       "}\n",
       "\n",
       ".xr-section-summary-in:disabled + label {\n",
       "  color: var(--xr-font-color2);\n",
       "}\n",
       "\n",
       ".xr-section-summary-in + label:before {\n",
       "  display: inline-block;\n",
       "  content: '►';\n",
       "  font-size: 11px;\n",
       "  width: 15px;\n",
       "  text-align: center;\n",
       "}\n",
       "\n",
       ".xr-section-summary-in:disabled + label:before {\n",
       "  color: var(--xr-disabled-color);\n",
       "}\n",
       "\n",
       ".xr-section-summary-in:checked + label:before {\n",
       "  content: '▼';\n",
       "}\n",
       "\n",
       ".xr-section-summary-in:checked + label > span {\n",
       "  display: none;\n",
       "}\n",
       "\n",
       ".xr-section-summary,\n",
       ".xr-section-inline-details {\n",
       "  padding-top: 4px;\n",
       "  padding-bottom: 4px;\n",
       "}\n",
       "\n",
       ".xr-section-inline-details {\n",
       "  grid-column: 2 / -1;\n",
       "}\n",
       "\n",
       ".xr-section-details {\n",
       "  display: none;\n",
       "  grid-column: 1 / -1;\n",
       "  margin-bottom: 5px;\n",
       "}\n",
       "\n",
       ".xr-section-summary-in:checked ~ .xr-section-details {\n",
       "  display: contents;\n",
       "}\n",
       "\n",
       ".xr-array-wrap {\n",
       "  grid-column: 1 / -1;\n",
       "  display: grid;\n",
       "  grid-template-columns: 20px auto;\n",
       "}\n",
       "\n",
       ".xr-array-wrap > label {\n",
       "  grid-column: 1;\n",
       "  vertical-align: top;\n",
       "}\n",
       "\n",
       ".xr-preview {\n",
       "  color: var(--xr-font-color3);\n",
       "}\n",
       "\n",
       ".xr-array-preview,\n",
       ".xr-array-data {\n",
       "  padding: 0 5px !important;\n",
       "  grid-column: 2;\n",
       "}\n",
       "\n",
       ".xr-array-data,\n",
       ".xr-array-in:checked ~ .xr-array-preview {\n",
       "  display: none;\n",
       "}\n",
       "\n",
       ".xr-array-in:checked ~ .xr-array-data,\n",
       ".xr-array-preview {\n",
       "  display: inline-block;\n",
       "}\n",
       "\n",
       ".xr-dim-list {\n",
       "  display: inline-block !important;\n",
       "  list-style: none;\n",
       "  padding: 0 !important;\n",
       "  margin: 0;\n",
       "}\n",
       "\n",
       ".xr-dim-list li {\n",
       "  display: inline-block;\n",
       "  padding: 0;\n",
       "  margin: 0;\n",
       "}\n",
       "\n",
       ".xr-dim-list:before {\n",
       "  content: '(';\n",
       "}\n",
       "\n",
       ".xr-dim-list:after {\n",
       "  content: ')';\n",
       "}\n",
       "\n",
       ".xr-dim-list li:not(:last-child):after {\n",
       "  content: ',';\n",
       "  padding-right: 5px;\n",
       "}\n",
       "\n",
       ".xr-has-index {\n",
       "  font-weight: bold;\n",
       "}\n",
       "\n",
       ".xr-var-list,\n",
       ".xr-var-item {\n",
       "  display: contents;\n",
       "}\n",
       "\n",
       ".xr-var-item > div,\n",
       ".xr-var-item label,\n",
       ".xr-var-item > .xr-var-name span {\n",
       "  background-color: var(--xr-background-color-row-even);\n",
       "  margin-bottom: 0;\n",
       "}\n",
       "\n",
       ".xr-var-item > .xr-var-name:hover span {\n",
       "  padding-right: 5px;\n",
       "}\n",
       "\n",
       ".xr-var-list > li:nth-child(odd) > div,\n",
       ".xr-var-list > li:nth-child(odd) > label,\n",
       ".xr-var-list > li:nth-child(odd) > .xr-var-name span {\n",
       "  background-color: var(--xr-background-color-row-odd);\n",
       "}\n",
       "\n",
       ".xr-var-name {\n",
       "  grid-column: 1;\n",
       "}\n",
       "\n",
       ".xr-var-dims {\n",
       "  grid-column: 2;\n",
       "}\n",
       "\n",
       ".xr-var-dtype {\n",
       "  grid-column: 3;\n",
       "  text-align: right;\n",
       "  color: var(--xr-font-color2);\n",
       "}\n",
       "\n",
       ".xr-var-preview {\n",
       "  grid-column: 4;\n",
       "}\n",
       "\n",
       ".xr-index-preview {\n",
       "  grid-column: 2 / 5;\n",
       "  color: var(--xr-font-color2);\n",
       "}\n",
       "\n",
       ".xr-var-name,\n",
       ".xr-var-dims,\n",
       ".xr-var-dtype,\n",
       ".xr-preview,\n",
       ".xr-attrs dt {\n",
       "  white-space: nowrap;\n",
       "  overflow: hidden;\n",
       "  text-overflow: ellipsis;\n",
       "  padding-right: 10px;\n",
       "}\n",
       "\n",
       ".xr-var-name:hover,\n",
       ".xr-var-dims:hover,\n",
       ".xr-var-dtype:hover,\n",
       ".xr-attrs dt:hover {\n",
       "  overflow: visible;\n",
       "  width: auto;\n",
       "  z-index: 1;\n",
       "}\n",
       "\n",
       ".xr-var-attrs,\n",
       ".xr-var-data,\n",
       ".xr-index-data {\n",
       "  display: none;\n",
       "  background-color: var(--xr-background-color) !important;\n",
       "  padding-bottom: 5px !important;\n",
       "}\n",
       "\n",
       ".xr-var-attrs-in:checked ~ .xr-var-attrs,\n",
       ".xr-var-data-in:checked ~ .xr-var-data,\n",
       ".xr-index-data-in:checked ~ .xr-index-data {\n",
       "  display: block;\n",
       "}\n",
       "\n",
       ".xr-var-data > table {\n",
       "  float: right;\n",
       "}\n",
       "\n",
       ".xr-var-name span,\n",
       ".xr-var-data,\n",
       ".xr-index-name div,\n",
       ".xr-index-data,\n",
       ".xr-attrs {\n",
       "  padding-left: 25px !important;\n",
       "}\n",
       "\n",
       ".xr-attrs,\n",
       ".xr-var-attrs,\n",
       ".xr-var-data,\n",
       ".xr-index-data {\n",
       "  grid-column: 1 / -1;\n",
       "}\n",
       "\n",
       "dl.xr-attrs {\n",
       "  padding: 0;\n",
       "  margin: 0;\n",
       "  display: grid;\n",
       "  grid-template-columns: 125px auto;\n",
       "}\n",
       "\n",
       ".xr-attrs dt,\n",
       ".xr-attrs dd {\n",
       "  padding: 0;\n",
       "  margin: 0;\n",
       "  float: left;\n",
       "  padding-right: 10px;\n",
       "  width: auto;\n",
       "}\n",
       "\n",
       ".xr-attrs dt {\n",
       "  font-weight: normal;\n",
       "  grid-column: 1;\n",
       "}\n",
       "\n",
       ".xr-attrs dt:hover span {\n",
       "  display: inline-block;\n",
       "  background: var(--xr-background-color);\n",
       "  padding-right: 10px;\n",
       "}\n",
       "\n",
       ".xr-attrs dd {\n",
       "  grid-column: 2;\n",
       "  white-space: pre-wrap;\n",
       "  word-break: break-all;\n",
       "}\n",
       "\n",
       ".xr-icon-database,\n",
       ".xr-icon-file-text2,\n",
       ".xr-no-icon {\n",
       "  display: inline-block;\n",
       "  vertical-align: middle;\n",
       "  width: 1em;\n",
       "  height: 1.5em !important;\n",
       "  stroke-width: 0;\n",
       "  stroke: currentColor;\n",
       "  fill: currentColor;\n",
       "}\n",
       "</style><pre class='xr-text-repr-fallback'>&lt;xarray.Dataset&gt;\n",
       "Dimensions:       (time_numeric: 36, y: 50, x: 50)\n",
       "Coordinates:\n",
       "    time          (time_numeric) datetime64[ns] 1958-08-13 ... 2016-01-06\n",
       "  * x             (x) float64 6.439e+05 6.439e+05 ... 6.44e+05 6.44e+05\n",
       "  * y             (y) float64 5.358e+06 5.358e+06 ... 5.358e+06 5.358e+06\n",
       "  * time_numeric  (time_numeric) float64 1.959e+03 1.968e+03 ... 2.016e+03\n",
       "Data variables:\n",
       "    band1         (time_numeric, y, x) float32 1.856e+03 1.856e+03 ... 1.793e+03\n",
       "    spatial_ref   int64 0\n",
       "Attributes:\n",
       "    AREA_OR_POINT:      Area\n",
       "    TIFFTAG_ARTIST:     U.S. Geological Survey Benchmark Glacier Program\n",
       "    TIFFTAG_COPYRIGHT:  Public Domain\n",
       "    add_offset:         0.0\n",
       "    crs:                PROJCS[&quot;WGS 84 / UTM zone 10N&quot;,GEOGCS[&quot;WGS 84&quot;,DATUM[...\n",
       "    scale_factor:       1.0</pre><div class='xr-wrap' style='display:none'><div class='xr-header'><div class='xr-obj-type'>xarray.Dataset</div></div><ul class='xr-sections'><li class='xr-section-item'><input id='section-6c954bdd-dfd4-4e77-b507-e5b25c882bf1' class='xr-section-summary-in' type='checkbox' disabled ><label for='section-6c954bdd-dfd4-4e77-b507-e5b25c882bf1' class='xr-section-summary'  title='Expand/collapse section'>Dimensions:</label><div class='xr-section-inline-details'><ul class='xr-dim-list'><li><span class='xr-has-index'>time_numeric</span>: 36</li><li><span class='xr-has-index'>y</span>: 50</li><li><span class='xr-has-index'>x</span>: 50</li></ul></div><div class='xr-section-details'></div></li><li class='xr-section-item'><input id='section-91eff93e-d7fb-482c-bac6-fd5c935c3aff' class='xr-section-summary-in' type='checkbox'  checked><label for='section-91eff93e-d7fb-482c-bac6-fd5c935c3aff' class='xr-section-summary' >Coordinates: <span>(4)</span></label><div class='xr-section-inline-details'></div><div class='xr-section-details'><ul class='xr-var-list'><li class='xr-var-item'><div class='xr-var-name'><span>time</span></div><div class='xr-var-dims'>(time_numeric)</div><div class='xr-var-dtype'>datetime64[ns]</div><div class='xr-var-preview xr-preview'>1958-08-13 ... 2016-01-06</div><input id='attrs-db05c535-1427-42ae-8515-239533afb7c7' class='xr-var-attrs-in' type='checkbox' disabled><label for='attrs-db05c535-1427-42ae-8515-239533afb7c7' title='Show/Hide attributes'><svg class='icon xr-icon-file-text2'><use xlink:href='#icon-file-text2'></use></svg></label><input id='data-b151d66b-db22-4109-b9ac-a459fdd7ed1a' class='xr-var-data-in' type='checkbox'><label for='data-b151d66b-db22-4109-b9ac-a459fdd7ed1a' title='Show/Hide data repr'><svg class='icon xr-icon-database'><use xlink:href='#icon-database'></use></svg></label><div class='xr-var-attrs'><dl class='xr-attrs'></dl></div><div class='xr-var-data'><pre>array([&#x27;1958-08-13T00:00:00.000000000&#x27;, &#x27;1967-09-21T00:00:00.000000000&#x27;,\n",
       "       &#x27;1970-09-29T00:00:00.000000000&#x27;, &#x27;1974-08-10T00:00:00.000000000&#x27;,\n",
       "       &#x27;1977-10-03T00:00:00.000000000&#x27;, &#x27;1979-08-20T00:00:00.000000000&#x27;,\n",
       "       &#x27;1979-10-06T00:00:00.000000000&#x27;, &#x27;1984-08-14T00:00:00.000000000&#x27;,\n",
       "       &#x27;1986-09-05T00:00:00.000000000&#x27;, &#x27;1987-08-21T00:00:00.000000000&#x27;,\n",
       "       &#x27;1990-09-05T00:00:00.000000000&#x27;, &#x27;1991-09-09T00:00:00.000000000&#x27;,\n",
       "       &#x27;1992-07-28T00:00:00.000000000&#x27;, &#x27;1992-09-15T00:00:00.000000000&#x27;,\n",
       "       &#x27;1992-09-18T00:00:00.000000000&#x27;, &#x27;1992-10-06T00:00:00.000000000&#x27;,\n",
       "       &#x27;1994-09-06T00:00:00.000000000&#x27;, &#x27;1996-09-10T00:00:00.000000000&#x27;,\n",
       "       &#x27;1997-09-23T00:00:00.000000000&#x27;, &#x27;2001-09-20T00:00:00.000000000&#x27;,\n",
       "       &#x27;2004-09-26T00:00:00.000000000&#x27;, &#x27;2008-10-01T00:00:00.000000000&#x27;,\n",
       "       &#x27;2009-06-01T00:00:00.000000000&#x27;, &#x27;2012-07-05T00:00:00.000000000&#x27;,\n",
       "       &#x27;2012-09-06T00:00:00.000000000&#x27;, &#x27;2013-06-16T00:00:00.000000000&#x27;,\n",
       "       &#x27;2014-05-11T00:00:00.000000000&#x27;, &#x27;2014-08-24T00:00:00.000000000&#x27;,\n",
       "       &#x27;2014-09-06T00:00:00.000000000&#x27;, &#x27;2015-05-01T00:00:00.000000000&#x27;,\n",
       "       &#x27;2015-05-04T00:00:00.000000000&#x27;, &#x27;2015-06-06T00:00:00.000000000&#x27;,\n",
       "       &#x27;2015-08-17T00:00:00.000000000&#x27;, &#x27;2015-10-14T00:00:00.000000000&#x27;,\n",
       "       &#x27;2015-12-01T00:00:00.000000000&#x27;, &#x27;2016-01-06T00:00:00.000000000&#x27;],\n",
       "      dtype=&#x27;datetime64[ns]&#x27;)</pre></div></li><li class='xr-var-item'><div class='xr-var-name'><span class='xr-has-index'>x</span></div><div class='xr-var-dims'>(x)</div><div class='xr-var-dtype'>float64</div><div class='xr-var-preview xr-preview'>6.439e+05 6.439e+05 ... 6.44e+05</div><input id='attrs-09171893-b421-40b1-99b1-3c0d78b75be5' class='xr-var-attrs-in' type='checkbox' ><label for='attrs-09171893-b421-40b1-99b1-3c0d78b75be5' title='Show/Hide attributes'><svg class='icon xr-icon-file-text2'><use xlink:href='#icon-file-text2'></use></svg></label><input id='data-19d66675-62b9-4774-bfbf-e0bec70a6861' class='xr-var-data-in' type='checkbox'><label for='data-19d66675-62b9-4774-bfbf-e0bec70a6861' title='Show/Hide data repr'><svg class='icon xr-icon-database'><use xlink:href='#icon-database'></use></svg></label><div class='xr-var-attrs'><dl class='xr-attrs'><dt><span>axis :</span></dt><dd>X</dd><dt><span>long_name :</span></dt><dd>x coordinate of projection</dd><dt><span>standard_name :</span></dt><dd>projection_x_coordinate</dd><dt><span>units :</span></dt><dd>metre</dd></dl></div><div class='xr-var-data'><pre>array([643893.428, 643895.428, 643897.428, 643899.428, 643901.428, 643903.428,\n",
       "       643905.428, 643907.428, 643909.428, 643911.428, 643913.428, 643915.428,\n",
       "       643917.428, 643919.428, 643921.428, 643923.428, 643925.428, 643927.428,\n",
       "       643929.428, 643931.428, 643933.428, 643935.428, 643937.428, 643939.428,\n",
       "       643941.428, 643943.428, 643945.428, 643947.428, 643949.428, 643951.428,\n",
       "       643953.428, 643955.428, 643957.428, 643959.428, 643961.428, 643963.428,\n",
       "       643965.428, 643967.428, 643969.428, 643971.428, 643973.428, 643975.428,\n",
       "       643977.428, 643979.428, 643981.428, 643983.428, 643985.428, 643987.428,\n",
       "       643989.428, 643991.428])</pre></div></li><li class='xr-var-item'><div class='xr-var-name'><span class='xr-has-index'>y</span></div><div class='xr-var-dims'>(y)</div><div class='xr-var-dtype'>float64</div><div class='xr-var-preview xr-preview'>5.358e+06 5.358e+06 ... 5.358e+06</div><input id='attrs-e4d814b7-cd2f-4962-9adc-8951bdf7d818' class='xr-var-attrs-in' type='checkbox' ><label for='attrs-e4d814b7-cd2f-4962-9adc-8951bdf7d818' title='Show/Hide attributes'><svg class='icon xr-icon-file-text2'><use xlink:href='#icon-file-text2'></use></svg></label><input id='data-9261ba18-c132-413e-a82f-dfc463e8335e' class='xr-var-data-in' type='checkbox'><label for='data-9261ba18-c132-413e-a82f-dfc463e8335e' title='Show/Hide data repr'><svg class='icon xr-icon-database'><use xlink:href='#icon-database'></use></svg></label><div class='xr-var-attrs'><dl class='xr-attrs'><dt><span>axis :</span></dt><dd>Y</dd><dt><span>long_name :</span></dt><dd>y coordinate of projection</dd><dt><span>standard_name :</span></dt><dd>projection_y_coordinate</dd><dt><span>units :</span></dt><dd>metre</dd></dl></div><div class='xr-var-data'><pre>array([5358123.985, 5358121.985, 5358119.985, 5358117.985, 5358115.985,\n",
       "       5358113.985, 5358111.985, 5358109.985, 5358107.985, 5358105.985,\n",
       "       5358103.985, 5358101.985, 5358099.985, 5358097.985, 5358095.985,\n",
       "       5358093.985, 5358091.985, 5358089.985, 5358087.985, 5358085.985,\n",
       "       5358083.985, 5358081.985, 5358079.985, 5358077.985, 5358075.985,\n",
       "       5358073.985, 5358071.985, 5358069.985, 5358067.985, 5358065.985,\n",
       "       5358063.985, 5358061.985, 5358059.985, 5358057.985, 5358055.985,\n",
       "       5358053.985, 5358051.985, 5358049.985, 5358047.985, 5358045.985,\n",
       "       5358043.985, 5358041.985, 5358039.985, 5358037.985, 5358035.985,\n",
       "       5358033.985, 5358031.985, 5358029.985, 5358027.985, 5358025.985])</pre></div></li><li class='xr-var-item'><div class='xr-var-name'><span class='xr-has-index'>time_numeric</span></div><div class='xr-var-dims'>(time_numeric)</div><div class='xr-var-dtype'>float64</div><div class='xr-var-preview xr-preview'>1.959e+03 1.968e+03 ... 2.016e+03</div><input id='attrs-63dc48d8-893c-4c0a-831d-14bb197ef66e' class='xr-var-attrs-in' type='checkbox' disabled><label for='attrs-63dc48d8-893c-4c0a-831d-14bb197ef66e' title='Show/Hide attributes'><svg class='icon xr-icon-file-text2'><use xlink:href='#icon-file-text2'></use></svg></label><input id='data-c7c14f18-b03f-4037-ab42-2447e56b4873' class='xr-var-data-in' type='checkbox'><label for='data-c7c14f18-b03f-4037-ab42-2447e56b4873' title='Show/Hide data repr'><svg class='icon xr-icon-database'><use xlink:href='#icon-database'></use></svg></label><div class='xr-var-attrs'><dl class='xr-attrs'></dl></div><div class='xr-var-data'><pre>array([1958.616438, 1967.723288, 1970.745205, 1974.608219, 1977.756164,\n",
       "       1979.635616, 1979.764384, 1984.621918, 1986.679452, 1987.638356,\n",
       "       1990.679452, 1991.690411, 1992.575342, 1992.709589, 1992.717808,\n",
       "       1992.767123, 1994.682192, 1996.69589 , 1997.728767, 2001.720548,\n",
       "       2004.739726, 2008.753425, 2009.416438, 2012.512329, 2012.684932,\n",
       "       2013.457534, 2014.358904, 2014.646575, 2014.682192, 2015.331507,\n",
       "       2015.339726, 2015.430137, 2015.627397, 2015.786301, 2015.917808,\n",
       "       2016.016438])</pre></div></li></ul></div></li><li class='xr-section-item'><input id='section-afd4f96f-1a16-438e-944f-3139f470b7ed' class='xr-section-summary-in' type='checkbox'  checked><label for='section-afd4f96f-1a16-438e-944f-3139f470b7ed' class='xr-section-summary' >Data variables: <span>(2)</span></label><div class='xr-section-inline-details'></div><div class='xr-section-details'><ul class='xr-var-list'><li class='xr-var-item'><div class='xr-var-name'><span>band1</span></div><div class='xr-var-dims'>(time_numeric, y, x)</div><div class='xr-var-dtype'>float32</div><div class='xr-var-preview xr-preview'>1.856e+03 1.856e+03 ... 1.793e+03</div><input id='attrs-8921cab2-457d-4cd6-9ce5-9710163e1784' class='xr-var-attrs-in' type='checkbox' ><label for='attrs-8921cab2-457d-4cd6-9ce5-9710163e1784' title='Show/Hide attributes'><svg class='icon xr-icon-file-text2'><use xlink:href='#icon-file-text2'></use></svg></label><input id='data-3f22e43c-412a-4450-b5a1-83d2466489c2' class='xr-var-data-in' type='checkbox'><label for='data-3f22e43c-412a-4450-b5a1-83d2466489c2' title='Show/Hide data repr'><svg class='icon xr-icon-database'><use xlink:href='#icon-database'></use></svg></label><div class='xr-var-attrs'><dl class='xr-attrs'><dt><span>AREA_OR_POINT :</span></dt><dd>Area</dd><dt><span>TIFFTAG_ARTIST :</span></dt><dd>U.S. Geological Survey Benchmark Glacier Program</dd><dt><span>TIFFTAG_COPYRIGHT :</span></dt><dd>Public Domain</dd><dt><span>grid_mapping :</span></dt><dd>spatial_ref</dd></dl></div><div class='xr-var-data'><pre>array([[[1855.7008, 1856.3785, 1857.0563, ..., 1850.2476, 1849.7433,\n",
       "         1849.2224],\n",
       "        [1854.591 , 1855.4655, 1856.3401, ..., 1850.2489, 1849.7107,\n",
       "         1849.189 ],\n",
       "        [1853.1263, 1853.996 , 1854.8656, ..., 1850.2618, 1849.7179,\n",
       "         1849.182 ],\n",
       "        ...,\n",
       "        [1852.5856, 1852.5399, 1852.4943, ..., 1854.2085, 1854.0325,\n",
       "         1853.7634],\n",
       "        [1852.7018, 1852.6476, 1852.5933, ..., 1854.113 , 1853.886 ,\n",
       "         1853.521 ],\n",
       "        [1852.818 , 1852.7551, 1852.6924, ..., 1854.0175, 1853.7394,\n",
       "         1853.2786]],\n",
       "\n",
       "       [[1848.2153, 1848.3108, 1848.2299, ..., 1846.0775, 1846.0311,\n",
       "         1846.0714],\n",
       "        [1848.2655, 1848.3251, 1848.3936, ..., 1846.1279, 1846.1346,\n",
       "         1846.163 ],\n",
       "        [1848.3815, 1848.4141, 1848.3628, ..., 1846.1034, 1846.0797,\n",
       "         1846.1465],\n",
       "...\n",
       "        [1799.9308, 1799.8208, 1799.7241, ...,       nan,       nan,\n",
       "               nan],\n",
       "        [1800.0095, 1799.8965, 1799.7988, ...,       nan,       nan,\n",
       "               nan],\n",
       "        [1800.1105, 1799.995 , 1799.8962, ...,       nan,       nan,\n",
       "               nan]],\n",
       "\n",
       "       [[1796.3629, 1796.294 , 1796.2185, ..., 1792.358 , 1792.232 ,\n",
       "         1792.0884],\n",
       "        [1796.4347, 1796.3693, 1796.2988, ..., 1792.4612, 1792.3379,\n",
       "         1792.1965],\n",
       "        [1796.5223, 1796.4607, 1796.3959, ..., 1792.5453, 1792.4246,\n",
       "         1792.2863],\n",
       "        ...,\n",
       "        [1799.8622, 1799.7203, 1799.5828, ..., 1792.9209, 1792.7076,\n",
       "         1792.515 ],\n",
       "        [1799.8989, 1799.757 , 1799.6212, ..., 1793.0029, 1792.7882,\n",
       "         1792.5951],\n",
       "        [1799.9308, 1799.7874, 1799.6521, ..., 1793.0804, 1792.866 ,\n",
       "         1792.6736]]], dtype=float32)</pre></div></li><li class='xr-var-item'><div class='xr-var-name'><span>spatial_ref</span></div><div class='xr-var-dims'>()</div><div class='xr-var-dtype'>int64</div><div class='xr-var-preview xr-preview'>0</div><input id='attrs-ddf45889-000d-4243-af0a-b1fb4e33ec38' class='xr-var-attrs-in' type='checkbox' ><label for='attrs-ddf45889-000d-4243-af0a-b1fb4e33ec38' title='Show/Hide attributes'><svg class='icon xr-icon-file-text2'><use xlink:href='#icon-file-text2'></use></svg></label><input id='data-a7ea8865-b0e8-4fd4-b934-f55ac0be545a' class='xr-var-data-in' type='checkbox'><label for='data-a7ea8865-b0e8-4fd4-b934-f55ac0be545a' title='Show/Hide data repr'><svg class='icon xr-icon-database'><use xlink:href='#icon-database'></use></svg></label><div class='xr-var-attrs'><dl class='xr-attrs'><dt><span>crs_wkt :</span></dt><dd>PROJCS[&quot;WGS 84 / UTM zone 10N&quot;,GEOGCS[&quot;WGS 84&quot;,DATUM[&quot;WGS_1984&quot;,SPHEROID[&quot;WGS 84&quot;,6378137,298.257223563,AUTHORITY[&quot;EPSG&quot;,&quot;7030&quot;]],AUTHORITY[&quot;EPSG&quot;,&quot;6326&quot;]],PRIMEM[&quot;Greenwich&quot;,0,AUTHORITY[&quot;EPSG&quot;,&quot;8901&quot;]],UNIT[&quot;degree&quot;,0.0174532925199433,AUTHORITY[&quot;EPSG&quot;,&quot;9122&quot;]],AUTHORITY[&quot;EPSG&quot;,&quot;4326&quot;]],PROJECTION[&quot;Transverse_Mercator&quot;],PARAMETER[&quot;latitude_of_origin&quot;,0],PARAMETER[&quot;central_meridian&quot;,-123],PARAMETER[&quot;scale_factor&quot;,0.9996],PARAMETER[&quot;false_easting&quot;,500000],PARAMETER[&quot;false_northing&quot;,0],UNIT[&quot;metre&quot;,1,AUTHORITY[&quot;EPSG&quot;,&quot;9001&quot;]],AXIS[&quot;Easting&quot;,EAST],AXIS[&quot;Northing&quot;,NORTH],AUTHORITY[&quot;EPSG&quot;,&quot;32610&quot;]]</dd><dt><span>false_easting :</span></dt><dd>500000.0</dd><dt><span>false_northing :</span></dt><dd>0.0</dd><dt><span>geographic_crs_name :</span></dt><dd>WGS 84</dd><dt><span>grid_mapping_name :</span></dt><dd>transverse_mercator</dd><dt><span>horizontal_datum_name :</span></dt><dd>World Geodetic System 1984</dd><dt><span>inverse_flattening :</span></dt><dd>298.257223563</dd><dt><span>latitude_of_projection_origin :</span></dt><dd>0.0</dd><dt><span>longitude_of_central_meridian :</span></dt><dd>-123.0</dd><dt><span>longitude_of_prime_meridian :</span></dt><dd>0.0</dd><dt><span>prime_meridian_name :</span></dt><dd>Greenwich</dd><dt><span>projected_crs_name :</span></dt><dd>WGS 84 / UTM zone 10N</dd><dt><span>reference_ellipsoid_name :</span></dt><dd>WGS 84</dd><dt><span>scale_factor_at_central_meridian :</span></dt><dd>0.9996</dd><dt><span>semi_major_axis :</span></dt><dd>6378137.0</dd><dt><span>semi_minor_axis :</span></dt><dd>6356752.314245179</dd><dt><span>spatial_ref :</span></dt><dd>PROJCS[&quot;WGS 84 / UTM zone 10N&quot;,GEOGCS[&quot;WGS 84&quot;,DATUM[&quot;WGS_1984&quot;,SPHEROID[&quot;WGS 84&quot;,6378137,298.257223563,AUTHORITY[&quot;EPSG&quot;,&quot;7030&quot;]],AUTHORITY[&quot;EPSG&quot;,&quot;6326&quot;]],PRIMEM[&quot;Greenwich&quot;,0,AUTHORITY[&quot;EPSG&quot;,&quot;8901&quot;]],UNIT[&quot;degree&quot;,0.0174532925199433,AUTHORITY[&quot;EPSG&quot;,&quot;9122&quot;]],AUTHORITY[&quot;EPSG&quot;,&quot;4326&quot;]],PROJECTION[&quot;Transverse_Mercator&quot;],PARAMETER[&quot;latitude_of_origin&quot;,0],PARAMETER[&quot;central_meridian&quot;,-123],PARAMETER[&quot;scale_factor&quot;,0.9996],PARAMETER[&quot;false_easting&quot;,500000],PARAMETER[&quot;false_northing&quot;,0],UNIT[&quot;metre&quot;,1,AUTHORITY[&quot;EPSG&quot;,&quot;9001&quot;]],AXIS[&quot;Easting&quot;,EAST],AXIS[&quot;Northing&quot;,NORTH],AUTHORITY[&quot;EPSG&quot;,&quot;32610&quot;]]</dd></dl></div><div class='xr-var-data'><pre>array(0)</pre></div></li></ul></div></li><li class='xr-section-item'><input id='section-3a3acd18-2b88-4f15-8f61-635b1cfdb65c' class='xr-section-summary-in' type='checkbox'  ><label for='section-3a3acd18-2b88-4f15-8f61-635b1cfdb65c' class='xr-section-summary' >Indexes: <span>(3)</span></label><div class='xr-section-inline-details'></div><div class='xr-section-details'><ul class='xr-var-list'><li class='xr-var-item'><div class='xr-index-name'><div>x</div></div><div class='xr-index-preview'>PandasIndex</div><div></div><input id='index-13e40b50-e5f1-42a1-858e-60b53511d72b' class='xr-index-data-in' type='checkbox'/><label for='index-13e40b50-e5f1-42a1-858e-60b53511d72b' title='Show/Hide index repr'><svg class='icon xr-icon-database'><use xlink:href='#icon-database'></use></svg></label><div class='xr-index-data'><pre>PandasIndex(Float64Index([643893.428, 643895.428, 643897.428, 643899.428, 643901.428,\n",
       "              643903.428, 643905.428, 643907.428, 643909.428, 643911.428,\n",
       "              643913.428, 643915.428, 643917.428, 643919.428, 643921.428,\n",
       "              643923.428, 643925.428, 643927.428, 643929.428, 643931.428,\n",
       "              643933.428, 643935.428, 643937.428, 643939.428, 643941.428,\n",
       "              643943.428, 643945.428, 643947.428, 643949.428, 643951.428,\n",
       "              643953.428, 643955.428, 643957.428, 643959.428, 643961.428,\n",
       "              643963.428, 643965.428, 643967.428, 643969.428, 643971.428,\n",
       "              643973.428, 643975.428, 643977.428, 643979.428, 643981.428,\n",
       "              643983.428, 643985.428, 643987.428, 643989.428, 643991.428],\n",
       "             dtype=&#x27;float64&#x27;, name=&#x27;x&#x27;))</pre></div></li><li class='xr-var-item'><div class='xr-index-name'><div>y</div></div><div class='xr-index-preview'>PandasIndex</div><div></div><input id='index-0a70c7d3-e139-401e-9323-34cb1450d5fd' class='xr-index-data-in' type='checkbox'/><label for='index-0a70c7d3-e139-401e-9323-34cb1450d5fd' title='Show/Hide index repr'><svg class='icon xr-icon-database'><use xlink:href='#icon-database'></use></svg></label><div class='xr-index-data'><pre>PandasIndex(Float64Index([5358123.985, 5358121.985, 5358119.985, 5358117.985, 5358115.985,\n",
       "              5358113.985, 5358111.985, 5358109.985, 5358107.985, 5358105.985,\n",
       "              5358103.985, 5358101.985, 5358099.985, 5358097.985, 5358095.985,\n",
       "              5358093.985, 5358091.985, 5358089.985, 5358087.985, 5358085.985,\n",
       "              5358083.985, 5358081.985, 5358079.985, 5358077.985, 5358075.985,\n",
       "              5358073.985, 5358071.985, 5358069.985, 5358067.985, 5358065.985,\n",
       "              5358063.985, 5358061.985, 5358059.985, 5358057.985, 5358055.985,\n",
       "              5358053.985, 5358051.985, 5358049.985, 5358047.985, 5358045.985,\n",
       "              5358043.985, 5358041.985, 5358039.985, 5358037.985, 5358035.985,\n",
       "              5358033.985, 5358031.985, 5358029.985, 5358027.985, 5358025.985],\n",
       "             dtype=&#x27;float64&#x27;, name=&#x27;y&#x27;))</pre></div></li><li class='xr-var-item'><div class='xr-index-name'><div>time_numeric</div></div><div class='xr-index-preview'>PandasIndex</div><div></div><input id='index-3cd9ad97-f380-4f0a-a6e7-7d78af8ec1df' class='xr-index-data-in' type='checkbox'/><label for='index-3cd9ad97-f380-4f0a-a6e7-7d78af8ec1df' title='Show/Hide index repr'><svg class='icon xr-icon-database'><use xlink:href='#icon-database'></use></svg></label><div class='xr-index-data'><pre>PandasIndex(Float64Index([1958.6164383561643, 1967.7232876712328, 1970.7452054794521,\n",
       "              1974.6082191780822, 1977.7561643835616, 1979.6356164383562,\n",
       "              1979.7643835616439, 1984.6219178082192, 1986.6794520547944,\n",
       "              1987.6383561643836, 1990.6794520547944,  1991.690410958904,\n",
       "              1992.5753424657535, 1992.7095890410958,  1992.717808219178,\n",
       "              1992.7671232876712,  1994.682191780822,  1996.695890410959,\n",
       "              1997.7287671232878, 2001.7205479452055, 2004.7397260273972,\n",
       "              2008.7534246575342, 2009.4164383561645, 2012.5123287671233,\n",
       "              2012.6849315068494, 2013.4575342465753,  2014.358904109589,\n",
       "              2014.6465753424657,  2014.682191780822,  2015.331506849315,\n",
       "              2015.3397260273973, 2015.4301369863015,  2015.627397260274,\n",
       "               2015.786301369863, 2015.9178082191781, 2016.0164383561644],\n",
       "             dtype=&#x27;float64&#x27;, name=&#x27;time_numeric&#x27;))</pre></div></li></ul></div></li><li class='xr-section-item'><input id='section-be4da0ee-7309-44c8-8277-925344ae7621' class='xr-section-summary-in' type='checkbox'  checked><label for='section-be4da0ee-7309-44c8-8277-925344ae7621' class='xr-section-summary' >Attributes: <span>(6)</span></label><div class='xr-section-inline-details'></div><div class='xr-section-details'><dl class='xr-attrs'><dt><span>AREA_OR_POINT :</span></dt><dd>Area</dd><dt><span>TIFFTAG_ARTIST :</span></dt><dd>U.S. Geological Survey Benchmark Glacier Program</dd><dt><span>TIFFTAG_COPYRIGHT :</span></dt><dd>Public Domain</dd><dt><span>add_offset :</span></dt><dd>0.0</dd><dt><span>crs :</span></dt><dd>PROJCS[&quot;WGS 84 / UTM zone 10N&quot;,GEOGCS[&quot;WGS 84&quot;,DATUM[&quot;WGS_1984&quot;,SPHEROID[&quot;WGS 84&quot;,6378137,298.257223563,AUTHORITY[&quot;EPSG&quot;,&quot;7030&quot;]],AUTHORITY[&quot;EPSG&quot;,&quot;6326&quot;]],PRIMEM[&quot;Greenwich&quot;,0,AUTHORITY[&quot;EPSG&quot;,&quot;8901&quot;]],UNIT[&quot;degree&quot;,0.0174532925199433,AUTHORITY[&quot;EPSG&quot;,&quot;9122&quot;]],AUTHORITY[&quot;EPSG&quot;,&quot;4326&quot;]],PROJECTION[&quot;Transverse_Mercator&quot;],PARAMETER[&quot;latitude_of_origin&quot;,0],PARAMETER[&quot;central_meridian&quot;,-123],PARAMETER[&quot;scale_factor&quot;,0.9996],PARAMETER[&quot;false_easting&quot;,500000],PARAMETER[&quot;false_northing&quot;,0],UNIT[&quot;metre&quot;,1,AUTHORITY[&quot;EPSG&quot;,&quot;9001&quot;]],AXIS[&quot;Easting&quot;,EAST],AXIS[&quot;Northing&quot;,NORTH],AUTHORITY[&quot;EPSG&quot;,&quot;32610&quot;]]</dd><dt><span>scale_factor :</span></dt><dd>1.0</dd></dl></div></li></ul></div></div>"
      ],
      "text/plain": [
       "<xarray.Dataset>\n",
       "Dimensions:       (time_numeric: 36, y: 50, x: 50)\n",
       "Coordinates:\n",
       "    time          (time_numeric) datetime64[ns] 1958-08-13 ... 2016-01-06\n",
       "  * x             (x) float64 6.439e+05 6.439e+05 ... 6.44e+05 6.44e+05\n",
       "  * y             (y) float64 5.358e+06 5.358e+06 ... 5.358e+06 5.358e+06\n",
       "  * time_numeric  (time_numeric) float64 1.959e+03 1.968e+03 ... 2.016e+03\n",
       "Data variables:\n",
       "    band1         (time_numeric, y, x) float32 1.856e+03 1.856e+03 ... 1.793e+03\n",
       "    spatial_ref   int64 0\n",
       "Attributes:\n",
       "    AREA_OR_POINT:      Area\n",
       "    TIFFTAG_ARTIST:     U.S. Geological Survey Benchmark Glacier Program\n",
       "    TIFFTAG_COPYRIGHT:  Public Domain\n",
       "    add_offset:         0.0\n",
       "    crs:                PROJCS[\"WGS 84 / UTM zone 10N\",GEOGCS[\"WGS 84\",DATUM[...\n",
       "    scale_factor:       1.0"
      ]
     },
     "execution_count": 13,
     "metadata": {},
     "output_type": "execute_result"
    }
   ],
   "source": [
    "scg_chunk"
   ]
  },
  {
   "cell_type": "markdown",
   "id": "21f6f72f-6cd6-442f-a7da-56a8af2cdf20",
   "metadata": {
    "user_expressions": []
   },
   "source": [
    "Taking the third chunk because it was the first one with more than one time step of coverage"
   ]
  },
  {
   "cell_type": "code",
   "execution_count": 17,
   "id": "b0de79fe-c443-49ef-8884-1a42e55adcb6",
   "metadata": {
    "tags": []
   },
   "outputs": [
    {
     "data": {
      "image/png": "[encoded data removed]",
      "text/plain": [
       "<Figure size 1000x200 with 1 Axes>"
      ]
     },
     "metadata": {},
     "output_type": "display_data"
    }
   ],
   "source": [
    "tools.plot_percent_area_coverage(scg_chunk, title = ' xbatcher chunk coverage w/ overlaps')\n"
   ]
  },
  {
   "cell_type": "code",
   "execution_count": 19,
   "id": "afe77695-c372-495e-bf0d-22466ad32463",
   "metadata": {
    "tags": []
   },
   "outputs": [],
   "source": [
    "#format and generate test data (following george's code)\n",
    "#train_x_chunk, train_y_chunk = prep_data_to_tensor(bgen[2])"
   ]
  },
  {
   "cell_type": "code",
   "execution_count": 72,
   "id": "122ab902-dfcc-4a19-b8b7-260394b29012",
   "metadata": {
    "tags": []
   },
   "outputs": [],
   "source": [
    "#format data from a single chunk into a df \n",
    "#data_chunk1 = scg_chunk.to_dataframe().dropna().reset_index().rename({'band1':'z'},axis=1).drop(['spatial_ref','time'],axis=1)"
   ]
  },
  {
   "cell_type": "code",
   "execution_count": 14,
   "id": "f4295193-de53-45ca-b597-c4f9a160a261",
   "metadata": {
    "tags": []
   },
   "outputs": [],
   "source": [
    "scg_chunk = scg_chunk.isel(time_numeric=slice(2,20))"
   ]
  },
  {
   "cell_type": "code",
   "execution_count": 15,
   "id": "c85c49c8-b894-4ea6-baa8-9805794b32cd",
   "metadata": {
    "tags": []
   },
   "outputs": [],
   "source": [
    "tensor_x, tensor_y  = prep_data_to_tensor(scg_chunk)"
   ]
  },
  {
   "cell_type": "code",
   "execution_count": 16,
   "id": "c4250ec5-8980-48da-b18a-bfbe88d0e7f5",
   "metadata": {
    "tags": []
   },
   "outputs": [
    {
     "name": "stdout",
     "output_type": "stream",
     "text": [
      "torch.Size([9000, 3])\n",
      "torch.Size([9000])\n",
      "torch.Size([9000])\n"
     ]
    }
   ],
   "source": [
    "train_tensor_x = tensor_x[int(len(tensor_x)*0.8):]\n",
    "train_tensor_y = tensor_y[int(len(tensor_y)*0.8):]\n",
    "\n",
    "test_tensor_x = tensor_x[:int(len(tensor_x)*0.2)]\n",
    "test_tensor_y = tensor_y[:int(len(tensor_y)*0.2)]\n",
    "\n",
    "print(train_tensor_x.shape)\n",
    "print(train_tensor_y.shape)\n",
    "print(test_tensor_y.shape)"
   ]
  },
  {
   "cell_type": "code",
   "execution_count": 17,
   "id": "025e847d-ab85-4afd-88fd-219834263cc2",
   "metadata": {
    "tags": []
   },
   "outputs": [
    {
     "data": {
      "text/plain": [
       "torch.Size([9000, 3])"
      ]
     },
     "execution_count": 17,
     "metadata": {},
     "output_type": "execute_result"
    }
   ],
   "source": [
    "train_tensor_x.shape #x,y,time"
   ]
  },
  {
   "cell_type": "code",
   "execution_count": 18,
   "id": "e8544adb-5539-4304-bddc-402067b714a6",
   "metadata": {
    "tags": []
   },
   "outputs": [
    {
     "data": {
      "text/plain": [
       "torch.Size([9000, 3])"
      ]
     },
     "execution_count": 18,
     "metadata": {},
     "output_type": "execute_result"
    }
   ],
   "source": [
    "test_tensor_x.shape "
   ]
  },
  {
   "cell_type": "code",
   "execution_count": 19,
   "id": "e56401f1-568c-4208-9119-b9069d770728",
   "metadata": {
    "tags": []
   },
   "outputs": [
    {
     "data": {
      "text/plain": [
       "torch.Size([9000])"
      ]
     },
     "execution_count": 19,
     "metadata": {},
     "output_type": "execute_result"
    }
   ],
   "source": [
    "train_tensor_y.shape # z"
   ]
  },
  {
   "cell_type": "code",
   "execution_count": 20,
   "id": "63ad8157-1981-4904-93cb-ab871b8b726c",
   "metadata": {
    "tags": []
   },
   "outputs": [],
   "source": [
    "grid_bounds = [(0,1),(0,2),(0,3)]\n",
    "grid_size = int(len(train_tensor_y))\n",
    "grid = torch.zeros(grid_size, len(grid_bounds))"
   ]
  },
  {
   "cell_type": "code",
   "execution_count": 18,
   "id": "b3b018e6-5a00-48f1-8cbe-6166f1a23412",
   "metadata": {
    "tags": []
   },
   "outputs": [],
   "source": [
    "for i in range(len(grid_bounds)):\n",
    "    grid_diff = float(grid_bounds[i][1] - grid_bounds[i][0]) / (grid_size - 2)\n",
    "    grid[:, i] = torch.linspace(grid_bounds[i][0] - grid_diff, grid_bounds[i][1] + grid_diff, grid_size)"
   ]
  },
  {
   "cell_type": "code",
   "execution_count": 19,
   "id": "3c35fdb4-7849-40bd-b3b7-dc5881fdae2f",
   "metadata": {
    "tags": []
   },
   "outputs": [
    {
     "data": {
      "text/plain": [
       "torch.Size([9000, 3])"
      ]
     },
     "execution_count": 19,
     "metadata": {},
     "output_type": "execute_result"
    }
   ],
   "source": [
    "grid.shape"
   ]
  },
  {
   "cell_type": "code",
   "execution_count": 21,
   "id": "c3906522-9665-4f90-8572-205bda540be3",
   "metadata": {
    "tags": []
   },
   "outputs": [],
   "source": [
    "#use grid kernel here? \n",
    "\n",
    "class SpatioTempGP(gpytorch.models.ExactGP):\n",
    "    def __init__(self, train_x, train_y, likelihood):\n",
    "        \n",
    "        super(SpatioTempGP, self).__init__(train_x, train_y, likelihood)#, grid_size, grid_dim)\n",
    "        self.grid_size = 10\n",
    "        self.grid_dim = 3\n",
    "        self.mean_module = gpytorch.means.ConstantMean()\n",
    "        self.spatial_kernel = gpytorch.kernels.RBFKernel()\n",
    "        self.temporal_kernel = gpytorch.kernels.PeriodicKernel()\n",
    "        #self.grid_kernel = gpytorch.kernels.GridKernel(self.spatial_kernel, grid=grid)\n",
    "        #self.covar_module = self.grid_kernel + self.temporal_kernel\n",
    "        self.covar_module = self.spatial_kernel + self.temporal_kernel\n",
    "    def forward(self, x):\n",
    "        mean_x = self.mean_module(x)\n",
    "        covar_x = self.covar_module(x)\n",
    "        return gpytorch.distributions.MultivariateNormal(mean_x, covar_x)"
   ]
  },
  {
   "cell_type": "code",
   "execution_count": 22,
   "id": "46bffe71-4e99-43e9-beb0-d003da3e782b",
   "metadata": {
    "tags": []
   },
   "outputs": [
    {
     "ename": "NameError",
     "evalue": "name 'model' is not defined",
     "output_type": "error",
     "traceback": [
      "\u001b[0;31m---------------------------------------------------------------------------\u001b[0m",
      "\u001b[0;31mNameError\u001b[0m                                 Traceback (most recent call last)",
      "Cell \u001b[0;32mIn [22], line 1\u001b[0m\n\u001b[0;32m----> 1\u001b[0m \u001b[43mmodel\u001b[49m\u001b[38;5;241m.\u001b[39mcovar_module\u001b[38;5;241m.\u001b[39mkernels[\u001b[38;5;241m0\u001b[39m]\u001b[38;5;241m.\u001b[39mlengthscale\u001b[38;5;241m.\u001b[39mitem()\n",
      "\u001b[0;31mNameError\u001b[0m: name 'model' is not defined"
     ]
    }
   ],
   "source": [
    "model.covar_module.kernels[0].lengthscale.item()"
   ]
  },
  {
   "cell_type": "code",
   "execution_count": 23,
   "id": "30ac10ce-3cd7-40b7-ab48-172e6ab4f615",
   "metadata": {
    "tags": []
   },
   "outputs": [],
   "source": [
    "likelihood = gpytorch.likelihoods.GaussianLikelihood()\n",
    "model = SpatioTempGP(train_tensor_x, train_tensor_y, likelihood)"
   ]
  },
  {
   "cell_type": "code",
   "execution_count": 24,
   "id": "8514a0e0-4d28-4c74-8e55-4f3b6e21cafc",
   "metadata": {
    "tags": []
   },
   "outputs": [],
   "source": [
    "optimizer = torch.optim.Adam(model.parameters(), lr=0.1) "
   ]
  },
  {
   "cell_type": "code",
   "execution_count": 25,
   "id": "193ae1a5-6973-4bd4-a081-4b4bf9046ca5",
   "metadata": {
    "tags": []
   },
   "outputs": [],
   "source": [
    "mll = gpytorch.mlls.ExactMarginalLogLikelihood(likelihood, model)"
   ]
  },
  {
   "cell_type": "code",
   "execution_count": 26,
   "id": "aa127aa2-f3ab-42df-aec6-9b9b5af483e9",
   "metadata": {
    "tags": []
   },
   "outputs": [
    {
     "data": {
      "text/plain": [
       "MultivariateNormal(loc: torch.Size([9000]))"
      ]
     },
     "execution_count": 26,
     "metadata": {},
     "output_type": "execute_result"
    }
   ],
   "source": [
    "model(train_tensor_x)"
   ]
  },
  {
   "cell_type": "code",
   "execution_count": 27,
   "id": "22afeeab-96c8-4d92-8c09-b394e942a99f",
   "metadata": {
    "tags": []
   },
   "outputs": [
    {
     "data": {
      "text/plain": [
       "torch.Size([9000])"
      ]
     },
     "execution_count": 27,
     "metadata": {},
     "output_type": "execute_result"
    }
   ],
   "source": [
    "train_tensor_x.shape\n",
    "train_tensor_y.shape"
   ]
  },
  {
   "cell_type": "code",
   "execution_count": 28,
   "id": "57867db5-60be-4abc-897a-7ca1fb4d2b7e",
   "metadata": {
    "tags": []
   },
   "outputs": [
    {
     "name": "stdout",
     "output_type": "stream",
     "text": [
      "Iter 1/12 - Loss: 3411.599   lengthscale: 0.693 lengthscale: 0.693  noise: 0.693\n",
      "Iter 2/12 - Loss: 2986.410   lengthscale: 0.744 lengthscale: 0.744  noise: 0.744\n",
      "Iter 3/12 - Loss: 2652.840   lengthscale: 0.794 lengthscale: 0.798  noise: 0.798\n",
      "Iter 4/12 - Loss: 2370.769   lengthscale: 0.847 lengthscale: 0.853  noise: 0.853\n",
      "Iter 5/12 - Loss: 2056.582   lengthscale: 0.904 lengthscale: 0.909  noise: 0.909\n",
      "Iter 6/12 - Loss: 1804.726   lengthscale: 0.963 lengthscale: 0.967  noise: 0.965\n",
      "Iter 7/12 - Loss: 1740.544   lengthscale: 1.026 lengthscale: 1.024  noise: 1.023\n",
      "Iter 8/12 - Loss: 1418.098   lengthscale: 1.091 lengthscale: 1.082  noise: 1.079\n",
      "Iter 9/12 - Loss: 1465.880   lengthscale: 1.154 lengthscale: 1.139  noise: 1.138\n",
      "Iter 10/12 - Loss: 1359.199   lengthscale: 1.219 lengthscale: 1.196  noise: 1.196\n",
      "Iter 11/12 - Loss: 1264.094   lengthscale: 1.284 lengthscale: 1.252  noise: 1.251\n",
      "Iter 12/12 - Loss: 1188.697   lengthscale: 1.349 lengthscale: 1.308  noise: 1.303\n"
     ]
    }
   ],
   "source": [
    "import os\n",
    "smoke_test = ('CI' in os.environ)\n",
    "training_iter = 2 if smoke_test else 12\n",
    "\n",
    "for i in range(training_iter):\n",
    "    # Zero gradients from previous iteration\n",
    "    optimizer.zero_grad()\n",
    "    # Output from model\n",
    "    output = model(train_tensor_x)\n",
    "    #print(type(output))\n",
    "    # Calc loss and backprop gradients\n",
    "    loss = -mll(output, train_tensor_y)\n",
    "    loss.backward()\n",
    "    print('Iter %d/%d - Loss: %.3f   lengthscale: %.3f lengthscale: %.3f  noise: %.3f' % (\n",
    "        i + 1, training_iter, loss.item(),\n",
    "        model.covar_module.kernels[0].lengthscale.item(),\n",
    "        model.covar_module.kernels[1].lengthscale.item(),\n",
    "        model.likelihood.noise.item()\n",
    "    ))\n",
    "    optimizer.step()"
   ]
  },
  {
   "cell_type": "code",
   "execution_count": 35,
   "id": "3c0d4c25-fe45-44be-8e5f-72bc3b890754",
   "metadata": {
    "tags": []
   },
   "outputs": [
    {
     "name": "stdout",
     "output_type": "stream",
     "text": [
      "<class 'torch.Tensor'>\n",
      "<class 'torch.Tensor'>\n"
     ]
    }
   ],
   "source": [
    "print(type(test_tensor_x))\n",
    "print(type(train_tensor_x))\n"
   ]
  },
  {
   "cell_type": "code",
   "execution_count": 38,
   "id": "9a400b6c-0a51-4234-a36e-29179f3c2885",
   "metadata": {
    "tags": []
   },
   "outputs": [
    {
     "data": {
      "text/plain": [
       "<bound method Module.get_parameter of AdditiveKernel(\n",
       "  (kernels): ModuleList(\n",
       "    (0): RBFKernel(\n",
       "      (raw_lengthscale_constraint): Positive()\n",
       "    )\n",
       "    (1): PeriodicKernel(\n",
       "      (raw_lengthscale_constraint): Positive()\n",
       "      (raw_period_length_constraint): Positive()\n",
       "    )\n",
       "  )\n",
       ")>"
      ]
     },
     "execution_count": 38,
     "metadata": {},
     "output_type": "execute_result"
    }
   ],
   "source": [
    "model.covar_module.get_parameter\n",
    "mean_cache = train_train_covar.evaluate_kernel().solve(train_labels_offset).squeeze(-1)"
   ]
  },
  {
   "cell_type": "code",
   "execution_count": 32,
   "id": "05be77ca-9b50-4fc6-9fe5-1b6762ec069e",
   "metadata": {
    "tags": []
   },
   "outputs": [
    {
     "ename": "RuntimeError",
     "evalue": "expected m1 and m2 to have the same dtype, but got: double != float",
     "output_type": "error",
     "traceback": [
      "\u001b[0;31m---------------------------------------------------------------------------\u001b[0m",
      "\u001b[0;31mRuntimeError\u001b[0m                              Traceback (most recent call last)",
      "Cell \u001b[0;32mIn [32], line 6\u001b[0m\n\u001b[1;32m      2\u001b[0m likelihood\u001b[38;5;241m.\u001b[39meval()\n\u001b[1;32m      5\u001b[0m \u001b[38;5;28;01mwith\u001b[39;00m torch\u001b[38;5;241m.\u001b[39mno_grad(), gpytorch\u001b[38;5;241m.\u001b[39msettings\u001b[38;5;241m.\u001b[39mfast_pred_var():\n\u001b[0;32m----> 6\u001b[0m     observed_pred \u001b[38;5;241m=\u001b[39m likelihood(\u001b[43mmodel\u001b[49m\u001b[43m(\u001b[49m\u001b[43mtest_tensor_x\u001b[49m\u001b[43m)\u001b[49m)\n",
      "File \u001b[0;32m/srv/conda/envs/notebook/lib/python3.10/site-packages/gpytorch/models/exact_gp.py:333\u001b[0m, in \u001b[0;36mExactGP.__call__\u001b[0;34m(self, *args, **kwargs)\u001b[0m\n\u001b[1;32m    328\u001b[0m \u001b[38;5;66;03m# Make the prediction\u001b[39;00m\n\u001b[1;32m    329\u001b[0m \u001b[38;5;28;01mwith\u001b[39;00m settings\u001b[38;5;241m.\u001b[39mcg_tolerance(settings\u001b[38;5;241m.\u001b[39meval_cg_tolerance\u001b[38;5;241m.\u001b[39mvalue()):\n\u001b[1;32m    330\u001b[0m     (\n\u001b[1;32m    331\u001b[0m         predictive_mean,\n\u001b[1;32m    332\u001b[0m         predictive_covar,\n\u001b[0;32m--> 333\u001b[0m     ) \u001b[38;5;241m=\u001b[39m \u001b[38;5;28;43mself\u001b[39;49m\u001b[38;5;241;43m.\u001b[39;49m\u001b[43mprediction_strategy\u001b[49m\u001b[38;5;241;43m.\u001b[39;49m\u001b[43mexact_prediction\u001b[49m\u001b[43m(\u001b[49m\u001b[43mfull_mean\u001b[49m\u001b[43m,\u001b[49m\u001b[43m \u001b[49m\u001b[43mfull_covar\u001b[49m\u001b[43m)\u001b[49m\n\u001b[1;32m    335\u001b[0m \u001b[38;5;66;03m# Reshape predictive mean to match the appropriate event shape\u001b[39;00m\n\u001b[1;32m    336\u001b[0m predictive_mean \u001b[38;5;241m=\u001b[39m predictive_mean\u001b[38;5;241m.\u001b[39mview(\u001b[38;5;241m*\u001b[39mbatch_shape, \u001b[38;5;241m*\u001b[39mtest_shape)\u001b[38;5;241m.\u001b[39mcontiguous()\n",
      "File \u001b[0;32m/srv/conda/envs/notebook/lib/python3.10/site-packages/gpytorch/models/exact_prediction_strategies.py:289\u001b[0m, in \u001b[0;36mDefaultPredictionStrategy.exact_prediction\u001b[0;34m(self, joint_mean, joint_covar)\u001b[0m\n\u001b[1;32m    285\u001b[0m     test_test_covar \u001b[38;5;241m=\u001b[39m joint_covar[\u001b[38;5;241m.\u001b[39m\u001b[38;5;241m.\u001b[39m\u001b[38;5;241m.\u001b[39m, \u001b[38;5;28mself\u001b[39m\u001b[38;5;241m.\u001b[39mnum_train :, \u001b[38;5;28mself\u001b[39m\u001b[38;5;241m.\u001b[39mnum_train :]\n\u001b[1;32m    286\u001b[0m     test_train_covar \u001b[38;5;241m=\u001b[39m joint_covar[\u001b[38;5;241m.\u001b[39m\u001b[38;5;241m.\u001b[39m\u001b[38;5;241m.\u001b[39m, \u001b[38;5;28mself\u001b[39m\u001b[38;5;241m.\u001b[39mnum_train :, : \u001b[38;5;28mself\u001b[39m\u001b[38;5;241m.\u001b[39mnum_train]\n\u001b[1;32m    288\u001b[0m \u001b[38;5;28;01mreturn\u001b[39;00m (\n\u001b[0;32m--> 289\u001b[0m     \u001b[38;5;28;43mself\u001b[39;49m\u001b[38;5;241;43m.\u001b[39;49m\u001b[43mexact_predictive_mean\u001b[49m\u001b[43m(\u001b[49m\u001b[43mtest_mean\u001b[49m\u001b[43m,\u001b[49m\u001b[43m \u001b[49m\u001b[43mtest_train_covar\u001b[49m\u001b[43m)\u001b[49m,\n\u001b[1;32m    290\u001b[0m     \u001b[38;5;28mself\u001b[39m\u001b[38;5;241m.\u001b[39mexact_predictive_covar(test_test_covar, test_train_covar),\n\u001b[1;32m    291\u001b[0m )\n",
      "File \u001b[0;32m/srv/conda/envs/notebook/lib/python3.10/site-packages/gpytorch/models/exact_prediction_strategies.py:306\u001b[0m, in \u001b[0;36mDefaultPredictionStrategy.exact_predictive_mean\u001b[0;34m(self, test_mean, test_train_covar)\u001b[0m\n\u001b[1;32m    294\u001b[0m \u001b[38;5;250m\u001b[39m\u001b[38;5;124;03m\"\"\"\u001b[39;00m\n\u001b[1;32m    295\u001b[0m \u001b[38;5;124;03mComputes the posterior predictive covariance of a GP\u001b[39;00m\n\u001b[1;32m    296\u001b[0m \n\u001b[0;32m   (...)\u001b[0m\n\u001b[1;32m    300\u001b[0m \u001b[38;5;124;03m:return: The predictive posterior mean of the test points\u001b[39;00m\n\u001b[1;32m    301\u001b[0m \u001b[38;5;124;03m\"\"\"\u001b[39;00m\n\u001b[1;32m    302\u001b[0m \u001b[38;5;66;03m# NOTE TO FUTURE SELF:\u001b[39;00m\n\u001b[1;32m    303\u001b[0m \u001b[38;5;66;03m# You **cannot* use addmv here, because test_train_covar may not actually be a non lazy tensor even for an exact\u001b[39;00m\n\u001b[1;32m    304\u001b[0m \u001b[38;5;66;03m# GP, and using addmv requires you to to_dense test_train_covar, which is obviously a huge no-no!\u001b[39;00m\n\u001b[0;32m--> 306\u001b[0m \u001b[38;5;28;01mif\u001b[39;00m \u001b[38;5;28mlen\u001b[39m(\u001b[38;5;28;43mself\u001b[39;49m\u001b[38;5;241;43m.\u001b[39;49m\u001b[43mmean_cache\u001b[49m\u001b[38;5;241m.\u001b[39mshape) \u001b[38;5;241m==\u001b[39m \u001b[38;5;241m4\u001b[39m:\n\u001b[1;32m    307\u001b[0m     res \u001b[38;5;241m=\u001b[39m (test_train_covar \u001b[38;5;241m@\u001b[39m \u001b[38;5;28mself\u001b[39m\u001b[38;5;241m.\u001b[39mmean_cache\u001b[38;5;241m.\u001b[39msqueeze(\u001b[38;5;241m1\u001b[39m)\u001b[38;5;241m.\u001b[39munsqueeze(\u001b[38;5;241m-\u001b[39m\u001b[38;5;241m1\u001b[39m))\u001b[38;5;241m.\u001b[39msqueeze(\u001b[38;5;241m-\u001b[39m\u001b[38;5;241m1\u001b[39m)\n\u001b[1;32m    308\u001b[0m \u001b[38;5;28;01melse\u001b[39;00m:\n",
      "File \u001b[0;32m/srv/conda/envs/notebook/lib/python3.10/site-packages/gpytorch/utils/memoize.py:59\u001b[0m, in \u001b[0;36m_cached.<locals>.g\u001b[0;34m(self, *args, **kwargs)\u001b[0m\n\u001b[1;32m     57\u001b[0m kwargs_pkl \u001b[38;5;241m=\u001b[39m pickle\u001b[38;5;241m.\u001b[39mdumps(kwargs)\n\u001b[1;32m     58\u001b[0m \u001b[38;5;28;01mif\u001b[39;00m \u001b[38;5;129;01mnot\u001b[39;00m _is_in_cache(\u001b[38;5;28mself\u001b[39m, cache_name, \u001b[38;5;241m*\u001b[39margs, kwargs_pkl\u001b[38;5;241m=\u001b[39mkwargs_pkl):\n\u001b[0;32m---> 59\u001b[0m     \u001b[38;5;28;01mreturn\u001b[39;00m _add_to_cache(\u001b[38;5;28mself\u001b[39m, cache_name, \u001b[43mmethod\u001b[49m\u001b[43m(\u001b[49m\u001b[38;5;28;43mself\u001b[39;49m\u001b[43m,\u001b[49m\u001b[43m \u001b[49m\u001b[38;5;241;43m*\u001b[39;49m\u001b[43margs\u001b[49m\u001b[43m,\u001b[49m\u001b[43m \u001b[49m\u001b[38;5;241;43m*\u001b[39;49m\u001b[38;5;241;43m*\u001b[39;49m\u001b[43mkwargs\u001b[49m\u001b[43m)\u001b[49m, \u001b[38;5;241m*\u001b[39margs, kwargs_pkl\u001b[38;5;241m=\u001b[39mkwargs_pkl)\n\u001b[1;32m     60\u001b[0m \u001b[38;5;28;01mreturn\u001b[39;00m _get_from_cache(\u001b[38;5;28mself\u001b[39m, cache_name, \u001b[38;5;241m*\u001b[39margs, kwargs_pkl\u001b[38;5;241m=\u001b[39mkwargs_pkl)\n",
      "File \u001b[0;32m/srv/conda/envs/notebook/lib/python3.10/site-packages/gpytorch/models/exact_prediction_strategies.py:256\u001b[0m, in \u001b[0;36mDefaultPredictionStrategy.mean_cache\u001b[0;34m(self)\u001b[0m\n\u001b[1;32m    253\u001b[0m train_mean, train_train_covar \u001b[38;5;241m=\u001b[39m mvn\u001b[38;5;241m.\u001b[39mloc, mvn\u001b[38;5;241m.\u001b[39mlazy_covariance_matrix\n\u001b[1;32m    255\u001b[0m train_labels_offset \u001b[38;5;241m=\u001b[39m (\u001b[38;5;28mself\u001b[39m\u001b[38;5;241m.\u001b[39mtrain_labels \u001b[38;5;241m-\u001b[39m train_mean)\u001b[38;5;241m.\u001b[39munsqueeze(\u001b[38;5;241m-\u001b[39m\u001b[38;5;241m1\u001b[39m)\n\u001b[0;32m--> 256\u001b[0m mean_cache \u001b[38;5;241m=\u001b[39m \u001b[43mtrain_train_covar\u001b[49m\u001b[38;5;241;43m.\u001b[39;49m\u001b[43mevaluate_kernel\u001b[49m\u001b[43m(\u001b[49m\u001b[43m)\u001b[49m\u001b[38;5;241;43m.\u001b[39;49m\u001b[43msolve\u001b[49m\u001b[43m(\u001b[49m\u001b[43mtrain_labels_offset\u001b[49m\u001b[43m)\u001b[49m\u001b[38;5;241m.\u001b[39msqueeze(\u001b[38;5;241m-\u001b[39m\u001b[38;5;241m1\u001b[39m)\n\u001b[1;32m    258\u001b[0m \u001b[38;5;28;01mif\u001b[39;00m settings\u001b[38;5;241m.\u001b[39mdetach_test_caches\u001b[38;5;241m.\u001b[39mon():\n\u001b[1;32m    259\u001b[0m     mean_cache \u001b[38;5;241m=\u001b[39m mean_cache\u001b[38;5;241m.\u001b[39mdetach()\n",
      "File \u001b[0;32m/srv/conda/envs/notebook/lib/python3.10/site-packages/linear_operator/operators/_linear_operator.py:2334\u001b[0m, in \u001b[0;36mLinearOperator.solve\u001b[0;34m(self, right_tensor, left_tensor)\u001b[0m\n\u001b[1;32m   2332\u001b[0m func \u001b[38;5;241m=\u001b[39m Solve\n\u001b[1;32m   2333\u001b[0m \u001b[38;5;28;01mif\u001b[39;00m left_tensor \u001b[38;5;129;01mis\u001b[39;00m \u001b[38;5;28;01mNone\u001b[39;00m:\n\u001b[0;32m-> 2334\u001b[0m     \u001b[38;5;28;01mreturn\u001b[39;00m \u001b[43mfunc\u001b[49m\u001b[38;5;241;43m.\u001b[39;49m\u001b[43mapply\u001b[49m\u001b[43m(\u001b[49m\u001b[38;5;28;43mself\u001b[39;49m\u001b[38;5;241;43m.\u001b[39;49m\u001b[43mrepresentation_tree\u001b[49m\u001b[43m(\u001b[49m\u001b[43m)\u001b[49m\u001b[43m,\u001b[49m\u001b[43m \u001b[49m\u001b[38;5;28;43;01mFalse\u001b[39;49;00m\u001b[43m,\u001b[49m\u001b[43m \u001b[49m\u001b[43mright_tensor\u001b[49m\u001b[43m,\u001b[49m\u001b[43m \u001b[49m\u001b[38;5;241;43m*\u001b[39;49m\u001b[38;5;28;43mself\u001b[39;49m\u001b[38;5;241;43m.\u001b[39;49m\u001b[43mrepresentation\u001b[49m\u001b[43m(\u001b[49m\u001b[43m)\u001b[49m\u001b[43m)\u001b[49m\n\u001b[1;32m   2335\u001b[0m \u001b[38;5;28;01melse\u001b[39;00m:\n\u001b[1;32m   2336\u001b[0m     \u001b[38;5;28;01mreturn\u001b[39;00m func\u001b[38;5;241m.\u001b[39mapply(\n\u001b[1;32m   2337\u001b[0m         \u001b[38;5;28mself\u001b[39m\u001b[38;5;241m.\u001b[39mrepresentation_tree(),\n\u001b[1;32m   2338\u001b[0m         \u001b[38;5;28;01mTrue\u001b[39;00m,\n\u001b[0;32m   (...)\u001b[0m\n\u001b[1;32m   2341\u001b[0m         \u001b[38;5;241m*\u001b[39m\u001b[38;5;28mself\u001b[39m\u001b[38;5;241m.\u001b[39mrepresentation(),\n\u001b[1;32m   2342\u001b[0m     )\n",
      "File \u001b[0;32m/srv/conda/envs/notebook/lib/python3.10/site-packages/torch/autograd/function.py:539\u001b[0m, in \u001b[0;36mFunction.apply\u001b[0;34m(cls, *args, **kwargs)\u001b[0m\n\u001b[1;32m    536\u001b[0m \u001b[38;5;28;01mif\u001b[39;00m \u001b[38;5;129;01mnot\u001b[39;00m torch\u001b[38;5;241m.\u001b[39m_C\u001b[38;5;241m.\u001b[39m_are_functorch_transforms_active():\n\u001b[1;32m    537\u001b[0m     \u001b[38;5;66;03m# See NOTE: [functorch vjp and autograd interaction]\u001b[39;00m\n\u001b[1;32m    538\u001b[0m     args \u001b[38;5;241m=\u001b[39m _functorch\u001b[38;5;241m.\u001b[39mutils\u001b[38;5;241m.\u001b[39munwrap_dead_wrappers(args)\n\u001b[0;32m--> 539\u001b[0m     \u001b[38;5;28;01mreturn\u001b[39;00m \u001b[38;5;28;43msuper\u001b[39;49m\u001b[43m(\u001b[49m\u001b[43m)\u001b[49m\u001b[38;5;241;43m.\u001b[39;49m\u001b[43mapply\u001b[49m\u001b[43m(\u001b[49m\u001b[38;5;241;43m*\u001b[39;49m\u001b[43margs\u001b[49m\u001b[43m,\u001b[49m\u001b[43m \u001b[49m\u001b[38;5;241;43m*\u001b[39;49m\u001b[38;5;241;43m*\u001b[39;49m\u001b[43mkwargs\u001b[49m\u001b[43m)\u001b[49m  \u001b[38;5;66;03m# type: ignore[misc]\u001b[39;00m\n\u001b[1;32m    541\u001b[0m \u001b[38;5;28;01mif\u001b[39;00m \u001b[38;5;28mcls\u001b[39m\u001b[38;5;241m.\u001b[39msetup_context \u001b[38;5;241m==\u001b[39m _SingleLevelFunction\u001b[38;5;241m.\u001b[39msetup_context:\n\u001b[1;32m    542\u001b[0m     \u001b[38;5;28;01mraise\u001b[39;00m \u001b[38;5;167;01mRuntimeError\u001b[39;00m(\n\u001b[1;32m    543\u001b[0m         \u001b[38;5;124m\"\u001b[39m\u001b[38;5;124mIn order to use an autograd.Function with functorch transforms \u001b[39m\u001b[38;5;124m\"\u001b[39m\n\u001b[1;32m    544\u001b[0m         \u001b[38;5;124m\"\u001b[39m\u001b[38;5;124m(vmap, grad, jvp, jacrev, ...), it must override the setup_context \u001b[39m\u001b[38;5;124m\"\u001b[39m\n\u001b[1;32m    545\u001b[0m         \u001b[38;5;124m\"\u001b[39m\u001b[38;5;124mstaticmethod. For more details, please see \u001b[39m\u001b[38;5;124m\"\u001b[39m\n\u001b[1;32m    546\u001b[0m         \u001b[38;5;124m\"\u001b[39m\u001b[38;5;124mhttps://pytorch.org/docs/master/notes/extending.func.html\u001b[39m\u001b[38;5;124m\"\u001b[39m\n\u001b[1;32m    547\u001b[0m     )\n",
      "File \u001b[0;32m/srv/conda/envs/notebook/lib/python3.10/site-packages/linear_operator/functions/_solve.py:53\u001b[0m, in \u001b[0;36mSolve.forward\u001b[0;34m(ctx, representation_tree, has_left, *args)\u001b[0m\n\u001b[1;32m     51\u001b[0m     res \u001b[38;5;241m=\u001b[39m left_tensor \u001b[38;5;241m@\u001b[39m res\n\u001b[1;32m     52\u001b[0m \u001b[38;5;28;01melse\u001b[39;00m:\n\u001b[0;32m---> 53\u001b[0m     solves \u001b[38;5;241m=\u001b[39m \u001b[43m_solve\u001b[49m\u001b[43m(\u001b[49m\u001b[43mlinear_op\u001b[49m\u001b[43m,\u001b[49m\u001b[43m \u001b[49m\u001b[43mright_tensor\u001b[49m\u001b[43m)\u001b[49m\n\u001b[1;32m     54\u001b[0m     res \u001b[38;5;241m=\u001b[39m solves\n\u001b[1;32m     56\u001b[0m \u001b[38;5;28;01mif\u001b[39;00m ctx\u001b[38;5;241m.\u001b[39mis_vector:\n",
      "File \u001b[0;32m/srv/conda/envs/notebook/lib/python3.10/site-packages/linear_operator/functions/_solve.py:21\u001b[0m, in \u001b[0;36m_solve\u001b[0;34m(linear_op, rhs)\u001b[0m\n\u001b[1;32m     19\u001b[0m \u001b[38;5;28;01mwith\u001b[39;00m torch\u001b[38;5;241m.\u001b[39mno_grad():\n\u001b[1;32m     20\u001b[0m     preconditioner \u001b[38;5;241m=\u001b[39m linear_op\u001b[38;5;241m.\u001b[39mdetach()\u001b[38;5;241m.\u001b[39m_solve_preconditioner()\n\u001b[0;32m---> 21\u001b[0m \u001b[38;5;28;01mreturn\u001b[39;00m \u001b[43mlinear_op\u001b[49m\u001b[38;5;241;43m.\u001b[39;49m\u001b[43m_solve\u001b[49m\u001b[43m(\u001b[49m\u001b[43mrhs\u001b[49m\u001b[43m,\u001b[49m\u001b[43m \u001b[49m\u001b[43mpreconditioner\u001b[49m\u001b[43m)\u001b[49m\n",
      "File \u001b[0;32m/srv/conda/envs/notebook/lib/python3.10/site-packages/linear_operator/operators/_linear_operator.py:789\u001b[0m, in \u001b[0;36mLinearOperator._solve\u001b[0;34m(self, rhs, preconditioner, num_tridiag)\u001b[0m\n\u001b[1;32m    774\u001b[0m \u001b[38;5;28;01mdef\u001b[39;00m \u001b[38;5;21m_solve\u001b[39m(\n\u001b[1;32m    775\u001b[0m     \u001b[38;5;28mself\u001b[39m: Float[LinearOperator, \u001b[38;5;124m\"\u001b[39m\u001b[38;5;124m... N N\u001b[39m\u001b[38;5;124m\"\u001b[39m],\n\u001b[1;32m    776\u001b[0m     rhs: Float[torch\u001b[38;5;241m.\u001b[39mTensor, \u001b[38;5;124m\"\u001b[39m\u001b[38;5;124m... N C\u001b[39m\u001b[38;5;124m\"\u001b[39m],\n\u001b[0;32m   (...)\u001b[0m\n\u001b[1;32m    784\u001b[0m     ],\n\u001b[1;32m    785\u001b[0m ]:\n\u001b[1;32m    786\u001b[0m \u001b[38;5;250m    \u001b[39m\u001b[38;5;124mr\u001b[39m\u001b[38;5;124;03m\"\"\"\u001b[39;00m\n\u001b[1;32m    787\u001b[0m \u001b[38;5;124;03m    TODO\u001b[39;00m\n\u001b[1;32m    788\u001b[0m \u001b[38;5;124;03m    \"\"\"\u001b[39;00m\n\u001b[0;32m--> 789\u001b[0m     \u001b[38;5;28;01mreturn\u001b[39;00m \u001b[43mutils\u001b[49m\u001b[38;5;241;43m.\u001b[39;49m\u001b[43mlinear_cg\u001b[49m\u001b[43m(\u001b[49m\n\u001b[1;32m    790\u001b[0m \u001b[43m        \u001b[49m\u001b[38;5;28;43mself\u001b[39;49m\u001b[38;5;241;43m.\u001b[39;49m\u001b[43m_matmul\u001b[49m\u001b[43m,\u001b[49m\n\u001b[1;32m    791\u001b[0m \u001b[43m        \u001b[49m\u001b[43mrhs\u001b[49m\u001b[43m,\u001b[49m\n\u001b[1;32m    792\u001b[0m \u001b[43m        \u001b[49m\u001b[43mn_tridiag\u001b[49m\u001b[38;5;241;43m=\u001b[39;49m\u001b[43mnum_tridiag\u001b[49m\u001b[43m,\u001b[49m\n\u001b[1;32m    793\u001b[0m \u001b[43m        \u001b[49m\u001b[43mmax_iter\u001b[49m\u001b[38;5;241;43m=\u001b[39;49m\u001b[43msettings\u001b[49m\u001b[38;5;241;43m.\u001b[39;49m\u001b[43mmax_cg_iterations\u001b[49m\u001b[38;5;241;43m.\u001b[39;49m\u001b[43mvalue\u001b[49m\u001b[43m(\u001b[49m\u001b[43m)\u001b[49m\u001b[43m,\u001b[49m\n\u001b[1;32m    794\u001b[0m \u001b[43m        \u001b[49m\u001b[43mmax_tridiag_iter\u001b[49m\u001b[38;5;241;43m=\u001b[39;49m\u001b[43msettings\u001b[49m\u001b[38;5;241;43m.\u001b[39;49m\u001b[43mmax_lanczos_quadrature_iterations\u001b[49m\u001b[38;5;241;43m.\u001b[39;49m\u001b[43mvalue\u001b[49m\u001b[43m(\u001b[49m\u001b[43m)\u001b[49m\u001b[43m,\u001b[49m\n\u001b[1;32m    795\u001b[0m \u001b[43m        \u001b[49m\u001b[43mpreconditioner\u001b[49m\u001b[38;5;241;43m=\u001b[39;49m\u001b[43mpreconditioner\u001b[49m\u001b[43m,\u001b[49m\n\u001b[1;32m    796\u001b[0m \u001b[43m    \u001b[49m\u001b[43m)\u001b[49m\n",
      "File \u001b[0;32m/srv/conda/envs/notebook/lib/python3.10/site-packages/linear_operator/utils/linear_cg.py:186\u001b[0m, in \u001b[0;36mlinear_cg\u001b[0;34m(matmul_closure, rhs, n_tridiag, tolerance, eps, stop_updating_after, max_iter, max_tridiag_iter, initial_guess, preconditioner)\u001b[0m\n\u001b[1;32m    183\u001b[0m initial_guess \u001b[38;5;241m=\u001b[39m initial_guess\u001b[38;5;241m.\u001b[39mdiv(rhs_norm)\n\u001b[1;32m    185\u001b[0m \u001b[38;5;66;03m# residual: residual_{0} = b_vec - lhs x_{0}\u001b[39;00m\n\u001b[0;32m--> 186\u001b[0m residual \u001b[38;5;241m=\u001b[39m rhs \u001b[38;5;241m-\u001b[39m \u001b[43mmatmul_closure\u001b[49m\u001b[43m(\u001b[49m\u001b[43minitial_guess\u001b[49m\u001b[43m)\u001b[49m\n\u001b[1;32m    187\u001b[0m batch_shape \u001b[38;5;241m=\u001b[39m residual\u001b[38;5;241m.\u001b[39mshape[:\u001b[38;5;241m-\u001b[39m\u001b[38;5;241m2\u001b[39m]\n\u001b[1;32m    189\u001b[0m \u001b[38;5;66;03m# result <- x_{0}\u001b[39;00m\n",
      "File \u001b[0;32m/srv/conda/envs/notebook/lib/python3.10/site-packages/linear_operator/operators/added_diag_linear_operator.py:77\u001b[0m, in \u001b[0;36mAddedDiagLinearOperator._matmul\u001b[0;34m(self, rhs)\u001b[0m\n\u001b[1;32m     73\u001b[0m \u001b[38;5;28;01mdef\u001b[39;00m \u001b[38;5;21m_matmul\u001b[39m(\n\u001b[1;32m     74\u001b[0m     \u001b[38;5;28mself\u001b[39m: Float[LinearOperator, \u001b[38;5;124m\"\u001b[39m\u001b[38;5;124m*batch M N\u001b[39m\u001b[38;5;124m\"\u001b[39m],\n\u001b[1;32m     75\u001b[0m     rhs: Union[Float[torch\u001b[38;5;241m.\u001b[39mTensor, \u001b[38;5;124m\"\u001b[39m\u001b[38;5;124m*batch2 N C\u001b[39m\u001b[38;5;124m\"\u001b[39m], Float[torch\u001b[38;5;241m.\u001b[39mTensor, \u001b[38;5;124m\"\u001b[39m\u001b[38;5;124m*batch2 N\u001b[39m\u001b[38;5;124m\"\u001b[39m]],\n\u001b[1;32m     76\u001b[0m ) \u001b[38;5;241m-\u001b[39m\u001b[38;5;241m>\u001b[39m Union[Float[torch\u001b[38;5;241m.\u001b[39mTensor, \u001b[38;5;124m\"\u001b[39m\u001b[38;5;124m... M C\u001b[39m\u001b[38;5;124m\"\u001b[39m], Float[torch\u001b[38;5;241m.\u001b[39mTensor, \u001b[38;5;124m\"\u001b[39m\u001b[38;5;124m... M\u001b[39m\u001b[38;5;124m\"\u001b[39m]]:\n\u001b[0;32m---> 77\u001b[0m     \u001b[38;5;28;01mreturn\u001b[39;00m torch\u001b[38;5;241m.\u001b[39maddcmul(\u001b[38;5;28;43mself\u001b[39;49m\u001b[38;5;241;43m.\u001b[39;49m\u001b[43m_linear_op\u001b[49m\u001b[38;5;241;43m.\u001b[39;49m\u001b[43m_matmul\u001b[49m\u001b[43m(\u001b[49m\u001b[43mrhs\u001b[49m\u001b[43m)\u001b[49m, \u001b[38;5;28mself\u001b[39m\u001b[38;5;241m.\u001b[39m_diag_tensor\u001b[38;5;241m.\u001b[39m_diag\u001b[38;5;241m.\u001b[39munsqueeze(\u001b[38;5;241m-\u001b[39m\u001b[38;5;241m1\u001b[39m), rhs)\n",
      "File \u001b[0;32m/srv/conda/envs/notebook/lib/python3.10/site-packages/linear_operator/operators/dense_linear_operator.py:65\u001b[0m, in \u001b[0;36mDenseLinearOperator._matmul\u001b[0;34m(self, rhs)\u001b[0m\n\u001b[1;32m     61\u001b[0m \u001b[38;5;28;01mdef\u001b[39;00m \u001b[38;5;21m_matmul\u001b[39m(\n\u001b[1;32m     62\u001b[0m     \u001b[38;5;28mself\u001b[39m: Float[LinearOperator, \u001b[38;5;124m\"\u001b[39m\u001b[38;5;124m*batch M N\u001b[39m\u001b[38;5;124m\"\u001b[39m],\n\u001b[1;32m     63\u001b[0m     rhs: Union[Float[torch\u001b[38;5;241m.\u001b[39mTensor, \u001b[38;5;124m\"\u001b[39m\u001b[38;5;124m*batch2 N C\u001b[39m\u001b[38;5;124m\"\u001b[39m], Float[torch\u001b[38;5;241m.\u001b[39mTensor, \u001b[38;5;124m\"\u001b[39m\u001b[38;5;124m*batch2 N\u001b[39m\u001b[38;5;124m\"\u001b[39m]],\n\u001b[1;32m     64\u001b[0m ) \u001b[38;5;241m-\u001b[39m\u001b[38;5;241m>\u001b[39m Union[Float[torch\u001b[38;5;241m.\u001b[39mTensor, \u001b[38;5;124m\"\u001b[39m\u001b[38;5;124m... M C\u001b[39m\u001b[38;5;124m\"\u001b[39m], Float[torch\u001b[38;5;241m.\u001b[39mTensor, \u001b[38;5;124m\"\u001b[39m\u001b[38;5;124m... M\u001b[39m\u001b[38;5;124m\"\u001b[39m]]:\n\u001b[0;32m---> 65\u001b[0m     \u001b[38;5;28;01mreturn\u001b[39;00m \u001b[43mtorch\u001b[49m\u001b[38;5;241;43m.\u001b[39;49m\u001b[43mmatmul\u001b[49m\u001b[43m(\u001b[49m\u001b[38;5;28;43mself\u001b[39;49m\u001b[38;5;241;43m.\u001b[39;49m\u001b[43mtensor\u001b[49m\u001b[43m,\u001b[49m\u001b[43m \u001b[49m\u001b[43mrhs\u001b[49m\u001b[43m)\u001b[49m\n",
      "\u001b[0;31mRuntimeError\u001b[0m: expected m1 and m2 to have the same dtype, but got: double != float"
     ]
    }
   ],
   "source": [
    "model.eval()\n",
    "likelihood.eval()\n",
    "\n",
    "\n",
    "with torch.no_grad(), gpytorch.settings.fast_pred_var():\n",
    "    observed_pred = likelihood(model(test_tensor_x))"
   ]
  },
  {
   "cell_type": "code",
   "execution_count": null,
   "id": "244b852c-fc76-47fd-80a2-560264926a32",
   "metadata": {},
   "outputs": [],
   "source": []
  },
  {
   "cell_type": "code",
   "execution_count": 85,
   "id": "24499474-7d66-45a3-9bd8-0df113836744",
   "metadata": {
    "tags": []
   },
   "outputs": [
    {
     "data": {
      "text/plain": [
       "GaussianLikelihood(\n",
       "  (noise_covar): HomoskedasticNoise(\n",
       "    (raw_noise_constraint): GreaterThan(1.000E-04)\n",
       "  )\n",
       ")"
      ]
     },
     "execution_count": 85,
     "metadata": {},
     "output_type": "execute_result"
    }
   ],
   "source": [
    "likelihood.eval()"
   ]
  },
  {
   "cell_type": "code",
   "execution_count": null,
   "id": "7e310576-201f-4018-8d9d-d8bcb07c9838",
   "metadata": {
    "tags": []
   },
   "outputs": [],
   "source": [
    "with gpytorch.settings.fast_pred_var():\n",
    "    predictions = model(test_tensor_x)"
   ]
  },
  {
   "cell_type": "code",
   "execution_count": null,
   "id": "1e1e6bdd-7d55-4d96-8ea6-cd6921c3b4a1",
   "metadata": {},
   "outputs": [],
   "source": []
  },
  {
   "cell_type": "code",
   "execution_count": null,
   "id": "829336ee-9222-41f8-88d4-d97ca2a826b6",
   "metadata": {},
   "outputs": [],
   "source": []
  },
  {
   "cell_type": "code",
   "execution_count": null,
   "id": "cdd89eff-8918-45f6-8a82-6504607eb632",
   "metadata": {},
   "outputs": [],
   "source": []
  },
  {
   "cell_type": "code",
   "execution_count": null,
   "id": "2c314697-2944-4bbb-9a16-810f6c0727b1",
   "metadata": {},
   "outputs": [],
   "source": []
  },
  {
   "cell_type": "markdown",
   "id": "57490a65-e64b-4919-a985-53ef8a370548",
   "metadata": {
    "user_expressions": []
   },
   "source": [
    "## Try spatial GP on spatial subset and temporal mean of SCG chunk -- 2d"
   ]
  },
  {
   "cell_type": "code",
   "execution_count": 19,
   "id": "df93ef8c-0843-4ec5-9b20-ea77346d39af",
   "metadata": {
    "tags": []
   },
   "outputs": [],
   "source": [
    "#format data into train and test datasets  -- taking 80:20 for train:test\n",
    "#first as np arrays\n",
    "scg_x_np = scg_chunk.x.data\n",
    "scg_y_np = scg_chunk.y.data\n",
    "scg_z_np = scg_chunk.band1.mean(dim='time_numeric').data"
   ]
  },
  {
   "cell_type": "code",
   "execution_count": 20,
   "id": "12f56218-e95b-4d6e-a441-903c503459c8",
   "metadata": {
    "tags": []
   },
   "outputs": [
    {
     "data": {
      "text/plain": [
       "array([[1820.1283, 1820.6112, 1820.6589, ..., 1816.8641, 1816.6454,\n",
       "        1816.6841],\n",
       "       [1820.2026, 1821.1635, 1820.7654, ..., 1816.8278, 1816.8123,\n",
       "        1817.0181],\n",
       "       [1820.1885, 1820.6732, 1821.2119, ..., 1816.8767, 1816.8859,\n",
       "        1816.9856],\n",
       "       ...,\n",
       "       [1823.2078, 1823.0796, 1822.9535, ..., 1819.5013, 1819.3636,\n",
       "        1819.2751],\n",
       "       [1823.3024, 1823.2157, 1823.1067, ..., 1819.5399, 1819.4105,\n",
       "        1819.3262],\n",
       "       [1823.3914, 1823.341 , 1823.2238, ..., 1819.5913, 1819.4498,\n",
       "        1819.354 ]], dtype=float32)"
      ]
     },
     "execution_count": 20,
     "metadata": {},
     "output_type": "execute_result"
    }
   ],
   "source": [
    "scg_z_np"
   ]
  },
  {
   "cell_type": "code",
   "execution_count": 23,
   "id": "a99effd0-4929-4892-8bc8-18d97870d588",
   "metadata": {
    "tags": []
   },
   "outputs": [],
   "source": [
    "scg_z_np_train = scg_z_np[:int(len(scg_z_np)*0.8)]\n",
    "scg_z_np_test = scg_z_np[-int(len(scg_z_np)*0.2):]"
   ]
  },
  {
   "cell_type": "code",
   "execution_count": 27,
   "id": "f663a608-1515-4591-973b-6176e415f9f9",
   "metadata": {
    "tags": []
   },
   "outputs": [],
   "source": [
    "#then format as tensors\n",
    "scg_grid = torch.from_numpy(np.stack([scg_x_np, scg_y_np], axis=-1))\n",
    "scg_xy = gpytorch.utils.grid.create_data_from_grid(scg_grid)\n",
    "scg_z = torch.from_numpy(scg_z_np.ravel())"
   ]
  },
  {
   "cell_type": "code",
   "execution_count": 28,
   "id": "8a95c3b7-d59c-4dd2-9133-7cc9bc186c49",
   "metadata": {
    "tags": []
   },
   "outputs": [
    {
     "data": {
      "image/png": "[encoded data removed]",
      "text/plain": [
       "<Figure size 640x480 with 1 Axes>"
      ]
     },
     "metadata": {},
     "output_type": "display_data"
    }
   ],
   "source": [
    "size=50\n",
    "#grid, xy,z = make_test_dataset(size, (-3,3), 0,0,1,1,0.05)\n",
    "                            \n",
    "                            \n",
    "shape = (size, size)\n",
    "fig, ax = plt.subplots(subplot_kw = {'projection':'3d'})\n",
    "\n",
    "surf = ax.plot_surface(\n",
    "    scg_xy[:, 0].numpy().reshape(shape),\n",
    "    scg_xy[:, 1].numpy().reshape(shape),\n",
    "    scg_z_np, cmap='cividis',\n",
    "    linewidth=0, antialiased=False)\n",
    "plt.show()"
   ]
  },
  {
   "cell_type": "markdown",
   "id": "a4b18123-5dd8-4fd6-a97c-9ab6e3f42b45",
   "metadata": {
    "user_expressions": []
   },
   "source": [
    "split into test, train: "
   ]
  },
  {
   "cell_type": "code",
   "execution_count": 29,
   "id": "716fe4f3-1da9-456f-a5fb-ee4855a084ad",
   "metadata": {
    "tags": []
   },
   "outputs": [],
   "source": [
    "train_scg_xy = torch.from_numpy(scg_xy.numpy()[:int(len(scg_xy)*0.8)])\n",
    "train_scg_z = torch.from_numpy(scg_z.numpy()[:int(len(scg_z)*0.8)])"
   ]
  },
  {
   "cell_type": "code",
   "execution_count": 30,
   "id": "1cda148f-49b2-479b-911c-e8e9048716ae",
   "metadata": {
    "tags": []
   },
   "outputs": [],
   "source": [
    "test_scg_xy = torch.from_numpy(scg_xy.numpy()[-int(len(scg_xy)*0.2):])\n",
    "test_scg_z = torch.from_numpy(scg_z.numpy()[-int(len(scg_z)*0.2):])\n"
   ]
  },
  {
   "cell_type": "code",
   "execution_count": 31,
   "id": "654d8db2-8433-4cdb-be58-eb9cb2898d3b",
   "metadata": {
    "tags": []
   },
   "outputs": [
    {
     "data": {
      "text/plain": [
       "torch.Size([500])"
      ]
     },
     "execution_count": 31,
     "metadata": {},
     "output_type": "execute_result"
    }
   ],
   "source": [
    "test_scg_z.shape"
   ]
  },
  {
   "cell_type": "code",
   "execution_count": 32,
   "id": "34966b79-5aec-4ef3-9dee-86ade867857b",
   "metadata": {
    "tags": []
   },
   "outputs": [],
   "source": [
    "## Define the Model\n",
    "# got from here: https://github.com/rmsander/learning-machine_learning/blob/master/python/machine_learning_in_python/gaussian_process_regression/gpytorch/batched_multidimensional_gpytorch.ipynb\n",
    "## Define the Model\n",
    "class GP(gpytorch.models.ExactGP):\n",
    "    def __init__(self, train_x, train_y, likelihood):\n",
    "        super(GP, self).__init__(train_x, train_y, likelihood)\n",
    "        self.mean_module = gpytorch.means.ConstantMean()#batch_shape=torch.Size([shape]))\n",
    "        self.covar_module = gpytorch.kernels.ScaleKernel(\n",
    "            gpytorch.kernels.MaternKernel(),#batch_shape=torch.Size([shape])),\n",
    "            \n",
    "        )\n",
    "\n",
    "    def forward(self, x):\n",
    "        mean_x = self.mean_module(x)\n",
    "        covar_x = self.covar_module(x)\n",
    "        return gpytorch.distributions.MultivariateNormal(mean_x, covar_x)"
   ]
  },
  {
   "cell_type": "code",
   "execution_count": 45,
   "id": "bb324f67-1732-4c4f-b67c-9b8e0054bdcb",
   "metadata": {
    "tags": []
   },
   "outputs": [],
   "source": [
    "import gc\n",
    "EPOCHS = 50\n",
    "\n",
    "def train_gp_scalar(train_xy, train_z, epochs=10, lr=0.1):\n",
    "    \"\"\"Computes a Gaussian Process object using GPyTorch. Each outcome is\n",
    "    modeled as a single scalar outcome.\n",
    "    \"\"\"\n",
    "\n",
    "    # initialize likelihood and model - batch over output dimensions and batches\n",
    "    likelihood = gpytorch.likelihoods.GaussianLikelihood()#batch_shape=torch.Size([B * YD]))\n",
    "    model = GP(train_xy, train_z, likelihood)# , B * YD)\n",
    "\n",
    "    # Find optimal model hyperparameters\n",
    "    model.train()\n",
    "    likelihood.train()\n",
    "\n",
    "    # Use the adam optimizer\n",
    "    optimizer = torch.optim.Adam(model.parameters(), lr=lr)\n",
    "\n",
    "    # \"Loss\" for GPs - the marginal log likelihood\n",
    "    mll = gpytorch.mlls.ExactMarginalLogLikelihood(likelihood, model)\n",
    "    \n",
    "    # Define training helper function\n",
    "    def epoch_train():\n",
    "        optimizer.zero_grad()  # Zero gradients\n",
    "        output = model(train_xy) # Compute noise-free output\n",
    "        #print(type(output.mean))\n",
    "        loss = -mll(output, train_z).sum()  # Compute batched loss\n",
    "        loss.backward()  # Compute gradients with backpropagation\n",
    "        optimizer.step()  # Update weights with gradients\n",
    "        optimizer.zero_grad()  # Zero gradients\n",
    "        gc.collect()  # Used to ensure there is no memory leak\n",
    "        return loss, model.covar_module.base_kernel.lengthscale.item(), model.likelihood.noise.item()\n",
    "    # Run training\n",
    "    for i in range(EPOCHS):\n",
    "        loss, model_kern_lengthscale, likelihood_noise = epoch_train()\n",
    "        print('Epoch %d/%d - loss: %.3f lengthscale: %.3f noise: %.3f' % (\n",
    "            i + 1, EPOCHS, loss, model_kern_lengthscale, likelihood_noise))\n",
    "\n",
    "    #torch.cuda.empty_cache()\n",
    "    #return model, likelihood"
   ]
  },
  {
   "cell_type": "code",
   "execution_count": 41,
   "id": "77f6e1e2-dfd6-4456-b271-ca59b2084d43",
   "metadata": {
    "tags": []
   },
   "outputs": [
    {
     "name": "stdout",
     "output_type": "stream",
     "text": [
      "<class 'torch.Tensor'>\n"
     ]
    }
   ],
   "source": [
    "print(type(train_scg_z))"
   ]
  },
  {
   "cell_type": "code",
   "execution_count": 53,
   "id": "8658a809-96c5-4c72-8ba6-47420808b917",
   "metadata": {
    "tags": []
   },
   "outputs": [
    {
     "name": "stdout",
     "output_type": "stream",
     "text": [
      "Epoch 1/50 - loss: 1111763.200 lengthscale: 0.744 noise: 0.744\n",
      "Epoch 2/50 - loss: 1005560.039 lengthscale: 0.798 noise: 0.798\n",
      "Epoch 3/50 - loss: 905180.054 lengthscale: 0.855 noise: 0.853\n",
      "Epoch 4/50 - loss: 811054.270 lengthscale: 0.914 noise: 0.909\n",
      "Epoch 5/50 - loss: 723650.522 lengthscale: 0.975 noise: 0.967\n",
      "Epoch 6/50 - loss: 643364.915 lengthscale: 1.039 noise: 1.024\n",
      "Epoch 7/50 - loss: 570440.890 lengthscale: 1.106 noise: 1.081\n",
      "Epoch 8/50 - loss: 504923.127 lengthscale: 1.174 noise: 1.137\n",
      "Epoch 9/50 - loss: 446650.220 lengthscale: 1.244 noise: 1.192\n",
      "Epoch 10/50 - loss: 395278.118 lengthscale: 1.316 noise: 1.245\n",
      "Epoch 11/50 - loss: 350322.771 lengthscale: 1.388 noise: 1.297\n",
      "Epoch 12/50 - loss: 311210.334 lengthscale: 1.461 noise: 1.346\n",
      "Epoch 13/50 - loss: 277325.033 lengthscale: 1.533 noise: 1.393\n",
      "Epoch 14/50 - loss: 248048.796 lengthscale: 1.606 noise: 1.437\n",
      "Epoch 15/50 - loss: 222790.514 lengthscale: 1.677 noise: 1.479\n",
      "Epoch 16/50 - loss: 201004.205 lengthscale: 1.748 noise: 1.519\n",
      "Epoch 17/50 - loss: 182198.974 lengthscale: 1.817 noise: 1.556\n",
      "Epoch 18/50 - loss: 165942.274 lengthscale: 1.885 noise: 1.591\n",
      "Epoch 19/50 - loss: 151858.425 lengthscale: 1.951 noise: 1.624\n",
      "Epoch 20/50 - loss: 139624.805 lengthscale: 2.015 noise: 1.654\n",
      "Epoch 21/50 - loss: 128966.493 lengthscale: 2.077 noise: 1.682\n",
      "Epoch 22/50 - loss: 119650.388 lengthscale: 2.137 noise: 1.709\n",
      "Epoch 23/50 - loss: 111479.624 lengthscale: 2.195 noise: 1.734\n",
      "Epoch 24/50 - loss: 104288.089 lengthscale: 2.251 noise: 1.757\n",
      "Epoch 25/50 - loss: 97935.823 lengthscale: 2.305 noise: 1.778\n",
      "Epoch 26/50 - loss: 92304.795 lengthscale: 2.357 noise: 1.798\n",
      "Epoch 27/50 - loss: 87295.424 lengthscale: 2.406 noise: 1.816\n",
      "Epoch 28/50 - loss: 82823.404 lengthscale: 2.454 noise: 1.833\n",
      "Epoch 29/50 - loss: 78817.405 lengthscale: 2.500 noise: 1.849\n",
      "Epoch 30/50 - loss: 75216.766 lengthscale: 2.543 noise: 1.864\n",
      "Epoch 31/50 - loss: 71969.807 lengthscale: 2.586 noise: 1.877\n",
      "Epoch 32/50 - loss: 69032.466 lengthscale: 2.626 noise: 1.890\n",
      "Epoch 33/50 - loss: 66366.891 lengthscale: 2.665 noise: 1.902\n",
      "Epoch 34/50 - loss: 63940.656 lengthscale: 2.702 noise: 1.913\n",
      "Epoch 35/50 - loss: 61725.759 lengthscale: 2.737 noise: 1.923\n",
      "Epoch 36/50 - loss: 59698.018 lengthscale: 2.771 noise: 1.932\n",
      "Epoch 37/50 - loss: 57836.437 lengthscale: 2.804 noise: 1.941\n",
      "Epoch 38/50 - loss: 56122.797 lengthscale: 2.835 noise: 1.949\n",
      "Epoch 39/50 - loss: 54541.191 lengthscale: 2.866 noise: 1.956\n",
      "Epoch 40/50 - loss: 53077.702 lengthscale: 2.895 noise: 1.963\n",
      "Epoch 41/50 - loss: 51720.132 lengthscale: 2.923 noise: 1.970\n",
      "Epoch 42/50 - loss: 50457.787 lengthscale: 2.950 noise: 1.976\n",
      "Epoch 43/50 - loss: 49281.197 lengthscale: 2.976 noise: 1.981\n",
      "Epoch 44/50 - loss: 48182.027 lengthscale: 3.001 noise: 1.987\n",
      "Epoch 45/50 - loss: 47152.873 lengthscale: 3.025 noise: 1.991\n",
      "Epoch 46/50 - loss: 46187.204 lengthscale: 3.048 noise: 1.996\n",
      "Epoch 47/50 - loss: 45279.155 lengthscale: 3.071 noise: 2.000\n",
      "Epoch 48/50 - loss: 44423.558 lengthscale: 3.093 noise: 2.004\n",
      "Epoch 49/50 - loss: 43615.751 lengthscale: 3.114 noise: 2.008\n",
      "Epoch 50/50 - loss: 42851.583 lengthscale: 3.135 noise: 2.011\n"
     ]
    },
    {
     "ename": "TypeError",
     "evalue": "cannot unpack non-iterable NoneType object",
     "output_type": "error",
     "traceback": [
      "\u001b[0;31m---------------------------------------------------------------------------\u001b[0m",
      "\u001b[0;31mTypeError\u001b[0m                                 Traceback (most recent call last)",
      "Cell \u001b[0;32mIn [53], line 3\u001b[0m\n\u001b[1;32m      1\u001b[0m EPOCHS \u001b[38;5;241m=\u001b[39m \u001b[38;5;241m50\u001b[39m\n\u001b[1;32m      2\u001b[0m \u001b[38;5;66;03m# Time GPyTorch training\u001b[39;00m\n\u001b[0;32m----> 3\u001b[0m model, likelihood \u001b[38;5;241m=\u001b[39m train_gp_scalar(train_scg_xy\u001b[38;5;241m.\u001b[39mdouble(), train_scg_z,\n\u001b[1;32m      4\u001b[0m                          epochs\u001b[38;5;241m=\u001b[39mEPOCHS, lr\u001b[38;5;241m=\u001b[39m\u001b[38;5;241m0.1\u001b[39m)\n\u001b[1;32m      6\u001b[0m \u001b[38;5;66;03m# Calling .eval() places the model and likelihood in \"posterior\" mode\u001b[39;00m\n\u001b[1;32m      7\u001b[0m model\u001b[38;5;241m.\u001b[39meval()\n",
      "\u001b[0;31mTypeError\u001b[0m: cannot unpack non-iterable NoneType object"
     ]
    }
   ],
   "source": [
    "EPOCHS = 50\n",
    "# Time GPyTorch training\n",
    "model, likelihood = train_gp_scalar(train_scg_xy.double(), train_scg_z,\n",
    "                         epochs=EPOCHS, lr=0.1)\n",
    "\n",
    "# Calling .eval() places the model and likelihood in \"posterior\" mode\n",
    "model.eval()\n",
    "likelihood.eval()\n",
    "\n",
    "# Define mll\n",
    "mll = gpytorch.mlls.ExactMarginalLogLikelihood(likelihood, model)"
   ]
  },
  {
   "cell_type": "markdown",
   "id": "8d96ce60-d1c0-4a1c-8672-4e4b59d8170f",
   "metadata": {
    "user_expressions": []
   },
   "source": [
    "Not sure where the below issue is coming from... "
   ]
  },
  {
   "cell_type": "code",
   "execution_count": 55,
   "id": "8a09bcab-a6db-46ae-ad0a-8c0302df9a57",
   "metadata": {
    "tags": []
   },
   "outputs": [
    {
     "ename": "RuntimeError",
     "evalue": "expected m1 and m2 to have the same dtype, but got: double != float",
     "output_type": "error",
     "traceback": [
      "\u001b[0;31m---------------------------------------------------------------------------\u001b[0m",
      "\u001b[0;31mRuntimeError\u001b[0m                              Traceback (most recent call last)",
      "Cell \u001b[0;32mIn [55], line 3\u001b[0m\n\u001b[1;32m      1\u001b[0m \u001b[38;5;28;01mwith\u001b[39;00m torch\u001b[38;5;241m.\u001b[39mno_grad(), gpytorch\u001b[38;5;241m.\u001b[39msettings\u001b[38;5;241m.\u001b[39mfast_pred_var():\n\u001b[1;32m      2\u001b[0m     \u001b[38;5;66;03m# Obtain the predictive mean and covariance matrix\u001b[39;00m\n\u001b[0;32m----> 3\u001b[0m     f_preds \u001b[38;5;241m=\u001b[39m \u001b[43mmodel\u001b[49m\u001b[43m(\u001b[49m\u001b[43mtest_scg_xy\u001b[49m\u001b[43m)\u001b[49m\n\u001b[1;32m      4\u001b[0m     f_mean \u001b[38;5;241m=\u001b[39m f_preds\u001b[38;5;241m.\u001b[39mmean\n\u001b[1;32m      5\u001b[0m     f_cov \u001b[38;5;241m=\u001b[39m f_preds\u001b[38;5;241m.\u001b[39mcovariance_matrix\n",
      "File \u001b[0;32m/srv/conda/envs/notebook/lib/python3.10/site-packages/gpytorch/models/exact_gp.py:333\u001b[0m, in \u001b[0;36mExactGP.__call__\u001b[0;34m(self, *args, **kwargs)\u001b[0m\n\u001b[1;32m    328\u001b[0m \u001b[38;5;66;03m# Make the prediction\u001b[39;00m\n\u001b[1;32m    329\u001b[0m \u001b[38;5;28;01mwith\u001b[39;00m settings\u001b[38;5;241m.\u001b[39mcg_tolerance(settings\u001b[38;5;241m.\u001b[39meval_cg_tolerance\u001b[38;5;241m.\u001b[39mvalue()):\n\u001b[1;32m    330\u001b[0m     (\n\u001b[1;32m    331\u001b[0m         predictive_mean,\n\u001b[1;32m    332\u001b[0m         predictive_covar,\n\u001b[0;32m--> 333\u001b[0m     ) \u001b[38;5;241m=\u001b[39m \u001b[38;5;28;43mself\u001b[39;49m\u001b[38;5;241;43m.\u001b[39;49m\u001b[43mprediction_strategy\u001b[49m\u001b[38;5;241;43m.\u001b[39;49m\u001b[43mexact_prediction\u001b[49m\u001b[43m(\u001b[49m\u001b[43mfull_mean\u001b[49m\u001b[43m,\u001b[49m\u001b[43m \u001b[49m\u001b[43mfull_covar\u001b[49m\u001b[43m)\u001b[49m\n\u001b[1;32m    335\u001b[0m \u001b[38;5;66;03m# Reshape predictive mean to match the appropriate event shape\u001b[39;00m\n\u001b[1;32m    336\u001b[0m predictive_mean \u001b[38;5;241m=\u001b[39m predictive_mean\u001b[38;5;241m.\u001b[39mview(\u001b[38;5;241m*\u001b[39mbatch_shape, \u001b[38;5;241m*\u001b[39mtest_shape)\u001b[38;5;241m.\u001b[39mcontiguous()\n",
      "File \u001b[0;32m/srv/conda/envs/notebook/lib/python3.10/site-packages/gpytorch/models/exact_prediction_strategies.py:289\u001b[0m, in \u001b[0;36mDefaultPredictionStrategy.exact_prediction\u001b[0;34m(self, joint_mean, joint_covar)\u001b[0m\n\u001b[1;32m    285\u001b[0m     test_test_covar \u001b[38;5;241m=\u001b[39m joint_covar[\u001b[38;5;241m.\u001b[39m\u001b[38;5;241m.\u001b[39m\u001b[38;5;241m.\u001b[39m, \u001b[38;5;28mself\u001b[39m\u001b[38;5;241m.\u001b[39mnum_train :, \u001b[38;5;28mself\u001b[39m\u001b[38;5;241m.\u001b[39mnum_train :]\n\u001b[1;32m    286\u001b[0m     test_train_covar \u001b[38;5;241m=\u001b[39m joint_covar[\u001b[38;5;241m.\u001b[39m\u001b[38;5;241m.\u001b[39m\u001b[38;5;241m.\u001b[39m, \u001b[38;5;28mself\u001b[39m\u001b[38;5;241m.\u001b[39mnum_train :, : \u001b[38;5;28mself\u001b[39m\u001b[38;5;241m.\u001b[39mnum_train]\n\u001b[1;32m    288\u001b[0m \u001b[38;5;28;01mreturn\u001b[39;00m (\n\u001b[0;32m--> 289\u001b[0m     \u001b[38;5;28;43mself\u001b[39;49m\u001b[38;5;241;43m.\u001b[39;49m\u001b[43mexact_predictive_mean\u001b[49m\u001b[43m(\u001b[49m\u001b[43mtest_mean\u001b[49m\u001b[43m,\u001b[49m\u001b[43m \u001b[49m\u001b[43mtest_train_covar\u001b[49m\u001b[43m)\u001b[49m,\n\u001b[1;32m    290\u001b[0m     \u001b[38;5;28mself\u001b[39m\u001b[38;5;241m.\u001b[39mexact_predictive_covar(test_test_covar, test_train_covar),\n\u001b[1;32m    291\u001b[0m )\n",
      "File \u001b[0;32m/srv/conda/envs/notebook/lib/python3.10/site-packages/gpytorch/models/exact_prediction_strategies.py:306\u001b[0m, in \u001b[0;36mDefaultPredictionStrategy.exact_predictive_mean\u001b[0;34m(self, test_mean, test_train_covar)\u001b[0m\n\u001b[1;32m    294\u001b[0m \u001b[38;5;250m\u001b[39m\u001b[38;5;124;03m\"\"\"\u001b[39;00m\n\u001b[1;32m    295\u001b[0m \u001b[38;5;124;03mComputes the posterior predictive covariance of a GP\u001b[39;00m\n\u001b[1;32m    296\u001b[0m \n\u001b[0;32m   (...)\u001b[0m\n\u001b[1;32m    300\u001b[0m \u001b[38;5;124;03m:return: The predictive posterior mean of the test points\u001b[39;00m\n\u001b[1;32m    301\u001b[0m \u001b[38;5;124;03m\"\"\"\u001b[39;00m\n\u001b[1;32m    302\u001b[0m \u001b[38;5;66;03m# NOTE TO FUTURE SELF:\u001b[39;00m\n\u001b[1;32m    303\u001b[0m \u001b[38;5;66;03m# You **cannot* use addmv here, because test_train_covar may not actually be a non lazy tensor even for an exact\u001b[39;00m\n\u001b[1;32m    304\u001b[0m \u001b[38;5;66;03m# GP, and using addmv requires you to to_dense test_train_covar, which is obviously a huge no-no!\u001b[39;00m\n\u001b[0;32m--> 306\u001b[0m \u001b[38;5;28;01mif\u001b[39;00m \u001b[38;5;28mlen\u001b[39m(\u001b[38;5;28;43mself\u001b[39;49m\u001b[38;5;241;43m.\u001b[39;49m\u001b[43mmean_cache\u001b[49m\u001b[38;5;241m.\u001b[39mshape) \u001b[38;5;241m==\u001b[39m \u001b[38;5;241m4\u001b[39m:\n\u001b[1;32m    307\u001b[0m     res \u001b[38;5;241m=\u001b[39m (test_train_covar \u001b[38;5;241m@\u001b[39m \u001b[38;5;28mself\u001b[39m\u001b[38;5;241m.\u001b[39mmean_cache\u001b[38;5;241m.\u001b[39msqueeze(\u001b[38;5;241m1\u001b[39m)\u001b[38;5;241m.\u001b[39munsqueeze(\u001b[38;5;241m-\u001b[39m\u001b[38;5;241m1\u001b[39m))\u001b[38;5;241m.\u001b[39msqueeze(\u001b[38;5;241m-\u001b[39m\u001b[38;5;241m1\u001b[39m)\n\u001b[1;32m    308\u001b[0m \u001b[38;5;28;01melse\u001b[39;00m:\n",
      "File \u001b[0;32m/srv/conda/envs/notebook/lib/python3.10/site-packages/gpytorch/utils/memoize.py:59\u001b[0m, in \u001b[0;36m_cached.<locals>.g\u001b[0;34m(self, *args, **kwargs)\u001b[0m\n\u001b[1;32m     57\u001b[0m kwargs_pkl \u001b[38;5;241m=\u001b[39m pickle\u001b[38;5;241m.\u001b[39mdumps(kwargs)\n\u001b[1;32m     58\u001b[0m \u001b[38;5;28;01mif\u001b[39;00m \u001b[38;5;129;01mnot\u001b[39;00m _is_in_cache(\u001b[38;5;28mself\u001b[39m, cache_name, \u001b[38;5;241m*\u001b[39margs, kwargs_pkl\u001b[38;5;241m=\u001b[39mkwargs_pkl):\n\u001b[0;32m---> 59\u001b[0m     \u001b[38;5;28;01mreturn\u001b[39;00m _add_to_cache(\u001b[38;5;28mself\u001b[39m, cache_name, \u001b[43mmethod\u001b[49m\u001b[43m(\u001b[49m\u001b[38;5;28;43mself\u001b[39;49m\u001b[43m,\u001b[49m\u001b[43m \u001b[49m\u001b[38;5;241;43m*\u001b[39;49m\u001b[43margs\u001b[49m\u001b[43m,\u001b[49m\u001b[43m \u001b[49m\u001b[38;5;241;43m*\u001b[39;49m\u001b[38;5;241;43m*\u001b[39;49m\u001b[43mkwargs\u001b[49m\u001b[43m)\u001b[49m, \u001b[38;5;241m*\u001b[39margs, kwargs_pkl\u001b[38;5;241m=\u001b[39mkwargs_pkl)\n\u001b[1;32m     60\u001b[0m \u001b[38;5;28;01mreturn\u001b[39;00m _get_from_cache(\u001b[38;5;28mself\u001b[39m, cache_name, \u001b[38;5;241m*\u001b[39margs, kwargs_pkl\u001b[38;5;241m=\u001b[39mkwargs_pkl)\n",
      "File \u001b[0;32m/srv/conda/envs/notebook/lib/python3.10/site-packages/gpytorch/models/exact_prediction_strategies.py:256\u001b[0m, in \u001b[0;36mDefaultPredictionStrategy.mean_cache\u001b[0;34m(self)\u001b[0m\n\u001b[1;32m    253\u001b[0m train_mean, train_train_covar \u001b[38;5;241m=\u001b[39m mvn\u001b[38;5;241m.\u001b[39mloc, mvn\u001b[38;5;241m.\u001b[39mlazy_covariance_matrix\n\u001b[1;32m    255\u001b[0m train_labels_offset \u001b[38;5;241m=\u001b[39m (\u001b[38;5;28mself\u001b[39m\u001b[38;5;241m.\u001b[39mtrain_labels \u001b[38;5;241m-\u001b[39m train_mean)\u001b[38;5;241m.\u001b[39munsqueeze(\u001b[38;5;241m-\u001b[39m\u001b[38;5;241m1\u001b[39m)\n\u001b[0;32m--> 256\u001b[0m mean_cache \u001b[38;5;241m=\u001b[39m \u001b[43mtrain_train_covar\u001b[49m\u001b[38;5;241;43m.\u001b[39;49m\u001b[43mevaluate_kernel\u001b[49m\u001b[43m(\u001b[49m\u001b[43m)\u001b[49m\u001b[38;5;241;43m.\u001b[39;49m\u001b[43msolve\u001b[49m\u001b[43m(\u001b[49m\u001b[43mtrain_labels_offset\u001b[49m\u001b[43m)\u001b[49m\u001b[38;5;241m.\u001b[39msqueeze(\u001b[38;5;241m-\u001b[39m\u001b[38;5;241m1\u001b[39m)\n\u001b[1;32m    258\u001b[0m \u001b[38;5;28;01mif\u001b[39;00m settings\u001b[38;5;241m.\u001b[39mdetach_test_caches\u001b[38;5;241m.\u001b[39mon():\n\u001b[1;32m    259\u001b[0m     mean_cache \u001b[38;5;241m=\u001b[39m mean_cache\u001b[38;5;241m.\u001b[39mdetach()\n",
      "File \u001b[0;32m/srv/conda/envs/notebook/lib/python3.10/site-packages/linear_operator/operators/_linear_operator.py:2334\u001b[0m, in \u001b[0;36mLinearOperator.solve\u001b[0;34m(self, right_tensor, left_tensor)\u001b[0m\n\u001b[1;32m   2332\u001b[0m func \u001b[38;5;241m=\u001b[39m Solve\n\u001b[1;32m   2333\u001b[0m \u001b[38;5;28;01mif\u001b[39;00m left_tensor \u001b[38;5;129;01mis\u001b[39;00m \u001b[38;5;28;01mNone\u001b[39;00m:\n\u001b[0;32m-> 2334\u001b[0m     \u001b[38;5;28;01mreturn\u001b[39;00m \u001b[43mfunc\u001b[49m\u001b[38;5;241;43m.\u001b[39;49m\u001b[43mapply\u001b[49m\u001b[43m(\u001b[49m\u001b[38;5;28;43mself\u001b[39;49m\u001b[38;5;241;43m.\u001b[39;49m\u001b[43mrepresentation_tree\u001b[49m\u001b[43m(\u001b[49m\u001b[43m)\u001b[49m\u001b[43m,\u001b[49m\u001b[43m \u001b[49m\u001b[38;5;28;43;01mFalse\u001b[39;49;00m\u001b[43m,\u001b[49m\u001b[43m \u001b[49m\u001b[43mright_tensor\u001b[49m\u001b[43m,\u001b[49m\u001b[43m \u001b[49m\u001b[38;5;241;43m*\u001b[39;49m\u001b[38;5;28;43mself\u001b[39;49m\u001b[38;5;241;43m.\u001b[39;49m\u001b[43mrepresentation\u001b[49m\u001b[43m(\u001b[49m\u001b[43m)\u001b[49m\u001b[43m)\u001b[49m\n\u001b[1;32m   2335\u001b[0m \u001b[38;5;28;01melse\u001b[39;00m:\n\u001b[1;32m   2336\u001b[0m     \u001b[38;5;28;01mreturn\u001b[39;00m func\u001b[38;5;241m.\u001b[39mapply(\n\u001b[1;32m   2337\u001b[0m         \u001b[38;5;28mself\u001b[39m\u001b[38;5;241m.\u001b[39mrepresentation_tree(),\n\u001b[1;32m   2338\u001b[0m         \u001b[38;5;28;01mTrue\u001b[39;00m,\n\u001b[0;32m   (...)\u001b[0m\n\u001b[1;32m   2341\u001b[0m         \u001b[38;5;241m*\u001b[39m\u001b[38;5;28mself\u001b[39m\u001b[38;5;241m.\u001b[39mrepresentation(),\n\u001b[1;32m   2342\u001b[0m     )\n",
      "File \u001b[0;32m/srv/conda/envs/notebook/lib/python3.10/site-packages/torch/autograd/function.py:539\u001b[0m, in \u001b[0;36mFunction.apply\u001b[0;34m(cls, *args, **kwargs)\u001b[0m\n\u001b[1;32m    536\u001b[0m \u001b[38;5;28;01mif\u001b[39;00m \u001b[38;5;129;01mnot\u001b[39;00m torch\u001b[38;5;241m.\u001b[39m_C\u001b[38;5;241m.\u001b[39m_are_functorch_transforms_active():\n\u001b[1;32m    537\u001b[0m     \u001b[38;5;66;03m# See NOTE: [functorch vjp and autograd interaction]\u001b[39;00m\n\u001b[1;32m    538\u001b[0m     args \u001b[38;5;241m=\u001b[39m _functorch\u001b[38;5;241m.\u001b[39mutils\u001b[38;5;241m.\u001b[39munwrap_dead_wrappers(args)\n\u001b[0;32m--> 539\u001b[0m     \u001b[38;5;28;01mreturn\u001b[39;00m \u001b[38;5;28;43msuper\u001b[39;49m\u001b[43m(\u001b[49m\u001b[43m)\u001b[49m\u001b[38;5;241;43m.\u001b[39;49m\u001b[43mapply\u001b[49m\u001b[43m(\u001b[49m\u001b[38;5;241;43m*\u001b[39;49m\u001b[43margs\u001b[49m\u001b[43m,\u001b[49m\u001b[43m \u001b[49m\u001b[38;5;241;43m*\u001b[39;49m\u001b[38;5;241;43m*\u001b[39;49m\u001b[43mkwargs\u001b[49m\u001b[43m)\u001b[49m  \u001b[38;5;66;03m# type: ignore[misc]\u001b[39;00m\n\u001b[1;32m    541\u001b[0m \u001b[38;5;28;01mif\u001b[39;00m \u001b[38;5;28mcls\u001b[39m\u001b[38;5;241m.\u001b[39msetup_context \u001b[38;5;241m==\u001b[39m _SingleLevelFunction\u001b[38;5;241m.\u001b[39msetup_context:\n\u001b[1;32m    542\u001b[0m     \u001b[38;5;28;01mraise\u001b[39;00m \u001b[38;5;167;01mRuntimeError\u001b[39;00m(\n\u001b[1;32m    543\u001b[0m         \u001b[38;5;124m\"\u001b[39m\u001b[38;5;124mIn order to use an autograd.Function with functorch transforms \u001b[39m\u001b[38;5;124m\"\u001b[39m\n\u001b[1;32m    544\u001b[0m         \u001b[38;5;124m\"\u001b[39m\u001b[38;5;124m(vmap, grad, jvp, jacrev, ...), it must override the setup_context \u001b[39m\u001b[38;5;124m\"\u001b[39m\n\u001b[1;32m    545\u001b[0m         \u001b[38;5;124m\"\u001b[39m\u001b[38;5;124mstaticmethod. For more details, please see \u001b[39m\u001b[38;5;124m\"\u001b[39m\n\u001b[1;32m    546\u001b[0m         \u001b[38;5;124m\"\u001b[39m\u001b[38;5;124mhttps://pytorch.org/docs/master/notes/extending.func.html\u001b[39m\u001b[38;5;124m\"\u001b[39m\n\u001b[1;32m    547\u001b[0m     )\n",
      "File \u001b[0;32m/srv/conda/envs/notebook/lib/python3.10/site-packages/linear_operator/functions/_solve.py:53\u001b[0m, in \u001b[0;36mSolve.forward\u001b[0;34m(ctx, representation_tree, has_left, *args)\u001b[0m\n\u001b[1;32m     51\u001b[0m     res \u001b[38;5;241m=\u001b[39m left_tensor \u001b[38;5;241m@\u001b[39m res\n\u001b[1;32m     52\u001b[0m \u001b[38;5;28;01melse\u001b[39;00m:\n\u001b[0;32m---> 53\u001b[0m     solves \u001b[38;5;241m=\u001b[39m \u001b[43m_solve\u001b[49m\u001b[43m(\u001b[49m\u001b[43mlinear_op\u001b[49m\u001b[43m,\u001b[49m\u001b[43m \u001b[49m\u001b[43mright_tensor\u001b[49m\u001b[43m)\u001b[49m\n\u001b[1;32m     54\u001b[0m     res \u001b[38;5;241m=\u001b[39m solves\n\u001b[1;32m     56\u001b[0m \u001b[38;5;28;01mif\u001b[39;00m ctx\u001b[38;5;241m.\u001b[39mis_vector:\n",
      "File \u001b[0;32m/srv/conda/envs/notebook/lib/python3.10/site-packages/linear_operator/functions/_solve.py:21\u001b[0m, in \u001b[0;36m_solve\u001b[0;34m(linear_op, rhs)\u001b[0m\n\u001b[1;32m     19\u001b[0m \u001b[38;5;28;01mwith\u001b[39;00m torch\u001b[38;5;241m.\u001b[39mno_grad():\n\u001b[1;32m     20\u001b[0m     preconditioner \u001b[38;5;241m=\u001b[39m linear_op\u001b[38;5;241m.\u001b[39mdetach()\u001b[38;5;241m.\u001b[39m_solve_preconditioner()\n\u001b[0;32m---> 21\u001b[0m \u001b[38;5;28;01mreturn\u001b[39;00m \u001b[43mlinear_op\u001b[49m\u001b[38;5;241;43m.\u001b[39;49m\u001b[43m_solve\u001b[49m\u001b[43m(\u001b[49m\u001b[43mrhs\u001b[49m\u001b[43m,\u001b[49m\u001b[43m \u001b[49m\u001b[43mpreconditioner\u001b[49m\u001b[43m)\u001b[49m\n",
      "File \u001b[0;32m/srv/conda/envs/notebook/lib/python3.10/site-packages/linear_operator/operators/_linear_operator.py:789\u001b[0m, in \u001b[0;36mLinearOperator._solve\u001b[0;34m(self, rhs, preconditioner, num_tridiag)\u001b[0m\n\u001b[1;32m    774\u001b[0m \u001b[38;5;28;01mdef\u001b[39;00m \u001b[38;5;21m_solve\u001b[39m(\n\u001b[1;32m    775\u001b[0m     \u001b[38;5;28mself\u001b[39m: Float[LinearOperator, \u001b[38;5;124m\"\u001b[39m\u001b[38;5;124m... N N\u001b[39m\u001b[38;5;124m\"\u001b[39m],\n\u001b[1;32m    776\u001b[0m     rhs: Float[torch\u001b[38;5;241m.\u001b[39mTensor, \u001b[38;5;124m\"\u001b[39m\u001b[38;5;124m... N C\u001b[39m\u001b[38;5;124m\"\u001b[39m],\n\u001b[0;32m   (...)\u001b[0m\n\u001b[1;32m    784\u001b[0m     ],\n\u001b[1;32m    785\u001b[0m ]:\n\u001b[1;32m    786\u001b[0m \u001b[38;5;250m    \u001b[39m\u001b[38;5;124mr\u001b[39m\u001b[38;5;124;03m\"\"\"\u001b[39;00m\n\u001b[1;32m    787\u001b[0m \u001b[38;5;124;03m    TODO\u001b[39;00m\n\u001b[1;32m    788\u001b[0m \u001b[38;5;124;03m    \"\"\"\u001b[39;00m\n\u001b[0;32m--> 789\u001b[0m     \u001b[38;5;28;01mreturn\u001b[39;00m \u001b[43mutils\u001b[49m\u001b[38;5;241;43m.\u001b[39;49m\u001b[43mlinear_cg\u001b[49m\u001b[43m(\u001b[49m\n\u001b[1;32m    790\u001b[0m \u001b[43m        \u001b[49m\u001b[38;5;28;43mself\u001b[39;49m\u001b[38;5;241;43m.\u001b[39;49m\u001b[43m_matmul\u001b[49m\u001b[43m,\u001b[49m\n\u001b[1;32m    791\u001b[0m \u001b[43m        \u001b[49m\u001b[43mrhs\u001b[49m\u001b[43m,\u001b[49m\n\u001b[1;32m    792\u001b[0m \u001b[43m        \u001b[49m\u001b[43mn_tridiag\u001b[49m\u001b[38;5;241;43m=\u001b[39;49m\u001b[43mnum_tridiag\u001b[49m\u001b[43m,\u001b[49m\n\u001b[1;32m    793\u001b[0m \u001b[43m        \u001b[49m\u001b[43mmax_iter\u001b[49m\u001b[38;5;241;43m=\u001b[39;49m\u001b[43msettings\u001b[49m\u001b[38;5;241;43m.\u001b[39;49m\u001b[43mmax_cg_iterations\u001b[49m\u001b[38;5;241;43m.\u001b[39;49m\u001b[43mvalue\u001b[49m\u001b[43m(\u001b[49m\u001b[43m)\u001b[49m\u001b[43m,\u001b[49m\n\u001b[1;32m    794\u001b[0m \u001b[43m        \u001b[49m\u001b[43mmax_tridiag_iter\u001b[49m\u001b[38;5;241;43m=\u001b[39;49m\u001b[43msettings\u001b[49m\u001b[38;5;241;43m.\u001b[39;49m\u001b[43mmax_lanczos_quadrature_iterations\u001b[49m\u001b[38;5;241;43m.\u001b[39;49m\u001b[43mvalue\u001b[49m\u001b[43m(\u001b[49m\u001b[43m)\u001b[49m\u001b[43m,\u001b[49m\n\u001b[1;32m    795\u001b[0m \u001b[43m        \u001b[49m\u001b[43mpreconditioner\u001b[49m\u001b[38;5;241;43m=\u001b[39;49m\u001b[43mpreconditioner\u001b[49m\u001b[43m,\u001b[49m\n\u001b[1;32m    796\u001b[0m \u001b[43m    \u001b[49m\u001b[43m)\u001b[49m\n",
      "File \u001b[0;32m/srv/conda/envs/notebook/lib/python3.10/site-packages/linear_operator/utils/linear_cg.py:186\u001b[0m, in \u001b[0;36mlinear_cg\u001b[0;34m(matmul_closure, rhs, n_tridiag, tolerance, eps, stop_updating_after, max_iter, max_tridiag_iter, initial_guess, preconditioner)\u001b[0m\n\u001b[1;32m    183\u001b[0m initial_guess \u001b[38;5;241m=\u001b[39m initial_guess\u001b[38;5;241m.\u001b[39mdiv(rhs_norm)\n\u001b[1;32m    185\u001b[0m \u001b[38;5;66;03m# residual: residual_{0} = b_vec - lhs x_{0}\u001b[39;00m\n\u001b[0;32m--> 186\u001b[0m residual \u001b[38;5;241m=\u001b[39m rhs \u001b[38;5;241m-\u001b[39m \u001b[43mmatmul_closure\u001b[49m\u001b[43m(\u001b[49m\u001b[43minitial_guess\u001b[49m\u001b[43m)\u001b[49m\n\u001b[1;32m    187\u001b[0m batch_shape \u001b[38;5;241m=\u001b[39m residual\u001b[38;5;241m.\u001b[39mshape[:\u001b[38;5;241m-\u001b[39m\u001b[38;5;241m2\u001b[39m]\n\u001b[1;32m    189\u001b[0m \u001b[38;5;66;03m# result <- x_{0}\u001b[39;00m\n",
      "File \u001b[0;32m/srv/conda/envs/notebook/lib/python3.10/site-packages/linear_operator/operators/added_diag_linear_operator.py:77\u001b[0m, in \u001b[0;36mAddedDiagLinearOperator._matmul\u001b[0;34m(self, rhs)\u001b[0m\n\u001b[1;32m     73\u001b[0m \u001b[38;5;28;01mdef\u001b[39;00m \u001b[38;5;21m_matmul\u001b[39m(\n\u001b[1;32m     74\u001b[0m     \u001b[38;5;28mself\u001b[39m: Float[LinearOperator, \u001b[38;5;124m\"\u001b[39m\u001b[38;5;124m*batch M N\u001b[39m\u001b[38;5;124m\"\u001b[39m],\n\u001b[1;32m     75\u001b[0m     rhs: Union[Float[torch\u001b[38;5;241m.\u001b[39mTensor, \u001b[38;5;124m\"\u001b[39m\u001b[38;5;124m*batch2 N C\u001b[39m\u001b[38;5;124m\"\u001b[39m], Float[torch\u001b[38;5;241m.\u001b[39mTensor, \u001b[38;5;124m\"\u001b[39m\u001b[38;5;124m*batch2 N\u001b[39m\u001b[38;5;124m\"\u001b[39m]],\n\u001b[1;32m     76\u001b[0m ) \u001b[38;5;241m-\u001b[39m\u001b[38;5;241m>\u001b[39m Union[Float[torch\u001b[38;5;241m.\u001b[39mTensor, \u001b[38;5;124m\"\u001b[39m\u001b[38;5;124m... M C\u001b[39m\u001b[38;5;124m\"\u001b[39m], Float[torch\u001b[38;5;241m.\u001b[39mTensor, \u001b[38;5;124m\"\u001b[39m\u001b[38;5;124m... M\u001b[39m\u001b[38;5;124m\"\u001b[39m]]:\n\u001b[0;32m---> 77\u001b[0m     \u001b[38;5;28;01mreturn\u001b[39;00m torch\u001b[38;5;241m.\u001b[39maddcmul(\u001b[38;5;28;43mself\u001b[39;49m\u001b[38;5;241;43m.\u001b[39;49m\u001b[43m_linear_op\u001b[49m\u001b[38;5;241;43m.\u001b[39;49m\u001b[43m_matmul\u001b[49m\u001b[43m(\u001b[49m\u001b[43mrhs\u001b[49m\u001b[43m)\u001b[49m, \u001b[38;5;28mself\u001b[39m\u001b[38;5;241m.\u001b[39m_diag_tensor\u001b[38;5;241m.\u001b[39m_diag\u001b[38;5;241m.\u001b[39munsqueeze(\u001b[38;5;241m-\u001b[39m\u001b[38;5;241m1\u001b[39m), rhs)\n",
      "File \u001b[0;32m/srv/conda/envs/notebook/lib/python3.10/site-packages/linear_operator/operators/dense_linear_operator.py:65\u001b[0m, in \u001b[0;36mDenseLinearOperator._matmul\u001b[0;34m(self, rhs)\u001b[0m\n\u001b[1;32m     61\u001b[0m \u001b[38;5;28;01mdef\u001b[39;00m \u001b[38;5;21m_matmul\u001b[39m(\n\u001b[1;32m     62\u001b[0m     \u001b[38;5;28mself\u001b[39m: Float[LinearOperator, \u001b[38;5;124m\"\u001b[39m\u001b[38;5;124m*batch M N\u001b[39m\u001b[38;5;124m\"\u001b[39m],\n\u001b[1;32m     63\u001b[0m     rhs: Union[Float[torch\u001b[38;5;241m.\u001b[39mTensor, \u001b[38;5;124m\"\u001b[39m\u001b[38;5;124m*batch2 N C\u001b[39m\u001b[38;5;124m\"\u001b[39m], Float[torch\u001b[38;5;241m.\u001b[39mTensor, \u001b[38;5;124m\"\u001b[39m\u001b[38;5;124m*batch2 N\u001b[39m\u001b[38;5;124m\"\u001b[39m]],\n\u001b[1;32m     64\u001b[0m ) \u001b[38;5;241m-\u001b[39m\u001b[38;5;241m>\u001b[39m Union[Float[torch\u001b[38;5;241m.\u001b[39mTensor, \u001b[38;5;124m\"\u001b[39m\u001b[38;5;124m... M C\u001b[39m\u001b[38;5;124m\"\u001b[39m], Float[torch\u001b[38;5;241m.\u001b[39mTensor, \u001b[38;5;124m\"\u001b[39m\u001b[38;5;124m... M\u001b[39m\u001b[38;5;124m\"\u001b[39m]]:\n\u001b[0;32m---> 65\u001b[0m     \u001b[38;5;28;01mreturn\u001b[39;00m \u001b[43mtorch\u001b[49m\u001b[38;5;241;43m.\u001b[39;49m\u001b[43mmatmul\u001b[49m\u001b[43m(\u001b[49m\u001b[38;5;28;43mself\u001b[39;49m\u001b[38;5;241;43m.\u001b[39;49m\u001b[43mtensor\u001b[49m\u001b[43m,\u001b[49m\u001b[43m \u001b[49m\u001b[43mrhs\u001b[49m\u001b[43m)\u001b[49m\n",
      "\u001b[0;31mRuntimeError\u001b[0m: expected m1 and m2 to have the same dtype, but got: double != float"
     ]
    }
   ],
   "source": [
    "with torch.no_grad(), gpytorch.settings.fast_pred_var():\n",
    "    # Obtain the predictive mean and covariance matrix\n",
    "    f_preds = model(test_scg_xy)\n",
    "    f_mean = f_preds.mean\n",
    "    f_cov = f_preds.covariance_matrix"
   ]
  },
  {
   "cell_type": "code",
   "execution_count": 54,
   "id": "6955eb6e-b0a2-4471-b64c-44d151b0d15c",
   "metadata": {
    "tags": []
   },
   "outputs": [
    {
     "ename": "RuntimeError",
     "evalue": "expected m1 and m2 to have the same dtype, but got: double != float",
     "output_type": "error",
     "traceback": [
      "\u001b[0;31m---------------------------------------------------------------------------\u001b[0m",
      "\u001b[0;31mRuntimeError\u001b[0m                              Traceback (most recent call last)",
      "Cell \u001b[0;32mIn [54], line 3\u001b[0m\n\u001b[1;32m      1\u001b[0m \u001b[38;5;28;01mwith\u001b[39;00m gpytorch\u001b[38;5;241m.\u001b[39msettings\u001b[38;5;241m.\u001b[39mfast_pred_var():\n\u001b[1;32m      2\u001b[0m     \u001b[38;5;66;03m#predictions = model(test_scg_xy.double())\u001b[39;00m\n\u001b[0;32m----> 3\u001b[0m     predictions \u001b[38;5;241m=\u001b[39m \u001b[43mmodel\u001b[49m\u001b[43m(\u001b[49m\u001b[43mtest_scg_xy\u001b[49m\u001b[43m)\u001b[49m\n",
      "File \u001b[0;32m/srv/conda/envs/notebook/lib/python3.10/site-packages/gpytorch/models/exact_gp.py:333\u001b[0m, in \u001b[0;36mExactGP.__call__\u001b[0;34m(self, *args, **kwargs)\u001b[0m\n\u001b[1;32m    328\u001b[0m \u001b[38;5;66;03m# Make the prediction\u001b[39;00m\n\u001b[1;32m    329\u001b[0m \u001b[38;5;28;01mwith\u001b[39;00m settings\u001b[38;5;241m.\u001b[39mcg_tolerance(settings\u001b[38;5;241m.\u001b[39meval_cg_tolerance\u001b[38;5;241m.\u001b[39mvalue()):\n\u001b[1;32m    330\u001b[0m     (\n\u001b[1;32m    331\u001b[0m         predictive_mean,\n\u001b[1;32m    332\u001b[0m         predictive_covar,\n\u001b[0;32m--> 333\u001b[0m     ) \u001b[38;5;241m=\u001b[39m \u001b[38;5;28;43mself\u001b[39;49m\u001b[38;5;241;43m.\u001b[39;49m\u001b[43mprediction_strategy\u001b[49m\u001b[38;5;241;43m.\u001b[39;49m\u001b[43mexact_prediction\u001b[49m\u001b[43m(\u001b[49m\u001b[43mfull_mean\u001b[49m\u001b[43m,\u001b[49m\u001b[43m \u001b[49m\u001b[43mfull_covar\u001b[49m\u001b[43m)\u001b[49m\n\u001b[1;32m    335\u001b[0m \u001b[38;5;66;03m# Reshape predictive mean to match the appropriate event shape\u001b[39;00m\n\u001b[1;32m    336\u001b[0m predictive_mean \u001b[38;5;241m=\u001b[39m predictive_mean\u001b[38;5;241m.\u001b[39mview(\u001b[38;5;241m*\u001b[39mbatch_shape, \u001b[38;5;241m*\u001b[39mtest_shape)\u001b[38;5;241m.\u001b[39mcontiguous()\n",
      "File \u001b[0;32m/srv/conda/envs/notebook/lib/python3.10/site-packages/gpytorch/models/exact_prediction_strategies.py:289\u001b[0m, in \u001b[0;36mDefaultPredictionStrategy.exact_prediction\u001b[0;34m(self, joint_mean, joint_covar)\u001b[0m\n\u001b[1;32m    285\u001b[0m     test_test_covar \u001b[38;5;241m=\u001b[39m joint_covar[\u001b[38;5;241m.\u001b[39m\u001b[38;5;241m.\u001b[39m\u001b[38;5;241m.\u001b[39m, \u001b[38;5;28mself\u001b[39m\u001b[38;5;241m.\u001b[39mnum_train :, \u001b[38;5;28mself\u001b[39m\u001b[38;5;241m.\u001b[39mnum_train :]\n\u001b[1;32m    286\u001b[0m     test_train_covar \u001b[38;5;241m=\u001b[39m joint_covar[\u001b[38;5;241m.\u001b[39m\u001b[38;5;241m.\u001b[39m\u001b[38;5;241m.\u001b[39m, \u001b[38;5;28mself\u001b[39m\u001b[38;5;241m.\u001b[39mnum_train :, : \u001b[38;5;28mself\u001b[39m\u001b[38;5;241m.\u001b[39mnum_train]\n\u001b[1;32m    288\u001b[0m \u001b[38;5;28;01mreturn\u001b[39;00m (\n\u001b[0;32m--> 289\u001b[0m     \u001b[38;5;28;43mself\u001b[39;49m\u001b[38;5;241;43m.\u001b[39;49m\u001b[43mexact_predictive_mean\u001b[49m\u001b[43m(\u001b[49m\u001b[43mtest_mean\u001b[49m\u001b[43m,\u001b[49m\u001b[43m \u001b[49m\u001b[43mtest_train_covar\u001b[49m\u001b[43m)\u001b[49m,\n\u001b[1;32m    290\u001b[0m     \u001b[38;5;28mself\u001b[39m\u001b[38;5;241m.\u001b[39mexact_predictive_covar(test_test_covar, test_train_covar),\n\u001b[1;32m    291\u001b[0m )\n",
      "File \u001b[0;32m/srv/conda/envs/notebook/lib/python3.10/site-packages/gpytorch/models/exact_prediction_strategies.py:306\u001b[0m, in \u001b[0;36mDefaultPredictionStrategy.exact_predictive_mean\u001b[0;34m(self, test_mean, test_train_covar)\u001b[0m\n\u001b[1;32m    294\u001b[0m \u001b[38;5;250m\u001b[39m\u001b[38;5;124;03m\"\"\"\u001b[39;00m\n\u001b[1;32m    295\u001b[0m \u001b[38;5;124;03mComputes the posterior predictive covariance of a GP\u001b[39;00m\n\u001b[1;32m    296\u001b[0m \n\u001b[0;32m   (...)\u001b[0m\n\u001b[1;32m    300\u001b[0m \u001b[38;5;124;03m:return: The predictive posterior mean of the test points\u001b[39;00m\n\u001b[1;32m    301\u001b[0m \u001b[38;5;124;03m\"\"\"\u001b[39;00m\n\u001b[1;32m    302\u001b[0m \u001b[38;5;66;03m# NOTE TO FUTURE SELF:\u001b[39;00m\n\u001b[1;32m    303\u001b[0m \u001b[38;5;66;03m# You **cannot* use addmv here, because test_train_covar may not actually be a non lazy tensor even for an exact\u001b[39;00m\n\u001b[1;32m    304\u001b[0m \u001b[38;5;66;03m# GP, and using addmv requires you to to_dense test_train_covar, which is obviously a huge no-no!\u001b[39;00m\n\u001b[0;32m--> 306\u001b[0m \u001b[38;5;28;01mif\u001b[39;00m \u001b[38;5;28mlen\u001b[39m(\u001b[38;5;28;43mself\u001b[39;49m\u001b[38;5;241;43m.\u001b[39;49m\u001b[43mmean_cache\u001b[49m\u001b[38;5;241m.\u001b[39mshape) \u001b[38;5;241m==\u001b[39m \u001b[38;5;241m4\u001b[39m:\n\u001b[1;32m    307\u001b[0m     res \u001b[38;5;241m=\u001b[39m (test_train_covar \u001b[38;5;241m@\u001b[39m \u001b[38;5;28mself\u001b[39m\u001b[38;5;241m.\u001b[39mmean_cache\u001b[38;5;241m.\u001b[39msqueeze(\u001b[38;5;241m1\u001b[39m)\u001b[38;5;241m.\u001b[39munsqueeze(\u001b[38;5;241m-\u001b[39m\u001b[38;5;241m1\u001b[39m))\u001b[38;5;241m.\u001b[39msqueeze(\u001b[38;5;241m-\u001b[39m\u001b[38;5;241m1\u001b[39m)\n\u001b[1;32m    308\u001b[0m \u001b[38;5;28;01melse\u001b[39;00m:\n",
      "File \u001b[0;32m/srv/conda/envs/notebook/lib/python3.10/site-packages/gpytorch/utils/memoize.py:59\u001b[0m, in \u001b[0;36m_cached.<locals>.g\u001b[0;34m(self, *args, **kwargs)\u001b[0m\n\u001b[1;32m     57\u001b[0m kwargs_pkl \u001b[38;5;241m=\u001b[39m pickle\u001b[38;5;241m.\u001b[39mdumps(kwargs)\n\u001b[1;32m     58\u001b[0m \u001b[38;5;28;01mif\u001b[39;00m \u001b[38;5;129;01mnot\u001b[39;00m _is_in_cache(\u001b[38;5;28mself\u001b[39m, cache_name, \u001b[38;5;241m*\u001b[39margs, kwargs_pkl\u001b[38;5;241m=\u001b[39mkwargs_pkl):\n\u001b[0;32m---> 59\u001b[0m     \u001b[38;5;28;01mreturn\u001b[39;00m _add_to_cache(\u001b[38;5;28mself\u001b[39m, cache_name, \u001b[43mmethod\u001b[49m\u001b[43m(\u001b[49m\u001b[38;5;28;43mself\u001b[39;49m\u001b[43m,\u001b[49m\u001b[43m \u001b[49m\u001b[38;5;241;43m*\u001b[39;49m\u001b[43margs\u001b[49m\u001b[43m,\u001b[49m\u001b[43m \u001b[49m\u001b[38;5;241;43m*\u001b[39;49m\u001b[38;5;241;43m*\u001b[39;49m\u001b[43mkwargs\u001b[49m\u001b[43m)\u001b[49m, \u001b[38;5;241m*\u001b[39margs, kwargs_pkl\u001b[38;5;241m=\u001b[39mkwargs_pkl)\n\u001b[1;32m     60\u001b[0m \u001b[38;5;28;01mreturn\u001b[39;00m _get_from_cache(\u001b[38;5;28mself\u001b[39m, cache_name, \u001b[38;5;241m*\u001b[39margs, kwargs_pkl\u001b[38;5;241m=\u001b[39mkwargs_pkl)\n",
      "File \u001b[0;32m/srv/conda/envs/notebook/lib/python3.10/site-packages/gpytorch/models/exact_prediction_strategies.py:256\u001b[0m, in \u001b[0;36mDefaultPredictionStrategy.mean_cache\u001b[0;34m(self)\u001b[0m\n\u001b[1;32m    253\u001b[0m train_mean, train_train_covar \u001b[38;5;241m=\u001b[39m mvn\u001b[38;5;241m.\u001b[39mloc, mvn\u001b[38;5;241m.\u001b[39mlazy_covariance_matrix\n\u001b[1;32m    255\u001b[0m train_labels_offset \u001b[38;5;241m=\u001b[39m (\u001b[38;5;28mself\u001b[39m\u001b[38;5;241m.\u001b[39mtrain_labels \u001b[38;5;241m-\u001b[39m train_mean)\u001b[38;5;241m.\u001b[39munsqueeze(\u001b[38;5;241m-\u001b[39m\u001b[38;5;241m1\u001b[39m)\n\u001b[0;32m--> 256\u001b[0m mean_cache \u001b[38;5;241m=\u001b[39m \u001b[43mtrain_train_covar\u001b[49m\u001b[38;5;241;43m.\u001b[39;49m\u001b[43mevaluate_kernel\u001b[49m\u001b[43m(\u001b[49m\u001b[43m)\u001b[49m\u001b[38;5;241;43m.\u001b[39;49m\u001b[43msolve\u001b[49m\u001b[43m(\u001b[49m\u001b[43mtrain_labels_offset\u001b[49m\u001b[43m)\u001b[49m\u001b[38;5;241m.\u001b[39msqueeze(\u001b[38;5;241m-\u001b[39m\u001b[38;5;241m1\u001b[39m)\n\u001b[1;32m    258\u001b[0m \u001b[38;5;28;01mif\u001b[39;00m settings\u001b[38;5;241m.\u001b[39mdetach_test_caches\u001b[38;5;241m.\u001b[39mon():\n\u001b[1;32m    259\u001b[0m     mean_cache \u001b[38;5;241m=\u001b[39m mean_cache\u001b[38;5;241m.\u001b[39mdetach()\n",
      "File \u001b[0;32m/srv/conda/envs/notebook/lib/python3.10/site-packages/linear_operator/operators/_linear_operator.py:2334\u001b[0m, in \u001b[0;36mLinearOperator.solve\u001b[0;34m(self, right_tensor, left_tensor)\u001b[0m\n\u001b[1;32m   2332\u001b[0m func \u001b[38;5;241m=\u001b[39m Solve\n\u001b[1;32m   2333\u001b[0m \u001b[38;5;28;01mif\u001b[39;00m left_tensor \u001b[38;5;129;01mis\u001b[39;00m \u001b[38;5;28;01mNone\u001b[39;00m:\n\u001b[0;32m-> 2334\u001b[0m     \u001b[38;5;28;01mreturn\u001b[39;00m \u001b[43mfunc\u001b[49m\u001b[38;5;241;43m.\u001b[39;49m\u001b[43mapply\u001b[49m\u001b[43m(\u001b[49m\u001b[38;5;28;43mself\u001b[39;49m\u001b[38;5;241;43m.\u001b[39;49m\u001b[43mrepresentation_tree\u001b[49m\u001b[43m(\u001b[49m\u001b[43m)\u001b[49m\u001b[43m,\u001b[49m\u001b[43m \u001b[49m\u001b[38;5;28;43;01mFalse\u001b[39;49;00m\u001b[43m,\u001b[49m\u001b[43m \u001b[49m\u001b[43mright_tensor\u001b[49m\u001b[43m,\u001b[49m\u001b[43m \u001b[49m\u001b[38;5;241;43m*\u001b[39;49m\u001b[38;5;28;43mself\u001b[39;49m\u001b[38;5;241;43m.\u001b[39;49m\u001b[43mrepresentation\u001b[49m\u001b[43m(\u001b[49m\u001b[43m)\u001b[49m\u001b[43m)\u001b[49m\n\u001b[1;32m   2335\u001b[0m \u001b[38;5;28;01melse\u001b[39;00m:\n\u001b[1;32m   2336\u001b[0m     \u001b[38;5;28;01mreturn\u001b[39;00m func\u001b[38;5;241m.\u001b[39mapply(\n\u001b[1;32m   2337\u001b[0m         \u001b[38;5;28mself\u001b[39m\u001b[38;5;241m.\u001b[39mrepresentation_tree(),\n\u001b[1;32m   2338\u001b[0m         \u001b[38;5;28;01mTrue\u001b[39;00m,\n\u001b[0;32m   (...)\u001b[0m\n\u001b[1;32m   2341\u001b[0m         \u001b[38;5;241m*\u001b[39m\u001b[38;5;28mself\u001b[39m\u001b[38;5;241m.\u001b[39mrepresentation(),\n\u001b[1;32m   2342\u001b[0m     )\n",
      "File \u001b[0;32m/srv/conda/envs/notebook/lib/python3.10/site-packages/torch/autograd/function.py:539\u001b[0m, in \u001b[0;36mFunction.apply\u001b[0;34m(cls, *args, **kwargs)\u001b[0m\n\u001b[1;32m    536\u001b[0m \u001b[38;5;28;01mif\u001b[39;00m \u001b[38;5;129;01mnot\u001b[39;00m torch\u001b[38;5;241m.\u001b[39m_C\u001b[38;5;241m.\u001b[39m_are_functorch_transforms_active():\n\u001b[1;32m    537\u001b[0m     \u001b[38;5;66;03m# See NOTE: [functorch vjp and autograd interaction]\u001b[39;00m\n\u001b[1;32m    538\u001b[0m     args \u001b[38;5;241m=\u001b[39m _functorch\u001b[38;5;241m.\u001b[39mutils\u001b[38;5;241m.\u001b[39munwrap_dead_wrappers(args)\n\u001b[0;32m--> 539\u001b[0m     \u001b[38;5;28;01mreturn\u001b[39;00m \u001b[38;5;28;43msuper\u001b[39;49m\u001b[43m(\u001b[49m\u001b[43m)\u001b[49m\u001b[38;5;241;43m.\u001b[39;49m\u001b[43mapply\u001b[49m\u001b[43m(\u001b[49m\u001b[38;5;241;43m*\u001b[39;49m\u001b[43margs\u001b[49m\u001b[43m,\u001b[49m\u001b[43m \u001b[49m\u001b[38;5;241;43m*\u001b[39;49m\u001b[38;5;241;43m*\u001b[39;49m\u001b[43mkwargs\u001b[49m\u001b[43m)\u001b[49m  \u001b[38;5;66;03m# type: ignore[misc]\u001b[39;00m\n\u001b[1;32m    541\u001b[0m \u001b[38;5;28;01mif\u001b[39;00m \u001b[38;5;28mcls\u001b[39m\u001b[38;5;241m.\u001b[39msetup_context \u001b[38;5;241m==\u001b[39m _SingleLevelFunction\u001b[38;5;241m.\u001b[39msetup_context:\n\u001b[1;32m    542\u001b[0m     \u001b[38;5;28;01mraise\u001b[39;00m \u001b[38;5;167;01mRuntimeError\u001b[39;00m(\n\u001b[1;32m    543\u001b[0m         \u001b[38;5;124m\"\u001b[39m\u001b[38;5;124mIn order to use an autograd.Function with functorch transforms \u001b[39m\u001b[38;5;124m\"\u001b[39m\n\u001b[1;32m    544\u001b[0m         \u001b[38;5;124m\"\u001b[39m\u001b[38;5;124m(vmap, grad, jvp, jacrev, ...), it must override the setup_context \u001b[39m\u001b[38;5;124m\"\u001b[39m\n\u001b[1;32m    545\u001b[0m         \u001b[38;5;124m\"\u001b[39m\u001b[38;5;124mstaticmethod. For more details, please see \u001b[39m\u001b[38;5;124m\"\u001b[39m\n\u001b[1;32m    546\u001b[0m         \u001b[38;5;124m\"\u001b[39m\u001b[38;5;124mhttps://pytorch.org/docs/master/notes/extending.func.html\u001b[39m\u001b[38;5;124m\"\u001b[39m\n\u001b[1;32m    547\u001b[0m     )\n",
      "File \u001b[0;32m/srv/conda/envs/notebook/lib/python3.10/site-packages/linear_operator/functions/_solve.py:53\u001b[0m, in \u001b[0;36mSolve.forward\u001b[0;34m(ctx, representation_tree, has_left, *args)\u001b[0m\n\u001b[1;32m     51\u001b[0m     res \u001b[38;5;241m=\u001b[39m left_tensor \u001b[38;5;241m@\u001b[39m res\n\u001b[1;32m     52\u001b[0m \u001b[38;5;28;01melse\u001b[39;00m:\n\u001b[0;32m---> 53\u001b[0m     solves \u001b[38;5;241m=\u001b[39m \u001b[43m_solve\u001b[49m\u001b[43m(\u001b[49m\u001b[43mlinear_op\u001b[49m\u001b[43m,\u001b[49m\u001b[43m \u001b[49m\u001b[43mright_tensor\u001b[49m\u001b[43m)\u001b[49m\n\u001b[1;32m     54\u001b[0m     res \u001b[38;5;241m=\u001b[39m solves\n\u001b[1;32m     56\u001b[0m \u001b[38;5;28;01mif\u001b[39;00m ctx\u001b[38;5;241m.\u001b[39mis_vector:\n",
      "File \u001b[0;32m/srv/conda/envs/notebook/lib/python3.10/site-packages/linear_operator/functions/_solve.py:21\u001b[0m, in \u001b[0;36m_solve\u001b[0;34m(linear_op, rhs)\u001b[0m\n\u001b[1;32m     19\u001b[0m \u001b[38;5;28;01mwith\u001b[39;00m torch\u001b[38;5;241m.\u001b[39mno_grad():\n\u001b[1;32m     20\u001b[0m     preconditioner \u001b[38;5;241m=\u001b[39m linear_op\u001b[38;5;241m.\u001b[39mdetach()\u001b[38;5;241m.\u001b[39m_solve_preconditioner()\n\u001b[0;32m---> 21\u001b[0m \u001b[38;5;28;01mreturn\u001b[39;00m \u001b[43mlinear_op\u001b[49m\u001b[38;5;241;43m.\u001b[39;49m\u001b[43m_solve\u001b[49m\u001b[43m(\u001b[49m\u001b[43mrhs\u001b[49m\u001b[43m,\u001b[49m\u001b[43m \u001b[49m\u001b[43mpreconditioner\u001b[49m\u001b[43m)\u001b[49m\n",
      "File \u001b[0;32m/srv/conda/envs/notebook/lib/python3.10/site-packages/linear_operator/operators/_linear_operator.py:789\u001b[0m, in \u001b[0;36mLinearOperator._solve\u001b[0;34m(self, rhs, preconditioner, num_tridiag)\u001b[0m\n\u001b[1;32m    774\u001b[0m \u001b[38;5;28;01mdef\u001b[39;00m \u001b[38;5;21m_solve\u001b[39m(\n\u001b[1;32m    775\u001b[0m     \u001b[38;5;28mself\u001b[39m: Float[LinearOperator, \u001b[38;5;124m\"\u001b[39m\u001b[38;5;124m... N N\u001b[39m\u001b[38;5;124m\"\u001b[39m],\n\u001b[1;32m    776\u001b[0m     rhs: Float[torch\u001b[38;5;241m.\u001b[39mTensor, \u001b[38;5;124m\"\u001b[39m\u001b[38;5;124m... N C\u001b[39m\u001b[38;5;124m\"\u001b[39m],\n\u001b[0;32m   (...)\u001b[0m\n\u001b[1;32m    784\u001b[0m     ],\n\u001b[1;32m    785\u001b[0m ]:\n\u001b[1;32m    786\u001b[0m \u001b[38;5;250m    \u001b[39m\u001b[38;5;124mr\u001b[39m\u001b[38;5;124;03m\"\"\"\u001b[39;00m\n\u001b[1;32m    787\u001b[0m \u001b[38;5;124;03m    TODO\u001b[39;00m\n\u001b[1;32m    788\u001b[0m \u001b[38;5;124;03m    \"\"\"\u001b[39;00m\n\u001b[0;32m--> 789\u001b[0m     \u001b[38;5;28;01mreturn\u001b[39;00m \u001b[43mutils\u001b[49m\u001b[38;5;241;43m.\u001b[39;49m\u001b[43mlinear_cg\u001b[49m\u001b[43m(\u001b[49m\n\u001b[1;32m    790\u001b[0m \u001b[43m        \u001b[49m\u001b[38;5;28;43mself\u001b[39;49m\u001b[38;5;241;43m.\u001b[39;49m\u001b[43m_matmul\u001b[49m\u001b[43m,\u001b[49m\n\u001b[1;32m    791\u001b[0m \u001b[43m        \u001b[49m\u001b[43mrhs\u001b[49m\u001b[43m,\u001b[49m\n\u001b[1;32m    792\u001b[0m \u001b[43m        \u001b[49m\u001b[43mn_tridiag\u001b[49m\u001b[38;5;241;43m=\u001b[39;49m\u001b[43mnum_tridiag\u001b[49m\u001b[43m,\u001b[49m\n\u001b[1;32m    793\u001b[0m \u001b[43m        \u001b[49m\u001b[43mmax_iter\u001b[49m\u001b[38;5;241;43m=\u001b[39;49m\u001b[43msettings\u001b[49m\u001b[38;5;241;43m.\u001b[39;49m\u001b[43mmax_cg_iterations\u001b[49m\u001b[38;5;241;43m.\u001b[39;49m\u001b[43mvalue\u001b[49m\u001b[43m(\u001b[49m\u001b[43m)\u001b[49m\u001b[43m,\u001b[49m\n\u001b[1;32m    794\u001b[0m \u001b[43m        \u001b[49m\u001b[43mmax_tridiag_iter\u001b[49m\u001b[38;5;241;43m=\u001b[39;49m\u001b[43msettings\u001b[49m\u001b[38;5;241;43m.\u001b[39;49m\u001b[43mmax_lanczos_quadrature_iterations\u001b[49m\u001b[38;5;241;43m.\u001b[39;49m\u001b[43mvalue\u001b[49m\u001b[43m(\u001b[49m\u001b[43m)\u001b[49m\u001b[43m,\u001b[49m\n\u001b[1;32m    795\u001b[0m \u001b[43m        \u001b[49m\u001b[43mpreconditioner\u001b[49m\u001b[38;5;241;43m=\u001b[39;49m\u001b[43mpreconditioner\u001b[49m\u001b[43m,\u001b[49m\n\u001b[1;32m    796\u001b[0m \u001b[43m    \u001b[49m\u001b[43m)\u001b[49m\n",
      "File \u001b[0;32m/srv/conda/envs/notebook/lib/python3.10/site-packages/linear_operator/utils/linear_cg.py:186\u001b[0m, in \u001b[0;36mlinear_cg\u001b[0;34m(matmul_closure, rhs, n_tridiag, tolerance, eps, stop_updating_after, max_iter, max_tridiag_iter, initial_guess, preconditioner)\u001b[0m\n\u001b[1;32m    183\u001b[0m initial_guess \u001b[38;5;241m=\u001b[39m initial_guess\u001b[38;5;241m.\u001b[39mdiv(rhs_norm)\n\u001b[1;32m    185\u001b[0m \u001b[38;5;66;03m# residual: residual_{0} = b_vec - lhs x_{0}\u001b[39;00m\n\u001b[0;32m--> 186\u001b[0m residual \u001b[38;5;241m=\u001b[39m rhs \u001b[38;5;241m-\u001b[39m \u001b[43mmatmul_closure\u001b[49m\u001b[43m(\u001b[49m\u001b[43minitial_guess\u001b[49m\u001b[43m)\u001b[49m\n\u001b[1;32m    187\u001b[0m batch_shape \u001b[38;5;241m=\u001b[39m residual\u001b[38;5;241m.\u001b[39mshape[:\u001b[38;5;241m-\u001b[39m\u001b[38;5;241m2\u001b[39m]\n\u001b[1;32m    189\u001b[0m \u001b[38;5;66;03m# result <- x_{0}\u001b[39;00m\n",
      "File \u001b[0;32m/srv/conda/envs/notebook/lib/python3.10/site-packages/linear_operator/operators/added_diag_linear_operator.py:77\u001b[0m, in \u001b[0;36mAddedDiagLinearOperator._matmul\u001b[0;34m(self, rhs)\u001b[0m\n\u001b[1;32m     73\u001b[0m \u001b[38;5;28;01mdef\u001b[39;00m \u001b[38;5;21m_matmul\u001b[39m(\n\u001b[1;32m     74\u001b[0m     \u001b[38;5;28mself\u001b[39m: Float[LinearOperator, \u001b[38;5;124m\"\u001b[39m\u001b[38;5;124m*batch M N\u001b[39m\u001b[38;5;124m\"\u001b[39m],\n\u001b[1;32m     75\u001b[0m     rhs: Union[Float[torch\u001b[38;5;241m.\u001b[39mTensor, \u001b[38;5;124m\"\u001b[39m\u001b[38;5;124m*batch2 N C\u001b[39m\u001b[38;5;124m\"\u001b[39m], Float[torch\u001b[38;5;241m.\u001b[39mTensor, \u001b[38;5;124m\"\u001b[39m\u001b[38;5;124m*batch2 N\u001b[39m\u001b[38;5;124m\"\u001b[39m]],\n\u001b[1;32m     76\u001b[0m ) \u001b[38;5;241m-\u001b[39m\u001b[38;5;241m>\u001b[39m Union[Float[torch\u001b[38;5;241m.\u001b[39mTensor, \u001b[38;5;124m\"\u001b[39m\u001b[38;5;124m... M C\u001b[39m\u001b[38;5;124m\"\u001b[39m], Float[torch\u001b[38;5;241m.\u001b[39mTensor, \u001b[38;5;124m\"\u001b[39m\u001b[38;5;124m... M\u001b[39m\u001b[38;5;124m\"\u001b[39m]]:\n\u001b[0;32m---> 77\u001b[0m     \u001b[38;5;28;01mreturn\u001b[39;00m torch\u001b[38;5;241m.\u001b[39maddcmul(\u001b[38;5;28;43mself\u001b[39;49m\u001b[38;5;241;43m.\u001b[39;49m\u001b[43m_linear_op\u001b[49m\u001b[38;5;241;43m.\u001b[39;49m\u001b[43m_matmul\u001b[49m\u001b[43m(\u001b[49m\u001b[43mrhs\u001b[49m\u001b[43m)\u001b[49m, \u001b[38;5;28mself\u001b[39m\u001b[38;5;241m.\u001b[39m_diag_tensor\u001b[38;5;241m.\u001b[39m_diag\u001b[38;5;241m.\u001b[39munsqueeze(\u001b[38;5;241m-\u001b[39m\u001b[38;5;241m1\u001b[39m), rhs)\n",
      "File \u001b[0;32m/srv/conda/envs/notebook/lib/python3.10/site-packages/linear_operator/operators/dense_linear_operator.py:65\u001b[0m, in \u001b[0;36mDenseLinearOperator._matmul\u001b[0;34m(self, rhs)\u001b[0m\n\u001b[1;32m     61\u001b[0m \u001b[38;5;28;01mdef\u001b[39;00m \u001b[38;5;21m_matmul\u001b[39m(\n\u001b[1;32m     62\u001b[0m     \u001b[38;5;28mself\u001b[39m: Float[LinearOperator, \u001b[38;5;124m\"\u001b[39m\u001b[38;5;124m*batch M N\u001b[39m\u001b[38;5;124m\"\u001b[39m],\n\u001b[1;32m     63\u001b[0m     rhs: Union[Float[torch\u001b[38;5;241m.\u001b[39mTensor, \u001b[38;5;124m\"\u001b[39m\u001b[38;5;124m*batch2 N C\u001b[39m\u001b[38;5;124m\"\u001b[39m], Float[torch\u001b[38;5;241m.\u001b[39mTensor, \u001b[38;5;124m\"\u001b[39m\u001b[38;5;124m*batch2 N\u001b[39m\u001b[38;5;124m\"\u001b[39m]],\n\u001b[1;32m     64\u001b[0m ) \u001b[38;5;241m-\u001b[39m\u001b[38;5;241m>\u001b[39m Union[Float[torch\u001b[38;5;241m.\u001b[39mTensor, \u001b[38;5;124m\"\u001b[39m\u001b[38;5;124m... M C\u001b[39m\u001b[38;5;124m\"\u001b[39m], Float[torch\u001b[38;5;241m.\u001b[39mTensor, \u001b[38;5;124m\"\u001b[39m\u001b[38;5;124m... M\u001b[39m\u001b[38;5;124m\"\u001b[39m]]:\n\u001b[0;32m---> 65\u001b[0m     \u001b[38;5;28;01mreturn\u001b[39;00m \u001b[43mtorch\u001b[49m\u001b[38;5;241;43m.\u001b[39;49m\u001b[43mmatmul\u001b[49m\u001b[43m(\u001b[49m\u001b[38;5;28;43mself\u001b[39;49m\u001b[38;5;241;43m.\u001b[39;49m\u001b[43mtensor\u001b[49m\u001b[43m,\u001b[49m\u001b[43m \u001b[49m\u001b[43mrhs\u001b[49m\u001b[43m)\u001b[49m\n",
      "\u001b[0;31mRuntimeError\u001b[0m: expected m1 and m2 to have the same dtype, but got: double != float"
     ]
    }
   ],
   "source": [
    "with gpytorch.settings.fast_pred_var():\n",
    "    #predictions = model(test_scg_xy.double())\n",
    "    predictions = model(test_scg_xy)"
   ]
  },
  {
   "cell_type": "code",
   "execution_count": 36,
   "id": "6b98928b-e943-4e38-8025-195960c13d23",
   "metadata": {
    "tags": []
   },
   "outputs": [
    {
     "data": {
      "image/png": "[encoded data removed]",
      "text/plain": [
       "<Figure size 640x480 with 3 Axes>"
      ]
     },
     "metadata": {},
     "output_type": "display_data"
    }
   ],
   "source": [
    "fig, axs = plt.subplots(ncols = 3)\n",
    "\n",
    "axs[0].imshow(scg_z_np)\n",
    "axs[0].set_title('all')\n",
    "\n",
    "axs[1].imshow(scg_z_np_train)\n",
    "axs[1].set_title('train')\n",
    "\n",
    "axs[2].imshow(scg_z_np_test)\n",
    "axs[2].set_title('test');"
   ]
  },
  {
   "cell_type": "code",
   "execution_count": 37,
   "id": "ce622196-db12-42fb-a8c9-986a1a9003f2",
   "metadata": {
    "tags": []
   },
   "outputs": [
    {
     "data": {
      "text/plain": [
       "ExactMarginalLogLikelihood(\n",
       "  (likelihood): GaussianLikelihood(\n",
       "    (noise_covar): HomoskedasticNoise(\n",
       "      (raw_noise_constraint): GreaterThan(1.000E-04)\n",
       "    )\n",
       "  )\n",
       "  (model): GP(\n",
       "    (likelihood): GaussianLikelihood(\n",
       "      (noise_covar): HomoskedasticNoise(\n",
       "        (raw_noise_constraint): GreaterThan(1.000E-04)\n",
       "      )\n",
       "    )\n",
       "    (mean_module): ConstantMean()\n",
       "    (covar_module): ScaleKernel(\n",
       "      (base_kernel): MaternKernel(\n",
       "        (raw_lengthscale_constraint): Positive()\n",
       "      )\n",
       "      (raw_outputscale_constraint): Positive()\n",
       "    )\n",
       "  )\n",
       ")"
      ]
     },
     "execution_count": 37,
     "metadata": {},
     "output_type": "execute_result"
    }
   ],
   "source": [
    "mll"
   ]
  },
  {
   "cell_type": "markdown",
   "id": "6d0ce5cc-22b6-4585-94f6-919ab6d94f6b",
   "metadata": {
    "user_expressions": []
   },
   "source": [
    "## scratch stuff -- recreating example in gh issue"
   ]
  },
  {
   "cell_type": "code",
   "execution_count": null,
   "id": "a1bbb8b1-7273-46d6-80ba-364062ccde79",
   "metadata": {
    "tags": []
   },
   "outputs": [],
   "source": [
    "# data setup example\n",
    "\n",
    "L = [i for i in range(20)]\n",
    "A = [i for i in range(5)]\n",
    "T = [i for i in range(30)]"
   ]
  },
  {
   "cell_type": "code",
   "execution_count": 24,
   "id": "40faf3f6-e0cc-4036-a4c0-7842c05e21b6",
   "metadata": {
    "tags": []
   },
   "outputs": [
    {
     "data": {
      "text/plain": [
       "[0, 1, 2, 3, 4, 5, 6, 7, 8, 9, 10, 11, 12, 13, 14, 15, 16, 17, 18, 19]"
      ]
     },
     "execution_count": 24,
     "metadata": {},
     "output_type": "execute_result"
    }
   ],
   "source": [
    "L"
   ]
  },
  {
   "cell_type": "code",
   "execution_count": 7,
   "id": "b5b6fe4d-b24b-48d9-96d3-18d2b20496c0",
   "metadata": {
    "tags": []
   },
   "outputs": [],
   "source": [
    "def cartesian(*arrays):\n",
    "    mesh = np.meshgrid(*arrays) \n",
    "    dim = len(mesh)\n",
    "    elements = mesh[0].size\n",
    "    flat = np.concatenate(mesh).ravel() #flatten mesh grid\n",
    "    reshape = np.reshape(flat, (dim, elements)).T \n",
    "    return reshape"
   ]
  },
  {
   "cell_type": "code",
   "execution_count": 8,
   "id": "dc30f465-6b0c-4129-a76b-3ace1c6340ca",
   "metadata": {
    "tags": []
   },
   "outputs": [],
   "source": [
    "def cartesian(*arrays):\n",
    "    mesh = np.meshgrid(*arrays) \n",
    "    dim = len(mesh)\n",
    "    elements = mesh[0].size\n",
    "    flat = np.concatenate(mesh).ravel() #flatten mesh grid\n",
    "    reshape = np.reshape(flat, (dim, elements)).T \n",
    "    return reshape\n",
    "def prep_data(name_list, *arrays):\n",
    "    cartprod = cartesian(*arrays)\n",
    "    dout = pd.DataFrame(cartprod)\n",
    "    dout.columns = name_list\n",
    "    return dout"
   ]
  },
  {
   "cell_type": "code",
   "execution_count": 11,
   "id": "ab4f5592-7ab3-4a52-8fee-cfd90455df64",
   "metadata": {
    "tags": []
   },
   "outputs": [],
   "source": [
    "dtt = prep_data(['L','A','T'], L,A,T)"
   ]
  },
  {
   "cell_type": "code",
   "execution_count": 25,
   "id": "34c92e71-7c6f-4425-8967-0173bdfee798",
   "metadata": {
    "tags": []
   },
   "outputs": [
    {
     "data": {
      "text/html": [
       "<div>\n",
       "<style scoped>\n",
       "    .dataframe tbody tr th:only-of-type {\n",
       "        vertical-align: middle;\n",
       "    }\n",
       "\n",
       "    .dataframe tbody tr th {\n",
       "        vertical-align: top;\n",
       "    }\n",
       "\n",
       "    .dataframe thead th {\n",
       "        text-align: right;\n",
       "    }\n",
       "</style>\n",
       "<table border=\"1\" class=\"dataframe\">\n",
       "  <thead>\n",
       "    <tr style=\"text-align: right;\">\n",
       "      <th></th>\n",
       "      <th>L</th>\n",
       "      <th>A</th>\n",
       "      <th>T</th>\n",
       "      <th>x1</th>\n",
       "      <th>x2</th>\n",
       "      <th>y</th>\n",
       "    </tr>\n",
       "  </thead>\n",
       "  <tbody>\n",
       "    <tr>\n",
       "      <th>0</th>\n",
       "      <td>0</td>\n",
       "      <td>0</td>\n",
       "      <td>0</td>\n",
       "      <td>0.912498</td>\n",
       "      <td>0.815313</td>\n",
       "      <td>0.900489</td>\n",
       "    </tr>\n",
       "    <tr>\n",
       "      <th>1</th>\n",
       "      <td>0</td>\n",
       "      <td>0</td>\n",
       "      <td>1</td>\n",
       "      <td>0.019954</td>\n",
       "      <td>0.787148</td>\n",
       "      <td>0.416830</td>\n",
       "    </tr>\n",
       "    <tr>\n",
       "      <th>2</th>\n",
       "      <td>0</td>\n",
       "      <td>0</td>\n",
       "      <td>2</td>\n",
       "      <td>0.848768</td>\n",
       "      <td>0.158743</td>\n",
       "      <td>0.864775</td>\n",
       "    </tr>\n",
       "    <tr>\n",
       "      <th>3</th>\n",
       "      <td>0</td>\n",
       "      <td>0</td>\n",
       "      <td>3</td>\n",
       "      <td>0.714632</td>\n",
       "      <td>0.907067</td>\n",
       "      <td>0.562938</td>\n",
       "    </tr>\n",
       "    <tr>\n",
       "      <th>4</th>\n",
       "      <td>0</td>\n",
       "      <td>0</td>\n",
       "      <td>4</td>\n",
       "      <td>0.427587</td>\n",
       "      <td>0.267526</td>\n",
       "      <td>0.484298</td>\n",
       "    </tr>\n",
       "    <tr>\n",
       "      <th>...</th>\n",
       "      <td>...</td>\n",
       "      <td>...</td>\n",
       "      <td>...</td>\n",
       "      <td>...</td>\n",
       "      <td>...</td>\n",
       "      <td>...</td>\n",
       "    </tr>\n",
       "    <tr>\n",
       "      <th>2995</th>\n",
       "      <td>19</td>\n",
       "      <td>4</td>\n",
       "      <td>25</td>\n",
       "      <td>0.352169</td>\n",
       "      <td>0.420273</td>\n",
       "      <td>0.479850</td>\n",
       "    </tr>\n",
       "    <tr>\n",
       "      <th>2996</th>\n",
       "      <td>19</td>\n",
       "      <td>4</td>\n",
       "      <td>26</td>\n",
       "      <td>0.438640</td>\n",
       "      <td>0.282048</td>\n",
       "      <td>0.283001</td>\n",
       "    </tr>\n",
       "    <tr>\n",
       "      <th>2997</th>\n",
       "      <td>19</td>\n",
       "      <td>4</td>\n",
       "      <td>27</td>\n",
       "      <td>0.712919</td>\n",
       "      <td>0.437210</td>\n",
       "      <td>0.363307</td>\n",
       "    </tr>\n",
       "    <tr>\n",
       "      <th>2998</th>\n",
       "      <td>19</td>\n",
       "      <td>4</td>\n",
       "      <td>28</td>\n",
       "      <td>0.839065</td>\n",
       "      <td>0.659513</td>\n",
       "      <td>0.772225</td>\n",
       "    </tr>\n",
       "    <tr>\n",
       "      <th>2999</th>\n",
       "      <td>19</td>\n",
       "      <td>4</td>\n",
       "      <td>29</td>\n",
       "      <td>0.380232</td>\n",
       "      <td>0.250534</td>\n",
       "      <td>0.213230</td>\n",
       "    </tr>\n",
       "  </tbody>\n",
       "</table>\n",
       "<p>3000 rows × 6 columns</p>\n",
       "</div>"
      ],
      "text/plain": [
       "       L  A   T        x1        x2         y\n",
       "0      0  0   0  0.912498  0.815313  0.900489\n",
       "1      0  0   1  0.019954  0.787148  0.416830\n",
       "2      0  0   2  0.848768  0.158743  0.864775\n",
       "3      0  0   3  0.714632  0.907067  0.562938\n",
       "4      0  0   4  0.427587  0.267526  0.484298\n",
       "...   .. ..  ..       ...       ...       ...\n",
       "2995  19  4  25  0.352169  0.420273  0.479850\n",
       "2996  19  4  26  0.438640  0.282048  0.283001\n",
       "2997  19  4  27  0.712919  0.437210  0.363307\n",
       "2998  19  4  28  0.839065  0.659513  0.772225\n",
       "2999  19  4  29  0.380232  0.250534  0.213230\n",
       "\n",
       "[3000 rows x 6 columns]"
      ]
     },
     "execution_count": 25,
     "metadata": {},
     "output_type": "execute_result"
    }
   ],
   "source": [
    "dtt"
   ]
  },
  {
   "cell_type": "code",
   "execution_count": 12,
   "id": "6b75142e-c592-4266-8399-af924cd9fc9a",
   "metadata": {
    "tags": []
   },
   "outputs": [],
   "source": [
    "#simulate random values\n",
    "beta_x1 = 0.4\n",
    "beta_x2 = 0.3\n",
    "LL_noise = 0.25"
   ]
  },
  {
   "cell_type": "code",
   "execution_count": 13,
   "id": "ae145bdc-f2a0-4d06-87ec-d6e4f853f80a",
   "metadata": {
    "tags": []
   },
   "outputs": [],
   "source": [
    "dtt['x1'] = np.random.uniform(size=dtt.shape[0])\n",
    "dtt['x2'] = np.random.uniform(size=dtt.shape[0])\n",
    "dtt['y'] = beta_x1*dtt['x1'] + beta_x2*dtt['x2'] + np.random.normal(scale=LL_noise, size = dtt.shape[0])"
   ]
  },
  {
   "cell_type": "code",
   "execution_count": 17,
   "id": "683572b6-0bd3-4e84-bc64-de6be7975be3",
   "metadata": {
    "tags": []
   },
   "outputs": [],
   "source": [
    "train_x = torch.from_numpy(dtt[['x1','x2','L','A','T']].values.astype(np.double)).to(torch.float)\n",
    "train_y = torch.from_numpy(dtt[['y']].values[:,0].astype(np.double)).to(torch.float)\n",
    "test_x = torch.from_numpy(dtt[['x1','x2','L','A','T']].values.astype(np.double)).to(torch.float)"
   ]
  },
  {
   "cell_type": "code",
   "execution_count": 19,
   "id": "c710159e-464e-4c9a-8fdc-9df635dccace",
   "metadata": {
    "tags": []
   },
   "outputs": [
    {
     "data": {
      "text/plain": [
       "torch.Size([3000, 5])"
      ]
     },
     "execution_count": 19,
     "metadata": {},
     "output_type": "execute_result"
    }
   ],
   "source": [
    "train_x.shape"
   ]
  },
  {
   "cell_type": "code",
   "execution_count": 21,
   "id": "2254adf5-7e43-4d88-bee7-163da91f9fe0",
   "metadata": {
    "tags": []
   },
   "outputs": [
    {
     "data": {
      "text/plain": [
       "torch.Size([3000])"
      ]
     },
     "execution_count": 21,
     "metadata": {},
     "output_type": "execute_result"
    }
   ],
   "source": [
    "train_y.shape"
   ]
  },
  {
   "cell_type": "code",
   "execution_count": 23,
   "id": "11ca941b-267d-479d-8461-fb741c10c608",
   "metadata": {
    "tags": []
   },
   "outputs": [
    {
     "data": {
      "text/plain": [
       "torch.Size([3000, 5])"
      ]
     },
     "execution_count": 23,
     "metadata": {},
     "output_type": "execute_result"
    }
   ],
   "source": [
    "test_x.shape"
   ]
  },
  {
   "cell_type": "code",
   "execution_count": 224,
   "id": "15c28648-b820-4a63-b0a8-b391ba985169",
   "metadata": {},
   "outputs": [],
   "source": [
    "class Kernel(gpytorch.kernels.Kernel):\n",
    "    def __init__(self):\n",
    "        super(Kernel, self).__init__()\n",
    "        self.matern_kernel = gpytorch.kernels.ScaleKernel(gpytorch.kernels.MaternKernel(nu=3/2), num_dims=3, active_dims=[0,1,2])\n",
    "        self.periodic_kernel = gpytorch.kernels.PeriodicKernel(num_dims=3, active_dims=[0])\n",
    "        #self.noise_kernel = gpytorch.kernels.WhiteNoiseKernel()\n",
    "    def forward(self, x1, x2, **params):\n",
    "        #    cov = kernel.forward(X, X).evaluate().detach().numpy()[0, :, :] <--- need to specify dims for each kernel doign something like this\n",
    "        # from https://github.com/cornellius-gp/gpytorch/issues/526               but where forward called on kernel ? \n",
    "        matern_term = self.matern_kernel(x1, x2, **params)\n",
    "        periodic_term = self.periodic_kernel(x1, x2, **params)\n",
    "        return matern_term + periodic_term + WhiteNoiseKernel()"
   ]
  },
  {
   "cell_type": "code",
   "execution_count": 225,
   "id": "5d93c57a-7d77-4d88-af53-58ec7bc5d2cb",
   "metadata": {},
   "outputs": [],
   "source": [
    "test_kernel = Kernel()"
   ]
  },
  {
   "cell_type": "code",
   "execution_count": 226,
   "id": "a7743bb3-65d5-47db-b90a-002eaf0c545d",
   "metadata": {},
   "outputs": [
    {
     "data": {
      "text/plain": [
       "Kernel(\n",
       "  (matern_kernel): ScaleKernel(\n",
       "    (base_kernel): MaternKernel(\n",
       "      (raw_lengthscale_constraint): Positive()\n",
       "    )\n",
       "    (raw_outputscale_constraint): Positive()\n",
       "  )\n",
       "  (periodic_kernel): PeriodicKernel(\n",
       "    (raw_lengthscale_constraint): Positive()\n",
       "    (raw_period_length_constraint): Positive()\n",
       "  )\n",
       ")"
      ]
     },
     "execution_count": 226,
     "metadata": {},
     "output_type": "execute_result"
    }
   ],
   "source": [
    "test_kernel"
   ]
  },
  {
   "cell_type": "code",
   "execution_count": 57,
   "id": "b9d8c027-ee2c-45e3-ba3f-61d3abb6ed75",
   "metadata": {
    "tags": []
   },
   "outputs": [],
   "source": [
    "class Kernel(gpytorch.kernels.Kernel):\n",
    "    def __init__(self):\n",
    "        super(Kernel, self).__init__()\n",
    "        self.matern_kernel = gpytorch.kernels.ScaleKernel(gpytorch.kernels.MaternKernel(nu=3/2), num_dims=3, active_dims=[0,1,2])\n",
    "        self.periodic_kernel = gpytorch.kernels.PeriodicKernel(num_dims=3, active_dims=[0])\n",
    "        #self.noise_kernel = gpytorch.kernels.WhiteNoiseKernel()\n",
    "    def forward(self, x1, x2, **params):\n",
    "        #    cov = kernel.forward(X, X).evaluate().detach().numpy()[0, :, :] <--- need to specify dims for each kernel doign something like this\n",
    "        # from https://github.com/cornellius-gp/gpytorch/issues/526               but where forward called on kernel ? \n",
    "        matern_term = self.matern_kernel(x1, x2, **params)\n",
    "        periodic_term = self.periodic_kernel(x1, x2, **params)\n",
    "        return matern_term + periodic_term + WhiteNoiseKernel()\n",
    "\n",
    "test_kernel = Kernel()\n",
    "\n",
    "class GP(gpytorch.models.ExactGP):\n",
    "    def __init__(self, x_train, y_train, time_train, likelihood):\n",
    "        super(GP, self).__init__(x_train, y_train, likelihood)\n",
    "        self.mean = gpytorch.means.ConstantMean()\n",
    "        self.cov_time = test_kernel#.forward(x,x).evaluate().detach().numpy()[0,:,:]\n",
    "        #then do something like the above for each dim ? \n",
    "        #self.cov.initialize_from_data(x_train, y_train)\n",
    "        \n",
    "    def forward(self, x1, x2):\n",
    "        # Evaluate the mean and kernel function at x\n",
    "        mean_x = self.mean(x)\n",
    "        cov_x = self.cov(x)\n",
    "        # Return the multivariate normal distribution using the evaluated mean and kernel function\n",
    "        return gpytorch.distributions.MultivariateNormal(mean_x, cov_x) \n"
   ]
  },
  {
   "cell_type": "code",
   "execution_count": 58,
   "id": "3e1d60ab-a4fe-4e14-9a45-3b2234691a19",
   "metadata": {
    "tags": []
   },
   "outputs": [],
   "source": [
    "#x_tensor, y_tensor_time_tensor"
   ]
  },
  {
   "cell_type": "code",
   "execution_count": 59,
   "id": "48722e70-fadb-43af-b9ef-416d3bc6fc59",
   "metadata": {
    "tags": []
   },
   "outputs": [
    {
     "ename": "NameError",
     "evalue": "name 'x_tensor' is not defined",
     "output_type": "error",
     "traceback": [
      "\u001b[0;31m---------------------------------------------------------------------------\u001b[0m",
      "\u001b[0;31mNameError\u001b[0m                                 Traceback (most recent call last)",
      "Cell \u001b[0;32mIn [59], line 3\u001b[0m\n\u001b[1;32m      1\u001b[0m likelihood \u001b[38;5;241m=\u001b[39m gpytorch\u001b[38;5;241m.\u001b[39mlikelihoods\u001b[38;5;241m.\u001b[39mGaussianLikelihood()\n\u001b[0;32m----> 3\u001b[0m model \u001b[38;5;241m=\u001b[39m GP(\u001b[43mx_tensor\u001b[49m, y_tensor, time_tensor, likelihood)\n",
      "\u001b[0;31mNameError\u001b[0m: name 'x_tensor' is not defined"
     ]
    }
   ],
   "source": [
    "likelihood = gpytorch.likelihoods.GaussianLikelihood()\n",
    "\n",
    "model = GP(x_tensor, y_tensor, time_tensor, likelihood)"
   ]
  },
  {
   "cell_type": "code",
   "execution_count": 229,
   "id": "414ab9fb-98fd-47bb-a722-0d580820da2c",
   "metadata": {},
   "outputs": [
    {
     "data": {
      "text/plain": [
       "GaussianLikelihood(\n",
       "  (noise_covar): HomoskedasticNoise(\n",
       "    (raw_noise_constraint): GreaterThan(1.000E-04)\n",
       "  )\n",
       ")"
      ]
     },
     "execution_count": 229,
     "metadata": {},
     "output_type": "execute_result"
    }
   ],
   "source": [
    "model.train()\n",
    "likelihood.train()"
   ]
  },
  {
   "cell_type": "code",
   "execution_count": 203,
   "id": "ef8bd13f-d5b9-487c-9392-5dee62269873",
   "metadata": {},
   "outputs": [],
   "source": [
    "optimizer = torch.optim.Adam(model.parameters(), lr=0.1)\n",
    "mll = gpytorch.mlls.ExactMarginalLogLikelihood(likelihood, model)\n"
   ]
  },
  {
   "cell_type": "code",
   "execution_count": 211,
   "id": "7b14613f-d3a7-4109-8ebf-9d33afcfa317",
   "metadata": {},
   "outputs": [
    {
     "data": {
      "text/plain": [
       "ExactMarginalLogLikelihood(\n",
       "  (likelihood): GaussianLikelihood(\n",
       "    (noise_covar): HomoskedasticNoise(\n",
       "      (raw_noise_constraint): GreaterThan(1.000E-04)\n",
       "    )\n",
       "  )\n",
       "  (model): GP(\n",
       "    (likelihood): GaussianLikelihood(\n",
       "      (noise_covar): HomoskedasticNoise(\n",
       "        (raw_noise_constraint): GreaterThan(1.000E-04)\n",
       "      )\n",
       "    )\n",
       "    (mean): ConstantMean()\n",
       "    (cov): Kernel(\n",
       "      (matern_kernel): ScaleKernel(\n",
       "        (base_kernel): MaternKernel(\n",
       "          (raw_lengthscale_constraint): Positive()\n",
       "        )\n",
       "        (raw_outputscale_constraint): Positive()\n",
       "      )\n",
       "      (periodic_kernel): PeriodicKernel(\n",
       "        (raw_lengthscale_constraint): Positive()\n",
       "        (raw_period_length_constraint): Positive()\n",
       "      )\n",
       "    )\n",
       "  )\n",
       ")"
      ]
     },
     "execution_count": 211,
     "metadata": {},
     "output_type": "execute_result"
    }
   ],
   "source": [
    "mll"
   ]
  }
 ],
 "metadata": {
  "kernelspec": {
   "display_name": "Python 3 (ipykernel)",
   "language": "python",
   "name": "python3"
  },
  "language_info": {
   "codemirror_mode": {
    "name": "ipython",
    "version": 3
   },
   "file_extension": ".py",
   "mimetype": "text/x-python",
   "name": "python",
   "nbconvert_exporter": "python",
   "pygments_lexer": "ipython3",
   "version": "3.10.12"
  }
 },
 "nbformat": 4,
 "nbformat_minor": 5
}
